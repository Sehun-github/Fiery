{
 "cells": [
  {
   "cell_type": "markdown",
   "id": "a68c9f7f",
   "metadata": {},
   "source": [
    "## RMSE & RMSLE\n",
    "\n",
    "- y_true : 배열 타입의 실제 값 리스트\n",
    "- y_pred : 배열 타입의 예측 값 리스트\n",
    "- squared : True는 MSE값, False는 RMSE 값을 출력"
   ]
  },
  {
   "cell_type": "code",
   "execution_count": 1,
   "id": "27149370",
   "metadata": {},
   "outputs": [
    {
     "name": "stdout",
     "output_type": "stream",
     "text": [
      "RMSE: 2.7386127875258306\n",
      "RMSLE: 0.008261375323544864\n",
      "RMSE: 28.062430400804562\n",
      "RMSLE: 0.16949601399075181\n"
     ]
    }
   ],
   "source": [
    "from sklearn.metrics import mean_squared_error\n",
    "from sklearn.metrics import mean_squared_log_error\n",
    "\n",
    "y_pred = [11,22,33,44]\n",
    "y_true = [10,20,30,40]\n",
    "\n",
    "print(\"RMSE:\",mean_squared_error(y_true, y_pred, squared=False))\n",
    "print(\"RMSLE:\",mean_squared_log_error(y_true, y_pred))\n",
    "\n",
    "y_pred = [11,22,33,44]\n",
    "y_true = [10,20,30,100]\n",
    "\n",
    "print(\"RMSE:\",mean_squared_error(y_true, y_pred, squared=False))\n",
    "print(\"RMSLE:\",mean_squared_log_error(y_true, y_pred))"
   ]
  },
  {
   "cell_type": "markdown",
   "id": "44ba611a",
   "metadata": {},
   "source": [
    "#### RMSLE는 상대적 에러 폭을 보여주는 데에 있어서 RMSE보다 강점이 있음"
   ]
  },
  {
   "cell_type": "code",
   "execution_count": 2,
   "id": "f3543586",
   "metadata": {},
   "outputs": [
    {
     "name": "stdout",
     "output_type": "stream",
     "text": [
      "RMSE: 10.0\n",
      "RMSLE: 0.008913188521927795\n",
      "RMSE: 1000.0\n",
      "RMSLE: 0.009082297709999767\n"
     ]
    }
   ],
   "source": [
    "y_pred = [110]\n",
    "y_true = [100]\n",
    "\n",
    "print(\"RMSE:\",mean_squared_error(y_true, y_pred, squared=False))\n",
    "print(\"RMSLE:\",mean_squared_log_error(y_true, y_pred))\n",
    "\n",
    "y_pred = [11000]\n",
    "y_true = [10000]\n",
    "\n",
    "print(\"RMSE:\",mean_squared_error(y_true, y_pred, squared=False))\n",
    "print(\"RMSLE:\",mean_squared_log_error(y_true, y_pred))"
   ]
  },
  {
   "cell_type": "markdown",
   "id": "1593f612",
   "metadata": {},
   "source": [
    "#### RMSLE는 예측 값이 실제 값보다 클 때보다, 예측 값이 실제 값보다 작을 때 더 큰 페널티를 부여"
   ]
  },
  {
   "cell_type": "code",
   "execution_count": 3,
   "id": "e49bcc87",
   "metadata": {},
   "outputs": [
    {
     "name": "stdout",
     "output_type": "stream",
     "text": [
      "RMSE: 200.0\n",
      "RMSLE: 0.04968166045369171\n",
      "RMSE: 200.0\n",
      "RMSLE: 0.03318045960463269\n"
     ]
    }
   ],
   "source": [
    "y_pred = [800]\n",
    "y_true = [1000]\n",
    "\n",
    "print(\"RMSE:\",mean_squared_error(y_true, y_pred, squared=False))\n",
    "print(\"RMSLE:\",mean_squared_log_error(y_true, y_pred))\n",
    "\n",
    "y_pred = [1200]\n",
    "y_true = [1000]\n",
    "\n",
    "print(\"RMSE:\",mean_squared_error(y_true, y_pred, squared=False))\n",
    "print(\"RMSLE:\",mean_squared_log_error(y_true, y_pred))"
   ]
  },
  {
   "cell_type": "code",
   "execution_count": null,
   "id": "775d8ad9",
   "metadata": {},
   "outputs": [],
   "source": []
  }
 ],
 "metadata": {
  "kernelspec": {
   "display_name": "Python 3 (ipykernel)",
   "language": "python",
   "name": "python3"
  },
  "language_info": {
   "codemirror_mode": {
    "name": "ipython",
    "version": 3
   },
   "file_extension": ".py",
   "mimetype": "text/x-python",
   "name": "python",
   "nbconvert_exporter": "python",
   "pygments_lexer": "ipython3",
   "version": "3.10.9"
  }
 },
 "nbformat": 4,
 "nbformat_minor": 5
}
