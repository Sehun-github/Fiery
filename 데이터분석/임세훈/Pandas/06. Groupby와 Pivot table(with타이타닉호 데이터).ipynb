{
 "cells": [
  {
   "cell_type": "code",
   "execution_count": 75,
   "id": "a48d48a8",
   "metadata": {},
   "outputs": [
    {
     "name": "stdout",
     "output_type": "stream",
     "text": [
      "WORLD\n",
      "HELLO\n"
     ]
    }
   ],
   "source": [
    "# [3차] 방금그곡 - 90점\n",
    "def solution(m, musicinfos):\n",
    "    start_time,end_time = 0,0\n",
    "    \n",
    "    m = m.replace('C#','c').replace('D#','d').replace('F#','f').replace('G#','g').replace('A#','a')\n",
    "    \n",
    "    \n",
    "    for music in musicinfos:\n",
    "        start_time = int(music.split(',')[0].split(':')[0])*60 + int(music.split(',')[0].split(':')[1])\n",
    "        end_time = int(music.split(',')[1].split(':')[0])*60 + int(music.split(',')[1].split(':')[1])   \n",
    "        time = end_time - start_time\n",
    "        \n",
    "        muisc_code = music.split(',')[3].replace('C#','c').replace('D#','d').replace('F#','f').replace('G#','g').replace('A#','a')\n",
    "        a = time // len(muisc_code)\n",
    "        b = time % len(muisc_code)\n",
    "        muisc_code = muisc_code*a + muisc_code[:b]\n",
    "        \n",
    "        if m in muisc_code:\n",
    "            return music.split(',')[2]\n",
    "    return '(None)'\n",
    "\n",
    "aa = \"ABC\"\n",
    "bb= [\"12:00,12:14,HELLO,C#DEFGAB\", \"13:00,13:05,WORLD,ABCDEF\"]\n",
    "print(solution(aa,bb))\n",
    "\n",
    "\n",
    "## 음악이 여러개일경우 재생된 시간이 제일 긴 음악 제목을 반환 조건을 안넣었음\n",
    "def solution(m, musicinfos):\n",
    "    start_time,end_time = 0,0\n",
    "    \n",
    "    m = m.replace('C#','c').replace('D#','d').replace('F#','f').replace('G#','g').replace('A#','a')\n",
    "    \n",
    "    music_list = []\n",
    "    for music in musicinfos:\n",
    "        start_time = int(music.split(',')[0].split(':')[0])*60 + int(music.split(',')[0].split(':')[1])\n",
    "        end_time = int(music.split(',')[1].split(':')[0])*60 + int(music.split(',')[1].split(':')[1])   \n",
    "        time = end_time - start_time\n",
    "        \n",
    "        muisc_code = music.split(',')[3].replace('C#','c').replace('D#','d').replace('F#','f').replace('G#','g').replace('A#','a')\n",
    "        a = time // len(muisc_code)\n",
    "        b = time % len(muisc_code)\n",
    "        muisc_code = muisc_code*a + muisc_code[:b]\n",
    "        \n",
    "        if m in muisc_code:\n",
    "            music_list.append([music.split(',')[2],time])\n",
    "    \n",
    "    if len(music_list) == 0:\n",
    "        return '(None)'\n",
    "    else:\n",
    "        music_list.sort(reverse=True,key=lambda x:x[1])\n",
    "        return music_list[0][0]\n",
    "\n",
    "aa = \"ABC\"\n",
    "bb= [\"12:00,12:14,HELLO,CDEFGAB\", \"13:00,13:05,WORLD,ABCDEF\"]\n",
    "print(solution(aa,bb))"
   ]
  }
 ],
 "metadata": {
  "kernelspec": {
   "display_name": "Python 3 (ipykernel)",
   "language": "python",
   "name": "python3"
  },
  "language_info": {
   "codemirror_mode": {
    "name": "ipython",
    "version": 3
   },
   "file_extension": ".py",
   "mimetype": "text/x-python",
   "name": "python",
   "nbconvert_exporter": "python",
   "pygments_lexer": "ipython3",
   "version": "3.9.13"
  },
  "toc": {
   "base_numbering": 1,
   "nav_menu": {},
   "number_sections": true,
   "sideBar": true,
   "skip_h1_title": false,
   "title_cell": "Table of Contents",
   "title_sidebar": "Contents",
   "toc_cell": false,
   "toc_position": {},
   "toc_section_display": true,
   "toc_window_display": false
  }
 },
 "nbformat": 4,
 "nbformat_minor": 5
}
