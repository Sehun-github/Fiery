{
 "cells": [
  {
   "cell_type": "markdown",
   "id": "ebf24d33",
   "metadata": {},
   "source": [
    "# 머신러닝: 회귀모델의 주요성능평가지표"
   ]
  },
  {
   "cell_type": "markdown",
   "id": "1926e223",
   "metadata": {},
   "source": [
    "## RMSE와 RMSLE"
   ]
  },
  {
   "cell_type": "markdown",
   "id": "5b6ddf2b",
   "metadata": {},
   "source": [
    "### 1. RMSLE와 달리, RMSE는 예측값등의 특잇값이 있을경우, 값의 변동폭이 보다 큼\n",
    "       예측값(y_pred)과 실제값(y_true)값을 가꿔가며 RMSE와 RMSLE 값을 테스트해 이해해봄\n",
    "       sklearn의 mean_squared_error\n",
    "       - y_true: 배열타입의 실제 값 리스트\n",
    "       - y_pred: 배열 타입의 예측 값 리스트\n",
    "       - squared: True는 MSE값, False는 RMSE값을 출력"
   ]
  },
  {
   "cell_type": "code",
   "execution_count": 1,
   "id": "71921a6a",
   "metadata": {},
   "outputs": [],
   "source": [
    "from sklearn.metrics import mean_squared_error\n",
    "from sklearn.metrics import mean_squared_log_error"
   ]
  },
  {
   "cell_type": "code",
   "execution_count": 2,
   "id": "5188d0db",
   "metadata": {},
   "outputs": [],
   "source": [
    "y_pred = [11,22,33,44]\n",
    "y_true = [10,20,30,40]"
   ]
  },
  {
   "cell_type": "code",
   "execution_count": 3,
   "id": "d6aeb1e1",
   "metadata": {},
   "outputs": [
    {
     "name": "stdout",
     "output_type": "stream",
     "text": [
      "RMSE: 2.7386127875258306\n",
      "RMSLE: 0.008261375323544864\n"
     ]
    }
   ],
   "source": [
    "print(\"RMSE:\", mean_squared_error(y_true, y_pred, squared = False))\n",
    "print(\"RMSLE:\", mean_squared_log_error(y_true, y_pred))"
   ]
  },
  {
   "cell_type": "code",
   "execution_count": 4,
   "id": "cda5d99d",
   "metadata": {},
   "outputs": [],
   "source": [
    "y_pred = [11,22,33,44]\n",
    "y_true = [10,20,30,100]"
   ]
  },
  {
   "cell_type": "code",
   "execution_count": 5,
   "id": "49b47b32",
   "metadata": {},
   "outputs": [
    {
     "name": "stdout",
     "output_type": "stream",
     "text": [
      "RMSE: 28.062430400804562\n",
      "RMSLE: 0.16949601399075181\n"
     ]
    }
   ],
   "source": [
    "print(\"RMSE:\", mean_squared_error(y_true, y_pred, squared = False))\n",
    "print(\"RMSLE:\", mean_squared_log_error(y_true, y_pred))"
   ]
  },
  {
   "cell_type": "code",
   "execution_count": null,
   "id": "9694adbe",
   "metadata": {},
   "outputs": [],
   "source": [
    "### 2. RMSLE는 상대적인 에러 폭을 보여주는데 있어서 RMSE보다 강점이 있음"
   ]
  },
  {
   "cell_type": "code",
   "execution_count": 6,
   "id": "9b2bcbcc",
   "metadata": {},
   "outputs": [],
   "source": [
    "y_pred = [110]\n",
    "y_true = [100]"
   ]
  },
  {
   "cell_type": "code",
   "execution_count": 7,
   "id": "ed039a03",
   "metadata": {},
   "outputs": [
    {
     "name": "stdout",
     "output_type": "stream",
     "text": [
      "RMSE: 10.0\n",
      "RMSLE: 0.008913188521927795\n"
     ]
    }
   ],
   "source": [
    "print(\"RMSE:\", mean_squared_error(y_true, y_pred, squared = False))\n",
    "print(\"RMSLE:\", mean_squared_log_error(y_true, y_pred))"
   ]
  },
  {
   "cell_type": "code",
   "execution_count": 8,
   "id": "613e439e",
   "metadata": {},
   "outputs": [],
   "source": [
    "y_pred = [11000]\n",
    "y_true = [10000]"
   ]
  },
  {
   "cell_type": "code",
   "execution_count": 9,
   "id": "55e36d68",
   "metadata": {},
   "outputs": [
    {
     "name": "stdout",
     "output_type": "stream",
     "text": [
      "RMSE: 1000.0\n",
      "RMSLE: 0.009082297709999767\n"
     ]
    }
   ],
   "source": [
    "print(\"RMSE:\", mean_squared_error(y_true, y_pred, squared = False))\n",
    "print(\"RMSLE:\", mean_squared_log_error(y_true, y_pred))"
   ]
  },
  {
   "cell_type": "code",
   "execution_count": null,
   "id": "4f765b43",
   "metadata": {},
   "outputs": [],
   "source": [
    "### 3. RMSLE는 예측값이 실제값보다 클때보다, 예측값이 실제값보다 작을때 더 큰 패널티를 부여함"
   ]
  },
  {
   "cell_type": "code",
   "execution_count": 10,
   "id": "7e765d60",
   "metadata": {},
   "outputs": [],
   "source": [
    "y_pred = [800]\n",
    "y_true = [1000]"
   ]
  },
  {
   "cell_type": "code",
   "execution_count": 11,
   "id": "9f3b0174",
   "metadata": {},
   "outputs": [
    {
     "name": "stdout",
     "output_type": "stream",
     "text": [
      "RMSE: 200.0\n",
      "RMSLE: 0.04968166045369171\n"
     ]
    }
   ],
   "source": [
    "print(\"RMSE:\", mean_squared_error(y_true, y_pred, squared = False))\n",
    "print(\"RMSLE:\", mean_squared_log_error(y_true, y_pred))"
   ]
  },
  {
   "cell_type": "code",
   "execution_count": 12,
   "id": "5857cded",
   "metadata": {},
   "outputs": [],
   "source": [
    "y_pred = [1200]\n",
    "y_true = [1000]"
   ]
  },
  {
   "cell_type": "code",
   "execution_count": 13,
   "id": "404cbe6c",
   "metadata": {},
   "outputs": [
    {
     "name": "stdout",
     "output_type": "stream",
     "text": [
      "RMSE: 200.0\n",
      "RMSLE: 0.03318045960463269\n"
     ]
    }
   ],
   "source": [
    "print(\"RMSE:\", mean_squared_error(y_true, y_pred, squared = False))\n",
    "print(\"RMSLE:\", mean_squared_log_error(y_true, y_pred))"
   ]
  }
 ],
 "metadata": {
  "kernelspec": {
   "display_name": "Python 3 (ipykernel)",
   "language": "python",
   "name": "python3"
  },
  "language_info": {
   "codemirror_mode": {
    "name": "ipython",
    "version": 3
   },
   "file_extension": ".py",
   "mimetype": "text/x-python",
   "name": "python",
   "nbconvert_exporter": "python",
   "pygments_lexer": "ipython3",
   "version": "3.9.13"
  }
 },
 "nbformat": 4,
 "nbformat_minor": 5
}
