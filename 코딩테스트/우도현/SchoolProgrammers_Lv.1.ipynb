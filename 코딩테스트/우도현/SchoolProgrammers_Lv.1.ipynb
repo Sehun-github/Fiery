{
 "cells": [
  {
   "cell_type": "markdown",
   "id": "4826b9f1",
   "metadata": {},
   "source": [
    "# SchoolProgrammers Coding_Test Lv.1\n",
    "\n",
    "https://school.programmers.co.kr/learn/challenges?order=acceptance_desc&levels=1&languages=python3"
   ]
  },
  {
   "cell_type": "markdown",
   "id": "e43f1ff2",
   "metadata": {},
   "source": [
    "## No.1~7 (2023.05.15)"
   ]
  },
  {
   "cell_type": "markdown",
   "id": "3287c256",
   "metadata": {},
   "source": [
    "### 1. 자릿수 더하기\n",
    "\n",
    "자연수 N이 주어지면, N의 각 자릿수의 합을 구해서 return 하는 solution 함수를 만들어 주세요.\n",
    "예를들어 N = 123이면 1 + 2 + 3 = 6을 return 하면 됩니다."
   ]
  },
  {
   "cell_type": "code",
   "execution_count": 142,
   "id": "145aa60f",
   "metadata": {},
   "outputs": [],
   "source": [
    "# 제출 답안\n",
    "\n",
    "def solution(N):\n",
    "    \n",
    "    n_str = str(N)\n",
    "    sum_digits = 0\n",
    "    \n",
    "    for digit in n_str:\n",
    "        \n",
    "        sum_digits += int(digit)\n",
    "\n",
    "    return sum_digits\n"
   ]
  },
  {
   "cell_type": "code",
   "execution_count": 32,
   "id": "cc0479d1",
   "metadata": {},
   "outputs": [
    {
     "name": "stdout",
     "output_type": "stream",
     "text": [
      "6\n",
      "24\n"
     ]
    }
   ],
   "source": [
    "def solution(N):\n",
    "    \n",
    "    n_str = str(N)\n",
    "    sum_digits = 0\n",
    "    \n",
    "    for digit in n_str:\n",
    "        \n",
    "        sum_digits += int(digit)\n",
    "    \n",
    "\n",
    "    return sum_digits\n",
    "\n",
    "print(solution(123))\n",
    "print(solution(987))"
   ]
  },
  {
   "cell_type": "markdown",
   "id": "b48bcf18",
   "metadata": {},
   "source": [
    "### 2. 짝수와 홀수\n",
    "\n",
    "정수 num이 짝수일 경우 \"Even\"을 반환하고 홀수인 경우 \"Odd\"를 반환하는 함수, solution을 완성해주세요."
   ]
  },
  {
   "cell_type": "code",
   "execution_count": 143,
   "id": "761b8c4c",
   "metadata": {},
   "outputs": [],
   "source": [
    "#제출 답안\n",
    "\n",
    "def solution(num):\n",
    "    \n",
    "    if num % 2 == 0:\n",
    "        return \"Even\"\n",
    "    \n",
    "    else:\n",
    "        return \"odd\""
   ]
  },
  {
   "cell_type": "code",
   "execution_count": 57,
   "id": "36c4a9e0",
   "metadata": {},
   "outputs": [
    {
     "name": "stdout",
     "output_type": "stream",
     "text": [
      "odd\n",
      "Even\n"
     ]
    }
   ],
   "source": [
    "def solution(num):\n",
    "    \n",
    "    if num % 2 == 0:\n",
    "        return \"Even\"\n",
    "    \n",
    "    else:\n",
    "        return \"odd\"\n",
    "        \n",
    "\n",
    "print(solution(3))\n",
    "print(solution(4))"
   ]
  },
  {
   "cell_type": "markdown",
   "id": "989c2c10",
   "metadata": {},
   "source": [
    "### 3. 약수의 합\n",
    "\n",
    "정수 n을 입력받아 n의 약수를 모두 더한 값을 리턴하는 함수, solution을 완성해주세요."
   ]
  },
  {
   "cell_type": "code",
   "execution_count": 144,
   "id": "6e116f65",
   "metadata": {},
   "outputs": [],
   "source": [
    "#제출 답안\n",
    "\n",
    "def solution(n):\n",
    "    \n",
    "    li=[]\n",
    "\n",
    "    for i in range(1,n+1):\n",
    "        if n%i==0:\n",
    "            li.append(i)\n",
    "            sum_list = sum(li)\n",
    "            \n",
    "    return sum_list"
   ]
  },
  {
   "cell_type": "code",
   "execution_count": 90,
   "id": "c6fc04b4",
   "metadata": {},
   "outputs": [
    {
     "name": "stdout",
     "output_type": "stream",
     "text": [
      "28\n",
      "6\n",
      "None\n"
     ]
    }
   ],
   "source": [
    "def solution(n):\n",
    "    \n",
    "    li=[]\n",
    "    \n",
    "    if n == 0:\n",
    "        return None\n",
    "\n",
    "    for i in range(1,n+1):\n",
    "        if n%i==0 and n!=0:\n",
    "            li.append(i)\n",
    "            sum_list = sum(li)\n",
    "            \n",
    "    return sum_list\n",
    "\n",
    "print(solution(12))\n",
    "print(solution(5))\n",
    "print(solution(0))"
   ]
  },
  {
   "cell_type": "markdown",
   "id": "af61b860",
   "metadata": {},
   "source": [
    "### 4. 평균 구하기\n",
    "\n",
    "정수를 담고 있는 배열 arr의 평균값을 return하는 함수, solution을 완성해보세요."
   ]
  },
  {
   "cell_type": "code",
   "execution_count": 145,
   "id": "ef5104ab",
   "metadata": {},
   "outputs": [],
   "source": [
    "#제출 답안\n",
    "\n",
    "def solution(arr):\n",
    "    answer = sum(arr) / len(arr)\n",
    "    \n",
    "    return answer"
   ]
  },
  {
   "cell_type": "code",
   "execution_count": 92,
   "id": "a5edafb1",
   "metadata": {},
   "outputs": [
    {
     "name": "stdout",
     "output_type": "stream",
     "text": [
      "2.5\n",
      "5.0\n"
     ]
    }
   ],
   "source": [
    "def solution(arr):\n",
    "    answer = sum(arr) / len(arr)\n",
    "    \n",
    "    return answer\n",
    "\n",
    "print(solution([1,2,3,4]))\n",
    "print(solution([5,5]))"
   ]
  },
  {
   "cell_type": "markdown",
   "id": "e24bcbd1",
   "metadata": {},
   "source": [
    "### 5. 나머지가 1이 되는 수 찾기\n",
    "\n",
    "자연수 n이 매개변수로 주어집니다. n을 x로 나눈 나머지가 1이 되도록 하는 가장 작은 자연수 x를 return 하도록 solution 함수를 완성해주세요. 답이 항상 존재함은 증명될 수 있습니다."
   ]
  },
  {
   "cell_type": "code",
   "execution_count": 146,
   "id": "42ce919f",
   "metadata": {},
   "outputs": [],
   "source": [
    "#제출 답안\n",
    "\n",
    "def solution(n):\n",
    "    \n",
    "    li=[]\n",
    "\n",
    "    for i in range(1,n+1):\n",
    "        if n%i == 1:\n",
    "            li.append(i)\n",
    "\n",
    "            \n",
    "    return min(li)"
   ]
  },
  {
   "cell_type": "code",
   "execution_count": 95,
   "id": "74fcccff",
   "metadata": {
    "scrolled": true
   },
   "outputs": [
    {
     "name": "stdout",
     "output_type": "stream",
     "text": [
      "3\n",
      "11\n"
     ]
    }
   ],
   "source": [
    "def solution(n):\n",
    "    \n",
    "    li=[]\n",
    "\n",
    "    for i in range(1,n+1):\n",
    "        if n%i == 1:\n",
    "            li.append(i)\n",
    "\n",
    "            \n",
    "    return min(li)\n",
    "\n",
    "print(solution(10))\n",
    "print(solution(12))"
   ]
  },
  {
   "cell_type": "markdown",
   "id": "ff2b0f4b",
   "metadata": {},
   "source": [
    "### 6. x만큼 간격이 있는 n개의 숫자\n",
    "\n",
    "함수 solution은 정수 x와 자연수 n을 입력 받아, x부터 시작해 x씩 증가하는 숫자를 n개 지니는 리스트를 리턴해야 합니다. 다음 제한 조건을 보고, 조건을 만족하는 함수, solution을 완성해주세요."
   ]
  },
  {
   "cell_type": "code",
   "execution_count": 149,
   "id": "dd6b2478",
   "metadata": {},
   "outputs": [],
   "source": [
    "#제출 답안\n",
    "\n",
    "def solution(x, n):\n",
    "    \n",
    "    answer = []\n",
    "\n",
    "    for i in range(1,n+1):\n",
    "        \n",
    "        answer.insert(i,x*i)\n",
    "        \n",
    "    return answer"
   ]
  },
  {
   "cell_type": "code",
   "execution_count": 148,
   "id": "aacd93d8",
   "metadata": {},
   "outputs": [
    {
     "name": "stdout",
     "output_type": "stream",
     "text": [
      "[2, 4, 6, 8, 10]\n",
      "[4, 8, 12]\n",
      "[-4, -8]\n"
     ]
    }
   ],
   "source": [
    "def solution(x, n):\n",
    "    \n",
    "    answer = []\n",
    "\n",
    "    for i in range(1,n+1):\n",
    "        \n",
    "        answer.insert(i,x*i)\n",
    "        \n",
    "    return answer\n",
    "\n",
    "print(solution(2,5))\n",
    "print(solution(4,3))\n",
    "print(solution(-4,2))"
   ]
  },
  {
   "cell_type": "markdown",
   "id": "7ec2943e",
   "metadata": {},
   "source": [
    "### 7. 문자열 내 p와 y의 개수\n",
    "\n",
    "대문자와 소문자가 섞여있는 문자열 s가 주어집니다. s에 'p'의 개수와 'y'의 개수를 비교해 같으면 True, 다르면 False를 return 하는 solution를 완성하세요. 'p', 'y' 모두 하나도 없는 경우는 항상 True를 리턴합니다. 단, 개수를 비교할 때 대문자와 소문자는 구별하지 않습니다."
   ]
  },
  {
   "cell_type": "code",
   "execution_count": 150,
   "id": "eb6be91e",
   "metadata": {},
   "outputs": [],
   "source": [
    "#제출 답안\n",
    "\n",
    "def solution(s):\n",
    "\n",
    "    p_count = s.lower().count(\"p\")\n",
    "    y_count = s.lower().count(\"y\")\n",
    "    \n",
    "    if p_count == y_count:\n",
    "        return True\n",
    "    else:\n",
    "        return False"
   ]
  },
  {
   "cell_type": "code",
   "execution_count": 141,
   "id": "5e8a7380",
   "metadata": {},
   "outputs": [
    {
     "name": "stdout",
     "output_type": "stream",
     "text": [
      "True\n",
      "False\n"
     ]
    }
   ],
   "source": [
    "def solution(s):\n",
    "\n",
    "    p_count = s.lower().count(\"p\")\n",
    "    y_count = s.lower().count(\"y\")\n",
    "    \n",
    "    if p_count == y_count:\n",
    "        return True\n",
    "    else:\n",
    "        return False\n",
    "    \n",
    "print(solution(\"pPoooyY\"))\n",
    "print(solution(\"Pyy\"))"
   ]
  },
  {
   "cell_type": "markdown",
   "id": "0a85b8d0",
   "metadata": {},
   "source": [
    "## No.8~14 (2023.05.16)"
   ]
  },
  {
   "cell_type": "markdown",
   "id": "49d0028c",
   "metadata": {},
   "source": [
    "#### 8. 자연수 뒤집어 배열로 만들기\n",
    "자연수 n을 뒤집어 각 자리 숫자를 원소로 가지는 배열 형태로 리턴해주세요. 예를들어 n이 12345이면 [5,4,3,2,1]을 리턴합니다."
   ]
  },
  {
   "cell_type": "code",
   "execution_count": 25,
   "id": "88925421",
   "metadata": {},
   "outputs": [],
   "source": [
    "#제출 답안\n",
    "def solution(n):\n",
    "    \n",
    "    str_n = str(n)[::-1]    #문자열로 변환 후 역순으로 나열\n",
    "    \n",
    "    li = []                 # 리스트 생성\n",
    "    i = 0\n",
    "    \n",
    "    for i in str_n:         #문자열 n을 for문으로 반복 실행\n",
    "        li.append(i)        #실행한 값을 li 리스트에 순서대로 추가\n",
    "    \n",
    "    li_int = list(map(int,li))  #li 리스트 원소의 타입을 정수로 변환\n",
    "\n",
    "    return li_int"
   ]
  },
  {
   "cell_type": "code",
   "execution_count": 24,
   "id": "f39cd7c5",
   "metadata": {},
   "outputs": [
    {
     "name": "stdout",
     "output_type": "stream",
     "text": [
      "[5, 4, 3, 2, 1]\n"
     ]
    }
   ],
   "source": [
    "def solution(n):\n",
    "    \n",
    "    str_n = str(n)[::-1]\n",
    "    \n",
    "    li = []\n",
    "    i = 0\n",
    "    \n",
    "    for i in str_n:\n",
    "        li.append(i)\n",
    "    \n",
    "    li_int = list(map(int,li))\n",
    "\n",
    "    return li_int\n",
    "\n",
    "print(solution(12345))"
   ]
  },
  {
   "cell_type": "markdown",
   "id": "ee483c66",
   "metadata": {},
   "source": [
    "### 9. 정수 제곱근 판별\n",
    "임의의 양의 정수 n에 대해, n이 어떤 양의 정수 x의 제곱인지 아닌지 판단하려 합니다.\n",
    "n이 양의 정수 x의 제곱이라면 x+1의 제곱을 리턴하고, n이 양의 정수 x의 제곱이 아니라면 -1을 리턴하는 함수를 완성하세요."
   ]
  },
  {
   "cell_type": "code",
   "execution_count": null,
   "id": "d456b913",
   "metadata": {},
   "outputs": [],
   "source": [
    "def solution(n):\n",
    "    \n",
    "    x = n**(1/2)                    # n의 제곱근을 x 변수에 할당\n",
    "    \n",
    "    if x % 1 == 0 :                  # x를 1로 나눴을 때 나머지가 0일 때(x가 정수인지 판별)        \n",
    "        return int((x+1)**2)       \n",
    "    \n",
    "    else:\n",
    "        return -1"
   ]
  },
  {
   "cell_type": "code",
   "execution_count": 38,
   "id": "efa18a81",
   "metadata": {},
   "outputs": [
    {
     "name": "stdout",
     "output_type": "stream",
     "text": [
      "144\n",
      "-1\n"
     ]
    }
   ],
   "source": [
    "def solution(n):\n",
    "    \n",
    "    x = n**(1/2)\n",
    "    \n",
    "    if x % 1 ==0 :\n",
    "        return int((x+1)**2)\n",
    "    \n",
    "    else:\n",
    "        return -1\n",
    "print(solution(121))\n",
    "print(solution(3))"
   ]
  },
  {
   "cell_type": "markdown",
   "id": "d8cb5a8c",
   "metadata": {},
   "source": [
    "#### 10. 문자열을 정수로 바꾸기\n",
    "\n",
    "문자열 s를 숫자로 변환한 결과를 반환하는 함수, solution을 완성하세요.\n"
   ]
  },
  {
   "cell_type": "code",
   "execution_count": null,
   "id": "ce382bb2",
   "metadata": {},
   "outputs": [],
   "source": [
    "def solution(s):\n",
    "      \n",
    "    return int(s)"
   ]
  },
  {
   "cell_type": "code",
   "execution_count": 42,
   "id": "29394b91",
   "metadata": {},
   "outputs": [
    {
     "name": "stdout",
     "output_type": "stream",
     "text": [
      "-1234\n"
     ]
    }
   ],
   "source": [
    "def solution(s):\n",
    "    \n",
    "    return int(s)\n",
    "\n",
    "print(solution(\"-1234\"))"
   ]
  },
  {
   "cell_type": "markdown",
   "id": "2ae264c2",
   "metadata": {},
   "source": [
    "#### 11. 정수 내림차순으로 배치하기\n",
    "\n",
    "함수 solution은 정수 n을 매개변수로 입력받습니다. n의 각 자릿수를 큰것부터 작은 순으로 정렬한 새로운 정수를 리턴해주세요. 예를들어 n이 118372면 873211을 리턴하면 됩니다."
   ]
  },
  {
   "cell_type": "code",
   "execution_count": null,
   "id": "d74bcce2",
   "metadata": {},
   "outputs": [],
   "source": [
    "def solution(n):\n",
    "    \n",
    "    n_str = str(n)                        # n을 문자열로 변환\n",
    "\n",
    "    li = []                               # 리스트 생성\n",
    "\n",
    "    for i in str(n):\n",
    "        li.append(i)                      # 문자열의 각 단어를 리스트에 추가\n",
    "\n",
    "    S_li = sorted(li,reverse = True)      # 리스트를 내림차순 정렬\n",
    "\n",
    "    n_reverse = int(\"\".join(S_li))        # 리스트를 공백 없이, 정수로 변환 후 출력\n",
    "    \n",
    "    return n_reverse"
   ]
  },
  {
   "cell_type": "code",
   "execution_count": 59,
   "id": "231075e4",
   "metadata": {},
   "outputs": [
    {
     "name": "stdout",
     "output_type": "stream",
     "text": [
      "873211\n"
     ]
    }
   ],
   "source": [
    "def solution(n):\n",
    "    \n",
    "    n_str = str(n)\n",
    "\n",
    "    li = []\n",
    "\n",
    "    for i in str(n):\n",
    "        li.append(i)\n",
    "\n",
    "    S_li = sorted(li,reverse = True)\n",
    "\n",
    "    n_reverse = int(\"\".join(S_li))\n",
    "    \n",
    "    return n_reverse\n",
    "\n",
    "print(solution(113872))"
   ]
  },
  {
   "cell_type": "markdown",
   "id": "7135e94b",
   "metadata": {},
   "source": [
    "#### 12. 하샤드 수\n",
    "\n",
    "양의 정수 x가 하샤드 수이려면 x의 자릿수의 합으로 x가 나누어져야 합니다. 예를 들어 18의 자릿수 합은 1+8=9이고, 18은 9로 나누어 떨어지므로 18은 하샤드 수입니다. 자연수 x를 입력받아 x가 하샤드 수인지 아닌지 검사하는 함수, solution을 완성해주세요."
   ]
  },
  {
   "cell_type": "code",
   "execution_count": null,
   "id": "4a85bdb3",
   "metadata": {},
   "outputs": [],
   "source": [
    "def solution(x):\n",
    "    \n",
    "    x_str = str(x)\n",
    "    sum_digits = 0\n",
    "    \n",
    "    for digit in x_str:\n",
    "        \n",
    "        sum_digits += int(digit)\n",
    "    \n",
    "    if x % sum_digits == 0:\n",
    "        return True\n",
    "    \n",
    "    else:\n",
    "        return False"
   ]
  },
  {
   "cell_type": "code",
   "execution_count": 63,
   "id": "f9d46571",
   "metadata": {},
   "outputs": [
    {
     "name": "stdout",
     "output_type": "stream",
     "text": [
      "True\n",
      "True\n",
      "False\n",
      "False\n"
     ]
    }
   ],
   "source": [
    "def solution(x):\n",
    "    \n",
    "    x_str = str(x)\n",
    "    sum_digits = 0\n",
    "    \n",
    "    for digit in x_str:\n",
    "        \n",
    "        sum_digits += int(digit)\n",
    "    \n",
    "    if x % sum_digits == 0:\n",
    "        return True\n",
    "    \n",
    "    else:\n",
    "        return False\n",
    "\n",
    "print(solution(10))\n",
    "print(solution(12))\n",
    "print(solution(11))\n",
    "print(solution(13))"
   ]
  },
  {
   "cell_type": "markdown",
   "id": "44d58594",
   "metadata": {},
   "source": [
    "#### 13. 두 정수 사이의 합\n",
    "\n",
    "두 정수 a, b가 주어졌을 때 a와 b 사이에 속한 모든 정수의 합을 리턴하는 함수, solution을 완성하세요.\n",
    "예를 들어 a = 3, b = 5인 경우, 3 + 4 + 5 = 12이므로 12를 리턴합니다."
   ]
  },
  {
   "cell_type": "code",
   "execution_count": null,
   "id": "fcbc9392",
   "metadata": {},
   "outputs": [],
   "source": [
    "def solution(a, b):\n",
    "    \n",
    "    i = 0\n",
    "    t = 0\n",
    "    f = 0\n",
    "    \n",
    "    if a < b:\n",
    "        for i in range(a,b+1):\n",
    "            t += i\n",
    "    \n",
    "        return t\n",
    "    \n",
    "    elif a > b:\n",
    "        for i in range(b,a+1):\n",
    "            f += i\n",
    "            \n",
    "        return f\n",
    "    \n",
    "    else:\n",
    "        return a"
   ]
  },
  {
   "cell_type": "code",
   "execution_count": 68,
   "id": "67d03533",
   "metadata": {},
   "outputs": [
    {
     "name": "stdout",
     "output_type": "stream",
     "text": [
      "12\n",
      "3\n",
      "12\n"
     ]
    }
   ],
   "source": [
    "def solution(a, b):\n",
    "    \n",
    "    i = 0\n",
    "    t = 0\n",
    "    f = 0\n",
    "    \n",
    "    if a < b:\n",
    "        for i in range(a,b+1):\n",
    "            t += i\n",
    "    \n",
    "        return t\n",
    "    \n",
    "    elif a > b:\n",
    "        for i in range(b,a+1):\n",
    "            f += i\n",
    "            \n",
    "        return f\n",
    "    \n",
    "    else:\n",
    "        return a\n",
    "\n",
    "print(solution(3,5))\n",
    "print(solution(3,3))\n",
    "print(solution(5,3))"
   ]
  },
  {
   "cell_type": "markdown",
   "id": "6cc2b65e",
   "metadata": {},
   "source": [
    "#### 14. 콜라츠 추측\n",
    "\n",
    "1937년 Collatz란 사람에 의해 제기된 이 추측은, 주어진 수가 1이 될 때까지 다음 작업을 반복하면, 모든 수를 1로 만들 수 있다는 추측입니다. 작업은 다음과 같습니다.\n",
    "\n",
    "1-1. 입력된 수가 짝수라면 2로 나눕니다. \n",
    "\n",
    "1-2. 입력된 수가 홀수라면 3을 곱하고 1을 더합니다.\n",
    "\n",
    "2. 결과로 나온 수에 같은 작업을 1이 될 때까지 반복합니다. \n",
    "\n",
    "예를 들어, 주어진 수가 6이라면 6 → 3 → 10 → 5 → 16 → 8 → 4 → 2 → 1 이 되어 총 8번 만에 1이 됩니다. 위 작업을 몇 번이나 반복해야 하는지 반환하는 함수, solution을 완성해 주세요. 단, 주어진 수가 1인 경우에는 0을, 작업을 500번 반복할 때까지 1이 되지 않는다면 –1을 반환해 주세요."
   ]
  },
  {
   "cell_type": "code",
   "execution_count": null,
   "id": "f74aba08",
   "metadata": {},
   "outputs": [],
   "source": [
    "def solution(num):\n",
    "    \n",
    "    if num == 1:  # 주어진 수가 1이라면 0으로 반환\n",
    "        return 0\n",
    "    \n",
    "    i = 0         # 반복횟수 변수 설정\n",
    "    \n",
    "    while True:\n",
    "        \n",
    "        if num == 1:    #작업 반복 결과 1이 나오면 빠져나오기\n",
    "            break\n",
    "        \n",
    "        if i == 500:    #작업 반복 횟수가 500이 되면 빠져나오기\n",
    "            break\n",
    "        \n",
    "        if num % 2 == 0:   # 1-1 입력된 수가 짝수라면 2로 나누기\n",
    "            num //= 2\n",
    "            i += 1          #반복횟수 +1\n",
    "        \n",
    "        else: \n",
    "            num = num * 3 + 1  #1-2 입력된 수가 홀수라면 3을 곱하고 1을 더하기\n",
    "            i += 1\n",
    "    \n",
    "    if i != 500:               # 반복횟수가 500이 아닐 시에는 반복횟수 출력\n",
    "        return i\n",
    "    else:\n",
    "        return -1"
   ]
  },
  {
   "cell_type": "code",
   "execution_count": 102,
   "id": "7898a83c",
   "metadata": {},
   "outputs": [
    {
     "name": "stdout",
     "output_type": "stream",
     "text": [
      "8\n",
      "4\n",
      "-1\n"
     ]
    }
   ],
   "source": [
    "def solution(num):\n",
    "    \n",
    "    if num == 1:\n",
    "        return 0\n",
    "    \n",
    "    i = 0\n",
    "    \n",
    "    while True:\n",
    "        \n",
    "        if num == 1:\n",
    "            break\n",
    "        \n",
    "        if i == 500:\n",
    "            break\n",
    "        \n",
    "        if num % 2 == 0:\n",
    "            num //= 2\n",
    "            i += 1 \n",
    "        \n",
    "        else: \n",
    "            num = num * 3 + 1\n",
    "            i += 1\n",
    "    \n",
    "    if i != 500:\n",
    "        return i\n",
    "    else:\n",
    "        return -1\n",
    "    \n",
    "    \n",
    "print(solution(6))\n",
    "print(solution(16))\n",
    "print(solution(626331))"
   ]
  }
 ],
 "metadata": {
  "kernelspec": {
   "display_name": "Python 3 (ipykernel)",
   "language": "python",
   "name": "python3"
  },
  "language_info": {
   "codemirror_mode": {
    "name": "ipython",
    "version": 3
   },
   "file_extension": ".py",
   "mimetype": "text/x-python",
   "name": "python",
   "nbconvert_exporter": "python",
   "pygments_lexer": "ipython3",
   "version": "3.10.9"
  }
 },
 "nbformat": 4,
 "nbformat_minor": 5
}
