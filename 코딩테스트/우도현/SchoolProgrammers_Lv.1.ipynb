{
 "cells": [
  {
   "cell_type": "markdown",
   "id": "4826b9f1",
   "metadata": {},
   "source": [
    "# SchoolProgrammers Coding_Test Lv.1"
   ]
  },
  {
   "cell_type": "markdown",
   "id": "e43f1ff2",
   "metadata": {},
   "source": [
    "## No.1~7 (2023.05.15)"
   ]
  },
  {
   "cell_type": "markdown",
   "id": "3287c256",
   "metadata": {},
   "source": [
    "### 1. 자릿수 더하기\n",
    "\n",
    "자연수 N이 주어지면, N의 각 자릿수의 합을 구해서 return 하는 solution 함수를 만들어 주세요.\n",
    "예를들어 N = 123이면 1 + 2 + 3 = 6을 return 하면 됩니다."
   ]
  },
  {
   "cell_type": "code",
   "execution_count": 142,
   "id": "145aa60f",
   "metadata": {},
   "outputs": [],
   "source": [
    "# 제출 답안\n",
    "\n",
    "def solution(N):\n",
    "    \n",
    "    n_str = str(N)\n",
    "    sum_digits = 0\n",
    "    \n",
    "    for digit in n_str:\n",
    "        \n",
    "        sum_digits += int(digit)\n",
    "\n",
    "    return sum_digits\n"
   ]
  },
  {
   "cell_type": "code",
   "execution_count": 32,
   "id": "cc0479d1",
   "metadata": {},
   "outputs": [
    {
     "name": "stdout",
     "output_type": "stream",
     "text": [
      "6\n",
      "24\n"
     ]
    }
   ],
   "source": [
    "def solution(N):\n",
    "    \n",
    "    n_str = str(N)\n",
    "    sum_digits = 0\n",
    "    \n",
    "    for digit in n_str:\n",
    "        \n",
    "        sum_digits += int(digit)\n",
    "    \n",
    "\n",
    "    return sum_digits\n",
    "\n",
    "print(solution(123))\n",
    "print(solution(987))"
   ]
  },
  {
   "cell_type": "markdown",
   "id": "b48bcf18",
   "metadata": {},
   "source": [
    "### 2. 짝수와 홀수\n",
    "\n",
    "정수 num이 짝수일 경우 \"Even\"을 반환하고 홀수인 경우 \"Odd\"를 반환하는 함수, solution을 완성해주세요."
   ]
  },
  {
   "cell_type": "code",
   "execution_count": 143,
   "id": "761b8c4c",
   "metadata": {},
   "outputs": [],
   "source": [
    "#제출 답안\n",
    "\n",
    "def solution(num):\n",
    "    \n",
    "    if num % 2 == 0:\n",
    "        return \"Even\"\n",
    "    \n",
    "    else:\n",
    "        return \"odd\""
   ]
  },
  {
   "cell_type": "code",
   "execution_count": 57,
   "id": "36c4a9e0",
   "metadata": {},
   "outputs": [
    {
     "name": "stdout",
     "output_type": "stream",
     "text": [
      "odd\n",
      "Even\n"
     ]
    }
   ],
   "source": [
    "def solution(num):\n",
    "    \n",
    "    if num % 2 == 0:\n",
    "        return \"Even\"\n",
    "    \n",
    "    else:\n",
    "        return \"odd\"\n",
    "        \n",
    "\n",
    "print(solution(3))\n",
    "print(solution(4))"
   ]
  },
  {
   "cell_type": "markdown",
   "id": "989c2c10",
   "metadata": {},
   "source": [
    "### 3. 약수의 합\n",
    "\n",
    "정수 n을 입력받아 n의 약수를 모두 더한 값을 리턴하는 함수, solution을 완성해주세요."
   ]
  },
  {
   "cell_type": "code",
   "execution_count": 144,
   "id": "6e116f65",
   "metadata": {},
   "outputs": [],
   "source": [
    "#제출 답안\n",
    "\n",
    "def solution(n):\n",
    "    \n",
    "    li=[]\n",
    "\n",
    "    for i in range(1,n+1):\n",
    "        if n%i==0:\n",
    "            li.append(i)\n",
    "            sum_list = sum(li)\n",
    "            \n",
    "    return sum_list"
   ]
  },
  {
   "cell_type": "code",
   "execution_count": 90,
   "id": "c6fc04b4",
   "metadata": {},
   "outputs": [
    {
     "name": "stdout",
     "output_type": "stream",
     "text": [
      "28\n",
      "6\n",
      "None\n"
     ]
    }
   ],
   "source": [
    "def solution(n):\n",
    "    \n",
    "    li=[]\n",
    "    \n",
    "    if n == 0:\n",
    "        return None\n",
    "\n",
    "    for i in range(1,n+1):\n",
    "        if n%i==0 and n!=0:\n",
    "            li.append(i)\n",
    "            sum_list = sum(li)\n",
    "            \n",
    "    return sum_list\n",
    "\n",
    "print(solution(12))\n",
    "print(solution(5))\n",
    "print(solution(0))"
   ]
  },
  {
   "cell_type": "markdown",
   "id": "af61b860",
   "metadata": {},
   "source": [
    "### 4. 평균 구하기\n",
    "\n",
    "정수를 담고 있는 배열 arr의 평균값을 return하는 함수, solution을 완성해보세요."
   ]
  },
  {
   "cell_type": "code",
   "execution_count": 145,
   "id": "ef5104ab",
   "metadata": {},
   "outputs": [],
   "source": [
    "#제출 답안\n",
    "\n",
    "def solution(arr):\n",
    "    answer = sum(arr) / len(arr)\n",
    "    \n",
    "    return answer"
   ]
  },
  {
   "cell_type": "code",
   "execution_count": 92,
   "id": "a5edafb1",
   "metadata": {},
   "outputs": [
    {
     "name": "stdout",
     "output_type": "stream",
     "text": [
      "2.5\n",
      "5.0\n"
     ]
    }
   ],
   "source": [
    "def solution(arr):\n",
    "    answer = sum(arr) / len(arr)\n",
    "    \n",
    "    return answer\n",
    "\n",
    "print(solution([1,2,3,4]))\n",
    "print(solution([5,5]))"
   ]
  },
  {
   "cell_type": "markdown",
   "id": "e24bcbd1",
   "metadata": {},
   "source": [
    "### 5. 나머지가 1이 되는 수 찾기\n",
    "\n",
    "자연수 n이 매개변수로 주어집니다. n을 x로 나눈 나머지가 1이 되도록 하는 가장 작은 자연수 x를 return 하도록 solution 함수를 완성해주세요. 답이 항상 존재함은 증명될 수 있습니다."
   ]
  },
  {
   "cell_type": "code",
   "execution_count": 146,
   "id": "42ce919f",
   "metadata": {},
   "outputs": [],
   "source": [
    "#제출 답안\n",
    "\n",
    "def solution(n):\n",
    "    \n",
    "    li=[]\n",
    "\n",
    "    for i in range(1,n+1):\n",
    "        if n%i == 1:\n",
    "            li.append(i)\n",
    "\n",
    "            \n",
    "    return min(li)"
   ]
  },
  {
   "cell_type": "code",
   "execution_count": 95,
   "id": "74fcccff",
   "metadata": {
    "scrolled": true
   },
   "outputs": [
    {
     "name": "stdout",
     "output_type": "stream",
     "text": [
      "3\n",
      "11\n"
     ]
    }
   ],
   "source": [
    "def solution(n):\n",
    "    \n",
    "    li=[]\n",
    "\n",
    "    for i in range(1,n+1):\n",
    "        if n%i == 1:\n",
    "            li.append(i)\n",
    "\n",
    "            \n",
    "    return min(li)\n",
    "\n",
    "print(solution(10))\n",
    "print(solution(12))"
   ]
  },
  {
   "cell_type": "markdown",
   "id": "ff2b0f4b",
   "metadata": {},
   "source": [
    "### 6. x만큼 간격이 있는 n개의 숫자\n",
    "\n",
    "함수 solution은 정수 x와 자연수 n을 입력 받아, x부터 시작해 x씩 증가하는 숫자를 n개 지니는 리스트를 리턴해야 합니다. 다음 제한 조건을 보고, 조건을 만족하는 함수, solution을 완성해주세요."
   ]
  },
  {
   "cell_type": "code",
   "execution_count": 149,
   "id": "dd6b2478",
   "metadata": {},
   "outputs": [],
   "source": [
    "#제출 답안\n",
    "\n",
    "def solution(x, n):\n",
    "    \n",
    "    answer = []\n",
    "\n",
    "    for i in range(1,n+1):\n",
    "        \n",
    "        answer.insert(i,x*i)\n",
    "        \n",
    "    return answer"
   ]
  },
  {
   "cell_type": "code",
   "execution_count": 148,
   "id": "aacd93d8",
   "metadata": {},
   "outputs": [
    {
     "name": "stdout",
     "output_type": "stream",
     "text": [
      "[2, 4, 6, 8, 10]\n",
      "[4, 8, 12]\n",
      "[-4, -8]\n"
     ]
    }
   ],
   "source": [
    "def solution(x, n):\n",
    "    \n",
    "    answer = []\n",
    "\n",
    "    for i in range(1,n+1):\n",
    "        \n",
    "        answer.insert(i,x*i)\n",
    "        \n",
    "    return answer\n",
    "\n",
    "print(solution(2,5))\n",
    "print(solution(4,3))\n",
    "print(solution(-4,2))"
   ]
  },
  {
   "cell_type": "markdown",
   "id": "7ec2943e",
   "metadata": {},
   "source": [
    "### 7. 문자열 내 p와 y의 개수\n",
    "\n",
    "대문자와 소문자가 섞여있는 문자열 s가 주어집니다. s에 'p'의 개수와 'y'의 개수를 비교해 같으면 True, 다르면 False를 return 하는 solution를 완성하세요. 'p', 'y' 모두 하나도 없는 경우는 항상 True를 리턴합니다. 단, 개수를 비교할 때 대문자와 소문자는 구별하지 않습니다."
   ]
  },
  {
   "cell_type": "code",
   "execution_count": 150,
   "id": "eb6be91e",
   "metadata": {},
   "outputs": [],
   "source": [
    "#제출 답안\n",
    "\n",
    "def solution(s):\n",
    "\n",
    "    p_count = s.lower().count(\"p\")\n",
    "    y_count = s.lower().count(\"y\")\n",
    "    \n",
    "    if p_count == y_count:\n",
    "        return True\n",
    "    else:\n",
    "        return False"
   ]
  },
  {
   "cell_type": "code",
   "execution_count": 141,
   "id": "5e8a7380",
   "metadata": {},
   "outputs": [
    {
     "name": "stdout",
     "output_type": "stream",
     "text": [
      "True\n",
      "False\n"
     ]
    }
   ],
   "source": [
    "def solution(s):\n",
    "\n",
    "    p_count = s.lower().count(\"p\")\n",
    "    y_count = s.lower().count(\"y\")\n",
    "    \n",
    "    if p_count == y_count:\n",
    "        return True\n",
    "    else:\n",
    "        return False\n",
    "    \n",
    "print(solution(\"pPoooyY\"))\n",
    "print(solution(\"Pyy\"))"
   ]
  },
  {
   "cell_type": "code",
   "execution_count": null,
   "id": "eb820029",
   "metadata": {},
   "outputs": [],
   "source": []
  }
 ],
 "metadata": {
  "kernelspec": {
   "display_name": "Python 3 (ipykernel)",
   "language": "python",
   "name": "python3"
  },
  "language_info": {
   "codemirror_mode": {
    "name": "ipython",
    "version": 3
   },
   "file_extension": ".py",
   "mimetype": "text/x-python",
   "name": "python",
   "nbconvert_exporter": "python",
   "pygments_lexer": "ipython3",
   "version": "3.10.9"
  }
 },
 "nbformat": 4,
 "nbformat_minor": 5
}
