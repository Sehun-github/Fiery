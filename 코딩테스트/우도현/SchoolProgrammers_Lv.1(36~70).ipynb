{
 "cells": [
  {
   "cell_type": "markdown",
   "id": "8c1532bc",
   "metadata": {},
   "source": [
    "# SchoolProgrammers Coding_Test Lv.1(35~70)\n",
    "\n",
    "https://school.programmers.co.kr/learn/challenges?order=acceptance_desc&levels=1&languages=python3"
   ]
  },
  {
   "cell_type": "markdown",
   "id": "fd7c8463",
   "metadata": {},
   "source": [
    "##  No.36~42(2023.05.22)"
   ]
  },
  {
   "cell_type": "markdown",
   "id": "e3453a19",
   "metadata": {},
   "source": [
    "#### 36. 삼총사\n",
    "\n",
    "한국중학교에 다니는 학생들은 각자 정수 번호를 갖고 있습니다. 이 학교 학생 3명의 정수 번호를 더했을 때 0이 되면 3명의 학생은 삼총사라고 합니다. 예를 들어, 5명의 학생이 있고, 각각의 정수 번호가 순서대로 -2, 3, 0, 2, -5일 때, 첫 번째, 세 번째, 네 번째 학생의 정수 번호를 더하면 0이므로 세 학생은 삼총사입니다. 또한, 두 번째, 네 번째, 다섯 번째 학생의 정수 번호를 더해도 0이므로 세 학생도 삼총사입니다. 따라서 이 경우 한국중학교에서는 두 가지 방법으로 삼총사를 만들 수 있습니다.\n",
    "\n",
    "한국중학교 학생들의 번호를 나타내는 정수 배열 number가 매개변수로 주어질 때, 학생들 중 삼총사를 만들 수 있는 방법의 수를 return 하도록 solution 함수를 완성하세요."
   ]
  },
  {
   "cell_type": "code",
   "execution_count": null,
   "id": "3a852fc3",
   "metadata": {},
   "outputs": [],
   "source": [
    "import itertools   # combinations(조합) 구현하기 위한 import\n",
    "\n",
    "\n",
    "def solution(number):\n",
    "\n",
    "    count = 0       # 삼총사를 만들 수 있는 방법의 수 변수에 담기\n",
    "    \n",
    "    for i in itertools.combinations(number,3):        # itetools.combination(조합을 만들 리스트, 뽑을 조합의 갯수)\n",
    "        \n",
    "        if sum(i) == 0:\n",
    "            \n",
    "            count += 1\n",
    "        \n",
    "    \n",
    "    return count"
   ]
  },
  {
   "cell_type": "code",
   "execution_count": 3,
   "id": "d45d99b4",
   "metadata": {},
   "outputs": [
    {
     "name": "stdout",
     "output_type": "stream",
     "text": [
      "2\n"
     ]
    }
   ],
   "source": [
    "import itertools\n",
    "\n",
    "\n",
    "def solution(number):\n",
    "\n",
    "    count = 0\n",
    "    \n",
    "    for i in itertools.combinations(number,3):\n",
    "        \n",
    "        if sum(i) == 0:\n",
    "            \n",
    "            count += 1\n",
    "        \n",
    "    \n",
    "    return count\n",
    "\n",
    "print(solution([-2,3,0,2,-5]))"
   ]
  },
  {
   "cell_type": "markdown",
   "id": "9c2ef656",
   "metadata": {},
   "source": [
    "#### 37. 최소 직사각형\n",
    "\n",
    "명함 지갑을 만드는 회사에서 지갑의 크기를 정하려고 합니다. 다양한 모양과 크기의 명함들을 모두 수납할 수 있으면서, 작아서 들고 다니기 편한 지갑을 만들어야 합니다. 이러한 요건을 만족하는 지갑을 만들기 위해 디자인팀은 모든 명함의 가로 길이와 세로 길이를 조사했습니다.\n",
    "\n",
    "아래 표는 4가지 명함의 가로 길이와 세로 길이를 나타냅니다.\n",
    "\n",
    "명함 번호\t가로 길이\t세로 길이\n",
    "\n",
    "1\t          60\t       50\n",
    "\n",
    "2\t          30\t       70\n",
    "\n",
    "3\t          60\t       30\n",
    "\n",
    "4\t          80\t       40\n",
    "\n",
    "가장 긴 가로 길이와 세로 길이가 각각 80, 70이기 때문에 80(가로) x 70(세로) 크기의 지갑을 만들면 모든 명함들을 수납할 수 있습니다. 하지만 2번 명함을 가로로 눕혀 수납한다면 80(가로) x 50(세로) 크기의 지갑으로 모든 명함들을 수납할 수 있습니다. 이때의 지갑 크기는 4000(=80 x 50)입니다.\n",
    "\n",
    "모든 명함의 가로 길이와 세로 길이를 나타내는 2차원 배열 sizes가 매개변수로 주어집니다. 모든 명함을 수납할 수 있는 가장 작은 지갑을 만들 때, 지갑의 크기를 return 하도록 solution 함수를 완성해주세요.\n",
    "\n"
   ]
  },
  {
   "cell_type": "code",
   "execution_count": null,
   "id": "f421aca8",
   "metadata": {},
   "outputs": [],
   "source": [
    "def solution(sizes):\n",
    "    \n",
    "    \n",
    "    long = []                  # 가로 세로 길이 중 긴 길이 리스트\n",
    "    short = []                 # 가로 세로 길이 중 짧은 길이 리스트\n",
    "    \n",
    "    i = 0\n",
    "    \n",
    "    for i in range(len(sizes)):\n",
    "        \n",
    "        if sizes[i][0] > sizes[i][1]:         # 원소의 가로가 길면 가로를 long 리스트에 / 세로를 short 리스트에\n",
    "            \n",
    "            long.append(sizes[i][0])\n",
    "            short.append(sizes[i][1])\n",
    "            \n",
    "        else:                                 # 원소의 세로가 길면 가로를 short 리스트에 / 세로를 long 리스트에\n",
    "            long.append(sizes[i][1])\n",
    "            short.append(sizes[i][0])\n",
    "    \n",
    "    return max(long) * max(short)            # long의 최대값 * short 최대값이 작은 지갑의 크기"
   ]
  },
  {
   "cell_type": "code",
   "execution_count": 7,
   "id": "f59e339c",
   "metadata": {},
   "outputs": [
    {
     "name": "stdout",
     "output_type": "stream",
     "text": [
      "4000\n",
      "120\n",
      "133\n"
     ]
    }
   ],
   "source": [
    "def solution(sizes):\n",
    "    \n",
    "    long = []\n",
    "    short = []\n",
    "    \n",
    "    i = 0\n",
    "    \n",
    "    for i in range(len(sizes)):\n",
    "        \n",
    "        if sizes[i][0] > sizes[i][1]:\n",
    "            \n",
    "            long.append(sizes[i][0])\n",
    "            short.append(sizes[i][1])\n",
    "            \n",
    "        else:\n",
    "            long.append(sizes[i][1])\n",
    "            short.append(sizes[i][0])\n",
    "    \n",
    "    return max(long) * max(short)\n",
    "\n",
    "print(solution([[60, 50], [30, 70], [60, 30], [80, 40]]))\n",
    "print(solution([[10, 7], [12, 3], [8, 15], [14, 7], [5, 15]]))\n",
    "print(solution([[14, 4], [19, 6], [6, 16], [18, 7], [7, 11]]))"
   ]
  },
  {
   "cell_type": "markdown",
   "id": "efb178db",
   "metadata": {},
   "source": [
    "38. 비밀지도\n",
    "\n",
    "네오는 평소 프로도가 비상금을 숨겨놓는 장소를 알려줄 비밀지도를 손에 넣었다. 그런데 이 비밀지도는 숫자로 암호화되어 있어 위치를 확인하기 위해서는 암호를 해독해야 한다. 다행히 지도 암호를 해독할 방법을 적어놓은 메모도 함께 발견했다.\n",
    "\n",
    "1. 지도는 한 변의 길이가 n인 정사각형 배열 형태로, 각 칸은 \"공백\"(\" \") 또는 \"벽\"(\"#\") 두 종류로 이루어져 있다.\n",
    "2. 전체 지도는 두 장의 지도를 겹쳐서 얻을 수 있다. 각각 \"지도 1\"과 \"지도 2\"라고 하자. 지도 1 또는 지도 2 중 어느 하나라도 벽인 부분은전체 지도에서도 벽이다. 지도 1과 지도 2에서 모두 공백인 부분은 전체 지도에서도 공백이다. \n",
    "3. \"지도 1\"과 \"지도 2\"는 각각 정수 배열로 암호화되어 있다.\n",
    "4. 암호화된 배열은 지도의 각 가로줄에서 벽 부분을 1, 공백 부분을 0으로 부호화했을 때 얻어지는 이진수에 해당하는 값의 배열이다."
   ]
  },
  {
   "cell_type": "code",
   "execution_count": null,
   "id": "5e3318ee",
   "metadata": {},
   "outputs": [],
   "source": [
    "def solution(n, arr1, arr2):\n",
    "    \n",
    "    answer = []\n",
    "    \n",
    "    arr1_2 = []                # arr1 배열의 원소를 2진법으로 변환하고 담을 배열 \n",
    "    arr2_2 = []                # arr2 배열의 원소를 2진법으로 변환하고 담을 배열\n",
    "    \n",
    "    for i in range(len(arr1)):\n",
    "        \n",
    "        arr1_2.append(\"0\"*(n-len(bin(arr1[i])[2:]))+bin(arr1[i])[2:])      # 2진법으로 변환한 결과에서 5자리를 만들기 위해 앞에 0\n",
    "        arr2_2.append(\"0\"*(n-len(bin(arr2[i])[2:]))+bin(arr2[i])[2:])\n",
    " \n",
    "    for j in range(n):\n",
    "        \n",
    "        temp = '' # 변환할 문자열 생성\n",
    "        \n",
    "        for k in range(n):\n",
    "            \n",
    "            if int(arr1_2[j][k]) or int(arr2_2[j][k]):      # 둘 중 하나의 원소가 1일 경우 # 치환\n",
    "                temp+='#'\n",
    "                \n",
    "            else:                                           # 1이 아닌, 0이면 공백으로 치환\n",
    "                temp+=' '\n",
    "                 \n",
    "        answer.append(temp)                                 # answer에 추가\n",
    "         \n",
    "    return answer"
   ]
  },
  {
   "cell_type": "code",
   "execution_count": 55,
   "id": "0fb49586",
   "metadata": {},
   "outputs": [
    {
     "name": "stdout",
     "output_type": "stream",
     "text": [
      "['#####', '# # #', '### #', '#  ##', '#####']\n",
      "['######', '###  #', '##  ##', ' #### ', ' #####', '### # ']\n"
     ]
    }
   ],
   "source": [
    "def solution(n, arr1, arr2):\n",
    "    \n",
    "    answer = []\n",
    "    \n",
    "    arr1_2 = []\n",
    "    arr2_2 = []\n",
    "    \n",
    "    for i in range(len(arr1)):\n",
    "        \n",
    "        arr1_2.append(\"0\"*(n-len(bin(arr1[i])[2:]))+bin(arr1[i])[2:])\n",
    "        arr2_2.append(\"0\"*(n-len(bin(arr2[i])[2:]))+bin(arr2[i])[2:])\n",
    " \n",
    "    for j in range(n):\n",
    "        \n",
    "        temp = ''\n",
    "        \n",
    "        for k in range(n):\n",
    "            \n",
    "            if int(arr1_2[j][k]) or int(arr2_2[j][k]):\n",
    "                temp+='#'\n",
    "                \n",
    "            else:\n",
    "                temp+=' '\n",
    "                \n",
    "        answer.append(temp)\n",
    "        \n",
    "    return answer\n",
    "\n",
    "print(solution(5,[9, 20, 28, 18, 11],[30, 1, 21, 17, 28]))\n",
    "print(solution(6,[46, 33, 33 ,22, 31, 50],[27 ,56, 19, 14, 14, 10]))"
   ]
  },
  {
   "cell_type": "markdown",
   "id": "2d344dcb",
   "metadata": {},
   "source": [
    "#### 39. 크기가 작은 문자열\n",
    "\n",
    "숫자로 이루어진 문자열 t와 p가 주어질 때, t에서 p와 길이가 같은 부분문자열 중에서, 이 부분문자열이 나타내는 수가 p가 나타내는 수보다 작거나 같은 것이 나오는 횟수를 return하는 함수 solution을 완성하세요.\n",
    "\n",
    "예를 들어, t=\"3141592\"이고 p=\"271\" 인 경우, t의 길이가 3인 부분 문자열은 314, 141, 415, 159, 592입니다. 이 문자열이 나타내는 수 중 271보다 작거나 같은 수는 141, 159 2개 입니다."
   ]
  },
  {
   "cell_type": "code",
   "execution_count": null,
   "id": "1df060a0",
   "metadata": {},
   "outputs": [],
   "source": [
    "def solution(t, p):\n",
    "    \n",
    "    answer = 0\n",
    "    \n",
    "    li = []\n",
    "    i = 0\n",
    "    j = 0\n",
    "    \n",
    "    for i in range(len(t)):            # 문자열 t에서 p의 길이만큼 슬라이싱 반복한 결과를 리스트에 할당\n",
    "        li.append(t[i:i+len(p)])        # 처음에는 int로 변환해서 추가했는데 테스트케이스 3번째에서 02 가 2로 변환되어서 문자열 그대로 변환\n",
    "        \n",
    "    count = 0                          # p가 나타내는 수보다 작거나 같은 것이 나오는 횟수 변수 설정\n",
    "\n",
    "    for j in range(len(li)):\n",
    "    \n",
    "        if int(li[j]) <= int(p) and len(li[j]) == len(p):        # 값이 p와 작거나 같은 수 and p의 길이와 같은 수\n",
    "        \n",
    "            count += 1\n",
    "            \n",
    "            \n",
    "    \n",
    "    return count"
   ]
  },
  {
   "cell_type": "code",
   "execution_count": 119,
   "id": "2f38f982",
   "metadata": {},
   "outputs": [
    {
     "name": "stdout",
     "output_type": "stream",
     "text": [
      "2\n",
      "8\n",
      "3\n"
     ]
    }
   ],
   "source": [
    "def solution(t, p):\n",
    "    \n",
    "    answer = 0\n",
    "    \n",
    "    li = []\n",
    "    i = 0\n",
    "    j = 0\n",
    "    \n",
    "    for i in range(len(t)):\n",
    "        li.append(t[i:i+len(p)])\n",
    "        \n",
    "    count = 0\n",
    "\n",
    "    for j in range(len(li)):\n",
    "    \n",
    "        if int(li[j]) <= int(p) and len(li[j]) == len(p):\n",
    "        \n",
    "            count += 1\n",
    "            \n",
    "            \n",
    "    \n",
    "    return count\n",
    "\n",
    "print(solution(\"3141592\",\"271\"))\n",
    "print(solution(\"500220839878\",\"7\"))\n",
    "print(solution(\"10203\",\"15\"))"
   ]
  },
  {
   "cell_type": "markdown",
   "id": "edf40bdc",
   "metadata": {},
   "source": [
    "#### 40. 숫자 문자열과 영단어\n",
    "\n",
    "네오와 프로도가 숫자놀이를 하고 있습니다. 네오가 프로도에게 숫자를 건넬 때 일부 자릿수를 영단어로 바꾼 카드를 건네주면 프로도는 원래 숫자를 찾는 게임입니다.\n",
    "\n",
    "다음은 숫자의 일부 자릿수를 영단어로 바꾸는 예시입니다.\n",
    "\n",
    "1478 → \"one4seveneight\"\n",
    "\n",
    "234567 → \"23four5six7\"\n",
    "\n",
    "10203 → \"1zerotwozero3\"\n",
    "\n",
    "이렇게 숫자의 일부 자릿수가 영단어로 바뀌어졌거나, 혹은 바뀌지 않고 그대로인 문자열 s가 매개변수로 주어집니다. s가 의미하는 원래 숫자를 return 하도록 solution 함수를 완성해주세요."
   ]
  },
  {
   "cell_type": "code",
   "execution_count": null,
   "id": "7c581557",
   "metadata": {},
   "outputs": [],
   "source": [
    "def solution(s):\n",
    "    \n",
    "    num_dict = [['zero','0'], ['one','1'], ['two','2'], ['three','3'], ['four','4'],\n",
    "         ['five','5'], ['six','6'],['seven','7'],['eight','8'], ['nine','9']]\n",
    "    \n",
    "    for i in num_dict:\n",
    "        \n",
    "        s = s.replace(i[0], i[1])\n",
    "        \n",
    "    return int(s)\n"
   ]
  },
  {
   "cell_type": "code",
   "execution_count": 61,
   "id": "ebe8d1a1",
   "metadata": {},
   "outputs": [
    {
     "name": "stdout",
     "output_type": "stream",
     "text": [
      "1478\n",
      "234567\n",
      "234567\n",
      "123\n"
     ]
    }
   ],
   "source": [
    "def solution(s):\n",
    "    \n",
    "    num_dict = [['zero','0'], ['one','1'], ['two','2'], ['three','3'], ['four','4'],\n",
    "         ['five','5'], ['six','6'],['seven','7'],['eight','8'], ['nine','9']]\n",
    "    \n",
    "    for i in num_dict:\n",
    "        \n",
    "        s = s.replace(i[0], i[1])\n",
    "        \n",
    "    return int(s)\n",
    "\n",
    "\n",
    "print(solution(\"one4seveneight\"))\n",
    "print(solution(\"23four5six7\"))\n",
    "print(solution(\"2three45sixseven\"))\n",
    "print(solution(\"123\"))"
   ]
  },
  {
   "cell_type": "markdown",
   "id": "29aad8a6",
   "metadata": {},
   "source": [
    "#### 41. 문자열 내 마음대로 정렬하기\n",
    "\n",
    "문자열로 구성된 리스트 strings와, 정수 n이 주어졌을 때, 각 문자열의 인덱스 n번째 글자를 기준으로 오름차순 정렬하려 합니다. 예를 들어 strings가 [\"sun\", \"bed\", \"car\"]이고 n이 1이면 각 단어의 인덱스 1의 문자 \"u\", \"e\", \"a\"로 strings를 정렬합니다."
   ]
  },
  {
   "cell_type": "code",
   "execution_count": null,
   "id": "32cf4d59",
   "metadata": {},
   "outputs": [],
   "source": [
    "def solution(strings, n):\n",
    "    answer = []\n",
    "    for i in range(len(strings)):\n",
    "        answer.append(strings[i][n]+strings[i])\n",
    "    \n",
    "    answer.sort()\n",
    "    \n",
    "    for j in range(len(answer)):\n",
    "        answer[j] = answer[j][1:]  \n",
    "        \n",
    "    return answer"
   ]
  },
  {
   "cell_type": "code",
   "execution_count": 81,
   "id": "4199b536",
   "metadata": {},
   "outputs": [
    {
     "name": "stdout",
     "output_type": "stream",
     "text": [
      "['car', 'bed', 'sun']\n"
     ]
    }
   ],
   "source": [
    "def solution(strings, n):\n",
    "    answer = []\n",
    "    for i in range(len(strings)):\n",
    "        answer.append(strings[i][n]+strings[i])\n",
    "    \n",
    "    answer.sort()\n",
    "    \n",
    "    for j in range(len(answer)):\n",
    "        answer[j] = answer[j][1:]  \n",
    "        \n",
    "    return answer\n",
    "\n",
    "print(solution([\"sun\", \"bed\", \"car\"],1))"
   ]
  },
  {
   "cell_type": "markdown",
   "id": "5235cc57",
   "metadata": {},
   "source": [
    "#### 42. K번째 수\n",
    "\n",
    "배열 array의 i번째 숫자부터 j번째 숫자까지 자르고 정렬했을 때, k번째에 있는 수를 구하려 합니다.\n",
    "\n",
    "예를 들어 array가 [1, 5, 2, 6, 3, 7, 4], i = 2, j = 5, k = 3이라면\n",
    "\n",
    "1. array의 2번째부터 5번째까지 자르면 [5, 2, 6, 3]입니다.\n",
    "\n",
    "2. 1에서 나온 배열을 정렬하면 [2, 3, 5, 6]입니다.\n",
    "\n",
    "3. 2에서 나온 배열의 3번째 숫자는 5입니다.\n",
    "\n",
    "배열 array, [i, j, k]를 원소로 가진 2차원 배열 commands가 매개변수로 주어질 때, commands의 모든 원소에 대해 앞서 설명한 연산을 적용했을 때 나온 결과를 배열에 담아 return 하도록 solution 함수를 작성해주세요."
   ]
  },
  {
   "cell_type": "code",
   "execution_count": null,
   "id": "c057ea0d",
   "metadata": {},
   "outputs": [],
   "source": [
    "def solution(array, commands):\n",
    "    \n",
    "    \n",
    "    answer = []\n",
    "    \n",
    "    for i in range(len(commands)):\n",
    "    \n",
    "        a_slice = sorted(array[commands[i][0]-1:commands[i][1]])\n",
    "    \n",
    "        answer.append(a_slice[commands[i][2]-1])\n",
    "    \n",
    "    return answer"
   ]
  },
  {
   "cell_type": "code",
   "execution_count": 106,
   "id": "170ca796",
   "metadata": {},
   "outputs": [
    {
     "name": "stdout",
     "output_type": "stream",
     "text": [
      "[5, 6, 3]\n"
     ]
    }
   ],
   "source": [
    "def solution(array, commands):\n",
    "    \n",
    "    \n",
    "    answer = []\n",
    "    \n",
    "    for i in range(len(commands)):\n",
    "    \n",
    "        a_slice = sorted(array[commands[i][0]-1:commands[i][1]])\n",
    "    \n",
    "        answer.append(a_slice[commands[i][2]-1])\n",
    "    \n",
    "    return answer\n",
    "\n"
   ]
  },
  {
   "cell_type": "code",
   "execution_count": null,
   "id": "b45ddb42",
   "metadata": {},
   "outputs": [],
   "source": []
  },
  {
   "cell_type": "code",
   "execution_count": null,
   "id": "b10ae7f1",
   "metadata": {},
   "outputs": [],
   "source": []
  }
 ],
 "metadata": {
  "kernelspec": {
   "display_name": "Python 3 (ipykernel)",
   "language": "python",
   "name": "python3"
  },
  "language_info": {
   "codemirror_mode": {
    "name": "ipython",
    "version": 3
   },
   "file_extension": ".py",
   "mimetype": "text/x-python",
   "name": "python",
   "nbconvert_exporter": "python",
   "pygments_lexer": "ipython3",
   "version": "3.10.9"
  }
 },
 "nbformat": 4,
 "nbformat_minor": 5
}
