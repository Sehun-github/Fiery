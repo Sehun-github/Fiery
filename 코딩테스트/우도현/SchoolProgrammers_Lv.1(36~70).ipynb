{
 "cells": [
  {
   "cell_type": "markdown",
   "id": "8c1532bc",
   "metadata": {},
   "source": [
    "# SchoolProgrammers Coding_Test Lv.1(35~70)\n",
    "\n",
    "https://school.programmers.co.kr/learn/challenges?order=acceptance_desc&levels=1&languages=python3"
   ]
  },
  {
   "cell_type": "markdown",
   "id": "fd7c8463",
   "metadata": {},
   "source": [
    "##  No.36~42(2023.05.22)"
   ]
  },
  {
   "cell_type": "markdown",
   "id": "e3453a19",
   "metadata": {},
   "source": [
    "#### 36. 삼총사\n",
    "\n",
    "한국중학교에 다니는 학생들은 각자 정수 번호를 갖고 있습니다. 이 학교 학생 3명의 정수 번호를 더했을 때 0이 되면 3명의 학생은 삼총사라고 합니다. 예를 들어, 5명의 학생이 있고, 각각의 정수 번호가 순서대로 -2, 3, 0, 2, -5일 때, 첫 번째, 세 번째, 네 번째 학생의 정수 번호를 더하면 0이므로 세 학생은 삼총사입니다. 또한, 두 번째, 네 번째, 다섯 번째 학생의 정수 번호를 더해도 0이므로 세 학생도 삼총사입니다. 따라서 이 경우 한국중학교에서는 두 가지 방법으로 삼총사를 만들 수 있습니다.\n",
    "\n",
    "한국중학교 학생들의 번호를 나타내는 정수 배열 number가 매개변수로 주어질 때, 학생들 중 삼총사를 만들 수 있는 방법의 수를 return 하도록 solution 함수를 완성하세요."
   ]
  },
  {
   "cell_type": "code",
   "execution_count": null,
   "id": "3a852fc3",
   "metadata": {},
   "outputs": [],
   "source": [
    "import itertools   # combinations(조합) 구현하기 위한 import\n",
    "\n",
    "\n",
    "def solution(number):\n",
    "\n",
    "    count = 0       # 삼총사를 만들 수 있는 방법의 수 변수에 담기\n",
    "    \n",
    "    for i in itertools.combinations(number,3):        # itetools.combination(조합을 만들 리스트, 뽑을 조합의 갯수)\n",
    "        \n",
    "        if sum(i) == 0:\n",
    "            \n",
    "            count += 1\n",
    "        \n",
    "    \n",
    "    return count"
   ]
  },
  {
   "cell_type": "code",
   "execution_count": 3,
   "id": "d45d99b4",
   "metadata": {},
   "outputs": [
    {
     "name": "stdout",
     "output_type": "stream",
     "text": [
      "2\n"
     ]
    }
   ],
   "source": [
    "import itertools\n",
    "\n",
    "\n",
    "def solution(number):\n",
    "\n",
    "    count = 0\n",
    "    \n",
    "    for i in itertools.combinations(number,3):\n",
    "        \n",
    "        if sum(i) == 0:\n",
    "            \n",
    "            count += 1\n",
    "        \n",
    "    \n",
    "    return count\n",
    "\n",
    "print(solution([-2,3,0,2,-5]))"
   ]
  },
  {
   "cell_type": "markdown",
   "id": "9c2ef656",
   "metadata": {},
   "source": [
    "#### 37. 최소 직사각형\n",
    "\n",
    "명함 지갑을 만드는 회사에서 지갑의 크기를 정하려고 합니다. 다양한 모양과 크기의 명함들을 모두 수납할 수 있으면서, 작아서 들고 다니기 편한 지갑을 만들어야 합니다. 이러한 요건을 만족하는 지갑을 만들기 위해 디자인팀은 모든 명함의 가로 길이와 세로 길이를 조사했습니다.\n",
    "\n",
    "아래 표는 4가지 명함의 가로 길이와 세로 길이를 나타냅니다.\n",
    "\n",
    "명함 번호\t가로 길이\t세로 길이\n",
    "\n",
    "1\t          60\t       50\n",
    "\n",
    "2\t          30\t       70\n",
    "\n",
    "3\t          60\t       30\n",
    "\n",
    "4\t          80\t       40\n",
    "\n",
    "가장 긴 가로 길이와 세로 길이가 각각 80, 70이기 때문에 80(가로) x 70(세로) 크기의 지갑을 만들면 모든 명함들을 수납할 수 있습니다. 하지만 2번 명함을 가로로 눕혀 수납한다면 80(가로) x 50(세로) 크기의 지갑으로 모든 명함들을 수납할 수 있습니다. 이때의 지갑 크기는 4000(=80 x 50)입니다.\n",
    "\n",
    "모든 명함의 가로 길이와 세로 길이를 나타내는 2차원 배열 sizes가 매개변수로 주어집니다. 모든 명함을 수납할 수 있는 가장 작은 지갑을 만들 때, 지갑의 크기를 return 하도록 solution 함수를 완성해주세요.\n",
    "\n"
   ]
  },
  {
   "cell_type": "code",
   "execution_count": null,
   "id": "f421aca8",
   "metadata": {},
   "outputs": [],
   "source": [
    "def solution(sizes):\n",
    "    \n",
    "    \n",
    "    long = []                  # 가로 세로 길이 중 긴 길이 리스트\n",
    "    short = []                 # 가로 세로 길이 중 짧은 길이 리스트\n",
    "    \n",
    "    i = 0\n",
    "    \n",
    "    for i in range(len(sizes)):\n",
    "        \n",
    "        if sizes[i][0] > sizes[i][1]:         # 원소의 가로가 길면 가로를 long 리스트에 / 세로를 short 리스트에\n",
    "            \n",
    "            long.append(sizes[i][0])\n",
    "            short.append(sizes[i][1])\n",
    "            \n",
    "        else:                                 # 원소의 세로가 길면 가로를 short 리스트에 / 세로를 long 리스트에\n",
    "            long.append(sizes[i][1])\n",
    "            short.append(sizes[i][0])\n",
    "    \n",
    "    return max(long) * max(short)            # long의 최대값 * short 최대값이 작은 지갑의 크기"
   ]
  },
  {
   "cell_type": "code",
   "execution_count": 7,
   "id": "f59e339c",
   "metadata": {},
   "outputs": [
    {
     "name": "stdout",
     "output_type": "stream",
     "text": [
      "4000\n",
      "120\n",
      "133\n"
     ]
    }
   ],
   "source": [
    "def solution(sizes):\n",
    "    \n",
    "    long = []\n",
    "    short = []\n",
    "    \n",
    "    i = 0\n",
    "    \n",
    "    for i in range(len(sizes)):\n",
    "        \n",
    "        if sizes[i][0] > sizes[i][1]:\n",
    "            \n",
    "            long.append(sizes[i][0])\n",
    "            short.append(sizes[i][1])\n",
    "            \n",
    "        else:\n",
    "            long.append(sizes[i][1])\n",
    "            short.append(sizes[i][0])\n",
    "    \n",
    "    return max(long) * max(short)\n",
    "\n",
    "print(solution([[60, 50], [30, 70], [60, 30], [80, 40]]))\n",
    "print(solution([[10, 7], [12, 3], [8, 15], [14, 7], [5, 15]]))\n",
    "print(solution([[14, 4], [19, 6], [6, 16], [18, 7], [7, 11]]))"
   ]
  },
  {
   "cell_type": "markdown",
   "id": "efb178db",
   "metadata": {},
   "source": [
    "38. 비밀지도\n",
    "\n",
    "네오는 평소 프로도가 비상금을 숨겨놓는 장소를 알려줄 비밀지도를 손에 넣었다. 그런데 이 비밀지도는 숫자로 암호화되어 있어 위치를 확인하기 위해서는 암호를 해독해야 한다. 다행히 지도 암호를 해독할 방법을 적어놓은 메모도 함께 발견했다.\n",
    "\n",
    "1. 지도는 한 변의 길이가 n인 정사각형 배열 형태로, 각 칸은 \"공백\"(\" \") 또는 \"벽\"(\"#\") 두 종류로 이루어져 있다.\n",
    "2. 전체 지도는 두 장의 지도를 겹쳐서 얻을 수 있다. 각각 \"지도 1\"과 \"지도 2\"라고 하자. 지도 1 또는 지도 2 중 어느 하나라도 벽인 부분은전체 지도에서도 벽이다. 지도 1과 지도 2에서 모두 공백인 부분은 전체 지도에서도 공백이다. \n",
    "3. \"지도 1\"과 \"지도 2\"는 각각 정수 배열로 암호화되어 있다.\n",
    "4. 암호화된 배열은 지도의 각 가로줄에서 벽 부분을 1, 공백 부분을 0으로 부호화했을 때 얻어지는 이진수에 해당하는 값의 배열이다."
   ]
  },
  {
   "cell_type": "code",
   "execution_count": null,
   "id": "5e3318ee",
   "metadata": {},
   "outputs": [],
   "source": [
    "def solution(n, arr1, arr2):\n",
    "    \n",
    "    answer = []\n",
    "    \n",
    "    arr1_2 = []                # arr1 배열의 원소를 2진법으로 변환하고 담을 배열 \n",
    "    arr2_2 = []                # arr2 배열의 원소를 2진법으로 변환하고 담을 배열\n",
    "    \n",
    "    for i in range(len(arr1)):\n",
    "        \n",
    "        arr1_2.append(\"0\"*(n-len(bin(arr1[i])[2:]))+bin(arr1[i])[2:])      # 2진법으로 변환한 결과에서 5자리를 만들기 위해 앞에 0\n",
    "        arr2_2.append(\"0\"*(n-len(bin(arr2[i])[2:]))+bin(arr2[i])[2:])\n",
    " \n",
    "    for j in range(n):\n",
    "        \n",
    "        temp = '' # 변환할 문자열 생성\n",
    "        \n",
    "        for k in range(n):\n",
    "            \n",
    "            if int(arr1_2[j][k]) or int(arr2_2[j][k]):      # 둘 중 하나의 원소가 1일 경우 # 치환\n",
    "                temp+='#'\n",
    "                \n",
    "            else:                                           # 1이 아닌, 0이면 공백으로 치환\n",
    "                temp+=' '\n",
    "                 \n",
    "        answer.append(temp)                                 # answer에 추가\n",
    "         \n",
    "    return answer"
   ]
  },
  {
   "cell_type": "code",
   "execution_count": 55,
   "id": "0fb49586",
   "metadata": {},
   "outputs": [
    {
     "name": "stdout",
     "output_type": "stream",
     "text": [
      "['#####', '# # #', '### #', '#  ##', '#####']\n",
      "['######', '###  #', '##  ##', ' #### ', ' #####', '### # ']\n"
     ]
    }
   ],
   "source": [
    "def solution(n, arr1, arr2):\n",
    "    \n",
    "    answer = []\n",
    "    \n",
    "    arr1_2 = []\n",
    "    arr2_2 = []\n",
    "    \n",
    "    for i in range(len(arr1)):\n",
    "        \n",
    "        arr1_2.append(\"0\"*(n-len(bin(arr1[i])[2:]))+bin(arr1[i])[2:])\n",
    "        arr2_2.append(\"0\"*(n-len(bin(arr2[i])[2:]))+bin(arr2[i])[2:])\n",
    " \n",
    "    for j in range(n):\n",
    "        \n",
    "        temp = ''\n",
    "        \n",
    "        for k in range(n):\n",
    "            \n",
    "            if int(arr1_2[j][k]) or int(arr2_2[j][k]):\n",
    "                temp+='#'\n",
    "                \n",
    "            else:\n",
    "                temp+=' '\n",
    "                \n",
    "        answer.append(temp)\n",
    "        \n",
    "    return answer\n",
    "\n",
    "print(solution(5,[9, 20, 28, 18, 11],[30, 1, 21, 17, 28]))\n",
    "print(solution(6,[46, 33, 33 ,22, 31, 50],[27 ,56, 19, 14, 14, 10]))"
   ]
  },
  {
   "cell_type": "markdown",
   "id": "2d344dcb",
   "metadata": {},
   "source": [
    "#### 39. 크기가 작은 문자열\n",
    "\n",
    "숫자로 이루어진 문자열 t와 p가 주어질 때, t에서 p와 길이가 같은 부분문자열 중에서, 이 부분문자열이 나타내는 수가 p가 나타내는 수보다 작거나 같은 것이 나오는 횟수를 return하는 함수 solution을 완성하세요.\n",
    "\n",
    "예를 들어, t=\"3141592\"이고 p=\"271\" 인 경우, t의 길이가 3인 부분 문자열은 314, 141, 415, 159, 592입니다. 이 문자열이 나타내는 수 중 271보다 작거나 같은 수는 141, 159 2개 입니다."
   ]
  },
  {
   "cell_type": "code",
   "execution_count": null,
   "id": "1df060a0",
   "metadata": {},
   "outputs": [],
   "source": [
    "def solution(t, p):\n",
    "    \n",
    "    answer = 0\n",
    "    \n",
    "    li = []\n",
    "    i = 0\n",
    "    j = 0\n",
    "    \n",
    "    for i in range(len(t)):            # 문자열 t에서 p의 길이만큼 슬라이싱 반복한 결과를 리스트에 할당\n",
    "        li.append(t[i:i+len(p)])        # 처음에는 int로 변환해서 추가했는데 테스트케이스 3번째에서 02 가 2로 변환되어서 문자열 그대로 변환\n",
    "        \n",
    "    count = 0                          # p가 나타내는 수보다 작거나 같은 것이 나오는 횟수 변수 설정\n",
    "\n",
    "    for j in range(len(li)):\n",
    "    \n",
    "        if int(li[j]) <= int(p) and len(li[j]) == len(p):        # 값이 p와 작거나 같은 수 and p의 길이와 같은 수\n",
    "        \n",
    "            count += 1\n",
    "            \n",
    "            \n",
    "    \n",
    "    return count"
   ]
  },
  {
   "cell_type": "code",
   "execution_count": 119,
   "id": "2f38f982",
   "metadata": {},
   "outputs": [
    {
     "name": "stdout",
     "output_type": "stream",
     "text": [
      "2\n",
      "8\n",
      "3\n"
     ]
    }
   ],
   "source": [
    "def solution(t, p):\n",
    "    \n",
    "    answer = 0\n",
    "    \n",
    "    li = []\n",
    "    i = 0\n",
    "    j = 0\n",
    "    \n",
    "    for i in range(len(t)):\n",
    "        li.append(t[i:i+len(p)])\n",
    "        \n",
    "    count = 0\n",
    "\n",
    "    for j in range(len(li)):\n",
    "    \n",
    "        if int(li[j]) <= int(p) and len(li[j]) == len(p):\n",
    "        \n",
    "            count += 1\n",
    "            \n",
    "            \n",
    "    \n",
    "    return count\n",
    "\n",
    "print(solution(\"3141592\",\"271\"))\n",
    "print(solution(\"500220839878\",\"7\"))\n",
    "print(solution(\"10203\",\"15\"))"
   ]
  },
  {
   "cell_type": "markdown",
   "id": "edf40bdc",
   "metadata": {},
   "source": [
    "#### 40. 숫자 문자열과 영단어\n",
    "\n",
    "네오와 프로도가 숫자놀이를 하고 있습니다. 네오가 프로도에게 숫자를 건넬 때 일부 자릿수를 영단어로 바꾼 카드를 건네주면 프로도는 원래 숫자를 찾는 게임입니다.\n",
    "\n",
    "다음은 숫자의 일부 자릿수를 영단어로 바꾸는 예시입니다.\n",
    "\n",
    "1478 → \"one4seveneight\"\n",
    "\n",
    "234567 → \"23four5six7\"\n",
    "\n",
    "10203 → \"1zerotwozero3\"\n",
    "\n",
    "이렇게 숫자의 일부 자릿수가 영단어로 바뀌어졌거나, 혹은 바뀌지 않고 그대로인 문자열 s가 매개변수로 주어집니다. s가 의미하는 원래 숫자를 return 하도록 solution 함수를 완성해주세요."
   ]
  },
  {
   "cell_type": "code",
   "execution_count": null,
   "id": "7c581557",
   "metadata": {},
   "outputs": [],
   "source": [
    "def solution(s):\n",
    "    \n",
    "    num_dict = [['zero','0'], ['one','1'], ['two','2'], ['three','3'], ['four','4'],\n",
    "         ['five','5'], ['six','6'],['seven','7'],['eight','8'], ['nine','9']]\n",
    "    \n",
    "    for i in num_dict:\n",
    "        \n",
    "        s = s.replace(i[0], i[1])\n",
    "        \n",
    "    return int(s)\n"
   ]
  },
  {
   "cell_type": "code",
   "execution_count": 61,
   "id": "ebe8d1a1",
   "metadata": {},
   "outputs": [
    {
     "name": "stdout",
     "output_type": "stream",
     "text": [
      "1478\n",
      "234567\n",
      "234567\n",
      "123\n"
     ]
    }
   ],
   "source": [
    "def solution(s):\n",
    "    \n",
    "    num_dict = [['zero','0'], ['one','1'], ['two','2'], ['three','3'], ['four','4'],\n",
    "         ['five','5'], ['six','6'],['seven','7'],['eight','8'], ['nine','9']]\n",
    "    \n",
    "    for i in num_dict:\n",
    "        \n",
    "        s = s.replace(i[0], i[1])\n",
    "        \n",
    "    return int(s)\n",
    "\n",
    "\n",
    "print(solution(\"one4seveneight\"))\n",
    "print(solution(\"23four5six7\"))\n",
    "print(solution(\"2three45sixseven\"))\n",
    "print(solution(\"123\"))"
   ]
  },
  {
   "cell_type": "markdown",
   "id": "29aad8a6",
   "metadata": {},
   "source": [
    "#### 41. 문자열 내 마음대로 정렬하기\n",
    "\n",
    "문자열로 구성된 리스트 strings와, 정수 n이 주어졌을 때, 각 문자열의 인덱스 n번째 글자를 기준으로 오름차순 정렬하려 합니다. 예를 들어 strings가 [\"sun\", \"bed\", \"car\"]이고 n이 1이면 각 단어의 인덱스 1의 문자 \"u\", \"e\", \"a\"로 strings를 정렬합니다."
   ]
  },
  {
   "cell_type": "code",
   "execution_count": null,
   "id": "32cf4d59",
   "metadata": {},
   "outputs": [],
   "source": [
    "def solution(strings, n):\n",
    "    answer = []\n",
    "    for i in range(len(strings)):\n",
    "        answer.append(strings[i][n]+strings[i])\n",
    "    \n",
    "    answer.sort()\n",
    "    \n",
    "    for j in range(len(answer)):\n",
    "        answer[j] = answer[j][1:]  \n",
    "        \n",
    "    return answer"
   ]
  },
  {
   "cell_type": "code",
   "execution_count": 81,
   "id": "4199b536",
   "metadata": {},
   "outputs": [
    {
     "name": "stdout",
     "output_type": "stream",
     "text": [
      "['car', 'bed', 'sun']\n"
     ]
    }
   ],
   "source": [
    "def solution(strings, n):\n",
    "    answer = []\n",
    "    for i in range(len(strings)):\n",
    "        answer.append(strings[i][n]+strings[i])\n",
    "    \n",
    "    answer.sort()\n",
    "    \n",
    "    for j in range(len(answer)):\n",
    "        answer[j] = answer[j][1:]  \n",
    "        \n",
    "    return answer\n",
    "\n",
    "print(solution([\"sun\", \"bed\", \"car\"],1))"
   ]
  },
  {
   "cell_type": "markdown",
   "id": "5235cc57",
   "metadata": {},
   "source": [
    "#### 42. K번째 수\n",
    "\n",
    "배열 array의 i번째 숫자부터 j번째 숫자까지 자르고 정렬했을 때, k번째에 있는 수를 구하려 합니다.\n",
    "\n",
    "예를 들어 array가 [1, 5, 2, 6, 3, 7, 4], i = 2, j = 5, k = 3이라면\n",
    "\n",
    "1. array의 2번째부터 5번째까지 자르면 [5, 2, 6, 3]입니다.\n",
    "\n",
    "2. 1에서 나온 배열을 정렬하면 [2, 3, 5, 6]입니다.\n",
    "\n",
    "3. 2에서 나온 배열의 3번째 숫자는 5입니다.\n",
    "\n",
    "배열 array, [i, j, k]를 원소로 가진 2차원 배열 commands가 매개변수로 주어질 때, commands의 모든 원소에 대해 앞서 설명한 연산을 적용했을 때 나온 결과를 배열에 담아 return 하도록 solution 함수를 작성해주세요."
   ]
  },
  {
   "cell_type": "code",
   "execution_count": null,
   "id": "c057ea0d",
   "metadata": {},
   "outputs": [],
   "source": [
    "def solution(array, commands):\n",
    "    \n",
    "    \n",
    "    answer = []\n",
    "    \n",
    "    for i in range(len(commands)):\n",
    "    \n",
    "        a_slice = sorted(array[commands[i][0]-1:commands[i][1]])\n",
    "    \n",
    "        answer.append(a_slice[commands[i][2]-1])\n",
    "    \n",
    "    return answer"
   ]
  },
  {
   "cell_type": "code",
   "execution_count": 106,
   "id": "170ca796",
   "metadata": {},
   "outputs": [
    {
     "name": "stdout",
     "output_type": "stream",
     "text": [
      "[5, 6, 3]\n"
     ]
    }
   ],
   "source": [
    "def solution(array, commands):\n",
    "    \n",
    "    \n",
    "    answer = []\n",
    "    \n",
    "    for i in range(len(commands)):\n",
    "    \n",
    "        a_slice = sorted(array[commands[i][0]-1:commands[i][1]])\n",
    "    \n",
    "        answer.append(a_slice[commands[i][2]-1])\n",
    "    \n",
    "    return answer\n",
    "\n"
   ]
  },
  {
   "cell_type": "markdown",
   "id": "f06ad415",
   "metadata": {},
   "source": [
    "##  No.43~49(2023.05.23)"
   ]
  },
  {
   "cell_type": "markdown",
   "id": "b358b774",
   "metadata": {},
   "source": [
    "#### 43. 두 개 뽑아서 더하기\n",
    "\n",
    "정수 배열 numbers가 주어집니다. numbers에서 서로 다른 인덱스에 있는 두 개의 수를 뽑아 더해서 만들 수 있는 모든 수를 배열에 오름차순으로 담아 return 하도록 solution 함수를 완성해주세요."
   ]
  },
  {
   "cell_type": "code",
   "execution_count": null,
   "id": "bb542dbb",
   "metadata": {},
   "outputs": [],
   "source": [
    "import itertools\n",
    "\n",
    "def solution(numbers):\n",
    "\n",
    "    answer = []\n",
    "    \n",
    "    for i in itertools.combinations(numbers,2):    # 배열에서 조합하는 변수 : combination\n",
    "        \n",
    "        answer.append(sum(i))                       # 두 개의 수 합을 answer에 추가\n",
    "        \n",
    "         \n",
    "    answer_sort = sorted(answer)                    #먼저 오름차순정렬\n",
    "    answer_set = list(set(answer_sort))             #배열에 중복 제거(set)\n",
    "\n",
    "    return sorted(answer_set)               # set을 하면 정렬이 풀림, 정렬을 다시 해줘야함."
   ]
  },
  {
   "cell_type": "code",
   "execution_count": 111,
   "id": "135c15a4",
   "metadata": {},
   "outputs": [
    {
     "name": "stdout",
     "output_type": "stream",
     "text": [
      "[2, 3, 4, 5, 6, 7]\n",
      "[2, 5, 7, 9, 12]\n"
     ]
    }
   ],
   "source": [
    "import itertools\n",
    "\n",
    "def solution(numbers):\n",
    "\n",
    "    answer = []\n",
    "    \n",
    "    for i in itertools.combinations(numbers,2):\n",
    "        \n",
    "        answer.append(sum(i))\n",
    "        \n",
    "        \n",
    "    answer_sort = sorted(answer)    \n",
    "    answer_set = list(set(answer_sort))\n",
    "\n",
    "    return sorted(answer_set)\n",
    "\n",
    "print(solution([2,1,3,4,1]))\n",
    "print(solution([5,0,2,7]))"
   ]
  },
  {
   "cell_type": "markdown",
   "id": "5be7d936",
   "metadata": {},
   "source": [
    "#### 44. 푸드 파이트 대회\n",
    "\n",
    "수웅이는 매달 주어진 음식을 빨리 먹는 푸드 파이트 대회를 개최합니다. 이 대회에서 선수들은 1대 1로 대결하며, 매 대결마다 음식의 종류와 양이 바뀝니다. 대결은 준비된 음식들을 일렬로 배치한 뒤, 한 선수는 제일 왼쪽에 있는 음식부터 오른쪽으로, 다른 선수는 제일 오른쪽에 있는 음식부터 왼쪽으로 순서대로 먹는 방식으로 진행됩니다. 중앙에는 물을 배치하고, 물을 먼저 먹는 선수가 승리하게 됩니다.\n",
    "\n",
    "이때, 대회의 공정성을 위해 두 선수가 먹는 음식의 종류와 양이 같아야 하며, 음식을 먹는 순서도 같아야 합니다. 또한, 이번 대회부터는 칼로리가 낮은 음식을 먼저 먹을 수 있게 배치하여 선수들이 음식을 더 잘 먹을 수 있게 하려고 합니다. 이번 대회를 위해 수웅이는 음식을 주문했는데, 대회의 조건을 고려하지 않고 음식을 주문하여 몇 개의 음식은 대회에 사용하지 못하게 되었습니다.\n",
    "\n",
    "예를 들어, 3가지의 음식이 준비되어 있으며, 칼로리가 적은 순서대로 1번 음식을 3개, 2번 음식을 4개, 3번 음식을 6개 준비했으며, 물을 편의상 0번 음식이라고 칭한다면, 두 선수는 1번 음식 1개, 2번 음식 2개, 3번 음식 3개씩을 먹게 되므로 음식의 배치는 \"1223330333221\"이 됩니다. 따라서 1번 음식 1개는 대회에 사용하지 못합니다.\n",
    "\n",
    "수웅이가 준비한 음식의 양을 칼로리가 적은 순서대로 나타내는 정수 배열 food가 주어졌을 때, 대회를 위한 음식의 배치를 나타내는 문자열을 return 하는 solution 함수를 완성해주세요"
   ]
  },
  {
   "cell_type": "code",
   "execution_count": null,
   "id": "1cb62a06",
   "metadata": {},
   "outputs": [],
   "source": [
    "def solution(food):\n",
    "    \n",
    "    answer = ''\n",
    "    i = 0\n",
    "    j = 0\n",
    "    \n",
    "    \n",
    "    for i in range(1,len(food)):\n",
    "        \n",
    "        if food[i] > 1:\n",
    "            \n",
    "            answer += str(i)*(int(food[i]/2))\n",
    "            \n",
    "        else:\n",
    "            continue\n",
    "        \n",
    "    answer += '0'\n",
    "    \n",
    "    for j in range(len(food)-1,0,-1):\n",
    "        \n",
    "        if food[j] > 1:\n",
    "            \n",
    "            answer += str(j)*(int(food[j]/2))\n",
    "        \n",
    "        else:\n",
    "            continue"
   ]
  },
  {
   "cell_type": "code",
   "execution_count": 139,
   "id": "7f07c76e",
   "metadata": {},
   "outputs": [
    {
     "name": "stdout",
     "output_type": "stream",
     "text": [
      "1223330333221\n",
      "111303111\n"
     ]
    }
   ],
   "source": [
    "def solution(food):\n",
    "    \n",
    "    answer = ''\n",
    "    i = 0\n",
    "    j = 0\n",
    "    \n",
    "    \n",
    "    for i in range(1,len(food)):\n",
    "        \n",
    "        if food[i] > 1:\n",
    "            \n",
    "            answer += str(i)*(int(food[i]/2))\n",
    "            \n",
    "        else:\n",
    "            continue\n",
    "        \n",
    "    answer += '0'\n",
    "    \n",
    "    for j in range(len(food)-1,0,-1):\n",
    "        \n",
    "        if food[j] > 1:\n",
    "            \n",
    "            answer += str(j)*(int(food[j]/2))\n",
    "        \n",
    "        else:\n",
    "            continue\n",
    "    \n",
    "    return answer\n",
    "\n",
    "print(solution([1,3,4,6]))\n",
    "print(solution([1,7,1,2]))"
   ]
  },
  {
   "cell_type": "markdown",
   "id": "5cfcf948",
   "metadata": {},
   "source": [
    "#### 45. 콜라문제\n",
    "\n",
    "문제를 풀던 상빈이는 콜라 문제의 완벽한 해답을 찾았습니다. 상빈이가 푼 방법은 아래 그림과 같습니다. 우선 콜라 빈 병 20병을 가져가서 10병을 받습니다. 받은 10병을 모두 마신 뒤, 가져가서 5병을 받습니다. 5병 중 4병을 모두 마신 뒤 가져가서 2병을 받고, 또 2병을 모두 마신 뒤 가져가서 1병을 받습니다. 받은 1병과 5병을 받았을 때 남은 1병을 모두 마신 뒤 가져가면 1병을 또 받을 수 있습니다. 이 경우 상빈이는 총 10 + 5 + 2 + 1 + 1 = 19병의 콜라를 받을 수 있습니다.\n",
    "\n",
    "문제를 열심히 풀던 상빈이는 일반화된 콜라 문제를 생각했습니다. 이 문제는 빈 병 a개를 가져다주면 콜라 b병을 주는 마트가 있을 때, 빈 병 n개를 가져다주면 몇 병을 받을 수 있는지 계산하는 문제입니다. 기존 콜라 문제와 마찬가지로, 보유 중인 빈 병이 a개 미만이면, 추가적으로 빈 병을 받을 순 없습니다. 상빈이는 열심히 고심했지만, 일반화된 콜라 문제의 답을 찾을 수 없었습니다. 상빈이를 도와, 일반화된 콜라 문제를 해결하는 프로그램을 만들어 주세요.\n",
    "\n",
    "콜라를 받기 위해 마트에 주어야 하는 병 수 a, 빈 병 a개를 가져다 주면 마트가 주는 콜라 병 수 b, 상빈이가 가지고 있는 빈 병의 개수 n이 매개변수로 주어집니다. 상빈이가 받을 수 있는 콜라의 병 수를 return 하도록 solution 함수를 작성해주세요."
   ]
  },
  {
   "cell_type": "code",
   "execution_count": null,
   "id": "77186773",
   "metadata": {},
   "outputs": [],
   "source": [
    "def solution(a, b, n):\n",
    "    \n",
    "\n",
    "    answer = 0\n",
    "    \n",
    "    while True:            # 무한반복\n",
    "        \n",
    "        if n < a:           # 보유중인 빈병 n이 a보다 작으면 빠져나오기\n",
    "            break\n",
    "            \n",
    "        answer+=(n//a)*b    # 보유 빈병에서 a를 나눈 몫에서 b를 곱한 수를 answer에 더하기\n",
    "        \n",
    "        n = (n//a)*b + n%a  \n",
    "\n",
    "    return answer"
   ]
  },
  {
   "cell_type": "code",
   "execution_count": 147,
   "id": "65377dbb",
   "metadata": {},
   "outputs": [
    {
     "name": "stdout",
     "output_type": "stream",
     "text": [
      "19\n",
      "9\n"
     ]
    }
   ],
   "source": [
    "def solution(a, b, n):\n",
    "    \n",
    "\n",
    "    answer = 0\n",
    "    \n",
    "    while True:           \n",
    "        \n",
    "        if n < a:           \n",
    "            break\n",
    "            \n",
    "        answer+=(n//a)*b    \n",
    "        \n",
    "        n = (n//a)*b + n%a  \n",
    "\n",
    "    return answer\n",
    "\n",
    "print(solution(2,1,20))\n",
    "print(solution(3,1,20))"
   ]
  },
  {
   "cell_type": "code",
   "execution_count": 149,
   "id": "13908ba6",
   "metadata": {},
   "outputs": [
    {
     "name": "stdout",
     "output_type": "stream",
     "text": [
      "19\n",
      "9\n"
     ]
    }
   ],
   "source": [
    "solution = lambda a, b, n: max(n - b, 0) // (a - b) * b\n",
    "\n",
    "\n",
    "print(solution(2,1,20))\n",
    "print(solution(3,1,20))"
   ]
  },
  {
   "cell_type": "markdown",
   "id": "a92674da",
   "metadata": {},
   "source": [
    "#### 46. 가장 가까운 같은 글자\n",
    "\n",
    "문자열 s가 주어졌을 때, s의 각 위치마다 자신보다 앞에 나왔으면서, 자신과 가장 가까운 곳에 있는 같은 글자가 어디 있는지 알고 싶습니다.\n",
    "예를 들어, s=\"banana\"라고 할 때,  각 글자들을 왼쪽부터 오른쪽으로 읽어 나가면서 다음과 같이 진행할 수 있습니다.\n",
    "\n",
    "b는 처음 나왔기 때문에 자신의 앞에 같은 글자가 없습니다. 이는 -1로 표현합니다.\n",
    "\n",
    "a는 처음 나왔기 때문에 자신의 앞에 같은 글자가 없습니다. 이는 -1로 표현합니다.\n",
    "\n",
    "n은 처음 나왔기 때문에 자신의 앞에 같은 글자가 없습니다. 이는 -1로 표현합니다.\n",
    "\n",
    "a는 자신보다 두 칸 앞에 a가 있습니다. 이는 2로 표현합니다.\n",
    "\n",
    "n도 자신보다 두 칸 앞에 n이 있습니다. 이는 2로 표현합니다.\n",
    "\n",
    "a는 자신보다 두 칸, 네 칸 앞에 a가 있습니다. 이 중 가까운 것은 두 칸 앞이고, 이는 2로 표현합니다.\n",
    "\n",
    "따라서 최종 결과물은 [-1, -1, -1, 2, 2, 2]가 됩니다.\n",
    "\n",
    "문자열 s이 주어질 때, 위와 같이 정의된 연산을 수행하는 함수 solution을 완성해주세요."
   ]
  },
  {
   "cell_type": "code",
   "execution_count": null,
   "id": "f46f9c10",
   "metadata": {},
   "outputs": [],
   "source": [
    "def solution(s):\n",
    "    \n",
    "    answer = []\n",
    "    \n",
    "    for i in range((len(s))):\n",
    "        \n",
    "        t = s[:i]    \n",
    "        \n",
    "        idx = t.rfind(s[i])          # rfind = 뒤에서부터 찾기\n",
    "        \n",
    "        if idx == -1:\n",
    "            \n",
    "            answer.append(-1)\n",
    "            \n",
    "        else:\n",
    "            answer.append(i - idx)\n",
    "            \n",
    "    return answer"
   ]
  },
  {
   "cell_type": "code",
   "execution_count": 174,
   "id": "ef077a82",
   "metadata": {},
   "outputs": [
    {
     "name": "stdout",
     "output_type": "stream",
     "text": [
      "[-1, -1, -1, 2, 2, 2]\n",
      "[-1, -1, 1, -1, -1, -1]\n"
     ]
    }
   ],
   "source": [
    "def solution(s):\n",
    "    \n",
    "    answer = []\n",
    "    \n",
    "    for i in range((len(s))):\n",
    "        \n",
    "        t = s[:i]\n",
    "        \n",
    "        idx = t.rfind(s[i])\n",
    "        \n",
    "        if idx == -1:\n",
    "            \n",
    "            answer.append(-1)\n",
    "            \n",
    "        else:\n",
    "            answer.append(i - idx)\n",
    "            \n",
    "    return answer\n",
    "\n",
    "print(solution(\"banana\"))\n",
    "print(solution(\"foobar\"))"
   ]
  },
  {
   "cell_type": "markdown",
   "id": "f7ec50c3",
   "metadata": {},
   "source": [
    "#### 47. 추억 점수\n",
    "\n",
    "사진들을 보며 추억에 젖어 있던 루는 사진별로 추억 점수를 매길려고 합니다. 사진 속에 나오는 인물의 그리움 점수를 모두 합산한 값이 해당 사진의 추억 점수가 됩니다. 예를 들어 사진 속 인물의 이름이 [\"may\", \"kein\", \"kain\"]이고 각 인물의 그리움 점수가 [5점, 10점, 1점]일 때 해당 사진의 추억 점수는 16(5 + 10 + 1)점이 됩니다. 다른 사진 속 인물의 이름이 [\"kali\", \"mari\", \"don\", \"tony\"]이고 [\"kali\", \"mari\", \"don\"]의 그리움 점수가 각각 [11점, 1점, 55점]]이고, \"tony\"는 그리움 점수가 없을 때, 이 사진의 추억 점수는 3명의 그리움 점수를 합한 67(11 + 1 + 55)점입니다.\n",
    "\n",
    "그리워하는 사람의 이름을 담은 문자열 배열 name, 각 사람별 그리움 점수를 담은 정수 배열 yearning, 각 사진에 찍힌 인물의 이름을 담은 이차원 문자열 배열 photo가 매개변수로 주어질 때, 사진들의 추억 점수를 photo에 주어진 순서대로 배열에 담아 return하는 solution 함수를 완성해주세요."
   ]
  },
  {
   "cell_type": "code",
   "execution_count": null,
   "id": "75738834",
   "metadata": {},
   "outputs": [],
   "source": [
    "def solution(name, yearning, photo):\n",
    "    \n",
    "    answer = []\n",
    "    j = 0\n",
    "    j = 0\n",
    "    \n",
    "    for i in range(len(photo)):\n",
    "        \n",
    "        sum = 0\n",
    "        \n",
    "        for j in range(len(name)):\n",
    "            \n",
    "            if name[j] in photo[i]:      \n",
    "                \n",
    "                sum += yearning[j]\n",
    "                \n",
    "        answer.append(sum)\n",
    "    \n",
    "    \n",
    "    return answer"
   ]
  },
  {
   "cell_type": "code",
   "execution_count": 185,
   "id": "1bea192c",
   "metadata": {},
   "outputs": [
    {
     "name": "stdout",
     "output_type": "stream",
     "text": [
      "[19, 15, 6]\n",
      "[67, 0, 55]\n",
      "[5, 15, 0]\n"
     ]
    }
   ],
   "source": [
    "def solution(name, yearning, photo):\n",
    "    \n",
    "    answer = []\n",
    "    j = 0\n",
    "    j = 0\n",
    "    \n",
    "    for i in range(len(photo)):\n",
    "        \n",
    "        sum = 0\n",
    "        \n",
    "        for j in range(len(name)):\n",
    "            \n",
    "            if name[j] in photo[i]:\n",
    "                \n",
    "                sum += yearning[j]\n",
    "                \n",
    "        answer.append(sum)\n",
    "    \n",
    "    \n",
    "    return answer\n",
    "\n",
    "print(solution([\"may\", \"kein\", \"kain\", \"radi\"],[5, 10, 1, 3],[[\"may\", \"kein\", \"kain\", \"radi\"],[\"may\", \"kein\", \"brin\", \"deny\"], [\"kon\", \"kain\", \"may\", \"coni\"]]))\n",
    "print(solution([\"kali\", \"mari\", \"don\"],[11, 1, 55],[[\"kali\", \"mari\", \"don\"], [\"pony\", \"tom\", \"teddy\"], [\"con\", \"mona\", \"don\"]]))\n",
    "print(solution([\"may\", \"kein\", \"kain\", \"radi\"],[5, 10, 1, 3],[[\"may\"],[\"kein\", \"deny\", \"may\"], [\"kon\", \"coni\"]]))"
   ]
  },
  {
   "cell_type": "markdown",
   "id": "5d4f9bd4",
   "metadata": {},
   "source": [
    "#### 48. 2016년\n",
    "\n",
    "2016년 1월 1일은 금요일입니다. 2016년 a월 b일은 무슨 요일일까요? 두 수 a ,b를 입력받아 2016년 a월 b일이 무슨 요일인지 리턴하는 함수, solution을 완성하세요. 요일의 이름은 일요일부터 토요일까지 각각 SUN,MON,TUE,WED,THU,FRI,SAT\n",
    "\n",
    "입니다. 예를 들어 a=5, b=24라면 5월 24일은 화요일이므로 문자열 \"TUE\"를 반환하세요."
   ]
  },
  {
   "cell_type": "code",
   "execution_count": null,
   "id": "c5113aa7",
   "metadata": {},
   "outputs": [],
   "source": [
    "def solution(a, b):\n",
    "    \n",
    "\n",
    "    \n",
    "    weekday = (\"THU\",\"FRI\",\"SAT\",\"SUN\",\"MON\",\"TUE\",\"WED\")\n",
    "    month = [31,29,31,30,31,30,31,31,30,31,30,31]\n",
    "    \n",
    "    sum = 0\n",
    "    \n",
    "    for i in range(a - 1):          #월에서 -1 해서 모두 더한거에 b를 더하고, 7로 나눈 나머지\n",
    "        \n",
    "        sum += month[i]\n",
    "        \n",
    "    return weekday[(sum + b) % 7]"
   ]
  },
  {
   "cell_type": "code",
   "execution_count": 205,
   "id": "3f2ecbfc",
   "metadata": {},
   "outputs": [
    {
     "name": "stdout",
     "output_type": "stream",
     "text": [
      "TUE\n"
     ]
    }
   ],
   "source": [
    "def solution(a, b):\n",
    "    \n",
    "    \n",
    "    weekday = (\"THU\",\"FRI\",\"SAT\",\"SUN\",\"MON\",\"TUE\",\"WED\")\n",
    "    month = [31,29,31,30,31,30,31,31,30,31,30,31]\n",
    "    \n",
    "    sum = 0\n",
    "    \n",
    "    for i in range(a - 1):\n",
    "        \n",
    "        sum += month[i]\n",
    "        \n",
    "    return weekday[(sum + b) % 7]\n",
    "\n",
    "\n",
    "print(solution(5,24))"
   ]
  },
  {
   "cell_type": "markdown",
   "id": "187bcc60",
   "metadata": {},
   "source": [
    "#### 49. 폰켓몬\n",
    "\n",
    "당신은 폰켓몬을 잡기 위한 오랜 여행 끝에, 홍 박사님의 연구실에 도착했습니다. 홍 박사님은 당신에게 자신의 연구실에 있는 총 N 마리의 폰켓몬 중에서 N/2마리를 가져가도 좋다고 했습니다.\n",
    "홍 박사님 연구실의 폰켓몬은 종류에 따라 번호를 붙여 구분합니다. 따라서 같은 종류의 폰켓몬은 같은 번호를 가지고 있습니다. 예를 들어 연구실에 총 4마리의 폰켓몬이 있고, 각 폰켓몬의 종류 번호가 [3번, 1번, 2번, 3번]이라면 이는 3번 폰켓몬 두 마리, 1번 폰켓몬 한 마리, 2번 폰켓몬 한 마리가 있음을 나타냅니다. 이때, 4마리의 폰켓몬 중 2마리를 고르는 방법은 다음과 같이 6가지가 있습니다.\n",
    "\n",
    "1. 첫 번째(3번), 두 번째(1번) 폰켓몬을 선택\n",
    "2. 첫 번째(3번), 세 번째(2번) 폰켓몬을 선택\n",
    "3. 첫 번째(3번), 네 번째(3번) 폰켓몬을 선택\n",
    "4. 두 번째(1번), 세 번째(2번) 폰켓몬을 선택\n",
    "5. 두 번째(1번), 네 번째(3번) 폰켓몬을 선택\n",
    "6. 세 번째(2번), 네 번째(3번) 폰켓몬을 선택\n",
    "\n",
    "이때, 첫 번째(3번) 폰켓몬과 네 번째(3번) 폰켓몬을 선택하는 방법은 한 종류(3번 폰켓몬 두 마리)의 폰켓몬만 가질 수 있지만, 다른 방법들은 모두 두 종류의 폰켓몬을 가질 수 있습니다. 따라서 위 예시에서 가질 수 있는 폰켓몬 종류 수의 최댓값은 2가 됩니다.\n",
    "당신은 최대한 다양한 종류의 폰켓몬을 가지길 원하기 때문에, 최대한 많은 종류의 폰켓몬을 포함해서 N/2마리를 선택하려 합니다. N마리 폰켓몬의 종류 번호가 담긴 배열 nums가 매개변수로 주어질 때, N/2마리의 폰켓몬을 선택하는 방법 중, 가장 많은 종류의 폰켓몬을 선택하는 방법을 찾아, 그때의 폰켓몬 종류 번호의 개수를 return 하도록 solution 함수를 완성해주세요."
   ]
  },
  {
   "cell_type": "code",
   "execution_count": null,
   "id": "46973856",
   "metadata": {},
   "outputs": [],
   "source": [
    "def solution(nums):\n",
    "    \n",
    "    nums_select = len(nums) // 2        # 뽑을 개수\n",
    "    \n",
    "    nums_set = len(set(nums))           # 중복 제외한 갯수\n",
    "        \n",
    "        \n",
    "    \n",
    "    return nums_select if nums_set > nums_select else nums_set"
   ]
  },
  {
   "cell_type": "code",
   "execution_count": 207,
   "id": "a03c1655",
   "metadata": {},
   "outputs": [
    {
     "name": "stdout",
     "output_type": "stream",
     "text": [
      "2\n"
     ]
    }
   ],
   "source": [
    "def solution(nums):\n",
    "    \n",
    "    nums_select = len(nums) // 2\n",
    "    \n",
    "    nums_set = len(set(nums))\n",
    "        \n",
    "        \n",
    "    \n",
    "    return nums_select if nums_set > nums_select else nums_set\n",
    "\n",
    "print(solution([3,1,2,3]))"
   ]
  },
  {
   "cell_type": "markdown",
   "id": "318f0ca6",
   "metadata": {},
   "source": [
    "## No.50~56(2023.05.24)"
   ]
  },
  {
   "cell_type": "markdown",
   "id": "638b7bae",
   "metadata": {},
   "source": [
    "#### 50. 명예의 전당(1)\n",
    "\n",
    "\"명예의 전당\"이라는 TV 프로그램에서는 매일 1명의 가수가 노래를 부르고, 시청자들의 문자 투표수로 가수에게 점수를 부여합니다. 매일 출연한 가수의 점수가 지금까지 출연 가수들의 점수 중 상위 k번째 이내이면 해당 가수의 점수를 명예의 전당이라는 목록에 올려 기념합니다. 즉 프로그램 시작 이후 초기에 k일까지는 모든 출연 가수의 점수가 명예의 전당에 오르게 됩니다. k일 다음부터는 출연 가수의 점수가 기존의 명예의 전당 목록의 k번째 순위의 가수 점수보다 더 높으면, 출연 가수의 점수가 명예의 전당에 오르게 되고 기존의 k번째 순위의 점수는 명예의 전당에서 내려오게 됩니다.\n",
    "\n",
    "이 프로그램에서는 매일 \"명예의 전당\"의 최하위 점수를 발표합니다. 예를 들어, k = 3이고, 7일 동안 진행된 가수의 점수가 [10, 100, 20, 150, 1, 100, 200]이라면, 명예의 전당에서 발표된 점수는 아래의 그림과 같이 [10, 10, 10, 20, 20, 100, 100]입니다.\n",
    "\n",
    "명예의 전당 목록의 점수의 개수 k, 1일부터 마지막 날까지 출연한 가수들의 점수인 score가 주어졌을 때, 매일 발표된 명예의 전당의 최하위 점수를 return하는 solution 함수를 완성해주세요."
   ]
  },
  {
   "cell_type": "code",
   "execution_count": null,
   "id": "d67fe029",
   "metadata": {},
   "outputs": [],
   "source": [
    "def solution(k, score):\n",
    "    \n",
    "    answer = []\n",
    "    Honor_Rank = []          # 명예의 전당 리스트\n",
    "    \n",
    "    for i in score:\n",
    "\n",
    "        Honor_Rank.append(i)             # 점수를 명예의 전당에 추가\n",
    "            \n",
    "        if len(Honor_Rank) > k:          # 명예의 전당 길이가 k보다 큰 경우 명예의 전당에서 최소값 삭제\n",
    "                \n",
    "            Honor_Rank.remove(min(Honor_Rank))\n",
    "\n",
    "                \n",
    "        answer.append(min(Honor_Rank))     # answer에 최소값 추가\n",
    "            \n",
    "    return answer"
   ]
  },
  {
   "cell_type": "code",
   "execution_count": 33,
   "id": "3df5f858",
   "metadata": {},
   "outputs": [
    {
     "name": "stdout",
     "output_type": "stream",
     "text": [
      "[10, 10, 10, 20, 20, 100, 100]\n",
      "[0, 0, 0, 0, 20, 40, 70, 70, 150, 300]\n"
     ]
    }
   ],
   "source": [
    "def solution(k, score):\n",
    "    \n",
    "    answer = []\n",
    "    Honor_Rank = []\n",
    "    \n",
    "    for i in score:\n",
    "\n",
    "        Honor_Rank.append(i)\n",
    "            \n",
    "        if len(Honor_Rank) > k:\n",
    "                \n",
    "            Honor_Rank.remove(min(Honor_Rank))\n",
    "\n",
    "                \n",
    "        answer.append(min(Honor_Rank))\n",
    "            \n",
    "    return answer\n",
    "\n",
    "\n",
    "print(solution(3,[10, 100, 20, 150, 1, 100, 200]))\n",
    "print(solution(4,[0, 300, 40, 300, 20, 70, 150, 50, 500, 1000]))"
   ]
  },
  {
   "cell_type": "markdown",
   "id": "993cbdb8",
   "metadata": {},
   "source": [
    "#### 51. 모의고사\n",
    "\n",
    "수포자는 수학을 포기한 사람의 준말입니다. 수포자 삼인방은 모의고사에 수학 문제를 전부 찍으려 합니다. 수포자는 1번 문제부터 마지막 문제까지 다음과 같이 찍습니다.\n",
    "\n",
    "1번 수포자가 찍는 방식: 1, 2, 3, 4, 5, 1, 2, 3, 4, 5, ...\n",
    "2번 수포자가 찍는 방식: 2, 1, 2, 3, 2, 4, 2, 5, 2, 1, 2, 3, 2, 4, 2, 5, ...\n",
    "3번 수포자가 찍는 방식: 3, 3, 1, 1, 2, 2, 4, 4, 5, 5, 3, 3, 1, 1, 2, 2, 4, 4, 5, 5, ...\n",
    "\n",
    "1번 문제부터 마지막 문제까지의 정답이 순서대로 들은 배열 answers가 주어졌을 때, 가장 많은 문제를 맞힌 사람이 누구인지 배열에 담아 return 하도록 solution 함수를 작성해주세요"
   ]
  },
  {
   "cell_type": "code",
   "execution_count": null,
   "id": "075f9030",
   "metadata": {},
   "outputs": [],
   "source": [
    "def solution(answers):\n",
    "    \n",
    "    man1 = [1, 2, 3, 4, 5]\n",
    "    man2 = [2, 1, 2, 3, 2, 4, 2, 5]\n",
    "    man3 = [3, 3, 1, 1, 2, 2, 4, 4, 5, 5]\n",
    "    count = [0, 0, 0]\n",
    "    answer = []\n",
    "    \n",
    "    for i in range(len(answers)):  #answer과 각각의 man리스트들의 반복값과 비교해 정답일 경우 count 리스트의 해당 man에 +1\n",
    "\n",
    "\n",
    "        \n",
    "        if answers[i] == man1[i%len(man1)]:\n",
    "            count[0] += 1\n",
    "            \n",
    "        if answers[i] == man2[i%len(man2)]:\n",
    "            count[1] += 1\n",
    "            \n",
    "        if answers[i] == man3[i%len(man3)]:\n",
    "            count[2] += 1\n",
    "            \n",
    "    max_count = max(count)\n",
    "    \n",
    "    for j in range(len(count)):\n",
    "        \n",
    "        if count[j] == max_count:\n",
    "            answer.append(j+1)\n",
    "\n",
    "    return answer\n"
   ]
  },
  {
   "cell_type": "code",
   "execution_count": 39,
   "id": "676989a3",
   "metadata": {},
   "outputs": [
    {
     "name": "stdout",
     "output_type": "stream",
     "text": [
      "[1]\n",
      "[1, 2, 3]\n"
     ]
    }
   ],
   "source": [
    "def solution(answers):\n",
    "    \n",
    "    man1 = [1, 2, 3, 4, 5]\n",
    "    man2 = [2, 1, 2, 3, 2, 4, 2, 5]\n",
    "    man3 = [3, 3, 1, 1, 2, 2, 4, 4, 5, 5]\n",
    "    count = [0, 0, 0]\n",
    "    answer = []\n",
    "    \n",
    "    for i in range(len(answers)):\n",
    "        \n",
    "        if answers[i] == man1[i%len(man1)]:\n",
    "            count[0] += 1\n",
    "            \n",
    "        if answers[i] == man2[i%len(man2)]:\n",
    "            count[1] += 1\n",
    "            \n",
    "        if answers[i] == man3[i%len(man3)]:\n",
    "            count[2] += 1\n",
    "            \n",
    "    max_count = max(count)\n",
    "    \n",
    "    for j in range(len(count)):\n",
    "        \n",
    "        if count[j] == max_count:\n",
    "            answer.append(j+1)\n",
    "\n",
    "    return answer\n",
    "\n",
    "print(solution([1,2,3,4,5]))\n",
    "print(solution([1,3,2,4,2]))"
   ]
  },
  {
   "cell_type": "markdown",
   "id": "63d92bf9",
   "metadata": {},
   "source": [
    "#### 52. 소수 만들기\n",
    "\n",
    "주어진 숫자 중 3개의 수를 더했을 때 소수가 되는 경우의 개수를 구하려고 합니다. 숫자들이 들어있는 배열 nums가 매개변수로 주어질 때, nums에 있는 숫자들 중 서로 다른 3개를 골라 더했을 때 소수가 되는 경우의 개수를 return 하도록 solution 함수를 완성해주세요."
   ]
  },
  {
   "cell_type": "code",
   "execution_count": null,
   "id": "a919d437",
   "metadata": {},
   "outputs": [],
   "source": [
    "import itertools  \n",
    "\n",
    "\n",
    "def solution(nums):\n",
    "\n",
    "    answer = 0 \n",
    "    \n",
    "    for i in itertools.combinations(nums,3):\n",
    "        \n",
    "        sum_nums = sum(i)\n",
    "     \n",
    "        for j in range(2, sum_nums):\n",
    "            \n",
    "            if sum(i) % j == 0:\n",
    "                break\n",
    "                \n",
    "        else:\n",
    "            answer += 1\n",
    "    \n",
    "    return answer"
   ]
  },
  {
   "cell_type": "code",
   "execution_count": 60,
   "id": "41d3eef3",
   "metadata": {},
   "outputs": [
    {
     "name": "stdout",
     "output_type": "stream",
     "text": [
      "1\n",
      "4\n"
     ]
    }
   ],
   "source": [
    "import itertools   # combinations(조합) 구현하기 위한 import\n",
    "\n",
    "\n",
    "def solution(nums):\n",
    "\n",
    "    answer = 0 \n",
    "    \n",
    "    for i in itertools.combinations(nums,3): # itetools.combination(조합을 만들 리스트, 뽑을 조합의 갯수)\n",
    "        \n",
    "        sum_nums = sum(i)\n",
    "     \n",
    "        for j in range(2, sum_nums):\n",
    "            \n",
    "            if sum(i) % j == 0:\n",
    "                break\n",
    "                \n",
    "        else:\n",
    "            answer += 1\n",
    "    \n",
    "    return answer\n",
    "\n",
    "print(solution([1,2,3,4]))\n",
    "print(solution([1,2,7,6,4]))"
   ]
  },
  {
   "cell_type": "markdown",
   "id": "5157dc30",
   "metadata": {},
   "source": [
    "#### 53. 소수 찾기\n",
    "\n",
    "1부터 입력받은 숫자 n 사이에 있는 소수의 개수를 반환하는 함수, solution을 만들어 보세요.\n",
    "\n",
    "소수는 1과 자기 자신으로만 나누어지는 수를 의미합니다.\n",
    "(1은 소수가 아닙니다.)"
   ]
  },
  {
   "cell_type": "code",
   "execution_count": null,
   "id": "88418398",
   "metadata": {},
   "outputs": [],
   "source": [
    "def solution(n):\n",
    "    arr = set(range(2, n+1))\n",
    "    \n",
    "    for i in range(2, n+1):\n",
    "        if i in arr:                  \n",
    "            arr -= set(range(2*i, n+1, i))\n",
    "    return len(arr)"
   ]
  },
  {
   "cell_type": "code",
   "execution_count": 51,
   "id": "adde363f",
   "metadata": {},
   "outputs": [
    {
     "name": "stdout",
     "output_type": "stream",
     "text": [
      "4\n",
      "3\n"
     ]
    }
   ],
   "source": [
    "def solution(n):\n",
    "    arr = set(range(2, n+1))\n",
    "    \n",
    "    for i in range(2, n+1):\n",
    "        if i in arr:                  # 남은 수 중 가장 작은 i\n",
    "            arr -= set(range(2*i, n+1, i))\n",
    "    return len(arr)\n",
    "\n",
    "print(solution(10))\n",
    "print(solution(5))"
   ]
  },
  {
   "cell_type": "markdown",
   "id": "7c766d9a",
   "metadata": {},
   "source": [
    "#### 54. 과일 장수\n",
    "\n",
    "과일 장수가 사과 상자를 포장하고 있습니다. 사과는 상태에 따라 1점부터 k점까지의 점수로 분류하며, k점이 최상품의 사과이고 1점이 최하품의 사과입니다. 사과 한 상자의 가격은 다음과 같이 결정됩니다.\n",
    "\n",
    "1. 한 상자에 사과를 m개씩 담아 포장합니다.\n",
    "2. 상자에 담긴 사과 중 가장 낮은 점수가 p (1 ≤ p ≤ k)점인 경우, 사과 한 상자의 가격은 p * m 입니다.\n",
    "과일 장수가 가능한 많은 사과를 팔았을 때, 얻을 수 있는 최대 이익을 계산하고자 합니다.(사과는 상자 단위로만 판매하며, 남는 사과는 버립니다)\n",
    "\n",
    "예를 들어, k = 3, m = 4, 사과 7개의 점수가 [1, 2, 3, 1, 2, 3, 1]이라면, 다음과 같이 [2, 3, 2, 3]으로 구성된 사과 상자 1개를 만들어 판매하여 최대 이익을 얻을 수 있습니다.\n",
    "\n",
    "(최저 사과 점수) x (한 상자에 담긴 사과 개수) x (상자의 개수) = 2 x 4 x 1 = 8\n",
    "\n",
    "사과의 최대 점수 k, 한 상자에 들어가는 사과의 수 m, 사과들의 점수 score가 주어졌을 때, 과일 장수가 얻을 수 있는 최대 이익을 return하는 solution 함수를 완성해주세요."
   ]
  },
  {
   "cell_type": "code",
   "execution_count": null,
   "id": "d04921be",
   "metadata": {},
   "outputs": [],
   "source": [
    "def solution(k, m, score):\n",
    "    \n",
    "    answer = 0\n",
    "    \n",
    "    score.sort(reverse=True)      \n",
    "    \n",
    "    for i in range(len(score)//m):             \n",
    "        \n",
    "        answer += score[i*m + m-1]*m\n",
    "        \n",
    "    \n",
    "    return answer"
   ]
  },
  {
   "cell_type": "code",
   "execution_count": 63,
   "id": "808c5f72",
   "metadata": {},
   "outputs": [
    {
     "name": "stdout",
     "output_type": "stream",
     "text": [
      "8\n",
      "33\n"
     ]
    }
   ],
   "source": [
    "def solution(k, m, score):\n",
    "    \n",
    "    answer = 0\n",
    "    \n",
    "    score.sort(reverse=True)      # 내림차순 정렬 후에 m개를 고르기 위함\n",
    "    \n",
    "    for i in range(len(score)//m):              # score 길이에서 m으로 나눈 몫만큼 돌면서 최하위 점수를 answer에 더하기\n",
    "        \n",
    "        answer += score[i*m + m-1]*m\n",
    "        \n",
    "    \n",
    "    return answer\n",
    "\n",
    "print(solution(3,4,[1, 2, 3, 1, 2, 3, 1]))\n",
    "print(solution(4,3,[4, 1, 2, 2, 4, 4, 4, 4, 1, 2, 4, 2]))"
   ]
  },
  {
   "cell_type": "code",
   "execution_count": null,
   "id": "6132e815",
   "metadata": {},
   "outputs": [],
   "source": [
    "def solution(k, m, score):\n",
    "    return sum(sorted(score)[len(score)%m::m])*m   "
   ]
  },
  {
   "cell_type": "markdown",
   "id": "e081da58",
   "metadata": {},
   "source": [
    "#### 55. 실패율\n",
    "\n",
    "슈퍼 게임 개발자 오렐리는 큰 고민에 빠졌다. 그녀가 만든 프랜즈 오천성이 대성공을 거뒀지만, 요즘 신규 사용자의 수가 급감한 것이다. 원인은 신규 사용자와 기존 사용자 사이에 스테이지 차이가 너무 큰 것이 문제였다.\n",
    "\n",
    "이 문제를 어떻게 할까 고민 한 그녀는 동적으로 게임 시간을 늘려서 난이도를 조절하기로 했다. 역시 슈퍼 개발자라 대부분의 로직은 쉽게 구현했지만, 실패율을 구하는 부분에서 위기에 빠지고 말았다. 오렐리를 위해 실패율을 구하는 코드를 완성하라.\n",
    "\n",
    "실패율은 다음과 같이 정의한다.\n",
    "스테이지에 도달했으나 아직 클리어하지 못한 플레이어의 수 / 스테이지에 도달한 플레이어 수\n",
    "전체 스테이지의 개수 N, 게임을 이용하는 사용자가 현재 멈춰있는 스테이지의 번호가 담긴 배열 stages가 매개변수로 주어질 때, 실패율이 높은 스테이지부터 내림차순으로 스테이지의 번호가 담겨있는 배열을 return 하도록 solution 함수를 완성하라."
   ]
  },
  {
   "cell_type": "code",
   "execution_count": null,
   "id": "ae793ef9",
   "metadata": {},
   "outputs": [],
   "source": [
    "def solution(N, stages):\n",
    "    \n",
    "    answer = {}\n",
    "    \n",
    "    sort_stages = sorted(stages)\n",
    "    cnt = len(sort_stages)\n",
    "    \n",
    "    for i in range(1,N+1):\n",
    "        \n",
    "        if i not in sort_stages:\n",
    "            answer[i] = 0\n",
    "            \n",
    "        else:\n",
    "            answer[i] = sort_stages.count(i)/cnt\n",
    "            cnt -= sort_stages.count(i)\n",
    "            \n",
    "    answer = sorted(answer, key=answer.get, reverse=True)\n",
    "\n",
    "    return answer"
   ]
  },
  {
   "cell_type": "code",
   "execution_count": 80,
   "id": "2b8ae8f4",
   "metadata": {},
   "outputs": [
    {
     "name": "stdout",
     "output_type": "stream",
     "text": [
      "[3, 4, 2, 1, 5]\n",
      "[4, 1, 2, 3]\n"
     ]
    }
   ],
   "source": [
    "def solution(N, stages):\n",
    "    \n",
    "    answer = {}\n",
    "    \n",
    "    sort_stages = sorted(stages)\n",
    "    cnt = len(sort_stages)\n",
    "    \n",
    "    for i in range(1,N+1):\n",
    "        \n",
    "        if i not in sort_stages:\n",
    "            answer[i] = 0\n",
    "            \n",
    "        else:\n",
    "            answer[i] = sort_stages.count(i)/cnt\n",
    "            cnt -= sort_stages.count(i)\n",
    "            \n",
    "    answer = sorted(answer, key=answer.get, reverse=True)\n",
    "\n",
    "    return answer\n",
    "\n",
    "print(solution(5,[2, 1, 2, 6, 2, 4, 3, 3]))\n",
    "print(solution(4,[4,4,4,4,4]))"
   ]
  },
  {
   "cell_type": "markdown",
   "id": "de25076a",
   "metadata": {},
   "source": [
    "#### 56. 카드 뭉치\n",
    "\n",
    "코니는 영어 단어가 적힌 카드 뭉치 두 개를 선물로 받았습니다. 코니는 다음과 같은 규칙으로 카드에 적힌 단어들을 사용해 원하는 순서의 단어 배열을 만들 수 있는지 알고 싶습니다.\n",
    "\n",
    "원하는 카드 뭉치에서 카드를 순서대로 한 장씩 사용합니다.\n",
    "한 번 사용한 카드는 다시 사용할 수 없습니다.\n",
    "카드를 사용하지 않고 다음 카드로 넘어갈 수 없습니다.\n",
    "기존에 주어진 카드 뭉치의 단어 순서는 바꿀 수 없습니다.\n",
    "예를 들어 첫 번째 카드 뭉치에 순서대로 [\"i\", \"drink\", \"water\"], 두 번째 카드 뭉치에 순서대로 [\"want\", \"to\"]가 적혀있을 때 [\"i\", \"want\", \"to\", \"drink\", \"water\"] 순서의 단어 배열을 만들려고 한다면 첫 번째 카드 뭉치에서 \"i\"를 사용한 후 두 번째 카드 뭉치에서 \"want\"와 \"to\"를 사용하고 첫 번째 카드뭉치에 \"drink\"와 \"water\"를 차례대로 사용하면 원하는 순서의 단어 배열을 만들 수 있습니다.\n",
    "\n",
    "문자열로 이루어진 배열 cards1, cards2와 원하는 단어 배열 goal이 매개변수로 주어질 때, cards1과 cards2에 적힌 단어들로 goal를 만들 있다면 \"Yes\"를, 만들 수 없다면 \"No\"를 return하는 solution 함수를 완성해주세요.\n",
    "\n"
   ]
  },
  {
   "cell_type": "code",
   "execution_count": null,
   "id": "21e079a8",
   "metadata": {},
   "outputs": [],
   "source": [
    "def solution(card1, card2, goal):\n",
    "    \n",
    "    card1.append('\\0') # overflow 방지용\n",
    "    card2.append('\\0')\n",
    "    \n",
    "    a = 0\n",
    "    b = 0\n",
    "    \n",
    "    for x in goal:\n",
    "        \n",
    "        if x == card1[a]:\n",
    "            a += 1\n",
    "            \n",
    "        elif x == card2[b]:\n",
    "            b += 1\n",
    "            \n",
    "        else: \n",
    "            return \"No\"\n",
    "        \n",
    "    return \"Yes\""
   ]
  },
  {
   "cell_type": "code",
   "execution_count": 88,
   "id": "6519db88",
   "metadata": {},
   "outputs": [
    {
     "name": "stdout",
     "output_type": "stream",
     "text": [
      "Yes\n",
      "No\n"
     ]
    }
   ],
   "source": [
    "def solution(card1, card2, goal):\n",
    "    \n",
    "    card1.append('\\0') # overflow 방지용\n",
    "    card2.append('\\0')\n",
    "    \n",
    "    a = 0\n",
    "    b = 0\n",
    "    \n",
    "    for x in goal:\n",
    "        \n",
    "        if x == card1[a]:\n",
    "            a += 1\n",
    "            \n",
    "        elif x == card2[b]:\n",
    "            b += 1\n",
    "            \n",
    "        else: \n",
    "            return \"No\"\n",
    "        \n",
    "    return \"Yes\"\n",
    "    \n",
    "print(solution([\"i\", \"drink\", \"water\"],[\"want\", \"to\"],[\"i\", \"want\", \"to\", \"drink\", \"water\"]))\n",
    "print(solution([\"i\", \"water\", \"drink\"],[\"want\", \"to\"],[\"i\", \"want\", \"to\", \"drink\", \"water\"]))"
   ]
  },
  {
   "cell_type": "markdown",
   "id": "41546316",
   "metadata": {},
   "source": [
    "## No.57~63(2023.05.25)"
   ]
  },
  {
   "cell_type": "markdown",
   "id": "aea14909",
   "metadata": {},
   "source": [
    "#### 57. [1차] 다트 게임\n",
    "\n",
    "카카오톡 게임별의 하반기 신규 서비스로 다트 게임을 출시하기로 했다. 다트 게임은 다트판에 다트를 세 차례 던져 그 점수의 합계로 실력을 겨루는 게임으로, 모두가 간단히 즐길 수 있다.\n",
    "갓 입사한 무지는 코딩 실력을 인정받아 게임의 핵심 부분인 점수 계산 로직을 맡게 되었다. 다트 게임의 점수 계산 로직은 아래와 같다.\n",
    "\n",
    "1. 다트 게임은 총 3번의 기회로 구성된다.\n",
    "2. 각 기회마다 얻을 수 있는 점수는 0점에서 10점까지이다.\n",
    "3. 점수와 함께 Single(S), Double(D), Triple(T) 영역이 존재하고 각 영역 당첨 시 점수에서 1제곱, 2제곱, 3제곱 (점수1 , 점수2 , 점수3 )으로 계산된다.\n",
    "4. 옵션으로 스타상(*) , 아차상(#)이 존재하며 스타상(*) 당첨 시 해당 점수와 바로 전에 얻은 점수를 각 2배로 만든다. 아차상(#) 당첨 시 해당 점수는 마이너스된다.\n",
    "5. 스타상(*)은 첫 번째 기회에서도 나올 수 있다. 이 경우 첫 번째 스타상(*)의 점수만 2배가 된다. (예제 4번 참고)\n",
    "6. 스타상(*)의 효과는 다른 스타상(*)의 효과와 중첩될 수 있다. 이 경우 중첩된 스타상(*) 점수는 4배가 된다. (예제 4번 참고)\n",
    "7. 스타상(*)의 효과는 아차상(#)의 효과와 중첩될 수 있다. 이 경우 중첩된 아차상(#)의 점수는 -2배가 된다. (예제 5번 참고)\n",
    "8. Single(S), Double(D), Triple(T)은 점수마다 하나씩 존재한다.\n",
    "9. 스타상(*), 아차상(#)은 점수마다 둘 중 하나만 존재할 수 있으며, 존재하지 않을 수도 있다.\n",
    "\n",
    "0~10의 정수와 문자 S, D, T, *, #로 구성된 문자열이 입력될 시 총점수를 반환하는 함수를 작성하라."
   ]
  },
  {
   "cell_type": "code",
   "execution_count": null,
   "id": "043c6062",
   "metadata": {},
   "outputs": [],
   "source": [
    "def solution(dartResult):\n",
    "    n = ''\n",
    "    score = []\n",
    "    \n",
    "    for i in dartResult:\n",
    "        \n",
    "        if i.isnumeric():        #a모든 문자가 숫자이고, 적어도 하나의 문자가 존재하는 경우\n",
    "            n += i\n",
    "            \n",
    "        elif i == 'S':\n",
    "            n = int(n)**1\n",
    "            score.append(n)\n",
    "            n = ''\n",
    "            \n",
    "        elif i == 'D':\n",
    "            n = int(n)**2\n",
    "            score.append(n)\n",
    "            n = ''\n",
    "            \n",
    "        elif i == 'T':\n",
    "            n = int(n)**3\n",
    "            score.append(n)\n",
    "            n = ''\n",
    "            \n",
    "        elif i == '*':\n",
    "            \n",
    "            if len(score) > 1:\n",
    "                score[-2] = score[-2] * 2\n",
    "                score[-1] = score[-1] * 2\n",
    "                \n",
    "            else:\n",
    "                score[-1] = score[-1] * 2\n",
    "                \n",
    "        elif i == '#':\n",
    "            score[-1] = score[-1] * -1\n",
    "        \n",
    "    return sum(score)"
   ]
  },
  {
   "cell_type": "code",
   "execution_count": 9,
   "id": "0a7c0ef2",
   "metadata": {},
   "outputs": [
    {
     "name": "stdout",
     "output_type": "stream",
     "text": [
      "37\n"
     ]
    }
   ],
   "source": [
    "def solution(dartResult):\n",
    "    n = ''\n",
    "    score = []\n",
    "    \n",
    "    for i in dartResult:\n",
    "        \n",
    "        if i.isnumeric():\n",
    "            n += i\n",
    "            \n",
    "        elif i == 'S':\n",
    "            n = int(n)**1\n",
    "            score.append(n)\n",
    "            n = ''\n",
    "            \n",
    "        elif i == 'D':\n",
    "            n = int(n)**2\n",
    "            score.append(n)\n",
    "            n = ''\n",
    "            \n",
    "        elif i == 'T':\n",
    "            n = int(n)**3\n",
    "            score.append(n)\n",
    "            n = ''\n",
    "            \n",
    "        elif i == '*':\n",
    "            \n",
    "            if len(score) > 1:\n",
    "                score[-2] = score[-2] * 2\n",
    "                score[-1] = score[-1] * 2\n",
    "                \n",
    "            else:\n",
    "                score[-1] = score[-1] * 2\n",
    "                \n",
    "        elif i == '#':\n",
    "            score[-1] = score[-1] * -1\n",
    "        \n",
    "    return sum(score)\n",
    "\n",
    "print(solution('1S2D*3T'))"
   ]
  },
  {
   "cell_type": "markdown",
   "id": "c41cb445",
   "metadata": {},
   "source": [
    "#### 58. 덧칠하기\n",
    "\n",
    "어느 학교에 페인트가 칠해진 길이가 n미터인 벽이 있습니다. 벽에 동아리 · 학회 홍보나 회사 채용 공고 포스터 등을 게시하기 위해 테이프로 붙였다가 철거할 때 떼는 일이 많고 그 과정에서 페인트가 벗겨지곤 합니다. 페인트가 벗겨진 벽이 보기 흉해져 학교는 벽에 페인트를 덧칠하기로 했습니다.\n",
    "\n",
    "넓은 벽 전체에 페인트를 새로 칠하는 대신, 구역을 나누어 일부만 페인트를 새로 칠 함으로써 예산을 아끼려 합니다. 이를 위해 벽을 1미터 길이의 구역 n개로 나누고, 각 구역에 왼쪽부터 순서대로 1번부터 n번까지 번호를 붙였습니다. 그리고 페인트를 다시 칠해야 할 구역들을 정했습니다.\n",
    "\n",
    "벽에 페인트를 칠하는 롤러의 길이는 m미터이고, 롤러로 벽에 페인트를 한 번 칠하는 규칙은 다음과 같습니다.\n",
    "\n",
    "롤러가 벽에서 벗어나면 안 됩니다.\n",
    "구역의 일부분만 포함되도록 칠하면 안 됩니다.\n",
    "즉, 롤러의 좌우측 끝을 구역의 경계선 혹은 벽의 좌우측 끝부분에 맞춘 후 롤러를 위아래로 움직이면서 벽을 칠합니다. 현재 페인트를 칠하는 구역들을 완전히 칠한 후 벽에서 롤러를 떼며, 이를 벽을 한 번 칠했다고 정의합니다.\n",
    "\n",
    "한 구역에 페인트를 여러 번 칠해도 되고 다시 칠해야 할 구역이 아닌 곳에 페인트를 칠해도 되지만 다시 칠하기로 정한 구역은 적어도 한 번 페인트칠을 해야 합니다. 예산을 아끼기 위해 다시 칠할 구역을 정했듯 마찬가지로 롤러로 페인트칠을 하는 횟수를 최소화하려고 합니다.\n",
    "\n",
    "정수 n, m과 다시 페인트를 칠하기로 정한 구역들의 번호가 담긴 정수 배열 section이 매개변수로 주어질 때 롤러로 페인트칠해야 하는 최소 횟수를 return 하는 solution 함수를 작성해 주세요."
   ]
  },
  {
   "cell_type": "code",
   "execution_count": null,
   "id": "ae9ee6eb",
   "metadata": {},
   "outputs": [],
   "source": [
    "def solution(n, m, section):\n",
    "    \n",
    "    answer = 1\n",
    "    i = 0\n",
    "    \n",
    "    point = section[0]\n",
    "    \n",
    "    for i in section:             # 빈 벽을 만나면 롤러로 m만큼 색칠해나가는 방법\n",
    "        \n",
    "        if point + m <= i:\n",
    "            \n",
    "            answer += 1\n",
    "            point = i\n",
    "    \n",
    "    return answer"
   ]
  },
  {
   "cell_type": "code",
   "execution_count": 13,
   "id": "6f6093cd",
   "metadata": {},
   "outputs": [
    {
     "name": "stdout",
     "output_type": "stream",
     "text": [
      "2\n"
     ]
    }
   ],
   "source": [
    "def solution(n, m, section):\n",
    "    \n",
    "    answer = 1\n",
    "    i = 0\n",
    "    \n",
    "    point = section[0]\n",
    "    \n",
    "    for i in section:\n",
    "        \n",
    "        if point + m <= i:\n",
    "            \n",
    "            answer += 1\n",
    "            point = i\n",
    "    \n",
    "    return answer\n",
    "\n",
    "print(solution(8,4,[2, 3, 6]))"
   ]
  },
  {
   "cell_type": "markdown",
   "id": "0a5f97f7",
   "metadata": {},
   "source": [
    "#### 59. 숫자나라 기사단\n",
    "\n",
    "숫자나라 기사단의 각 기사에게는 1번부터 number까지 번호가 지정되어 있습니다. 기사들은 무기점에서 무기를 구매하려고 합니다.\n",
    "\n",
    "각 기사는 자신의 기사 번호의 약수 개수에 해당하는 공격력을 가진 무기를 구매하려 합니다. 단, 이웃나라와의 협약에 의해 공격력의 제한수치를 정하고, 제한수치보다 큰 공격력을 가진 무기를 구매해야 하는 기사는 협약기관에서 정한 공격력을 가지는 무기를 구매해야 합니다.\n",
    "\n",
    "예를 들어, 15번으로 지정된 기사단원은 15의 약수가 1, 3, 5, 15로 4개 이므로, 공격력이 4인 무기를 구매합니다. 만약, 이웃나라와의 협약으로 정해진 공격력의 제한수치가 3이고 제한수치를 초과한 기사가 사용할 무기의 공격력이 2라면, 15번으로 지정된 기사단원은 무기점에서 공격력이 2인 무기를 구매합니다. 무기를 만들 때, 무기의 공격력 1당 1kg의 철이 필요합니다. 그래서 무기점에서 무기를 모두 만들기 위해 필요한 철의 무게를 미리 계산하려 합니다.\n",
    "\n",
    "기사단원의 수를 나타내는 정수 number와 이웃나라와 협약으로 정해진 공격력의 제한수치를 나타내는 정수 limit와 제한수치를 초과한 기사가 사용할 무기의 공격력을 나타내는 정수 power가 주어졌을 때, 무기점의 주인이 무기를 모두 만들기 위해 필요한 철의 무게를 return 하는 solution 함수를 완성하시오."
   ]
  },
  {
   "cell_type": "code",
   "execution_count": null,
   "id": "cfb08b37",
   "metadata": {},
   "outputs": [],
   "source": [
    "def solution(number, limit, power):\n",
    "    \n",
    "    answer = 0\n",
    "\n",
    "    for j in range(1, number+1):\n",
    "        \n",
    "        cnt = 0\n",
    "        \n",
    "        for i in range(1, int(j**0.5) + 1):\n",
    "            \n",
    "            if j % i == 0:\n",
    "                cnt += 1\n",
    "                \n",
    "                if i != j/i:\n",
    "                    cnt += 1\n",
    "                    \n",
    "        if cnt > limit:\n",
    "            cnt = power\n",
    "            \n",
    "        answer = answer + cnt\n",
    "\n",
    "    return answer"
   ]
  },
  {
   "cell_type": "code",
   "execution_count": 15,
   "id": "7d25b8a5",
   "metadata": {},
   "outputs": [
    {
     "name": "stdout",
     "output_type": "stream",
     "text": [
      "10\n",
      "21\n"
     ]
    }
   ],
   "source": [
    "def solution(number, limit, power):\n",
    "    \n",
    "    answer = 0\n",
    "\n",
    "    for j in range(1, number+1):\n",
    "        \n",
    "        cnt = 0\n",
    "        \n",
    "        for i in range(1, int(j**0.5) + 1):\n",
    "            \n",
    "            if j % i == 0:\n",
    "                cnt += 1\n",
    "                \n",
    "                if i != j/i:\n",
    "                    cnt += 1\n",
    "                    \n",
    "        if cnt > limit:\n",
    "            cnt = power\n",
    "            \n",
    "        answer = answer + cnt\n",
    "\n",
    "    return answer\n",
    "\n",
    "print(solution(5,3,2))\n",
    "print(solution(10,3,2))"
   ]
  },
  {
   "cell_type": "markdown",
   "id": "4d136528",
   "metadata": {},
   "source": [
    "#### 60. 로또의 최고 순위와 최저 순위\n",
    "\n",
    "로또를 구매한 민우는 당첨 번호 발표일을 학수고대하고 있었습니다. 하지만, 민우의 동생이 로또에 낙서를 하여, 일부 번호를 알아볼 수 없게 되었습니다. 당첨 번호 발표 후, 민우는 자신이 구매했던 로또로 당첨이 가능했던 최고 순위와 최저 순위를 알아보고 싶어 졌습니다.\n",
    "알아볼 수 없는 번호를 0으로 표기하기로 하고, 민우가 구매한 로또 번호 6개가 44, 1, 0, 0, 31 25라고 가정해보겠습니다. 당첨 번호 6개가 31, 10, 45, 1, 6, 19라면, 당첨 가능한 최고 순위와 최저 순위의 한 예는 아래와 같습니다.\n",
    "\n",
    "당첨 번호\t31\t10\t45\t1\t6\t19\t결과\n",
    "최고 순위 번호\t31\t0→10\t44\t1\t0→6\t25\t4개 번호 일치, 3등\n",
    "최저 순위 번호\t31\t0→11\t44\t1\t0→7\t25\t2개 번호 일치, 5등\n",
    "\n",
    "순서와 상관없이, 구매한 로또에 당첨 번호와 일치하는 번호가 있으면 맞힌 걸로 인정됩니다.\n",
    "\n",
    "알아볼 수 없는 두 개의 번호를 각각 10, 6이라고 가정하면 3등에 당첨될 수 있습니다.\n",
    "\n",
    "3등을 만드는 다른 방법들도 존재합니다. 하지만, 2등 이상으로 만드는 것은 불가능합니다.\n",
    "\n",
    "알아볼 수 없는 두 개의 번호를 각각 11, 7이라고 가정하면 5등에 당첨될 수 있습니다.\n",
    "\n",
    "5등을 만드는 다른 방법들도 존재합니다. 하지만, 6등(낙첨)으로 만드는 것은 불가능합니다.\n",
    "\n",
    "민우가 구매한 로또 번호를 담은 배열 lottos, 당첨 번호를 담은 배열 win_nums가 매개변수로 주어집니다. 이때, 당첨 가능한 최고 순위와 최저 순위를 차례대로 배열에 담아서 return 하도록 solution 함수를 완성해주세요."
   ]
  },
  {
   "cell_type": "code",
   "execution_count": null,
   "id": "0ff7c22d",
   "metadata": {},
   "outputs": [],
   "source": [
    "def solution(lottos, win_nums):\n",
    "    \n",
    "    answer = [6,6,5,4,3,2,1]\n",
    "    win = 0\n",
    "    \n",
    "    for i in win_nums:\n",
    "        \n",
    "        if i in lottos:\n",
    "            \n",
    "            win += 1\n",
    "            \n",
    "    \n",
    "    cnt = lottos.count(0)\n",
    "    \n",
    "    win_max = win + cnt\n",
    "    win_min = win\n",
    "    \n",
    "    return[answer[win_max],answer[win_min]]\n"
   ]
  },
  {
   "cell_type": "code",
   "execution_count": 2,
   "id": "35e48457",
   "metadata": {},
   "outputs": [
    {
     "name": "stdout",
     "output_type": "stream",
     "text": [
      "[3, 5]\n",
      "[1, 6]\n",
      "[1, 1]\n"
     ]
    }
   ],
   "source": [
    "def solution(lottos, win_nums):\n",
    "    \n",
    "    answer = [6,6,5,4,3,2,1]\n",
    "    win = 0\n",
    "    \n",
    "    for i in win_nums:\n",
    "        \n",
    "        if i in lottos:\n",
    "            \n",
    "            win += 1\n",
    "            \n",
    "    \n",
    "    cnt = lottos.count(0)\n",
    "    \n",
    "    win_max = win + cnt\n",
    "    win_min = win\n",
    "    \n",
    "    return[answer[win_max],answer[win_min]]\n",
    "\n",
    "print(solution([44, 1, 0, 0, 31, 25],[31, 10, 45, 1, 6, 19]))\n",
    "print(solution([0, 0, 0, 0, 0, 0],[38, 19, 20, 40, 15, 25]))\n",
    "print(solution([45, 4, 35, 20, 3, 9],[20, 9, 3, 45, 4, 35]))"
   ]
  },
  {
   "cell_type": "markdown",
   "id": "73428c3b",
   "metadata": {},
   "source": [
    "#### 61. 숫자 짝꿍\n",
    "\n",
    "두 정수 X, Y의 임의의 자리에서 공통으로 나타나는 정수 k(0 ≤ k ≤ 9)들을 이용하여 만들 수 있는 가장 큰 정수를 두 수의 짝꿍이라 합니다(단, 공통으로 나타나는 정수 중 서로 짝지을 수 있는 숫자만 사용합니다). X, Y의 짝꿍이 존재하지 않으면, 짝꿍은 -1입니다. X, Y의 짝꿍이 0으로만 구성되어 있다면, 짝꿍은 0입니다.\n",
    "\n",
    "예를 들어, X = 3403이고 Y = 13203이라면, X와 Y의 짝꿍은 X와 Y에서 공통으로 나타나는 3, 0, 3으로 만들 수 있는 가장 큰 정수인 330입니다. 다른 예시로 X = 5525이고 Y = 1255이면 X와 Y의 짝꿍은 X와 Y에서 공통으로 나타나는 2, 5, 5로 만들 수 있는 가장 큰 정수인 552입니다(X에는 5가 3개, Y에는 5가 2개 나타나므로 남는 5 한 개는 짝 지을 수 없습니다.)\n",
    "두 정수 X, Y가 주어졌을 때, X, Y의 짝꿍을 return하는 solution 함수를 완성해주세요."
   ]
  },
  {
   "cell_type": "code",
   "execution_count": null,
   "id": "7468daa1",
   "metadata": {},
   "outputs": [],
   "source": [
    "from collections import Counter\n",
    "def solution(X, Y):\n",
    "    answer = ''\n",
    "    x = Counter(X); y = Counter(Y)\n",
    "\n",
    "    for i in x:\n",
    "        cnt = 0\n",
    "        if i in y:\n",
    "            cnt = min(x[i], y[i])\n",
    "        for j in range(cnt):\n",
    "            answer += i\n",
    "\n",
    "    if answer == '':\n",
    "        return \"-1\"\n",
    "    else:\n",
    "        answer = sorted(answer, reverse=True)\n",
    "        if answer[0] == '0':\n",
    "            return \"0\"\n",
    "\n",
    "    return ''.join(answer)"
   ]
  },
  {
   "cell_type": "code",
   "execution_count": 30,
   "id": "7dff055a",
   "metadata": {},
   "outputs": [
    {
     "name": "stdout",
     "output_type": "stream",
     "text": [
      "321\n"
     ]
    }
   ],
   "source": [
    "# 테스트 케이스는 통과인데 제출 시 틀림\n",
    "\n",
    "def solution(X, Y):\n",
    "    \n",
    "    answer = []\n",
    "    answer_str = ''\n",
    "    \n",
    "    for i in X:\n",
    "               \n",
    "        if i in Y:\n",
    "            answer.append(i)\n",
    "            Y = Y.replace(i,'',1)\n",
    "            \n",
    "            if answer.count('0') > 1:\n",
    "                answer.remove('0')\n",
    "                        \n",
    "    if len(answer) == 0:\n",
    "        \n",
    "        return '-1'\n",
    "    \n",
    "    elif answer == ['0']:\n",
    "        \n",
    "        return '0'\n",
    "    \n",
    "    else:\n",
    "        for j in sorted(answer,reverse=True):\n",
    "            answer_str += j\n",
    "    \n",
    "        return answer_str\n",
    "    \n",
    "print(solution(\"12321\",\"42531\"))"
   ]
  },
  {
   "cell_type": "markdown",
   "id": "c1b093a2",
   "metadata": {},
   "source": [
    "#### 62. 체육복\n",
    "\n",
    "점심시간에 도둑이 들어, 일부 학생이 체육복을 도난당했습니다. 다행히 여벌 체육복이 있는 학생이 이들에게 체육복을 빌려주려 합니다. 학생들의 번호는 체격 순으로 매겨져 있어, 바로 앞번호의 학생이나 바로 뒷번호의 학생에게만 체육복을 빌려줄 수 있습니다. 예를 들어, 4번 학생은 3번 학생이나 5번 학생에게만 체육복을 빌려줄 수 있습니다. 체육복이 없으면 수업을 들을 수 없기 때문에 체육복을 적절히 빌려 최대한 많은 학생이 체육수업을 들어야 합니다.\n",
    "\n",
    "전체 학생의 수 n, 체육복을 도난당한 학생들의 번호가 담긴 배열 lost, 여벌의 체육복을 가져온 학생들의 번호가 담긴 배열 reserve가 매개변수로 주어질 때, 체육수업을 들을 수 있는 학생의 최댓값을 return 하도록 solution 함수를 작성해주세요."
   ]
  },
  {
   "cell_type": "code",
   "execution_count": null,
   "id": "39c1e41c",
   "metadata": {},
   "outputs": [],
   "source": [
    "def solution(n, lost, reserve):\n",
    "    answer = n - len(lost)\n",
    "    students = [x for x in range(1, n + 1)]\n",
    "\n",
    "    remove_student = []\n",
    "    for l in lost:\n",
    "        if l in reserve:\n",
    "            remove_student.append(l)\n",
    "\n",
    "    answer += len(remove_student)\n",
    "    for r in remove_student:\n",
    "        lost.remove(r)\n",
    "        reserve.remove(r)\n",
    "\n",
    "    for s in students:\n",
    "        if s in lost:\n",
    "            if s - 1 in reserve:\n",
    "                answer += 1\n",
    "                reserve.remove(s - 1)\n",
    "            elif s + 1 in reserve:\n",
    "                answer += 1\n",
    "                reserve.remove(s + 1)\n",
    "\n",
    "    return answer"
   ]
  },
  {
   "cell_type": "code",
   "execution_count": 52,
   "id": "157de68c",
   "metadata": {},
   "outputs": [
    {
     "name": "stdout",
     "output_type": "stream",
     "text": [
      "4\n"
     ]
    }
   ],
   "source": [
    "#테스트 7,24 실패\n",
    "\n",
    "def solution(n, lost, reserve):\n",
    "    \n",
    "    \n",
    "    sum = n - len(lost)\n",
    "    \n",
    "    for j in lost:\n",
    "        \n",
    "        if j in reserve:\n",
    "            reserve.remove(j)\n",
    "            lost.remove(j)\n",
    "            sum += 1\n",
    "    \n",
    "    for i in sorted(lost):\n",
    "        \n",
    "        \n",
    "        if i-1 in sorted(reserve):\n",
    "            sum += 1\n",
    "            reserve.remove(i-1)\n",
    "        \n",
    "        elif i+1 in sorted(reserve):\n",
    "            sum += 1\n",
    "            reserve.remove(i+1)\n",
    "        \n",
    "    \n",
    "    return sum\n",
    "\n",
    "print(solution(5,[1,2,3],[2,3,4]))"
   ]
  },
  {
   "cell_type": "markdown",
   "id": "34e64ddc",
   "metadata": {},
   "source": [
    "#### 63. 옹알이(2)\n",
    "\n",
    "머쓱이는 태어난 지 11개월 된 조카를 돌보고 있습니다. 조카는 아직 \"aya\", \"ye\", \"woo\", \"ma\" 네 가지 발음과 네 가지 발음을 조합해서 만들 수 있는 발음밖에 하지 못하고 연속해서 같은 발음을 하는 것을 어려워합니다. 문자열 배열 babbling이 매개변수로 주어질 때, 머쓱이의 조카가 발음할 수 있는 단어의 개수를 return하도록 solution 함수를 완성해주세요."
   ]
  },
  {
   "cell_type": "code",
   "execution_count": null,
   "id": "6f73c206",
   "metadata": {},
   "outputs": [],
   "source": [
    "def solution(babbling):\n",
    "    \n",
    "    answer = 0\n",
    "    \n",
    "    for i in babbling:\n",
    "        \n",
    "        for j in ['aya','ye','woo','ma']:\n",
    "            \n",
    "            if j*2 not in i:\n",
    "                i=i.replace(j,' ')\n",
    "                \n",
    "        if len(i.strip())==0:\n",
    "            answer +=1\n",
    "            \n",
    "    return answer"
   ]
  },
  {
   "cell_type": "code",
   "execution_count": 51,
   "id": "52d42dc0",
   "metadata": {},
   "outputs": [
    {
     "name": "stdout",
     "output_type": "stream",
     "text": [
      "1\n",
      "2\n"
     ]
    }
   ],
   "source": [
    "def solution(babbling):\n",
    "    \n",
    "    answer = 0\n",
    "    \n",
    "    for i in babbling:\n",
    "        \n",
    "        for j in ['aya','ye','woo','ma']:\n",
    "            \n",
    "            if j*2 not in i:\n",
    "                i=i.replace(j,' ')\n",
    "                \n",
    "        if len(i.strip())==0:\n",
    "            answer +=1\n",
    "            \n",
    "    return answer\n",
    "\n",
    "print(solution([\"aya\", \"yee\", \"u\", \"maa\"]))\n",
    "print(solution([\"ayaye\", \"uuu\", \"yeye\", \"yemawoo\", \"ayaayaa\"]))"
   ]
  },
  {
   "cell_type": "markdown",
   "id": "4fcca7a5",
   "metadata": {},
   "source": [
    "## No.64~70(2023.05.26)"
   ]
  },
  {
   "cell_type": "markdown",
   "id": "da08d1f9",
   "metadata": {},
   "source": [
    "#### 64. 완주하지 못한 선수\n",
    "\n",
    "수많은 마라톤 선수들이 마라톤에 참여하였습니다. 단 한 명의 선수를 제외하고는 모든 선수가 마라톤을 완주하였습니다.\n",
    "\n",
    "마라톤에 참여한 선수들의 이름이 담긴 배열 participant와 완주한 선수들의 이름이 담긴 배열 completion이 주어질 때, 완주하지 못한 선수의 이름을 return 하도록 solution 함수를 작성해주세요."
   ]
  },
  {
   "cell_type": "code",
   "execution_count": 14,
   "id": "9bf15375",
   "metadata": {},
   "outputs": [
    {
     "name": "stdout",
     "output_type": "stream",
     "text": [
      "mislav\n"
     ]
    }
   ],
   "source": [
    "def solution(participant, completion):\n",
    "    \n",
    "    answer = ''\n",
    "    success = []\n",
    "    \n",
    "    participant.sort()\n",
    "    completion.sort()\n",
    "    \n",
    "    for i in participant:\n",
    "        \n",
    "        if i in completion:\n",
    "            \n",
    "            success.append(i)\n",
    "            \n",
    "            if success.count(i) > 1:\n",
    "                \n",
    "                answer += i\n",
    "               \n",
    "        if i not in completion:\n",
    "            \n",
    "            answer += i\n",
    "            \n",
    "    \n",
    "    return answer\n",
    "\n",
    "print(solution([\"mislav\", \"stanko\", \"mislav\", \"ana\"],[\"stanko\", \"ana\", \"mislav\"]))"
   ]
  },
  {
   "cell_type": "code",
   "execution_count": null,
   "id": "4b659f28",
   "metadata": {},
   "outputs": [],
   "source": [
    "#제출 답안\n",
    "\n",
    "def solution(participant, completion):\n",
    "    \n",
    "    participant.sort()\n",
    "    completion.sort()\n",
    "    \n",
    "    for i in range(len(completion)):\n",
    "        \n",
    "        if participant[i] != completion[i]:\n",
    "            \n",
    "            return participant[i]\n",
    "        \n",
    "    return participant[-1]"
   ]
  },
  {
   "cell_type": "markdown",
   "id": "1a632198",
   "metadata": {},
   "source": [
    "#### 65. 문자열 나누기\n",
    "\n",
    "문자열 s가 입력되었을 때 다음 규칙을 따라서 이 문자열을 여러 문자열로 분해하려고 합니다.\n",
    "\n",
    "1. 먼저 첫 글자를 읽습니다. 이 글자를 x라고 합시다.\n",
    "2. 이제 이 문자열을 왼쪽에서 오른쪽으로 읽어나가면서, x와 x가 아닌 다른 글자들이 나온 횟수를 각각 셉니다. 처음으로 두 횟수가 같아지는 순간 멈추고, 지금까지 읽은 문자열을 분리합니다.\n",
    "3. s에서 분리한 문자열을 빼고 남은 부분에 대해서 이 과정을 반복합니다. 남은 부분이 없다면 종료합니다.\n",
    "4. 만약 두 횟수가 다른 상태에서 더 이상 읽을 글자가 없다면, 역시 지금까지 읽은 문자열을 분리하고, 종료합니다.\n",
    "\n",
    "문자열 s가 매개변수로 주어질 때, 위 과정과 같이 문자열들로 분해하고, 분해한 문자열의 개수를 return 하는 함수 solution을 완성하세요."
   ]
  },
  {
   "cell_type": "code",
   "execution_count": null,
   "id": "f69b1edc",
   "metadata": {},
   "outputs": [],
   "source": [
    "#제출 답안\n",
    "\n",
    "def solution(s):\n",
    "    \n",
    "    answer = 0\n",
    "    a,b =0,0\n",
    "    c = s[0]\n",
    "    \n",
    "    for n,i in enumerate(s) :               # enumerate = 인덱스와 원소로 이뤄진 튜플을 만들어줌.\n",
    "        \n",
    "        if c == i :\n",
    "            a +=1\n",
    "            \n",
    "        else :\n",
    "            b+=1\n",
    "        \n",
    "        if n==len(s)-1:\n",
    "            answer+=1       \n",
    "            \n",
    "        elif a==b  :\n",
    "            a,b=0,0\n",
    "            c= s[n+1]\n",
    "            answer+=1\n",
    "            \n",
    "    return answer"
   ]
  },
  {
   "cell_type": "code",
   "execution_count": 22,
   "id": "2614e2ff",
   "metadata": {},
   "outputs": [
    {
     "name": "stdout",
     "output_type": "stream",
     "text": [
      "3\n",
      "6\n",
      "3\n"
     ]
    }
   ],
   "source": [
    "def solution(s):\n",
    "    \n",
    "    answer = 0\n",
    "    a,b =0,0\n",
    "    c = s[0]\n",
    "    \n",
    "    for n,i in enumerate(s) :             \n",
    "        if c == i :\n",
    "            a +=1\n",
    "            \n",
    "        else :\n",
    "            b+=1\n",
    "        \n",
    "        if n==len(s)-1:\n",
    "            answer+=1       \n",
    "            \n",
    "        elif a==b  :\n",
    "            a,b=0,0\n",
    "            c= s[n+1]\n",
    "            answer+=1\n",
    "            \n",
    "    return answer\n",
    "\n",
    "print(solution(\"banana\"))\n",
    "print(solution(\"abracadabra\"))\n",
    "print(solution(\"aaabbaccccabba\"))"
   ]
  },
  {
   "cell_type": "markdown",
   "id": "82affed3",
   "metadata": {},
   "source": [
    "#### 66. 크레인 인형뽑기 게임\n",
    "\n",
    "게임 화면은 \"1 x 1\" 크기의 칸들로 이루어진 \"N x N\" 크기의 정사각 격자이며 위쪽에는 크레인이 있고 오른쪽에는 바구니가 있습니다. (위 그림은 \"5 x 5\" 크기의 예시입니다). 각 격자 칸에는 다양한 인형이 들어 있으며 인형이 없는 칸은 빈칸입니다. 모든 인형은 \"1 x 1\" 크기의 격자 한 칸을 차지하며 격자의 가장 아래 칸부터 차곡차곡 쌓여 있습니다. 게임 사용자는 크레인을 좌우로 움직여서 멈춘 위치에서 가장 위에 있는 인형을 집어 올릴 수 있습니다. 집어 올린 인형은 바구니에 쌓이게 되는 데, 이때 바구니의 가장 아래 칸부터 인형이 순서대로 쌓이게 됩니다. 다음 그림은 [1번, 5번, 3번] 위치에서 순서대로 인형을 집어 올려 바구니에 담은 모습입니다.\n",
    "\n",
    "크레인 작동 시 인형이 집어지지 않는 경우는 없으나 만약 인형이 없는 곳에서 크레인을 작동시키는 경우에는 아무런 일도 일어나지 않습니다. 또한 바구니는 모든 인형이 들어갈 수 있을 만큼 충분히 크다고 가정합니다. (그림에서는 화면표시 제약으로 5칸만으로 표현하였음)\n",
    "\n",
    "게임 화면의 격자의 상태가 담긴 2차원 배열 board와 인형을 집기 위해 크레인을 작동시킨 위치가 담긴 배열 moves가 매개변수로 주어질 때, 크레인을 모두 작동시킨 후 터트려져 사라진 인형의 개수를 return 하도록 solution 함수를 완성해주세요."
   ]
  },
  {
   "cell_type": "code",
   "execution_count": null,
   "id": "9dacf745",
   "metadata": {},
   "outputs": [],
   "source": [
    "def solution(board, moves):\n",
    "    \n",
    "    basket = []\n",
    "    result = 0\n",
    "    \n",
    "    for y in moves:\n",
    "        \n",
    "        for x in board :\n",
    "            \n",
    "            if(x[y-1]==0):        # 크레인이 내려오는 위치에 공백이 존재하면 아무 행동도 하지 않음.\n",
    "                pass\n",
    "            \n",
    "            else:\n",
    "                basket.append(x[y-1])\n",
    "                x[y-1]=0\n",
    "                \n",
    "                if(len(basket)>1):\n",
    "                    \n",
    "                    if(basket[len(basket)-1]==basket[len(basket)-2]):\n",
    "                        \n",
    "                        del basket[len(basket)-1]\n",
    "                        del basket[len(basket)-1]\n",
    "                        result+=2\n",
    "                break\n",
    "                \n",
    "    return result"
   ]
  },
  {
   "cell_type": "code",
   "execution_count": 24,
   "id": "744e5e24",
   "metadata": {},
   "outputs": [
    {
     "name": "stdout",
     "output_type": "stream",
     "text": [
      "4\n"
     ]
    }
   ],
   "source": [
    "def solution(board, moves):\n",
    "    \n",
    "    basket = []\n",
    "    result = 0\n",
    "    \n",
    "    for y in moves:\n",
    "        \n",
    "        for x in board :\n",
    "            \n",
    "            if(x[y-1]==0):       \n",
    "                pass\n",
    "            \n",
    "            else:\n",
    "                basket.append(x[y-1])\n",
    "                x[y-1]=0\n",
    "                \n",
    "                if(len(basket)>1):\n",
    "                    \n",
    "                    if(basket[len(basket)-1]==basket[len(basket)-2]):\n",
    "                        \n",
    "                        del basket[len(basket)-1]\n",
    "                        del basket[len(basket)-1]\n",
    "                        result+=2\n",
    "                break\n",
    "                \n",
    "    return result\n",
    "\n",
    "print(solution([[0,0,0,0,0],[0,0,1,0,3],[0,2,5,0,1],[4,2,4,4,2],[3,5,1,3,1]],[1,5,3,5,1,2,1,4]))"
   ]
  },
  {
   "cell_type": "markdown",
   "id": "217d0be0",
   "metadata": {},
   "source": [
    "#### 67. 키패드 누르기\n",
    "\n",
    "이 전화 키패드에서 왼손과 오른손의 엄지손가락만을 이용해서 숫자만을 입력하려고 합니다.\n",
    "맨 처음 왼손 엄지손가락은 * 키패드에 오른손 엄지손가락은 # 키패드 위치에서 시작하며, 엄지손가락을 사용하는 규칙은 다음과 같습니다.\n",
    "\n",
    "1. 엄지손가락은 상하좌우 4가지 방향으로만 이동할 수 있으며 키패드 이동 한 칸은 거리로 1에 해당합니다.\n",
    "2. 왼쪽 열의 3개의 숫자 1, 4, 7을 입력할 때는 왼손 엄지손가락을 사용합니다.\n",
    "3. 오른쪽 열의 3개의 숫자 3, 6, 9를 입력할 때는 오른손 엄지손가락을 사용합니다.\n",
    "4. 가운데 열의 4개의 숫자 2, 5, 8, 0을 입력할 때는 두 엄지손가락의 현재 키패드의 위치에서 더 가까운 엄지손가락을 사용합니다.\n",
    "\n",
    "4-1. 만약 두 엄지손가락의 거리가 같다면, 오른손잡이는 오른손 엄지손가락, 왼손잡이는 왼손 엄지손가락을 사용합니다.\n",
    "\n",
    "\n",
    "순서대로 누를 번호가 담긴 배열 numbers, 왼손잡이인지 오른손잡이인 지를 나타내는 문자열 hand가 매개변수로 주어질 때, 각 번호를 누른 엄지손가락이 왼손인 지 오른손인 지를 나타내는 연속된 문자열 형태로 return 하도록 solution 함수를 완성해주세요."
   ]
  },
  {
   "cell_type": "code",
   "execution_count": null,
   "id": "d179ea29",
   "metadata": {},
   "outputs": [],
   "source": [
    "def solution(numbers, hand):\n",
    "\n",
    "    answer = ''\n",
    "    location = [[3, 1], [0, 0], [0, 1], [0, 2], [1, 0], [1, 1], [1, 2], [2, 0], [2, 1], [2, 2]]       # 좌표 설정\n",
    "    left, right = [3, 0], [3, 2] # 현재 위치\n",
    "    \n",
    "    for i in numbers:\n",
    "        if i % 3 == 1:        #1,4,7\n",
    "            answer += 'L'\n",
    "            left = location[i]\n",
    "            \n",
    "        elif i % 3 == 0 and i != 0:          #0제외 3,6,9\n",
    "            answer += 'R'\n",
    "            right = location[i]\n",
    "            \n",
    "        else:                                #2,5,8,0 거리구하기\n",
    "            l = abs(location[i][0] - left[0]) + abs(location[i][1] - left[1])\n",
    "            r = abs(location[i][0] - right[0]) + abs(location[i][1] - right[1])\n",
    "            \n",
    "            if l<r:\n",
    "                answer += 'L'\n",
    "                left = location[i]\n",
    "                \n",
    "            elif l>r:\n",
    "                answer += 'R'\n",
    "                right = location[i]\n",
    "                \n",
    "            else:                                                  #거리 동일할경우\n",
    "                answer += hand[0].upper()                        #손잡이 대문자로 넣기\n",
    "                if hand == 'right':                              \n",
    "                    right = location[i]\n",
    "                    \n",
    "                else:\n",
    "                    left = location[i]\n",
    "    return answer\n"
   ]
  },
  {
   "cell_type": "code",
   "execution_count": null,
   "id": "ac7b528d",
   "metadata": {},
   "outputs": [],
   "source": [
    "def solution(numbers, hand):\n",
    "\n",
    "    answer = ''\n",
    "    location = [[3, 1], [0, 0], [0, 1], [0, 2], [1, 0], [1, 1], [1, 2], [2, 0], [2, 1], [2, 2]]       \n",
    "    left, right = [3, 0], [3, 2] \n",
    "    \n",
    "    for i in numbers:\n",
    "        if i % 3 == 1:        \n",
    "            answer += 'L'\n",
    "            left = location[i]\n",
    "            \n",
    "        elif i % 3 == 0 and i != 0:         \n",
    "            answer += 'R'\n",
    "            right = location[i]\n",
    "            \n",
    "        else:                               \n",
    "            l = abs(location[i][0] - left[0]) + abs(location[i][1] - left[1])\n",
    "            r = abs(location[i][0] - right[0]) + abs(location[i][1] - right[1])\n",
    "            \n",
    "            if l<r:\n",
    "                answer += 'L'\n",
    "                left = location[i]\n",
    "                \n",
    "            elif l>r:\n",
    "                answer += 'R'\n",
    "                right = location[i]\n",
    "                \n",
    "            else:                                                  \n",
    "                answer += hand[0].upper()                       \n",
    "                if hand == 'right':                              \n",
    "                    right = location[i]\n",
    "                    \n",
    "                else:\n",
    "                    left = location[i]\n",
    "    return answer"
   ]
  },
  {
   "cell_type": "markdown",
   "id": "fd435b77",
   "metadata": {},
   "source": [
    "#### 68. 신규 아이디 추천\n",
    "\n",
    "카카오에 입사한 신입 개발자 네오는 \"카카오계정개발팀\"에 배치되어, 카카오 서비스에 가입하는 유저들의 아이디를 생성하는 업무를 담당하게 되었습니다. \"네오\"에게 주어진 첫 업무는 새로 가입하는 유저들이 카카오 아이디 규칙에 맞지 않는 아이디를 입력했을 때, 입력된 아이디와 유사하면서 규칙에 맞는 아이디를 추천해주는 프로그램을 개발하는 것입니다."
   ]
  },
  {
   "cell_type": "code",
   "execution_count": null,
   "id": "14da0c22",
   "metadata": {},
   "outputs": [],
   "source": [
    "def solution(new_id):\n",
    "    \n",
    "    answer = ''\n",
    "    \n",
    "    #1단계\n",
    "    new_id_1 = new_id.lower()\n",
    "    \n",
    "    #2단계\n",
    "    \n",
    "    for i in new_id_1:\n",
    "        \n",
    "        if i.isalpha() == True:\n",
    "            answer += i\n",
    "        \n",
    "        elif i.isdigit() == True:\n",
    "            answer += i\n",
    "        \n",
    "        elif i == '-' or i == '_' or i == '.':\n",
    "            answer += i\n",
    "            \n",
    "    #3단계\n",
    "    \n",
    "    while \"..\" in answer:\n",
    "        answer = answer.replace(\"..\",\".\")\n",
    "        \n",
    "    #4단계\n",
    "    \n",
    "    answer = answer.strip('.')\n",
    "    \n",
    "    #5단계\n",
    "    \n",
    "    if answer == '':\n",
    "        answer ='a'\n",
    "        \n",
    "    #6단계\n",
    "    \n",
    "    if len(answer) > 15:\n",
    "        answer = answer[:15]\n",
    "        answer = answer.strip('.')\n",
    "    \n",
    "    #7단계\n",
    "    if len(answer)< 3 :\n",
    "        answer = (answer +answer[-1]*3)[:3]\n",
    "\n",
    "    \n",
    "    return answer"
   ]
  },
  {
   "cell_type": "code",
   "execution_count": 36,
   "id": "14badc63",
   "metadata": {},
   "outputs": [
    {
     "name": "stdout",
     "output_type": "stream",
     "text": [
      "bat.y.abcdefghi\n"
     ]
    }
   ],
   "source": [
    "def solution(new_id):\n",
    "    \n",
    "    answer = ''\n",
    "    \n",
    "    #1단계\n",
    "    new_id_1 = new_id.lower()\n",
    "    \n",
    "    #2단계\n",
    "    \n",
    "    for i in new_id_1:\n",
    "        \n",
    "        if i.isalpha() == True:\n",
    "            answer += i\n",
    "        \n",
    "        elif i.isdigit() == True:\n",
    "            answer += i\n",
    "        \n",
    "        elif i == '-' or i == '_' or i == '.':\n",
    "            answer += i\n",
    "            \n",
    "    #3단계\n",
    "    \n",
    "    while \"..\" in answer:\n",
    "        answer = answer.replace(\"..\",\".\")\n",
    "        \n",
    "    #4단계\n",
    "    \n",
    "    answer = answer.strip('.')\n",
    "    \n",
    "    #5단계\n",
    "    \n",
    "    if answer == '':\n",
    "        answer ='a'\n",
    "        \n",
    "    #6단계\n",
    "    \n",
    "    if len(answer) > 15:\n",
    "        answer = answer[:15]\n",
    "        answer = answer.strip('.')\n",
    "    \n",
    "    #7단계\n",
    "    if len(answer)< 3 :\n",
    "        answer = (answer +answer[-1]*3)[:3]\n",
    "\n",
    "    \n",
    "    return answer\n",
    "\n",
    "print(solution(\"...!@BaT#*..y.abcdefghijklm\"))"
   ]
  },
  {
   "cell_type": "markdown",
   "id": "8e4b01f9",
   "metadata": {},
   "source": [
    "#### 69. 대충 만든 자판\n",
    "\n",
    "휴대폰의 자판은 컴퓨터 키보드 자판과는 다르게 하나의 키에 여러 개의 문자가 할당될 수 있습니다. 키 하나에 여러 문자가 할당된 경우, 동일한 키를 연속해서 빠르게 누르면 할당된 순서대로 문자가 바뀝니다.\n",
    "\n",
    "예를 들어, 1번 키에 \"A\", \"B\", \"C\" 순서대로 문자가 할당되어 있다면 1번 키를 한 번 누르면 \"A\", 두 번 누르면 \"B\", 세 번 누르면 \"C\"가 되는 식입니다.\n",
    "\n",
    "같은 규칙을 적용해 아무렇게나 만든 휴대폰 자판이 있습니다. 이 휴대폰 자판은 키의 개수가 1개부터 최대 100개까지 있을 수 있으며, 특정 키를 눌렀을 때 입력되는 문자들도 무작위로 배열되어 있습니다. 또, 같은 문자가 자판 전체에 여러 번 할당된 경우도 있고, 키 하나에 같은 문자가 여러 번 할당된 경우도 있습니다. 심지어 아예 할당되지 않은 경우도 있습니다. 따라서 몇몇 문자열은 작성할 수 없을 수도 있습니다.\n",
    "\n",
    "이 휴대폰 자판을 이용해 특정 문자열을 작성할 때, 키를 최소 몇 번 눌러야 그 문자열을 작성할 수 있는지 알아보고자 합니다.\n",
    "\n",
    "1번 키부터 차례대로 할당된 문자들이 순서대로 담긴 문자열배열 keymap과 입력하려는 문자열들이 담긴 문자열 배열 targets가 주어질 때, 각 문자열을 작성하기 위해 키를 최소 몇 번씩 눌러야 하는지 순서대로 배열에 담아 return 하는 solution 함수를 완성해 주세요.\n",
    "\n",
    "단, 목표 문자열을 작성할 수 없을 때는 -1을 저장합니다."
   ]
  },
  {
   "cell_type": "code",
   "execution_count": null,
   "id": "fd105058",
   "metadata": {},
   "outputs": [],
   "source": [
    "def solution(keymap, targets):\n",
    "    \n",
    "    answer=[]\n",
    "    key_dict = {}\n",
    "    \n",
    "    for i in range(len(keymap)):\n",
    "        \n",
    "        for j in range(len(keymap[i])):\n",
    "            \n",
    "            char = keymap[i][j]\n",
    "            \n",
    "            if char not in key_dict:\n",
    "                key_dict[char] =(j + 1)\n",
    "                \n",
    "            else:\n",
    "                key_dict[char] = min(key_dict[char],(j + 1))\n",
    "    \n",
    "    for target in targets:\n",
    "        \n",
    "        sum=0\n",
    "        \n",
    "        for t in target:\n",
    "            \n",
    "            if t in key_dict:\n",
    "                sum += key_dict[t]\n",
    "                \n",
    "            else:\n",
    "                sum = -1\n",
    "                break\n",
    "                \n",
    "        answer.append(sum)\n",
    "        \n",
    "    return answer"
   ]
  },
  {
   "cell_type": "code",
   "execution_count": 39,
   "id": "e156e392",
   "metadata": {},
   "outputs": [
    {
     "name": "stdout",
     "output_type": "stream",
     "text": [
      "[9, 4]\n",
      "[-1]\n",
      "[4, 6]\n"
     ]
    }
   ],
   "source": [
    "def solution(keymap, targets):\n",
    "    \n",
    "    answer=[]\n",
    "    key_dict = {}\n",
    "    \n",
    "    for i in range(len(keymap)):\n",
    "        \n",
    "        for j in range(len(keymap[i])):\n",
    "            \n",
    "            char = keymap[i][j]\n",
    "            \n",
    "            if char not in key_dict:\n",
    "                key_dict[char] =(j + 1)\n",
    "                \n",
    "            else:\n",
    "                key_dict[char] = min(key_dict[char],(j + 1))\n",
    "    \n",
    "    for target in targets:\n",
    "        \n",
    "        sum=0\n",
    "        \n",
    "        for t in target:\n",
    "            \n",
    "            if t in key_dict:\n",
    "                sum += key_dict[t]\n",
    "                \n",
    "            else:\n",
    "                sum = -1\n",
    "                break\n",
    "                \n",
    "        answer.append(sum)\n",
    "        \n",
    "    return answer\n",
    "\n",
    "print(solution([\"ABACD\", \"BCEFD\"],[\"ABCD\",\"AABB\"]))\n",
    "print(solution([\"AA\"],[\"B\"]))\n",
    "print(solution([\"AGZ\", \"BSSS\"],[\"ASA\",\"BGZ\"]))"
   ]
  },
  {
   "cell_type": "markdown",
   "id": "84db5119",
   "metadata": {},
   "source": [
    "#### 70. 둘만의 암호\n",
    "\n",
    "두 문자열 s와 skip, 그리고 자연수 index가 주어질 때, 다음 규칙에 따라 문자열을 만들려 합니다. 암호의 규칙은 다음과 같습니다.\n",
    "\n",
    "1. 문자열 s의 각 알파벳을 index만큼 뒤의 알파벳으로 바꿔줍니다.\n",
    "2. index만큼의 뒤의 알파벳이 z를 넘어갈 경우 다시 a로 돌아갑니다.\n",
    "3. skip에 있는 알파벳은 제외하고 건너뜁니다.\n",
    "\n",
    "예를 들어 s = \"aukks\", skip = \"wbqd\", index = 5일 때, a에서 5만큼 뒤에 있는 알파벳은 f지만 [b, c, d, e, f]에서 'b'와 'd'는 skip에 포함되므로 세지 않습니다. 따라서 'b', 'd'를 제외하고 'a'에서 5만큼 뒤에 있는 알파벳은 [c, e, f, g, h] 순서에 의해 'h'가 됩니다. 나머지 \"ukks\" 또한 위 규칙대로 바꾸면 \"appy\"가 되며 결과는 \"happy\"가 됩니다.\n",
    "\n",
    "두 문자열 s와 skip, 그리고 자연수 index가 매개변수로 주어질 때 위 규칙대로 s를 변환한 결과를 return하도록 solution 함수를 완성해주세요."
   ]
  },
  {
   "cell_type": "code",
   "execution_count": null,
   "id": "f7b5a788",
   "metadata": {},
   "outputs": [],
   "source": [
    "def solution(s, skip, index):\n",
    "    \n",
    "    answer = ''\n",
    "    alpha= []\n",
    "    \n",
    "\n",
    "    for i in range(97,123,1):           # chr은 숫자를 문자로 출력해주는 것\n",
    "        alpha.append(chr(i))\n",
    "        \n",
    "\n",
    "    for i in skip : \n",
    "        alpha.remove(i)\n",
    "    \n",
    "\n",
    "    for j in s :\n",
    "        answer += alpha[(alpha.index(j)+index)%len(alpha)]\n",
    "    \n",
    "    return answer\n"
   ]
  },
  {
   "cell_type": "code",
   "execution_count": 40,
   "id": "ee414e4e",
   "metadata": {},
   "outputs": [
    {
     "name": "stdout",
     "output_type": "stream",
     "text": [
      "happy\n"
     ]
    }
   ],
   "source": [
    "def solution(s, skip, index):\n",
    "    \n",
    "    answer = ''\n",
    "    alpha= []\n",
    "    \n",
    "\n",
    "    for i in range(97,123,1):           # chr은 숫자를 문자로 출력해주는 것\n",
    "        alpha.append(chr(i))\n",
    "        \n",
    "\n",
    "    for i in skip : \n",
    "        alpha.remove(i)\n",
    "    \n",
    "\n",
    "    for j in s :\n",
    "        answer += alpha[(alpha.index(j)+index)%len(alpha)]\n",
    "    \n",
    "    return answer\n",
    "\n",
    "print(solution(\"aukks\",\"wbqd\",5))"
   ]
  },
  {
   "cell_type": "code",
   "execution_count": null,
   "id": "ba074d05",
   "metadata": {},
   "outputs": [],
   "source": []
  },
  {
   "cell_type": "code",
   "execution_count": null,
   "id": "fa537f8e",
   "metadata": {},
   "outputs": [],
   "source": []
  }
 ],
 "metadata": {
  "kernelspec": {
   "display_name": "Python 3 (ipykernel)",
   "language": "python",
   "name": "python3"
  },
  "language_info": {
   "codemirror_mode": {
    "name": "ipython",
    "version": 3
   },
   "file_extension": ".py",
   "mimetype": "text/x-python",
   "name": "python",
   "nbconvert_exporter": "python",
   "pygments_lexer": "ipython3",
   "version": "3.10.9"
  }
 },
 "nbformat": 4,
 "nbformat_minor": 5
}
