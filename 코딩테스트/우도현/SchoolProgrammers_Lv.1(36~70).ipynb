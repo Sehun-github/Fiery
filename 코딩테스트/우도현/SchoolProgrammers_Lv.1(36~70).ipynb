{
 "cells": [
  {
   "cell_type": "markdown",
   "id": "8c1532bc",
   "metadata": {},
   "source": [
    "# SchoolProgrammers Coding_Test Lv.1(35~70)\n",
    "\n",
    "https://school.programmers.co.kr/learn/challenges?order=acceptance_desc&levels=1&languages=python3"
   ]
  },
  {
   "cell_type": "markdown",
   "id": "fd7c8463",
   "metadata": {},
   "source": [
    "##  No.36~42(2023.05.22)"
   ]
  },
  {
   "cell_type": "markdown",
   "id": "e3453a19",
   "metadata": {},
   "source": [
    "#### 36. 삼총사\n",
    "\n",
    "한국중학교에 다니는 학생들은 각자 정수 번호를 갖고 있습니다. 이 학교 학생 3명의 정수 번호를 더했을 때 0이 되면 3명의 학생은 삼총사라고 합니다. 예를 들어, 5명의 학생이 있고, 각각의 정수 번호가 순서대로 -2, 3, 0, 2, -5일 때, 첫 번째, 세 번째, 네 번째 학생의 정수 번호를 더하면 0이므로 세 학생은 삼총사입니다. 또한, 두 번째, 네 번째, 다섯 번째 학생의 정수 번호를 더해도 0이므로 세 학생도 삼총사입니다. 따라서 이 경우 한국중학교에서는 두 가지 방법으로 삼총사를 만들 수 있습니다.\n",
    "\n",
    "한국중학교 학생들의 번호를 나타내는 정수 배열 number가 매개변수로 주어질 때, 학생들 중 삼총사를 만들 수 있는 방법의 수를 return 하도록 solution 함수를 완성하세요."
   ]
  },
  {
   "cell_type": "code",
   "execution_count": null,
   "id": "3a852fc3",
   "metadata": {},
   "outputs": [],
   "source": [
    "import itertools   # combinations(조합) 구현하기 위한 import\n",
    "\n",
    "\n",
    "def solution(number):\n",
    "\n",
    "    count = 0       # 삼총사를 만들 수 있는 방법의 수 변수에 담기\n",
    "    \n",
    "    for i in itertools.combinations(number,3):        # itetools.combination(조합을 만들 리스트, 뽑을 조합의 갯수)\n",
    "        \n",
    "        if sum(i) == 0:\n",
    "            \n",
    "            count += 1\n",
    "        \n",
    "    \n",
    "    return count"
   ]
  },
  {
   "cell_type": "code",
   "execution_count": 3,
   "id": "d45d99b4",
   "metadata": {},
   "outputs": [
    {
     "name": "stdout",
     "output_type": "stream",
     "text": [
      "2\n"
     ]
    }
   ],
   "source": [
    "import itertools\n",
    "\n",
    "\n",
    "def solution(number):\n",
    "\n",
    "    count = 0\n",
    "    \n",
    "    for i in itertools.combinations(number,3):\n",
    "        \n",
    "        if sum(i) == 0:\n",
    "            \n",
    "            count += 1\n",
    "        \n",
    "    \n",
    "    return count\n",
    "\n",
    "print(solution([-2,3,0,2,-5]))"
   ]
  },
  {
   "cell_type": "markdown",
   "id": "9c2ef656",
   "metadata": {},
   "source": [
    "#### 37. 최소 직사각형\n",
    "\n",
    "명함 지갑을 만드는 회사에서 지갑의 크기를 정하려고 합니다. 다양한 모양과 크기의 명함들을 모두 수납할 수 있으면서, 작아서 들고 다니기 편한 지갑을 만들어야 합니다. 이러한 요건을 만족하는 지갑을 만들기 위해 디자인팀은 모든 명함의 가로 길이와 세로 길이를 조사했습니다.\n",
    "\n",
    "아래 표는 4가지 명함의 가로 길이와 세로 길이를 나타냅니다.\n",
    "\n",
    "명함 번호\t가로 길이\t세로 길이\n",
    "\n",
    "1\t          60\t       50\n",
    "\n",
    "2\t          30\t       70\n",
    "\n",
    "3\t          60\t       30\n",
    "\n",
    "4\t          80\t       40\n",
    "\n",
    "가장 긴 가로 길이와 세로 길이가 각각 80, 70이기 때문에 80(가로) x 70(세로) 크기의 지갑을 만들면 모든 명함들을 수납할 수 있습니다. 하지만 2번 명함을 가로로 눕혀 수납한다면 80(가로) x 50(세로) 크기의 지갑으로 모든 명함들을 수납할 수 있습니다. 이때의 지갑 크기는 4000(=80 x 50)입니다.\n",
    "\n",
    "모든 명함의 가로 길이와 세로 길이를 나타내는 2차원 배열 sizes가 매개변수로 주어집니다. 모든 명함을 수납할 수 있는 가장 작은 지갑을 만들 때, 지갑의 크기를 return 하도록 solution 함수를 완성해주세요.\n",
    "\n"
   ]
  },
  {
   "cell_type": "code",
   "execution_count": null,
   "id": "f421aca8",
   "metadata": {},
   "outputs": [],
   "source": [
    "def solution(sizes):\n",
    "    \n",
    "    \n",
    "    long = []                  # 가로 세로 길이 중 긴 길이 리스트\n",
    "    short = []                 # 가로 세로 길이 중 짧은 길이 리스트\n",
    "    \n",
    "    i = 0\n",
    "    \n",
    "    for i in range(len(sizes)):\n",
    "        \n",
    "        if sizes[i][0] > sizes[i][1]:         # 원소의 가로가 길면 가로를 long 리스트에 / 세로를 short 리스트에\n",
    "            \n",
    "            long.append(sizes[i][0])\n",
    "            short.append(sizes[i][1])\n",
    "            \n",
    "        else:                                 # 원소의 세로가 길면 가로를 short 리스트에 / 세로를 long 리스트에\n",
    "            long.append(sizes[i][1])\n",
    "            short.append(sizes[i][0])\n",
    "    \n",
    "    return max(long) * max(short)            # long의 최대값 * short 최대값이 작은 지갑의 크기"
   ]
  },
  {
   "cell_type": "code",
   "execution_count": 7,
   "id": "f59e339c",
   "metadata": {},
   "outputs": [
    {
     "name": "stdout",
     "output_type": "stream",
     "text": [
      "4000\n",
      "120\n",
      "133\n"
     ]
    }
   ],
   "source": [
    "def solution(sizes):\n",
    "    \n",
    "    long = []\n",
    "    short = []\n",
    "    \n",
    "    i = 0\n",
    "    \n",
    "    for i in range(len(sizes)):\n",
    "        \n",
    "        if sizes[i][0] > sizes[i][1]:\n",
    "            \n",
    "            long.append(sizes[i][0])\n",
    "            short.append(sizes[i][1])\n",
    "            \n",
    "        else:\n",
    "            long.append(sizes[i][1])\n",
    "            short.append(sizes[i][0])\n",
    "    \n",
    "    return max(long) * max(short)\n",
    "\n",
    "print(solution([[60, 50], [30, 70], [60, 30], [80, 40]]))\n",
    "print(solution([[10, 7], [12, 3], [8, 15], [14, 7], [5, 15]]))\n",
    "print(solution([[14, 4], [19, 6], [6, 16], [18, 7], [7, 11]]))"
   ]
  },
  {
   "cell_type": "markdown",
   "id": "efb178db",
   "metadata": {},
   "source": [
    "38. 비밀지도\n",
    "\n",
    "네오는 평소 프로도가 비상금을 숨겨놓는 장소를 알려줄 비밀지도를 손에 넣었다. 그런데 이 비밀지도는 숫자로 암호화되어 있어 위치를 확인하기 위해서는 암호를 해독해야 한다. 다행히 지도 암호를 해독할 방법을 적어놓은 메모도 함께 발견했다.\n",
    "\n",
    "1. 지도는 한 변의 길이가 n인 정사각형 배열 형태로, 각 칸은 \"공백\"(\" \") 또는 \"벽\"(\"#\") 두 종류로 이루어져 있다.\n",
    "2. 전체 지도는 두 장의 지도를 겹쳐서 얻을 수 있다. 각각 \"지도 1\"과 \"지도 2\"라고 하자. 지도 1 또는 지도 2 중 어느 하나라도 벽인 부분은전체 지도에서도 벽이다. 지도 1과 지도 2에서 모두 공백인 부분은 전체 지도에서도 공백이다. \n",
    "3. \"지도 1\"과 \"지도 2\"는 각각 정수 배열로 암호화되어 있다.\n",
    "4. 암호화된 배열은 지도의 각 가로줄에서 벽 부분을 1, 공백 부분을 0으로 부호화했을 때 얻어지는 이진수에 해당하는 값의 배열이다."
   ]
  },
  {
   "cell_type": "code",
   "execution_count": null,
   "id": "5e3318ee",
   "metadata": {},
   "outputs": [],
   "source": [
    "def solution(n, arr1, arr2):\n",
    "    \n",
    "    answer = []\n",
    "    \n",
    "    arr1_2 = []                # arr1 배열의 원소를 2진법으로 변환하고 담을 배열 \n",
    "    arr2_2 = []                # arr2 배열의 원소를 2진법으로 변환하고 담을 배열\n",
    "    \n",
    "    for i in range(len(arr1)):\n",
    "        \n",
    "        arr1_2.append(\"0\"*(n-len(bin(arr1[i])[2:]))+bin(arr1[i])[2:])      # 2진법으로 변환한 결과에서 5자리를 만들기 위해 앞에 0\n",
    "        arr2_2.append(\"0\"*(n-len(bin(arr2[i])[2:]))+bin(arr2[i])[2:])\n",
    " \n",
    "    for j in range(n):\n",
    "        \n",
    "        temp = '' # 변환할 문자열 생성\n",
    "        \n",
    "        for k in range(n):\n",
    "            \n",
    "            if int(arr1_2[j][k]) or int(arr2_2[j][k]):      # 둘 중 하나의 원소가 1일 경우 # 치환\n",
    "                temp+='#'\n",
    "                \n",
    "            else:                                           # 1이 아닌, 0이면 공백으로 치환\n",
    "                temp+=' '\n",
    "                 \n",
    "        answer.append(temp)                                 # answer에 추가\n",
    "         \n",
    "    return answer"
   ]
  },
  {
   "cell_type": "code",
   "execution_count": 55,
   "id": "0fb49586",
   "metadata": {},
   "outputs": [
    {
     "name": "stdout",
     "output_type": "stream",
     "text": [
      "['#####', '# # #', '### #', '#  ##', '#####']\n",
      "['######', '###  #', '##  ##', ' #### ', ' #####', '### # ']\n"
     ]
    }
   ],
   "source": [
    "def solution(n, arr1, arr2):\n",
    "    \n",
    "    answer = []\n",
    "    \n",
    "    arr1_2 = []\n",
    "    arr2_2 = []\n",
    "    \n",
    "    for i in range(len(arr1)):\n",
    "        \n",
    "        arr1_2.append(\"0\"*(n-len(bin(arr1[i])[2:]))+bin(arr1[i])[2:])\n",
    "        arr2_2.append(\"0\"*(n-len(bin(arr2[i])[2:]))+bin(arr2[i])[2:])\n",
    " \n",
    "    for j in range(n):\n",
    "        \n",
    "        temp = ''\n",
    "        \n",
    "        for k in range(n):\n",
    "            \n",
    "            if int(arr1_2[j][k]) or int(arr2_2[j][k]):\n",
    "                temp+='#'\n",
    "                \n",
    "            else:\n",
    "                temp+=' '\n",
    "                \n",
    "        answer.append(temp)\n",
    "        \n",
    "    return answer\n",
    "\n",
    "print(solution(5,[9, 20, 28, 18, 11],[30, 1, 21, 17, 28]))\n",
    "print(solution(6,[46, 33, 33 ,22, 31, 50],[27 ,56, 19, 14, 14, 10]))"
   ]
  },
  {
   "cell_type": "markdown",
   "id": "2d344dcb",
   "metadata": {},
   "source": [
    "#### 39. 크기가 작은 문자열\n",
    "\n",
    "숫자로 이루어진 문자열 t와 p가 주어질 때, t에서 p와 길이가 같은 부분문자열 중에서, 이 부분문자열이 나타내는 수가 p가 나타내는 수보다 작거나 같은 것이 나오는 횟수를 return하는 함수 solution을 완성하세요.\n",
    "\n",
    "예를 들어, t=\"3141592\"이고 p=\"271\" 인 경우, t의 길이가 3인 부분 문자열은 314, 141, 415, 159, 592입니다. 이 문자열이 나타내는 수 중 271보다 작거나 같은 수는 141, 159 2개 입니다."
   ]
  },
  {
   "cell_type": "code",
   "execution_count": null,
   "id": "1df060a0",
   "metadata": {},
   "outputs": [],
   "source": [
    "def solution(t, p):\n",
    "    \n",
    "    answer = 0\n",
    "    \n",
    "    li = []\n",
    "    i = 0\n",
    "    j = 0\n",
    "    \n",
    "    for i in range(len(t)):            # 문자열 t에서 p의 길이만큼 슬라이싱 반복한 결과를 리스트에 할당\n",
    "        li.append(t[i:i+len(p)])        # 처음에는 int로 변환해서 추가했는데 테스트케이스 3번째에서 02 가 2로 변환되어서 문자열 그대로 변환\n",
    "        \n",
    "    count = 0                          # p가 나타내는 수보다 작거나 같은 것이 나오는 횟수 변수 설정\n",
    "\n",
    "    for j in range(len(li)):\n",
    "    \n",
    "        if int(li[j]) <= int(p) and len(li[j]) == len(p):        # 값이 p와 작거나 같은 수 and p의 길이와 같은 수\n",
    "        \n",
    "            count += 1\n",
    "            \n",
    "            \n",
    "    \n",
    "    return count"
   ]
  },
  {
   "cell_type": "code",
   "execution_count": 119,
   "id": "2f38f982",
   "metadata": {},
   "outputs": [
    {
     "name": "stdout",
     "output_type": "stream",
     "text": [
      "2\n",
      "8\n",
      "3\n"
     ]
    }
   ],
   "source": [
    "def solution(t, p):\n",
    "    \n",
    "    answer = 0\n",
    "    \n",
    "    li = []\n",
    "    i = 0\n",
    "    j = 0\n",
    "    \n",
    "    for i in range(len(t)):\n",
    "        li.append(t[i:i+len(p)])\n",
    "        \n",
    "    count = 0\n",
    "\n",
    "    for j in range(len(li)):\n",
    "    \n",
    "        if int(li[j]) <= int(p) and len(li[j]) == len(p):\n",
    "        \n",
    "            count += 1\n",
    "            \n",
    "            \n",
    "    \n",
    "    return count\n",
    "\n",
    "print(solution(\"3141592\",\"271\"))\n",
    "print(solution(\"500220839878\",\"7\"))\n",
    "print(solution(\"10203\",\"15\"))"
   ]
  },
  {
   "cell_type": "markdown",
   "id": "edf40bdc",
   "metadata": {},
   "source": [
    "#### 40. 숫자 문자열과 영단어\n",
    "\n",
    "네오와 프로도가 숫자놀이를 하고 있습니다. 네오가 프로도에게 숫자를 건넬 때 일부 자릿수를 영단어로 바꾼 카드를 건네주면 프로도는 원래 숫자를 찾는 게임입니다.\n",
    "\n",
    "다음은 숫자의 일부 자릿수를 영단어로 바꾸는 예시입니다.\n",
    "\n",
    "1478 → \"one4seveneight\"\n",
    "\n",
    "234567 → \"23four5six7\"\n",
    "\n",
    "10203 → \"1zerotwozero3\"\n",
    "\n",
    "이렇게 숫자의 일부 자릿수가 영단어로 바뀌어졌거나, 혹은 바뀌지 않고 그대로인 문자열 s가 매개변수로 주어집니다. s가 의미하는 원래 숫자를 return 하도록 solution 함수를 완성해주세요."
   ]
  },
  {
   "cell_type": "code",
   "execution_count": null,
   "id": "7c581557",
   "metadata": {},
   "outputs": [],
   "source": [
    "def solution(s):\n",
    "    \n",
    "    num_dict = [['zero','0'], ['one','1'], ['two','2'], ['three','3'], ['four','4'],\n",
    "         ['five','5'], ['six','6'],['seven','7'],['eight','8'], ['nine','9']]\n",
    "    \n",
    "    for i in num_dict:\n",
    "        \n",
    "        s = s.replace(i[0], i[1])\n",
    "        \n",
    "    return int(s)\n"
   ]
  },
  {
   "cell_type": "code",
   "execution_count": 61,
   "id": "ebe8d1a1",
   "metadata": {},
   "outputs": [
    {
     "name": "stdout",
     "output_type": "stream",
     "text": [
      "1478\n",
      "234567\n",
      "234567\n",
      "123\n"
     ]
    }
   ],
   "source": [
    "def solution(s):\n",
    "    \n",
    "    num_dict = [['zero','0'], ['one','1'], ['two','2'], ['three','3'], ['four','4'],\n",
    "         ['five','5'], ['six','6'],['seven','7'],['eight','8'], ['nine','9']]\n",
    "    \n",
    "    for i in num_dict:\n",
    "        \n",
    "        s = s.replace(i[0], i[1])\n",
    "        \n",
    "    return int(s)\n",
    "\n",
    "\n",
    "print(solution(\"one4seveneight\"))\n",
    "print(solution(\"23four5six7\"))\n",
    "print(solution(\"2three45sixseven\"))\n",
    "print(solution(\"123\"))"
   ]
  },
  {
   "cell_type": "markdown",
   "id": "29aad8a6",
   "metadata": {},
   "source": [
    "#### 41. 문자열 내 마음대로 정렬하기\n",
    "\n",
    "문자열로 구성된 리스트 strings와, 정수 n이 주어졌을 때, 각 문자열의 인덱스 n번째 글자를 기준으로 오름차순 정렬하려 합니다. 예를 들어 strings가 [\"sun\", \"bed\", \"car\"]이고 n이 1이면 각 단어의 인덱스 1의 문자 \"u\", \"e\", \"a\"로 strings를 정렬합니다."
   ]
  },
  {
   "cell_type": "code",
   "execution_count": null,
   "id": "32cf4d59",
   "metadata": {},
   "outputs": [],
   "source": [
    "def solution(strings, n):\n",
    "    answer = []\n",
    "    for i in range(len(strings)):\n",
    "        answer.append(strings[i][n]+strings[i])\n",
    "    \n",
    "    answer.sort()\n",
    "    \n",
    "    for j in range(len(answer)):\n",
    "        answer[j] = answer[j][1:]  \n",
    "        \n",
    "    return answer"
   ]
  },
  {
   "cell_type": "code",
   "execution_count": 81,
   "id": "4199b536",
   "metadata": {},
   "outputs": [
    {
     "name": "stdout",
     "output_type": "stream",
     "text": [
      "['car', 'bed', 'sun']\n"
     ]
    }
   ],
   "source": [
    "def solution(strings, n):\n",
    "    answer = []\n",
    "    for i in range(len(strings)):\n",
    "        answer.append(strings[i][n]+strings[i])\n",
    "    \n",
    "    answer.sort()\n",
    "    \n",
    "    for j in range(len(answer)):\n",
    "        answer[j] = answer[j][1:]  \n",
    "        \n",
    "    return answer\n",
    "\n",
    "print(solution([\"sun\", \"bed\", \"car\"],1))"
   ]
  },
  {
   "cell_type": "markdown",
   "id": "5235cc57",
   "metadata": {},
   "source": [
    "#### 42. K번째 수\n",
    "\n",
    "배열 array의 i번째 숫자부터 j번째 숫자까지 자르고 정렬했을 때, k번째에 있는 수를 구하려 합니다.\n",
    "\n",
    "예를 들어 array가 [1, 5, 2, 6, 3, 7, 4], i = 2, j = 5, k = 3이라면\n",
    "\n",
    "1. array의 2번째부터 5번째까지 자르면 [5, 2, 6, 3]입니다.\n",
    "\n",
    "2. 1에서 나온 배열을 정렬하면 [2, 3, 5, 6]입니다.\n",
    "\n",
    "3. 2에서 나온 배열의 3번째 숫자는 5입니다.\n",
    "\n",
    "배열 array, [i, j, k]를 원소로 가진 2차원 배열 commands가 매개변수로 주어질 때, commands의 모든 원소에 대해 앞서 설명한 연산을 적용했을 때 나온 결과를 배열에 담아 return 하도록 solution 함수를 작성해주세요."
   ]
  },
  {
   "cell_type": "code",
   "execution_count": null,
   "id": "c057ea0d",
   "metadata": {},
   "outputs": [],
   "source": [
    "def solution(array, commands):\n",
    "    \n",
    "    \n",
    "    answer = []\n",
    "    \n",
    "    for i in range(len(commands)):\n",
    "    \n",
    "        a_slice = sorted(array[commands[i][0]-1:commands[i][1]])\n",
    "    \n",
    "        answer.append(a_slice[commands[i][2]-1])\n",
    "    \n",
    "    return answer"
   ]
  },
  {
   "cell_type": "code",
   "execution_count": 106,
   "id": "170ca796",
   "metadata": {},
   "outputs": [
    {
     "name": "stdout",
     "output_type": "stream",
     "text": [
      "[5, 6, 3]\n"
     ]
    }
   ],
   "source": [
    "def solution(array, commands):\n",
    "    \n",
    "    \n",
    "    answer = []\n",
    "    \n",
    "    for i in range(len(commands)):\n",
    "    \n",
    "        a_slice = sorted(array[commands[i][0]-1:commands[i][1]])\n",
    "    \n",
    "        answer.append(a_slice[commands[i][2]-1])\n",
    "    \n",
    "    return answer\n",
    "\n"
   ]
  },
  {
   "cell_type": "markdown",
   "id": "f06ad415",
   "metadata": {},
   "source": [
    "##  No.43~49(2023.05.23)"
   ]
  },
  {
   "cell_type": "markdown",
   "id": "b358b774",
   "metadata": {},
   "source": [
    "#### 43. 두 개 뽑아서 더하기\n",
    "\n",
    "정수 배열 numbers가 주어집니다. numbers에서 서로 다른 인덱스에 있는 두 개의 수를 뽑아 더해서 만들 수 있는 모든 수를 배열에 오름차순으로 담아 return 하도록 solution 함수를 완성해주세요."
   ]
  },
  {
   "cell_type": "code",
   "execution_count": null,
   "id": "bb542dbb",
   "metadata": {},
   "outputs": [],
   "source": [
    "import itertools\n",
    "\n",
    "def solution(numbers):\n",
    "\n",
    "    answer = []\n",
    "    \n",
    "    for i in itertools.combinations(numbers,2):    # 배열에서 조합하는 변수 : combination\n",
    "        \n",
    "        answer.append(sum(i))                       # 두 개의 수 합을 answer에 추가\n",
    "        \n",
    "         \n",
    "    answer_sort = sorted(answer)                    #먼저 오름차순정렬\n",
    "    answer_set = list(set(answer_sort))             #배열에 중복 제거(set)\n",
    "\n",
    "    return sorted(answer_set)               # set을 하면 정렬이 풀림, 정렬을 다시 해줘야함."
   ]
  },
  {
   "cell_type": "code",
   "execution_count": 111,
   "id": "135c15a4",
   "metadata": {},
   "outputs": [
    {
     "name": "stdout",
     "output_type": "stream",
     "text": [
      "[2, 3, 4, 5, 6, 7]\n",
      "[2, 5, 7, 9, 12]\n"
     ]
    }
   ],
   "source": [
    "import itertools\n",
    "\n",
    "def solution(numbers):\n",
    "\n",
    "    answer = []\n",
    "    \n",
    "    for i in itertools.combinations(numbers,2):\n",
    "        \n",
    "        answer.append(sum(i))\n",
    "        \n",
    "        \n",
    "    answer_sort = sorted(answer)    \n",
    "    answer_set = list(set(answer_sort))\n",
    "\n",
    "    return sorted(answer_set)\n",
    "\n",
    "print(solution([2,1,3,4,1]))\n",
    "print(solution([5,0,2,7]))"
   ]
  },
  {
   "cell_type": "markdown",
   "id": "5be7d936",
   "metadata": {},
   "source": [
    "#### 44. 푸드 파이트 대회\n",
    "\n",
    "수웅이는 매달 주어진 음식을 빨리 먹는 푸드 파이트 대회를 개최합니다. 이 대회에서 선수들은 1대 1로 대결하며, 매 대결마다 음식의 종류와 양이 바뀝니다. 대결은 준비된 음식들을 일렬로 배치한 뒤, 한 선수는 제일 왼쪽에 있는 음식부터 오른쪽으로, 다른 선수는 제일 오른쪽에 있는 음식부터 왼쪽으로 순서대로 먹는 방식으로 진행됩니다. 중앙에는 물을 배치하고, 물을 먼저 먹는 선수가 승리하게 됩니다.\n",
    "\n",
    "이때, 대회의 공정성을 위해 두 선수가 먹는 음식의 종류와 양이 같아야 하며, 음식을 먹는 순서도 같아야 합니다. 또한, 이번 대회부터는 칼로리가 낮은 음식을 먼저 먹을 수 있게 배치하여 선수들이 음식을 더 잘 먹을 수 있게 하려고 합니다. 이번 대회를 위해 수웅이는 음식을 주문했는데, 대회의 조건을 고려하지 않고 음식을 주문하여 몇 개의 음식은 대회에 사용하지 못하게 되었습니다.\n",
    "\n",
    "예를 들어, 3가지의 음식이 준비되어 있으며, 칼로리가 적은 순서대로 1번 음식을 3개, 2번 음식을 4개, 3번 음식을 6개 준비했으며, 물을 편의상 0번 음식이라고 칭한다면, 두 선수는 1번 음식 1개, 2번 음식 2개, 3번 음식 3개씩을 먹게 되므로 음식의 배치는 \"1223330333221\"이 됩니다. 따라서 1번 음식 1개는 대회에 사용하지 못합니다.\n",
    "\n",
    "수웅이가 준비한 음식의 양을 칼로리가 적은 순서대로 나타내는 정수 배열 food가 주어졌을 때, 대회를 위한 음식의 배치를 나타내는 문자열을 return 하는 solution 함수를 완성해주세요"
   ]
  },
  {
   "cell_type": "code",
   "execution_count": null,
   "id": "1cb62a06",
   "metadata": {},
   "outputs": [],
   "source": [
    "def solution(food):\n",
    "    \n",
    "    answer = ''\n",
    "    i = 0\n",
    "    j = 0\n",
    "    \n",
    "    \n",
    "    for i in range(1,len(food)):\n",
    "        \n",
    "        if food[i] > 1:\n",
    "            \n",
    "            answer += str(i)*(int(food[i]/2))\n",
    "            \n",
    "        else:\n",
    "            continue\n",
    "        \n",
    "    answer += '0'\n",
    "    \n",
    "    for j in range(len(food)-1,0,-1):\n",
    "        \n",
    "        if food[j] > 1:\n",
    "            \n",
    "            answer += str(j)*(int(food[j]/2))\n",
    "        \n",
    "        else:\n",
    "            continue"
   ]
  },
  {
   "cell_type": "code",
   "execution_count": 139,
   "id": "7f07c76e",
   "metadata": {},
   "outputs": [
    {
     "name": "stdout",
     "output_type": "stream",
     "text": [
      "1223330333221\n",
      "111303111\n"
     ]
    }
   ],
   "source": [
    "def solution(food):\n",
    "    \n",
    "    answer = ''\n",
    "    i = 0\n",
    "    j = 0\n",
    "    \n",
    "    \n",
    "    for i in range(1,len(food)):\n",
    "        \n",
    "        if food[i] > 1:\n",
    "            \n",
    "            answer += str(i)*(int(food[i]/2))\n",
    "            \n",
    "        else:\n",
    "            continue\n",
    "        \n",
    "    answer += '0'\n",
    "    \n",
    "    for j in range(len(food)-1,0,-1):\n",
    "        \n",
    "        if food[j] > 1:\n",
    "            \n",
    "            answer += str(j)*(int(food[j]/2))\n",
    "        \n",
    "        else:\n",
    "            continue\n",
    "    \n",
    "    return answer\n",
    "\n",
    "print(solution([1,3,4,6]))\n",
    "print(solution([1,7,1,2]))"
   ]
  },
  {
   "cell_type": "markdown",
   "id": "5cfcf948",
   "metadata": {},
   "source": [
    "#### 45. 콜라문제\n",
    "\n",
    "문제를 풀던 상빈이는 콜라 문제의 완벽한 해답을 찾았습니다. 상빈이가 푼 방법은 아래 그림과 같습니다. 우선 콜라 빈 병 20병을 가져가서 10병을 받습니다. 받은 10병을 모두 마신 뒤, 가져가서 5병을 받습니다. 5병 중 4병을 모두 마신 뒤 가져가서 2병을 받고, 또 2병을 모두 마신 뒤 가져가서 1병을 받습니다. 받은 1병과 5병을 받았을 때 남은 1병을 모두 마신 뒤 가져가면 1병을 또 받을 수 있습니다. 이 경우 상빈이는 총 10 + 5 + 2 + 1 + 1 = 19병의 콜라를 받을 수 있습니다.\n",
    "\n",
    "문제를 열심히 풀던 상빈이는 일반화된 콜라 문제를 생각했습니다. 이 문제는 빈 병 a개를 가져다주면 콜라 b병을 주는 마트가 있을 때, 빈 병 n개를 가져다주면 몇 병을 받을 수 있는지 계산하는 문제입니다. 기존 콜라 문제와 마찬가지로, 보유 중인 빈 병이 a개 미만이면, 추가적으로 빈 병을 받을 순 없습니다. 상빈이는 열심히 고심했지만, 일반화된 콜라 문제의 답을 찾을 수 없었습니다. 상빈이를 도와, 일반화된 콜라 문제를 해결하는 프로그램을 만들어 주세요.\n",
    "\n",
    "콜라를 받기 위해 마트에 주어야 하는 병 수 a, 빈 병 a개를 가져다 주면 마트가 주는 콜라 병 수 b, 상빈이가 가지고 있는 빈 병의 개수 n이 매개변수로 주어집니다. 상빈이가 받을 수 있는 콜라의 병 수를 return 하도록 solution 함수를 작성해주세요."
   ]
  },
  {
   "cell_type": "code",
   "execution_count": null,
   "id": "77186773",
   "metadata": {},
   "outputs": [],
   "source": [
    "def solution(a, b, n):\n",
    "    \n",
    "\n",
    "    answer = 0\n",
    "    \n",
    "    while True:            # 무한반복\n",
    "        \n",
    "        if n < a:           # 보유중인 빈병 n이 a보다 작으면 빠져나오기\n",
    "            break\n",
    "            \n",
    "        answer+=(n//a)*b    # 보유 빈병에서 a를 나눈 몫에서 b를 곱한 수를 answer에 더하기\n",
    "        \n",
    "        n = (n//a)*b + n%a  \n",
    "\n",
    "    return answer"
   ]
  },
  {
   "cell_type": "code",
   "execution_count": 147,
   "id": "65377dbb",
   "metadata": {},
   "outputs": [
    {
     "name": "stdout",
     "output_type": "stream",
     "text": [
      "19\n",
      "9\n"
     ]
    }
   ],
   "source": [
    "def solution(a, b, n):\n",
    "    \n",
    "\n",
    "    answer = 0\n",
    "    \n",
    "    while True:           \n",
    "        \n",
    "        if n < a:           \n",
    "            break\n",
    "            \n",
    "        answer+=(n//a)*b    \n",
    "        \n",
    "        n = (n//a)*b + n%a  \n",
    "\n",
    "    return answer\n",
    "\n",
    "print(solution(2,1,20))\n",
    "print(solution(3,1,20))"
   ]
  },
  {
   "cell_type": "code",
   "execution_count": 149,
   "id": "13908ba6",
   "metadata": {},
   "outputs": [
    {
     "name": "stdout",
     "output_type": "stream",
     "text": [
      "19\n",
      "9\n"
     ]
    }
   ],
   "source": [
    "solution = lambda a, b, n: max(n - b, 0) // (a - b) * b\n",
    "\n",
    "\n",
    "print(solution(2,1,20))\n",
    "print(solution(3,1,20))"
   ]
  },
  {
   "cell_type": "markdown",
   "id": "a92674da",
   "metadata": {},
   "source": [
    "#### 46. 가장 가까운 같은 글자\n",
    "\n",
    "문자열 s가 주어졌을 때, s의 각 위치마다 자신보다 앞에 나왔으면서, 자신과 가장 가까운 곳에 있는 같은 글자가 어디 있는지 알고 싶습니다.\n",
    "예를 들어, s=\"banana\"라고 할 때,  각 글자들을 왼쪽부터 오른쪽으로 읽어 나가면서 다음과 같이 진행할 수 있습니다.\n",
    "\n",
    "b는 처음 나왔기 때문에 자신의 앞에 같은 글자가 없습니다. 이는 -1로 표현합니다.\n",
    "\n",
    "a는 처음 나왔기 때문에 자신의 앞에 같은 글자가 없습니다. 이는 -1로 표현합니다.\n",
    "\n",
    "n은 처음 나왔기 때문에 자신의 앞에 같은 글자가 없습니다. 이는 -1로 표현합니다.\n",
    "\n",
    "a는 자신보다 두 칸 앞에 a가 있습니다. 이는 2로 표현합니다.\n",
    "\n",
    "n도 자신보다 두 칸 앞에 n이 있습니다. 이는 2로 표현합니다.\n",
    "\n",
    "a는 자신보다 두 칸, 네 칸 앞에 a가 있습니다. 이 중 가까운 것은 두 칸 앞이고, 이는 2로 표현합니다.\n",
    "\n",
    "따라서 최종 결과물은 [-1, -1, -1, 2, 2, 2]가 됩니다.\n",
    "\n",
    "문자열 s이 주어질 때, 위와 같이 정의된 연산을 수행하는 함수 solution을 완성해주세요."
   ]
  },
  {
   "cell_type": "code",
   "execution_count": null,
   "id": "f46f9c10",
   "metadata": {},
   "outputs": [],
   "source": [
    "def solution(s):\n",
    "    \n",
    "    answer = []\n",
    "    \n",
    "    for i in range((len(s))):\n",
    "        \n",
    "        t = s[:i]    \n",
    "        \n",
    "        idx = t.rfind(s[i])          # rfind = 뒤에서부터 찾기\n",
    "        \n",
    "        if idx == -1:\n",
    "            \n",
    "            answer.append(-1)\n",
    "            \n",
    "        else:\n",
    "            answer.append(i - idx)\n",
    "            \n",
    "    return answer"
   ]
  },
  {
   "cell_type": "code",
   "execution_count": 174,
   "id": "ef077a82",
   "metadata": {},
   "outputs": [
    {
     "name": "stdout",
     "output_type": "stream",
     "text": [
      "[-1, -1, -1, 2, 2, 2]\n",
      "[-1, -1, 1, -1, -1, -1]\n"
     ]
    }
   ],
   "source": [
    "def solution(s):\n",
    "    \n",
    "    answer = []\n",
    "    \n",
    "    for i in range((len(s))):\n",
    "        \n",
    "        t = s[:i]\n",
    "        \n",
    "        idx = t.rfind(s[i])\n",
    "        \n",
    "        if idx == -1:\n",
    "            \n",
    "            answer.append(-1)\n",
    "            \n",
    "        else:\n",
    "            answer.append(i - idx)\n",
    "            \n",
    "    return answer\n",
    "\n",
    "print(solution(\"banana\"))\n",
    "print(solution(\"foobar\"))"
   ]
  },
  {
   "cell_type": "markdown",
   "id": "f7ec50c3",
   "metadata": {},
   "source": [
    "#### 47. 추억 점수\n",
    "\n",
    "사진들을 보며 추억에 젖어 있던 루는 사진별로 추억 점수를 매길려고 합니다. 사진 속에 나오는 인물의 그리움 점수를 모두 합산한 값이 해당 사진의 추억 점수가 됩니다. 예를 들어 사진 속 인물의 이름이 [\"may\", \"kein\", \"kain\"]이고 각 인물의 그리움 점수가 [5점, 10점, 1점]일 때 해당 사진의 추억 점수는 16(5 + 10 + 1)점이 됩니다. 다른 사진 속 인물의 이름이 [\"kali\", \"mari\", \"don\", \"tony\"]이고 [\"kali\", \"mari\", \"don\"]의 그리움 점수가 각각 [11점, 1점, 55점]]이고, \"tony\"는 그리움 점수가 없을 때, 이 사진의 추억 점수는 3명의 그리움 점수를 합한 67(11 + 1 + 55)점입니다.\n",
    "\n",
    "그리워하는 사람의 이름을 담은 문자열 배열 name, 각 사람별 그리움 점수를 담은 정수 배열 yearning, 각 사진에 찍힌 인물의 이름을 담은 이차원 문자열 배열 photo가 매개변수로 주어질 때, 사진들의 추억 점수를 photo에 주어진 순서대로 배열에 담아 return하는 solution 함수를 완성해주세요."
   ]
  },
  {
   "cell_type": "code",
   "execution_count": null,
   "id": "75738834",
   "metadata": {},
   "outputs": [],
   "source": [
    "def solution(name, yearning, photo):\n",
    "    \n",
    "    answer = []\n",
    "    j = 0\n",
    "    j = 0\n",
    "    \n",
    "    for i in range(len(photo)):\n",
    "        \n",
    "        sum = 0\n",
    "        \n",
    "        for j in range(len(name)):\n",
    "            \n",
    "            if name[j] in photo[i]:      \n",
    "                \n",
    "                sum += yearning[j]\n",
    "                \n",
    "        answer.append(sum)\n",
    "    \n",
    "    \n",
    "    return answer"
   ]
  },
  {
   "cell_type": "code",
   "execution_count": 185,
   "id": "1bea192c",
   "metadata": {},
   "outputs": [
    {
     "name": "stdout",
     "output_type": "stream",
     "text": [
      "[19, 15, 6]\n",
      "[67, 0, 55]\n",
      "[5, 15, 0]\n"
     ]
    }
   ],
   "source": [
    "def solution(name, yearning, photo):\n",
    "    \n",
    "    answer = []\n",
    "    j = 0\n",
    "    j = 0\n",
    "    \n",
    "    for i in range(len(photo)):\n",
    "        \n",
    "        sum = 0\n",
    "        \n",
    "        for j in range(len(name)):\n",
    "            \n",
    "            if name[j] in photo[i]:\n",
    "                \n",
    "                sum += yearning[j]\n",
    "                \n",
    "        answer.append(sum)\n",
    "    \n",
    "    \n",
    "    return answer\n",
    "\n",
    "print(solution([\"may\", \"kein\", \"kain\", \"radi\"],[5, 10, 1, 3],[[\"may\", \"kein\", \"kain\", \"radi\"],[\"may\", \"kein\", \"brin\", \"deny\"], [\"kon\", \"kain\", \"may\", \"coni\"]]))\n",
    "print(solution([\"kali\", \"mari\", \"don\"],[11, 1, 55],[[\"kali\", \"mari\", \"don\"], [\"pony\", \"tom\", \"teddy\"], [\"con\", \"mona\", \"don\"]]))\n",
    "print(solution([\"may\", \"kein\", \"kain\", \"radi\"],[5, 10, 1, 3],[[\"may\"],[\"kein\", \"deny\", \"may\"], [\"kon\", \"coni\"]]))"
   ]
  },
  {
   "cell_type": "markdown",
   "id": "5d4f9bd4",
   "metadata": {},
   "source": [
    "#### 48. 2016년\n",
    "\n",
    "2016년 1월 1일은 금요일입니다. 2016년 a월 b일은 무슨 요일일까요? 두 수 a ,b를 입력받아 2016년 a월 b일이 무슨 요일인지 리턴하는 함수, solution을 완성하세요. 요일의 이름은 일요일부터 토요일까지 각각 SUN,MON,TUE,WED,THU,FRI,SAT\n",
    "\n",
    "입니다. 예를 들어 a=5, b=24라면 5월 24일은 화요일이므로 문자열 \"TUE\"를 반환하세요."
   ]
  },
  {
   "cell_type": "code",
   "execution_count": null,
   "id": "c5113aa7",
   "metadata": {},
   "outputs": [],
   "source": [
    "def solution(a, b):\n",
    "    \n",
    "\n",
    "    \n",
    "    weekday = (\"THU\",\"FRI\",\"SAT\",\"SUN\",\"MON\",\"TUE\",\"WED\")\n",
    "    month = [31,29,31,30,31,30,31,31,30,31,30,31]\n",
    "    \n",
    "    sum = 0\n",
    "    \n",
    "    for i in range(a - 1):          #월에서 -1 해서 모두 더한거에 b를 더하고, 7로 나눈 나머지\n",
    "        \n",
    "        sum += month[i]\n",
    "        \n",
    "    return weekday[(sum + b) % 7]"
   ]
  },
  {
   "cell_type": "code",
   "execution_count": 205,
   "id": "3f2ecbfc",
   "metadata": {},
   "outputs": [
    {
     "name": "stdout",
     "output_type": "stream",
     "text": [
      "TUE\n"
     ]
    }
   ],
   "source": [
    "def solution(a, b):\n",
    "    \n",
    "    \n",
    "    weekday = (\"THU\",\"FRI\",\"SAT\",\"SUN\",\"MON\",\"TUE\",\"WED\")\n",
    "    month = [31,29,31,30,31,30,31,31,30,31,30,31]\n",
    "    \n",
    "    sum = 0\n",
    "    \n",
    "    for i in range(a - 1):\n",
    "        \n",
    "        sum += month[i]\n",
    "        \n",
    "    return weekday[(sum + b) % 7]\n",
    "\n",
    "\n",
    "print(solution(5,24))"
   ]
  },
  {
   "cell_type": "markdown",
   "id": "187bcc60",
   "metadata": {},
   "source": [
    "#### 49. 폰켓몬\n",
    "\n",
    "당신은 폰켓몬을 잡기 위한 오랜 여행 끝에, 홍 박사님의 연구실에 도착했습니다. 홍 박사님은 당신에게 자신의 연구실에 있는 총 N 마리의 폰켓몬 중에서 N/2마리를 가져가도 좋다고 했습니다.\n",
    "홍 박사님 연구실의 폰켓몬은 종류에 따라 번호를 붙여 구분합니다. 따라서 같은 종류의 폰켓몬은 같은 번호를 가지고 있습니다. 예를 들어 연구실에 총 4마리의 폰켓몬이 있고, 각 폰켓몬의 종류 번호가 [3번, 1번, 2번, 3번]이라면 이는 3번 폰켓몬 두 마리, 1번 폰켓몬 한 마리, 2번 폰켓몬 한 마리가 있음을 나타냅니다. 이때, 4마리의 폰켓몬 중 2마리를 고르는 방법은 다음과 같이 6가지가 있습니다.\n",
    "\n",
    "1. 첫 번째(3번), 두 번째(1번) 폰켓몬을 선택\n",
    "2. 첫 번째(3번), 세 번째(2번) 폰켓몬을 선택\n",
    "3. 첫 번째(3번), 네 번째(3번) 폰켓몬을 선택\n",
    "4. 두 번째(1번), 세 번째(2번) 폰켓몬을 선택\n",
    "5. 두 번째(1번), 네 번째(3번) 폰켓몬을 선택\n",
    "6. 세 번째(2번), 네 번째(3번) 폰켓몬을 선택\n",
    "\n",
    "이때, 첫 번째(3번) 폰켓몬과 네 번째(3번) 폰켓몬을 선택하는 방법은 한 종류(3번 폰켓몬 두 마리)의 폰켓몬만 가질 수 있지만, 다른 방법들은 모두 두 종류의 폰켓몬을 가질 수 있습니다. 따라서 위 예시에서 가질 수 있는 폰켓몬 종류 수의 최댓값은 2가 됩니다.\n",
    "당신은 최대한 다양한 종류의 폰켓몬을 가지길 원하기 때문에, 최대한 많은 종류의 폰켓몬을 포함해서 N/2마리를 선택하려 합니다. N마리 폰켓몬의 종류 번호가 담긴 배열 nums가 매개변수로 주어질 때, N/2마리의 폰켓몬을 선택하는 방법 중, 가장 많은 종류의 폰켓몬을 선택하는 방법을 찾아, 그때의 폰켓몬 종류 번호의 개수를 return 하도록 solution 함수를 완성해주세요."
   ]
  },
  {
   "cell_type": "code",
   "execution_count": null,
   "id": "46973856",
   "metadata": {},
   "outputs": [],
   "source": [
    "def solution(nums):\n",
    "    \n",
    "    nums_select = len(nums) // 2        # 뽑을 개수\n",
    "    \n",
    "    nums_set = len(set(nums))           # 중복 제외한 갯수\n",
    "        \n",
    "        \n",
    "    \n",
    "    return nums_select if nums_set > nums_select else nums_set"
   ]
  },
  {
   "cell_type": "code",
   "execution_count": 207,
   "id": "a03c1655",
   "metadata": {},
   "outputs": [
    {
     "name": "stdout",
     "output_type": "stream",
     "text": [
      "2\n"
     ]
    }
   ],
   "source": [
    "def solution(nums):\n",
    "    \n",
    "    nums_select = len(nums) // 2\n",
    "    \n",
    "    nums_set = len(set(nums))\n",
    "        \n",
    "        \n",
    "    \n",
    "    return nums_select if nums_set > nums_select else nums_set\n",
    "\n",
    "print(solution([3,1,2,3]))"
   ]
  },
  {
   "cell_type": "code",
   "execution_count": null,
   "id": "5eda3ba9",
   "metadata": {},
   "outputs": [],
   "source": []
  }
 ],
 "metadata": {
  "kernelspec": {
   "display_name": "Python 3 (ipykernel)",
   "language": "python",
   "name": "python3"
  },
  "language_info": {
   "codemirror_mode": {
    "name": "ipython",
    "version": 3
   },
   "file_extension": ".py",
   "mimetype": "text/x-python",
   "name": "python",
   "nbconvert_exporter": "python",
   "pygments_lexer": "ipython3",
   "version": "3.10.9"
  }
 },
 "nbformat": 4,
 "nbformat_minor": 5
}
