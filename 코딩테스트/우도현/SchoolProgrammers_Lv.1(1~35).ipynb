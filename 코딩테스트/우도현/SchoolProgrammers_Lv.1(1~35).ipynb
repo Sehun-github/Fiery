{
 "cells": [
  {
   "cell_type": "markdown",
   "id": "4826b9f1",
   "metadata": {},
   "source": [
    "# SchoolProgrammers Coding_Test Lv.1(1~35)\n",
    "\n",
    "https://school.programmers.co.kr/learn/challenges?order=acceptance_desc&levels=1&languages=python3"
   ]
  },
  {
   "cell_type": "markdown",
   "id": "e43f1ff2",
   "metadata": {},
   "source": [
    "## No.1~7 (2023.05.15)"
   ]
  },
  {
   "cell_type": "markdown",
   "id": "3287c256",
   "metadata": {},
   "source": [
    "### 1. 자릿수 더하기\n",
    "\n",
    "자연수 N이 주어지면, N의 각 자릿수의 합을 구해서 return 하는 solution 함수를 만들어 주세요.\n",
    "예를들어 N = 123이면 1 + 2 + 3 = 6을 return 하면 됩니다."
   ]
  },
  {
   "cell_type": "code",
   "execution_count": 142,
   "id": "145aa60f",
   "metadata": {},
   "outputs": [],
   "source": [
    "# 제출 답안\n",
    "\n",
    "def solution(N):\n",
    "    \n",
    "    n_str = str(N)\n",
    "    sum_digits = 0\n",
    "    \n",
    "    for digit in n_str:\n",
    "        \n",
    "        sum_digits += int(digit)\n",
    "\n",
    "    return sum_digits\n"
   ]
  },
  {
   "cell_type": "code",
   "execution_count": 32,
   "id": "cc0479d1",
   "metadata": {},
   "outputs": [
    {
     "name": "stdout",
     "output_type": "stream",
     "text": [
      "6\n",
      "24\n"
     ]
    }
   ],
   "source": [
    "def solution(N):\n",
    "    \n",
    "    n_str = str(N)\n",
    "    sum_digits = 0\n",
    "    \n",
    "    for digit in n_str:\n",
    "        \n",
    "        sum_digits += int(digit)\n",
    "    \n",
    "\n",
    "    return sum_digits\n",
    "\n",
    "print(solution(123))\n",
    "print(solution(987))"
   ]
  },
  {
   "cell_type": "markdown",
   "id": "b48bcf18",
   "metadata": {},
   "source": [
    "### 2. 짝수와 홀수\n",
    "\n",
    "정수 num이 짝수일 경우 \"Even\"을 반환하고 홀수인 경우 \"Odd\"를 반환하는 함수, solution을 완성해주세요."
   ]
  },
  {
   "cell_type": "code",
   "execution_count": 143,
   "id": "761b8c4c",
   "metadata": {},
   "outputs": [],
   "source": [
    "#제출 답안\n",
    "\n",
    "def solution(num):\n",
    "    \n",
    "    if num % 2 == 0:\n",
    "        return \"Even\"\n",
    "    \n",
    "    else:\n",
    "        return \"odd\""
   ]
  },
  {
   "cell_type": "code",
   "execution_count": 57,
   "id": "36c4a9e0",
   "metadata": {},
   "outputs": [
    {
     "name": "stdout",
     "output_type": "stream",
     "text": [
      "odd\n",
      "Even\n"
     ]
    }
   ],
   "source": [
    "def solution(num):\n",
    "    \n",
    "    if num % 2 == 0:\n",
    "        return \"Even\"\n",
    "    \n",
    "    else:\n",
    "        return \"odd\"\n",
    "        \n",
    "\n",
    "print(solution(3))\n",
    "print(solution(4))"
   ]
  },
  {
   "cell_type": "markdown",
   "id": "989c2c10",
   "metadata": {},
   "source": [
    "### 3. 약수의 합\n",
    "\n",
    "정수 n을 입력받아 n의 약수를 모두 더한 값을 리턴하는 함수, solution을 완성해주세요."
   ]
  },
  {
   "cell_type": "code",
   "execution_count": 144,
   "id": "6e116f65",
   "metadata": {},
   "outputs": [],
   "source": [
    "#제출 답안\n",
    "\n",
    "def solution(n):\n",
    "    \n",
    "    li=[]\n",
    "\n",
    "    for i in range(1,n+1):\n",
    "        if n%i==0:\n",
    "            li.append(i)\n",
    "            sum_list = sum(li)\n",
    "            \n",
    "    return sum_list"
   ]
  },
  {
   "cell_type": "code",
   "execution_count": 90,
   "id": "c6fc04b4",
   "metadata": {},
   "outputs": [
    {
     "name": "stdout",
     "output_type": "stream",
     "text": [
      "28\n",
      "6\n",
      "None\n"
     ]
    }
   ],
   "source": [
    "def solution(n):\n",
    "    \n",
    "    li=[]\n",
    "    \n",
    "    if n == 0:\n",
    "        return None\n",
    "\n",
    "    for i in range(1,n+1):\n",
    "        if n%i==0 and n!=0:\n",
    "            li.append(i)\n",
    "            sum_list = sum(li)\n",
    "            \n",
    "    return sum_list\n",
    "\n",
    "print(solution(12))\n",
    "print(solution(5))\n",
    "print(solution(0))"
   ]
  },
  {
   "cell_type": "markdown",
   "id": "af61b860",
   "metadata": {},
   "source": [
    "### 4. 평균 구하기\n",
    "\n",
    "정수를 담고 있는 배열 arr의 평균값을 return하는 함수, solution을 완성해보세요."
   ]
  },
  {
   "cell_type": "code",
   "execution_count": 145,
   "id": "ef5104ab",
   "metadata": {},
   "outputs": [],
   "source": [
    "#제출 답안\n",
    "\n",
    "def solution(arr):\n",
    "    answer = sum(arr) / len(arr)\n",
    "    \n",
    "    return answer"
   ]
  },
  {
   "cell_type": "code",
   "execution_count": 92,
   "id": "a5edafb1",
   "metadata": {},
   "outputs": [
    {
     "name": "stdout",
     "output_type": "stream",
     "text": [
      "2.5\n",
      "5.0\n"
     ]
    }
   ],
   "source": [
    "def solution(arr):\n",
    "    answer = sum(arr) / len(arr)\n",
    "    \n",
    "    return answer\n",
    "\n",
    "print(solution([1,2,3,4]))\n",
    "print(solution([5,5]))"
   ]
  },
  {
   "cell_type": "markdown",
   "id": "e24bcbd1",
   "metadata": {},
   "source": [
    "### 5. 나머지가 1이 되는 수 찾기\n",
    "\n",
    "자연수 n이 매개변수로 주어집니다. n을 x로 나눈 나머지가 1이 되도록 하는 가장 작은 자연수 x를 return 하도록 solution 함수를 완성해주세요. 답이 항상 존재함은 증명될 수 있습니다."
   ]
  },
  {
   "cell_type": "code",
   "execution_count": 146,
   "id": "42ce919f",
   "metadata": {},
   "outputs": [],
   "source": [
    "#제출 답안\n",
    "\n",
    "def solution(n):\n",
    "    \n",
    "    li=[]\n",
    "\n",
    "    for i in range(1,n+1):\n",
    "        if n%i == 1:\n",
    "            li.append(i)\n",
    "\n",
    "            \n",
    "    return min(li)"
   ]
  },
  {
   "cell_type": "code",
   "execution_count": 95,
   "id": "74fcccff",
   "metadata": {
    "scrolled": true
   },
   "outputs": [
    {
     "name": "stdout",
     "output_type": "stream",
     "text": [
      "3\n",
      "11\n"
     ]
    }
   ],
   "source": [
    "def solution(n):\n",
    "    \n",
    "    li=[]\n",
    "\n",
    "    for i in range(1,n+1):\n",
    "        if n%i == 1:\n",
    "            li.append(i)\n",
    "\n",
    "            \n",
    "    return min(li)\n",
    "\n",
    "print(solution(10))\n",
    "print(solution(12))"
   ]
  },
  {
   "cell_type": "markdown",
   "id": "ff2b0f4b",
   "metadata": {},
   "source": [
    "### 6. x만큼 간격이 있는 n개의 숫자\n",
    "\n",
    "함수 solution은 정수 x와 자연수 n을 입력 받아, x부터 시작해 x씩 증가하는 숫자를 n개 지니는 리스트를 리턴해야 합니다. 다음 제한 조건을 보고, 조건을 만족하는 함수, solution을 완성해주세요."
   ]
  },
  {
   "cell_type": "code",
   "execution_count": 149,
   "id": "dd6b2478",
   "metadata": {},
   "outputs": [],
   "source": [
    "#제출 답안\n",
    "\n",
    "def solution(x, n):\n",
    "    \n",
    "    answer = []\n",
    "\n",
    "    for i in range(1,n+1):\n",
    "        \n",
    "        answer.insert(i,x*i)\n",
    "        \n",
    "    return answer"
   ]
  },
  {
   "cell_type": "code",
   "execution_count": 148,
   "id": "aacd93d8",
   "metadata": {},
   "outputs": [
    {
     "name": "stdout",
     "output_type": "stream",
     "text": [
      "[2, 4, 6, 8, 10]\n",
      "[4, 8, 12]\n",
      "[-4, -8]\n"
     ]
    }
   ],
   "source": [
    "def solution(x, n):\n",
    "    \n",
    "    answer = []\n",
    "\n",
    "    for i in range(1,n+1):\n",
    "        \n",
    "        answer.insert(i,x*i)\n",
    "        \n",
    "    return answer\n",
    "\n",
    "print(solution(2,5))\n",
    "print(solution(4,3))\n",
    "print(solution(-4,2))"
   ]
  },
  {
   "cell_type": "markdown",
   "id": "7ec2943e",
   "metadata": {},
   "source": [
    "### 7. 문자열 내 p와 y의 개수\n",
    "\n",
    "대문자와 소문자가 섞여있는 문자열 s가 주어집니다. s에 'p'의 개수와 'y'의 개수를 비교해 같으면 True, 다르면 False를 return 하는 solution를 완성하세요. 'p', 'y' 모두 하나도 없는 경우는 항상 True를 리턴합니다. 단, 개수를 비교할 때 대문자와 소문자는 구별하지 않습니다."
   ]
  },
  {
   "cell_type": "code",
   "execution_count": 150,
   "id": "eb6be91e",
   "metadata": {},
   "outputs": [],
   "source": [
    "#제출 답안\n",
    "\n",
    "def solution(s):\n",
    "\n",
    "    p_count = s.lower().count(\"p\")\n",
    "    y_count = s.lower().count(\"y\")\n",
    "    \n",
    "    if p_count == y_count:\n",
    "        return True\n",
    "    else:\n",
    "        return False"
   ]
  },
  {
   "cell_type": "code",
   "execution_count": 141,
   "id": "5e8a7380",
   "metadata": {},
   "outputs": [
    {
     "name": "stdout",
     "output_type": "stream",
     "text": [
      "True\n",
      "False\n"
     ]
    }
   ],
   "source": [
    "def solution(s):\n",
    "\n",
    "    p_count = s.lower().count(\"p\")\n",
    "    y_count = s.lower().count(\"y\")\n",
    "    \n",
    "    if p_count == y_count:\n",
    "        return True\n",
    "    else:\n",
    "        return False\n",
    "    \n",
    "print(solution(\"pPoooyY\"))\n",
    "print(solution(\"Pyy\"))"
   ]
  },
  {
   "cell_type": "markdown",
   "id": "34a6e7ef",
   "metadata": {},
   "source": [
    "## No.8~14 (2023.05.16)"
   ]
  },
  {
   "cell_type": "markdown",
   "id": "2c03292a",
   "metadata": {},
   "source": [
    "#### 8. 자연수 뒤집어 배열로 만들기\n",
    "자연수 n을 뒤집어 각 자리 숫자를 원소로 가지는 배열 형태로 리턴해주세요. 예를들어 n이 12345이면 [5,4,3,2,1]을 리턴합니다."
   ]
  },
  {
   "cell_type": "code",
   "execution_count": 25,
   "id": "558945b4",
   "metadata": {},
   "outputs": [],
   "source": [
    "#제출 답안\n",
    "def solution(n):\n",
    "    \n",
    "    str_n = str(n)[::-1]    #문자열로 변환 후 역순으로 나열\n",
    "    \n",
    "    li = []                 # 리스트 생성\n",
    "    i = 0\n",
    "    \n",
    "    for i in str_n:         #문자열 n을 for문으로 반복 실행\n",
    "        li.append(i)        #실행한 값을 li 리스트에 순서대로 추가\n",
    "    \n",
    "    li_int = list(map(int,li))  #li 리스트 원소의 타입을 정수로 변환\n",
    "\n",
    "    return li_int"
   ]
  },
  {
   "cell_type": "code",
   "execution_count": 24,
   "id": "96e7c0d6",
   "metadata": {},
   "outputs": [
    {
     "name": "stdout",
     "output_type": "stream",
     "text": [
      "[5, 4, 3, 2, 1]\n"
     ]
    }
   ],
   "source": [
    "def solution(n):\n",
    "    \n",
    "    str_n = str(n)[::-1]\n",
    "    \n",
    "    li = []\n",
    "    i = 0\n",
    "    \n",
    "    for i in str_n:\n",
    "        li.append(i)\n",
    "    \n",
    "    li_int = list(map(int,li))\n",
    "\n",
    "    return li_int\n",
    "\n",
    "print(solution(12345))"
   ]
  },
  {
   "cell_type": "markdown",
   "id": "93663543",
   "metadata": {},
   "source": [
    "### 9. 정수 제곱근 판별\n",
    "임의의 양의 정수 n에 대해, n이 어떤 양의 정수 x의 제곱인지 아닌지 판단하려 합니다.\n",
    "n이 양의 정수 x의 제곱이라면 x+1의 제곱을 리턴하고, n이 양의 정수 x의 제곱이 아니라면 -1을 리턴하는 함수를 완성하세요."
   ]
  },
  {
   "cell_type": "code",
   "execution_count": null,
   "id": "a71200ae",
   "metadata": {},
   "outputs": [],
   "source": [
    "def solution(n):\n",
    "    \n",
    "    x = n**(1/2)                    # n의 제곱근을 x 변수에 할당\n",
    "    \n",
    "    if x % 1 == 0 :                  # x를 1로 나눴을 때 나머지가 0일 때(x가 정수인지 판별)        \n",
    "        return int((x+1)**2)       \n",
    "    \n",
    "    else:\n",
    "        return -1"
   ]
  },
  {
   "cell_type": "code",
   "execution_count": 38,
   "id": "d960ccca",
   "metadata": {},
   "outputs": [
    {
     "name": "stdout",
     "output_type": "stream",
     "text": [
      "144\n",
      "-1\n"
     ]
    }
   ],
   "source": [
    "def solution(n):\n",
    "    \n",
    "    x = n**(1/2)\n",
    "    \n",
    "    if x % 1 ==0 :\n",
    "        return int((x+1)**2)\n",
    "    \n",
    "    else:\n",
    "        return -1\n",
    "print(solution(121))\n",
    "print(solution(3))"
   ]
  },
  {
   "cell_type": "markdown",
   "id": "6c9cfb6e",
   "metadata": {},
   "source": [
    "#### 10. 문자열을 정수로 바꾸기\n",
    "\n",
    "문자열 s를 숫자로 변환한 결과를 반환하는 함수, solution을 완성하세요.\n"
   ]
  },
  {
   "cell_type": "code",
   "execution_count": null,
   "id": "8c7f08e8",
   "metadata": {},
   "outputs": [],
   "source": [
    "def solution(s):\n",
    "      \n",
    "    return int(s)"
   ]
  },
  {
   "cell_type": "code",
   "execution_count": 42,
   "id": "598e21a2",
   "metadata": {},
   "outputs": [
    {
     "name": "stdout",
     "output_type": "stream",
     "text": [
      "-1234\n"
     ]
    }
   ],
   "source": [
    "def solution(s):\n",
    "    \n",
    "    return int(s)\n",
    "\n",
    "print(solution(\"-1234\"))"
   ]
  },
  {
   "cell_type": "markdown",
   "id": "9291d281",
   "metadata": {},
   "source": [
    "#### 11. 정수 내림차순으로 배치하기\n",
    "\n",
    "함수 solution은 정수 n을 매개변수로 입력받습니다. n의 각 자릿수를 큰것부터 작은 순으로 정렬한 새로운 정수를 리턴해주세요. 예를들어 n이 118372면 873211을 리턴하면 됩니다."
   ]
  },
  {
   "cell_type": "code",
   "execution_count": null,
   "id": "4f92d44e",
   "metadata": {},
   "outputs": [],
   "source": [
    "def solution(n):\n",
    "    \n",
    "    n_str = str(n)                        # n을 문자열로 변환\n",
    "\n",
    "    li = []                               # 리스트 생성\n",
    "\n",
    "    for i in str(n):\n",
    "        li.append(i)                      # 문자열의 각 단어를 리스트에 추가\n",
    "\n",
    "    S_li = sorted(li,reverse = True)      # 리스트를 내림차순 정렬\n",
    "\n",
    "    n_reverse = int(\"\".join(S_li))        # 리스트를 공백 없이, 정수로 변환 후 출력\n",
    "    \n",
    "    return n_reverse"
   ]
  },
  {
   "cell_type": "code",
   "execution_count": 59,
   "id": "f05112e9",
   "metadata": {},
   "outputs": [
    {
     "name": "stdout",
     "output_type": "stream",
     "text": [
      "873211\n"
     ]
    }
   ],
   "source": [
    "def solution(n):\n",
    "    \n",
    "    n_str = str(n)\n",
    "\n",
    "    li = []\n",
    "\n",
    "    for i in str(n):\n",
    "        li.append(i)\n",
    "\n",
    "    S_li = sorted(li,reverse = True)\n",
    "\n",
    "    n_reverse = int(\"\".join(S_li))\n",
    "    \n",
    "    return n_reverse\n",
    "\n",
    "print(solution(113872))"
   ]
  },
  {
   "cell_type": "markdown",
   "id": "aa0483f1",
   "metadata": {},
   "source": [
    "#### 12. 하샤드 수\n",
    "\n",
    "양의 정수 x가 하샤드 수이려면 x의 자릿수의 합으로 x가 나누어져야 합니다. 예를 들어 18의 자릿수 합은 1+8=9이고, 18은 9로 나누어 떨어지므로 18은 하샤드 수입니다. 자연수 x를 입력받아 x가 하샤드 수인지 아닌지 검사하는 함수, solution을 완성해주세요."
   ]
  },
  {
   "cell_type": "code",
   "execution_count": null,
   "id": "9668c7cf",
   "metadata": {},
   "outputs": [],
   "source": [
    "def solution(x):\n",
    "    \n",
    "    x_str = str(x)\n",
    "    sum_digits = 0\n",
    "    \n",
    "    for digit in x_str:\n",
    "        \n",
    "        sum_digits += int(digit)\n",
    "    \n",
    "    if x % sum_digits == 0:\n",
    "        return True\n",
    "    \n",
    "    else:\n",
    "        return False"
   ]
  },
  {
   "cell_type": "code",
   "execution_count": 63,
   "id": "34ab711d",
   "metadata": {},
   "outputs": [
    {
     "name": "stdout",
     "output_type": "stream",
     "text": [
      "True\n",
      "True\n",
      "False\n",
      "False\n"
     ]
    }
   ],
   "source": [
    "def solution(x):\n",
    "    \n",
    "    x_str = str(x)\n",
    "    sum_digits = 0\n",
    "    \n",
    "    for digit in x_str:\n",
    "        \n",
    "        sum_digits += int(digit)\n",
    "    \n",
    "    if x % sum_digits == 0:\n",
    "        return True\n",
    "    \n",
    "    else:\n",
    "        return False\n",
    "\n",
    "print(solution(10))\n",
    "print(solution(12))\n",
    "print(solution(11))\n",
    "print(solution(13))"
   ]
  },
  {
   "cell_type": "markdown",
   "id": "f5d8c64f",
   "metadata": {},
   "source": [
    "#### 13. 두 정수 사이의 합\n",
    "\n",
    "두 정수 a, b가 주어졌을 때 a와 b 사이에 속한 모든 정수의 합을 리턴하는 함수, solution을 완성하세요.\n",
    "예를 들어 a = 3, b = 5인 경우, 3 + 4 + 5 = 12이므로 12를 리턴합니다."
   ]
  },
  {
   "cell_type": "code",
   "execution_count": null,
   "id": "8f1d25ec",
   "metadata": {},
   "outputs": [],
   "source": [
    "def solution(a, b):\n",
    "    \n",
    "    i = 0\n",
    "    t = 0\n",
    "    f = 0\n",
    "    \n",
    "    if a < b:\n",
    "        for i in range(a,b+1):\n",
    "            t += i\n",
    "    \n",
    "        return t\n",
    "    \n",
    "    elif a > b:\n",
    "        for i in range(b,a+1):\n",
    "            f += i\n",
    "            \n",
    "        return f\n",
    "    \n",
    "    else:\n",
    "        return a"
   ]
  },
  {
   "cell_type": "code",
   "execution_count": 68,
   "id": "7eebf090",
   "metadata": {},
   "outputs": [
    {
     "name": "stdout",
     "output_type": "stream",
     "text": [
      "12\n",
      "3\n",
      "12\n"
     ]
    }
   ],
   "source": [
    "def solution(a, b):\n",
    "    \n",
    "    i = 0\n",
    "    t = 0\n",
    "    f = 0\n",
    "    \n",
    "    if a < b:\n",
    "        for i in range(a,b+1):\n",
    "            t += i\n",
    "    \n",
    "        return t\n",
    "    \n",
    "    elif a > b:\n",
    "        for i in range(b,a+1):\n",
    "            f += i\n",
    "            \n",
    "        return f\n",
    "    \n",
    "    else:\n",
    "        return a\n",
    "\n",
    "print(solution(3,5))\n",
    "print(solution(3,3))\n",
    "print(solution(5,3))"
   ]
  },
  {
   "cell_type": "markdown",
   "id": "5e9e1911",
   "metadata": {},
   "source": [
    "#### 14. 콜라츠 추측\n",
    "\n",
    "1937년 Collatz란 사람에 의해 제기된 이 추측은, 주어진 수가 1이 될 때까지 다음 작업을 반복하면, 모든 수를 1로 만들 수 있다는 추측입니다. 작업은 다음과 같습니다.\n",
    "\n",
    "1-1. 입력된 수가 짝수라면 2로 나눕니다. \n",
    "\n",
    "1-2. 입력된 수가 홀수라면 3을 곱하고 1을 더합니다.\n",
    "\n",
    "2. 결과로 나온 수에 같은 작업을 1이 될 때까지 반복합니다. \n",
    "\n",
    "예를 들어, 주어진 수가 6이라면 6 → 3 → 10 → 5 → 16 → 8 → 4 → 2 → 1 이 되어 총 8번 만에 1이 됩니다. 위 작업을 몇 번이나 반복해야 하는지 반환하는 함수, solution을 완성해 주세요. 단, 주어진 수가 1인 경우에는 0을, 작업을 500번 반복할 때까지 1이 되지 않는다면 –1을 반환해 주세요."
   ]
  },
  {
   "cell_type": "code",
   "execution_count": null,
   "id": "41e41b9f",
   "metadata": {},
   "outputs": [],
   "source": [
    "def solution(num):\n",
    "    \n",
    "    if num == 1:  # 주어진 수가 1이라면 0으로 반환\n",
    "        return 0\n",
    "    \n",
    "    i = 0         # 반복횟수 변수 설정\n",
    "    \n",
    "    while True:\n",
    "        \n",
    "        if num == 1:    #작업 반복 결과 1이 나오면 빠져나오기\n",
    "            break\n",
    "        \n",
    "        if i == 500:    #작업 반복 횟수가 500이 되면 빠져나오기\n",
    "            break\n",
    "        \n",
    "        if num % 2 == 0:   # 1-1 입력된 수가 짝수라면 2로 나누기\n",
    "            num //= 2\n",
    "            i += 1          #반복횟수 +1\n",
    "        \n",
    "        else: \n",
    "            num = num * 3 + 1  #1-2 입력된 수가 홀수라면 3을 곱하고 1을 더하기\n",
    "            i += 1\n",
    "    \n",
    "    if i != 500:               # 반복횟수가 500이 아닐 시에는 반복횟수 출력\n",
    "        return i\n",
    "    else:\n",
    "        return -1"
   ]
  },
  {
   "cell_type": "code",
   "execution_count": 102,
   "id": "e810df58",
   "metadata": {},
   "outputs": [
    {
     "name": "stdout",
     "output_type": "stream",
     "text": [
      "8\n",
      "4\n",
      "-1\n"
     ]
    }
   ],
   "source": [
    "def solution(num):\n",
    "    \n",
    "    if num == 1:\n",
    "        return 0\n",
    "    \n",
    "    i = 0\n",
    "    \n",
    "    while True:\n",
    "        \n",
    "        if num == 1:\n",
    "            break\n",
    "        \n",
    "        if i == 500:\n",
    "            break\n",
    "        \n",
    "        if num % 2 == 0:\n",
    "            num //= 2\n",
    "            i += 1 \n",
    "        \n",
    "        else: \n",
    "            num = num * 3 + 1\n",
    "            i += 1\n",
    "    \n",
    "    if i != 500:\n",
    "        return i\n",
    "    else:\n",
    "        return -1\n",
    "    \n",
    "    \n",
    "print(solution(6))\n",
    "print(solution(16))\n",
    "print(solution(626331))"
   ]
  },
  {
   "cell_type": "markdown",
   "id": "6f4f1b52",
   "metadata": {},
   "source": [
    "## No.15~21 (2023.05.17)"
   ]
  },
  {
   "cell_type": "markdown",
   "id": "39429f55",
   "metadata": {},
   "source": [
    "#### 15. 서울에서 김서방 찾기\n",
    "\n",
    "String형 배열 seoul의 element중 \"Kim\"의 위치 x를 찾아, \"김서방은 x에 있다\"는 String을 반환하는 함수, solution을 완성하세요. seoul에 \"Kim\"은 오직 한 번만 나타나며 잘못된 값이 입력되는 경우는 없습니다."
   ]
  },
  {
   "cell_type": "code",
   "execution_count": null,
   "id": "066f7831",
   "metadata": {},
   "outputs": [],
   "source": [
    "# 제출 답안\n",
    "\n",
    "def solution(seoul):\n",
    "    \n",
    "    x_place = seoul.index(\"Kim\")  # Seoul 리스트에서 \"Kim\"의 위치를 변수로 담기\n",
    "     \n",
    "    return f'\"김서방은 {x_place}에 있다\"'"
   ]
  },
  {
   "cell_type": "code",
   "execution_count": 16,
   "id": "293e54ab",
   "metadata": {},
   "outputs": [
    {
     "name": "stdout",
     "output_type": "stream",
     "text": [
      "\"김서방은 1에 있다\"\n"
     ]
    }
   ],
   "source": [
    "def solution(seoul):\n",
    "    \n",
    "    x_place = seoul.index(\"Kim\")\n",
    "    \n",
    "    return f'\"김서방은 {x_place}에 있다\"'\n",
    "    \n",
    "print(solution([\"Jane\",\"Kim\"]))"
   ]
  },
  {
   "cell_type": "markdown",
   "id": "f5d095ff",
   "metadata": {},
   "source": [
    "#### 16. 나누어 떨어지는 숫자 배열\n",
    "\n",
    "array의 각 element 중 divisor로 나누어 떨어지는 값을 오름차순으로 정렬한 배열을 반환하는 함수, solution을 작성해주세요.\n",
    "divisor로 나누어 떨어지는 element가 하나도 없다면 배열에 -1을 담아 반환하세요."
   ]
  },
  {
   "cell_type": "code",
   "execution_count": null,
   "id": "f24afd3c",
   "metadata": {},
   "outputs": [],
   "source": [
    "def solution(arr, divisor):\n",
    "    \n",
    "    answer = []\n",
    "    i = 0\n",
    "    \n",
    "    for i in arr:\n",
    "        if i % divisor == 0:\n",
    "            answer.append(i)\n",
    "            answer.sort()\n",
    "\n",
    "    if answer:        \n",
    "        return answer\n",
    "    else:\n",
    "        return [-1]"
   ]
  },
  {
   "cell_type": "code",
   "execution_count": 108,
   "id": "09ad68f2",
   "metadata": {},
   "outputs": [
    {
     "name": "stdout",
     "output_type": "stream",
     "text": [
      "[5, 10]\n",
      "[1, 2, 3, 36]\n",
      "[-1]\n"
     ]
    }
   ],
   "source": [
    "def solution(arr, divisor):\n",
    "    \n",
    "    answer = []\n",
    "    i = 0\n",
    "    \n",
    "    for i in arr:\n",
    "        if i % divisor == 0:\n",
    "            answer.append(i)\n",
    "            answer.sort()\n",
    "\n",
    "    if answer:        \n",
    "        return answer\n",
    "    else:\n",
    "        return [-1]\n",
    "\n",
    "print(solution([5,9,7,10],5))\n",
    "print(solution([2,36,1,3],1))\n",
    "print(solution([3,2,6],10))"
   ]
  },
  {
   "cell_type": "markdown",
   "id": "e476324f",
   "metadata": {},
   "source": [
    "#### 17. 핸드폰 번호 가리기\n",
    "\n",
    "프로그래머스 모바일은 개인정보 보호를 위해 고지서를 보낼 때 고객들의 전화번호의 일부를 가립니다.\n",
    "전화번호가 문자열 phone_number로 주어졌을 때, 전화번호의 뒷 4자리를 제외한 나머지 숫자를 전부 *으로 가린 문자열을 리턴하는 함수, solution을 완성해주세요."
   ]
  },
  {
   "cell_type": "code",
   "execution_count": null,
   "id": "847fc9cb",
   "metadata": {},
   "outputs": [],
   "source": [
    "def solution(phone_number):\n",
    "    answer = phone_number.replace(phone_number[:-4],\"*\"*len(phone_number[:-4]))\n",
    "    return answer"
   ]
  },
  {
   "cell_type": "code",
   "execution_count": 124,
   "id": "367502d5",
   "metadata": {},
   "outputs": [
    {
     "name": "stdout",
     "output_type": "stream",
     "text": [
      "*******4444\n",
      "*****8888\n"
     ]
    }
   ],
   "source": [
    "def solution(phone_number):\n",
    "    answer = phone_number.replace(phone_number[:-4],\"*\"*len(phone_number[:-4]))\n",
    "    return answer\n",
    "\n",
    "print(solution(\"01033334444\"))\n",
    "print(solution(\"027778888\"))"
   ]
  },
  {
   "cell_type": "markdown",
   "id": "f0499097",
   "metadata": {},
   "source": [
    "#### 18. 음양 더하기\n",
    "\n",
    "어떤 정수들이 있습니다. 이 정수들의 절댓값을 차례대로 담은 정수 배열 absolutes와 이 정수들의 부호를 차례대로 담은 불리언 배열 signs가 매개변수로 주어집니다. 실제 정수들의 합을 구하여 return 하도록 solution 함수를 완성해주세요."
   ]
  },
  {
   "cell_type": "code",
   "execution_count": null,
   "id": "6e1335d9",
   "metadata": {},
   "outputs": [],
   "source": [
    "def solution(absolutes, signs):\n",
    "    \n",
    "    li = []\n",
    "    i = 0\n",
    "  \n",
    "    for i in range(len(absolutes)):\n",
    "        if signs[i] == True:\n",
    "            li.append(absolutes[i])\n",
    "        else:\n",
    "            li.append(-1*absolutes[i])\n",
    "            \n",
    "    return sum(li)"
   ]
  },
  {
   "cell_type": "code",
   "execution_count": 153,
   "id": "7f9b7950",
   "metadata": {},
   "outputs": [
    {
     "name": "stdout",
     "output_type": "stream",
     "text": [
      "9\n",
      "0\n"
     ]
    }
   ],
   "source": [
    "def solution(absolutes, signs):\n",
    "    \n",
    "    li = []\n",
    "    i = 0\n",
    "  \n",
    "    for i in range(len(absolutes)):\n",
    "        if signs[i] == True:\n",
    "            li.append(absolutes[i])\n",
    "        else:\n",
    "            li.append(-1*absolutes[i])\n",
    "            \n",
    "    return sum(li)\n",
    "\n",
    "\n",
    "print(solution([4,7,12],[True,False,True]))\n",
    "print(solution([1,2,3],[False,False,True]))"
   ]
  },
  {
   "cell_type": "markdown",
   "id": "6e8d3f54",
   "metadata": {},
   "source": [
    "#### 19. 없는 숫자 더하기\n",
    "0부터 9까지의 숫자 중 일부가 들어있는 정수 배열 numbers가 매개변수로 주어집니다. numbers에서 찾을 수 없는 0부터 9까지의 숫자를 모두 찾아 더한 수를 return 하도록 solution 함수를 완성해주세요."
   ]
  },
  {
   "cell_type": "code",
   "execution_count": null,
   "id": "cc96d386",
   "metadata": {},
   "outputs": [],
   "source": [
    "def solution(numbers):\n",
    "\n",
    "    i = 0\n",
    "    li = []\n",
    "    \n",
    "    for i in range(10):\n",
    "        if i not in numbers:\n",
    "            li.append(i)\n",
    "            \n",
    "    return sum(li)"
   ]
  },
  {
   "cell_type": "code",
   "execution_count": 156,
   "id": "0080f1e1",
   "metadata": {},
   "outputs": [
    {
     "name": "stdout",
     "output_type": "stream",
     "text": [
      "14\n",
      "6\n"
     ]
    }
   ],
   "source": [
    "def solution(numbers):\n",
    "\n",
    "    i = 0\n",
    "    li = []\n",
    "    \n",
    "    for i in range(10):\n",
    "        if i not in numbers:\n",
    "            li.append(i)\n",
    "            \n",
    "    return sum(li)\n",
    "\n",
    "print(solution([1,2,3,4,6,7,8,0]))\n",
    "print(solution([5,8,4,0,6,7,9]))"
   ]
  },
  {
   "cell_type": "markdown",
   "id": "c1806564",
   "metadata": {},
   "source": [
    "#### 20. 제일 작은 수 제거하기\n",
    "\n",
    "정수를 저장한 배열, arr 에서 가장 작은 수를 제거한 배열을 리턴하는 함수, solution을 완성해주세요. 단, 리턴하려는 배열이 빈 배열인 경우엔 배열에 -1을 채워 리턴하세요. 예를들어 arr이 [4,3,2,1]인 경우는 [4,3,2]를 리턴 하고, [10]면 [-1]을 리턴 합니다."
   ]
  },
  {
   "cell_type": "code",
   "execution_count": null,
   "id": "c1ab527f",
   "metadata": {},
   "outputs": [],
   "source": [
    "def solution(arr):\n",
    "    answer = []\n",
    "    \n",
    "    if not arr:\n",
    "        return [-1]\n",
    "    \n",
    "    if len(arr) == 1:\n",
    "        return [-1]\n",
    "    \n",
    "    arr.remove(min(arr))\n",
    "\n",
    "    \n",
    "    return arr"
   ]
  },
  {
   "cell_type": "code",
   "execution_count": 165,
   "id": "969c68ff",
   "metadata": {},
   "outputs": [
    {
     "name": "stdout",
     "output_type": "stream",
     "text": [
      "[4, 3, 2]\n",
      "[-1]\n"
     ]
    }
   ],
   "source": [
    "def solution(arr):\n",
    "    answer = []\n",
    "    \n",
    "    if not arr:\n",
    "        return [-1]\n",
    "    \n",
    "    if len(arr) == 1:\n",
    "        return [-1]\n",
    "    \n",
    "    arr.remove(min(arr))\n",
    "\n",
    "    \n",
    "    return arr\n",
    "\n",
    "print(solution([4,3,2,1]))\n",
    "print(solution([10]))"
   ]
  },
  {
   "cell_type": "markdown",
   "id": "f19b0f79",
   "metadata": {},
   "source": [
    "#### 21. 가운데 글자 가져오기\n",
    "\n",
    "단어 s의 가운데 글자를 반환하는 함수, solution을 만들어 보세요. 단어의 길이가 짝수라면 가운데 두글자를 반환하면 됩니다."
   ]
  },
  {
   "cell_type": "code",
   "execution_count": null,
   "id": "a7906523",
   "metadata": {},
   "outputs": [],
   "source": [
    "def solution(s):\n",
    "\n",
    "    a = int(len(s)/2)\n",
    "    \n",
    "    if len(s) % 2 == 0:\n",
    "        return s[a-1:a+1]\n",
    "    \n",
    "    else:\n",
    "        return s[a]"
   ]
  },
  {
   "cell_type": "code",
   "execution_count": 181,
   "id": "c6668f78",
   "metadata": {},
   "outputs": [
    {
     "name": "stdout",
     "output_type": "stream",
     "text": [
      "c\n",
      "we\n"
     ]
    }
   ],
   "source": [
    "def solution(s):\n",
    "\n",
    "    a = int(len(s)/2)\n",
    "    \n",
    "    if len(s) % 2 == 0:\n",
    "        return s[a-1:a+1]\n",
    "    \n",
    "    else:\n",
    "        return s[a]\n",
    "\n",
    "print(solution(\"abcde\"))\n",
    "print(solution(\"qwer\"))"
   ]
  },
  {
   "cell_type": "markdown",
   "id": "9eec9525",
   "metadata": {},
   "source": [
    "## No.22~28 (2023.05.18)"
   ]
  },
  {
   "cell_type": "markdown",
   "id": "8e50da1b",
   "metadata": {},
   "source": [
    "#### 22. 수박수박수박수박수박수?\n",
    "\n",
    "길이가 n이고, \"수박수박수박수....\"와 같은 패턴을 유지하는 문자열을 리턴하는 함수, solution을 완성하세요. 예를들어 n이 4이면 \"수박수박\"을 리턴하고 3이라면 \"수박수\"를 리턴하면 됩니다."
   ]
  },
  {
   "cell_type": "code",
   "execution_count": null,
   "id": "e3018ad4",
   "metadata": {},
   "outputs": [],
   "source": [
    "# 제출 답안\n",
    "\n",
    "def solution(n):\n",
    "\n",
    "    a = \"수박\"\n",
    "    b = \"수\"\n",
    "\n",
    "    if n == 1:\n",
    "        return b\n",
    "\n",
    "    if n % 2 == 0:\n",
    "        return a * (n//2)\n",
    "\n",
    "    else:\n",
    "        return a * int(n//2) + b"
   ]
  },
  {
   "cell_type": "code",
   "execution_count": 16,
   "id": "6e6d265a",
   "metadata": {},
   "outputs": [
    {
     "name": "stdout",
     "output_type": "stream",
     "text": [
      "수박수\n",
      "수박수박\n"
     ]
    }
   ],
   "source": [
    "def solution(n):\n",
    "\n",
    "    a = \"수박\"\n",
    "    b = \"수\"\n",
    "\n",
    "    if n == 1:\n",
    "        return b\n",
    "\n",
    "    if n % 2 == 0:\n",
    "        return a * (n//2)\n",
    "\n",
    "    else:\n",
    "        return a * int(n//2) + b\n",
    "        \n",
    "print(solution(3))\n",
    "print(solution(4))"
   ]
  },
  {
   "cell_type": "markdown",
   "id": "7210896c",
   "metadata": {},
   "source": [
    "#### 23. 내적\n",
    "\n",
    "길이가 같은 두 1차원 정수 배열 a, b가 매개변수로 주어집니다. a와 b의 내적을 return 하도록 solution 함수를 완성해주세요.\n",
    "\n",
    "이때, a와 b의 내적은 a[0]*b[0] + a[1]*b[1] + ... + a[n-1]*b[n-1] 입니다. (n은 a, b의 길이)"
   ]
  },
  {
   "cell_type": "code",
   "execution_count": 19,
   "id": "41855e01",
   "metadata": {},
   "outputs": [],
   "source": [
    "# 제출 답안\n",
    "\n",
    "def solution(a, b):\n",
    "    \n",
    "    li = []\n",
    "    i = 0\n",
    "    \n",
    "    for i in range(len(a)):\n",
    "        li.insert(i, a[i] * b[i])\n",
    "    \n",
    "    return sum(li)"
   ]
  },
  {
   "cell_type": "code",
   "execution_count": 56,
   "id": "d968d703",
   "metadata": {},
   "outputs": [
    {
     "name": "stdout",
     "output_type": "stream",
     "text": [
      "3\n",
      "-2\n"
     ]
    }
   ],
   "source": [
    "def solution(a, b):\n",
    "    \n",
    "    li = []\n",
    "    i = 0\n",
    "    \n",
    "    for i in range(len(a)):\n",
    "        li.insert(i, a[i] * b[i])\n",
    "    \n",
    "    return sum(li)\n",
    "\n",
    "print(solution([1,2,3,4],[-3,-1,0,2]))\n",
    "print(solution([-1,0,1],[1,0,-1]))"
   ]
  },
  {
   "cell_type": "markdown",
   "id": "985e607f",
   "metadata": {},
   "source": [
    "#### 24. 문자열 내림차순으로 배치하기\n",
    "\n",
    "문자열 s에 나타나는 문자를 큰것부터 작은 순으로 정렬해 새로운 문자열을 리턴하는 함수, solution을 완성해주세요.\n",
    "s는 영문 대소문자로만 구성되어 있으며, 대문자는 소문자보다 작은 것으로 간주합니다."
   ]
  },
  {
   "cell_type": "code",
   "execution_count": null,
   "id": "e17732e6",
   "metadata": {},
   "outputs": [],
   "source": [
    "# 답안 제출\n",
    "\n",
    "def solution(s):\n",
    "\n",
    "    li = []\n",
    "\n",
    "    for i in s:\n",
    "        li.append(i)\n",
    "        li.sort(reverse = True)\n",
    "        s_reverse = str(\"\".join(li))\n",
    "    \n",
    "    return s_reverse\n"
   ]
  },
  {
   "cell_type": "code",
   "execution_count": 71,
   "id": "1c77e7cc",
   "metadata": {},
   "outputs": [
    {
     "name": "stdout",
     "output_type": "stream",
     "text": [
      "gfedcbZ\n"
     ]
    }
   ],
   "source": [
    "def solution(s):\n",
    "\n",
    "    li = []\n",
    "\n",
    "    for i in s:\n",
    "        li.append(i)\n",
    "        li.sort(reverse = True)\n",
    "        s_reverse = str(\"\".join(li))\n",
    "    \n",
    "    return s_reverse\n",
    "\n",
    "print(solution(\"Zbcdefg\"))"
   ]
  },
  {
   "cell_type": "markdown",
   "id": "bbf84f7e",
   "metadata": {},
   "source": [
    "#### 25. 약수의 개수와 덧셈\n",
    "\n",
    "두 정수 left와 right가 매개변수로 주어집니다. left부터 right까지의 모든 수들 중에서, 약수의 개수가 짝수인 수는 더하고, 약수의 개수가 홀수인 수는 뺀 수를 return 하도록 solution 함수를 완성해주세요."
   ]
  },
  {
   "cell_type": "code",
   "execution_count": null,
   "id": "abc904f3",
   "metadata": {},
   "outputs": [],
   "source": [
    "def solution(left, right):\n",
    "    \n",
    "    answer = 0\n",
    "    \n",
    "    for i in range(left,right+1):\n",
    "        \n",
    "        if int(i**0.5)==i**0.5:\n",
    "            answer -= i\n",
    "            \n",
    "        else:\n",
    "            answer += i\n",
    "    return answer"
   ]
  },
  {
   "cell_type": "code",
   "execution_count": 111,
   "id": "e9acf25d",
   "metadata": {},
   "outputs": [
    {
     "name": "stdout",
     "output_type": "stream",
     "text": [
      "43\n"
     ]
    }
   ],
   "source": [
    "def solution(left, right):\n",
    "    answer = 0\n",
    "    for i in range(left,right+1):\n",
    "        if int(i**0.5)==i**0.5:\n",
    "            answer -= i\n",
    "        else:\n",
    "            answer += i\n",
    "    return answer\n",
    "\n",
    "print(solution(13, 17))"
   ]
  },
  {
   "cell_type": "markdown",
   "id": "8608ac07",
   "metadata": {},
   "source": [
    "#### 26. 부족한 금액 계산하기\n",
    "\n",
    "새로 생긴 놀이기구는 인기가 매우 많아 줄이 끊이질 않습니다. 이 놀이기구의 원래 이용료는 price원 인데, 놀이기구를 N 번 째 이용한다면 원래 이용료의 N배를 받기로 하였습니다. 즉, 처음 이용료가 100이었다면 2번째에는 200, 3번째에는 300으로 요금이 인상됩니다.\n",
    "놀이기구를 count번 타게 되면 현재 자신이 가지고 있는 금액에서 얼마가 모자라는지를 return 하도록 solution 함수를 완성하세요.\n",
    "단, 금액이 부족하지 않으면 0을 return 하세요."
   ]
  },
  {
   "cell_type": "code",
   "execution_count": null,
   "id": "ea12522c",
   "metadata": {},
   "outputs": [],
   "source": [
    "def solution(price, money, count):\n",
    "    \n",
    "    total = 0\n",
    "    i = 0\n",
    "    \n",
    "    for i in range(1,count+1):\n",
    "        j = price * i\n",
    "        total += j\n",
    "    \n",
    "    answer = money - total\n",
    "    \n",
    "    if answer < 0:\n",
    "        return abs(answer)\n",
    "        \n",
    "    else:\n",
    "        return 0"
   ]
  },
  {
   "cell_type": "code",
   "execution_count": 122,
   "id": "e9b93cf2",
   "metadata": {},
   "outputs": [
    {
     "name": "stdout",
     "output_type": "stream",
     "text": [
      "10\n"
     ]
    }
   ],
   "source": [
    "def solution(price, money, count):\n",
    "    \n",
    "    total = 0\n",
    "    i = 0\n",
    "    \n",
    "    for i in range(1,count+1):\n",
    "        j = price * i\n",
    "        total += j\n",
    "    \n",
    "    answer = money - total\n",
    "    \n",
    "    if answer < 0:\n",
    "        return abs(answer)\n",
    "        \n",
    "    else:\n",
    "        return 0\n",
    "\n",
    "    \n",
    "print(solution(3,20,4))"
   ]
  },
  {
   "cell_type": "markdown",
   "id": "0d865abf",
   "metadata": {},
   "source": [
    "#### 27. 문자열 다루기 기본\n",
    "\n",
    "문자열 s의 길이가 4 혹은 6이고, 숫자로만 구성돼있는지 확인해주는 함수, solution을 완성하세요. 예를 들어 s가 \"a234\"이면 False를 리턴하고 \"1234\"라면 True를 리턴하면 됩니다."
   ]
  },
  {
   "cell_type": "code",
   "execution_count": null,
   "id": "aa4b7950",
   "metadata": {},
   "outputs": [],
   "source": [
    "def solution(s):\n",
    "\n",
    "    if len(s) < 4 or len(s) == 5 or len(s) > 6:\n",
    "        return False\n",
    "    \n",
    "    if s.isdigit() == True :            # isdigit() = 숫자형태인지 확인하는 수식\n",
    "        return True\n",
    "    \n",
    "    else:\n",
    "        return False"
   ]
  },
  {
   "cell_type": "code",
   "execution_count": 150,
   "id": "86e2913d",
   "metadata": {},
   "outputs": [
    {
     "name": "stdout",
     "output_type": "stream",
     "text": [
      "False\n",
      "True\n"
     ]
    }
   ],
   "source": [
    "def solution(s):\n",
    "\n",
    "    if len(s) < 4 or len(s) == 5 or len(s) > 6:\n",
    "        return False\n",
    "    \n",
    "    if s.isdigit() == True :\n",
    "        return True\n",
    "    \n",
    "    else:\n",
    "        return False\n",
    "    \n",
    "print(solution(\"a234\"))\n",
    "print(solution(\"1234\"))"
   ]
  },
  {
   "cell_type": "markdown",
   "id": "cde682db",
   "metadata": {},
   "source": [
    "#### 28. 행렬의 덧셈\n",
    "\n",
    "행렬의 덧셈은 행과 열의 크기가 같은 두 행렬의 같은 행, 같은 열의 값을 서로 더한 결과가 됩니다. 2개의 행렬 arr1과 arr2를 입력받아, 행렬 덧셈의 결과를 반환하는 함수, solution을 완성해주세요."
   ]
  },
  {
   "cell_type": "code",
   "execution_count": null,
   "id": "0687a482",
   "metadata": {},
   "outputs": [],
   "source": [
    "def solution(arr1, arr2):\n",
    "    \n",
    "    answer = [[x + y for x, y in zip(a, b)] for a, b in zip(arr1,arr2)]\n",
    "\n",
    "    return answer"
   ]
  },
  {
   "cell_type": "code",
   "execution_count": 156,
   "id": "f05d936b",
   "metadata": {
    "scrolled": true
   },
   "outputs": [
    {
     "name": "stdout",
     "output_type": "stream",
     "text": [
      "[[4, 6], [7, 9]]\n",
      "[[4], [6]]\n"
     ]
    }
   ],
   "source": [
    "def solution(arr1, arr2):\n",
    "    \n",
    "    answer = [[x + y for x, y in zip(a, b)] for a, b in zip(arr1,arr2)]\n",
    "\n",
    "    return answer\n",
    "\n",
    "print(solution([[1,2],[2,3]],[[3,4],[5,6]]))\n",
    "print(solution([[1],[2]],[[3],[4]]))"
   ]
  },
  {
   "cell_type": "markdown",
   "id": "0e3945a6",
   "metadata": {},
   "source": [
    "## No.29~35 (2023.05.19)"
   ]
  },
  {
   "cell_type": "markdown",
   "id": "9f461ccd",
   "metadata": {},
   "source": [
    "#### 29. 직사각형 별찍기\n",
    "\n",
    "이 문제에는 표준 입력으로 두 개의 정수 n과 m이 주어집니다.\n",
    "별(*) 문자를 이용해 가로의 길이가 n, 세로의 길이가 m인 직사각형 형태를 출력해보세요."
   ]
  },
  {
   "cell_type": "code",
   "execution_count": null,
   "id": "047a06db",
   "metadata": {},
   "outputs": [],
   "source": [
    "m, n = map(int, input().strip().split(' '))\n",
    "\n",
    "for i in range(1,n+1):\n",
    "    print(\"*\"* m)"
   ]
  },
  {
   "cell_type": "code",
   "execution_count": 25,
   "id": "d3eab15b",
   "metadata": {},
   "outputs": [
    {
     "name": "stdout",
     "output_type": "stream",
     "text": [
      "5 3\n",
      "*****\n",
      "*****\n",
      "*****\n"
     ]
    }
   ],
   "source": [
    "m, n = map(int, input().strip().split(' '))\n",
    "\n",
    "for i in range(1,n+1):\n",
    "    print(\"*\"* m)"
   ]
  },
  {
   "cell_type": "markdown",
   "id": "876dd78d",
   "metadata": {},
   "source": [
    "#### 30. 최대공약수와 최소공배수\n",
    "\n",
    "두 수를 입력받아 두 수의 최대공약수와 최소공배수를 반환하는 함수, solution을 완성해 보세요. 배열의 맨 앞에 최대공약수, 그다음 최소공배수를 넣어 반환하면 됩니다. 예를 들어 두 수 3, 12의 최대공약수는 3, 최소공배수는 12이므로 solution(3, 12)는 [3, 12]를 반환해야 합니다."
   ]
  },
  {
   "cell_type": "code",
   "execution_count": 29,
   "id": "8b2c9150",
   "metadata": {},
   "outputs": [],
   "source": [
    "def solution(n, m):\n",
    "    answer = []\n",
    "    li = []\n",
    "    \n",
    "    i = 0\n",
    "    \n",
    "    for i in range(1,min(n,m)+1):\n",
    "        if n % i == 0 and m % i == 0:\n",
    "            li.append(i)               # m과 n의 약수를 배열에 담기\n",
    "    \n",
    "    answer.insert(0,max(li))           #배열에서 최대값(최대공약수) 추출 후 answer에 담기\n",
    "    answer.insert(1,int((m*n)//answer[0])) # 최소공배수 추출, m*n 에서 최대공약수로 나누기\n",
    "    \n",
    "    return answer\n"
   ]
  },
  {
   "cell_type": "code",
   "execution_count": 31,
   "id": "3eca1430",
   "metadata": {
    "scrolled": true
   },
   "outputs": [
    {
     "name": "stdout",
     "output_type": "stream",
     "text": [
      "[3, 12]\n"
     ]
    }
   ],
   "source": [
    "def solution(n, m):\n",
    "    answer = []\n",
    "    li = []\n",
    "    i = 0\n",
    "    \n",
    "    for i in range(1,min(n,m)+1):\n",
    "        if n % i == 0 and m % i == 0:\n",
    "            li.append(i)\n",
    "    \n",
    "    answer.insert(0,max(li))\n",
    "    answer.insert(1,int((m*n)//answer[0]))\n",
    "    \n",
    "    return answer\n",
    "\n",
    "print(solution(3,12))"
   ]
  },
  {
   "cell_type": "markdown",
   "id": "76dd5834",
   "metadata": {},
   "source": [
    "#### 31. 같은 숫자는 싫어\n",
    "\n",
    "배열 arr가 주어집니다. 배열 arr의 각 원소는 숫자 0부터 9까지로 이루어져 있습니다. 이때, 배열 arr에서 연속적으로 나타나는 숫자는 하나만 남기고 전부 제거하려고 합니다. 단, 제거된 후 남은 수들을 반환할 때는 배열 arr의 원소들의 순서를 유지해야 합니다. 예를 들면,\n",
    "\n",
    "arr = [1, 1, 3, 3, 0, 1, 1] 이면 [1, 3, 0, 1] 을 return 합니다.\n",
    "\n",
    "arr = [4, 4, 4, 3, 3] 이면 [4, 3] 을 return 합니다.\n",
    "\n",
    "배열 arr에서 연속적으로 나타나는 숫자는 제거하고 남은 수들을 return 하는 solution 함수를 완성해 주세요."
   ]
  },
  {
   "cell_type": "code",
   "execution_count": null,
   "id": "5e970417",
   "metadata": {},
   "outputs": [],
   "source": [
    "def solution(arr):\n",
    "   \n",
    "    answer = []\n",
    "    i = 0\n",
    "        \n",
    "    for i in range(len(arr)-1):\n",
    "\n",
    "        if arr[i] != arr[i+1]:\n",
    "            answer.append(arr[i])\n",
    "    \n",
    "    answer.append(arr.pop())\n",
    "        \n",
    "    return answer"
   ]
  },
  {
   "cell_type": "code",
   "execution_count": 50,
   "id": "1b6af44c",
   "metadata": {},
   "outputs": [
    {
     "name": "stdout",
     "output_type": "stream",
     "text": [
      "[1, 3, 0, 1]\n",
      "[4, 3]\n"
     ]
    }
   ],
   "source": [
    "def solution(arr):\n",
    "   \n",
    "    answer = []\n",
    "    i = 0\n",
    "        \n",
    "    for i in range(len(arr)-1):\n",
    "\n",
    "        if arr[i] != arr[i+1]:\n",
    "            answer.append(arr[i])\n",
    "    \n",
    "    answer.append(arr.pop())\n",
    "        \n",
    "    return answer\n",
    "\n",
    "print(solution([1,1,3,3,0,1,1]))\n",
    "print(solution([4,4,3,3,3,3]))"
   ]
  },
  {
   "cell_type": "markdown",
   "id": "43bc54b6",
   "metadata": {},
   "source": [
    "#### 32. 3진법 뒤집기\n",
    "\n",
    "자연수 n이 매개변수로 주어집니다. n을 3진법 상에서 앞뒤로 뒤집은 후, 이를 다시 10진법으로 표현한 수를 return 하도록 solution 함수를 완성해주세요."
   ]
  },
  {
   "cell_type": "code",
   "execution_count": null,
   "id": "d35e5db6",
   "metadata": {},
   "outputs": [],
   "source": [
    "def solution(n):\n",
    "    answer = ''\n",
    "    \n",
    "    while n > 0:\n",
    " \n",
    "        n, result = divmod(n,3)      # n을 3으로 나눈 몫과 나머지 계산\n",
    "        \n",
    "        answer += str(result)        # 나머지만 문자열로 변환해서 answer에 더함\n",
    "        \n",
    "    return int(answer,3)             # 다시 숫자로 변환\n"
   ]
  },
  {
   "cell_type": "code",
   "execution_count": 54,
   "id": "d12e87e9",
   "metadata": {},
   "outputs": [
    {
     "name": "stdout",
     "output_type": "stream",
     "text": [
      "7\n",
      "229\n"
     ]
    }
   ],
   "source": [
    "def solution(n):\n",
    "    answer = ''\n",
    "    \n",
    "    while n > 0:\n",
    "        \n",
    "        n, result = divmod(n,3)  \n",
    "        \n",
    "        answer += str(result)\n",
    "        \n",
    "    return int(answer,3)\n",
    "\n",
    "print(solution(45))\n",
    "print(solution(125))"
   ]
  },
  {
   "cell_type": "markdown",
   "id": "3c2076f4",
   "metadata": {},
   "source": [
    "#### 33. 이상한 문자 만들기\n",
    "\n",
    "문자열 s는 한 개 이상의 단어로 구성되어 있습니다. 각 단어는 하나 이상의 공백문자로 구분되어 있습니다. 각 단어의 짝수번째 알파벳은 대문자로, 홀수번째 알파벳은 소문자로 바꾼 문자열을 리턴하는 함수, solution을 완성하세요."
   ]
  },
  {
   "cell_type": "code",
   "execution_count": null,
   "id": "d3bf11ab",
   "metadata": {},
   "outputs": [],
   "source": [
    "def solution(s):\n",
    "\n",
    "    list_s = s.split(\" \")                        # 문자열을 공백으로 나눠서 리스트에 배열\n",
    "    answer = []\n",
    "    \n",
    "    i = 0\n",
    "    j = 0\n",
    "\n",
    "    for i in range(len(list_s)):                 # 배열 길이만큼 반복\n",
    "    \n",
    "        answer.append([])\n",
    "    \n",
    "        for j in range(len(list_s[i])):          # 배열 원소 하나하나의 길이만큼 반복\n",
    "        \n",
    "            if j % 2 == 0:                                 # 짝수번째는 대문자를 answer에 추가\n",
    "                answer[i].append(list_s[i][j].upper())\n",
    "            \n",
    "            else:                                          # 홓수번째는 소문자를 answer에 추가\n",
    "                answer[i].append(list_s[i][j].lower())\n",
    "        \n",
    "    str_list_s = []\n",
    "    \n",
    "    for i in answer:\n",
    "        str_list_s.append(''.join(i))                  # 리스트 원소들을 문자열로 합쳐서 추가\n",
    "        \n",
    "    answer = ' '.join(str_list_s)                      # 공백으로 합쳐서 문자열 생성\n",
    "      \n",
    "    return answer"
   ]
  },
  {
   "cell_type": "code",
   "execution_count": 96,
   "id": "70f8cfc7",
   "metadata": {
    "scrolled": true
   },
   "outputs": [
    {
     "name": "stdout",
     "output_type": "stream",
     "text": [
      "TrY HeLlO WoRlD\n"
     ]
    }
   ],
   "source": [
    "def solution(s):\n",
    "\n",
    "    list_s = s.split(\" \")\n",
    "    answer = []\n",
    "    \n",
    "    i = 0\n",
    "    j = 0\n",
    "\n",
    "    for i in range(len(list_s)):\n",
    "    \n",
    "        answer.append([])\n",
    "    \n",
    "        for j in range(len(list_s[i])):\n",
    "        \n",
    "            if j % 2 == 0:\n",
    "                answer[i].append(list_s[i][j].upper())\n",
    "            \n",
    "            else:\n",
    "                answer[i].append(list_s[i][j].lower())\n",
    "        \n",
    "    str_list_s = []\n",
    "    \n",
    "    for i in answer:\n",
    "        str_list_s.append(''.join(i))\n",
    "        \n",
    "    answer = ' '.join(str_list_s)\n",
    "    \n",
    "    return answer\n",
    "\n",
    "print(solution(\"try hello world\"))"
   ]
  },
  {
   "cell_type": "markdown",
   "id": "063b60db",
   "metadata": {},
   "source": [
    "#### 34. 예산\n",
    "\n",
    "S사에서는 각 부서에 필요한 물품을 지원해 주기 위해 부서별로 물품을 구매하는데 필요한 금액을 조사했습니다. 그러나, 전체 예산이 정해져 있기 때문에 모든 부서의 물품을 구매해 줄 수는 없습니다. 그래서 최대한 많은 부서의 물품을 구매해 줄 수 있도록 하려고 합니다.\n",
    "\n",
    "물품을 구매해 줄 때는 각 부서가 신청한 금액만큼을 모두 지원해 줘야 합니다. 예를 들어 1,000원을 신청한 부서에는 정확히 1,000원을 지원해야 하며, 1,000원보다 적은 금액을 지원해 줄 수는 없습니다.\n",
    "\n",
    "부서별로 신청한 금액이 들어있는 배열 d와 예산 budget이 매개변수로 주어질 때, 최대 몇 개의 부서에 물품을 지원할 수 있는지 return 하도록 solution 함수를 완성해주세요."
   ]
  },
  {
   "cell_type": "code",
   "execution_count": null,
   "id": "cd7c655b",
   "metadata": {},
   "outputs": [],
   "source": [
    "def solution(d, budget):\n",
    "    \n",
    "    d.sort()  # 배열 d를 오름차순으로 정렬\n",
    "    \n",
    "    while budget < sum(d):   # 배열 d의 합이 budget보다 작아질 때 stop\n",
    "        \n",
    "        d.pop()              # 그때까지 배열의 맨 끝자리 원소 제거\n",
    "    \n",
    "    return len(d)"
   ]
  },
  {
   "cell_type": "code",
   "execution_count": 98,
   "id": "2bc6b281",
   "metadata": {},
   "outputs": [
    {
     "name": "stdout",
     "output_type": "stream",
     "text": [
      "3\n",
      "4\n"
     ]
    }
   ],
   "source": [
    "def solution(d, budget):\n",
    "    \n",
    "    d.sort()\n",
    "    \n",
    "    while budget < sum(d):\n",
    "        \n",
    "        d.pop()\n",
    "    \n",
    "    return len(d)\n",
    "\n",
    "print(solution([1,3,2,5,4],9))\n",
    "print(solution([2,2,3,3],10))"
   ]
  },
  {
   "cell_type": "markdown",
   "id": "d939654e",
   "metadata": {},
   "source": [
    "#### 35. 시저 암호\n",
    "\n",
    "어떤 문장의 각 알파벳을 일정한 거리만큼 밀어서 다른 알파벳으로 바꾸는 암호화 방식을 시저 암호라고 합니다. 예를 들어 \"AB\"는 1만큼 밀면 \"BC\"가 되고, 3만큼 밀면 \"DE\"가 됩니다. \"z\"는 1만큼 밀면 \"a\"가 됩니다. 문자열 s와 거리 n을 입력받아 s를 n만큼 민 암호문을 만드는 함수, solution을 완성해 보세요."
   ]
  },
  {
   "cell_type": "code",
   "execution_count": null,
   "id": "82ea3118",
   "metadata": {},
   "outputs": [],
   "source": [
    "def solution(s, n):\n",
    "    \n",
    "    s = list(s)\n",
    "    \n",
    "    for i in range(len(s)):\n",
    "        \n",
    "        if s[i].isupper():\n",
    "            s[i] = chr((ord(s[i]) - ord('A') + n) % 26 + ord('A'))\n",
    "            \n",
    "        elif s[i].islower():\n",
    "            s[i] = chr((ord(s[i]) - ord('a') + n) % 26 + ord('a'))\n",
    "            \n",
    "\n",
    "    return \"\".join(s)"
   ]
  },
  {
   "cell_type": "code",
   "execution_count": 101,
   "id": "bd5356db",
   "metadata": {},
   "outputs": [
    {
     "name": "stdout",
     "output_type": "stream",
     "text": [
      "BC\n",
      "a\n",
      "e F d\n"
     ]
    }
   ],
   "source": [
    "def solution(s, n):\n",
    "    \n",
    "    s = list(s)\n",
    "    \n",
    "    for i in range(len(s)):\n",
    "        \n",
    "        if s[i].isupper():\n",
    "            s[i] = chr((ord(s[i]) - ord('A') + n) % 26 + ord('A'))\n",
    "            \n",
    "        elif s[i].islower():\n",
    "            s[i] = chr((ord(s[i]) - ord('a') + n) % 26 + ord('a'))\n",
    "            \n",
    "\n",
    "    return \"\".join(s)\n",
    "\n",
    "print(solution(\"AB\",1))\n",
    "print(solution(\"z\",1))\n",
    "print(solution(\"a B z\",4))"
   ]
  },
  {
   "cell_type": "code",
   "execution_count": null,
   "id": "bc7fc1b3",
   "metadata": {},
   "outputs": [],
   "source": []
  },
  {
   "cell_type": "code",
   "execution_count": null,
   "id": "dddafb0b",
   "metadata": {},
   "outputs": [],
   "source": []
  }
 ],
 "metadata": {
  "kernelspec": {
   "display_name": "Python 3 (ipykernel)",
   "language": "python",
   "name": "python3"
  },
  "language_info": {
   "codemirror_mode": {
    "name": "ipython",
    "version": 3
   },
   "file_extension": ".py",
   "mimetype": "text/x-python",
   "name": "python",
   "nbconvert_exporter": "python",
   "pygments_lexer": "ipython3",
   "version": "3.10.9"
  }
 },
 "nbformat": 4,
 "nbformat_minor": 5
}
