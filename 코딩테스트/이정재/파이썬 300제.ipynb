{
 "cells": [
  {
   "cell_type": "code",
   "execution_count": 12,
   "id": "7aa51898-3e68-4ebe-b2ec-c67f67117274",
   "metadata": {},
   "outputs": [
    {
     "name": "stdout",
     "output_type": "stream",
     "text": [
      "1\n",
      "3\n",
      "5\n",
      "7\n",
      "9\n"
     ]
    }
   ],
   "source": [
    "for i in range(1,10,2):\n",
    "    print(i)"
   ]
  },
  {
   "cell_type": "code",
   "execution_count": 13,
   "id": "f292b859-1ab6-4e4d-ae4b-92f6e36f7014",
   "metadata": {},
   "outputs": [
    {
     "name": "stdout",
     "output_type": "stream",
     "text": [
      "1\n",
      "4\n",
      "7\n"
     ]
    }
   ],
   "source": [
    "for i in range(1,10,3):\n",
    "    print(i)"
   ]
  },
  {
   "cell_type": "code",
   "execution_count": 19,
   "id": "3df6a587-0c15-4a66-b566-d278bc84bb6f",
   "metadata": {},
   "outputs": [
    {
     "data": {
      "text/plain": [
       "'D'"
      ]
     },
     "execution_count": 19,
     "metadata": {},
     "output_type": "execute_result"
    }
   ],
   "source": [
    "#157 이름의 첫 글자를 대문자로 변경해서 출력하라.\n",
    "\n",
    "a = [\"dog\", \"cat\", \"parrot\"]\n",
    "\n",
    "a[0][0].upper()"
   ]
  },
  {
   "cell_type": "code",
   "execution_count": null,
   "id": "e674153c-694d-452d-ac6f-efbb75fa97c7",
   "metadata": {},
   "outputs": [],
   "source": [
    "for i in range(2):\n",
    "    print(a[i][0].upper()+"
   ]
  }
 ],
 "metadata": {
  "kernelspec": {
   "display_name": "Python 3 (ipykernel)",
   "language": "python",
   "name": "python3"
  },
  "language_info": {
   "codemirror_mode": {
    "name": "ipython",
    "version": 3
   },
   "file_extension": ".py",
   "mimetype": "text/x-python",
   "name": "python",
   "nbconvert_exporter": "python",
   "pygments_lexer": "ipython3",
   "version": "3.10.9"
  }
 },
 "nbformat": 4,
 "nbformat_minor": 5
}
