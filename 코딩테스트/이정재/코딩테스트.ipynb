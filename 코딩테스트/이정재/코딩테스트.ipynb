{
 "cells": [
  {
   "cell_type": "markdown",
   "id": "cca40db2-adf4-4342-adc7-5b42c638698c",
   "metadata": {},
   "source": [
    "# 코딩테스트"
   ]
  },
  {
   "cell_type": "markdown",
   "id": "c6cdc488-01e0-49f2-8f9a-312ddd061ec1",
   "metadata": {},
   "source": [
    "## x만큼 간격이 있는 n개의 숫자\n",
    "\n",
    "함수 solution은 정수 x와 자연수 n을 입력 받아, x부터 시작해 x씩 증가하는 숫자를 n개 지니는 리스트를 리턴해야 합니다. 다음 제한 조건을 보고, 조건을 만족하는 함수, solution을 완성해주세요.  \n",
    "\n",
    "제한 조건\n",
    "- x는 -10000000 이상, 10000000 이하인 정수입니다.\n",
    "- n은 1000 이하인 자연수입니다."
   ]
  },
  {
   "cell_type": "code",
   "execution_count": 3,
   "id": "f844e8f5-56c3-426b-8c39-f63253afacfb",
   "metadata": {},
   "outputs": [
    {
     "name": "stdout",
     "output_type": "stream",
     "text": [
      "-4\n",
      "-8\n"
     ]
    }
   ],
   "source": [
    "for i in range(-4,-4*2-1,-4):\n",
    "    print(i)"
   ]
  },
  {
   "cell_type": "code",
   "execution_count": 7,
   "id": "cf44980e-79fd-4c2f-8293-9af7398a3157",
   "metadata": {},
   "outputs": [
    {
     "data": {
      "text/plain": [
       "[1]"
      ]
     },
     "execution_count": 7,
     "metadata": {},
     "output_type": "execute_result"
    }
   ],
   "source": [
    "a = []\n",
    "a.insert(0,1)\n",
    "a"
   ]
  },
  {
   "cell_type": "code",
   "execution_count": 8,
   "id": "e0e6f541-08fe-41cb-8d90-50426bd86b22",
   "metadata": {},
   "outputs": [
    {
     "data": {
      "text/plain": [
       "[1, 2]"
      ]
     },
     "execution_count": 8,
     "metadata": {},
     "output_type": "execute_result"
    }
   ],
   "source": [
    "a.insert(1,2)\n",
    "a"
   ]
  },
  {
   "cell_type": "code",
   "execution_count": 12,
   "id": "06c1d83c-f2f9-40de-ad4e-e32033fe5cf2",
   "metadata": {},
   "outputs": [],
   "source": [
    "a=[]"
   ]
  },
  {
   "cell_type": "code",
   "execution_count": 15,
   "id": "6f655287-3954-4714-ba23-2357d687b700",
   "metadata": {},
   "outputs": [],
   "source": [
    "a.append(1)"
   ]
  },
  {
   "cell_type": "code",
   "execution_count": 17,
   "id": "47a2b74b-0e85-47f2-a171-7e06d62bdccd",
   "metadata": {},
   "outputs": [],
   "source": [
    "a.append(2)"
   ]
  },
  {
   "cell_type": "code",
   "execution_count": 18,
   "id": "7f8aec3e-e90d-44a3-a9fb-f206c548f69a",
   "metadata": {},
   "outputs": [
    {
     "data": {
      "text/plain": [
       "[1, 2]"
      ]
     },
     "execution_count": 18,
     "metadata": {},
     "output_type": "execute_result"
    }
   ],
   "source": [
    "a"
   ]
  },
  {
   "cell_type": "code",
   "execution_count": null,
   "id": "ce9959b2-9d98-4bed-8d7e-641100f5ea94",
   "metadata": {},
   "outputs": [],
   "source": []
  },
  {
   "cell_type": "code",
   "execution_count": 13,
   "id": "9a41c357-246d-47af-afbc-689744a44263",
   "metadata": {},
   "outputs": [
    {
     "name": "stdout",
     "output_type": "stream",
     "text": [
      "2\n",
      "4\n",
      "6\n",
      "8\n"
     ]
    }
   ],
   "source": [
    "for i in range(2,9,2):\n",
    "    "
   ]
  },
  {
   "cell_type": "code",
   "execution_count": 22,
   "id": "577e90e3-5223-4003-89cb-b2bc6135bbb0",
   "metadata": {},
   "outputs": [
    {
     "ename": "ValueError",
     "evalue": "range() arg 3 must not be zero",
     "output_type": "error",
     "traceback": [
      "\u001b[1;31m---------------------------------------------------------------------------\u001b[0m",
      "\u001b[1;31mValueError\u001b[0m                                Traceback (most recent call last)",
      "Cell \u001b[1;32mIn[22], line 1\u001b[0m\n\u001b[1;32m----> 1\u001b[0m \u001b[38;5;28;01mfor\u001b[39;00m i \u001b[38;5;129;01min\u001b[39;00m \u001b[38;5;28;43mrange\u001b[39;49m\u001b[43m(\u001b[49m\u001b[38;5;241;43m0\u001b[39;49m\u001b[43m,\u001b[49m\u001b[38;5;241;43m1\u001b[39;49m\u001b[43m,\u001b[49m\u001b[38;5;241;43m0\u001b[39;49m\u001b[43m)\u001b[49m:\n\u001b[0;32m      2\u001b[0m     \u001b[38;5;28mprint\u001b[39m(i)\n",
      "\u001b[1;31mValueError\u001b[0m: range() arg 3 must not be zero"
     ]
    }
   ],
   "source": [
    "for i in range(0,1,0):\n",
    "    print(i)"
   ]
  },
  {
   "cell_type": "code",
   "execution_count": 31,
   "id": "eea74b1b-124b-4c55-a1d1-276ef2789b36",
   "metadata": {},
   "outputs": [
    {
     "data": {
      "text/plain": [
       "[]"
      ]
     },
     "execution_count": 31,
     "metadata": {},
     "output_type": "execute_result"
    }
   ],
   "source": [
    "def solution(x,n):\n",
    "    list = []\n",
    "    if x> 0:\n",
    "        for i in range(x,x*n+1,x):\n",
    "            list.append(i)\n",
    "        return list\n",
    "    elif x<0:\n",
    "        for i in range(x,x*n-1,x):\n",
    "            list.append(i)\n",
    "        return list\n",
    "    else:\n",
    "        return []\n",
    "\n",
    "solution(0,5)                "
   ]
  },
  {
   "cell_type": "markdown",
   "id": "f4804383-978c-4139-bf82-00f58c2548c9",
   "metadata": {},
   "source": [
    "## 문자열 내 p와 y의 개수\n",
    "대문자와 소문자가 섞여있는 문자열 s가 주어집니다. s에 'p'의 개수와 'y'의 개수를 비교해 같으면 True, 다르면 False를 return 하는 solution를 완성하세요. 'p', 'y' 모두 하나도 없는 경우는 항상 True를 리턴합니다. 단, 개수를 비교할 때 대문자와 소문자는 구별하지 않습니다.  \n",
    "\n",
    "예를 들어 s가 \"pPoooyY\"면 true를 return하고 \"Pyy\"라면 false를 return합니다.  \n",
    "\n",
    "제한사항  \n",
    "- 문자열 s의 길이 : 50 이하의 자연수\n",
    "- 문자열 s는 알파벳으로만 이루어져 있습니다."
   ]
  },
  {
   "cell_type": "code",
   "execution_count": 32,
   "id": "74b90e00-1c3c-456e-a393-c01586973c49",
   "metadata": {},
   "outputs": [
    {
     "data": {
      "text/plain": [
       "12"
      ]
     },
     "execution_count": 32,
     "metadata": {},
     "output_type": "execute_result"
    }
   ],
   "source": [
    "s = \"PpppOOoooYyy\"\n",
    "len(s)"
   ]
  },
  {
   "cell_type": "code",
   "execution_count": 37,
   "id": "937f63b4-689d-4103-81c4-cfc24e34d530",
   "metadata": {},
   "outputs": [
    {
     "name": "stdout",
     "output_type": "stream",
     "text": [
      "p\n",
      "p\n",
      "p\n",
      "p\n",
      "o\n",
      "o\n",
      "o\n",
      "o\n",
      "o\n",
      "y\n",
      "y\n",
      "y\n"
     ]
    }
   ],
   "source": [
    "for i in range(0,len(s)):\n",
    "    print(s.lower()[i])"
   ]
  },
  {
   "cell_type": "code",
   "execution_count": 35,
   "id": "c209c865-781d-4e67-b459-0813cecca733",
   "metadata": {},
   "outputs": [
    {
     "data": {
      "text/plain": [
       "3"
      ]
     },
     "execution_count": 35,
     "metadata": {},
     "output_type": "execute_result"
    }
   ],
   "source": [
    "s.count(\"p\")"
   ]
  },
  {
   "cell_type": "code",
   "execution_count": 38,
   "id": "a311c58b-c267-4ce7-ab1d-2030f4cff495",
   "metadata": {},
   "outputs": [
    {
     "data": {
      "text/plain": [
       "4"
      ]
     },
     "execution_count": 38,
     "metadata": {},
     "output_type": "execute_result"
    }
   ],
   "source": [
    "s.lower().count(\"p\")"
   ]
  },
  {
   "cell_type": "code",
   "execution_count": 39,
   "id": "f4353e91-67be-471c-8180-f56f3cebc21a",
   "metadata": {},
   "outputs": [
    {
     "data": {
      "text/plain": [
       "int"
      ]
     },
     "execution_count": 39,
     "metadata": {},
     "output_type": "execute_result"
    }
   ],
   "source": [
    "type(s.lower().count(\"p\"))"
   ]
  },
  {
   "cell_type": "code",
   "execution_count": 41,
   "id": "9b494851-7c0c-4872-b2fc-d2546f281d75",
   "metadata": {},
   "outputs": [
    {
     "data": {
      "text/plain": [
       "False"
      ]
     },
     "execution_count": 41,
     "metadata": {},
     "output_type": "execute_result"
    }
   ],
   "source": [
    "def Solution(s):\n",
    "    if s.lower().count(\"p\") == s.lower().count(\"y\"):\n",
    "        return True\n",
    "    else:\n",
    "        return False\n",
    "\n",
    "Solution(s)"
   ]
  },
  {
   "cell_type": "markdown",
   "id": "8a14bb69-5a17-4874-bfb1-ea97cfed439c",
   "metadata": {},
   "source": [
    "### 자연수 뒤집어 배열로 만들기\n",
    "\n",
    "자연수 n을 뒤집어 각 자리 숫자를 원소로 가지는 배열 형태로 리턴해주세요. 예를들어 n이 12345이면 [5,4,3,2,1]을 리턴합니다. \n",
    "\n",
    "제한 조건\n",
    "- n은 10,000,000,000이하인 자연수입니다."
   ]
  },
  {
   "cell_type": "code",
   "execution_count": 54,
   "id": "0b0bfc6d-c352-4fae-833b-69e54b52365a",
   "metadata": {},
   "outputs": [
    {
     "data": {
      "text/plain": [
       "'12345'"
      ]
     },
     "execution_count": 54,
     "metadata": {},
     "output_type": "execute_result"
    }
   ],
   "source": [
    "a=12345\n",
    "str(a)"
   ]
  },
  {
   "cell_type": "code",
   "execution_count": 56,
   "id": "f0ef0129-9ffa-4e17-b7d9-2ee155fcca53",
   "metadata": {},
   "outputs": [
    {
     "data": {
      "text/plain": [
       "'54321'"
      ]
     },
     "execution_count": 56,
     "metadata": {},
     "output_type": "execute_result"
    }
   ],
   "source": [
    "str(a)[::-1]"
   ]
  },
  {
   "cell_type": "code",
   "execution_count": 57,
   "id": "6a2b6393-5530-4e2c-9873-1c5b5c8fc2d2",
   "metadata": {},
   "outputs": [
    {
     "data": {
      "text/plain": [
       "'54321'"
      ]
     },
     "execution_count": 57,
     "metadata": {},
     "output_type": "execute_result"
    }
   ],
   "source": [
    "\"\".join(reversed(str(a)))"
   ]
  },
  {
   "cell_type": "code",
   "execution_count": 58,
   "id": "096b26a8-98dc-4ad3-95e3-98a853416d0a",
   "metadata": {},
   "outputs": [
    {
     "data": {
      "text/plain": [
       "[5, 4, 3, 2, 1]"
      ]
     },
     "execution_count": 58,
     "metadata": {},
     "output_type": "execute_result"
    }
   ],
   "source": [
    "list = []\n",
    "for i in range(0,len(str(a))):\n",
    "               list.append(int(str(a)[::-1][i]))\n",
    "list"
   ]
  },
  {
   "cell_type": "code",
   "execution_count": null,
   "id": "f01b204c-b30e-47a1-82a9-de6a7e3c62d1",
   "metadata": {},
   "outputs": [],
   "source": [
    "def solution(n):\n",
    "    list = []\n",
    "    for i in range(0,len(str(n))):\n",
    "        list.append(int(str(n)[::-1][i]))\n",
    "    return list"
   ]
  },
  {
   "cell_type": "code",
   "execution_count": 59,
   "id": "ac343e75-977a-42d9-8c1a-aa42064702b3",
   "metadata": {},
   "outputs": [
    {
     "ename": "TypeError",
     "evalue": "'list' object is not callable",
     "output_type": "error",
     "traceback": [
      "\u001b[1;31m---------------------------------------------------------------------------\u001b[0m",
      "\u001b[1;31mTypeError\u001b[0m                                 Traceback (most recent call last)",
      "Cell \u001b[1;32mIn[59], line 2\u001b[0m\n\u001b[0;32m      1\u001b[0m \u001b[38;5;66;03m# 다른 사람의 풀이\u001b[39;00m\n\u001b[1;32m----> 2\u001b[0m \u001b[38;5;28;43mlist\u001b[39;49m\u001b[43m(\u001b[49m\u001b[38;5;28;43mmap\u001b[39;49m\u001b[43m(\u001b[49m\u001b[38;5;28;43mint\u001b[39;49m\u001b[43m,\u001b[49m\u001b[43m \u001b[49m\u001b[38;5;28;43mreversed\u001b[39;49m\u001b[43m(\u001b[49m\u001b[38;5;28;43mstr\u001b[39;49m\u001b[43m(\u001b[49m\u001b[43ma\u001b[49m\u001b[43m)\u001b[49m\u001b[43m)\u001b[49m\u001b[43m)\u001b[49m\u001b[43m)\u001b[49m\n",
      "\u001b[1;31mTypeError\u001b[0m: 'list' object is not callable"
     ]
    }
   ],
   "source": [
    "# 다른 사람의 풀이\n",
    "list(map(int, reversed(str(a))))"
   ]
  },
  {
   "cell_type": "markdown",
   "id": "0774555f-03de-435e-a102-647bbad5ef76",
   "metadata": {},
   "source": [
    "## 정수 제곱근 판별\n",
    "\n",
    "임의의 양의 정수 n에 대해, n이 어떤 양의 정수 x의 제곱인지 아닌지 판단하려 합니다.\n",
    "n이 양의 정수 x의 제곱이라면 x+1의 제곱을 리턴하고, n이 양의 정수 x의 제곱이 아니라면 -1을 리턴하는 함수를 완성하세요.  \n",
    "\n",
    "제한 사항\n",
    "- n은 1이상, 50000000000000 이하인 양의 정수입니다."
   ]
  },
  {
   "cell_type": "code",
   "execution_count": 73,
   "id": "00507157-3d9e-43d4-89d8-d33ccdf27157",
   "metadata": {},
   "outputs": [
    {
     "data": {
      "text/plain": [
       "144"
      ]
     },
     "execution_count": 73,
     "metadata": {},
     "output_type": "execute_result"
    }
   ],
   "source": [
    "def solution(n):\n",
    "    x = n**0.5\n",
    "    if x == int(x):\n",
    "        return int((x+1)**2)\n",
    "    else:\n",
    "        return -1\n",
    "\n",
    "solution(121)"
   ]
  },
  {
   "cell_type": "markdown",
   "id": "fa41f1ce-71c3-43de-8b94-2aacfc3d97f7",
   "metadata": {},
   "source": [
    "## 문자열을 정수로 바꾸기\n",
    "\n",
    "문제 설명  \n",
    "문자열 s를 숫자로 변환한 결과를 반환하는 함수, solution을 완성하세요.  \n",
    "\n",
    "제한 조건  \n",
    "- s의 길이는 1 이상 5이하입니다.\n",
    "- s의 맨앞에는 부호(+, -)가 올 수 있습니다.\n",
    "- s는 부호와 숫자로만 이루어져있습니다.\n",
    "- s는 \"0\"으로 시작하지 않습니다.\n",
    "\n",
    "입출력 예  \n",
    "\n",
    "예를들어 str이 \"1234\"이면 1234를 반환하고, \"-1234\"이면 -1234를 반환하면 됩니다.  \n",
    "str은 부호(+,-)와 숫자로만 구성되어 있고, 잘못된 값이 입력되는 경우는 없습니다."
   ]
  },
  {
   "cell_type": "code",
   "execution_count": 75,
   "id": "d9fb4cf8-b54f-474a-82a3-0601a003f08a",
   "metadata": {},
   "outputs": [
    {
     "data": {
      "text/plain": [
       "1234"
      ]
     },
     "execution_count": 75,
     "metadata": {},
     "output_type": "execute_result"
    }
   ],
   "source": [
    "s=\"+1234\"\n",
    "int(s)"
   ]
  },
  {
   "cell_type": "markdown",
   "id": "f913b008-2e63-4afd-a410-4a92e40837c9",
   "metadata": {},
   "source": [
    "## 정수 내림차순으로 배치하기\n",
    "\n",
    "문제 설명  \n",
    "함수 solution은 정수 n을 매개변수로 입력받습니다. n의 각 자릿수를 큰것부터 작은 순으로 정렬한 새로운 정수를 리턴해주세요. 예를들어 n이 118372면 873211을 리턴하면 됩니다.  \n",
    "\n",
    "제한 조건\n",
    "- n은 1이상 8000000000 이하인 자연수입니다."
   ]
  },
  {
   "cell_type": "code",
   "execution_count": 76,
   "id": "cdf23af2-2115-4d5a-bd8c-86ae33f93715",
   "metadata": {},
   "outputs": [
    {
     "data": {
      "text/plain": [
       "'118372'"
      ]
     },
     "execution_count": 76,
     "metadata": {},
     "output_type": "execute_result"
    }
   ],
   "source": [
    "a = 118372\n",
    "\n",
    "str(a)"
   ]
  },
  {
   "cell_type": "code",
   "execution_count": 79,
   "id": "c4ed8301-7919-4ccf-93db-eebb0b1b4ed5",
   "metadata": {},
   "outputs": [
    {
     "data": {
      "text/plain": [
       "873211"
      ]
     },
     "execution_count": 79,
     "metadata": {},
     "output_type": "execute_result"
    }
   ],
   "source": [
    "int(\"\".join(sorted(str(a),reverse = True)))"
   ]
  },
  {
   "cell_type": "code",
   "execution_count": 80,
   "id": "d0093a69-d069-44c7-a011-cb68c63616ac",
   "metadata": {},
   "outputs": [
    {
     "data": {
      "text/plain": [
       "9864321"
      ]
     },
     "execution_count": 80,
     "metadata": {},
     "output_type": "execute_result"
    }
   ],
   "source": [
    "def solution(n):\n",
    "    return int(\"\".join(sorted(str(n), reverse = True)))\n",
    "\n",
    "solution(9132468)"
   ]
  },
  {
   "cell_type": "markdown",
   "id": "69d57940-4dad-4bf7-b1b3-4937c7b947ec",
   "metadata": {},
   "source": [
    "문제 설명  \n",
    "양의 정수 x가 하샤드 수이려면 x의 자릿수의 합으로 x가 나누어져야 합니다. 예를 들어 18의 자릿수 합은 1+8=9이고, 18은 9로 나누어 떨어지므로 18은 하샤드 수입니다. 자연수 x를 입력받아 x가 하샤드 수인지 아닌지 검사하는 함수, solution을 완성해주세요.  \n",
    "\n",
    "제한 조건\n",
    "- x는 1 이상, 10000 이하인 정수입니다."
   ]
  },
  {
   "cell_type": "code",
   "execution_count": 88,
   "id": "e3c4eed1-9414-4272-ac00-76cfb0285c3c",
   "metadata": {},
   "outputs": [
    {
     "name": "stdout",
     "output_type": "stream",
     "text": [
      "9\n"
     ]
    }
   ],
   "source": [
    "b = 18\n",
    "\n",
    "print(int(str(x)[0]) + int(str(x)[1]))"
   ]
  },
  {
   "cell_type": "code",
   "execution_count": 89,
   "id": "cf1711a3-875d-4059-a6ca-d33abd5bf230",
   "metadata": {},
   "outputs": [
    {
     "data": {
      "text/plain": [
       "False"
      ]
     },
     "execution_count": 89,
     "metadata": {},
     "output_type": "execute_result"
    }
   ],
   "source": [
    "def solution(x):\n",
    "    total = 0\n",
    "    for i in range(len(str(x))):\n",
    "        total += int(str(x)[i])\n",
    "    return x%total == 0\n",
    "\n",
    "solution(11)"
   ]
  },
  {
   "cell_type": "code",
   "execution_count": 91,
   "id": "5c9f075c-1226-4a96-835b-18f9fedc4186",
   "metadata": {},
   "outputs": [
    {
     "data": {
      "text/plain": [
       "True"
      ]
     },
     "execution_count": 91,
     "metadata": {},
     "output_type": "execute_result"
    }
   ],
   "source": [
    "# 다른 답안\n",
    "def Harshad(x):\n",
    "    return x%sum(int(i) for i in str(x)) == 0\n",
    "\n",
    "Harshad(12)"
   ]
  },
  {
   "cell_type": "code",
   "execution_count": 93,
   "id": "b70d1721-cb2e-491a-97a9-078df3005933",
   "metadata": {},
   "outputs": [
    {
     "name": "stdout",
     "output_type": "stream",
     "text": [
      "4\n"
     ]
    }
   ],
   "source": [
    "d = 13\n",
    "print(sum(int(i) for i in str(d)))"
   ]
  },
  {
   "cell_type": "markdown",
   "id": "f75ed826-1c88-4671-ad71-a0589831d113",
   "metadata": {},
   "source": [
    "## 두 정수 사이의 합\n",
    "\n",
    "문제 설명  \n",
    "두 정수 a, b가 주어졌을 때 a와 b 사이에 속한 모든 정수의 합을 리턴하는 함수, solution을 완성하세요.  \n",
    "예를 들어 a = 3, b = 5인 경우, 3 + 4 + 5 = 12이므로 12를 리턴합니다.  \n",
    "\n",
    "제한 조건\n",
    "- a와 b가 같은 경우는 둘 중 아무 수나 리턴하세요.\n",
    "- a와 b는 -10,000,000 이상 10,000,000 이하인 정수입니다.\n",
    "- a와 b의 대소관계는 정해져있지 않습니다."
   ]
  },
  {
   "cell_type": "code",
   "execution_count": 94,
   "id": "4ec4fa5e-425a-48e0-9ef1-b1a3b08555af",
   "metadata": {},
   "outputs": [
    {
     "name": "stdout",
     "output_type": "stream",
     "text": [
      "3\n",
      "4\n"
     ]
    }
   ],
   "source": [
    "for i in range(3,5):\n",
    "    print(i)"
   ]
  },
  {
   "cell_type": "code",
   "execution_count": 97,
   "id": "0b133ec7-1456-4c66-8e23-385b11e6d1b2",
   "metadata": {},
   "outputs": [
    {
     "data": {
      "text/plain": [
       "7"
      ]
     },
     "execution_count": 97,
     "metadata": {},
     "output_type": "execute_result"
    }
   ],
   "source": [
    "total = 0\n",
    "for i in range(3,5):\n",
    "    total += i\n",
    "total"
   ]
  },
  {
   "cell_type": "code",
   "execution_count": 100,
   "id": "1f723f11-704d-4a5d-90c4-9df2c36143ed",
   "metadata": {},
   "outputs": [
    {
     "data": {
      "text/plain": [
       "12"
      ]
     },
     "execution_count": 100,
     "metadata": {},
     "output_type": "execute_result"
    }
   ],
   "source": [
    "def solution(a,b):\n",
    "    total=0\n",
    "    if a<b:\n",
    "        for i in range(a,b+1):\n",
    "            total += i\n",
    "        return total\n",
    "    elif a>b:\n",
    "        for i in range(b,a+1):\n",
    "            total += i\n",
    "        return total\n",
    "    else:\n",
    "        return a\n",
    "    \n",
    "solution(5,3)"
   ]
  },
  {
   "cell_type": "code",
   "execution_count": 101,
   "id": "88be241d-5e70-491d-bb55-058972f3ddb5",
   "metadata": {},
   "outputs": [
    {
     "data": {
      "text/plain": [
       "12"
      ]
     },
     "execution_count": 101,
     "metadata": {},
     "output_type": "execute_result"
    }
   ],
   "source": [
    "sum(range(3,6))"
   ]
  },
  {
   "cell_type": "markdown",
   "id": "a942907d-467d-4125-b632-f79f3c903f45",
   "metadata": {},
   "source": [
    "## 서울에서 김서방 찾기\n",
    "\n",
    "String형 배열 seoul의 element중 \"Kim\"의 위치 x를 찾아, \"김서방은 x에 있다\"는 String을 반환하는 함수, solution을 완성하세요. seoul에 \"Kim\"은 오직 한 번만 나타나며 잘못된 값이 입력되는 경우는 없습니다.  \n",
    "\n",
    "제한 사항\n",
    "- seoul은 길이 1 이상, 1000 이하인 배열입니다.\n",
    "- seoul의 원소는 길이 1 이상, 20 이하인 문자열입니다.\n",
    "- \"Kim\"은 반드시 seoul 안에 포함되어 있습니다."
   ]
  },
  {
   "cell_type": "code",
   "execution_count": 103,
   "id": "58930b1f-e16f-4225-80a3-d3ef1be1cb1e",
   "metadata": {},
   "outputs": [
    {
     "data": {
      "text/plain": [
       "1"
      ]
     },
     "execution_count": 103,
     "metadata": {},
     "output_type": "execute_result"
    }
   ],
   "source": [
    "a = [\"Jane\", \"Kim\"]\n",
    "a.index(\"Kim\")"
   ]
  },
  {
   "cell_type": "code",
   "execution_count": null,
   "id": "e4e4ebf9-0753-42ab-89a4-907e5140d571",
   "metadata": {},
   "outputs": [],
   "source": []
  },
  {
   "cell_type": "code",
   "execution_count": 107,
   "id": "8c70870e-7268-4314-b1bf-de34d590fe75",
   "metadata": {},
   "outputs": [
    {
     "data": {
      "text/plain": [
       "'김서방은 1에 있다'"
      ]
     },
     "execution_count": 107,
     "metadata": {},
     "output_type": "execute_result"
    }
   ],
   "source": [
    "def Find_Kim(a):\n",
    "    return \"김서방은 \" + str(a.index(\"Kim\")) + \"에 있다\"\n",
    "Find_Kim(a)    "
   ]
  },
  {
   "cell_type": "code",
   "execution_count": null,
   "id": "ee41f513-93dc-4ac7-9c10-a4b4ba31a5ad",
   "metadata": {},
   "outputs": [],
   "source": []
  },
  {
   "cell_type": "markdown",
   "id": "04d190c2-4e0d-4647-96b3-634d04d24e7f",
   "metadata": {},
   "source": [
    "## 행렬의 덧셈\n",
    "\n",
    "문제 설명  \n",
    "행렬의 덧셈은 행과 열의 크기가 같은 두 행렬의 같은 행, 같은 열의 값을 서로 더한 결과가 됩니다. 2개의 행렬 arr1과 arr2를 입력받아, 행렬 덧셈의 결과를 반환하는 함수, solution을 완성해주세요.  \n",
    "\n",
    "제한 조건\n",
    "- 행렬 arr1, arr2의 행과 열의 길이는 500을 넘지 않습니다."
   ]
  },
  {
   "cell_type": "code",
   "execution_count": 2,
   "id": "26c46a48-9846-4449-b2b6-c21de5c01413",
   "metadata": {},
   "outputs": [
    {
     "name": "stdout",
     "output_type": "stream",
     "text": [
      "<class 'list'>\n",
      "<class 'list'>\n"
     ]
    }
   ],
   "source": [
    "arr1 = [[1,2],[2,3]]\n",
    "arr2 = [[3,4],[5,6]]\n",
    "\n",
    "print(type(arr1))\n",
    "print(type(arr2))"
   ]
  },
  {
   "cell_type": "code",
   "execution_count": 3,
   "id": "895ced26-cb50-4145-b45d-4cbd7f826cf4",
   "metadata": {},
   "outputs": [
    {
     "data": {
      "text/plain": [
       "[1, 2]"
      ]
     },
     "execution_count": 3,
     "metadata": {},
     "output_type": "execute_result"
    }
   ],
   "source": [
    "arr1[0]"
   ]
  },
  {
   "cell_type": "code",
   "execution_count": 4,
   "id": "156c8649-f30a-4056-a629-8235bded4264",
   "metadata": {},
   "outputs": [
    {
     "data": {
      "text/plain": [
       "1"
      ]
     },
     "execution_count": 4,
     "metadata": {},
     "output_type": "execute_result"
    }
   ],
   "source": [
    "arr1[0][0]"
   ]
  },
  {
   "cell_type": "code",
   "execution_count": 5,
   "id": "45122e8e-9e1c-4429-97d5-5651d2f098b7",
   "metadata": {},
   "outputs": [
    {
     "data": {
      "text/plain": [
       "list"
      ]
     },
     "execution_count": 5,
     "metadata": {},
     "output_type": "execute_result"
    }
   ],
   "source": [
    "type(arr1[0])"
   ]
  },
  {
   "cell_type": "code",
   "execution_count": 6,
   "id": "83171b07-6da2-4af2-a9ab-0be128c63627",
   "metadata": {},
   "outputs": [
    {
     "data": {
      "text/plain": [
       "2"
      ]
     },
     "execution_count": 6,
     "metadata": {},
     "output_type": "execute_result"
    }
   ],
   "source": [
    "arr1[0][1]"
   ]
  },
  {
   "cell_type": "code",
   "execution_count": 7,
   "id": "ca3a4d7d-c1b6-412e-b699-568521106021",
   "metadata": {},
   "outputs": [
    {
     "data": {
      "text/plain": [
       "[[1, 2], [2, 3], [3, 4], [5, 6]]"
      ]
     },
     "execution_count": 7,
     "metadata": {},
     "output_type": "execute_result"
    }
   ],
   "source": [
    "arr1 + arr2"
   ]
  },
  {
   "cell_type": "code",
   "execution_count": 8,
   "id": "0bef27b8-f7af-4c07-bee6-3504c1dec1b0",
   "metadata": {},
   "outputs": [
    {
     "data": {
      "text/plain": [
       "int"
      ]
     },
     "execution_count": 8,
     "metadata": {},
     "output_type": "execute_result"
    }
   ],
   "source": [
    "type(arr1[0][1])"
   ]
  },
  {
   "cell_type": "code",
   "execution_count": 9,
   "id": "68686693-2d3b-460e-bedf-1f5a7063bd8d",
   "metadata": {},
   "outputs": [
    {
     "data": {
      "text/plain": [
       "4"
      ]
     },
     "execution_count": 9,
     "metadata": {},
     "output_type": "execute_result"
    }
   ],
   "source": [
    "arr1[0][0] + arr2[0][0]"
   ]
  },
  {
   "cell_type": "code",
   "execution_count": 10,
   "id": "a6888056-db7e-414d-81fc-ff833af44954",
   "metadata": {},
   "outputs": [
    {
     "ename": "TypeError",
     "evalue": "unsupported operand type(s) for +: 'int' and 'list'",
     "output_type": "error",
     "traceback": [
      "\u001b[1;31m---------------------------------------------------------------------------\u001b[0m",
      "\u001b[1;31mTypeError\u001b[0m                                 Traceback (most recent call last)",
      "Cell \u001b[1;32mIn[10], line 1\u001b[0m\n\u001b[1;32m----> 1\u001b[0m \u001b[38;5;28;43msum\u001b[39;49m\u001b[43m(\u001b[49m\u001b[43marr1\u001b[49m\u001b[43m)\u001b[49m\n",
      "\u001b[1;31mTypeError\u001b[0m: unsupported operand type(s) for +: 'int' and 'list'"
     ]
    }
   ],
   "source": [
    "sum(arr1)"
   ]
  },
  {
   "cell_type": "code",
   "execution_count": 11,
   "id": "fa506f94-226b-4c80-a4cc-b7cb34b806f4",
   "metadata": {},
   "outputs": [
    {
     "data": {
      "text/plain": [
       "10"
      ]
     },
     "execution_count": 11,
     "metadata": {},
     "output_type": "execute_result"
    }
   ],
   "source": [
    "arr3 = [1,2,3,4]\n",
    "sum(arr3)"
   ]
  },
  {
   "cell_type": "code",
   "execution_count": 12,
   "id": "ac6716a1-8818-4d58-90c3-b87b20dcbb51",
   "metadata": {},
   "outputs": [
    {
     "data": {
      "text/plain": [
       "2"
      ]
     },
     "execution_count": 12,
     "metadata": {},
     "output_type": "execute_result"
    }
   ],
   "source": [
    "len(arr1)"
   ]
  },
  {
   "cell_type": "code",
   "execution_count": 15,
   "id": "af7584aa-eb79-44f2-9f85-83b94a116ebd",
   "metadata": {},
   "outputs": [
    {
     "data": {
      "text/plain": [
       "[1]"
      ]
     },
     "execution_count": 15,
     "metadata": {},
     "output_type": "execute_result"
    }
   ],
   "source": [
    "test = [[]]\n",
    "test[0] = 1\n",
    "test"
   ]
  },
  {
   "cell_type": "code",
   "execution_count": 19,
   "id": "2d51ee00-0c2f-4881-a2ac-a66b9036239c",
   "metadata": {},
   "outputs": [
    {
     "data": {
      "text/plain": [
       "[[1, 2]]"
      ]
     },
     "execution_count": 19,
     "metadata": {},
     "output_type": "execute_result"
    }
   ],
   "source": [
    "test[0] = [1,2]\n",
    "test"
   ]
  },
  {
   "cell_type": "code",
   "execution_count": 25,
   "id": "0904fb91-b0e8-42aa-aeed-6665505cc4ec",
   "metadata": {},
   "outputs": [
    {
     "data": {
      "text/plain": [
       "[[1, 2], [2, 3]]"
      ]
     },
     "execution_count": 25,
     "metadata": {},
     "output_type": "execute_result"
    }
   ],
   "source": [
    "test.append([2,3])\n",
    "test"
   ]
  },
  {
   "cell_type": "code",
   "execution_count": 20,
   "id": "1d49e6bd-a80a-4022-be67-b89f0b37fc86",
   "metadata": {},
   "outputs": [
    {
     "data": {
      "text/plain": [
       "3"
      ]
     },
     "execution_count": 20,
     "metadata": {},
     "output_type": "execute_result"
    }
   ],
   "source": [
    "sum(test[0])"
   ]
  },
  {
   "cell_type": "code",
   "execution_count": 32,
   "id": "85d1f7d4-483f-4d11-a305-e945b12183d6",
   "metadata": {},
   "outputs": [
    {
     "data": {
      "text/plain": [
       "[[4], [6], [7], [9]]"
      ]
     },
     "execution_count": 32,
     "metadata": {},
     "output_type": "execute_result"
    }
   ],
   "source": [
    "def solution(arr1, arr2):\n",
    "    l_list = []\n",
    "    for i in range(len(arr1)):\n",
    "        for j in range(len(arr1[0])):\n",
    "            m_list = []\n",
    "            m_list.append(arr1[i][j] + arr2[i][j])\n",
    "            l_list.append(m_list)\n",
    "        del m_list\n",
    "    return l_list\n",
    "\n",
    "solution(arr1, arr2)\n",
    "        "
   ]
  },
  {
   "cell_type": "code",
   "execution_count": 36,
   "id": "c37b3f4f-b1ae-4346-9302-2edbd818d19e",
   "metadata": {},
   "outputs": [
    {
     "data": {
      "text/plain": [
       "[[4, 6], [7, 9]]"
      ]
     },
     "execution_count": 36,
     "metadata": {},
     "output_type": "execute_result"
    }
   ],
   "source": [
    "def solution(arr1, arr2):\n",
    "    last_list = []\n",
    "    for i in range(len(arr1)):\n",
    "        mid_list = []\n",
    "        for j in range(len(arr1[0])):\n",
    "            mid_list.append(arr1[i][j] + arr2[i][j])\n",
    "        last_list.append(mid_list)\n",
    "        del mid_list\n",
    "    return last_list\n",
    "\n",
    "solution(arr1, arr2)"
   ]
  },
  {
   "cell_type": "code",
   "execution_count": null,
   "id": "b1c455d5-b3cd-41f5-baa2-fb24341c05ae",
   "metadata": {},
   "outputs": [],
   "source": [
    "# 비슷하지만 다른 풀이 (하지만 A가 변한다는 함정이 있음.)\n",
    "def sumMatrix(A,B):\n",
    "    for i in range(len(A)):\n",
    "        for j in range(len(A[0])):\n",
    "            A[i][j] += B[i][j]\n",
    "    return A"
   ]
  },
  {
   "cell_type": "code",
   "execution_count": null,
   "id": "c6940e4e-9ab2-4108-9a7f-33dd47ef8ca6",
   "metadata": {},
   "outputs": [],
   "source": [
    "# 또 다른 풀이, zip을 활용한\n",
    "def sumMatirx(A,B):\n",
    "    answer = [[c + d for c, d in zip(a,b)] for a, b in zip(A,B)]\n",
    "    return answer"
   ]
  },
  {
   "cell_type": "markdown",
   "id": "8b23c907-beb5-42cd-9eaf-ef1b6a7cc3c0",
   "metadata": {},
   "source": [
    "## 직사각형 별찍기\n",
    "\n",
    "문제 설명  \n",
    "이 문제에는 표준 입력으로 두 개의 정수 n과 m이 주어집니다.  \n",
    "별(*) 문자를 이용해 가로의 길이가 n, 세로의 길이가 m인 직사각형 형태를 출력해보세요.  \n",
    "\n",
    "제한 조건\n",
    "- n과 m은 각각 1000 이하인 자연수입니다."
   ]
  },
  {
   "cell_type": "code",
   "execution_count": 44,
   "id": "dafbf292-f7f8-49ab-8852-707f026158cd",
   "metadata": {},
   "outputs": [
    {
     "name": "stdin",
     "output_type": "stream",
     "text": [
      "수를 입력하세요.  3 5\n"
     ]
    },
    {
     "name": "stdout",
     "output_type": "stream",
     "text": [
      "★★★\n",
      "★★★\n",
      "★★★\n",
      "★★★\n",
      "★★★\n"
     ]
    }
   ],
   "source": [
    "a, b = map(int, input(\"수를 입력하세요. \").strip().split(\" \"))\n",
    "star = \"*\"*a\n",
    "for i in range(b):\n",
    "    print(star)"
   ]
  },
  {
   "cell_type": "code",
   "execution_count": 45,
   "id": "9a038a96-553f-4441-aeec-e420a7f90114",
   "metadata": {},
   "outputs": [
    {
     "name": "stdin",
     "output_type": "stream",
     "text": [
      " 3 5\n"
     ]
    },
    {
     "name": "stdout",
     "output_type": "stream",
     "text": [
      "***\n",
      "***\n",
      "***\n",
      "***\n",
      "***\n",
      "\n"
     ]
    }
   ],
   "source": [
    "# 더 괜찮은 대답\n",
    "a, b = map(int, input().strip().split(\" \"))\n",
    "answer = (\"*\"*a + '\\n')*b\n",
    "print(answer)"
   ]
  },
  {
   "cell_type": "code",
   "execution_count": 46,
   "id": "b8d73c06-a88b-4744-905f-c5f01b2011b6",
   "metadata": {},
   "outputs": [
    {
     "name": "stdout",
     "output_type": "stream",
     "text": [
      "abcde\n",
      "abedx\n"
     ]
    }
   ],
   "source": [
    "print(\"abcde\\nabedx\")"
   ]
  },
  {
   "cell_type": "markdown",
   "id": "b526f273-0686-40ca-a542-7362aac10fd6",
   "metadata": {},
   "source": [
    "## 최대공약수와 최소공배수\n",
    "\n",
    "문제 설명  \n",
    "두 수를 입력받아 두 수의 최대공약수와 최소공배수를 반환하는 함수, solution을 완성해 보세요. 배열의 맨 앞에 최대공약수, 그다음 최소공배수를 넣어 반환하면 됩니다. 예를 들어 두 수 3, 12의 최대공약수는 3, 최소공배수는 12이므로 solution(3, 12)는 [3, 12]를 반환해야 합니다.  \n",
    "\n",
    "제한 사항\n",
    "- 두 수는 1이상 1000000이하의 자연수입니다."
   ]
  },
  {
   "cell_type": "code",
   "execution_count": 58,
   "id": "2dd21583-8d97-43a2-a7b9-0f421f630b38",
   "metadata": {},
   "outputs": [
    {
     "data": {
      "text/plain": [
       "[3, 12]"
      ]
     },
     "execution_count": 58,
     "metadata": {},
     "output_type": "execute_result"
    }
   ],
   "source": [
    "def solution(n, m):\n",
    "    list = []\n",
    "    for i in range(1,m+1):\n",
    "        if n%i == 0 and m%i == 0:\n",
    "            list.append(i)\n",
    "    return [max(list), ((max(list))*(n//max(list))*(m//max(list)))]\n",
    "\n",
    "solution(3, 12)"
   ]
  },
  {
   "cell_type": "code",
   "execution_count": null,
   "id": "f23afc60-8346-458f-8380-6f93f4f4b0cf",
   "metadata": {},
   "outputs": [],
   "source": [
    "12, 18\n",
    "12 = 1, 2, 3, 4, 6, 12\n",
    "18 = 1, 2, 3, 6, 9, 18\n",
    "최소공배수 = 두 수를 최대 공약수로 나눠 준 다음에, 최대 공약수 * 각각의 몫"
   ]
  },
  {
   "cell_type": "markdown",
   "id": "e7c8670e-9679-4154-9140-ab949ff5ea28",
   "metadata": {},
   "source": [
    "## 같은 숫자는 싫어\n",
    "\n",
    "문제 설명\n",
    "배열 arr가 주어집니다. 배열 arr의 각 원소는 숫자 0부터 9까지로 이루어져 있습니다. 이때, 배열 arr에서 연속적으로 나타나는 숫자는 하나만 남기고 전부 제거하려고 합니다. 단, 제거된 후 남은 수들을 반환할 때는 배열 arr의 원소들의 순서를 유지해야 합니다. 예를 들면,\n",
    "\n",
    "- arr = [1, 1, 3, 3, 0, 1, 1] 이면 [1, 3, 0, 1] 을 return 합니다.\n",
    "- arr = [4, 4, 4, 3, 3] 이면 [4, 3] 을 return 합니다.\n",
    "배열 arr에서 연속적으로 나타나는 숫자는 제거하고 남은 수들을 return 하는 solution 함수를 완성해 주세요.  \n",
    "\n",
    "제한사항\n",
    "- 배열 arr의 크기 : 1,000,000 이하의 자연수\n",
    "- 배열 arr의 원소의 크기 : 0보다 크거나 같고 9보다 작거나 같은 정수"
   ]
  },
  {
   "cell_type": "code",
   "execution_count": 59,
   "id": "3dcadc1b-d2b9-4974-809e-2de7136ca5b3",
   "metadata": {},
   "outputs": [
    {
     "data": {
      "text/plain": [
       "4"
      ]
     },
     "execution_count": 59,
     "metadata": {},
     "output_type": "execute_result"
    }
   ],
   "source": [
    "arr = [1, 1, 3, 3, 0, 1, 1]\n",
    "arr.count(1)"
   ]
  },
  {
   "cell_type": "code",
   "execution_count": 60,
   "id": "77fc8bdf-4281-4f6b-be2b-83b01e433a86",
   "metadata": {},
   "outputs": [
    {
     "data": {
      "text/plain": [
       "4"
      ]
     },
     "execution_count": 60,
     "metadata": {},
     "output_type": "execute_result"
    }
   ],
   "source": [
    "arr.count(arr[0])"
   ]
  },
  {
   "cell_type": "code",
   "execution_count": 61,
   "id": "8c51c743-bcc3-4611-888e-b42923ff50d7",
   "metadata": {},
   "outputs": [],
   "source": [
    "result1 = set(arr)"
   ]
  },
  {
   "cell_type": "code",
   "execution_count": 62,
   "id": "847adb2d-4beb-4812-b2ab-99d4ddf44546",
   "metadata": {},
   "outputs": [
    {
     "name": "stdout",
     "output_type": "stream",
     "text": [
      "{0, 1, 3}\n"
     ]
    }
   ],
   "source": [
    "print(f'{result1}')"
   ]
  },
  {
   "cell_type": "code",
   "execution_count": 63,
   "id": "da1b7978-8930-4a58-a9fa-34961b9ab324",
   "metadata": {},
   "outputs": [
    {
     "data": {
      "text/plain": [
       "[1, 3, 0]"
      ]
     },
     "execution_count": 63,
     "metadata": {},
     "output_type": "execute_result"
    }
   ],
   "source": [
    "def solution(arr):\n",
    "    result = []\n",
    "    for i in arr:\n",
    "        if i not in result:\n",
    "            result.append(i)\n",
    "    return result\n",
    "\n",
    "solution(arr)"
   ]
  },
  {
   "cell_type": "code",
   "execution_count": 65,
   "id": "0e94b8d1-b2a9-451e-9e49-060848acf71f",
   "metadata": {},
   "outputs": [
    {
     "data": {
      "text/plain": [
       "[1, 3, 0, 1]"
      ]
     },
     "execution_count": 65,
     "metadata": {},
     "output_type": "execute_result"
    }
   ],
   "source": [
    "def NoNoNo(arr):\n",
    "    result = [arr[0]]\n",
    "    for i in range(1, len(arr)):\n",
    "        if arr[i] != arr[i-1]:\n",
    "            result.append(arr[i])\n",
    "    return result\n",
    "\n",
    "NoNoNo(arr)"
   ]
  },
  {
   "cell_type": "code",
   "execution_count": 72,
   "id": "4f16aa60-edf6-4028-83df-9f57102c6f01",
   "metadata": {},
   "outputs": [
    {
     "data": {
      "text/plain": [
       "[1]"
      ]
     },
     "execution_count": 72,
     "metadata": {},
     "output_type": "execute_result"
    }
   ],
   "source": [
    "arr[-1:]"
   ]
  },
  {
   "cell_type": "markdown",
   "id": "95d3dc63-7c2e-44d9-bbe7-9526765ebd73",
   "metadata": {},
   "source": [
    "## 3진법 뒤집기\n",
    "\n",
    "문제 설명  \n",
    "자연수 n이 매개변수로 주어집니다. n을 3진법 상에서 앞뒤로 뒤집은 후, 이를 다시 10진법으로 표현한 수를 return 하도록 solution 함수를 완성해주세요.  \n",
    "\n",
    "제한사항\n",
    "- n은 1 이상 100,000,000 이하인 자연수입니다."
   ]
  },
  {
   "cell_type": "markdown",
   "id": "afd6e9c8-7986-485a-8686-aef35712d106",
   "metadata": {},
   "source": [
    "## 이상한 문자 만들기\n",
    "\n",
    "문제 설명  \n",
    "문자열 s는 한 개 이상의 단어로 구성되어 있습니다. 각 단어는 하나 이상의 공백문자로 구분되어 있습니다. 각 단어의 짝수번째 알파벳은 대문자로, 홀수번째 알파벳은 소문자로 바꾼 문자열을 리턴하는 함수, solution을 완성하세요.  \n",
    "\n",
    "제한 사항\n",
    "- 문자열 전체의 짝/홀수 인덱스가 아니라, 단어(공백을 기준)별로 짝/홀수 인덱스를 판단해야합니다.\n",
    "- 첫 번째 글자는 0번째 인덱스로 보아 짝수번째 알파벳으로 처리해야 합니다."
   ]
  },
  {
   "cell_type": "code",
   "execution_count": 83,
   "id": "b301b76c-9178-4a8a-8915-501495630f8f",
   "metadata": {},
   "outputs": [
    {
     "data": {
      "text/plain": [
       "['try', 'hello', 'world']"
      ]
     },
     "execution_count": 83,
     "metadata": {},
     "output_type": "execute_result"
    }
   ],
   "source": [
    "a = \"try hello world\"\n",
    "a.split(\" \")"
   ]
  },
  {
   "cell_type": "code",
   "execution_count": 75,
   "id": "4fdb755f-4aba-4ef6-a110-d7fef356c2a7",
   "metadata": {},
   "outputs": [
    {
     "data": {
      "text/plain": [
       "'t'"
      ]
     },
     "execution_count": 75,
     "metadata": {},
     "output_type": "execute_result"
    }
   ],
   "source": [
    "a.split(\" \")[0][0]"
   ]
  },
  {
   "cell_type": "code",
   "execution_count": 76,
   "id": "cf879dba-4990-4a32-889b-fec5a18634fe",
   "metadata": {},
   "outputs": [
    {
     "data": {
      "text/plain": [
       "'h'"
      ]
     },
     "execution_count": 76,
     "metadata": {},
     "output_type": "execute_result"
    }
   ],
   "source": [
    "a.split(\" \")[1][0]"
   ]
  },
  {
   "cell_type": "code",
   "execution_count": 77,
   "id": "d4306600-3cc2-465e-afed-bb365ecb35f2",
   "metadata": {},
   "outputs": [
    {
     "data": {
      "text/plain": [
       "'H'"
      ]
     },
     "execution_count": 77,
     "metadata": {},
     "output_type": "execute_result"
    }
   ],
   "source": [
    "a.split(\" \")[1][0].upper()"
   ]
  },
  {
   "cell_type": "code",
   "execution_count": 78,
   "id": "51574e8a-f6cf-4f30-9042-2efa2402de3d",
   "metadata": {},
   "outputs": [
    {
     "data": {
      "text/plain": [
       "0"
      ]
     },
     "execution_count": 78,
     "metadata": {},
     "output_type": "execute_result"
    }
   ],
   "source": [
    "0%2"
   ]
  },
  {
   "cell_type": "code",
   "execution_count": 100,
   "id": "eff520ef-3d09-45d2-ae41-098c3771ca52",
   "metadata": {},
   "outputs": [],
   "source": [
    "def solution(s):\n",
    "    result = []\n",
    "    s_split = s.split(\" \")\n",
    "    for i in s_split:\n",
    "        for j in range(len(i)):\n",
    "                        if j%2 == 0:\n",
    "                            result.append(i[j].upper())\n",
    "                        else:\n",
    "                            result.append(i[j].lower())\n",
    "        result.append(\" \")\n",
    "    return \"\".join(result).strip()"
   ]
  },
  {
   "cell_type": "code",
   "execution_count": 101,
   "id": "efaffdaa-3ef4-45a9-9b2f-1b3fef2a469b",
   "metadata": {},
   "outputs": [
    {
     "data": {
      "text/plain": [
       "'TrY HeLlO WoRlD'"
      ]
     },
     "execution_count": 101,
     "metadata": {},
     "output_type": "execute_result"
    }
   ],
   "source": [
    "solution(a)"
   ]
  },
  {
   "cell_type": "code",
   "execution_count": 102,
   "id": "c5f4e58a-3887-433b-aca0-6c9ee52aa6a0",
   "metadata": {},
   "outputs": [
    {
     "data": {
      "text/plain": [
       "'Hi HeLlO We ArE ChAmPiOn'"
      ]
     },
     "execution_count": 102,
     "metadata": {},
     "output_type": "execute_result"
    }
   ],
   "source": [
    "str_b = \"hi hello we are champion\"\n",
    "solution(str_b)"
   ]
  },
  {
   "cell_type": "code",
   "execution_count": 94,
   "id": "ff2d9d49-9e14-468c-8288-970b2c952ff5",
   "metadata": {},
   "outputs": [
    {
     "data": {
      "text/plain": [
       "'hi hello we are champion'"
      ]
     },
     "execution_count": 94,
     "metadata": {},
     "output_type": "execute_result"
    }
   ],
   "source": [
    "str_b"
   ]
  }
 ],
 "metadata": {
  "kernelspec": {
   "display_name": "Python 3 (ipykernel)",
   "language": "python",
   "name": "python3"
  },
  "language_info": {
   "codemirror_mode": {
    "name": "ipython",
    "version": 3
   },
   "file_extension": ".py",
   "mimetype": "text/x-python",
   "name": "python",
   "nbconvert_exporter": "python",
   "pygments_lexer": "ipython3",
   "version": "3.10.9"
  },
  "toc-autonumbering": true
 },
 "nbformat": 4,
 "nbformat_minor": 5
}
