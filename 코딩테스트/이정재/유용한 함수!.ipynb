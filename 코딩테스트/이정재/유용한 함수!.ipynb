{
 "cells": [
  {
   "cell_type": "markdown",
   "id": "ee2c02e8-12eb-4372-8d05-9beae8595520",
   "metadata": {},
   "source": [
    "- map은 리스트의 요소를 지정된 함수로 처리해주는 함수이다. (원본 리스트를 변경하지 않고 새 리스트를 생성한다.)\n",
    "\n",
    "1. lisT(map(함수, 리스트))\n",
    "1. tuple(map(함수, 튜플))"
   ]
  },
  {
   "cell_type": "markdown",
   "id": "4b307503-cb8e-4e76-b862-b50d703df048",
   "metadata": {},
   "source": [
    "ex) 실수가 저장된 리스트가 있을 때 이 리스트의 모든 요소를 정수로 변환하려면?"
   ]
  },
  {
   "cell_type": "code",
   "execution_count": 1,
   "id": "e123d08a-a4af-47a7-a1c9-9908356b9b39",
   "metadata": {},
   "outputs": [
    {
     "data": {
      "text/plain": [
       "[1, 2, 3, 4]"
      ]
     },
     "execution_count": 1,
     "metadata": {},
     "output_type": "execute_result"
    }
   ],
   "source": [
    "# for 문을 이용하면?\n",
    "a = [1.2, 2.5, 3.7, 4.6]\n",
    "\n",
    "for i in range(len(a)):\n",
    "    a[i] = int(a[i])\n",
    "    \n",
    "    \n",
    "a"
   ]
  },
  {
   "cell_type": "code",
   "execution_count": 2,
   "id": "21caf447-1150-4422-8648-dc3269fce968",
   "metadata": {},
   "outputs": [
    {
     "data": {
      "text/plain": [
       "[1, 2, 3, 4]"
      ]
     },
     "execution_count": 2,
     "metadata": {},
     "output_type": "execute_result"
    }
   ],
   "source": [
    "# map을 사용하면?\n",
    "a = list(map(int, a))\n",
    "a"
   ]
  },
  {
   "cell_type": "markdown",
   "id": "3abb8684-12e2-4f7e-9fa0-b3be342aa252",
   "metadata": {},
   "source": [
    "문자열 뒤집어서 나열\n",
    "\n",
    "1. 인덱싱 이용 [::-1]\n",
    "1. \"\".join() 이용"
   ]
  },
  {
   "cell_type": "code",
   "execution_count": 3,
   "id": "d0dc7d28-6dbb-4df0-b9bc-6bd1fb9b701c",
   "metadata": {},
   "outputs": [
    {
     "data": {
      "text/plain": [
       "'987654321'"
      ]
     },
     "execution_count": 3,
     "metadata": {},
     "output_type": "execute_result"
    }
   ],
   "source": [
    "a = \"123456789\"\n",
    "a[::-1]"
   ]
  },
  {
   "cell_type": "code",
   "execution_count": 6,
   "id": "14eb04ec-739f-4b75-8fbb-b3a3771a9722",
   "metadata": {},
   "outputs": [
    {
     "data": {
      "text/plain": [
       "'987654321'"
      ]
     },
     "execution_count": 6,
     "metadata": {},
     "output_type": "execute_result"
    }
   ],
   "source": [
    "\"\".join(reversed(a))"
   ]
  },
  {
   "cell_type": "markdown",
   "id": "d1c068fe-89a0-460c-a1fd-f52286316e31",
   "metadata": {},
   "source": [
    "모든 자리수의 합"
   ]
  },
  {
   "cell_type": "code",
   "execution_count": 7,
   "id": "d58adf1d-9885-4eb6-b3fb-42a1e783ac4f",
   "metadata": {},
   "outputs": [
    {
     "name": "stdout",
     "output_type": "stream",
     "text": [
      "4\n"
     ]
    }
   ],
   "source": [
    "d = 13\n",
    "print(sum(int(i) for i in str(d)))"
   ]
  },
  {
   "cell_type": "markdown",
   "id": "67d0e3da-9c67-4049-95db-f3cbd0cea7b1",
   "metadata": {},
   "source": [
    "For문 없이 range 숫자 합계는 sum으로 가능하다."
   ]
  },
  {
   "cell_type": "code",
   "execution_count": 8,
   "id": "72968504-be70-485c-ba30-b21c9a958b55",
   "metadata": {},
   "outputs": [
    {
     "data": {
      "text/plain": [
       "12"
      ]
     },
     "execution_count": 8,
     "metadata": {},
     "output_type": "execute_result"
    }
   ],
   "source": [
    "sum(range(3,6))"
   ]
  },
  {
   "cell_type": "markdown",
   "id": "cb8e1976-62cd-4c5a-a46b-9dd4b98b811a",
   "metadata": {},
   "source": [
    "절대값 함수는 abs이다."
   ]
  },
  {
   "cell_type": "markdown",
   "id": "ae2fa74d-5d23-4068-b66e-5480d2de58bc",
   "metadata": {},
   "source": [
    "리스트를 set하게 되면 \"set(list)\" 리스트에 있는 항목들에서 중복되는 값은 사라지고 자동으로 오름차순이 된다."
   ]
  }
 ],
 "metadata": {
  "kernelspec": {
   "display_name": "Python 3 (ipykernel)",
   "language": "python",
   "name": "python3"
  },
  "language_info": {
   "codemirror_mode": {
    "name": "ipython",
    "version": 3
   },
   "file_extension": ".py",
   "mimetype": "text/x-python",
   "name": "python",
   "nbconvert_exporter": "python",
   "pygments_lexer": "ipython3",
   "version": "3.10.9"
  }
 },
 "nbformat": 4,
 "nbformat_minor": 5
}
