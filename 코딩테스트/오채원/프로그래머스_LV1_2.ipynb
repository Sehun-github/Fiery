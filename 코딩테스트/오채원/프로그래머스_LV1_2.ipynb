{
 "cells": [
  {
   "cell_type": "markdown",
   "id": "337bf9a8",
   "metadata": {},
   "source": [
    "### 1 자연수 뒤집어 배열로 만들기 "
   ]
  },
  {
   "cell_type": "code",
   "execution_count": 1,
   "id": "c8916898",
   "metadata": {},
   "outputs": [
    {
     "name": "stdout",
     "output_type": "stream",
     "text": [
      "['1', '2', '3', '4', '5']\n"
     ]
    }
   ],
   "source": [
    "#자연수 n을 뒤집어 각 자리 숫자를 원소로 가지는 배열 형태로 리턴해주세요. 예를들어 n이 12345이면 [5,4,3,2,1]을 리턴합니다. \n",
    "n = 54321\n",
    "n_list = []\n",
    "for i in str(n) : \n",
    "    n_list.append(i)\n",
    "re_n_list = n_list[::-1]\n",
    "print (re_n_list)"
   ]
  },
  {
   "cell_type": "code",
   "execution_count": 2,
   "id": "be5e9a36",
   "metadata": {},
   "outputs": [],
   "source": [
    "#제출 답안 \n",
    "def solution(n):\n",
    "    answer = []\n",
    "    for i in str(n) :\n",
    "        i = int(i)\n",
    "        answer.append(i)\n",
    "    re_answer = answer[::-1]\n",
    "    return re_answer"
   ]
  },
  {
   "cell_type": "markdown",
   "id": "70f1f662",
   "metadata": {},
   "source": [
    "### 2 정수 제곱근 판별 "
   ]
  },
  {
   "cell_type": "code",
   "execution_count": null,
   "id": "587d464d",
   "metadata": {},
   "outputs": [],
   "source": [
    "#임의의 양의 정수 n에 대해, n이 어떤 양의 정수 x의 제곱인지 아닌지 판단하려 합니다.\n",
    "#n이 양의 정수 x의 제곱이라면 x+1의 제곱을 리턴하고, \n",
    "#n이 양의 정수 x의 제곱이 아니라면 -1을 리턴하는 함수를 완성하세요.\n",
    "\n",
    "n = 121 \n",
    "x = 3 \n",
    "\n",
    "if n / x == x : \n",
    "    answer = x + 1 \n",
    "else : \n",
    "    answer = -1 \n"
   ]
  },
  {
   "cell_type": "code",
   "execution_count": null,
   "id": "f538fbd3",
   "metadata": {},
   "outputs": [],
   "source": [
    "#틀림\n",
    "\n",
    "import math \n",
    "def solution(n):\n",
    "    answer = 0 \n",
    "    x = math.sqrt(n)\n",
    "    #if n / x == x : <---틀림 \n",
    "    if x % 1 == 0 : \n",
    "        answer = (x + 1)**2 \n",
    "    else : \n",
    "        answer = -1 \n",
    "\n",
    "    return answer"
   ]
  },
  {
   "cell_type": "markdown",
   "id": "79903585",
   "metadata": {},
   "source": [
    "### 3 문자열을 정수로 바꾸기 "
   ]
  },
  {
   "cell_type": "code",
   "execution_count": null,
   "id": "1c7888fb",
   "metadata": {
    "scrolled": false
   },
   "outputs": [],
   "source": [
    "# 문자열 s를 숫자로 변환한 결과를 반환하는 함수, solution을 완성하세요.\n",
    "s = \"-1234\"\n",
    "int (s)\n"
   ]
  },
  {
   "cell_type": "code",
   "execution_count": null,
   "id": "5028aacb",
   "metadata": {},
   "outputs": [],
   "source": [
    "#답안 \n",
    "def solution(s):\n",
    "    answer = 0\n",
    "    answer = int (s)\n",
    "    return answer"
   ]
  },
  {
   "cell_type": "markdown",
   "id": "8742aae3",
   "metadata": {},
   "source": [
    "### 4 정수 내림차순으로 배치하기 "
   ]
  },
  {
   "cell_type": "code",
   "execution_count": null,
   "id": "7085f7f0",
   "metadata": {
    "scrolled": false
   },
   "outputs": [],
   "source": [
    "#함수 solution은 정수 n을 매개변수로 입력받습니다. \n",
    "#n의 각 자릿수를 큰것부터 작은 순으로 정렬한 새로운 정수를 리턴해주세요. \n",
    "#예를들어 n이 118372면 873211을 리턴하면 됩니다.\n",
    "\n",
    "n = 118372 \n",
    "\n",
    "def solution(n):\n",
    "    n_list = list(str(int(n)))\n",
    "    n_list.sort(reverse = True)\n",
    "    return int(\"\".join(n_list))"
   ]
  },
  {
   "cell_type": "markdown",
   "id": "6e33b7e9",
   "metadata": {},
   "source": [
    "### 5 하샤드 수 "
   ]
  },
  {
   "cell_type": "code",
   "execution_count": null,
   "id": "94c72ce8",
   "metadata": {},
   "outputs": [],
   "source": [
    "x = 18\n",
    "a = []\n",
    "xx = str(x)"
   ]
  },
  {
   "cell_type": "code",
   "execution_count": null,
   "id": "69f0f50a",
   "metadata": {},
   "outputs": [],
   "source": [
    "#양의 정수 x가 하샤드 수이려면 x의 자릿수의 합으로 x가 나누어져야 합니다. \n",
    "#예를 들어 18의 자릿수 합은 1+8=9이고, 18은 9로 나누어 떨어지므로 18은 하샤드 수입니다. 자연수 x를 입력받아 x가 하샤드 수인지 아닌지 검사하는 함수, solution을 완성해주세요.\n",
    "\n",
    "a = [] \n",
    "n_x = 0\n",
    "for i in xx :\n",
    "    a.append(i)\n",
    "    for j in range (1,len(xx)): \n",
    "        n_x += int(a[j-1])\n",
    "        a.pop(0)\n",
    "    "
   ]
  },
  {
   "cell_type": "code",
   "execution_count": null,
   "id": "e6587567",
   "metadata": {},
   "outputs": [],
   "source": [
    "## 오답 , 런타임 오류 \n",
    "def solution(x):\n",
    "    a = []\n",
    "    xx = str(x)\n",
    "    n_x = 0\n",
    "    for i in xx :\n",
    "        a.append(i)\n",
    "        for j in range (1,len(xx)): \n",
    "            n_x += int(a[j-1])\n",
    "            a.pop(0)\n",
    "        if x%n_x == 0 : \n",
    "            answer = True\n",
    "        else : \n",
    "            answer = False    \n",
    "    return answer\n",
    "        \n"
   ]
  },
  {
   "cell_type": "code",
   "execution_count": null,
   "id": "b1ad26c4",
   "metadata": {},
   "outputs": [],
   "source": [
    "# 정답 \n",
    "\n",
    "def solution(x):\n",
    "    arr = list(str(x))\n",
    "    sum_ = 0\n",
    "    \n",
    "    for i in range(len(arr)):\n",
    "        sum_ += int(arr[i])\n",
    "        if x % sum_ == 0:\n",
    "            answer = True\n",
    "        else:\n",
    "            answer = False    \n",
    "    \n",
    "    return answer"
   ]
  },
  {
   "cell_type": "markdown",
   "id": "bc7d0c11",
   "metadata": {},
   "source": [
    "### 6 두 정수 사이의 합 "
   ]
  },
  {
   "cell_type": "code",
   "execution_count": null,
   "id": "4a60deae",
   "metadata": {},
   "outputs": [],
   "source": [
    "#두 정수 a, b가 주어졌을 때 a와 b 사이에 속한 모든 정수의 합을 리턴하는 함수, solution을 완성하세요.\n",
    "\n",
    "a =9\n",
    "b =6 \n",
    "\n",
    "if a < b : \n",
    "    sum (range(a,b+1))\n",
    "else : \n",
    "    sum (range(b,a+1))\n"
   ]
  },
  {
   "cell_type": "code",
   "execution_count": null,
   "id": "e44160fe",
   "metadata": {},
   "outputs": [],
   "source": [
    "#문제풀이 \n",
    "def solution(a, b):\n",
    "    answer = 0\n",
    "    if a < b : \n",
    "        answer = sum (range(a,b+1))\n",
    "    else : \n",
    "        answer = sum (range(b,a+1))\n",
    "    return answer"
   ]
  },
  {
   "cell_type": "markdown",
   "id": "33a669cc",
   "metadata": {},
   "source": [
    "### 7 콜라츠 추측 "
   ]
  },
  {
   "cell_type": "code",
   "execution_count": null,
   "id": "6fd11a1f",
   "metadata": {},
   "outputs": [],
   "source": [
    "#1937년 Collatz란 사람에 의해 제기된 이 추측은, 주어진 수가 1이 될 때까지 다음 작업을 반복하면, 모든 수를 1로 만들 수 있다는 추측입니다. 작업은 다음과 같습니다.\n"
   ]
  },
  {
   "cell_type": "code",
   "execution_count": null,
   "id": "8ed528c9",
   "metadata": {},
   "outputs": [],
   "source": [
    "# 오답 \n",
    "n=16\n",
    "while True : \n",
    "    i +=1 \n",
    "    if n %2 == 0 : \n",
    "        n = n/2 \n",
    "    elif : \n",
    "        n = n*3+1\n",
    "    else n == 1 : \n",
    "        break \n",
    "        \n",
    "if n == 1 : \n",
    "    answer = 0 \n",
    "elif n != 1 and i <= 500 : \n",
    "    answer = -1 "
   ]
  },
  {
   "cell_type": "code",
   "execution_count": null,
   "id": "8e64a419",
   "metadata": {},
   "outputs": [],
   "source": [
    "def solution(n):\n",
    "    answer = 0\n",
    "    if n == 1 : \n",
    "        return answer \n",
    "\n",
    "    for i in range(0, 500) : \n",
    "        if n == 1 : \n",
    "            return i \n",
    "        if n %2 ==0 : \n",
    "            n = n/2\n",
    "            i += 1 \n",
    "        elif n %2 != 0: \n",
    "            n = n *3+1 \n",
    "            i += 1 \n",
    "    \n",
    "    if n !=1 and i >= 500 : \n",
    "        return -1   \n",
    "    return answer"
   ]
  },
  {
   "cell_type": "code",
   "execution_count": null,
   "id": "786343c0",
   "metadata": {},
   "outputs": [],
   "source": [
    "##정답 (다른 사람 풀이)\n",
    "def solution(num):\n",
    "    answer = 0\n",
    "    while num != 1:\n",
    "        if num % 2 == 0:\n",
    "            num /= 2\n",
    "        else:\n",
    "            num = num * 3 + 1\n",
    "        answer += 1\n",
    "        if answer == 500:\n",
    "            return -1\n",
    "    return answer"
   ]
  }
 ],
 "metadata": {
  "kernelspec": {
   "display_name": "Python 3 (ipykernel)",
   "language": "python",
   "name": "python3"
  },
  "language_info": {
   "codemirror_mode": {
    "name": "ipython",
    "version": 3
   },
   "file_extension": ".py",
   "mimetype": "text/x-python",
   "name": "python",
   "nbconvert_exporter": "python",
   "pygments_lexer": "ipython3",
   "version": "3.10.9"
  },
  "toc": {
   "base_numbering": 1,
   "nav_menu": {},
   "number_sections": true,
   "sideBar": true,
   "skip_h1_title": false,
   "title_cell": "Table of Contents",
   "title_sidebar": "Contents",
   "toc_cell": false,
   "toc_position": {},
   "toc_section_display": true,
   "toc_window_display": false
  }
 },
 "nbformat": 4,
 "nbformat_minor": 5
}
