{
 "cells": [
  {
   "cell_type": "markdown",
   "id": "e9014a30",
   "metadata": {},
   "source": [
    "### 1 서울에서 김서방 찾기 "
   ]
  },
  {
   "cell_type": "code",
   "execution_count": null,
   "id": "173ba39a",
   "metadata": {},
   "outputs": [],
   "source": [
    "#String형 배열 seoul의 element중 \"Kim\"의 위치 x를 찾아, \n",
    "#\"김서방은 x에 있다\"는 String을 반환하는 함수, solution을 완성하세요. \n",
    "#seoul에 \"Kim\"은 오직 한 번만 나타나며 잘못된 값이 입력되는 경우는 없습니다.\n",
    "\n",
    "def solution(seoul):\n",
    "    answer = ''\n",
    "    return answer\n"
   ]
  },
  {
   "cell_type": "code",
   "execution_count": null,
   "id": "a63caaf1",
   "metadata": {},
   "outputs": [],
   "source": [
    "seoul = [\"Jane\", \"Kim\"] \n",
    "answer_seoul = seoul.index('Kim')\n",
    "answer = \"김서방은\",answer_seoul,\"에 있다\"\n",
    "\n"
   ]
  },
  {
   "cell_type": "code",
   "execution_count": 1,
   "id": "42f2535c",
   "metadata": {},
   "outputs": [],
   "source": [
    "def solution(seoul):\n",
    "    answer_seoul = seoul.index('Kim')\n",
    "    answer = (f'김서방은 {answer_seoul}에 있다')\n",
    "\n",
    "    return answer"
   ]
  },
  {
   "cell_type": "markdown",
   "id": "148fa644",
   "metadata": {},
   "source": [
    "### 2 나누어 떨어지는 숫자 배열 "
   ]
  },
  {
   "cell_type": "code",
   "execution_count": null,
   "id": "2640a155",
   "metadata": {},
   "outputs": [],
   "source": [
    "#array의 각 element 중 divisor로 나누어 떨어지는 값을 오름차순으로 정렬한 배열을 반환하는 함수, solution을 작성해주세요.\n",
    "#divisor로 나누어 떨어지는 element가 하나도 없다면 배열에 -1을 담아 반환하세요.\n",
    "\n"
   ]
  },
  {
   "cell_type": "code",
   "execution_count": 8,
   "id": "3648c014",
   "metadata": {},
   "outputs": [],
   "source": [
    "arrary = [5, 9, 7, 10]\n",
    "divisor = 3 \n",
    "n_arrary = []\n",
    "for i in range(0,len(arrary)) :\n",
    "    a = arrary[i]\n",
    "    if a %divisor==0 : \n",
    "        answer = 0 \n",
    "    else : \n",
    "        n_arrary.append(a)\n",
    "        \n",
    "if len(n_arrary)== 0 : \n",
    "    answer = -1 "
   ]
  },
  {
   "cell_type": "code",
   "execution_count": 9,
   "id": "3727ad19",
   "metadata": {},
   "outputs": [],
   "source": [
    "#제출답안 \n",
    "def solution(arr, divisor):\n",
    "    answer = []\n",
    "    n_arr = []\n",
    "    for i in range(0,len(arr)) :\n",
    "        a = arr[i]\n",
    "        if a % divisor==0 : \n",
    "            answer.append(a) \n",
    "    answer.sort()\n",
    "    if len(answer)==0 : \n",
    "        answer.append(-1)\n",
    "    \n",
    "    return answer "
   ]
  },
  {
   "cell_type": "markdown",
   "id": "0dde34c0",
   "metadata": {},
   "source": [
    "### 3 핸드폰 번호 가리기 "
   ]
  },
  {
   "cell_type": "code",
   "execution_count": null,
   "id": "673a7ada",
   "metadata": {},
   "outputs": [],
   "source": [
    "#프로그래머스 모바일은 개인정보 보호를 위해 고지서를 보낼 때 고객들의 전화번호의 일부를 가립니다.\n",
    "#전화번호가 문자열 phone_number로 주어졌을 때, 전화번호의 뒷 4자리를 제외한 나머지 숫자를 전부 *으로 가린 문자열을 리턴하는 함수, solution을 완성해주세요.\n",
    "\n"
   ]
  },
  {
   "cell_type": "code",
   "execution_count": null,
   "id": "1f5bd6a4",
   "metadata": {},
   "outputs": [],
   "source": [
    "def solution(phone_number):\n",
    "    answer = ''\n",
    "    a=0 \n",
    "    D = []\n",
    "    N_pn = []\n",
    "    for i in reversed(phone_number): \n",
    "        N_pn.append(i)\n",
    "        if a > 3 : \n",
    "            del N_pn[4:]\n",
    "            D.append('*')\n",
    "        a +=1 \n",
    "    \n",
    "    aa = ''.join(reversed(N_pn))\n",
    "    bb = ''.join(D)\n",
    "    answer = bb+aa\n",
    "    return answer"
   ]
  },
  {
   "cell_type": "code",
   "execution_count": 13,
   "id": "0a14e439",
   "metadata": {},
   "outputs": [
    {
     "name": "stdout",
     "output_type": "stream",
     "text": [
      "결과 : *******4444\n"
     ]
    }
   ],
   "source": [
    "#답안 \n",
    "def hide_numbers(s):\n",
    "    if(len(s) < 5):\n",
    "        return s\n",
    "    else:\n",
    "        return '*' + hide_numbers(s[1:])\n",
    "    \n",
    "# 아래는 테스트로 출력해 보기 위한 코드입니다.\n",
    "print(\"결과 : \" + hide_numbers('01033334444'));"
   ]
  },
  {
   "cell_type": "markdown",
   "id": "8cc4f537",
   "metadata": {},
   "source": [
    "### 4 음양 더하기 "
   ]
  },
  {
   "cell_type": "markdown",
   "id": "1145e133",
   "metadata": {},
   "source": [
    "어떤 정수들이 있습니다. 이 정수들의 절댓값을 차례대로 담은 정수 배열 absolutes와 이 정수들의 부호를 차례대로 담은 불리언 배열 signs가 매개변수로 주어집니다. 실제 정수들의 합을 구하여 return 하도록 solution 함수를 완성해주세요."
   ]
  },
  {
   "cell_type": "code",
   "execution_count": 51,
   "id": "5f3269ea",
   "metadata": {},
   "outputs": [
    {
     "data": {
      "text/plain": [
       "9"
      ]
     },
     "execution_count": 51,
     "metadata": {},
     "output_type": "execute_result"
    }
   ],
   "source": [
    "#틀림 \n",
    "def solution(absolutes, signs):\n",
    "    true = '+'\n",
    "    false = '-'\n",
    "    absolutes = [] \n",
    "    signs = []\n",
    "    s_absolutes= list(map(str, absolutes))\n",
    "    t = []\n",
    "    tt = []\n",
    "    for i in range(0,len(absolutes)) : \n",
    "        t = signs[i] + s_absolutes[i]\n",
    "        tt.append(t)\n",
    "    d = sum(list(map(int, tt)))\n",
    "    return answer \n",
    "\n",
    "solution([4, 7, 12],[true, false, true])"
   ]
  },
  {
   "cell_type": "code",
   "execution_count": 70,
   "id": "38b294c8",
   "metadata": {},
   "outputs": [],
   "source": [
    "def solution(absolutes, signs):\n",
    "    answer = 0\n",
    "    for i in range(len(absolutes)):\n",
    "        # True 양수 =>+\n",
    "        if signs[i]:\n",
    "            answer += absolutes[i]\n",
    "        # False => 음수 => - \n",
    "        else:\n",
    "            answer -= absolutes[i]\n",
    "    return answer"
   ]
  },
  {
   "cell_type": "code",
   "execution_count": null,
   "id": "80dab63d",
   "metadata": {},
   "outputs": [],
   "source": []
  },
  {
   "cell_type": "markdown",
   "id": "7d7d9f9a",
   "metadata": {},
   "source": [
    "### 5 없는 숫자 더하기 "
   ]
  },
  {
   "cell_type": "markdown",
   "id": "e11194d8",
   "metadata": {},
   "source": [
    "0부터 9까지의 숫자 중 일부가 들어있는 정수 배열 numbers가 매개변수로 주어집니다. numbers에서 찾을 수 없는 0부터 9까지의 숫자를 모두 찾아 더한 수를 return 하도록 solution 함수를 완성해주세요."
   ]
  },
  {
   "cell_type": "code",
   "execution_count": 73,
   "id": "50eb33e9",
   "metadata": {
    "scrolled": true
   },
   "outputs": [],
   "source": [
    "numbers = [1,2,3,4,6,7,8,0]\n",
    "for i in range (0,10) : \n",
    "    if i not in numbers : \n",
    "        a += i \n"
   ]
  },
  {
   "cell_type": "code",
   "execution_count": 74,
   "id": "2ddc57bc",
   "metadata": {},
   "outputs": [],
   "source": [
    "#제출 \n",
    "def solution(numbers):\n",
    "    a = 0 \n",
    "    for i in range (0,10) : \n",
    "        if i not in numbers : \n",
    "            a += i \n",
    "    return a"
   ]
  },
  {
   "cell_type": "markdown",
   "id": "b44aa8c5",
   "metadata": {},
   "source": [
    "### 6 제일 작은 수 제거하기 "
   ]
  },
  {
   "cell_type": "markdown",
   "id": "4026b872",
   "metadata": {},
   "source": [
    "정수를 저장한 배열, arr 에서 가장 작은 수를 제거한 배열을 리턴하는 함수, solution을 완성해주세요. "
   ]
  },
  {
   "cell_type": "code",
   "execution_count": 75,
   "id": "fe03136f",
   "metadata": {},
   "outputs": [
    {
     "ename": "SyntaxError",
     "evalue": "'return' outside function (4073775307.py, line 7)",
     "output_type": "error",
     "traceback": [
      "\u001b[1;36m  Cell \u001b[1;32mIn[75], line 7\u001b[1;36m\u001b[0m\n\u001b[1;33m    return [-1]\u001b[0m\n\u001b[1;37m    ^\u001b[0m\n\u001b[1;31mSyntaxError\u001b[0m\u001b[1;31m:\u001b[0m 'return' outside function\n"
     ]
    }
   ],
   "source": [
    "#답안 참고함\n",
    "\n",
    "#가장 작은 수 지우기 \n",
    "if len(arr)>1 : \n",
    "    arr.remove(min(arr))\n",
    "else : \n",
    "    return [-1]\n",
    "\n",
    "#제거한 후 빈 배열이 생성 된다면 -1 넣기 "
   ]
  },
  {
   "cell_type": "code",
   "execution_count": 76,
   "id": "f87af1d7",
   "metadata": {},
   "outputs": [],
   "source": [
    "# 함수 사용이 어렵다 \n",
    "def solution(arr):\n",
    "    if len(arr)>1 : \n",
    "        arr.remove(min(arr))\n",
    "        return arr \n",
    "    else : \n",
    "        return [-1]"
   ]
  },
  {
   "cell_type": "markdown",
   "id": "278c0ff6",
   "metadata": {},
   "source": [
    "### 7 가운데 글자 가져오기 "
   ]
  },
  {
   "cell_type": "markdown",
   "id": "1002934d",
   "metadata": {},
   "source": [
    "단어 s의 가운데 글자를 반환하는 함수, solution을 만들어 보세요. 단어의 길이가 짝수라면 가운데 두글자를 반환하면 됩니다."
   ]
  },
  {
   "cell_type": "markdown",
   "id": "e2f38856",
   "metadata": {},
   "source": [
    "#단어 가운데 글자 반환 \n",
    "\n",
    "#길이 짝수 - 가운데 두글자 반환 \n",
    "#가운데 글자 선택하는 법 \n",
    "\n",
    "1. 짝수 홀수 분리 \n",
    "2. 짝수 -> 4 글자면 2,3 6글자면 3,4 (2로 나눈 값부터 +1까지) \n",
    "3. 홀수 -> 5 글자면 3, 7이면 4 -> 가운데 글자 : 글자수/2 +1 "
   ]
  },
  {
   "cell_type": "code",
   "execution_count": 88,
   "id": "1f7b3a41",
   "metadata": {},
   "outputs": [
    {
     "name": "stdout",
     "output_type": "stream",
     "text": [
      "bc\n"
     ]
    }
   ],
   "source": [
    "s = \"abce\"\n",
    "if len(s)%2==0 : \n",
    "    index_s = int(len(s)/2)\n",
    "    print (s[index_s-1:index_s+1])\n",
    "else : \n",
    "    index_s = int(len(s)/2)\n",
    "    print( s[index_s])\n",
    "    "
   ]
  },
  {
   "cell_type": "code",
   "execution_count": 89,
   "id": "6ad08636",
   "metadata": {},
   "outputs": [],
   "source": [
    "def solution(s):\n",
    "    if len(s)%2==0 : \n",
    "        index_s = int(len(s)/2)\n",
    "        return s[index_s-1:index_s+1]\n",
    "    else : \n",
    "        index_s = int(len(s)/2)\n",
    "        return s[index_s]"
   ]
  }
 ],
 "metadata": {
  "kernelspec": {
   "display_name": "Python 3 (ipykernel)",
   "language": "python",
   "name": "python3"
  },
  "language_info": {
   "codemirror_mode": {
    "name": "ipython",
    "version": 3
   },
   "file_extension": ".py",
   "mimetype": "text/x-python",
   "name": "python",
   "nbconvert_exporter": "python",
   "pygments_lexer": "ipython3",
   "version": "3.10.9"
  },
  "toc": {
   "base_numbering": 1,
   "nav_menu": {},
   "number_sections": true,
   "sideBar": true,
   "skip_h1_title": false,
   "title_cell": "Table of Contents",
   "title_sidebar": "Contents",
   "toc_cell": false,
   "toc_position": {},
   "toc_section_display": true,
   "toc_window_display": false
  }
 },
 "nbformat": 4,
 "nbformat_minor": 5
}
