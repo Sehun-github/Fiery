{
 "cells": [
  {
   "cell_type": "markdown",
   "id": "0cb93268",
   "metadata": {},
   "source": [
    "### 1 "
   ]
  },
  {
   "cell_type": "code",
   "execution_count": 20,
   "id": "baab2faf",
   "metadata": {
    "scrolled": true
   },
   "outputs": [
    {
     "data": {
      "text/plain": [
       "15"
      ]
     },
     "execution_count": 20,
     "metadata": {},
     "output_type": "execute_result"
    }
   ],
   "source": [
    "def solution(N):\n",
    "    answer = 0\n",
    "    for n in str(N): \n",
    "        answer += int(n) \n",
    "    return answer \n"
   ]
  },
  {
   "cell_type": "code",
   "execution_count": 9,
   "id": "016d3c39",
   "metadata": {
    "scrolled": true
   },
   "outputs": [
    {
     "name": "stdout",
     "output_type": "stream",
     "text": [
      "안\n",
      "녕\n",
      "하\n",
      "세\n",
      "요\n"
     ]
    }
   ],
   "source": [
    "for n in '안녕하세요' :\n",
    "    print(n)"
   ]
  },
  {
   "cell_type": "markdown",
   "id": "f9b94932",
   "metadata": {},
   "source": [
    "### 2 "
   ]
  },
  {
   "cell_type": "code",
   "execution_count": null,
   "id": "ce18b6f3",
   "metadata": {},
   "outputs": [],
   "source": [
    "#정수 n을 입력받아 n의 약수를 모두 더한 값을 리턴하는 함수, solution을 완성해주세요. \n",
    "def solution(n):\n",
    "    answer = 0\n",
    "    return answer"
   ]
  },
  {
   "cell_type": "code",
   "execution_count": 35,
   "id": "8f45763a",
   "metadata": {},
   "outputs": [
    {
     "data": {
      "text/plain": [
       "28"
      ]
     },
     "execution_count": 35,
     "metadata": {},
     "output_type": "execute_result"
    }
   ],
   "source": [
    "def solution(n):\n",
    "    answer = 0\n",
    "    a = 0 \n",
    "    for i in range (1 , n+1) : \n",
    "        if n % i == 0 : \n",
    "            a += i \n",
    "            answer = a \n",
    "    return answer \n",
    "\n",
    "solution (12)"
   ]
  },
  {
   "cell_type": "markdown",
   "id": "9d31e9cb",
   "metadata": {},
   "source": [
    "### 3 "
   ]
  },
  {
   "cell_type": "markdown",
   "id": "61ab490a",
   "metadata": {},
   "source": [
    "#정수 num이 짝수일 경우 \"Even\"을 반환하고 홀수인 경우 \"Odd\"를 반환하는 함수, solution을 완성해주세요. \n"
   ]
  },
  {
   "cell_type": "code",
   "execution_count": 37,
   "id": "caf6268d",
   "metadata": {},
   "outputs": [],
   "source": [
    "def solution(num):\n",
    "    answer = ''\n",
    "    if num % 2 == 0 : \n",
    "        answer = 'Even'\n",
    "\n",
    "    else :\n",
    "        answer = 'Odd'\n",
    "    return answer"
   ]
  },
  {
   "cell_type": "markdown",
   "id": "4d5b339a",
   "metadata": {},
   "source": [
    "### 4 나머지가 1이 되는 수 찾기 \n"
   ]
  },
  {
   "cell_type": "code",
   "execution_count": null,
   "id": "efd71b39",
   "metadata": {},
   "outputs": [],
   "source": [
    "#자연수 n이 매개변수로 주어집니다. \n",
    "#n을 x로 나눈 나머지가 1이 되도록 하는 가장 작은 자연수 x를 return 하도록 solution 함수를 완성해주세요. 답이 항상 존재함은 증명될 수 있습니다.\n",
    "#list에 x 값을 넣는다. \n"
   ]
  },
  {
   "cell_type": "code",
   "execution_count": 3,
   "id": "fbb73107",
   "metadata": {},
   "outputs": [
    {
     "name": "stdout",
     "output_type": "stream",
     "text": [
      "3\n"
     ]
    }
   ],
   "source": [
    "n = 100 \n",
    "x_list = [] \n",
    "for x in range (1, n+1) : \n",
    "    if n % x == 1 : \n",
    "        x_list.append(x) \n",
    "        a = min(x_list)\n",
    "print (a)"
   ]
  },
  {
   "cell_type": "code",
   "execution_count": 4,
   "id": "387bcef4",
   "metadata": {},
   "outputs": [],
   "source": [
    "#제출용 \n",
    "def solution(n):\n",
    "    answer = 0\n",
    "    x_list = [] \n",
    "    for x in range (1, n+1) : \n",
    "        if n % x == 1 : \n",
    "            x_list.append(x) \n",
    "            answer = min(x_list)\n",
    "    return answer"
   ]
  },
  {
   "cell_type": "markdown",
   "id": "3f120037",
   "metadata": {},
   "source": [
    "### 5 평균 구하기"
   ]
  },
  {
   "cell_type": "code",
   "execution_count": 7,
   "id": "149c3c8e",
   "metadata": {},
   "outputs": [
    {
     "data": {
      "text/plain": [
       "2.5"
      ]
     },
     "execution_count": 7,
     "metadata": {},
     "output_type": "execute_result"
    }
   ],
   "source": [
    "#정수를 담고 있는 배열 arr의 평균값을 return하는 함수, solution을 완성해보세요. \n",
    "arr = [1,2,3,4]\n",
    "sum(arr)/len(arr)\n"
   ]
  },
  {
   "cell_type": "code",
   "execution_count": 8,
   "id": "adf66f70",
   "metadata": {},
   "outputs": [],
   "source": [
    "#제출 \n",
    "def solution(arr):\n",
    "    answer = 0 \n",
    "    answer = sum(arr)/len(arr)\n",
    "    return answer"
   ]
  },
  {
   "cell_type": "markdown",
   "id": "9358665b",
   "metadata": {},
   "source": [
    "### 6 x만큼 간격이 있는 n개의 숫자 "
   ]
  },
  {
   "cell_type": "code",
   "execution_count": 23,
   "id": "8f63fbb8",
   "metadata": {},
   "outputs": [
    {
     "name": "stdout",
     "output_type": "stream",
     "text": [
      "[-4, -8]\n"
     ]
    }
   ],
   "source": [
    "#함수 solution은 정수 x와 자연수 n을 입력 받아, \n",
    "#x부터 시작해 x씩 증가하는 숫자를 n개 지니는 리스트를 리턴해야 합니다. \n",
    "#다음 제한 조건을 보고, 조건을 만족하는 함수, solution을 완성해주세요.\n",
    "\n",
    "x = -4\n",
    "n = 2\n",
    "\n",
    "#x 부터 시작 x 개씩 증가 \n",
    "x_list = []\n",
    "for i in range (1,n+1) : \n",
    "    dx = i*x \n",
    "    x_list.append(dx)\n",
    "    \n",
    "print (x_list)"
   ]
  },
  {
   "cell_type": "code",
   "execution_count": 24,
   "id": "b1db898b",
   "metadata": {},
   "outputs": [],
   "source": [
    "#답안 \n",
    "def solution(x, n):\n",
    "    answer = [] \n",
    "    for i in range (1,n+1) : \n",
    "        dx = i*x \n",
    "        answer.append(dx)\n",
    "    return answer"
   ]
  },
  {
   "cell_type": "markdown",
   "id": "a6150005",
   "metadata": {},
   "source": [
    "### 7 문자열 내 p와 y의 개수 "
   ]
  },
  {
   "cell_type": "markdown",
   "id": "370adbf3",
   "metadata": {},
   "source": [
    "대문자와 소문자가 섞여있는 문자열 s가 주어집니다. s에 'p'의 개수와 'y'의 개수를 비교해 같으면 True, 다르면 False를 return 하는 solution를 완성하세요. 'p', 'y' 모두 하나도 없는 경우는 항상 True를 리턴합니다. 단, 개수를 비교할 때 대문자와 소문자는 구별하지 않습니다.\n",
    "\n",
    "예를 들어 s가 \"pPoooyY\"면 true를 return하고 \"Pyy\"라면 false를 return합니다."
   ]
  },
  {
   "cell_type": "code",
   "execution_count": 45,
   "id": "4c1c0850",
   "metadata": {
    "scrolled": true
   },
   "outputs": [
    {
     "name": "stdout",
     "output_type": "stream",
     "text": [
      "['P']\n",
      "[]\n",
      "['P', 'P']\n",
      "[]\n",
      "['P', 'P']\n",
      "[]\n",
      "['P', 'P']\n",
      "[]\n",
      "['P', 'P']\n",
      "['Y']\n",
      "['P', 'P']\n",
      "['Y', 'Y']\n",
      "['P', 'P']\n",
      "['Y', 'Y', 'Y']\n",
      "False\n"
     ]
    }
   ],
   "source": [
    "s = 'PpooYyy'\n",
    "S = s.upper()\n",
    "\n",
    "p_list = [] \n",
    "Y_list = []\n",
    "for i in S : \n",
    "    if i == 'P' : \n",
    "        p_list.append(i)\n",
    "    elif i == 'Y' : \n",
    "        Y_list.append(i)\n",
    "    print (p_list)\n",
    "    print (Y_list)\n",
    "    \n",
    "if len(p_list) == len(Y_list) : \n",
    "    print ('True') \n",
    "else : \n",
    "    print ('False')"
   ]
  },
  {
   "cell_type": "code",
   "execution_count": 46,
   "id": "e2158eb3",
   "metadata": {},
   "outputs": [],
   "source": [
    "#문제풀이 \n",
    "def solution(s):\n",
    "    answer = True\n",
    "    S = s.upper()\n",
    "    p_list = [] \n",
    "    Y_list = []\n",
    "    for i in S : \n",
    "        if i == 'P' : \n",
    "            p_list.append(i)\n",
    "        elif i == 'Y' : \n",
    "            Y_list.append(i)\n",
    "            \n",
    "    if len(p_list) == len(Y_list) : \n",
    "        return True \n",
    "    else : \n",
    "        return False \n",
    "    "
   ]
  }
 ],
 "metadata": {
  "kernelspec": {
   "display_name": "Python 3 (ipykernel)",
   "language": "python",
   "name": "python3"
  },
  "language_info": {
   "codemirror_mode": {
    "name": "ipython",
    "version": 3
   },
   "file_extension": ".py",
   "mimetype": "text/x-python",
   "name": "python",
   "nbconvert_exporter": "python",
   "pygments_lexer": "ipython3",
   "version": "3.10.9"
  },
  "toc": {
   "base_numbering": 1,
   "nav_menu": {},
   "number_sections": true,
   "sideBar": true,
   "skip_h1_title": false,
   "title_cell": "Table of Contents",
   "title_sidebar": "Contents",
   "toc_cell": false,
   "toc_position": {},
   "toc_section_display": true,
   "toc_window_display": false
  }
 },
 "nbformat": 4,
 "nbformat_minor": 5
}
