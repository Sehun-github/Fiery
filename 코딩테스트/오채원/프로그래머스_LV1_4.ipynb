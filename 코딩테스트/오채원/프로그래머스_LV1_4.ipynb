{
 "cells": [
  {
   "cell_type": "markdown",
   "id": "7754407f",
   "metadata": {},
   "source": [
    "### 1 수박수박수박수박수박수? \n",
    "길이가 n이고, \"수박수박수박수....\"와 같은 패턴을 유지하는 문자열을 리턴하는 함수, solution을 완성하세요. 예를들어 n이 4이면 \"수박수박\"을 리턴하고 3이라면 \"수박수\"를 리턴하면 됩니다.\n"
   ]
  },
  {
   "cell_type": "code",
   "execution_count": 6,
   "id": "a209922b",
   "metadata": {},
   "outputs": [],
   "source": [
    "#제출 답안 \n",
    "def solution(n):\n",
    "    a = ''\n",
    "    b= ''\n",
    "    for i in range(1,n+1): \n",
    "        if i % 2 == 0: \n",
    "            a = '박'\n",
    "        else : \n",
    "            a = '수'\n",
    "        b += a \n",
    "    return b"
   ]
  },
  {
   "cell_type": "markdown",
   "id": "fbeece73",
   "metadata": {},
   "source": [
    "### 2 내적 \n",
    "길이가 같은 두 1차원 정수 배열 a, b가 매개변수로 주어집니다. a와 b의 내적을 return 하도록 solution 함수를 완성해주세요.\n",
    "\n",
    "이때, a와 b의 내적은 a[0]*b[0] + a[1]*b[1] + ... + a[n-1]*b[n-1] 입니다. (n은 a, b의 길이)"
   ]
  },
  {
   "cell_type": "code",
   "execution_count": 13,
   "id": "cf9a932d",
   "metadata": {
    "scrolled": true
   },
   "outputs": [
    {
     "data": {
      "text/plain": [
       "3"
      ]
     },
     "execution_count": 13,
     "metadata": {},
     "output_type": "execute_result"
    }
   ],
   "source": [
    "def solution(a, b):\n",
    "    t_list = []\n",
    "    for i in range(0,len(a)): \n",
    "        t = a[i]*b[i] \n",
    "        t_list.append(t)\n",
    "    answer= sum(t_list)\n",
    "    return answer\n",
    "\n",
    "solution([1,2,3,4],[-3,-1,0,2])"
   ]
  },
  {
   "cell_type": "markdown",
   "id": "996b9942",
   "metadata": {},
   "source": [
    "### 3 문자열 내림차순으로 배치하기\n",
    "문자열 s에 나타나는 문자를 큰것부터 작은 순으로 정렬해 새로운 문자열을 리턴하는 함수, solution을 완성해주세요.\n",
    "s는 영문 대소문자로만 구성되어 있으며, 대문자는 소문자보다 작은 것으로 간주합니다."
   ]
  },
  {
   "cell_type": "code",
   "execution_count": 14,
   "id": "0d0d5802",
   "metadata": {},
   "outputs": [],
   "source": [
    "def solution(s):\n",
    "    answer = ''\n",
    "    answer = ''.join(sorted(list(s),reverse = True))\n",
    "    return answer"
   ]
  },
  {
   "cell_type": "markdown",
   "id": "d2833382",
   "metadata": {},
   "source": [
    "### 4 약수의 개수와 덧셈 \n",
    "두 정수 left와 right가 매개변수로 주어집니다. left부터 right까지의 모든 수들 중에서, 약수의 개수가 짝수인 수는 더하고, 약수의 개수가 홀수인 수는 뺀 수를 return 하도록 solution 함수를 완성해주세요."
   ]
  },
  {
   "cell_type": "code",
   "execution_count": 15,
   "id": "6bab8b0c",
   "metadata": {},
   "outputs": [],
   "source": [
    "#약수의 개수 구하기 \n",
    "#1차 틀림 \n",
    "def solution(left, right):\n",
    "    a = 0\n",
    "    b = 0 \n",
    "    for n in range(left,right+1): \n",
    "        for i in range (1,n+1): \n",
    "            if n%i == 0 : \n",
    "                b +=1\n",
    "\n",
    "        if b % 2 == 0 : \n",
    "             a += b\n",
    "        else : \n",
    "            a -= b\n",
    "    return a "
   ]
  },
  {
   "cell_type": "code",
   "execution_count": 16,
   "id": "a0a6c0ed",
   "metadata": {},
   "outputs": [],
   "source": [
    "#문제 이해를 잘못함 \n",
    "def solution(left, right):\n",
    "    a = 0\n",
    "    for n in range(left,right+1): \n",
    "        b=0 #b의 위치 바꿈 \n",
    "        for i in range (1,n+1): \n",
    "            if n%i == 0 : \n",
    "                b +=1\n",
    "    #약수의 개수 x \n",
    "        if b % 2 == 0 : \n",
    "             a += i\n",
    "        else : \n",
    "            a -= i\n",
    "    return a "
   ]
  },
  {
   "cell_type": "markdown",
   "id": "82a5ff61",
   "metadata": {},
   "source": [
    "### 5 부족한 금액 계산하기 \n",
    "새로 생긴 놀이기구는 인기가 매우 많아 줄이 끊이질 않습니다. 이 놀이기구의 원래 이용료는 price원 인데, 놀이기구를 N 번 째 이용한다면 원래 이용료의 N배를 받기로 하였습니다. 즉, 처음 이용료가 100이었다면 2번째에는 200, 3번째에는 300으로 요금이 인상됩니다.\n",
    "놀이기구를 count번 타게 되면 현재 자신이 가지고 있는 금액에서 얼마가 모자라는지를 return 하도록 solution 함수를 완성하세요.\n",
    "단, 금액이 부족하지 않으면 0을 return 하세요."
   ]
  },
  {
   "cell_type": "code",
   "execution_count": 19,
   "id": "bc1a92b6",
   "metadata": {},
   "outputs": [],
   "source": [
    "#원가 -> price \n",
    "#N번째 -> price * N (count)\n",
    "def solution(price, money, count):\n",
    "    a = 0\n",
    "    for i in range(1,count+1): \n",
    "        a += price*i\n",
    "    result = money - (a)\n",
    "    if result > 0 : \n",
    "        return 0 \n",
    "    else : \n",
    "        return abs(result)\n",
    "\n"
   ]
  },
  {
   "cell_type": "markdown",
   "id": "841bc741",
   "metadata": {},
   "source": [
    "### 6 문자열 다루기 기본\n",
    "문자열 s의 길이가 4 혹은 6이고, 숫자로만 구성돼있는지 확인해주는 함수, solution을 완성하세요. 예를 들어 s가 \"a234\"이면 False를 리턴하고 \"1234\"라면 True를 리턴하면 됩니다.\n",
    "```python \n",
    " str.isdigit(s)\n",
    "```\n",
    "문자열이 있는지 확인 -> 모든 문자 숫자면 True / else False "
   ]
  },
  {
   "cell_type": "code",
   "execution_count": 18,
   "id": "ee6b788d",
   "metadata": {},
   "outputs": [
    {
     "data": {
      "text/plain": [
       "10"
      ]
     },
     "execution_count": 18,
     "metadata": {},
     "output_type": "execute_result"
    }
   ],
   "source": [
    "if len(s)==4 or len(s)==6 : \n",
    "    if str.isdigit(s):\n",
    "        True \n",
    "    else : \n",
    "        False \n",
    "else : \n",
    "    False \n",
    "    "
   ]
  },
  {
   "cell_type": "code",
   "execution_count": 21,
   "id": "16d13f33",
   "metadata": {},
   "outputs": [],
   "source": [
    "#제출 \n",
    "def solution(s):\n",
    "    if len(s)==4 or len(s)==6 : \n",
    "        if str.isdigit(s):\n",
    "            return True \n",
    "        else : \n",
    "            return False \n",
    "    else : \n",
    "        return False "
   ]
  },
  {
   "cell_type": "markdown",
   "id": "0bd10d4b",
   "metadata": {},
   "source": [
    "### 7 행렬의 덧셈 \n",
    "행렬의 덧셈은 행과 열의 크기가 같은 두 행렬의 같은 행, 같은 열의 값을 서로 더한 결과가 됩니다. 2개의 행렬 arr1과 arr2를 입력받아, 행렬 덧셈의 결과를 반환하는 함수, solution을 완성해주세요."
   ]
  },
  {
   "cell_type": "code",
   "execution_count": 30,
   "id": "587e4c6c",
   "metadata": {},
   "outputs": [],
   "source": [
    "arr1 = [[1,2],[2,3]]\n",
    "arr2 = [[3,4],[5,6]]\n",
    "for i in range(len(arr1)):\n",
    "    arr=[]\n",
    "    a = []\n",
    "    for j in range(len(arr1[0])) : \n",
    "                   arr_index = arr1[i][j]+arr2[i][j] \n",
    "                   arr.append(arr_index)\n",
    "    a.append(arr)\n",
    "                   "
   ]
  },
  {
   "cell_type": "code",
   "execution_count": 31,
   "id": "31657b7f",
   "metadata": {},
   "outputs": [],
   "source": [
    "def solution(arr1, arr2):\n",
    "    answer = []\n",
    "    \n",
    "    for i in range(len(arr1)):\n",
    "        arr=[]\n",
    "        for j in range(len(arr1[0])) : \n",
    "                       arr_index = arr1[i][j]+arr2[i][j] \n",
    "                       arr.append(arr_index)\n",
    "        answer.append(arr)\n",
    "                   \n",
    "    return answer"
   ]
  }
 ],
 "metadata": {
  "kernelspec": {
   "display_name": "Python 3 (ipykernel)",
   "language": "python",
   "name": "python3"
  },
  "language_info": {
   "codemirror_mode": {
    "name": "ipython",
    "version": 3
   },
   "file_extension": ".py",
   "mimetype": "text/x-python",
   "name": "python",
   "nbconvert_exporter": "python",
   "pygments_lexer": "ipython3",
   "version": "3.10.9"
  },
  "toc": {
   "base_numbering": 1,
   "nav_menu": {},
   "number_sections": true,
   "sideBar": true,
   "skip_h1_title": false,
   "title_cell": "Table of Contents",
   "title_sidebar": "Contents",
   "toc_cell": false,
   "toc_position": {},
   "toc_section_display": true,
   "toc_window_display": false
  }
 },
 "nbformat": 4,
 "nbformat_minor": 5
}
