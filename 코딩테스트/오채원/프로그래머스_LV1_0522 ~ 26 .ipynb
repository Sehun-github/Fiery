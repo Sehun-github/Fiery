{
 "cells": [
  {
   "cell_type": "markdown",
   "id": "ae59d9a0",
   "metadata": {},
   "source": [
    "### 직사각형 별찍기 (22)\n",
    "이 문제에는 표준 입력으로 두 개의 정수 n과 m이 주어집니다.\n",
    "별(*) 문자를 이용해 가로의 길이가 n, 세로의 길이가 m인 직사각형 형태를 출력해보세요."
   ]
  },
  {
   "cell_type": "code",
   "execution_count": 22,
   "id": "dbeeaa29",
   "metadata": {
    "scrolled": true
   },
   "outputs": [
    {
     "name": "stdout",
     "output_type": "stream",
     "text": [
      "*********\n",
      "*********\n",
      "*********\n",
      "*********\n",
      "*********\n",
      "*********\n",
      "*********\n",
      "*********\n",
      "*********\n",
      "*********\n"
     ]
    }
   ],
   "source": [
    "#두개의 정수 n 과 m \n",
    "#별 문자를 이용 \n",
    "n = 9\n",
    "m = 10\n",
    "for i in range (1,m+1): \n",
    "    print ('*'*n)"
   ]
  },
  {
   "cell_type": "code",
   "execution_count": 9,
   "id": "445bad5e",
   "metadata": {},
   "outputs": [
    {
     "name": "stdout",
     "output_type": "stream",
     "text": [
      "d\n"
     ]
    },
    {
     "ename": "ValueError",
     "evalue": "invalid literal for int() with base 10: 'd'",
     "output_type": "error",
     "traceback": [
      "\u001b[1;31m---------------------------------------------------------------------------\u001b[0m",
      "\u001b[1;31mValueError\u001b[0m                                Traceback (most recent call last)",
      "Cell \u001b[1;32mIn[9], line 2\u001b[0m\n\u001b[0;32m      1\u001b[0m \u001b[38;5;66;03m# 제출 \u001b[39;00m\n\u001b[1;32m----> 2\u001b[0m a, b \u001b[38;5;241m=\u001b[39m \u001b[38;5;28mmap\u001b[39m(\u001b[38;5;28mint\u001b[39m, \u001b[38;5;28minput\u001b[39m()\u001b[38;5;241m.\u001b[39mstrip()\u001b[38;5;241m.\u001b[39msplit(\u001b[38;5;124m'\u001b[39m\u001b[38;5;124m \u001b[39m\u001b[38;5;124m'\u001b[39m))\n\u001b[0;32m      3\u001b[0m \u001b[38;5;28;01mfor\u001b[39;00m i \u001b[38;5;129;01min\u001b[39;00m \u001b[38;5;28mrange\u001b[39m (\u001b[38;5;241m1\u001b[39m,b\u001b[38;5;241m+\u001b[39m\u001b[38;5;241m1\u001b[39m): \n\u001b[0;32m      4\u001b[0m     \u001b[38;5;28mprint\u001b[39m (\u001b[38;5;124m'\u001b[39m\u001b[38;5;124m*\u001b[39m\u001b[38;5;124m'\u001b[39m\u001b[38;5;241m*\u001b[39ma)\n",
      "\u001b[1;31mValueError\u001b[0m: invalid literal for int() with base 10: 'd'"
     ]
    }
   ],
   "source": [
    "# 제출 \n",
    "a, b = map(int, input().strip().split(' '))\n",
    "for i in range (1,b+1): \n",
    "    print ('*'*a)"
   ]
  },
  {
   "cell_type": "markdown",
   "id": "56551732",
   "metadata": {},
   "source": [
    "### 최대공약수와 최소공배수 \n",
    "두 수를 입력받아 두 수의 최대공약수와 최소공배수를 반환하는 함수, solution을 완성해 보세요. 배열의 맨 앞에 최대공약수, 그다음 최소공배수를 넣어 반환하면 됩니다. 예를 들어 두 수 3, 12의 최대공약수는 3, 최소공배수는 12이므로 solution(3, 12)는 [3, 12]를 반환해야 합니다."
   ]
  },
  {
   "cell_type": "code",
   "execution_count": 20,
   "id": "78d9f38e",
   "metadata": {},
   "outputs": [],
   "source": [
    "from math import prod\n",
    "m = 12\n",
    "n = 3\n",
    "num_max = []\n",
    "for i in range (min(n,m),0,-1): \n",
    "    if n % i== 0 and m % i == 0 : \n",
    "        num_max.append(i)\n",
    "        #break 달아야함 \n",
    "    \n",
    "for i in range (max(n,m),n*m+1): \n",
    "    if i % n == 0 and i % m == 0 : \n",
    "        num_max.append(i)\n",
    "        #break 달아야\n",
    "    "
   ]
  },
  {
   "cell_type": "code",
   "execution_count": 21,
   "id": "8a2dbf7a",
   "metadata": {},
   "outputs": [],
   "source": [
    "#제출 \n",
    "def solution(n, m):\n",
    "    num_max = []\n",
    "    for i in range (min(n,m),0,-1): \n",
    "        if n % i== 0 and m % i == 0 : \n",
    "            num_max.append(i)\n",
    "            break\n",
    "    for i in range (max(n,m),n*m+1): \n",
    "        if i % n == 0 and i % m == 0 : \n",
    "            num_max.append(i)\n",
    "            break\n",
    "    return num_max"
   ]
  },
  {
   "cell_type": "markdown",
   "id": "375b242c",
   "metadata": {},
   "source": [
    "### 같은 숫자는 싫어 \n",
    "배열 arr가 주어집니다. 배열 arr의 각 원소는 숫자 0부터 9까지로 이루어져 있습니다. 이때, 배열 arr에서 연속적으로 나타나는 숫자는 하나만 남기고 전부 제거하려고 합니다. 단, 제거된 후 남은 수들을 반환할 때는 <span style=\"background-color:#fff5b1\">배열 arr의 원소들의 순서를 유지</span>해야 합니다. 예를 들면,\n",
    "\n",
    "arr = [1, 1, 3, 3, 0, 1, 1] 이면 [1, 3, 0, 1] 을 return 합니다.\n",
    "arr = [4, 4, 4, 3, 3] 이면 [4, 3] 을 return 합니다.\n",
    "배열 arr에서 연속적으로 나타나는 숫자는 제거하고 남은 수들을 return 하는 solution 함수를 완성해 주세요. \n",
    "```python \n",
    "def solution(arr):\n",
    "    answer = []\n",
    "    # [실행] 버튼을 누르면 출력 값을 볼 수 있습니다.\n",
    "    print('Hello Python')\n",
    "    return answer\n",
    "```"
   ]
  },
  {
   "cell_type": "code",
   "execution_count": 32,
   "id": "14a16f04",
   "metadata": {
    "scrolled": true
   },
   "outputs": [
    {
     "ename": "NameError",
     "evalue": "name 'answer' is not defined",
     "output_type": "error",
     "traceback": [
      "\u001b[1;31m---------------------------------------------------------------------------\u001b[0m",
      "\u001b[1;31mNameError\u001b[0m                                 Traceback (most recent call last)",
      "Cell \u001b[1;32mIn[32], line 6\u001b[0m\n\u001b[0;32m      4\u001b[0m \u001b[38;5;28;01mif\u001b[39;00m arr[i] \u001b[38;5;241m!=\u001b[39m arr[i\u001b[38;5;241m-\u001b[39m\u001b[38;5;241m1\u001b[39m] :\n\u001b[0;32m      5\u001b[0m     a \u001b[38;5;241m=\u001b[39m arr[i\u001b[38;5;241m-\u001b[39m\u001b[38;5;241m1\u001b[39m]\n\u001b[1;32m----> 6\u001b[0m     \u001b[43manswer\u001b[49m\u001b[38;5;241m.\u001b[39mappend(a)\n",
      "\u001b[1;31mNameError\u001b[0m: name 'answer' is not defined"
     ]
    }
   ],
   "source": [
    "#리스트의 같은 원소들은 제거 \n",
    "arr = [1,2,3,4]\n",
    "for i in range(len(arr)) : \n",
    "    if arr[i] != arr[i-1] :\n",
    "        a = arr[i-1]\n",
    "        answer.append(a)"
   ]
  },
  {
   "cell_type": "code",
   "execution_count": 40,
   "id": "20f12679",
   "metadata": {
    "scrolled": true
   },
   "outputs": [
    {
     "data": {
      "text/plain": [
       "[1, 3, 0, 1]"
      ]
     },
     "execution_count": 40,
     "metadata": {},
     "output_type": "execute_result"
    }
   ],
   "source": [
    "#제출 답안 \n",
    "def solution(arr):\n",
    "    answer = []\n",
    "    for i in range(0, len(arr)) : \n",
    "        a = arr[i]\n",
    "        if i < 1 :\n",
    "            answer.append(a)\n",
    "        elif arr[i] != arr[i-1] :\n",
    "            answer.append(a)\n",
    "    return answer\n",
    "\n",
    "solution([1,1,3,3,0,1,1])"
   ]
  },
  {
   "cell_type": "code",
   "execution_count": 41,
   "id": "87e94409",
   "metadata": {},
   "outputs": [
    {
     "name": "stdout",
     "output_type": "stream",
     "text": [
      "['1', '3', '0', '3']\n"
     ]
    }
   ],
   "source": [
    "#다른사람 제출답안 \n",
    "def no_continuous(s):\n",
    "    a = []\n",
    "    for i in s:\n",
    "        if a[-1:] == [i]: continue\n",
    "        a.append(i)\n",
    "    return a\n",
    "\n",
    "print( no_continuous( \"133303\" ))\n"
   ]
  },
  {
   "cell_type": "markdown",
   "id": "fd8f2fb5",
   "metadata": {},
   "source": [
    "### 3진법 뒤집기 \n",
    "자연수 n이 매개변수로 주어집니다. n을 3진법 상에서 앞뒤로 뒤집은 후, 이를 다시 10진법으로 표현한 수를 return 하도록 solution 함수를 완성해주세요."
   ]
  },
  {
   "cell_type": "code",
   "execution_count": null,
   "id": "490f50f4",
   "metadata": {},
   "outputs": [],
   "source": [
    "n = 45\n",
    "num = str(n) \n",
    "num_a = []\n",
    "\n",
    "#3진법으로 만들기 \n",
    "while n/3 > 0 : \n",
    "    a = n%3 \n",
    "    num_a.append(a) \n",
    "    n = math.floor(n/3)\n",
    "\n"
   ]
  },
  {
   "cell_type": "code",
   "execution_count": 9,
   "id": "3fe14cf7",
   "metadata": {},
   "outputs": [],
   "source": [
    "import math \n",
    "def solution(n):\n",
    "    answer = 0 \n",
    "    num_a = []\n",
    "\n",
    "    while n/3 > 0 : \n",
    "        a = n%3 \n",
    "        a = str(a)\n",
    "        num_a.append(a) \n",
    "        n = math.floor(n/3)\n",
    "    num = ''.join(num_a)\n",
    "    \n",
    "    answer = int(num,3) \n",
    "    \n",
    "    return answer\n",
    "    "
   ]
  },
  {
   "cell_type": "code",
   "execution_count": 10,
   "id": "c6064f66",
   "metadata": {},
   "outputs": [],
   "source": [
    "#다른 사람 풀이 \n",
    "def solution(n):\n",
    "    tmp = ''\n",
    "    while n:\n",
    "        tmp += str(n % 3)\n",
    "        n = n // 3\n",
    "\n",
    "    answer = int(tmp, 3)\n",
    "    return answer"
   ]
  },
  {
   "cell_type": "markdown",
   "id": "d786bf59",
   "metadata": {},
   "source": [
    "### 이상한 문자 만들기 \n",
    "문자열 s는 한 개 이상의 단어로 구성되어 있습니다. 각 단어는 하나 이상의 공백문자로 구분되어 있습니다. 각 단어의 짝수번째 알파벳은 대문자로, 홀수번째 알파벳은 소문자로 바꾼 문자열을 리턴하는 함수, solution을 완성하세요. \n",
    "</br>\n",
    "<제한사항>\n",
    "1. 문자열 전체의 짝/홀수 인덱스가 아니라, 단어(공백을 기준)별로 짝/홀수 인덱스를 판단해야합니다.\n",
    "2. 첫 번째 글자는 0번째 인덱스로 보아 짝수번째 알파벳으로 처리해야 합니다."
   ]
  },
  {
   "cell_type": "code",
   "execution_count": 12,
   "id": "b1ad275d",
   "metadata": {},
   "outputs": [],
   "source": [
    "#단어 분리 \n",
    "#실패 \n",
    "def solution(s):\n",
    "    answer = ''\n",
    "    s_list = s.split()\n",
    "    word_list = []\n",
    "    b = 0 \n",
    "    for i in s_list : \n",
    "        a = 1 \n",
    "        b +=1 \n",
    "        for j in i: \n",
    "            a += 1\n",
    "            if a % 2 == 0 : \n",
    "                j = j.upper()\n",
    "            word_list.append(j)\n",
    "        if b == 1 : \n",
    "            c = ''.join(word_list)\n",
    "            print (c,end='')\n",
    "        b -=1 \n",
    "        \n",
    "    return c "
   ]
  },
  {
   "cell_type": "code",
   "execution_count": 13,
   "id": "b252af2c",
   "metadata": {},
   "outputs": [],
   "source": [
    "#참고 -> 틀림 \n",
    "def solution(s):\n",
    "    answer = ''\n",
    "    s_list = s.split(' ')  #s.split()는 기준점이 명확하기 않을 수 있으므로 ' '으로 적는게 좋다. \n",
    "    for i in s_list : \n",
    "        for j in range(len(i)): \n",
    "            if j % 2 == 0 : \n",
    "                answer += i[j].upper() \n",
    "            else : \n",
    "                answer += i[j].lower()\n",
    "        answer += ' '\n",
    "    return answer [:-1]"
   ]
  },
  {
   "cell_type": "markdown",
   "id": "f8c24c7a",
   "metadata": {},
   "source": [
    "### 예산 (23)\n",
    "S사에서는 각 부서에 필요한 물품을 지원해 주기 위해 부서별로 물품을 구매하는데 필요한 금액을 조사했습니다. 그러나, 전체 예산이 정해져 있기 때문에 모든 부서의 물품을 구매해 줄 수는 없습니다. 그래서 최대한 많은 부서의 물품을 구매해 줄 수 있도록 하려고 합니다.\n",
    "\n",
    "물품을 구매해 줄 때는 각 부서가 신청한 금액만큼을 모두 지원해 줘야 합니다. 예를 들어 1,000원을 신청한 부서에는 정확히 1,000원을 지원해야 하며, 1,000원보다 적은 금액을 지원해 줄 수는 없습니다.\n",
    "\n",
    "부서별로 신청한 금액이 들어있는 배열 d와 예산 budget이 매개변수로 주어질 때, 최대 몇 개의 부서에 물품을 지원할 수 있는지 return 하도록 solution 함수를 완성해주세요."
   ]
  },
  {
   "cell_type": "code",
   "execution_count": null,
   "id": "2e2c7024",
   "metadata": {},
   "outputs": [],
   "source": [
    "#부서별로 물품을 나눠주고자함\n",
    "def solution(d, budget):\n",
    "    if sum(d) <= budget : \n",
    "        return len(d)\n",
    "    elif sum(d) > budget:\n",
    "        d_mix = d.sort()\n",
    "        a = 0\n",
    "        for i in d_mix : \n",
    "            budget = budget - i \n",
    "            a += 1 \n",
    "            if budget < 0 : \n",
    "                break \n",
    "        return a \n",
    "    \n",
    "solution ([1,3,2,5,4],9)"
   ]
  },
  {
   "cell_type": "code",
   "execution_count": 18,
   "id": "09dbca4c",
   "metadata": {},
   "outputs": [],
   "source": [
    "#문제풀이 \n",
    "\n",
    "def solution(d, budget):  \n",
    "    if sum(d) > budget:\n",
    "        d.sort()\n",
    "        a = 0\n",
    "        for i in d : \n",
    "            budget = budget - i ##budget -= i  \n",
    "            if budget < 0 : \n",
    "                break \n",
    "            a +=1 \n",
    "        return a \n",
    "    else : \n",
    "        return len(d)"
   ]
  },
  {
   "cell_type": "code",
   "execution_count": 19,
   "id": "e2856114",
   "metadata": {},
   "outputs": [],
   "source": [
    "#수정 \n",
    "def solution(d, budget) : \n",
    "    d.sort()\n",
    "    a = 0 \n",
    "    for i in d : \n",
    "        budget -= i \n",
    "        if budget < 0 : \n",
    "            break \n",
    "        a += 1\n",
    "    return a "
   ]
  },
  {
   "cell_type": "markdown",
   "id": "f767ff6c",
   "metadata": {},
   "source": [
    "### 시저 암호 \n",
    "어떤 문장의 각 알파벳을 일정한 거리만큼 밀어서 다른 알파벳으로 바꾸는 암호화 방식을 시저 암호라고 합니다. 예를 들어 \"AB\"는 1만큼 밀면 \"BC\"가 되고, 3만큼 밀면 \"DE\"가 됩니다. \"z\"는 1만큼 밀면 \"a\"가 됩니다. 문자열 s와 거리 n을 입력받아 s를 n만큼 민 암호문을 만드는 함수, solution을 완성해 보세요."
   ]
  },
  {
   "cell_type": "code",
   "execution_count": null,
   "id": "54a4abfc",
   "metadata": {},
   "outputs": [],
   "source": [
    "a = 'abcdefghizklmnopqrstuwxyz'\n",
    "b = a.upper()\n",
    "    \n",
    "for i in s : \n",
    "    if i in a : \n",
    "        code = a.find(i)+n \n",
    "    elif i in b : \n",
    "        code = b.find(i)+n \n",
    "    else : \n",
    "        answer += \" \"\n"
   ]
  },
  {
   "cell_type": "code",
   "execution_count": 20,
   "id": "fa9fc5d6",
   "metadata": {},
   "outputs": [],
   "source": [
    "def solution(s, n):\n",
    "    answer = ''\n",
    "    a = 'abcdefghijklmnopqrstuvwxyz'\n",
    "    b = a.upper()\n",
    "    \n",
    "    for i in s : \n",
    "        if i in a : \n",
    "            code = a.find(i)+n \n",
    "            answer += a[code%26]\n",
    "        elif i in b : \n",
    "            code = b.find(i)+n \n",
    "            answer += b[code%26]\n",
    "        else : \n",
    "            answer += \" \"\n",
    "\n",
    "    return answer"
   ]
  },
  {
   "cell_type": "code",
   "execution_count": 21,
   "id": "e7625a44",
   "metadata": {},
   "outputs": [],
   "source": [
    "#다른사람풀이 \n",
    "#아스키코드 사용 (chr(), rod())\n",
    "def solution (s, n):\n",
    "    s = list(s)\n",
    "    for i in range(len(s)):\n",
    "        if s[i].isupper():\n",
    "            s[i]=chr((ord(s[i])-ord('A')+ n)%26+ord('A'))\n",
    "        elif s[i].islower():\n",
    "            s[i]=chr((ord(s[i])-ord('a')+ n)%26+ord('a'))\n",
    "\n",
    "    return \"\".join(s)"
   ]
  },
  {
   "cell_type": "markdown",
   "id": "f14d2077",
   "metadata": {},
   "source": [
    "### 삼총사 \n",
    "한국중학교에 다니는 학생들은 각자 정수 번호를 갖고 있습니다. 이 학교 학생 3명의 정수 번호를 더했을 때 0이 되면 3명의 학생은 삼총사라고 합니다. 예를 들어, 5명의 학생이 있고, 각각의 정수 번호가 순서대로 -2, 3, 0, 2, -5일 때, 첫 번째, 세 번째, 네 번째 학생의 정수 번호를 더하면 0이므로 세 학생은 삼총사입니다. 또한, 두 번째, 네 번째, 다섯 번째 학생의 정수 번호를 더해도 0이므로 세 학생도 삼총사입니다. 따라서 이 경우 한국중학교에서는 두 가지 방법으로 삼총사를 만들 수 있습니다.\n",
    "\n",
    "한국중학교 학생들의 번호를 나타내는 정수 배열 number가 매개변수로 주어질 때, 학생들 중 삼총사를 만들 수 있는 방법의 수를 return 하도록 solution 함수를 완성하세요."
   ]
  },
  {
   "cell_type": "code",
   "execution_count": 94,
   "id": "c7567d2c",
   "metadata": {
    "scrolled": true
   },
   "outputs": [
    {
     "data": {
      "text/plain": [
       "2"
      ]
     },
     "execution_count": 94,
     "metadata": {},
     "output_type": "execute_result"
    }
   ],
   "source": [
    "number = [-2, 3, 0, 2, -5]\n",
    "a = 0\n",
    "\n",
    "for i in range(len(number)) : \n",
    "    for j in range(i+1, len(number)) : \n",
    "        for t in range(j+1, len(number)) : \n",
    "            if number[i]+number[j]+number[t] == 0 : \n",
    "                a += 1 \n",
    "a"
   ]
  },
  {
   "cell_type": "code",
   "execution_count": 96,
   "id": "9a083a2d",
   "metadata": {},
   "outputs": [],
   "source": [
    "#다른 사람 풀이 \n",
    "#combinations tool 이용\n",
    "def solution (number) :\n",
    "    from itertools import combinations\n",
    "    cnt = 0\n",
    "    for i in combinations(number,3) :\n",
    "        if sum(i) == 0 :\n",
    "            cnt += 1\n",
    "    return cnt"
   ]
  },
  {
   "cell_type": "markdown",
   "id": "06fd82d2",
   "metadata": {},
   "source": [
    "### 최소직사각형 \n",
    "명함 지갑을 만드는 회사에서 지갑의 크기를 정하려고 합니다. 다양한 모양과 크기의 명함들을 모두 수납할 수 있으면서, 작아서 들고 다니기 편한 지갑을 만들어야 합니다. 이러한 요건을 만족하는 지갑을 만들기 위해 디자인팀은 모든 명함의 가로 길이와 세로 길이를 조사했습니다.\n",
    "\n",
    "아래 표는 4가지 명함의 가로 길이와 세로 길이를 나타냅니다.\n",
    "\n",
    "|명함 번호 |가로 길이 | 세로 길이|\n",
    "|---|---|---|\n",
    "|1\t|60 | 50| <br>\n",
    "|2\t|30\t| 70| <br>\n",
    "|3\t|60\t| 30| <br>\n",
    "|4\t|80\t| 40| <br>\n",
    "\n",
    "가장 긴 가로 길이와 세로 길이가 각각 80, 70이기 때문에 80(가로) x 70(세로) 크기의 지갑을 만들면 모든 명함들을 수납할 수 있습니다. 하지만 2번 명함을 가로로 눕혀 수납한다면 80(가로) x 50(세로) 크기의 지갑으로 모든 명함들을 수납할 수 있습니다. 이때의 지갑 크기는 4000(=80 x 50)입니다.\n",
    "\n",
    "모든 명함의 가로 길이와 세로 길이를 나타내는 2차원 배열 sizes가 매개변수로 주어집니다. 모든 명함을 수납할 수 있는 가장 작은 지갑을 만들 때, 지갑의 크기를 return 하도록 solution 함수를 완성해주세요."
   ]
  },
  {
   "cell_type": "code",
   "execution_count": 109,
   "id": "edf19ef9",
   "metadata": {},
   "outputs": [
    {
     "data": {
      "text/plain": [
       "4000"
      ]
     },
     "execution_count": 109,
     "metadata": {},
     "output_type": "execute_result"
    }
   ],
   "source": [
    "sizes = [[60, 50], [30, 70], [60, 30], [80, 40]]\n",
    "a = [] \n",
    "b = []\n",
    "for i in sizes: \n",
    "    i.sort()\n",
    "    a.append(i[0])\n",
    "    b.append(i[1])\n",
    "max(a)*max(b)"
   ]
  },
  {
   "cell_type": "code",
   "execution_count": 107,
   "id": "f65598cd",
   "metadata": {},
   "outputs": [],
   "source": [
    "#제출답안 \n",
    "def solution(sizes):\n",
    "    a = [] \n",
    "    b = []\n",
    "    for i in sizes: \n",
    "        i.sort()\n",
    "        a.append(i[0])\n",
    "        b.append(i[1])\n",
    "    return max(a)*max(b)"
   ]
  },
  {
   "cell_type": "code",
   "execution_count": 108,
   "id": "f49fa7fd",
   "metadata": {},
   "outputs": [],
   "source": [
    "#다른 사람 풀이\n",
    "def solution(sizes):\n",
    "    return max(max(x) for x in sizes) * max(min(x) for x in sizes)"
   ]
  },
  {
   "cell_type": "markdown",
   "id": "aa05d69e",
   "metadata": {},
   "source": [
    "### 크기가 작은 부분 문자열 (다시하기) \n",
    "숫자로 이루어진 문자열 t와 p가 주어질 때, t에서 p와 길이가 같은 부분문자열 중에서, 이 부분문자열이 나타내는 수가 p가 나타내는 수보다 작거나 같은 것이 나오는 횟수를 return하는 함수 solution을 완성하세요.\n",
    "\n",
    "예를 들어, t=\"3141592\"이고 p=\"271\" 인 경우, t의 길이가 3인 부분 문자열은 314, 141, 415, 159, 592입니다. 이 문자열이 나타내는 수 중 271보다 작거나 같은 수는 141, 159 2개 입니다."
   ]
  },
  {
   "cell_type": "code",
   "execution_count": 165,
   "id": "fc6c237f",
   "metadata": {},
   "outputs": [
    {
     "name": "stdout",
     "output_type": "stream",
     "text": [
      "64\n"
     ]
    }
   ],
   "source": [
    "#t의 길이는 p보다 작다 \n",
    "#t의 문자열에서 p의 문자열을 골라 \n",
    "#if int (t부분문자열) <= int(p) : a+=1 \n",
    "#t에서 한개씩 단어를 뺀 for문 만들기 \n",
    "t=\"500220839878\"\n",
    "p='7'\n",
    "t_list = []\n",
    "a = 0\n",
    "for i in t : \n",
    "    tt = t\n",
    "    for j in tt : \n",
    "        t_num = t[0:len(p)]\n",
    "        if t_num in t_list : \n",
    "            a+= 0 \n",
    "        else : \n",
    "            t_list.append(t_num)\n",
    "            tt = t[len(p):]\n",
    "    t = t[1:] \n",
    "for k in t_list : \n",
    "    if len(k)==len(p) and int(k) <= int(p) : \n",
    "        a+=1 \n",
    "print(t_list)"
   ]
  },
  {
   "cell_type": "code",
   "execution_count": 169,
   "id": "ad2656b4",
   "metadata": {},
   "outputs": [],
   "source": [
    "#다른 사람 풀이 \n",
    "def solution(t, p):\n",
    "    answer = 0\n",
    "    pp = len(p)\n",
    "    tt = len(t)\n",
    "    p = int(p)\n",
    "    for i in range(0,tt+1-pp):\n",
    "        if int(t[i:i+pp]) <= p:\n",
    "            answer+=1\n",
    "    return answer\n"
   ]
  },
  {
   "cell_type": "markdown",
   "id": "5a764ab8",
   "metadata": {},
   "source": [
    "### [1차] 비밀지도 (24)\n",
    "네오는 평소 프로도가 비상금을 숨겨놓는 장소를 알려줄 비밀지도를 손에 넣었다. 그런데 이 비밀지도는 숫자로 암호화되어 있어 위치를 확인하기 위해서는 암호를 해독해야 한다. 다행히 지도 암호를 해독할 방법을 적어놓은 메모도 함께 발견했다.\n",
    "\n",
    "지도는 한 변의 길이가 n인 정사각형 배열 형태로, 각 칸은 \"공백\"(\" \") 또는 \"벽\"(\"#\") 두 종류로 이루어져 있다.\n",
    "전체 지도는 두 장의 지도를 겹쳐서 얻을 수 있다. 각각 \"지도 1\"과 \"지도 2\"라고 하자. 지도 1 또는 지도 2 중 어느 하나라도 벽인 부분은 전체 지도에서도 벽이다. 지도 1과 지도 2에서 모두 공백인 부분은 전체 지도에서도 공백이다.\n",
    "\"지도 1\"과 \"지도 2\"는 각각 정수 배열로 암호화되어 있다.\n",
    "암호화된 배열은 지도의 각 가로줄에서 벽 부분을 1, 공백 부분을 0으로 부호화했을 때 얻어지는 이진수에 해당하는 값의 배열이다."
   ]
  },
  {
   "cell_type": "code",
   "execution_count": 14,
   "id": "ba7d9bcd",
   "metadata": {
    "scrolled": false
   },
   "outputs": [],
   "source": [
    "#배열 입력받기 \n",
    "#arr1, arr2 -> 2진수로 변환 -> 문자열로 변환 \n",
    "arr1_2 = []\n",
    "arr2_2 = []\n",
    "n=0\n",
    "\n",
    "for i in range(0,n) : \n",
    "    arr1_1.append(str(bin(arr1[i])[2:]))\n",
    "    arr2_2.append(str(bin(arr2[i])[2:]))\n",
    "    \n"
   ]
  },
  {
   "cell_type": "code",
   "execution_count": 9,
   "id": "f70630f0",
   "metadata": {},
   "outputs": [],
   "source": [
    "def solution(n,arr1,arr2): \n",
    "    answer = []\n",
    "    arr1_1 = [] \n",
    "    arr2_1 = [] \n",
    "    for i in range(n): \n",
    "        arr1_1.append(str(bin(arr1[i])[2:]))\n",
    "        arr2_1.append(str(bin(arr2[i])[2:]))\n",
    "        #0이 지워지는 오류 해결을 위해 str'0'을 직접 추가하는 과정\n",
    "        arr1_1[i] = ('0' * (n-len(arr1_1[i]))) + arr1_1[i]\n",
    "        arr2_1[i] = ('0' * (n-len(arr2_1[i]))) + arr2_1[i]\n",
    "    \n",
    "        tmp = ''\n",
    "        for p in range(n):\n",
    "            if arr1_1[i][p] == '1' or arr2_1[i][p] == '1':\n",
    "                tmp += '#'\n",
    "            elif arr1_1[i][p] == '0' and arr2_1[i][p] == '0':\n",
    "                tmp += ' '\n",
    "        answer.append(tmp)\n",
    "        \n",
    "    return answer"
   ]
  },
  {
   "cell_type": "code",
   "execution_count": 11,
   "id": "e1e027d0",
   "metadata": {},
   "outputs": [],
   "source": [
    "#다른풀이\n",
    "\n",
    "def solution(n, arr1, arr2):\n",
    "    answer = [\"#\"]*n\n",
    "    for i in range(0, n):\n",
    "        answer[i] = str(bin(arr1[i]|arr2[i]))[2:]\n",
    "        answer[i] = re.sub('1', '#', '0'*(n-len(answer[i]))+answer[i])\n",
    "        answer[i] = re.sub('0', ' ', answer[i])\n",
    "    return answer\n"
   ]
  },
  {
   "cell_type": "markdown",
   "id": "f0e81a5e",
   "metadata": {},
   "source": [
    "### 숫자 문자열과 영단어\n",
    "네오와 프로도가 숫자놀이를 하고 있습니다. 네오가 프로도에게 숫자를 건넬 때 일부 자릿수를 영단어로 바꾼 카드를 건네주면 프로도는 원래 숫자를 찾는 게임입니다.\n",
    "\n",
    "다음은 숫자의 일부 자릿수를 영단어로 바꾸는 예시입니다.\n",
    "\n",
    "1478 → \"one4seveneight\"\n",
    "234567 → \"23four5six7\"\n",
    "10203 → \"1zerotwozero3\"\n",
    "이렇게 숫자의 일부 자릿수가 영단어로 바뀌어졌거나, 혹은 바뀌지 않고 그대로인 문자열 s가 매개변수로 주어집니다. s가 의미하는 원래 숫자를 return 하도록 solution 함수를 완성해주세요."
   ]
  },
  {
   "cell_type": "code",
   "execution_count": 15,
   "id": "131a8591",
   "metadata": {},
   "outputs": [
    {
     "ename": "NameError",
     "evalue": "name 's' is not defined",
     "output_type": "error",
     "traceback": [
      "\u001b[1;31m---------------------------------------------------------------------------\u001b[0m",
      "\u001b[1;31mNameError\u001b[0m                                 Traceback (most recent call last)",
      "Cell \u001b[1;32mIn[15], line 4\u001b[0m\n\u001b[0;32m      2\u001b[0m a \u001b[38;5;241m=\u001b[39m {\u001b[38;5;124m'\u001b[39m\u001b[38;5;124mzero\u001b[39m\u001b[38;5;124m'\u001b[39m : \u001b[38;5;124m'\u001b[39m\u001b[38;5;124m0\u001b[39m\u001b[38;5;124m'\u001b[39m, \u001b[38;5;124m'\u001b[39m\u001b[38;5;124mone\u001b[39m\u001b[38;5;124m'\u001b[39m:\u001b[38;5;124m'\u001b[39m\u001b[38;5;124m1\u001b[39m\u001b[38;5;124m'\u001b[39m, \u001b[38;5;124m'\u001b[39m\u001b[38;5;124mtwo\u001b[39m\u001b[38;5;124m'\u001b[39m:\u001b[38;5;124m'\u001b[39m\u001b[38;5;124m2\u001b[39m\u001b[38;5;124m'\u001b[39m, \u001b[38;5;124m'\u001b[39m\u001b[38;5;124mthree\u001b[39m\u001b[38;5;124m'\u001b[39m :\u001b[38;5;124m'\u001b[39m\u001b[38;5;124m3\u001b[39m\u001b[38;5;124m'\u001b[39m, \u001b[38;5;124m'\u001b[39m\u001b[38;5;124mfour\u001b[39m\u001b[38;5;124m'\u001b[39m:\u001b[38;5;124m'\u001b[39m\u001b[38;5;124m4\u001b[39m\u001b[38;5;124m'\u001b[39m, \u001b[38;5;124m'\u001b[39m\u001b[38;5;124mfive\u001b[39m\u001b[38;5;124m'\u001b[39m: \u001b[38;5;124m'\u001b[39m\u001b[38;5;124m5\u001b[39m\u001b[38;5;124m'\u001b[39m, \u001b[38;5;124m'\u001b[39m\u001b[38;5;124msix\u001b[39m\u001b[38;5;124m'\u001b[39m:\u001b[38;5;124m'\u001b[39m\u001b[38;5;124m6\u001b[39m\u001b[38;5;124m'\u001b[39m, \u001b[38;5;124m'\u001b[39m\u001b[38;5;124mseven\u001b[39m\u001b[38;5;124m'\u001b[39m:\u001b[38;5;124m'\u001b[39m\u001b[38;5;124m7\u001b[39m\u001b[38;5;124m'\u001b[39m, \u001b[38;5;124m'\u001b[39m\u001b[38;5;124meight\u001b[39m\u001b[38;5;124m'\u001b[39m:\u001b[38;5;124m'\u001b[39m\u001b[38;5;124m8\u001b[39m\u001b[38;5;124m'\u001b[39m, \u001b[38;5;124m'\u001b[39m\u001b[38;5;124mnine\u001b[39m\u001b[38;5;124m'\u001b[39m:\u001b[38;5;124m'\u001b[39m\u001b[38;5;124m9\u001b[39m\u001b[38;5;124m'\u001b[39m }\n\u001b[0;32m      3\u001b[0m \u001b[38;5;28;01mfor\u001b[39;00m key \u001b[38;5;129;01min\u001b[39;00m a : \n\u001b[1;32m----> 4\u001b[0m     answer \u001b[38;5;241m=\u001b[39m \u001b[43ms\u001b[49m\u001b[38;5;241m.\u001b[39mreplace(key,a[value])\n",
      "\u001b[1;31mNameError\u001b[0m: name 's' is not defined"
     ]
    }
   ],
   "source": [
    "#dic 이용 \n",
    "a = {'zero' : '0', 'one':'1', 'two':'2', 'three' :'3', 'four':'4', 'five': '5', 'six':'6', 'seven':'7', 'eight':'8', 'nine':'9' }\n",
    "for key in a : \n",
    "    s = s.replace(key,a[value])\n",
    "    #key를 key의 값으로 변환해준다. \n",
    "    "
   ]
  },
  {
   "cell_type": "code",
   "execution_count": 16,
   "id": "c598826c",
   "metadata": {},
   "outputs": [],
   "source": [
    "#문제풀이 \n",
    "def solution(s):\n",
    "    answer = 0\n",
    "    #dic 이용 \n",
    "    a = {'zero' : '0', 'one':'1', 'two':'2', 'three' :'3', 'four':'4', 'five': '5', 'six':'6', 'seven':'7', 'eight':'8', 'nine':'9' }\n",
    "    for key in a : \n",
    "        s = s.replace (key,a[key])\n",
    "    return int(s)"
   ]
  },
  {
   "cell_type": "code",
   "execution_count": null,
   "id": "46e612fc",
   "metadata": {},
   "outputs": [],
   "source": []
  },
  {
   "cell_type": "markdown",
   "id": "85c680c9",
   "metadata": {},
   "source": [
    "### 문자열 내 마음대로 정렬하기 \n",
    "문자열로 구성된 리스트 strings와, 정수 n이 주어졌을 때, </br> 각 문자열의 인덱스 n번째 글자를 기준으로 오름차순 정렬하려 합니다. 예를 들어 strings가 [\"sun\", \"bed\", \"car\"]이고 n이 1이면 각 단어의 인덱스 1의 문자 \"u\", \"e\", \"a\"로 strings를 정렬합니다."
   ]
  },
  {
   "cell_type": "code",
   "execution_count": 22,
   "id": "66745f28",
   "metadata": {},
   "outputs": [],
   "source": [
    "strings = [\"sun\", \"bed\", \"car\"]\n",
    "n = 1\n",
    "answer = strings.sort(key=lambda x:x[n])\n",
    "\n",
    "##sort가 아닌 sorted를 이용해야함 , sort를 사용하면 null이 나온다. \n",
    "answer = sorted(strings,key=lambda x:x[n])\n",
    "    "
   ]
  },
  {
   "cell_type": "code",
   "execution_count": 21,
   "id": "ff2b138e",
   "metadata": {},
   "outputs": [],
   "source": [
    "def solution(strings, n):\n",
    "    answer = []\n",
    "    strings.sort()\n",
    "    answer = sorted(strings,key=lambda x:x[n])\n",
    "    return answer"
   ]
  },
  {
   "cell_type": "markdown",
   "id": "9c626dad",
   "metadata": {},
   "source": [
    "### K번째수 \n",
    "배열 array의 i번째 숫자부터 j번째 숫자까지 자르고 정렬했을 때, k번째에 있는 수를 구하려 합니다.\n",
    "\n",
    "예를 들어 array가 [1, 5, 2, 6, 3, 7, 4], i = 2, j = 5, k = 3이라면\n",
    "\n",
    "1. array의 2번째부터 5번째까지 자르면 [5, 2, 6, 3]입니다.\n",
    "2. 1에서 나온 배열을 정렬하면 [2, 3, 5, 6]입니다.\n",
    "3. 2에서 나온 배열의 3번째 숫자는 5입니다.\n",
    "\n",
    "배열 array, [i, j, k]를 원소로 가진 2차원 배열 commands가 매개변수로 주어질 때, commands의 모든 원소에 대해 앞서 설명한 연산을 적용했을 때 나온 결과를 배열에 담아 return 하도록 solution 함수를 작성해주세요."
   ]
  },
  {
   "cell_type": "code",
   "execution_count": 26,
   "id": "ab3a26e4",
   "metadata": {},
   "outputs": [],
   "source": [
    "array = [1, 5, 2, 6, 3, 7, 4]\n",
    "commands = [[2, 5, 3], [4, 4, 1], [1, 7, 3]] \n",
    "for n in range (0,len(commands)) :\n",
    "    i = commands[n][0] \n",
    "    j = commands[n][1] \n",
    "    k = commands[n][2]\n",
    "    arr_ij = array[i-1 : j]\n",
    "    arr_ij.sort \n",
    "    answer.append(arr_ij[k-1])  ##out of range k-1해야함"
   ]
  },
  {
   "cell_type": "code",
   "execution_count": 24,
   "id": "338ecdf9",
   "metadata": {},
   "outputs": [],
   "source": [
    "def solution(array, commands):\n",
    "    answer = []\n",
    "    for n in range (0,len(commands)) :\n",
    "        i = commands[n][0] \n",
    "        j = commands[n][1] \n",
    "        k = commands[n][2]\n",
    "        arr_ij = array[i-1 : j]\n",
    "        arr_ij.sort()\n",
    "        answer.append(arr_ij[k-1])\n",
    "    return answer"
   ]
  },
  {
   "cell_type": "code",
   "execution_count": 23,
   "id": "b508c3a8",
   "metadata": {},
   "outputs": [],
   "source": [
    "#다른 사람 풀이 \n",
    "def solution(array, commands):\n",
    "    answer = []\n",
    "    for n in commands : \n",
    "        arr_ij = array[n[0]-1 : n[1]]\n",
    "        arr_ij.sort()\n",
    "        answer.append(arr_ij[n[2]-1])\n",
    "    return answer"
   ]
  },
  {
   "cell_type": "markdown",
   "id": "62df21a9",
   "metadata": {},
   "source": [
    "### 두 개 뽑아서 더하기 \n",
    "정수 배열 numbers가 주어집니다. numbers에서 서로 다른 인덱스에 있는 두 개의 수를 뽑아 더해서 만들 수 있는 모든 수를 배열에 오름차순으로 담아 return 하도록 solution 함수를 완성해주세요."
   ]
  },
  {
   "cell_type": "code",
   "execution_count": null,
   "id": "9582ffec",
   "metadata": {},
   "outputs": [],
   "source": [
    "numbers = [2,1,3,4,1]\n",
    "a = numbers[i]+numbers[j]\n",
    "\n",
    "for i in range (0,len(numbers)):\n",
    "    for j in range(i+1,len(numbers)): \n",
    "        a = numbers[i]+numbers[j]\n",
    "        if a not in answer : \n",
    "            answer.append(a)"
   ]
  },
  {
   "cell_type": "code",
   "execution_count": 27,
   "id": "d5549025",
   "metadata": {},
   "outputs": [],
   "source": [
    "#제출답안 \n",
    "def solution(numbers):\n",
    "    answer = []\n",
    "\n",
    "    for i in range (0,len(numbers)):\n",
    "        for j in range(i+1,len(numbers)): \n",
    "            a = numbers[i]+numbers[j]\n",
    "            if a not in answer : \n",
    "                answer.append(a)\n",
    "    answer.sort()\n",
    "    return answer"
   ]
  },
  {
   "cell_type": "markdown",
   "id": "dfe1cbcd",
   "metadata": {},
   "source": [
    "### 푸드 파이트 대회 (25)\n",
    "수웅이는 매달 주어진 음식을 빨리 먹는 푸드 파이트 대회를 개최합니다. 이 대회에서 선수들은 1대 1로 대결하며, 매 대결마다 음식의 종류와 양이 바뀝니다. 대결은 준비된 음식들을 일렬로 배치한 뒤, 한 선수는 제일 왼쪽에 있는 음식부터 오른쪽으로, 다른 선수는 제일 오른쪽에 있는 음식부터 왼쪽으로 순서대로 먹는 방식으로 진행됩니다. 중앙에는 물을 배치하고, 물을 먼저 먹는 선수가 승리하게 됩니다.\n",
    "\n",
    "이때, 대회의 공정성을 위해 두 선수가 먹는 음식의 종류와 양이 같아야 하며, 음식을 먹는 순서도 같아야 합니다. 또한, 이번 대회부터는 칼로리가 낮은 음식을 먼저 먹을 수 있게 배치하여 선수들이 음식을 더 잘 먹을 수 있게 하려고 합니다. 이번 대회를 위해 수웅이는 음식을 주문했는데, 대회의 조건을 고려하지 않고 음식을 주문하여 몇 개의 음식은 대회에 사용하지 못하게 되었습니다.\n",
    "\n",
    "예를 들어, 3가지의 음식이 준비되어 있으며, 칼로리가 적은 순서대로 1번 음식을 3개, 2번 음식을 4개, 3번 음식을 6개 준비했으며, 물을 편의상 0번 음식이라고 칭한다면, 두 선수는 1번 음식 1개, 2번 음식 2개, 3번 음식 3개씩을 먹게 되므로 음식의 배치는 \"1223330333221\"이 됩니다. 따라서 1번 음식 1개는 대회에 사용하지 못합니다.\n",
    "\n",
    "수웅이가 준비한 음식의 양을 칼로리가 적은 순서대로 나타내는 정수 배열 food가 주어졌을 때, 대회를 위한 음식의 배치를 나타내는 문자열을 return 하는 solution 함수를 완성해주세요."
   ]
  },
  {
   "cell_type": "code",
   "execution_count": 37,
   "id": "49057e8f",
   "metadata": {},
   "outputs": [
    {
     "ename": "TypeError",
     "evalue": "can only concatenate list (not \"str\") to list",
     "output_type": "error",
     "traceback": [
      "\u001b[1;31m---------------------------------------------------------------------------\u001b[0m",
      "\u001b[1;31mTypeError\u001b[0m                                 Traceback (most recent call last)",
      "Cell \u001b[1;32mIn[37], line 14\u001b[0m\n\u001b[0;32m     11\u001b[0m     a \u001b[38;5;241m=\u001b[39m food[j]\u001b[38;5;241m/\u001b[39m\u001b[38;5;241m2\u001b[39m\n\u001b[0;32m     12\u001b[0m     answer \u001b[38;5;241m+\u001b[39m\u001b[38;5;241m=\u001b[39m \u001b[38;5;28mstr\u001b[39m(j) \u001b[38;5;241m*\u001b[39m \u001b[38;5;28mint\u001b[39m(a) \n\u001b[1;32m---> 14\u001b[0m \u001b[43manswer\u001b[49m\u001b[38;5;241;43m+\u001b[39;49m\u001b[38;5;124;43m'\u001b[39;49m\u001b[38;5;124;43m0\u001b[39;49m\u001b[38;5;124;43m'\u001b[39;49m\u001b[38;5;241m+\u001b[39manswer[::\u001b[38;5;241m-\u001b[39m\u001b[38;5;241m1\u001b[39m]\n",
      "\u001b[1;31mTypeError\u001b[0m: can only concatenate list (not \"str\") to list"
     ]
    }
   ],
   "source": [
    "#인덱스 0번은 물 -> result에는 인덱스 번호가 배치 처럼 나온다 \n",
    "#1번부터 n번으로 갈수록 칼로리가 높다. \n",
    "#2개로 나눠져야 하기 때문에 짝수여야한다. (아니면 1을 빼야함)\n",
    "\n",
    "food = [1, 3, 4, 6]\n",
    "for i in range(len(food)) : \n",
    "    if food[i]%2 !=0 : \n",
    "        food[i] = food[i]-1\n",
    "        \n",
    "for j in range(1,len(food)): \n",
    "    a = food[j]/2\n",
    "    answer += str(j) * int(a) \n",
    "    \n",
    "answer+'0'+answer[::-1]"
   ]
  },
  {
   "cell_type": "code",
   "execution_count": null,
   "id": "2e313f02",
   "metadata": {},
   "outputs": [],
   "source": [
    "def solution(food):\n",
    "    answer = ''\n",
    "    for i in range(len(food)) : \n",
    "        if food[i]%2 !=0 : \n",
    "            food[i] = food[i]-1\n",
    "\n",
    "    for j in range(1,len(food)): \n",
    "        a = food[j]/2\n",
    "        answer += str(j) * int(a) \n",
    "\n",
    "    return answer+'0'+answer[::-1]"
   ]
  },
  {
   "attachments": {
    "image.png": {
     "image/png": "[encoded data removed]"
    }
   },
   "cell_type": "markdown",
   "id": "e5ceae4a",
   "metadata": {},
   "source": [
    "### 콜라 문제  \n",
    "오래전 유행했던 콜라 문제가 있습니다. 콜라 문제의 지문은 다음과 같습니다.\n",
    "```\n",
    "정답은 아무에게도 말하지 마세요.\n",
    "\n",
    "콜라 빈 병 2개를 가져다주면 콜라 1병을 주는 마트가 있다. 빈 병 20개를 가져다주면 몇 병을 받을 수 있는가?\n",
    "\n",
    "단, 보유 중인 빈 병이 2개 미만이면, 콜라를 받을 수 없다.\n",
    "```\n",
    "\n",
    "문제를 풀던 상빈이는 콜라 문제의 완벽한 해답을 찾았습니다. 상빈이가 푼 방법은 아래 그림과 같습니다. 우선 콜라 빈 병 20병을 가져가서 10병을 받습니다. 받은 10병을 모두 마신 뒤, 가져가서 5병을 받습니다. 5병 중 4병을 모두 마신 뒤 가져가서 2병을 받고, 또 2병을 모두 마신 뒤 가져가서 1병을 받습니다. 받은 1병과 5병을 받았을 때 남은 1병을 모두 마신 뒤 가져가면 1병을 또 받을 수 있습니다. 이 경우 상빈이는 총 10 + 5 + 2 + 1 + 1 = 19병의 콜라를 받을 수 있습니다. \n",
    "![image.png](attachment:image.png) \n",
    "문제를 열심히 풀던 상빈이는 일반화된 콜라 문제를 생각했습니다. 이 문제는 빈 병 a개를 가져다주면 콜라 b병을 주는 마트가 있을 때, 빈 병 n개를 가져다주면 몇 병을 받을 수 있는지 계산하는 문제입니다. 기존 콜라 문제와 마찬가지로, 보유 중인 빈 병이 a개 미만이면, 추가적으로 빈 병을 받을 순 없습니다. 상빈이는 열심히 고심했지만, 일반화된 콜라 문제의 답을 찾을 수 없었습니다. 상빈이를 도와, 일반화된 콜라 문제를 해결하는 프로그램을 만들어 주세요.\n",
    "\n",
    "콜라를 받기 위해 마트에 주어야 하는 병 수 a, </br> \n",
    "빈 병 a개를 가져다 주면 마트가 주는 콜라 병 수 b, </br>\n",
    "상빈이가 가지고 있는 빈 병의 개수 n이 매개변수로 주어집니다. \n",
    "\n",
    "상빈이가 받을 수 있는 콜라의 병 수를 return 하도록 solution 함수를 작성해주세요."
   ]
  },
  {
   "cell_type": "code",
   "execution_count": 43,
   "id": "f71ac641",
   "metadata": {},
   "outputs": [],
   "source": [
    "#콜라를 마트에 주는 병 a \n",
    "#마트가 단위당 마트가 주는 콜라 b \n",
    "#상빈이의 빈병 n \n",
    "#콜라 빈병을 가져다 주고 새로 얻는 빈병 = n - a + b -a + b - a + b .....=> n - i(a+b) => 0이 될때까지\n",
    "#결국 받는 콜라병수는 b*i \n",
    "def solution(a, b, n):\n",
    "    i = 0\n",
    "    while n >= 0 :  ###a여야함 \n",
    "        i += 1\n",
    "        n = n - a + b\n",
    "    return i*b\n",
    "#틀림 "
   ]
  },
  {
   "cell_type": "code",
   "execution_count": null,
   "id": "9af42988",
   "metadata": {},
   "outputs": [],
   "source": [
    "#제출답안 \n",
    "def solution(a, b, n):\n",
    "    i = 0\n",
    "    while n >= a :  \n",
    "        i += 1\n",
    "        n = n - a + b\n",
    "    return i*b"
   ]
  },
  {
   "cell_type": "code",
   "execution_count": 42,
   "id": "fee48347",
   "metadata": {},
   "outputs": [
    {
     "ename": "IndentationError",
     "evalue": "unindent does not match any outer indentation level (<tokenize>, line 5)",
     "output_type": "error",
     "traceback": [
      "\u001b[1;36m  File \u001b[1;32m<tokenize>:5\u001b[1;36m\u001b[0m\n\u001b[1;33m    return answer\u001b[0m\n\u001b[1;37m    ^\u001b[0m\n\u001b[1;31mIndentationError\u001b[0m\u001b[1;31m:\u001b[0m unindent does not match any outer indentation level\n"
     ]
    }
   ],
   "source": [
    "#다른사람 답안 \n",
    "while n >= a:\n",
    "        answer += b\n",
    "        n = n - a + b\n",
    "    return answer"
   ]
  },
  {
   "cell_type": "markdown",
   "id": "3530b8a3",
   "metadata": {},
   "source": [
    "### 가장 가까운 같은 글자  \n",
    "문자열 s가 주어졌을 때, s의 각 위치마다 자신보다 앞에 나왔으면서, 자신과 가장 가까운 곳에 있는 같은 글자가 어디 있는지 알고 싶습니다.\n",
    "예를 들어, s=\"banana\"라고 할 때,  각 글자들을 왼쪽부터 오른쪽으로 읽어 나가면서 다음과 같이 진행할 수 있습니다.\n",
    "\n",
    "b는 처음 나왔기 때문에 자신의 앞에 같은 글자가 없습니다. 이는 -1로 표현합니다.\n",
    "a는 처음 나왔기 때문에 자신의 앞에 같은 글자가 없습니다. 이는 -1로 표현합니다.\n",
    "n은 처음 나왔기 때문에 자신의 앞에 같은 글자가 없습니다. 이는 -1로 표현합니다.\n",
    "a는 자신보다 두 칸 앞에 a가 있습니다. 이는 2로 표현합니다.\n",
    "n도 자신보다 두 칸 앞에 n이 있습니다. 이는 2로 표현합니다.\n",
    "a는 자신보다 두 칸, 네 칸 앞에 a가 있습니다. 이 중 가까운 것은 두 칸 앞이고, 이는 2로 표현합니다.\n",
    "따라서 최종 결과물은 [-1, -1, -1, 2, 2, 2]가 됩니다.\n",
    "\n",
    "문자열 s이 주어질 때, 위와 같이 정의된 연산을 수행하는 함수 solution을 완성해주세요.\n",
    "\n"
   ]
  },
  {
   "cell_type": "code",
   "execution_count": 49,
   "id": "17844791",
   "metadata": {},
   "outputs": [],
   "source": [
    "#문자열 s  = \"banana\" (누적해서 숫자 구하기 첫번쨰 시작 -1 )\n",
    "s  = \"banana\"\n",
    "a = []\n",
    "for i in range(len(s)) : \n",
    "    if s[i] not in a : \n",
    "        a.append(s[i])"
   ]
  },
  {
   "cell_type": "code",
   "execution_count": 44,
   "id": "332c6012",
   "metadata": {},
   "outputs": [],
   "source": [
    "#풀이 \n",
    "def solution(s):\n",
    "    answer = []\n",
    "    s_dict = dict()\n",
    "    \n",
    "    for i in range(len(s)):\n",
    "        if s[i] not in s_dict:\n",
    "            answer.append(-1)\n",
    "        else:\n",
    "            answer.append(i-s_dict[s[i]])\n",
    "        s_dict[s[i]] = i\n",
    "        \n",
    "    return answer"
   ]
  },
  {
   "cell_type": "markdown",
   "id": "62c24c49",
   "metadata": {},
   "source": [
    "### 추억 점수  \n",
    "사진들을 보며 추억에 젖어 있던 루는 사진별로 추억 점수를 매길려고 합니다. 사진 속에 나오는 인물의 그리움 점수를 모두 합산한 값이 해당 사진의 추억 점수가 됩니다. 예를 들어 사진 속 인물의 이름이 [\"may\", \"kein\", \"kain\"]이고 각 인물의 그리움 점수가 [5점, 10점, 1점]일 때 해당 사진의 추억 점수는 16(5 + 10 + 1)점이 됩니다. 다른 사진 속 인물의 이름이 [\"kali\", \"mari\", \"don\", \"tony\"]이고 [\"kali\", \"mari\", \"don\"]의 그리움 점수가 각각 [11점, 1점, 55점]]이고, \"tony\"는 그리움 점수가 없을 때, 이 사진의 추억 점수는 3명의 그리움 점수를 합한 67(11 + 1 + 55)점입니다.\n",
    "\n",
    "그리워하는 사람의 이름을 담은 문자열 배열 name, 각 사람별 그리움 점수를 담은 정수 배열 yearning, 각 사진에 찍힌 인물의 이름을 담은 이차원 문자열 배열 photo가 매개변수로 주어질 때, 사진들의 추억 점수를 photo에 주어진 순서대로 배열에 담아 return하는 solution 함수를 완성해주세요."
   ]
  },
  {
   "cell_type": "code",
   "execution_count": 54,
   "id": "a2dd6530",
   "metadata": {
    "scrolled": true
   },
   "outputs": [],
   "source": [
    "name = [\"may\", \"kein\", \"kain\"]\n",
    "yearning = [5, 10, 1, 3]\n",
    "photo = [[\"may\", \"kein\", \"kain\", \"radi\"],[\"may\", \"kein\", \"brin\", \"deny\"], [\"kon\", \"kain\", \"may\", \"coni\"]]\n",
    "\n",
    "info = dict(zip(name, yearning))\n",
    "for people in photo: \n",
    "    score = 0 \n",
    "    for person in people : \n",
    "        score += info.get (person, 0 ) \n",
    "    answer.append(score)"
   ]
  },
  {
   "cell_type": "code",
   "execution_count": 52,
   "id": "461de0f1",
   "metadata": {},
   "outputs": [],
   "source": [
    "#다른풀이 \n",
    "def solution(name, yearning, photo):\n",
    "    n = len(name)\n",
    "    dct = {}\n",
    "    for i in range(n):\n",
    "        dct[name[i]] = yearning[i]\n",
    "\n",
    "    answer = []\n",
    "    for lst in photo:\n",
    "        cnt = 0\n",
    "        for a in lst:\n",
    "            if a in dct:\n",
    "                cnt += dct[a]\n",
    "        answer.append(cnt)\n",
    "    return answer\n"
   ]
  },
  {
   "cell_type": "markdown",
   "id": "5bc76fd5",
   "metadata": {},
   "source": [
    "### 2016년 \n",
    "2016년 1월 1일은 금요일입니다. 2016년 a월 b일은 무슨 요일일까요? 두 수 a ,b를 입력받아 2016년 a월 b일이 무슨 요일인지 리턴하는 함수, solution을 완성하세요. 요일의 이름은 일요일부터 토요일까지 각각 SUN,MON,TUE,WED,THU,FRI,SAT\n",
    "\n",
    "입니다. 예를 들어 a=5, b=24라면 5월 24일은 화요일이므로 문자열 \"TUE\"를 반환하세요.\n"
   ]
  },
  {
   "cell_type": "code",
   "execution_count": 65,
   "id": "bedced9a",
   "metadata": {},
   "outputs": [
    {
     "ename": "NameError",
     "evalue": "name 'b' is not defined",
     "output_type": "error",
     "traceback": [
      "\u001b[1;31m---------------------------------------------------------------------------\u001b[0m",
      "\u001b[1;31mNameError\u001b[0m                                 Traceback (most recent call last)",
      "Cell \u001b[1;32mIn[65], line 5\u001b[0m\n\u001b[0;32m      3\u001b[0m \u001b[38;5;66;03m#2016년 윤년 (2월 29일까지)\u001b[39;00m\n\u001b[0;32m      4\u001b[0m month_last \u001b[38;5;241m=\u001b[39m [\u001b[38;5;241m31\u001b[39m, \u001b[38;5;241m29\u001b[39m, \u001b[38;5;241m31\u001b[39m, \u001b[38;5;241m30\u001b[39m, \u001b[38;5;241m31\u001b[39m, \u001b[38;5;241m30\u001b[39m , \u001b[38;5;241m31\u001b[39m, \u001b[38;5;241m31\u001b[39m, \u001b[38;5;241m30\u001b[39m, \u001b[38;5;241m31\u001b[39m, \u001b[38;5;241m30\u001b[39m, \u001b[38;5;241m31\u001b[39m]\n\u001b[1;32m----> 5\u001b[0m day_n[(\u001b[38;5;28msum\u001b[39m(month_last[:a\u001b[38;5;241m-\u001b[39m\u001b[38;5;241m1\u001b[39m])\u001b[38;5;241m+\u001b[39m\u001b[43mb\u001b[49m)\u001b[38;5;241m%\u001b[39m\u001b[38;5;241m7\u001b[39m]\n",
      "\u001b[1;31mNameError\u001b[0m: name 'b' is not defined"
     ]
    }
   ],
   "source": [
    "day_n = ['THU','FRI','SAT','SUN','MON','TUE','WED'] \n",
    "\n",
    "#2016년 윤년 (2월 29일까지)\n",
    "month_last = [31, 29, 31, 30, 31, 30 , 31, 31, 30, 31, 30, 31]\n",
    "day_n[(sum(month_last[:a-1])+b)%7]"
   ]
  },
  {
   "cell_type": "code",
   "execution_count": 69,
   "id": "210c4278",
   "metadata": {
    "scrolled": true
   },
   "outputs": [
    {
     "ename": "NameError",
     "evalue": "name 'datetime' is not defined",
     "output_type": "error",
     "traceback": [
      "\u001b[1;31m---------------------------------------------------------------------------\u001b[0m",
      "\u001b[1;31mNameError\u001b[0m                                 Traceback (most recent call last)",
      "Cell \u001b[1;32mIn[69], line 3\u001b[0m\n\u001b[0;32m      1\u001b[0m \u001b[38;5;66;03m#다른풀이 \u001b[39;00m\n\u001b[0;32m      2\u001b[0m t \u001b[38;5;241m=\u001b[39m \u001b[38;5;124m'\u001b[39m\u001b[38;5;124mMON TUE WED THU FRI SAT SUN\u001b[39m\u001b[38;5;124m'\u001b[39m\u001b[38;5;241m.\u001b[39msplit()\n\u001b[1;32m----> 3\u001b[0m \u001b[38;5;28mprint\u001b[39m(t[\u001b[43mdatetime\u001b[49m\u001b[38;5;241m.\u001b[39mdatetime(\u001b[38;5;241m2016\u001b[39m, a, b)\u001b[38;5;241m.\u001b[39mweekday()])\n",
      "\u001b[1;31mNameError\u001b[0m: name 'datetime' is not defined"
     ]
    }
   ],
   "source": [
    "#다른풀이 \n",
    "\n",
    "t = 'MON TUE WED THU FRI SAT SUN'.split()\n",
    "print(t[datetime.datetime(2016, a, b).weekday()])"
   ]
  },
  {
   "cell_type": "markdown",
   "id": "1b24c432",
   "metadata": {},
   "source": [
    "### 포켓몬 (26) \n",
    "당신은 폰켓몬을 잡기 위한 오랜 여행 끝에, 홍 박사님의 연구실에 도착했습니다. 홍 박사님은 당신에게 자신의 연구실에 있는 총 N 마리의 폰켓몬 중에서 N/2마리를 가져가도 좋다고 했습니다.\n",
    "홍 박사님 연구실의 폰켓몬은 종류에 따라 번호를 붙여 구분합니다. 따라서 같은 종류의 폰켓몬은 같은 번호를 가지고 있습니다. 예를 들어 연구실에 총 4마리의 폰켓몬이 있고, 각 폰켓몬의 종류 번호가 [3번, 1번, 2번, 3번]이라면 이는 3번 폰켓몬 두 마리, 1번 폰켓몬 한 마리, 2번 폰켓몬 한 마리가 있음을 나타냅니다. 이때, 4마리의 폰켓몬 중 2마리를 고르는 방법은 다음과 같이 6가지가 있습니다.\n",
    "\n",
    "첫 번째(3번), 두 번째(1번) 폰켓몬을 선택\n",
    "첫 번째(3번), 세 번째(2번) 폰켓몬을 선택\n",
    "첫 번째(3번), 네 번째(3번) 폰켓몬을 선택\n",
    "두 번째(1번), 세 번째(2번) 폰켓몬을 선택\n",
    "두 번째(1번), 네 번째(3번) 폰켓몬을 선택\n",
    "세 번째(2번), 네 번째(3번) 폰켓몬을 선택\n",
    "이때, 첫 번째(3번) 폰켓몬과 네 번째(3번) 폰켓몬을 선택하는 방법은 한 종류(3번 폰켓몬 두 마리)의 폰켓몬만 가질 수 있지만, 다른 방법들은 모두 두 종류의 폰켓몬을 가질 수 있습니다. 따라서 위 예시에서 가질 수 있는 폰켓몬 종류 수의 최댓값은 2가 됩니다.\n",
    "당신은 최대한 다양한 종류의 폰켓몬을 가지길 원하기 때문에, 최대한 많은 종류의 폰켓몬을 포함해서 N/2마리를 선택하려 합니다. N마리 폰켓몬의 종류 번호가 담긴 배열 nums가 매개변수로 주어질 때, N/2마리의 폰켓몬을 선택하는 방법 중, 가장 많은 종류의 폰켓몬을 선택하는 방법을 찾아, 그때의 폰켓몬 종류 번호의 개수를 return 하도록 solution 함수를 완성해주세요."
   ]
  },
  {
   "cell_type": "code",
   "execution_count": 66,
   "id": "32a4deb8",
   "metadata": {},
   "outputs": [],
   "source": [
    "#최대한 다양한 종류의 포켓몬을 가지고 싶음 \n",
    "#N의 배열이 주어질때 N/2를 고르면 됨 \n",
    "#그중 가장 많은 종류의 포켓몬 고르는 방법 return \n",
    "\n",
    "nums = [3,1,2,3]\n",
    "choose = len(nums)/2\n"
   ]
  },
  {
   "cell_type": "code",
   "execution_count": 68,
   "id": "2bdde136",
   "metadata": {},
   "outputs": [],
   "source": [
    "def solution(nums):\n",
    "    choose = int(len(nums) / 2) \n",
    "    nums = set(nums) \n",
    "    ##set 함수를 이용 -> 중복을 제거한다. \n",
    "    \n",
    "    answer = min(len(nums), choose)\n",
    "    \n",
    "    return answer"
   ]
  },
  {
   "attachments": {
    "image.png": {
     "image/png": "[encoded data removed]"
    }
   },
   "cell_type": "markdown",
   "id": "ecb70584",
   "metadata": {},
   "source": [
    "### 명예의 전당 (1) - ...?\n",
    "\"명예의 전당\"이라는 TV 프로그램에서는 매일 1명의 가수가 노래를 부르고, 시청자들의 문자 투표수로 가수에게 점수를 부여합니다. 매일 출연한 가수의 점수가 지금까지 출연 가수들의 점수 중 상위 k번째 이내이면 해당 가수의 점수를 명예의 전당이라는 목록에 올려 기념합니다. 즉 프로그램 시작 이후 초기에 k일까지는 모든 출연 가수의 점수가 명예의 전당에 오르게 됩니다. k일 다음부터는 출연 가수의 점수가 기존의 명예의 전당 목록의 k번째 순위의 가수 점수보다 더 높으면, 출연 가수의 점수가 명예의 전당에 오르게 되고 기존의 k번째 순위의 점수는 명예의 전당에서 내려오게 됩니다.\n",
    "\n",
    "이 프로그램에서는 매일 \"명예의 전당\"의 최하위 점수를 발표합니다. 예를 들어, k = 3이고, 7일 동안 진행된 가수의 점수가 [10, 100, 20, 150, 1, 100, 200]이라면, 명예의 전당에서 발표된 점수는 아래의 그림과 같이 [10, 10, 10, 20, 20, 100, 100]입니다.\n",
    "![image.png](attachment:image.png) \n",
    "명예의 전당 목록의 점수의 개수 k, 1일부터 마지막 날까지 출연한 가수들의 점수인 score가 주어졌을 때, 매일 발표된 명예의 전당의 최하위 점수를 return하는 solution 함수를 완성해주세요."
   ]
  },
  {
   "cell_type": "code",
   "execution_count": 71,
   "id": "b6278a04",
   "metadata": {},
   "outputs": [],
   "source": [
    "score = [10, 100, 20, 150, 1, 100, 200]\n",
    "k = 3 \n",
    "#받은 범위중 최 하위 점수를 고르면 된다. \n",
    "def solution(k, score):\n",
    "    answer = []\n",
    "    a=[]\n",
    "    for i in score:\n",
    "        if len(a)<k:\n",
    "            a.append(i)\n",
    "        else:\n",
    "            if min(a)<i:\n",
    "                a.remove(min(a))\n",
    "                a.append(i)\n",
    "        answer.append(min(a))\n",
    "    return answer\n"
   ]
  },
  {
   "cell_type": "code",
   "execution_count": 77,
   "id": "180a8bd6",
   "metadata": {},
   "outputs": [],
   "source": [
    "#다른 사람 풀이 \n",
    "def solution(k, score):\n",
    "\n",
    "    q = []\n",
    "\n",
    "    answer = []\n",
    "    for s in score:\n",
    "\n",
    "        q.append(s)\n",
    "        if (len(q) > k):\n",
    "            q.remove(min(q))\n",
    "        answer.append(min(q))\n",
    "\n",
    "    return answer"
   ]
  },
  {
   "cell_type": "code",
   "execution_count": null,
   "id": "ff7c3793",
   "metadata": {},
   "outputs": [],
   "source": []
  },
  {
   "cell_type": "markdown",
   "id": "8d21d655",
   "metadata": {},
   "source": [
    "### 모의고사 \n",
    "수포자는 수학을 포기한 사람의 준말입니다. 수포자 삼인방은 모의고사에 수학 문제를 전부 찍으려 합니다. 수포자는 1번 문제부터 마지막 문제까지 다음과 같이 찍습니다.\n",
    "\n",
    "1번 수포자가 찍는 방식: 1, 2, 3, 4, 5, 1, 2, 3, 4, 5, ...\n",
    "2번 수포자가 찍는 방식: 2, 1, 2, 3, 2, 4, 2, 5, 2, 1, 2, 3, 2, 4, 2, 5, ...\n",
    "3번 수포자가 찍는 방식: 3, 3, 1, 1, 2, 2, 4, 4, 5, 5, 3, 3, 1, 1, 2, 2, 4, 4, 5, 5, ...\n",
    "\n",
    "1번 문제부터 마지막 문제까지의 정답이 순서대로 들은 배열 answers가 주어졌을 때, 가장 많은 문제를 맞힌 사람이 누구인지 배열에 담아 return 하도록 solution 함수를 작성해주세요."
   ]
  },
  {
   "cell_type": "code",
   "execution_count": 78,
   "id": "5ccedcbd",
   "metadata": {},
   "outputs": [],
   "source": [
    "answers = [1,2,3,4,5]\n",
    "#학생 찍는 방법 (루트)\n",
    "man1 = [1,2,3,4,5]\n",
    "man2 = [2,1,2,3,2,4,2,5]\n",
    "man3 = [3,3,1,1,2,2,4,4,5,5]"
   ]
  },
  {
   "cell_type": "code",
   "execution_count": 72,
   "id": "460d614a",
   "metadata": {},
   "outputs": [],
   "source": [
    "def solution(answers):\n",
    "    answer = [0 for i in range(3)]\n",
    "\n",
    "    man1 = [1,2,3,4,5]\n",
    "    man2 = [2,1,2,3,2,4,2,5]\n",
    "    man3 = [3,3,1,1,2,2,4,4,5,5]\n",
    "    \n",
    "    for i in range(len(answers)):\n",
    "        \n",
    "        ans = answers[i]\n",
    "        \n",
    "        #답항과 학생이 찍은 답([i%len(man1)]->루트가 끝나면 다시 같은 방식으로 찍기 때문에)항이 같다면\n",
    "       \n",
    "        if(man1[i%len(man1)] == ans): \n",
    "            answer[0] += 1\n",
    "        if(man2[i%len(man2)] == ans):\n",
    "            answer[1] += 1\n",
    "        if(man3[i%len(man3)] == ans):\n",
    "            answer[2] += 1     \n",
    "    \n",
    "    result = []\n",
    "    for i in range(len(answer)):\n",
    "        if(answer[i] == max(answer)):\n",
    "            result.append(i+1)\n",
    "    \n",
    "    return sorted(result)"
   ]
  },
  {
   "cell_type": "code",
   "execution_count": null,
   "id": "d9053be4",
   "metadata": {},
   "outputs": [],
   "source": []
  },
  {
   "cell_type": "markdown",
   "id": "7299af6c",
   "metadata": {},
   "source": [
    "### 소수 만들기 _ 실패\n",
    "주어진 숫자 중 3개의 수를 더했을 때 소수가 되는 경우의 개수를 구하려고 합니다. 숫자들이 들어있는 배열 nums가 매개변수로 주어질 때, nums에 있는 숫자들 중 서로 다른 3개를 골라 더했을 때 소수가 되는 경우의 개수를 return 하도록 solution 함수를 완성해주세요."
   ]
  },
  {
   "cell_type": "code",
   "execution_count": 79,
   "id": "39ef97d4",
   "metadata": {},
   "outputs": [],
   "source": [
    "nums = [1,2,3,4]\n"
   ]
  },
  {
   "cell_type": "markdown",
   "id": "eafcdae3",
   "metadata": {},
   "source": [
    "```python \n",
    "from itertools import combinations\n",
    "import math\n",
    "\n",
    "def is_prime_number(x):\n",
    "    for i in range (2, int(math.sqrt(x))+1):\n",
    "        if x %i == 0 : \n",
    "            return False \n",
    "        return True \n",
    "def solution(nums):\n",
    "    answer = 0 \n",
    "    for x in combinations(nums, 3): \n",
    "        if is_prime_number(sum(x)): \n",
    "            answer += 1\n",
    "    return answer \n",
    "```"
   ]
  },
  {
   "cell_type": "code",
   "execution_count": null,
   "id": "f6588464",
   "metadata": {},
   "outputs": [],
   "source": []
  },
  {
   "cell_type": "markdown",
   "id": "46728aa9",
   "metadata": {},
   "source": [
    "### 소수 찾기\n",
    "1부터 입력받은 숫자 n 사이에 있는 소수의 개수를 반환하는 함수, solution을 만들어 보세요.\n",
    "\n",
    "소수는 1과 자기 자신으로만 나누어지는 수를 의미합니다.\n",
    "(1은 소수가 아닙니다.)"
   ]
  },
  {
   "cell_type": "code",
   "execution_count": 76,
   "id": "ca06ae4b",
   "metadata": {},
   "outputs": [],
   "source": [
    "import math\n",
    "def numb (n):\n",
    "    for i in range(2, int(math.sqrt(n))+1):\n",
    "        if n % i == 0:\n",
    "            return False\n",
    "    return True\n",
    "\n",
    "def solution(n):\n",
    "    answer = 0\n",
    "    for i in range(2, n+1):\n",
    "        if isPrime(i) == True:\n",
    "            answer += 1\n",
    "    return answer"
   ]
  },
  {
   "cell_type": "code",
   "execution_count": 81,
   "id": "374fbc88",
   "metadata": {},
   "outputs": [],
   "source": [
    "#소수 판별 기본 알고리즘 \n",
    "def is_prime(x): \n",
    "    for i in range(2,x):\n",
    "        if x%i == 0 : \n",
    "            return False \n",
    "        return True "
   ]
  }
 ],
 "metadata": {
  "kernelspec": {
   "display_name": "Python 3 (ipykernel)",
   "language": "python",
   "name": "python3"
  },
  "language_info": {
   "codemirror_mode": {
    "name": "ipython",
    "version": 3
   },
   "file_extension": ".py",
   "mimetype": "text/x-python",
   "name": "python",
   "nbconvert_exporter": "python",
   "pygments_lexer": "ipython3",
   "version": "3.10.9"
  },
  "toc": {
   "base_numbering": 1,
   "nav_menu": {},
   "number_sections": true,
   "sideBar": true,
   "skip_h1_title": false,
   "title_cell": "Table of Contents",
   "title_sidebar": "Contents",
   "toc_cell": false,
   "toc_position": {},
   "toc_section_display": true,
   "toc_window_display": false
  }
 },
 "nbformat": 4,
 "nbformat_minor": 5
}
