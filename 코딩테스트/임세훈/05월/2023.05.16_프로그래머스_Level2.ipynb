{
 "cells": [
  {
   "cell_type": "code",
   "execution_count": 36,
   "id": "72b6cc36",
   "metadata": {},
   "outputs": [
    {
     "name": "stdout",
     "output_type": "stream",
     "text": [
      "[7, 6]\n"
     ]
    }
   ],
   "source": [
    "# 카펫 - 3개중 2개만 성공 (소수점도 계산되서 그런듯)\n",
    "\n",
    "def solution(brown, yellow):\n",
    "    answer = []\n",
    "    num = 99999999\n",
    "    a = brown + yellow\n",
    "    for i in range(1,a):\n",
    "        b = a / i\n",
    "        if i >= b and num > i-b:\n",
    "            answer = [i,b]\n",
    "            num = i-b\n",
    "            \n",
    "    answer = list(map(int, answer))\n",
    "    return answer\n",
    "\n",
    "print(solution(24,24))\n",
    "\n",
    "# 시간초과로 실패\n",
    "\n",
    "def solution(brown, yellow):\n",
    "    answer = []\n",
    "    Mix = 999999999\n",
    "    num = brown + yellow\n",
    "    for i in range(num):\n",
    "        for j in range(num):\n",
    "            if i * j == num:\n",
    "                if i >= j and Mix > i-j:\n",
    "                    answer = [i,j]\n",
    "                    Mix = i-j\n",
    "    \n",
    "    return answer\n",
    "print(solution(10,2))\n",
    "\n",
    "\n",
    "# 테스트 케이스 3개 실패 = 이유가 머지 // 항상 갈색이 노랑을 감싸야 하나?\n",
    "\n",
    "def solution(brown, yellow):\n",
    "    answer = []\n",
    "    num = 99999999\n",
    " \n",
    "    a = brown + yellow\n",
    "    for i in range(1,a):\n",
    "        b = a / i\n",
    "        c = int(str(b).split(\".\")[1])\n",
    "        if i >= b and num > i-b and c == 0:\n",
    "            answer = [i,b]\n",
    "            num = i-b\n",
    "    if answer == []:\n",
    "        answer = [a-1,1]\n",
    "    answer = list(map(int, answer))\n",
    "    return answer\n",
    "\n",
    "print(solution(10,1))\n",
    "\n",
    "\n",
    "# yellow의 가로 세로를 나눠서 작업\n",
    "\n",
    "def solution(brown, yellow):\n",
    "    answer = []\n",
    "    num = brown + yellow\n",
    "    \n",
    "    for i in range(1,yellow+1):\n",
    "        a = i # a = yellow의 가로\n",
    "        b = yellow/a # b = yellow의 세로\n",
    "        \n",
    "        if a >= b and a*2+b*2+4 == brown:\n",
    "            answer = [a+2,b+2]\n",
    "            answer = list(map(int,answer))\n",
    "    \n",
    "    return answer\n",
    "    \n",
    "print(solution(24,24))"
   ]
  },
  {
   "cell_type": "code",
   "execution_count": 182,
   "id": "b20f53ba",
   "metadata": {
    "scrolled": true
   },
   "outputs": [
    {
     "name": "stdout",
     "output_type": "stream",
     "text": [
      "3\n"
     ]
    }
   ],
   "source": [
    "# 구명보트 - 핵심은 가벼운사람을 기준으로 하는게 아니라 무거운 사람을 기준으로 해야함.\n",
    "\n",
    "def solution(people, limit):\n",
    "    cnt = 0\n",
    "    people = sorted(people) # 낮은순\n",
    "    a,b = 0,len(people)-1 # a = 첫번째 순서, b는 마지막 순서\n",
    "    \n",
    "    while a <= b:\n",
    "        cnt += 1\n",
    "        if (people[a] +people[b]) <= limit:\n",
    "            a += 1\n",
    "            b -= 1\n",
    "        else:\n",
    "            b -=1\n",
    "    \n",
    "    return cnt\n",
    "\n",
    "print(solution([70, 80, 50],100))"
   ]
  },
  {
   "cell_type": "code",
   "execution_count": 186,
   "id": "6d824ea4",
   "metadata": {},
   "outputs": [
    {
     "name": "stdout",
     "output_type": "stream",
     "text": [
      "3\n"
     ]
    }
   ],
   "source": [
    "# 예상 대진표\n",
    "\n",
    "import math\n",
    "def solution(n,a,b):\n",
    "    cnt = 0\n",
    "    while True:\n",
    "        cnt +=1\n",
    "        if a % 2 == 0:\n",
    "            a = a / 2\n",
    "        else:\n",
    "            a = math.ceil(a / 2)\n",
    "        if b % 2 == 0:\n",
    "            b = b / 2\n",
    "        else:\n",
    "            b = math.ceil(b / 2)\n",
    "    \n",
    "        if a == b:\n",
    "            break\n",
    "\n",
    "    return cnt\n",
    "\n",
    "print(solution(8,4,7))\n",
    "\n",
    "\n",
    "# 비슷하지만 math함수 없이 풀이\n",
    "def solution(n,a,b):\n",
    "    answer = 0\n",
    "    while a != b:\n",
    "        answer += 1\n",
    "        a, b = (a+1)//2, (b+1)//2\n",
    "\n",
    "    return answer"
   ]
  },
  {
   "cell_type": "code",
   "execution_count": 224,
   "id": "674bad00",
   "metadata": {},
   "outputs": [
    {
     "name": "stdout",
     "output_type": "stream",
     "text": [
      "5\n"
     ]
    }
   ],
   "source": [
    "# 점프와 순간 이동 - 정확성은 맞는데 효율성에서 실패 / while을 두개써서 그런가?\n",
    "\n",
    "def solution(n):\n",
    "    a = 1 # 첫 발자국\n",
    "    while True:\n",
    "        cnt = 0\n",
    "        while 2**cnt <= n:\n",
    "            cnt +=1\n",
    "        n = n-2**(cnt-1)\n",
    "        if n < 1:\n",
    "            break\n",
    "        a +=1\n",
    "    return a\n",
    "\n",
    "print(solution(5000))\n",
    "\n",
    "\n",
    "# while 문 하나로 간단하게 만들기\n",
    "\n",
    "def solution(n):\n",
    "    a = 0\n",
    "    while n!=0:\n",
    "        if n % 2 == 0:\n",
    "            n = n // 2\n",
    "        else:\n",
    "            n -= 1\n",
    "            a +=1\n",
    "        \n",
    "    return a\n",
    "\n",
    "print(solution(5000))\n",
    "\n",
    "\n",
    "# 신기한 풀이 - 2진법으로 풀기\n",
    "def solution(n):\n",
    "    return bin(n).count('1')"
   ]
  },
  {
   "cell_type": "code",
   "execution_count": 258,
   "id": "6cb30e30",
   "metadata": {},
   "outputs": [
    {
     "name": "stdout",
     "output_type": "stream",
     "text": [
      "168\n"
     ]
    }
   ],
   "source": [
    "# N개의 최소공배수\n",
    "\n",
    "def solution(arr):\n",
    "    num = 1\n",
    "   \n",
    "    for i in arr:\n",
    "        num = num*i\n",
    "        \n",
    "    for i in range(max(arr), num+1):\n",
    "        cnt = 0\n",
    "        for j in arr:\n",
    "            if i % j == 0:\n",
    "                cnt += 1\n",
    "        if cnt == len(arr):\n",
    "            break\n",
    "        \n",
    "    return i\n",
    "\n",
    "print(solution([2,6,8,14]))"
   ]
  }
 ],
 "metadata": {
  "kernelspec": {
   "display_name": "Python 3 (ipykernel)",
   "language": "python",
   "name": "python3"
  },
  "language_info": {
   "codemirror_mode": {
    "name": "ipython",
    "version": 3
   },
   "file_extension": ".py",
   "mimetype": "text/x-python",
   "name": "python",
   "nbconvert_exporter": "python",
   "pygments_lexer": "ipython3",
   "version": "3.9.13"
  },
  "toc": {
   "base_numbering": 1,
   "nav_menu": {},
   "number_sections": true,
   "sideBar": true,
   "skip_h1_title": false,
   "title_cell": "Table of Contents",
   "title_sidebar": "Contents",
   "toc_cell": false,
   "toc_position": {},
   "toc_section_display": true,
   "toc_window_display": false
  }
 },
 "nbformat": 4,
 "nbformat_minor": 5
}
