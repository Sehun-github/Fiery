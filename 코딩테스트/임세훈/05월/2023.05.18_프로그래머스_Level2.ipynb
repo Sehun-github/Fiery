{
 "cells": [
  {
   "cell_type": "code",
   "execution_count": 27,
   "id": "fc294c97",
   "metadata": {},
   "outputs": [
    {
     "name": "stdout",
     "output_type": "stream",
     "text": [
      "16\n"
     ]
    }
   ],
   "source": [
    "# [1차] 캐시\n",
    "def solution(cacheSize, cities):\n",
    "    cnt = 0\n",
    "    LRU = []\n",
    "    for i in cities:\n",
    "        i = i.upper() # 전부 대문자로 바꾸기\n",
    "        if i not in LRU:\n",
    "            \n",
    "            if cacheSize == 0:  # cacheSize가 0일때 cache miss를 5로 받음\n",
    "                pass\n",
    "            \n",
    "            elif len(LRU) < cacheSize:\n",
    "                LRU.append(i)\n",
    "            \n",
    "            else:\n",
    "                LRU.pop(0)\n",
    "                LRU.append(i)\n",
    "            \n",
    "            cnt +=5  \n",
    "        else:\n",
    "            LRU.pop(LRU.index(i)) # 만약 LRU리스트에 city값이 존재하면 삭제후 append로 추가\n",
    "            LRU.append(i)\n",
    "            cnt +=1\n",
    "    return cnt\n",
    "\n",
    "\n",
    "aa = [\"Jeju\", \"Pangyo\", \"NewYork\", \"newyork\"]\n",
    "print(solution(2,aa))"
   ]
  },
  {
   "cell_type": "code",
   "execution_count": 94,
   "id": "437d5745",
   "metadata": {
    "scrolled": true
   },
   "outputs": [
    {
     "name": "stdout",
     "output_type": "stream",
     "text": [
      "[[15, 15], [15, 15], [15, 15]]\n"
     ]
    }
   ],
   "source": [
    "# 행렬의 곱셈 - 런타임 에러\n",
    "def solution(arr1, arr2):\n",
    "    answer = []\n",
    "    sum = 0\n",
    "\n",
    "    for i in range(len(arr1)):\n",
    "        List = []\n",
    "        for j in range(len(arr1[0])):\n",
    "            sum = 0\n",
    "            for k in range(len(arr2[0])):\n",
    "                sum += arr1[i][k]*arr2[k][j]\n",
    "            List.append(sum)\n",
    "        answer.append(List)\n",
    "    \n",
    "    return answer\n",
    "    \n",
    "    \n",
    "arr = [[1, 4], [3, 2], [4, 1]]\n",
    "arr2 = [[3, 3], [3, 3]]\n",
    "print(solution(arr,arr2))\n",
    "\n",
    "\n",
    "# 행렬의 곱셈 - 런타임 에러 해결\n",
    "def solution(arr1, arr2):\n",
    "    answer = []\n",
    "    sum = 0\n",
    "\n",
    "    for i in range(len(arr1)):\n",
    "        List = []\n",
    "        for j in range(len(arr2[0])):  # len(arr1[0]) 과 len(arr2[0])를 서로 바꿔줌\n",
    "            sum = 0\n",
    "            for k in range(len(arr1[0])):\n",
    "                sum += arr1[i][k]*arr2[k][j]\n",
    "            List.append(sum)\n",
    "        answer.append(List)\n",
    "    \n",
    "    return answer\n",
    "    \n",
    "    \n",
    "arr = [[1, 4], [3, 2], [4, 1]]\n",
    "arr2 = [[3, 3], [3, 3]]\n",
    "print(solution(arr,arr2))"
   ]
  },
  {
   "cell_type": "code",
   "execution_count": 32,
   "id": "8a07a123",
   "metadata": {},
   "outputs": [
    {
     "name": "stdout",
     "output_type": "stream",
     "text": [
      "[3, 2, 2, 3]\n",
      "{1, 2, 3}\n",
      "[]\n",
      "[2, 1, 1, 2]\n"
     ]
    }
   ],
   "source": [
    "# n^2 배열 자르기 -- 통과하는데 시간초과 실패 // 2중 for문때문? // append 때문?\n",
    "\n",
    "def solution(n, left, right):\n",
    "    answer = []\n",
    "    a = 1\n",
    "    for _ in range(n):\n",
    "        for i in range(a,n+1):\n",
    "            if i == a:\n",
    "                for j in range(a):\n",
    "                    answer.append(i)\n",
    "            else:\n",
    "                answer.append(i)\n",
    "        a +=1\n",
    "    return answer[left:right+1]\n",
    "print(solution(3,2,5))\n",
    "\n",
    "# n^2 배열 자르기 -- 통과하는데 시간초과 실패 append 수정 실패\n",
    "def solution(n, left, right): ## set은 개당 한개씩 밖에 안들어감\n",
    "    answer = set()\n",
    "    a = 1\n",
    "    for _ in range(n):\n",
    "        for i in range(a,n+1):\n",
    "            if i == a:\n",
    "                for j in range(a):\n",
    "                    answer.add(i)\n",
    "            else:\n",
    "                answer.add(i)\n",
    "        a +=1\n",
    "    return answer\n",
    "print(solution(3,2,5))\n",
    "\n",
    "\n",
    "def solution(n, left, right):\n",
    "    \n",
    "    answer = []\n",
    "    \n",
    "    \n",
    "    return answer\n",
    "    \n",
    "print(solution(3,2,5))\n",
    "\n",
    "\n",
    "\n",
    "## 색다른 접근 필요 - for 문을 통해 i를 구하고 n으로 나눠 몫을 구함, 대신 나머지가 크면 나머지로 수정\n",
    "\n",
    "def solution(n, left, right):\n",
    "    \n",
    "    answer = []\n",
    "    \n",
    "    for i in range(left,right+1):\n",
    "        a = i//n\n",
    "        b = i%n\n",
    "        if a<b: a,b =b,a\n",
    "        answer.append(a+1)\n",
    "    \n",
    "    return answer\n",
    "    \n",
    "print(solution(3,2,5))"
   ]
  },
  {
   "cell_type": "code",
   "execution_count": 41,
   "id": "045ca418",
   "metadata": {},
   "outputs": [
    {
     "name": "stdout",
     "output_type": "stream",
     "text": [
      "{'headgear': 2, 'eyewear': 2}\n",
      "8\n"
     ]
    }
   ],
   "source": [
    "# 의상 - 실패 // 해당 내용은 3개중 2개를 입었을 경우를 고려 안함\n",
    "def solution(clothes):\n",
    "    answer = {}\n",
    "    for i in range(len(clothes)):\n",
    "        for j in range(len(clothes[i])):\n",
    "            if j ==1:  \n",
    "                if clothes[i][j] in answer:\n",
    "                    answer[clothes[i][j]] += 1\n",
    "                else:\n",
    "                    answer[clothes[i][j]] = 1   \n",
    "    \n",
    "    sum = 0\n",
    "    if len(answer) == 1:\n",
    "        multiple = 0\n",
    "    else:\n",
    "        multiple = 1\n",
    "    for i,j in answer.items():\n",
    "        sum += j\n",
    "        \n",
    "        multiple *= j\n",
    "    cnt = multiple  + sum\n",
    "    return cnt\n",
    "\n",
    "aa = [[\"yellow_hat\", \"headgear\"], [\"blue_sunglasses\", \"eyewear\"], [\"green_turban\", \"headgear\"],[\"blue_sunglasses\", \"eyewear\"]]\n",
    "print(solution(aa))\n",
    "\n",
    "\n",
    "# 전체 경우의 수를 구한후 - 아무것도 안입었을 경우를 뺀다.\n",
    "def solution(clothes):\n",
    "    \n",
    "    answer = {}\n",
    "    for i in range(len(clothes)):\n",
    "        for j in range(len(clothes[i])):\n",
    "            if j ==1:  \n",
    "                if clothes[i][j] in answer:\n",
    "                    answer[clothes[i][j]] += 1\n",
    "                else:\n",
    "                    answer[clothes[i][j]] = 1\n",
    "    \n",
    "    cnt = 1\n",
    "    for e,v in answer.items():\n",
    "            cnt *= (v+1)\n",
    "        \n",
    "    return cnt-1\n",
    "aa = [[\"yellow_hat\", \"headgear\"], [\"blue_sunglasses\", \"eyewear\"], [\"green_turban\", \"headgear\"],[\"blue_sunglasses\", \"eyewear\"]]\n",
    "print(solution(aa))"
   ]
  },
  {
   "cell_type": "code",
   "execution_count": 47,
   "id": "e4ba1168",
   "metadata": {},
   "outputs": [
    {
     "name": "stdout",
     "output_type": "stream",
     "text": [
      "8\n"
     ]
    }
   ],
   "source": [
    "def solution(clothes):\n",
    "    \n",
    "    answer = {}\n",
    "    for i in range(len(clothes)):\n",
    "        for j in range(len(clothes[i])):\n",
    "            if j ==1:  \n",
    "                if clothes[i][j] in answer:\n",
    "                    answer[clothes[i][j]] += 1\n",
    "                else:\n",
    "                    answer[clothes[i][j]] = 1\n",
    "    \n",
    "    cnt = 1\n",
    "    for e,v in answer.items():\n",
    "            cnt *= (v+1)\n",
    "        \n",
    "    return cnt-1\n",
    "aa = [[\"yellow_hat\", \"headgear\"], [\"blue_sunglasses\", \"eyewear\"], [\"green_turban\", \"headgear\"],[\"blue_sunglasses\", \"eyewear\"]]\n",
    "print(solution(aa))"
   ]
  },
  {
   "cell_type": "code",
   "execution_count": 91,
   "id": "6ff24710",
   "metadata": {
    "scrolled": true
   },
   "outputs": [
    {
     "name": "stdout",
     "output_type": "stream",
     "text": [
      "[2, 1, 3, 4]\n"
     ]
    }
   ],
   "source": [
    "# 튜플\n",
    "\n",
    "def solution(s):\n",
    "    answer = {}\n",
    "    num_list = s[1:-1].split(\"},{\")\n",
    "    a = []\n",
    "\n",
    "    for i in num_list:\n",
    "        i = i.replace(\"{\",\"\")\n",
    "        i = i.replace(\"}\",\"\")\n",
    "\n",
    "        answer[i] = len(i)\n",
    "        \n",
    "    # value 값을 기준으로 오름차순 정렬\n",
    "    answer = sorted(answer.items(),key=lambda x:x[1])\n",
    "    \n",
    "    for i,j in answer:\n",
    "        for k in i.split(\",\"):\n",
    "            if k not in a:\n",
    "                a.append(k)\n",
    "                \n",
    "    a = list(map(int, a))\n",
    "    return a\n",
    "\n",
    "aa = \"{{2},{2,1},{2,1,3},{2,1,3,4}}\"\n",
    "print(solution(aa))"
   ]
  }
 ],
 "metadata": {
  "kernelspec": {
   "display_name": "Python 3 (ipykernel)",
   "language": "python",
   "name": "python3"
  },
  "language_info": {
   "codemirror_mode": {
    "name": "ipython",
    "version": 3
   },
   "file_extension": ".py",
   "mimetype": "text/x-python",
   "name": "python",
   "nbconvert_exporter": "python",
   "pygments_lexer": "ipython3",
   "version": "3.9.13"
  },
  "toc": {
   "base_numbering": 1,
   "nav_menu": {},
   "number_sections": true,
   "sideBar": true,
   "skip_h1_title": false,
   "title_cell": "Table of Contents",
   "title_sidebar": "Contents",
   "toc_cell": false,
   "toc_position": {},
   "toc_section_display": true,
   "toc_window_display": false
  }
 },
 "nbformat": 4,
 "nbformat_minor": 5
}
