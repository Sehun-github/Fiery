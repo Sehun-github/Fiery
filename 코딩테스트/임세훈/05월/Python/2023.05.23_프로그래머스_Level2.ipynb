{
 "cells": [
  {
   "cell_type": "code",
   "execution_count": 17,
   "id": "dfd1b98d",
   "metadata": {
    "scrolled": true
   },
   "outputs": [
    {
     "name": "stdout",
     "output_type": "stream",
     "text": [
      "02468ACE11111111\n"
     ]
    }
   ],
   "source": [
    "# [3차] n진수 게임\n",
    "\n",
    "def solution(n, t, m, p):\n",
    "    num_list = []\n",
    "\n",
    "    number = 0\n",
    "    num_list.append(\"0\")\n",
    "    while len(num_list) < m*t +p:\n",
    "        number2 = number\n",
    "        a = \"\"\n",
    "        while number2:\n",
    "               \n",
    "            if number2 % n == 10:\n",
    "                a += 'A'\n",
    "            elif number2 % n == 11:\n",
    "                a += 'B'\n",
    "            elif number2 % n == 12:\n",
    "                a += 'C'\n",
    "            elif number2 % n == 13:\n",
    "                a += 'D'\n",
    "            elif number2 % n == 14:\n",
    "                a += 'E'\n",
    "            elif number2 % n == 15:\n",
    "                a += 'F'\n",
    "            else:\n",
    "                a += str(number2 % n)\n",
    "            \n",
    "            number2 = number2 // n\n",
    "\n",
    "        for i in a[::-1]:\n",
    "            num_list.append(i)\n",
    "        number+=1\n",
    "    \n",
    "    answer = \"\"\n",
    "    for i in num_list[p-1::m]:\n",
    "        if len(answer) == t:\n",
    "            break\n",
    "        answer += i\n",
    "    return answer\n",
    "\n",
    "print(solution(16,16,2,1))"
   ]
  },
  {
   "cell_type": "code",
   "execution_count": 80,
   "id": "d8542430",
   "metadata": {},
   "outputs": [
    {
     "name": "stdout",
     "output_type": "stream",
     "text": [
      "2\n",
      "2\n"
     ]
    }
   ],
   "source": [
    "# 더 맵게 - 테스트 케이스 통과 & 시간초과\n",
    "\n",
    "def solution(scoville, K):\n",
    "    \n",
    "    cnt = 0\n",
    "    while min(scoville) < K and len(scoville) >= 2:\n",
    "        scoville.sort()\n",
    "        scoville.append(scoville.pop(0)+2*scoville.pop(0))\n",
    "        cnt +=1\n",
    "    \n",
    "    if min(scoville) < K:\n",
    "        return -1\n",
    "    \n",
    "    return cnt\n",
    "\n",
    "aa = [1,2,3]\n",
    "print(solution(aa,7))\n",
    "\n",
    "\n",
    "## 힙정렬 사용 - 통과\n",
    "\n",
    "import heapq\n",
    "\n",
    "def solution(scoville, K):\n",
    "    heap = []\n",
    "    \n",
    "    \n",
    "    for i in scoville:\n",
    "        heapq.heappush(heap,i) # heapq.heappust(list,data) - list안에 데이터를 담고 자동으로 sort\n",
    "    \n",
    "    \n",
    "    cnt = 0\n",
    "    while heap[0] < K and len(heap) >= 2:\n",
    "        heapq.heappush(heap, heapq.heappop(heap) + (heapq.heappop(heap) * 2)) # heapq.heappop(heap) - 0번째 순서 가져오고 삭제\n",
    "        cnt +=1\n",
    "    \n",
    "    if heap[0] < K:\n",
    "        return -1\n",
    "    \n",
    "    return cnt\n",
    "\n",
    "aa = [1,2,3]\n",
    "print(solution(aa,7))"
   ]
  },
  {
   "cell_type": "code",
   "execution_count": 127,
   "id": "f1b70720",
   "metadata": {
    "scrolled": true
   },
   "outputs": [
    {
     "name": "stdout",
     "output_type": "stream",
     "text": [
      "[14841]\n"
     ]
    }
   ],
   "source": [
    "# 주차 요금 계산\n",
    "\n",
    "import math\n",
    "def solution(fees, records):\n",
    "    answer = []\n",
    "    records_time = {}\n",
    "    car_time = {}\n",
    "    fees_list=[]\n",
    "    \n",
    "    for i in records:\n",
    "        if i.split(\" \")[1] not in records_time:\n",
    "            records_time[i.split(\" \")[1]] = i.split(\" \")[0]\n",
    "            \n",
    "        else:\n",
    "            answer.append([i.split(\" \")[1],(int(i.split(\" \")[0][0:2]) - int(records_time[i.split(\" \")[1]][0:2]))*60+(int(i.split(\" \")[0][3:5]) - int(records_time[i.split(\" \")[1]][3:5]))])\n",
    "            del records_time[i.split(\" \")[1]]\n",
    "            \n",
    "    # 만약 안나가고 남아있는차 포함하기        \n",
    "    if len(records_time) != 0:\n",
    "        for k,v in records_time.items():\n",
    "            answer.append([k, (23-int(v[0:2]))*60 + (59-int(v[3:5]))])\n",
    "    \n",
    "    for i in answer:\n",
    "        if i[0] not in car_time:\n",
    "            car_time[i[0]] = i[1]\n",
    "        else:\n",
    "            car_time[i[0]] += i[1]\n",
    "        \n",
    "    car_time = sorted(car_time.items(), key=lambda x:x[0]) # car 이름 오름차순\n",
    "    \n",
    "    for k,v in car_time:\n",
    "        if v > fees[0]:\n",
    "            fees_list.append(fees[1] + fees[3]*math.ceil((v-fees[0])/fees[2]))\n",
    "        else:\n",
    "            fees_list.append(fees[1])\n",
    "    \n",
    "    \n",
    "    return fees_list\n",
    "\n",
    "aa = [1, 461, 1, 10]\n",
    "bb = [\"00:00 1234 IN\"]\n",
    "print(solution(aa,bb))"
   ]
  },
  {
   "cell_type": "code",
   "execution_count": 137,
   "id": "61da270f",
   "metadata": {},
   "outputs": [
    {
     "name": "stdout",
     "output_type": "stream",
     "text": [
      "['Prodo님이 들어왔습니다.', 'Ryan님이 들어왔습니다.', 'Prodo님이 나갔습습니다.', 'Prodo님이 들어왔습니다.']\n"
     ]
    }
   ],
   "source": [
    "# 오픈채팅방\n",
    "\n",
    "def solution(record):\n",
    "    answer = []\n",
    "    User={}\n",
    "    for i in record:\n",
    "        Enter_YN = i.split(\" \")[0]\n",
    "        User_ID = i.split(\" \")[1]\n",
    "        if Enter_YN == \"Enter\" or Enter_YN == \"Change\":\n",
    "            User_Nick = i.split(\" \")[2]\n",
    "            User[User_ID] = User_Nick\n",
    "            \n",
    "    for i in record:\n",
    "        Enter_YN = i.split(\" \")[0]\n",
    "        User_ID = i.split(\" \")[1]\n",
    "        if Enter_YN == \"Enter\":\n",
    "            answer.append(User[User_ID]+\"님이 들어왔습니다.\")\n",
    "        elif Enter_YN == \"Leave\":\n",
    "            answer.append(User[User_ID]+\"님이 나갔습니다.\")\n",
    "            \n",
    "    return answer\n",
    "\n",
    "aa = [\"Enter uid1234 Muzi\", \"Enter uid4567 Prodo\",\"Leave uid1234\",\"Enter uid1234 Prodo\",\"Change uid4567 Ryan\"]\n",
    "print(solution(aa))"
   ]
  }
 ],
 "metadata": {
  "kernelspec": {
   "display_name": "Python 3 (ipykernel)",
   "language": "python",
   "name": "python3"
  },
  "language_info": {
   "codemirror_mode": {
    "name": "ipython",
    "version": 3
   },
   "file_extension": ".py",
   "mimetype": "text/x-python",
   "name": "python",
   "nbconvert_exporter": "python",
   "pygments_lexer": "ipython3",
   "version": "3.9.13"
  },
  "toc": {
   "base_numbering": 1,
   "nav_menu": {},
   "number_sections": true,
   "sideBar": true,
   "skip_h1_title": false,
   "title_cell": "Table of Contents",
   "title_sidebar": "Contents",
   "toc_cell": false,
   "toc_position": {},
   "toc_section_display": true,
   "toc_window_display": false
  }
 },
 "nbformat": 4,
 "nbformat_minor": 5
}
