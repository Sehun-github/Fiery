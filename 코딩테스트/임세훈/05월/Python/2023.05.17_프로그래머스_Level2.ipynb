{
 "cells": [
  {
   "cell_type": "code",
   "execution_count": 34,
   "id": "ca664df0",
   "metadata": {
    "scrolled": false
   },
   "outputs": [
    {
     "name": "stdout",
     "output_type": "stream",
     "text": [
      "[1, 2, 3, 5]\n",
      "5\n"
     ]
    }
   ],
   "source": [
    "# 멀리 뛰기 - 피보나치 수열\n",
    "\n",
    "def solution(n):\n",
    "    a=[0]*n # 리스트 초기화\n",
    "    \n",
    "    if n < 3:\n",
    "        return n\n",
    "        \n",
    "    else:\n",
    "        a[0] = 1\n",
    "        a[1] = 2\n",
    "        \n",
    "        for i in range(2, n):\n",
    "            a[i] = a[i-2] + a[i-1]\n",
    "        return a[-1] % 1234567\n",
    "\n",
    "print(solution(4))\n",
    "\n",
    "\n",
    "# 간단한 코딩\n",
    "def jumpCase(num):\n",
    "    a, b = 1, 2\n",
    "    for i in range(2,num):\n",
    "        a, b = b, a+b\n",
    "    return b\n",
    "\n",
    "#아래는 테스트로 출력해 보기 위한 코드입니다.\n",
    "print(jumpCase(4))"
   ]
  },
  {
   "cell_type": "code",
   "execution_count": 117,
   "id": "9e3e651c",
   "metadata": {},
   "outputs": [
    {
     "name": "stdout",
     "output_type": "stream",
     "text": [
      "1\n",
      "2\n"
     ]
    }
   ],
   "source": [
    "# 귤 고르기 - 시간초과 // count함수가 시간을 되게 많이 걸리는듯해 보임\n",
    "\n",
    "def solution(k, tangerine):\n",
    "    a = {}\n",
    "    b = []\n",
    "    for i in tangerine:\n",
    "        a[i] = tangerine.count(i)\n",
    "    \n",
    "    for e,v in a.items():\n",
    "        b.append(v)\n",
    "        \n",
    "    b.sort()\n",
    "    d = b.copy()\n",
    "    c = len(tangerine)-k\n",
    "     \n",
    "    for i in range(len(b)):\n",
    "        if c >= b[i]:\n",
    "            c = c -b[i]\n",
    "            del d[i]\n",
    "        \n",
    "            \n",
    "    return len(d)\n",
    "print(solution(1,[1, 1, 1, 1, 2, 2, 2, 3]))\n",
    "\n",
    "\n",
    "## 두번째 시도 -- 몇개 통과, 몇개 런타임 에러 \n",
    "def solution(k, tangerine):\n",
    "    \n",
    "    if k == 1:\n",
    "        return 1\n",
    "    a = {}\n",
    "    b = []\n",
    "    answer=0\n",
    "    for i in tangerine:\n",
    "        if i not in a:\n",
    "            a[i] = 1\n",
    "        else:\n",
    "            a[i] +=1\n",
    "  \n",
    "    for e,v in a.items():\n",
    "        b.append(v)\n",
    "            \n",
    "    b.sort()\n",
    "    d = b.copy()\n",
    "    c = len(tangerine) - k\n",
    "    \n",
    "    for i in range(len(b)):\n",
    "        if c >= b[i]:\n",
    "            c = c-b[i]\n",
    "            del d[i]\n",
    "    \n",
    "    \n",
    "    return len(d)\n",
    "print(solution(10,[1,1,1,1,1,2]))\n",
    "\n",
    "## 세번째 도전 - 작은수로 sort하여 뺴는 형식이 아닌 Sort를 Reverse하여 귤을 가져가는 형식으로 로직 구현 성공\n",
    "\n",
    "def solution(k, tangerine):\n",
    "    answer = 0\n",
    "    a = {}\n",
    "    b = []\n",
    "    answer=0\n",
    "    for i in tangerine:\n",
    "        if i not in a:\n",
    "            a[i] = 1\n",
    "        else:\n",
    "            a[i] +=1\n",
    "  \n",
    "    for e,v in a.items():\n",
    "        b.append(v)\n",
    "            \n",
    "    b.sort(reverse = True)\n",
    "    for i in range(len(b)):\n",
    "        if k<=0:\n",
    "            return answer\n",
    "        k-=b[i]\n",
    "        answer+=1\n",
    "    return answer"
   ]
  },
  {
   "cell_type": "code",
   "execution_count": 1,
   "id": "3a4d653c",
   "metadata": {},
   "outputs": [
    {
     "name": "stdout",
     "output_type": "stream",
     "text": [
      "2\n"
     ]
    }
   ],
   "source": [
    "# 괄호 회전하기 - 스택 \n",
    "\n",
    "\n",
    "def solution(s):\n",
    "    answer = 0\n",
    "    s = list(s)\n",
    "    cnt = 0\n",
    "\n",
    "    for j in range(len(s)):\n",
    "        stack = []   \n",
    "        for i in range(len(s)):\n",
    "            if len(stack) > 0:\n",
    "                if stack[-1] == \"(\" and s[i] ==\")\":\n",
    "                    stack.pop()\n",
    "                elif stack[-1] == \"{\" and s[i] ==\"}\":\n",
    "                    stack.pop()\n",
    "                elif stack[-1] == \"[\" and s[i] ==\"]\":\n",
    "                    stack.pop()\n",
    "                else:\n",
    "                     stack.append(s[i])\n",
    "            else:\n",
    "                stack.append(s[i])\n",
    "\n",
    "        if len(stack) == 0:\n",
    "            answer += 1\n",
    "        \n",
    "        a = s[0]\n",
    "        del s[0]\n",
    "        s.append(a)\n",
    "    return answer\n",
    "\n",
    "print(solution(\"}]()[{\"))\n"
   ]
  },
  {
   "cell_type": "code",
   "execution_count": 2,
   "id": "a1302d18",
   "metadata": {},
   "outputs": [
    {
     "name": "stdout",
     "output_type": "stream",
     "text": [
      "3\n"
     ]
    }
   ],
   "source": [
    "# H-Index\n",
    "\n",
    "def solution(citations):\n",
    "    citations.sort()\n",
    "    a = len(citations)\n",
    "    for i in range(a):\n",
    "        if citations[i] >= a-i:\n",
    "            return a-i\n",
    "    return 0\n",
    "\n",
    "\n",
    "print(solution([3, 0, 6, 1, 5]))"
   ]
  },
  {
   "cell_type": "code",
   "execution_count": 21,
   "id": "c576bc92",
   "metadata": {},
   "outputs": [
    {
     "name": "stdout",
     "output_type": "stream",
     "text": [
      "18\n",
      "18\n"
     ]
    }
   ],
   "source": [
    "# 연속 부분 수열 합의 개수 - 시간 초과 // 2중 for문 때문?\n",
    "\n",
    "def solution(elements):\n",
    "    elements = elements*2\n",
    "    a = []\n",
    "    for j in range(int(len(elements)/2)):\n",
    "        sum = 0 \n",
    "        for i in range(j,int(len(elements)/2+j)):\n",
    "            sum += elements[i]\n",
    "            if sum not in a:\n",
    "                a.append(sum)\n",
    "    return len(a)\n",
    "\n",
    "print(solution([7,9,1,1,4]))\n",
    "\n",
    "\n",
    "## 2중 for문이 아닌 list를 set으로 수정하니 속도 개선됨.\n",
    "\n",
    "def solution(elements):\n",
    "    elements = elements*2\n",
    "    a = set()\n",
    "    for j in range(int(len(elements)/2)):\n",
    "        sum = 0 \n",
    "        for i in range(j,int(len(elements)/2+j)):\n",
    "            sum += elements[i]\n",
    "            if sum not in a:\n",
    "                a.add(sum)\n",
    "    return len(a)\n",
    "\n",
    "print(solution([7,9,1,1,4]))"
   ]
  }
 ],
 "metadata": {
  "kernelspec": {
   "display_name": "Python 3 (ipykernel)",
   "language": "python",
   "name": "python3"
  },
  "language_info": {
   "codemirror_mode": {
    "name": "ipython",
    "version": 3
   },
   "file_extension": ".py",
   "mimetype": "text/x-python",
   "name": "python",
   "nbconvert_exporter": "python",
   "pygments_lexer": "ipython3",
   "version": "3.9.13"
  },
  "toc": {
   "base_numbering": 1,
   "nav_menu": {},
   "number_sections": true,
   "sideBar": true,
   "skip_h1_title": false,
   "title_cell": "Table of Contents",
   "title_sidebar": "Contents",
   "toc_cell": false,
   "toc_position": {},
   "toc_section_display": true,
   "toc_window_display": false
  }
 },
 "nbformat": 4,
 "nbformat_minor": 5
}
