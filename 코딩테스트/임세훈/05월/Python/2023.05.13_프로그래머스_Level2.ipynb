{
 "cells": [
  {
   "cell_type": "markdown",
   "id": "bbb8c569",
   "metadata": {},
   "source": [
    "### 2023/05/15 - 프로그래머스_Level2"
   ]
  },
  {
   "cell_type": "code",
   "execution_count": null,
   "id": "1c23717e",
   "metadata": {},
   "outputs": [],
   "source": [
    "## 최댓값과 최솟값\n",
    "def solution(s):\n",
    "    max = -999999999\n",
    "    min = 999999999\n",
    "    for i in s.split(\" \"):\n",
    "        i = int(i)\n",
    "        if i > max:      \n",
    "            max = i\n",
    "        if i < min:\n",
    "            min = i\n",
    "    max = str(max)\n",
    "    min = str(min)\n",
    "\n",
    "    answer = min+\" \"+max\n",
    "    return answer"
   ]
  },
  {
   "cell_type": "code",
   "execution_count": 96,
   "id": "a41301cc",
   "metadata": {},
   "outputs": [],
   "source": [
    "## JadenCase 문자열 만들기\n",
    "# 첫번째 실패 - 테스트 8에서 탈락\n",
    "def solution(s):\n",
    "    s = s.split(\" \")\n",
    "    answer = ''\n",
    "    for i in s:\n",
    "        cnt = 0\n",
    "        for j in i:\n",
    "            if cnt == 0:\n",
    "                j = j.upper()\n",
    "            else:\n",
    "                j = j.lower()\n",
    "            answer += j\n",
    "            cnt +=1\n",
    "        answer += \" \"\n",
    "    answer = answer.strip()\n",
    "    return answer\n",
    "\n",
    "\n",
    "# 이유 - 맨뒤 띄어쓰기가 되어 있지만 strip()으로 인해 항상 띄어쓰기가 없어짐\n",
    "def solution(s):\n",
    "    s = s.split(\" \")\n",
    "    answer = ''\n",
    "    answer_list=[]\n",
    "    for i in s:\n",
    "        answer_list.append(i.capitalize())\n",
    "    answer = \" \".join(answer_list)    \n",
    "    return answer"
   ]
  },
  {
   "cell_type": "code",
   "execution_count": 119,
   "id": "82217eb2",
   "metadata": {},
   "outputs": [
    {
     "name": "stdout",
     "output_type": "stream",
     "text": [
      "[1, 2, 4]\n"
     ]
    },
    {
     "data": {
      "text/plain": [
       "29"
      ]
     },
     "execution_count": 119,
     "metadata": {},
     "output_type": "execute_result"
    }
   ],
   "source": [
    "## 최솟값 만들기 \n",
    "def solution(A,B):\n",
    "    answer = 0\n",
    "    A.sort()\n",
    "    print(A)\n",
    "    B.sort(reverse=True)\n",
    "    for i in range(len(A)):\n",
    "        answer = answer + A[i]*B[i]\n",
    "    return answer"
   ]
  },
  {
   "cell_type": "code",
   "execution_count": 137,
   "id": "b0680fce",
   "metadata": {},
   "outputs": [
    {
     "data": {
      "text/plain": [
       "False"
      ]
     },
     "execution_count": 137,
     "metadata": {},
     "output_type": "execute_result"
    }
   ],
   "source": [
    "## 올바른 괄호\n",
    "def solution(s):\n",
    "    answer = True\n",
    "    a = 0\n",
    "    for i in s:\n",
    "        if i == \"(\":\n",
    "            a += 1\n",
    "        else:\n",
    "            a -=1\n",
    "        if a < 0:\n",
    "            answer = False\n",
    "            break\n",
    "    if a != 0:\n",
    "        answer = False\n",
    "    return answer\n",
    "\n",
    "solution(\")()(\")"
   ]
  },
  {
   "cell_type": "code",
   "execution_count": 170,
   "id": "7c265d12",
   "metadata": {},
   "outputs": [
    {
     "data": {
      "text/plain": [
       "[3, 8]"
      ]
     },
     "execution_count": 170,
     "metadata": {},
     "output_type": "execute_result"
    }
   ],
   "source": [
    "# 이진 변환 반복하기\n",
    "def solution(s):\n",
    "    answer = []\n",
    "    cnt = 0\n",
    "    cnt_2 = 0\n",
    "    while (True):\n",
    "        for i in s:\n",
    "            if i == \"0\":\n",
    "                cnt_2 +=1\n",
    "        \n",
    "        s = s.replace(\"0\",\"\")\n",
    "        s = bin(len(s))[2:]\n",
    "        cnt +=1\n",
    "        if s == \"1\":\n",
    "             break\n",
    "    answer.append(cnt)\n",
    "    answer.append(cnt_2)\n",
    "    return answer\n",
    "\n",
    "solution(\"110010101001\")"
   ]
  },
  {
   "cell_type": "code",
   "execution_count": null,
   "id": "98cc02ce",
   "metadata": {},
   "outputs": [],
   "source": []
  }
 ],
 "metadata": {
  "kernelspec": {
   "display_name": "Python 3 (ipykernel)",
   "language": "python",
   "name": "python3"
  },
  "language_info": {
   "codemirror_mode": {
    "name": "ipython",
    "version": 3
   },
   "file_extension": ".py",
   "mimetype": "text/x-python",
   "name": "python",
   "nbconvert_exporter": "python",
   "pygments_lexer": "ipython3",
   "version": "3.9.13"
  },
  "toc": {
   "base_numbering": 1,
   "nav_menu": {},
   "number_sections": true,
   "sideBar": true,
   "skip_h1_title": false,
   "title_cell": "Table of Contents",
   "title_sidebar": "Contents",
   "toc_cell": false,
   "toc_position": {},
   "toc_section_display": true,
   "toc_window_display": false
  }
 },
 "nbformat": 4,
 "nbformat_minor": 5
}
