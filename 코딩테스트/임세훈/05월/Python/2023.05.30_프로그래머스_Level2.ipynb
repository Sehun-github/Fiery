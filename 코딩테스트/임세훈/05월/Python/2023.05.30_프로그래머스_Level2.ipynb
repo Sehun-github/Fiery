{
 "cells": [
  {
   "cell_type": "code",
   "execution_count": 22,
   "id": "5b050c1a",
   "metadata": {
    "scrolled": true
   },
   "outputs": [
    {
     "name": "stdout",
     "output_type": "stream",
     "text": [
      "62\n"
     ]
    }
   ],
   "source": [
    "# 다리를 지나는 트럭 - 실패(28.6점) \n",
    "\n",
    "def solution(bridge_length, weight, truck_weights):\n",
    "    List = []\n",
    "    \n",
    "    \n",
    "    cnt = 0\n",
    "    while truck_weights:\n",
    "        truck_weight = truck_weights.pop(0)\n",
    "           \n",
    "        if truck_weight + sum(List) <= weight:\n",
    "            cnt +=1\n",
    "        else:\n",
    "            List = []\n",
    "            cnt += bridge_length\n",
    "            \n",
    "        List.append(truck_weight)\n",
    "        \n",
    "        if len(truck_weights) == 0:\n",
    "            cnt += bridge_length\n",
    "    \n",
    "    return cnt\n",
    "\n",
    "\n",
    "aa = 20\n",
    "bb = 10\n",
    "cc = [7,4,5,6]\n",
    "print(solution(aa,bb,cc))\n",
    "\n",
    "\n",
    "# 두번째 시도 - 실행초과\n",
    "def solution(bridge_length, weight, truck_weights):\n",
    "    bridge = [0] * bridge_length\n",
    "    \n",
    "    \n",
    "    cnt = 0\n",
    "    while bridge:\n",
    "        bridge.pop(0)\n",
    "        cnt += 1\n",
    "        \n",
    "        if truck_weights:   \n",
    "            if truck_weights[0] + sum(bridge) <= weight:\n",
    "                bridge.append(truck_weights.pop(0))\n",
    "            else:\n",
    "                bridge.append(0)\n",
    "    \n",
    "    return cnt\n",
    "\n",
    "aa = 2\n",
    "bb = 10\n",
    "cc = [7,4,5,6]\n",
    "print(solution(aa,bb,cc))\n",
    "\n",
    "\n",
    "## 세번째 시도 - sum을 빼고 직접 무게를 더하고 빼는 과정 추가\n",
    "from collections import deque\n",
    "def solution(bridge_length, weight, truck_weights):\n",
    "    bridge = deque([0] * bridge_length)\n",
    "    truck_weights = deque(truck_weights)\n",
    "    \n",
    "    cnt = 0\n",
    "    sum_weight = 0\n",
    "    while bridge:\n",
    "        a = bridge.popleft()\n",
    "        cnt += 1\n",
    "        if a != 0:\n",
    "            sum_weight -= a\n",
    "        \n",
    "        if truck_weights:   \n",
    "            if truck_weights[0] + sum_weight <= weight:\n",
    "                truck_weight = truck_weights.popleft()\n",
    "                bridge.append(truck_weight)\n",
    "                sum_weight += truck_weight\n",
    "            else:\n",
    "                bridge.append(0)\n",
    "    return cnt\n"
   ]
  },
  {
   "cell_type": "code",
   "execution_count": 71,
   "id": "795a9d99",
   "metadata": {},
   "outputs": [
    {
     "name": "stdout",
     "output_type": "stream",
     "text": [
      "2\n"
     ]
    }
   ],
   "source": [
    "# 롤케이크 자르기 - 시간초과\n",
    "def solution(topping):\n",
    "    answer = 0\n",
    "    \n",
    "    for i in range(1,len(topping)):\n",
    "\n",
    "        a = topping[0:i]\n",
    "        b = topping[i:len(topping)]\n",
    "        \n",
    "        a_set = set(a)\n",
    "        b_set = set(b)\n",
    "        \n",
    "        if len(a_set) == len(b_set):\n",
    "            answer +=1\n",
    "    return answer\n",
    "\n",
    "\n",
    "aa = [1, 2, 1, 3, 1, 4, 1, 2]\n",
    "print(solution(aa))\n",
    "\n",
    "\n",
    "## Counter 라이브러리를 통한 시간 복잡도 줄이기\n",
    "from collections import Counter\n",
    "def solution(topping):\n",
    "    answer = 0\n",
    "    \n",
    "    a = Counter(topping)\n",
    "    b = {}\n",
    "    for i in topping:\n",
    "\n",
    "        if i not in b:\n",
    "            b[i] = 1\n",
    "        else:\n",
    "            b[i] += 1\n",
    "        \n",
    "        a[i] -= 1\n",
    "        if a[i] == 0:\n",
    "            del a[i]\n",
    "        \n",
    "        if len(a) == len(b):\n",
    "            answer +=1\n",
    "    return answer\n",
    "\n",
    "\n",
    "aa = [1, 2, 1, 3, 1, 4, 1, 2]\n",
    "print(solution(aa))"
   ]
  },
  {
   "cell_type": "code",
   "execution_count": 159,
   "id": "7c9069cc",
   "metadata": {},
   "outputs": [
    {
     "name": "stdout",
     "output_type": "stream",
     "text": [
      "0\n"
     ]
    }
   ],
   "source": [
    "# 가장 큰 수 - 보고 품 (if 3을 3번 곱하면 333으로 333이 303030보다 크므로 정렬할수 있다.)\n",
    "def solution(numbers):\n",
    "    numbers = list(map(str, numbers))\n",
    "    numbers.sort(key=lambda x: x * 3, reverse=True) \n",
    "    return str(int(''.join(numbers)))\n",
    "\n",
    "aa = [0,0,0]\n",
    "print(solution(aa))"
   ]
  },
  {
   "cell_type": "code",
   "execution_count": null,
   "id": "3c18a29b",
   "metadata": {},
   "outputs": [],
   "source": []
  }
 ],
 "metadata": {
  "kernelspec": {
   "display_name": "Python 3 (ipykernel)",
   "language": "python",
   "name": "python3"
  },
  "language_info": {
   "codemirror_mode": {
    "name": "ipython",
    "version": 3
   },
   "file_extension": ".py",
   "mimetype": "text/x-python",
   "name": "python",
   "nbconvert_exporter": "python",
   "pygments_lexer": "ipython3",
   "version": "3.9.13"
  },
  "toc": {
   "base_numbering": 1,
   "nav_menu": {},
   "number_sections": true,
   "sideBar": true,
   "skip_h1_title": false,
   "title_cell": "Table of Contents",
   "title_sidebar": "Contents",
   "toc_cell": false,
   "toc_position": {},
   "toc_section_display": true,
   "toc_window_display": false
  }
 },
 "nbformat": 4,
 "nbformat_minor": 5
}
