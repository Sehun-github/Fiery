{
 "cells": [
  {
   "cell_type": "code",
   "execution_count": 18,
   "id": "2641babe",
   "metadata": {},
   "outputs": [
    {
     "name": "stdout",
     "output_type": "stream",
     "text": [
      "4\n"
     ]
    }
   ],
   "source": [
    "# 숫자의 표현\n",
    "\n",
    "def solution(n):\n",
    "    cnt = 0\n",
    "    for i in range(1,n+1):\n",
    "        sum = 0\n",
    "        for j in range(i,n+1):\n",
    "            sum += j\n",
    "            if sum > n:\n",
    "                break\n",
    "            elif sum == n:\n",
    "                cnt +=1\n",
    "                break\n",
    "            \n",
    "    return cnt\n",
    "\n",
    "print(solution(15))"
   ]
  },
  {
   "cell_type": "code",
   "execution_count": 35,
   "id": "15561b6f",
   "metadata": {},
   "outputs": [
    {
     "name": "stdout",
     "output_type": "stream",
     "text": [
      "83\n",
      "83\n"
     ]
    }
   ],
   "source": [
    "# 다음 큰 숫자\n",
    "\n",
    "def solution(n):\n",
    "    cnt = 0\n",
    "    a = bin(n)[2:]\n",
    "    for i in a:\n",
    "        if i == \"1\":\n",
    "            cnt +=1\n",
    "            \n",
    "    while (True):\n",
    "        cnt2 = 0\n",
    "        n += 1\n",
    "        a = bin(n)[2:]\n",
    "        for i in a:\n",
    "            if i == \"1\":\n",
    "                cnt2 +=1 \n",
    "        if cnt == cnt2:\n",
    "            break\n",
    "    return n\n",
    "\n",
    "print(solution(78))\n",
    "\n",
    "\n",
    "## 다른사람 풀이 - count(\"1\")는 String에서 1 갯수 return\n",
    "\n",
    "def nextBigNumber(n):\n",
    "    answer = 0\n",
    "    a = bin(n).count(\"1\")\n",
    "    while(True):\n",
    "        n += 1\n",
    "        b = bin(n).count(\"1\")\n",
    "        if a == b:\n",
    "            break\n",
    "    return n\n",
    "\n",
    "print(nextBigNumber(78))"
   ]
  },
  {
   "cell_type": "code",
   "execution_count": 61,
   "id": "24050ef3",
   "metadata": {
    "scrolled": true
   },
   "outputs": [
    {
     "name": "stdout",
     "output_type": "stream",
     "text": [
      "2\n",
      "2\n"
     ]
    }
   ],
   "source": [
    "# 피보나치 수\n",
    "\n",
    "def solution(n):\n",
    "    sum = 0\n",
    "    a = []\n",
    "    a.append(0)\n",
    "    a.append(1)\n",
    "    for i in range(n):\n",
    "        a.append(a[i] + a[i+1])\n",
    "    answer = a[n]%1234567\n",
    "    return answer\n",
    "\n",
    "print(solution(3))\n",
    "\n",
    "\n",
    "## 다른 사람 풀이 - 튜플을 사용하여 간단하게 표현..\n",
    "\n",
    "def solution(n):\n",
    "    a, b = 0,1\n",
    "    for i in range(n-1):  \n",
    "        a, b = b, a+b\n",
    "    \n",
    "    b = b%1234567\n",
    "    return b\n",
    "\n",
    "print(solution(3))"
   ]
  },
  {
   "cell_type": "code",
   "execution_count": 133,
   "id": "f72ef67f",
   "metadata": {},
   "outputs": [
    {
     "name": "stdout",
     "output_type": "stream",
     "text": [
      "1\n"
     ]
    }
   ],
   "source": [
    "# 짝지어 제거하기 - 되긴하는데 시간초과로 실패 (지울때마다 처음으로 돌아가서 다시 해서 그런가?)\n",
    "\n",
    "def solution(s):\n",
    "    while (True):\n",
    "        cnt = 0 # 만약 제외할게 없다면 바로 끝낼수 있는 변수\n",
    "        s = list(s)\n",
    "        i = len(s)\n",
    "        if i == 1 or i == 0: break\n",
    "        for j in range(i-1):\n",
    "            if s[j] == s[j+1]:\n",
    "                del s[j]\n",
    "                del s[j]\n",
    "                cnt +=1\n",
    "                break\n",
    "        if cnt == 0:\n",
    "            break\n",
    "    answer = 1 if s == [] else 0\n",
    "    return answer\n",
    "\n",
    "print(solution(\"aaabba\"))\n",
    "\n",
    "\n",
    "## 다른사람 풀이 보고 품 - 하나의 리스트를 만들어 없으면 저장, 있으면 삭제 스택 알고리즘?\n",
    "\n",
    "def solution(s):\n",
    "    stack = []\n",
    "    for i in range(len(s)):       \n",
    "        if s[i] not in stack:\n",
    "            stack.append(s[i])\n",
    "        else:\n",
    "            if s[i] == stack[-1]: # stack의 마지막 가져오기\n",
    "                del stack[-1]\n",
    "            else:\n",
    "                stack.append(s[i])    \n",
    "    answer = 1 if stack == [] else 0\n",
    "    return answer\n",
    "print(solution(\"baabaa\"))"
   ]
  },
  {
   "cell_type": "code",
   "execution_count": 335,
   "id": "4e300639",
   "metadata": {
    "scrolled": false
   },
   "outputs": [
    {
     "name": "stdout",
     "output_type": "stream",
     "text": [
      "['hello', 'observe', 'effect', 'take', 'either', 'recognize', 'encourage', 'ensure', 'establish', 'hang', 'gather', 'refer', 'reference', 'estimate', 'executive']\n",
      "[0, 0]\n",
      "1\n",
      "2\n",
      "3\n",
      "4\n",
      "5\n",
      "6\n",
      "7\n",
      "8\n",
      "[3, 3]\n"
     ]
    }
   ],
   "source": [
    "# 영어 끝말잇기\n",
    "\n",
    "import math\n",
    "def solution(n, words):\n",
    "    answer = []\n",
    "    a = [0,0]\n",
    "    cnt = 0\n",
    "    for i in range(len(words)):\n",
    "        \n",
    "        if answer != []:\n",
    "            if answer[-1][-1] != words[i][0]:\n",
    "                cnt +=1\n",
    "                break\n",
    "        \n",
    "        if words[i] in answer:\n",
    "            cnt +=1\n",
    "            break\n",
    "        answer.append(words[i])\n",
    "    \n",
    "    print(answer)\n",
    "    if cnt != 0:    \n",
    "        a[0] = n if (len(answer)+1) % n == 0 else (len(answer)+1) % n\n",
    "\n",
    "        a[1] = math.ceil((len(answer)+1) / n)\n",
    "\n",
    "    return a\n",
    "\n",
    "a = [\"hello\", \"observe\", \"effect\", \"take\", \"either\", \"recognize\", \"encourage\", \"ensure\", \"establish\", \"hang\", \"gather\", \"refer\", \"reference\", \"estimate\", \"executive\"]\n",
    "print(solution(5, a))\n",
    "\n",
    "\n",
    "## 비슷한 맥락이지만 깔끔한 코드\n",
    "\n",
    "def solution(n, words):\n",
    "    for p in range(1, len(words)):\n",
    "        if words[p][0] != words[p-1][-1] or words[p] in words[:p]: return [(p%n)+1, (p//n)+1]\n",
    "        \n",
    "    else:\n",
    "        return [0,0]\n",
    "    \n",
    "a = [\"tank\", \"kick\", \"know\", \"wheel\", \"land\", \"dream\", \"mother\", \"robot\", \"tank\"]    \n",
    "print(solution(3, a))"
   ]
  }
 ],
 "metadata": {
  "kernelspec": {
   "display_name": "Python 3 (ipykernel)",
   "language": "python",
   "name": "python3"
  },
  "language_info": {
   "codemirror_mode": {
    "name": "ipython",
    "version": 3
   },
   "file_extension": ".py",
   "mimetype": "text/x-python",
   "name": "python",
   "nbconvert_exporter": "python",
   "pygments_lexer": "ipython3",
   "version": "3.9.13"
  },
  "toc": {
   "base_numbering": 1,
   "nav_menu": {},
   "number_sections": true,
   "sideBar": true,
   "skip_h1_title": false,
   "title_cell": "Table of Contents",
   "title_sidebar": "Contents",
   "toc_cell": false,
   "toc_position": {},
   "toc_section_display": true,
   "toc_window_display": false
  }
 },
 "nbformat": 4,
 "nbformat_minor": 5
}
