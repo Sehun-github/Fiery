{
 "cells": [
  {
   "cell_type": "code",
   "execution_count": 264,
   "id": "8ef433dd",
   "metadata": {},
   "outputs": [
    {
     "name": "stdout",
     "output_type": "stream",
     "text": [
      "1\n"
     ]
    }
   ],
   "source": [
    "# 소수 찾기 - 실패 58.3점\n",
    "from itertools import permutations\n",
    "def solution(numbers):\n",
    "    answer = 0\n",
    "    number_set = set()\n",
    "    \n",
    "    number_list = list(numbers)\n",
    "    for i in range(len(number_list)):\n",
    "        a = permutations(number_list,i+1)\n",
    "        for i in a:\n",
    "            if i[0] != '0':\n",
    "                number_set.add(i)\n",
    "    \n",
    "    for i in number_set:\n",
    "        number = int(\"\".join(list(i)))\n",
    "        \n",
    "        if number > 2:\n",
    "            cnt = 0\n",
    "            for i in range(2,int(number**0.5+1)):\n",
    "                if number % i ==0:\n",
    "                    cnt +=1\n",
    "                    break\n",
    "            if cnt == 0:\n",
    "                answer += 1\n",
    "        \n",
    "    return answer\n",
    "\n",
    "aa = \"111\"\n",
    "print(solution(aa))\n",
    "\n",
    "# 2보다 큰게 아닌 2를 포함해야함\n",
    "\n",
    "from itertools import permutations\n",
    "def solution(numbers):\n",
    "    answer = 0\n",
    "    number_set = set()\n",
    "    \n",
    "    number_list = list(numbers)\n",
    "    for i in range(len(number_list)):\n",
    "        permutation = permutations(number_list,i+1)\n",
    "        for j in permutation:\n",
    "            k = int(\"\".join(list(j)))\n",
    "            number_set.add(k)\n",
    "    \n",
    "    for number in number_set:\n",
    "        cnt = 0\n",
    "        if number >= 2:\n",
    "            for i in range(2,int(number**0.5+1)):\n",
    "                if number % i ==0:\n",
    "                    cnt +=1\n",
    "                    break\n",
    "            if cnt == 0:\n",
    "                answer += 1\n",
    "\n",
    "    return answer"
   ]
  },
  {
   "cell_type": "code",
   "execution_count": 304,
   "id": "62888078",
   "metadata": {},
   "outputs": [
    {
     "name": "stdout",
     "output_type": "stream",
     "text": [
      "[4, 9]\n"
     ]
    }
   ],
   "source": [
    "# 쿼드압축 후 개수 세기 - 재귀함수(풀이보고 품)\n",
    "\n",
    "def solution(arr):\n",
    "    answer = [0, 0]\n",
    "    n = len(arr)\n",
    "    \n",
    "    def quard(x, y, n):\n",
    "        first = arr[x][y]\n",
    "        \n",
    "        for i in range(x, x + n):\n",
    "            for j in range(y, y + n):\n",
    "                if arr[i][j] != first:\n",
    "                # 4 분할\n",
    "                    n //= 2\n",
    "                    quard(x, y, n) # 왼쪽 위\n",
    "                    quard(x, y + n, n) # 오른쪽 위\n",
    "                    quard(x + n, y, n) # 왼쪽 아래\n",
    "                    quard(x + n, y + n, n) # 오른쪽 아래\n",
    "                    return\n",
    "                \n",
    "        # 전부 통과한 경우 압축\n",
    "        answer[first] += 1\n",
    "    \n",
    "    quard(0, 0, n)\n",
    "\n",
    "    return (answer)\n",
    "\n",
    "aa = [[1,1,0,0],[1,0,0,0],[1,0,0,1],[1,1,1,1]]\n",
    "print(solution(aa))"
   ]
  },
  {
   "cell_type": "code",
   "execution_count": 339,
   "id": "98b30019",
   "metadata": {},
   "outputs": [
    {
     "name": "stdout",
     "output_type": "stream",
     "text": [
      "77841\n"
     ]
    }
   ],
   "source": [
    "# 큰 수 만들기 - 테스트 12 실패\n",
    "def solution(number, k):\n",
    "    answer = \"\"\n",
    "    number_list = list(map(int,number))\n",
    "    result = [number_list.pop(0)]\n",
    "    \n",
    "    for i in number_list:\n",
    "        if result[-1] < i:\n",
    "            while result and k > 0 and result[-1] < i:\n",
    "                result.pop()\n",
    "                k -= 1\n",
    "        result.append(i)\n",
    "    \n",
    "    return \"\".join(map(str,result))\n",
    "\n",
    "aa = \"4177252841\"\n",
    "bb = 5\n",
    "print(solution(aa,bb))\n",
    "\n",
    "\n",
    "## 성공 - 처음부터 계속 작은수가 나와 지워지지 않는 경우가 발생 - 그런경우 뒤에서부터 k개수대로 지워야함\n",
    "def solution(number, k):\n",
    "    answer = \"\"\n",
    "    number_list = list(map(int,number))\n",
    "    result = [number_list.pop(0)]\n",
    "    \n",
    "    for i in number_list:\n",
    "        if result[-1] < i:\n",
    "            while result and k > 0 and result[-1] < i:\n",
    "                result.pop()\n",
    "                k -= 1\n",
    "        result.append(i)\n",
    "    \n",
    "    if k:\n",
    "        result=result[:-k]\n",
    "    \n",
    "    return str(int(\"\".join(map(str,result))))"
   ]
  }
 ],
 "metadata": {
  "kernelspec": {
   "display_name": "Python 3 (ipykernel)",
   "language": "python",
   "name": "python3"
  },
  "language_info": {
   "codemirror_mode": {
    "name": "ipython",
    "version": 3
   },
   "file_extension": ".py",
   "mimetype": "text/x-python",
   "name": "python",
   "nbconvert_exporter": "python",
   "pygments_lexer": "ipython3",
   "version": "3.9.13"
  },
  "toc": {
   "base_numbering": 1,
   "nav_menu": {},
   "number_sections": true,
   "sideBar": true,
   "skip_h1_title": false,
   "title_cell": "Table of Contents",
   "title_sidebar": "Contents",
   "toc_cell": false,
   "toc_position": {},
   "toc_section_display": true,
   "toc_window_display": false
  }
 },
 "nbformat": 4,
 "nbformat_minor": 5
}
