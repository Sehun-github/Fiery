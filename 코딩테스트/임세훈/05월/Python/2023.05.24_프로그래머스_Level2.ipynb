{
 "cells": [
  {
   "cell_type": "code",
   "execution_count": 12,
   "id": "c212426a",
   "metadata": {
    "scrolled": true
   },
   "outputs": [
    {
     "name": "stdout",
     "output_type": "stream",
     "text": [
      "[4, 3, 1, 1, 0]\n",
      "[4, 3, 1, 1, 0]\n"
     ]
    }
   ],
   "source": [
    "# 주식가격 - 정확성 성공 & 효율성 테스트 실패\n",
    "\n",
    "def solution(prices):\n",
    "    answer = []\n",
    "    \n",
    "    while prices:\n",
    "        now_price = prices.pop(0)\n",
    "        cnt = 0\n",
    "        for i in prices:\n",
    "            cnt +=1\n",
    "            if now_price > i:\n",
    "                break\n",
    "            \n",
    "        answer.append(cnt)\n",
    "        \n",
    "    return answer\n",
    "\n",
    "aa = [1, 2, 3, 2, 3]\n",
    "print(solution(aa))\n",
    "\n",
    "\n",
    "## deque를 통해 시간 줄이기\n",
    "from collections import deque\n",
    "def solution(prices):\n",
    "    prices = deque(prices)\n",
    "    answer = []\n",
    "    \n",
    "    while prices:\n",
    "        now_price = prices.popleft()\n",
    "        cnt = 0\n",
    "        for i in prices:\n",
    "            cnt +=1\n",
    "            if now_price > i:\n",
    "                break\n",
    "            \n",
    "        answer.append(cnt)\n",
    "        \n",
    "    return answer\n",
    "\n",
    "aa = [1, 2, 3, 2, 3]\n",
    "print(solution(aa))"
   ]
  },
  {
   "cell_type": "code",
   "execution_count": 68,
   "id": "6c3ed2ee",
   "metadata": {},
   "outputs": [
    {
     "name": "stdout",
     "output_type": "stream",
     "text": [
      "16\n"
     ]
    }
   ],
   "source": [
    "# 땅따먹기 - 밑으로 더하기\n",
    "\n",
    "def solution(land):\n",
    "    for i in range(1,len(land)):\n",
    "        for j in range(len(land[0])):\n",
    "            land[i][j] += max(land[i-1][:j]+land[i-1][j+1:])\n",
    "    return max(land[len(land)-1])\n",
    "\n",
    "aa = [[1,2,3,5],[5,6,7,8],[4,3,2,1]]\n",
    "print(solution(aa))"
   ]
  },
  {
   "cell_type": "code",
   "execution_count": 32,
   "id": "85c7bdc3",
   "metadata": {},
   "outputs": [
    {
     "name": "stdout",
     "output_type": "stream",
     "text": [
      "[3, 0, 9, 10, 11]\n",
      "[2, 0, 8, 0, 10]\n",
      "[3, 0, 7, 8, 9]\n",
      "[4, 5, 6, 0, 10]\n",
      "[0, 0, 0, 0, 11]\n",
      "11\n"
     ]
    }
   ],
   "source": [
    "# 게임 맵 최단거리 - 풀이 보고 품\n",
    "\n",
    "def solution(maps):\n",
    "    \n",
    "    directions = [(1,0),(-1,0),(0,1),(0,-1)] # 상하좌우\n",
    "    XY = [(0,0)]\n",
    "    \n",
    "    \n",
    "    while XY:\n",
    "        x,y = XY.pop(0)\n",
    "        \n",
    "        for i in range(len(directions)):\n",
    "            xx = x+ directions[i][0]\n",
    "            yy = y+ directions[i][1]\n",
    "            \n",
    "            if 0<=xx<len(maps) and 0<=yy<len(maps[0]) and maps[xx][yy] == 1:\n",
    "                maps[xx][yy] += maps[x][y]\n",
    "                XY.append((xx,yy))\n",
    "    for i in maps:\n",
    "        print(i)\n",
    "        \n",
    "    \n",
    "    \n",
    "    return maps[-1][-1] if maps[-1][-1] > 1 else -1\n",
    "aa = [[1,0,1,1,1],[1,0,1,0,1],[1,0,1,1,1],[1,1,1,0,1],[0,0,0,0,1]]\n",
    "print(solution(aa))"
   ]
  },
  {
   "cell_type": "code",
   "execution_count": 29,
   "id": "37a9cd22",
   "metadata": {
    "scrolled": true
   },
   "outputs": [
    {
     "name": "stdout",
     "output_type": "stream",
     "text": [
      "11\n"
     ]
    }
   ],
   "source": [
    "def solution(maps):\n",
    "    \n",
    "    directions = [(1,0),(-1,0),(0,1),(0,-1)] # 상하좌우\n",
    "    XY = [(0,0)]\n",
    "    \n",
    "    \n",
    "    while XY:\n",
    "        x,y = XY.pop(0)\n",
    "        \n",
    "        for i in range(len(directions)):\n",
    "            xx = x+ directions[i][0]\n",
    "            yy = y+ directions[i][1]\n",
    "            \n",
    "            if 0<=xx<len(maps) and 0<=yy<len(maps[0]) and maps[xx][yy] == 1:\n",
    "                maps[xx][yy] += maps[x][y]\n",
    "                XY.append((xx,yy))\n",
    "\n",
    "    \n",
    "    return maps[-1][-1] if maps[-1][-1] > 1 else -1\n",
    "aa = [[1,0,1,1,1],[1,0,1,0,1],[1,0,1,1,1],[1,1,1,0,1],[0,0,0,0,1]]\n",
    "print(solution(aa))"
   ]
  },
  {
   "cell_type": "code",
   "execution_count": 20,
   "id": "fb95700b",
   "metadata": {},
   "outputs": [
    {
     "name": "stdout",
     "output_type": "stream",
     "text": [
      "1 2\n"
     ]
    }
   ],
   "source": [
    "a = [(1,2)]\n",
    "b,c = a.pop(0)\n",
    "print(b,c)"
   ]
  },
  {
   "cell_type": "code",
   "execution_count": 144,
   "id": "3ba24387",
   "metadata": {
    "scrolled": true
   },
   "outputs": [
    {
     "name": "stdout",
     "output_type": "stream",
     "text": [
      "9\n",
      "8\n"
     ]
    }
   ],
   "source": [
    "# 방문 길이  - 35점 // 해당 내용은 0,0 -> 1,0을 두번 간거는 체크 되는데 1,0->0,0으로 간거는 체크 되지 않음\n",
    "\n",
    "def solution(dirs):\n",
    "    street = [[0,0]]\n",
    "    \n",
    "    for word in dirs:\n",
    "        x = street[-1][0]\n",
    "        y = street[-1][1]\n",
    "        if word == \"L\":\n",
    "            if x != -5:\n",
    "                street.append([x-1,y])\n",
    "        \n",
    "        elif word == \"R\":\n",
    "            if x != 5:\n",
    "                street.append([x+1,y])\n",
    "                \n",
    "        elif word == \"U\":\n",
    "            if y != 5:\n",
    "                street.append([x,y+1])\n",
    "        \n",
    "        elif word == \"D\":\n",
    "            if y != -5:\n",
    "                street.append([x,y-1])\n",
    "    \n",
    "    steet_2 = []\n",
    "    for i in range(len(street)-1):\n",
    "        if [street[i],street[i+1]] not in steet_2:\n",
    "            steet_2.append([street[i],street[i+1]])\n",
    "            \n",
    "    return len(steet_2)\n",
    "\n",
    "print(solution(\"LULLLLLLUULD\"))\n",
    "\n",
    "# 두번째 시도 - 성공\n",
    "def solution(dirs):\n",
    "    street = [[0,0]]\n",
    "    \n",
    "    for word in dirs:\n",
    "        x = street[-1][0]\n",
    "        y = street[-1][1]\n",
    "        if word == \"L\":\n",
    "            if x != -5:\n",
    "                street.append([x-1,y])\n",
    "        elif word == \"R\":\n",
    "            if x != 5:\n",
    "                street.append([x+1,y])      \n",
    "        elif word == \"U\":\n",
    "            if y != 5:\n",
    "                street.append([x,y+1])\n",
    "        elif word == \"D\":\n",
    "            if y != -5:\n",
    "                street.append([x,y-1])\n",
    "    \n",
    "    steet_2 = []\n",
    "    for i in range(len(street)-1):\n",
    "        if [street[i],street[i+1]] not in steet_2 and [street[i+1],street[i]] not in steet_2: # 1,0->0,0으로 간거도 있는지 체크\n",
    "            steet_2.append([street[i],street[i+1]])\n",
    "    return len(steet_2)\n",
    "print(solution(\"LULLLLLLUULD\"))"
   ]
  },
  {
   "cell_type": "code",
   "execution_count": null,
   "id": "01af2cdb",
   "metadata": {},
   "outputs": [],
   "source": []
  }
 ],
 "metadata": {
  "kernelspec": {
   "display_name": "Python 3 (ipykernel)",
   "language": "python",
   "name": "python3"
  },
  "language_info": {
   "codemirror_mode": {
    "name": "ipython",
    "version": 3
   },
   "file_extension": ".py",
   "mimetype": "text/x-python",
   "name": "python",
   "nbconvert_exporter": "python",
   "pygments_lexer": "ipython3",
   "version": "3.9.13"
  },
  "toc": {
   "base_numbering": 1,
   "nav_menu": {},
   "number_sections": true,
   "sideBar": true,
   "skip_h1_title": false,
   "title_cell": "Table of Contents",
   "title_sidebar": "Contents",
   "toc_cell": false,
   "toc_position": {},
   "toc_section_display": true,
   "toc_window_display": false
  }
 },
 "nbformat": 4,
 "nbformat_minor": 5
}
