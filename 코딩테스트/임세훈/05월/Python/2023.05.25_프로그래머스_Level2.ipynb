{
 "cells": [
  {
   "cell_type": "code",
   "execution_count": 43,
   "id": "5fc10639",
   "metadata": {
    "scrolled": false
   },
   "outputs": [
    {
     "name": "stdout",
     "output_type": "stream",
     "text": [
      "2\n"
     ]
    }
   ],
   "source": [
    "# 스킬트리\n",
    "\n",
    "def solution(skill, skill_trees):\n",
    "    \n",
    "    count = 0\n",
    "    for skill_tree in skill_trees:\n",
    "        s = \"\"\n",
    "        for i in skill_tree:\n",
    "            if i in skill:\n",
    "                s +=i\n",
    "        \n",
    "        if skill[:len(s)] == s:\n",
    "            count+=1\n",
    "        \n",
    "    return count\n",
    "\n",
    "aa = \"CBD\"\n",
    "\n",
    "bb = [\"BACDE\", \"CBADF\", \"AECB\", \"BDA\"]\n",
    "print(solution(aa,bb))"
   ]
  },
  {
   "cell_type": "code",
   "execution_count": 89,
   "id": "5fa35df3",
   "metadata": {},
   "outputs": [
    {
     "name": "stdout",
     "output_type": "stream",
     "text": [
      "6\n",
      "782\n"
     ]
    }
   ],
   "source": [
    "# 모음사전 - 시간적으로 걸리나 통과\n",
    "\n",
    "def solution(word):\n",
    "    List = ['A','E','I','O','U','']\n",
    "    word_list = []\n",
    "    \n",
    "    for a in List:\n",
    "        for b in List:\n",
    "            for c in List:\n",
    "                for d in List:\n",
    "                    for f in List:\n",
    "                        s = a+b+c+d+f\n",
    "                        if s not in word_list:\n",
    "                            word_list.append(s)\n",
    "    \n",
    "    word_list.sort()\n",
    "    \n",
    "    return word_list.index(word)\n",
    "\n",
    "aa = \"AAAAE\"\n",
    "print(solution(aa))\n",
    "\n",
    "\n",
    "## dict 활용\n",
    "def solution(word):\n",
    "    dict = {'A' : 1, 'E' : 2, 'I' : 3, 'O': 4, 'U' : 5}\n",
    "    n = len(word)\n",
    "    answer = n\n",
    "    for i in range(n):\n",
    "        temp = 0\n",
    "        for j in range(4 - i, -1, -1):\n",
    "            temp += 5 ** j\n",
    "        answer += temp * (dict[word[i]] - 1)\n",
    "    return answer\n",
    "\n",
    "\n",
    "aa = \"E\"\n",
    "print(solution(aa))"
   ]
  },
  {
   "cell_type": "code",
   "execution_count": 162,
   "id": "a6e2666b",
   "metadata": {
    "scrolled": true
   },
   "outputs": [
    {
     "name": "stdout",
     "output_type": "stream",
     "text": [
      "['i12', 'img1.png', 'IMG01.GIF', 'img02.png', 'img2.JPG', 'img10.png']\n"
     ]
    }
   ],
   "source": [
    "# [3차] 파일명 정렬 - 실패 55점\n",
    "\n",
    "def solution(files):\n",
    "    answer = []\n",
    "    \n",
    "    for file in files:\n",
    "        head, number, tail = '','',''\n",
    "        \n",
    "        number_check  = False\n",
    "        for i in range(len(file)):\n",
    "            if file[i].isdigit(): # number\n",
    "                number += file[i]\n",
    "                number_check = True\n",
    "            elif not number_check:\n",
    "                head += file[i] # head\n",
    "            else:\n",
    "                tail += file[i] # tail \n",
    "              \n",
    "                \n",
    "        answer.append((head,number,tail))\n",
    "        \n",
    "    answer.sort(key=lambda x:(x[0].lower(), int(x[1])))\n",
    "        \n",
    "    file_list = []\n",
    "    for i in answer:\n",
    "        file_list.append(''.join(i))\n",
    "        \n",
    "    return file_list\n",
    "\n",
    "aa =  [\"i12\", \"img10.png\", \"img02.png\", \"img1.png\", \"IMG01.GIF\", \"img2.JPG\"]\n",
    "print(solution(aa))\n",
    "\n",
    "\n",
    "# [3차] 파일명 정렬 -  성공\n",
    "\n",
    "def solution(files):\n",
    "    answer = []\n",
    "    \n",
    "    for file in files:\n",
    "        head, number, tail = '','',''\n",
    "        \n",
    "        number_check  = False\n",
    "        for i in range(len(file)):\n",
    "            if file[i].isdigit(): # number\n",
    "                number += file[i]\n",
    "                number_check = True\n",
    "            elif not number_check:\n",
    "                head += file[i] # head\n",
    "            else:\n",
    "                tail += file[i:] # tail - 뒤에 또 숫자가 나오면 number로 들어가기때문에 바로 break를 건다\n",
    "                break\n",
    "                \n",
    "        answer.append((head,number,tail))\n",
    "        \n",
    "    answer.sort(key=lambda x:(x[0].lower(), int(x[1])))\n",
    "        \n",
    "    file_list = []\n",
    "    for i in answer:\n",
    "        file_list.append(''.join(i))\n",
    "        \n",
    "    return file_list\n",
    "\n",
    "aa =  [\"i12\", \"img10.png\", \"img02.png\", \"img1.png\", \"IMG01.GIF\", \"img2.JPG\"]\n",
    "print(solution(aa))"
   ]
  },
  {
   "cell_type": "code",
   "execution_count": 278,
   "id": "767e71f8",
   "metadata": {},
   "outputs": [
    {
     "name": "stdout",
     "output_type": "stream",
     "text": [
      "14\n"
     ]
    }
   ],
   "source": [
    "# [1차] 프렌즈4블록 - 리스트를 할당해놓고 비교하면서 제거\n",
    "\n",
    "def solution(m, n, board):\n",
    "    answer = 0\n",
    "    \n",
    "    # board 리스트로\n",
    "    for i in range(len(board)):\n",
    "        board[i] = list(board[i])\n",
    "        \n",
    "        \n",
    "    while True:\n",
    "       \n",
    "        filter = [[0]*n for _ in range(m)]\n",
    "        \n",
    "        \n",
    "        # 첫번째 같은 4칸을 filter 리스트에 옮기기\n",
    "        for i in range(m-1):\n",
    "            for j in range(n-1):\n",
    "                a = board[i][j]\n",
    "                b = board[i][j+1]\n",
    "                c = board[i+1][j]\n",
    "                d = board[i+1][j+1]\n",
    "                \n",
    "                \n",
    "                if a==b==c==d and a!=0 and b!=0 and c!=0 and d!=0:\n",
    "                    filter[i][j],filter[i][j+1],filter[i+1][j],filter[i+1][j+1] = 1,1,1,1\n",
    "        \n",
    "        # 첫번째 터지는 개수 확인\n",
    "        count = 0\n",
    "        for i in range(m):\n",
    "            for j in range(n):\n",
    "                if filter[i][j] == 1:\n",
    "                    count +=1\n",
    "        answer += count\n",
    "        if count == 0:\n",
    "            break\n",
    "\n",
    "        # 밑으로 내리기\n",
    "        for i in range(m-1,-1,-1):\n",
    "            for j in range(n):\n",
    "\n",
    "                if filter[i][j] == 1:\n",
    "                    x = i - 1\n",
    "                    while x >= 0 and filter[x][j] == 1: \n",
    "                        x -= 1\n",
    "                    if x < 0:\n",
    "                        board[i][j] = 0\n",
    "                    else:\n",
    "                        board[i][j] = board[x][j]\n",
    "                        filter[x][j] = 1\n",
    "\n",
    "    return answer    \n",
    "        \n",
    "print(solution(4,5,[\"CCBDE\", \"AAADE\", \"AAABF\", \"CCBBF\"]))"
   ]
  }
 ],
 "metadata": {
  "kernelspec": {
   "display_name": "Python 3 (ipykernel)",
   "language": "python",
   "name": "python3"
  },
  "language_info": {
   "codemirror_mode": {
    "name": "ipython",
    "version": 3
   },
   "file_extension": ".py",
   "mimetype": "text/x-python",
   "name": "python",
   "nbconvert_exporter": "python",
   "pygments_lexer": "ipython3",
   "version": "3.9.13"
  },
  "toc": {
   "base_numbering": 1,
   "nav_menu": {},
   "number_sections": true,
   "sideBar": true,
   "skip_h1_title": false,
   "title_cell": "Table of Contents",
   "title_sidebar": "Contents",
   "toc_cell": false,
   "toc_position": {},
   "toc_section_display": true,
   "toc_window_display": false
  }
 },
 "nbformat": 4,
 "nbformat_minor": 5
}
