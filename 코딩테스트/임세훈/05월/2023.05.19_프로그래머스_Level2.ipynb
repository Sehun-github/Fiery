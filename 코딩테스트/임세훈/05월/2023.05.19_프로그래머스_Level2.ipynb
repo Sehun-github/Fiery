{
 "cells": [
  {
   "cell_type": "code",
   "execution_count": 140,
   "id": "392a8186",
   "metadata": {},
   "outputs": [
    {
     "name": "stdout",
     "output_type": "stream",
     "text": [
      "[2, 1]\n"
     ]
    }
   ],
   "source": [
    "# 기능개발\n",
    "import math\n",
    "def solution(progresses, speeds):\n",
    "    List = [progresses, speeds]\n",
    "    day_list = [math.ceil((100-List[0][0])/List[1][0])] # 초기값 설정\n",
    "    answer = [] \n",
    "    cnt = 1\n",
    "    for i in range(1,len(List[0])):\n",
    "        \n",
    "        day = math.ceil((100-List[0][i])/List[1][i])\n",
    "        if day_list[-1] < day:\n",
    "            answer.append(cnt)\n",
    "            day_list.append(day)\n",
    "            cnt = 1\n",
    "        else:\n",
    "            cnt +=1\n",
    "        \n",
    "    answer.append(cnt)\n",
    "            \n",
    "    return answer\n",
    "\n",
    "aa = [93, 30, 55]\n",
    "bb = [1, 30, 5]\n",
    "print(solution(aa,bb))"
   ]
  },
  {
   "cell_type": "code",
   "execution_count": 246,
   "id": "36991e07",
   "metadata": {
    "scrolled": true
   },
   "outputs": [
    {
     "name": "stdout",
     "output_type": "stream",
     "text": [
      "2\n"
     ]
    }
   ],
   "source": [
    "# 프로세스 - 실패 // 무조건 큰게 앞으로 작은게 뒤로감\n",
    "\n",
    "def solution(priorities, location):\n",
    "    answer = [[0,0]]\n",
    "    List = [] # [숫자, index] 리스트를 만듦\n",
    "    for i in range(len(priorities)):\n",
    "        List.append([priorities[i],i])\n",
    "    \n",
    "    for e,v in List:\n",
    "        if len(answer)!=0:\n",
    "            for k in range(len(answer)):\n",
    "                if e > answer[k][0]:\n",
    "                    answer.insert(k,[e,v])\n",
    "                    break\n",
    "        else:\n",
    "            answer.append([e,v])\n",
    "    \n",
    "    answer.pop()\n",
    "    cnt = 1\n",
    "    for e,v in answer:\n",
    "        \n",
    "        if v == location:\n",
    "            break\n",
    "        else:\n",
    "            cnt+=1\n",
    "    \n",
    "    return cnt\n",
    "aa = [1, 1, 9, 1, 1, 1]\n",
    "print(solution(aa,0))\n",
    "\n",
    "# while 문을 통해 max가 아니면 다시 LIst로 max면 answer로 들어가는 로직 구현\n",
    "\n",
    "def solution(priorities, location):\n",
    "    answer = []\n",
    "    List = [] # [숫자, index] 리스트를 만듦\n",
    "    for i in range(len(priorities)):\n",
    "        List.append([priorities[i],i])\n",
    " \n",
    "    while List:\n",
    "\n",
    "        max_value = max(List)[0]\n",
    "        if List[0][0] == max_value:\n",
    "            answer.append(List[0])\n",
    "        else:\n",
    "            List.append(List[0])\n",
    "        List.pop(0)    \n",
    "        if len(answer) > 0 and answer[-1][1] == location:\n",
    "            break\n",
    "    \n",
    "    return len(answer)\n",
    "aa = [1, 1, 9, 1, 1, 1]\n",
    "print(solution(aa,0))"
   ]
  },
  {
   "cell_type": "code",
   "execution_count": 112,
   "id": "c55abfd1",
   "metadata": {},
   "outputs": [
    {
     "name": "stdout",
     "output_type": "stream",
     "text": [
      "65536\n",
      "65536\n"
     ]
    }
   ],
   "source": [
    "# [1차] 뉴스 클러스터링 - 테스트 케이스에서 실패 -> 현재 로직은 만약 A가 {\"ab\",\"ab\"}가 있고 B가{\"ab\"}라도 교집합을 {\"ab\",\"ab\"}로 잡는다.\n",
    "\n",
    "def solution(str1, str2):\n",
    "    \n",
    "    str1 = str1.lower() # str1소문자로\n",
    "    str2 = str2.lower() # str2소문자로\n",
    "    \n",
    "    str1_l = []\n",
    "    str2_l = []\n",
    "\n",
    "    \n",
    "    for i in range(len(str1)-1): # str1 두단어씩 list에 담기\n",
    "        if str1[i:i+2].isalpha(): \n",
    "            str1_l.append(str1[i:i+2])\n",
    "    for i in range(len(str2)-1): # str2 두단어씩 list에 담기\n",
    "        if str2[i:i+2].isalpha(): \n",
    "            str2_l.append(str2[i:i+2])\n",
    "            \n",
    "    cnt = 0 # str1와 str2 교집합 수\n",
    "    for i in range(len(str1_l)):\n",
    "        for j in range(len(str2_l)):\n",
    "            if str1_l[i]==str2_l[j]:\n",
    "                cnt +=1\n",
    "                break\n",
    "\n",
    "      \n",
    "    cnt2 = len(str1_l) + len(str2_l) - cnt # str1와 str2 합집합 수\n",
    "    if cnt2 != 0:\n",
    "        answer = int(cnt*65536/cnt2)\n",
    "    else:\n",
    "        answer = 65536\n",
    "    \n",
    "    return answer\n",
    "\n",
    "aa = \"handshake\"\n",
    "bb = \"shake hands\"\n",
    "\n",
    "print(solution(aa,bb))\n",
    "\n",
    "\n",
    "\n",
    "# 해결 - Try Except를 통해 같은게 있다면 서로 List에서 빼서교집합을 구함\n",
    "\n",
    "def solution(str1, str2):\n",
    "    \n",
    "    str1 = str1.lower() # str1소문자로\n",
    "    str2 = str2.lower() # str2소문자로\n",
    "    \n",
    "    str1_l = []\n",
    "    str2_l = []\n",
    "\n",
    "    \n",
    "    for i in range(len(str1)-1): # str1 두단어씩 list에 담기\n",
    "        if str1[i:i+2].isalpha(): \n",
    "            str1_l.append(str1[i:i+2])\n",
    "    for i in range(len(str2)-1): # str2 두단어씩 list에 담기\n",
    "        if str2[i:i+2].isalpha(): \n",
    "            str2_l.append(str2[i:i+2])\n",
    "    cnt = 0 # str1와 str2 교집합 수\n",
    "    \n",
    "    a = str1_l.copy()\n",
    "    b = str2_l.copy()\n",
    "\n",
    "    while str1_l:\n",
    "        try:\n",
    "            for i in range(len(str1_l)):\n",
    "                for j in range(len(str2_l)):\n",
    "                    if str1_l[i]==str2_l[j]:\n",
    "                        cnt +=1\n",
    "                        c = 0/0\n",
    "            break\n",
    "        except:\n",
    "            del str1_l[i]\n",
    "            del str2_l[j]\n",
    "    \n",
    "    \n",
    "    cnt2 = len(a) + len(b) - cnt # str1와 str2 합집합 수\n",
    "    if cnt2 != 0:\n",
    "        answer = int(cnt*65536/cnt2)\n",
    "    else:\n",
    "        answer = 65536\n",
    "    \n",
    "    return answer\n",
    "\n",
    "aa = \"handshake\"\n",
    "bb = \"shake hands\"\n",
    "\n",
    "print(solution(aa,bb))"
   ]
  },
  {
   "cell_type": "code",
   "execution_count": 62,
   "id": "21a4cb79",
   "metadata": {
    "scrolled": true
   },
   "outputs": [
    {
     "name": "stdout",
     "output_type": "stream",
     "text": [
      "3\n"
     ]
    }
   ],
   "source": [
    "# 할인 행사\n",
    "\n",
    "def solution(want, number, discount):\n",
    "    want_dict = {} # want:number\n",
    "    discount_dic = {}\n",
    "    for i in range(len(number)):\n",
    "        want_dict[want[i]] = number[i]\n",
    "    \n",
    "    num,answer = 0,0\n",
    "    while num+10 != len(discount)+1:\n",
    "        discount_dic = {}\n",
    "        for j in discount[num:num+10]:\n",
    "            if j not in discount_dic:\n",
    "                discount_dic[j] = 1\n",
    "            else:\n",
    "                discount_dic[j] +=1\n",
    "                \n",
    "        cnt = 0\n",
    "        for e,k in want_dict.items():\n",
    "            for a,b in discount_dic.items():\n",
    "                if e == a and b >= k:\n",
    "                    cnt += 1\n",
    "                    break\n",
    "        if cnt == len(want_dict):\n",
    "            answer +=1\n",
    "        \n",
    "        num+=1\n",
    "    return answer\n",
    "\n",
    "aa = [\"banana\", \"apple\", \"rice\", \"pork\", \"pot\"]\n",
    "bb = [3, 2, 2, 2, 1]\n",
    "cc = [\"chicken\", \"apple\", \"apple\", \"banana\", \"rice\", \"apple\", \"pork\", \"banana\", \"pork\", \"rice\", \"pot\", \"banana\", \"apple\", \"banana\"]\n",
    "\n",
    "print(solution(aa,bb,cc))\n",
    "\n",
    "\n",
    "# 다른사람 풀이 - Counter 활용\n",
    "from collections import Counter\n",
    "def solution(want, number, discount):\n",
    "    answer = 0\n",
    "    dic = {}\n",
    "    for i in range(len(want)):\n",
    "        dic[want[i]] = number[i]\n",
    "\n",
    "        \n",
    "    print(dic)\n",
    "    for i in range(len(discount)-9):\n",
    "        print(Counter(discount[i:i+10]))\n",
    "        if dic == Counter(discount[i:i+10]): \n",
    "            answer += 1\n",
    "\n",
    "    return answer"
   ]
  },
  {
   "cell_type": "code",
   "execution_count": 92,
   "id": "0868eb63",
   "metadata": {
    "scrolled": true
   },
   "outputs": [
    {
     "name": "stdout",
     "output_type": "stream",
     "text": [
      "80\n",
      "60\n",
      "20\n",
      "5\n"
     ]
    }
   ],
   "source": [
    "def solution(k, dungeons):\n",
    "    answer = -1\n",
    "    dungeons_list = []\n",
    "    \n",
    "    if\n",
    "    \n",
    "\n",
    "    return cnt \n",
    "\n",
    "aa = 80\n",
    "bb= [[80,30],[50,20],[30,1]]\n",
    "print(solution(aa,bb))"
   ]
  },
  {
   "cell_type": "code",
   "execution_count": 128,
   "id": "ad3d05d8",
   "metadata": {},
   "outputs": [
    {
     "name": "stdout",
     "output_type": "stream",
     "text": [
      "3\n"
     ]
    }
   ],
   "source": [
    "# 피로도 - 완전 탐색 (순열사용)\n",
    "\n",
    "from itertools import permutations\n",
    "\n",
    "def solution(k, dungeons):\n",
    "    answer = []\n",
    "    for permut in permutations(dungeons,len(dungeons)):\n",
    "        cnt = 0\n",
    "        hp = k\n",
    "        for j in permut:\n",
    "            if hp >= j[0]:\n",
    "                hp -= j[1]\n",
    "                cnt +=1\n",
    "            else:\n",
    "                break\n",
    "        answer.append(cnt)\n",
    "    return max(answer)\n",
    "\n",
    "aa = 80\n",
    "bb= [[80,20],[50,40],[30,10]]\n",
    "print(solution(aa,bb))"
   ]
  }
 ],
 "metadata": {
  "kernelspec": {
   "display_name": "Python 3 (ipykernel)",
   "language": "python",
   "name": "python3"
  },
  "language_info": {
   "codemirror_mode": {
    "name": "ipython",
    "version": 3
   },
   "file_extension": ".py",
   "mimetype": "text/x-python",
   "name": "python",
   "nbconvert_exporter": "python",
   "pygments_lexer": "ipython3",
   "version": "3.9.13"
  },
  "toc": {
   "base_numbering": 1,
   "nav_menu": {},
   "number_sections": true,
   "sideBar": true,
   "skip_h1_title": false,
   "title_cell": "Table of Contents",
   "title_sidebar": "Contents",
   "toc_cell": false,
   "toc_position": {},
   "toc_section_display": true,
   "toc_window_display": false
  }
 },
 "nbformat": 4,
 "nbformat_minor": 5
}
