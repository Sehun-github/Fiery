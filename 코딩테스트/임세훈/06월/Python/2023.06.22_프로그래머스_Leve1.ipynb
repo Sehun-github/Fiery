{
 "cells": [
  {
   "cell_type": "code",
   "execution_count": 12,
   "id": "3cc6e4cc",
   "metadata": {},
   "outputs": [],
   "source": [
    "# 문자열 내 마음대로 정렬하기\n",
    "\n",
    "def solution(strings, n):\n",
    "    strings.sort(key=lambda x:(x[n],x))\n",
    "    return strings"
   ]
  },
  {
   "cell_type": "code",
   "execution_count": 13,
   "id": "9283b2bd",
   "metadata": {},
   "outputs": [],
   "source": [
    "# K번째수\n",
    "\n",
    "def solution(array, commands):\n",
    "    answer = []\n",
    "    numbers = []\n",
    "    for command in commands:\n",
    "        start = command[0]-1\n",
    "        end = command[1]\n",
    "        numbers = array[start:end]\n",
    "        numbers.sort()\n",
    "        answer.append(numbers[command[2]-1])\n",
    "    return answer"
   ]
  },
  {
   "cell_type": "code",
   "execution_count": 14,
   "id": "457a8e58",
   "metadata": {},
   "outputs": [],
   "source": [
    "# 두 개 뽑아서 더하기\n",
    "\n",
    "from itertools import combinations\n",
    "def solution(numbers):\n",
    "    answer = set()\n",
    "    combination = combinations(numbers,2)\n",
    "    for a,b in combination:\n",
    "        answer.add(a+b)\n",
    "        \n",
    "    answer = list(answer)\n",
    "    answer.sort()\n",
    "    return answer"
   ]
  },
  {
   "cell_type": "code",
   "execution_count": 15,
   "id": "994ab8ee",
   "metadata": {},
   "outputs": [],
   "source": [
    "# 푸드 파이트 대회\n",
    "\n",
    "\n",
    "def solution(food):\n",
    "    answer = ''\n",
    "    \n",
    "    num = 0\n",
    "    for i in range(1,len(food)):\n",
    "        food_num = food[i] // 2\n",
    "        num += 1\n",
    "        answer += str(num) * food_num\n",
    "        \n",
    "    answer += \"0\"\n",
    "    \n",
    "    for i in range(len(food)-1,0,-1):\n",
    "        food_num = food[i] // 2\n",
    "        answer += str(num) * food_num\n",
    "        num -= 1\n",
    "    \n",
    "    return answer"
   ]
  },
  {
   "cell_type": "code",
   "execution_count": 16,
   "id": "bd5455e6",
   "metadata": {},
   "outputs": [
    {
     "data": {
      "text/plain": [
       "0"
      ]
     },
     "execution_count": 16,
     "metadata": {},
     "output_type": "execute_result"
    }
   ],
   "source": [
    "# 가장 가까운 같은 글자\n",
    "\n",
    "def solution(s):\n",
    "    answer = []\n",
    "    s_list = []\n",
    "    for word in s:\n",
    "        if word not in s_list:\n",
    "            answer.append(-1)\n",
    "        else:\n",
    "            s_list2 = s_list[::-1]\n",
    "            answer.append(s_list2.index(word)+1)\n",
    "        s_list.append(word)\n",
    "    return answer"
   ]
  },
  {
   "cell_type": "code",
   "execution_count": 32,
   "id": "4e8e6d87",
   "metadata": {},
   "outputs": [
    {
     "name": "stdout",
     "output_type": "stream",
     "text": [
      "19\n"
     ]
    }
   ],
   "source": [
    "# 콜라 문제\n",
    "\n",
    "def solution(a, b, n): \n",
    "    cnt = 0\n",
    "    while n >= a:\n",
    "        n_mod = n % a\n",
    "        n = (n // a) * b\n",
    "        cnt += n\n",
    "\n",
    "        n += n_mod\n",
    "    return cnt\n",
    "\n",
    "print(solution(2,1,20))"
   ]
  },
  {
   "cell_type": "code",
   "execution_count": 30,
   "id": "a370ae68",
   "metadata": {},
   "outputs": [
    {
     "data": {
      "text/plain": [
       "5"
      ]
     },
     "execution_count": 30,
     "metadata": {},
     "output_type": "execute_result"
    }
   ],
   "source": [
    "# 추억 점수\n",
    "\n",
    "def solution(name, yearning, photo):\n",
    "    answer = []\n",
    "    \n",
    "    for photo_list in photo:\n",
    "        result = 0\n",
    "        for photo_name in photo_list:\n",
    "            if photo_name in name:\n",
    "                result += yearning[name.index(photo_name)]\n",
    "        answer.append(result)\n",
    "    return answer"
   ]
  },
  {
   "cell_type": "code",
   "execution_count": null,
   "id": "6dec0115",
   "metadata": {},
   "outputs": [],
   "source": [
    "# 2016년\n",
    "\n",
    "def solution(a, b):\n",
    "    month = {1:31,2:29,3:31,4:30,5:31,6:30,7:31,8:31,9:30,10:31,11:30,12:31}\n",
    "    week = ['FRI','SAT','SUN','MON','TUE','WED','THU']\n",
    "    day = 0\n",
    "    for i in range(1,a):\n",
    "        day += month[i]\n",
    "    day += b\n",
    "\n",
    "    return week[(day % 7)-1]"
   ]
  },
  {
   "cell_type": "code",
   "execution_count": 1,
   "id": "4d164c2f",
   "metadata": {},
   "outputs": [],
   "source": [
    "# 폰켓몬\n",
    "\n",
    "def solution(nums):\n",
    "    nums_set = set()\n",
    "    answer = 0\n",
    "    for i in nums:\n",
    "        nums_set.add(i)\n",
    "        \n",
    "    if len(nums)/2 >= len(nums_set):\n",
    "        answer = len(nums_set)\n",
    "    else:\n",
    "        answer = int(len(nums)/2)\n",
    "    return answer"
   ]
  },
  {
   "cell_type": "code",
   "execution_count": null,
   "id": "0b58810a",
   "metadata": {},
   "outputs": [],
   "source": []
  }
 ],
 "metadata": {
  "kernelspec": {
   "display_name": "Python 3 (ipykernel)",
   "language": "python",
   "name": "python3"
  },
  "language_info": {
   "codemirror_mode": {
    "name": "ipython",
    "version": 3
   },
   "file_extension": ".py",
   "mimetype": "text/x-python",
   "name": "python",
   "nbconvert_exporter": "python",
   "pygments_lexer": "ipython3",
   "version": "3.9.13"
  },
  "toc": {
   "base_numbering": 1,
   "nav_menu": {},
   "number_sections": true,
   "sideBar": true,
   "skip_h1_title": false,
   "title_cell": "Table of Contents",
   "title_sidebar": "Contents",
   "toc_cell": false,
   "toc_position": {},
   "toc_section_display": true,
   "toc_window_display": false
  }
 },
 "nbformat": 4,
 "nbformat_minor": 5
}
