{
 "cells": [
  {
   "cell_type": "code",
   "execution_count": 1,
   "id": "8fd17e7e",
   "metadata": {},
   "outputs": [],
   "source": [
    "# 같은 숫자는 싫어\n",
    "\n",
    "def solution(arr):\n",
    "    answer = []\n",
    "    for i in arr:\n",
    "        if answer:\n",
    "            if answer[-1] != i:\n",
    "                answer.append(i)\n",
    "        else:\n",
    "            answer.append(i)  \n",
    "    return answer"
   ]
  },
  {
   "cell_type": "code",
   "execution_count": 11,
   "id": "a143221d",
   "metadata": {},
   "outputs": [
    {
     "name": "stdout",
     "output_type": "stream",
     "text": [
      "7\n"
     ]
    }
   ],
   "source": [
    "# 3진법 뒤집기\n",
    "\n",
    "def solution(n):\n",
    "    answer = ''\n",
    "    while n>0:\n",
    "        b = n%3\n",
    "        n = n//3\n",
    "        answer += str(b)\n",
    "    return int(answer,3)\n",
    "\n",
    "print(solution(45))"
   ]
  },
  {
   "cell_type": "code",
   "execution_count": 5,
   "id": "1a24d470",
   "metadata": {},
   "outputs": [
    {
     "name": "stdout",
     "output_type": "stream",
     "text": [
      "41263\n"
     ]
    }
   ],
   "source": [
    "# 이상한 문자 만들기\n",
    "\n",
    "def solution(s):\n",
    "    answer = ''\n",
    "    \n",
    "    for words in s.split(\" \"):\n",
    "        cnt = 0\n",
    "        for word in words:\n",
    "            if cnt % 2 == 0:\n",
    "                answer += word.upper()\n",
    "            else:\n",
    "                answer += word.lower()\n",
    "            cnt += 1\n",
    "        answer += ' '\n",
    "    return answer[:len(answer)-1]"
   ]
  },
  {
   "cell_type": "code",
   "execution_count": null,
   "id": "7409d371",
   "metadata": {},
   "outputs": [],
   "source": [
    "# 예산\n",
    "\n",
    "def solution(d, budget):\n",
    "    d.sort()\n",
    "\n",
    "    sum,cnt = 0,0\n",
    "    for i in d:\n",
    "        sum += i\n",
    "        if sum > budget:\n",
    "            break\n",
    "        cnt += 1\n",
    "    return cnt"
   ]
  },
  {
   "cell_type": "code",
   "execution_count": 16,
   "id": "66e0b851",
   "metadata": {},
   "outputs": [
    {
     "name": "stdout",
     "output_type": "stream",
     "text": [
      "2\n"
     ]
    }
   ],
   "source": [
    "# 삼총사\n",
    "\n",
    "from itertools import combinations\n",
    "def solution(number):\n",
    "    answer = 0\n",
    "    a = combinations(number,3)\n",
    "    for i in a:\n",
    "        if sum(i) == 0:\n",
    "            answer += 1\n",
    "    return answer\n",
    "\n",
    "aa = [-2, 3, 0, 2, -5]\n",
    "print(solution(aa))"
   ]
  }
 ],
 "metadata": {
  "kernelspec": {
   "display_name": "Python 3 (ipykernel)",
   "language": "python",
   "name": "python3"
  },
  "language_info": {
   "codemirror_mode": {
    "name": "ipython",
    "version": 3
   },
   "file_extension": ".py",
   "mimetype": "text/x-python",
   "name": "python",
   "nbconvert_exporter": "python",
   "pygments_lexer": "ipython3",
   "version": "3.9.13"
  },
  "toc": {
   "base_numbering": 1,
   "nav_menu": {},
   "number_sections": true,
   "sideBar": true,
   "skip_h1_title": false,
   "title_cell": "Table of Contents",
   "title_sidebar": "Contents",
   "toc_cell": false,
   "toc_position": {},
   "toc_section_display": true,
   "toc_window_display": false
  }
 },
 "nbformat": 4,
 "nbformat_minor": 5
}
