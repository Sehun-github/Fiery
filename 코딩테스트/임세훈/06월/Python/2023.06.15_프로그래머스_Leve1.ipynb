{
 "cells": [
  {
   "cell_type": "code",
   "execution_count": 1,
   "id": "15617a74",
   "metadata": {},
   "outputs": [],
   "source": [
    "# 부족한 금액 계산하기\n",
    "\n",
    "def solution(price, money, count):\n",
    "    sum = 0\n",
    "    for i in range(1,count+1):\n",
    "        sum += i*price\n",
    "    \n",
    "    if sum >= money:\n",
    "        answer = sum-money\n",
    "    else:\n",
    "        answer = 0\n",
    "    return answer"
   ]
  },
  {
   "cell_type": "code",
   "execution_count": 2,
   "id": "be106c5e",
   "metadata": {},
   "outputs": [],
   "source": [
    "# 문자열 다루기 기본\n",
    "\n",
    "def solution(s):\n",
    "    answer = False\n",
    "    \n",
    "    if len(s) == 4 or len(s) == 6:\n",
    "        answer = True\n",
    "        \n",
    "    if answer:\n",
    "        for i in s:\n",
    "            if i.isnumeric() == False:\n",
    "                return False\n",
    "    return answer"
   ]
  },
  {
   "cell_type": "code",
   "execution_count": 27,
   "id": "a336332f",
   "metadata": {},
   "outputs": [
    {
     "name": "stdout",
     "output_type": "stream",
     "text": [
      "[[4, 6], [7, 9]]\n"
     ]
    }
   ],
   "source": [
    "# 행렬의 덧셈\n",
    "\n",
    "def solution(arr1, arr2):\n",
    "    answer = []    \n",
    "    for i in range(len(arr1)):\n",
    "        num_list = []\n",
    "        for j in range(len(arr1[i])):\n",
    "            num_list.append(arr1[i][j]+arr2[i][j])\n",
    "        answer.append(num_list)\n",
    "    return answer\n",
    "\n",
    "aa = [[1,2],[2,3]]\n",
    "bb = [[3,4],[5,6]]\n",
    "\n",
    "print(solution(aa,bb))"
   ]
  },
  {
   "cell_type": "code",
   "execution_count": 15,
   "id": "0b03753e",
   "metadata": {},
   "outputs": [
    {
     "data": {
      "text/plain": [
       "[1, 2, 3, 4]"
      ]
     },
     "execution_count": 15,
     "metadata": {},
     "output_type": "execute_result"
    }
   ],
   "source": [
    "# 직사각형 별찍기\n",
    "\n",
    "a, b = map(int, input().strip().split(' '))\n",
    "\n",
    "for i in range(b):\n",
    "    for j in range(a):\n",
    "        print(\"*\", end ='')\n",
    "    print(\"\")"
   ]
  },
  {
   "cell_type": "code",
   "execution_count": 31,
   "id": "ba1a2f0b",
   "metadata": {},
   "outputs": [
    {
     "name": "stdout",
     "output_type": "stream",
     "text": [
      "[1, 48]\n"
     ]
    }
   ],
   "source": [
    "# 최대공약수와 최소공배수\n",
    "\n",
    "def solution(n, m):\n",
    "    answer = []\n",
    "    a,b = min(n,m), max(n,m)\n",
    "    for i in range(a,0,-1):\n",
    "        if n % i == 0 and m % i == 0:\n",
    "            answer.append(i)\n",
    "            break\n",
    "    \n",
    "    for j in range(b, a*b+1):\n",
    "        if j % n == 0 and j % m == 0:\n",
    "            answer.append(j)\n",
    "            break\n",
    "    return answer\n",
    "print(solution(3,16))"
   ]
  }
 ],
 "metadata": {
  "kernelspec": {
   "display_name": "Python 3 (ipykernel)",
   "language": "python",
   "name": "python3"
  },
  "language_info": {
   "codemirror_mode": {
    "name": "ipython",
    "version": 3
   },
   "file_extension": ".py",
   "mimetype": "text/x-python",
   "name": "python",
   "nbconvert_exporter": "python",
   "pygments_lexer": "ipython3",
   "version": "3.9.13"
  },
  "toc": {
   "base_numbering": 1,
   "nav_menu": {},
   "number_sections": true,
   "sideBar": true,
   "skip_h1_title": false,
   "title_cell": "Table of Contents",
   "title_sidebar": "Contents",
   "toc_cell": false,
   "toc_position": {},
   "toc_section_display": true,
   "toc_window_display": false
  }
 },
 "nbformat": 4,
 "nbformat_minor": 5
}
