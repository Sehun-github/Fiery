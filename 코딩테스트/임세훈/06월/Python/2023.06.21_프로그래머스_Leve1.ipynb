{
 "cells": [
  {
   "cell_type": "code",
   "execution_count": 5,
   "id": "beb02356",
   "metadata": {},
   "outputs": [
    {
     "name": "stdout",
     "output_type": "stream",
     "text": [
      "BC\n"
     ]
    }
   ],
   "source": [
    "# 시저 암호\n",
    "\n",
    "def solution(s, n):\n",
    "    answer = ''\n",
    "    for alphabet in s:\n",
    "        \n",
    "        if alphabet == \" \":\n",
    "            answer += \" \"\n",
    "            continue\n",
    "            \n",
    "        if ord(alphabet) <= ord('Z'):\n",
    "            if ord(alphabet)+n > ord('Z'):\n",
    "                answer += chr(ord(alphabet)+n-26)\n",
    "            else:\n",
    "                answer += chr(ord(alphabet)+n)\n",
    "        else:\n",
    "            if ord(alphabet)+n > ord('z'):\n",
    "                answer += chr(ord(alphabet)+n-26)\n",
    "            else:\n",
    "                answer += chr(ord(alphabet)+n)\n",
    "    return answer\n",
    "    \n",
    "aa = \"AB\"\n",
    "bb = 1\n",
    "print(solution(aa,bb))"
   ]
  },
  {
   "cell_type": "code",
   "execution_count": 6,
   "id": "ea4e58e7",
   "metadata": {},
   "outputs": [],
   "source": [
    "# 최소직사각형\n",
    "\n",
    "def solution(sizes):\n",
    "    a = []\n",
    "    b = []\n",
    "    for size in sizes:\n",
    "        if size[0] >= size[1]:\n",
    "            a.append(size[0])\n",
    "            b.append(size[1])\n",
    "        else:\n",
    "            a.append(size[1])\n",
    "            b.append(size[0])\n",
    "    return max(a) * max(b)"
   ]
  },
  {
   "cell_type": "code",
   "execution_count": null,
   "id": "76465b7e",
   "metadata": {},
   "outputs": [],
   "source": [
    "# 크기가 작은 부분 문자열\n",
    "\n",
    "def solution(t, p):\n",
    "    answer = 0\n",
    "    for i in range(len(t)-len(p)+1):\n",
    "        s = int(t[i:i+len(p)])\n",
    "        \n",
    "        if s <= int(p):\n",
    "            answer += 1\n",
    "        \n",
    "    return answer"
   ]
  },
  {
   "cell_type": "code",
   "execution_count": 11,
   "id": "489c11e0",
   "metadata": {},
   "outputs": [],
   "source": [
    "# [1차] 비밀지도\n",
    "\n",
    "def solution(n, arr1, arr2):\n",
    "    answer = []\n",
    "    arr1_list = []\n",
    "    arr2_list = []\n",
    "    for a in arr1:\n",
    "        bin_a = bin(a)[2:]\n",
    "        if len(bin_a) != n:\n",
    "            bin_a = (n-len(bin_a)) * '0' + bin_a\n",
    "        arr1_list.append(bin_a)\n",
    "        \n",
    "    for b in arr2:\n",
    "        bin_b = bin(b)[2:]\n",
    "        if len(bin_b) != n:\n",
    "            bin_b = (n-len(bin_b)) * '0' + bin_b\n",
    "        arr2_list.append(bin_b)\n",
    "    \n",
    "    \n",
    "    for i in range(n):\n",
    "        word = ''\n",
    "        for j in range(n):\n",
    "            if arr1_list[i][j] == '0' and arr2_list[i][j] == '0':\n",
    "                word += ' '\n",
    "            else:\n",
    "                word += '#'\n",
    "        answer.append(word)\n",
    "                \n",
    "    \n",
    "    return answer"
   ]
  },
  {
   "cell_type": "code",
   "execution_count": 12,
   "id": "e9f62e2f",
   "metadata": {},
   "outputs": [],
   "source": [
    "# 숫자 문자열과 영단어\n",
    "\n",
    "def solution(s):\n",
    "    number_dic = {'zero':0,'one':1,'two':2,'three':3,'four':4,\n",
    "                 'five':5,'six':6,'seven':7,'eight':8,'nine':9}\n",
    "    answer = ''\n",
    "    word = ''\n",
    "    for i in s:\n",
    "        if i.isnumeric():\n",
    "            answer += str(i)\n",
    "        else:\n",
    "            word += i\n",
    "            if word in number_dic:\n",
    "                answer += str(number_dic[word])\n",
    "                word = ''\n",
    "    return int(answer)"
   ]
  }
 ],
 "metadata": {
  "kernelspec": {
   "display_name": "Python 3 (ipykernel)",
   "language": "python",
   "name": "python3"
  },
  "language_info": {
   "codemirror_mode": {
    "name": "ipython",
    "version": 3
   },
   "file_extension": ".py",
   "mimetype": "text/x-python",
   "name": "python",
   "nbconvert_exporter": "python",
   "pygments_lexer": "ipython3",
   "version": "3.9.13"
  },
  "toc": {
   "base_numbering": 1,
   "nav_menu": {},
   "number_sections": true,
   "sideBar": true,
   "skip_h1_title": false,
   "title_cell": "Table of Contents",
   "title_sidebar": "Contents",
   "toc_cell": false,
   "toc_position": {},
   "toc_section_display": true,
   "toc_window_display": false
  }
 },
 "nbformat": 4,
 "nbformat_minor": 5
}
