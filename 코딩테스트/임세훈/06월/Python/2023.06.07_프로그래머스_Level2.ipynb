{
 "cells": [
  {
   "cell_type": "code",
   "execution_count": 32,
   "id": "4db83a60",
   "metadata": {},
   "outputs": [
    {
     "name": "stdout",
     "output_type": "stream",
     "text": [
      ")(\n",
      "()\n"
     ]
    }
   ],
   "source": [
    "# 괄호 변환\n",
    "\n",
    "## 문자열 p를 u, v로 분리하는 함수\n",
    "def divide(p):\n",
    "    open_p = 0\n",
    "    close_p = 0\n",
    "\n",
    "    for i in range(len(p)):\n",
    "        if p[i] == '(':\n",
    "            open_p += 1\n",
    "        else:\n",
    "            close_p += 1\n",
    "        if open_p == close_p:\n",
    "            return p[:i + 1], p[i + 1:]\n",
    "\n",
    "\n",
    "## 문자열 u가 올바른 괄호 문자열인지 확인하는 함수\n",
    "def check(u):\n",
    "    stack = []\n",
    "\n",
    "    for p in u:\n",
    "        if p == '(':\n",
    "            stack.append(p)\n",
    "        else:\n",
    "            if not stack:\n",
    "                return False\n",
    "            stack.pop()\n",
    "\n",
    "    return True\n",
    "\n",
    "\n",
    "def solution(p):\n",
    "    if not p:\n",
    "        return \"\"\n",
    "\n",
    "    u, v = divide(p)\n",
    "\n",
    "    \n",
    "    if check(u):\n",
    "        return u + solution(v)\n",
    "    else:\n",
    "        answer = '('\n",
    "        answer += solution(v)\n",
    "        answer += ')'\n",
    "\n",
    "        for p in u[1:len(u) - 1]:\n",
    "            if p == '(':\n",
    "                answer += ')'\n",
    "            else:\n",
    "                answer += '('\n",
    "        return answer\n",
    "    \n",
    "aa = \")(\"\n",
    "print(solution(aa))"
   ]
  },
  {
   "cell_type": "code",
   "execution_count": 49,
   "id": "55cf9641",
   "metadata": {
    "scrolled": false
   },
   "outputs": [
    {
     "name": "stdout",
     "output_type": "stream",
     "text": [
      "750\n",
      "6000\n"
     ]
    }
   ],
   "source": [
    "# 수식 최대화 - 90점\n",
    "\n",
    "from itertools import permutations\n",
    "def solution(expression):\n",
    "    answer = []\n",
    "    calc_set = set()\n",
    "    for i in expression:\n",
    "        if i.isnumeric()==False:\n",
    "            calc_set.add(i)\n",
    "\n",
    "    calc = permutations(calc_set,len(calc_set))\n",
    "    for i in calc:\n",
    "        a = i[0]\n",
    "        b = i[1]\n",
    "        temp_list = []\n",
    "        for aa in expression.split(a):\n",
    "            temp = [f\"({i})\" for i in aa.split(b)]\n",
    "            temp_list.append(f'({b.join(temp)})')\n",
    "        answer.append(abs(eval(a.join(temp_list))))\n",
    "    return max(answer)\n",
    "    \n",
    "aa= \"50*6-3*2+3\"\n",
    "print(solution(aa))\n",
    "\n",
    "\n",
    "## 성공 - 기호가 없거나 하나인 경우 바로 계산하여 리턴하도록 해주었다.\n",
    "from itertools import permutations\n",
    "def solution(expression):\n",
    "    answer = []\n",
    "    calc_set = set()\n",
    "    for i in expression:\n",
    "        if i.isnumeric()==False:\n",
    "            calc_set.add(i)\n",
    "    \n",
    "    if len(calc_set) == 1 or len(calc_set) == 0:\n",
    "        return abs(eval(expression))\n",
    "    calc = permutations(calc_set,len(calc_set))\n",
    "    for i in calc:\n",
    "        a = i[0]\n",
    "        b = i[1]\n",
    "        temp_list = []\n",
    "        for aa in expression.split(a):\n",
    "            temp = [f\"({i})\" for i in aa.split(b)]\n",
    "            temp_list.append(f'({b.join(temp)})')\n",
    "        answer.append(abs(eval(a.join(temp_list))))\n",
    "    return max(answer)\n",
    "    \n",
    "aa= \"50*6*20\"\n",
    "print(solution(aa))"
   ]
  }
 ],
 "metadata": {
  "kernelspec": {
   "display_name": "Python 3 (ipykernel)",
   "language": "python",
   "name": "python3"
  },
  "language_info": {
   "codemirror_mode": {
    "name": "ipython",
    "version": 3
   },
   "file_extension": ".py",
   "mimetype": "text/x-python",
   "name": "python",
   "nbconvert_exporter": "python",
   "pygments_lexer": "ipython3",
   "version": "3.9.13"
  },
  "toc": {
   "base_numbering": 1,
   "nav_menu": {},
   "number_sections": true,
   "sideBar": true,
   "skip_h1_title": false,
   "title_cell": "Table of Contents",
   "title_sidebar": "Contents",
   "toc_cell": false,
   "toc_position": {},
   "toc_section_display": true,
   "toc_window_display": false
  }
 },
 "nbformat": 4,
 "nbformat_minor": 5
}
