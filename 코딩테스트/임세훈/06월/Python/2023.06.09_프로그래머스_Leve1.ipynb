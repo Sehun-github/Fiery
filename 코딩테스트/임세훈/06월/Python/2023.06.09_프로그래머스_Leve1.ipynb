{
 "cells": [
  {
   "cell_type": "code",
   "execution_count": null,
   "id": "fe74ad48",
   "metadata": {},
   "outputs": [],
   "source": [
    "# 짝수와 홀수\n",
    "\n",
    "def solution(num):\n",
    "    answer = ''\n",
    "    if num % 2 == 0:\n",
    "        answer= 'Even'\n",
    "    else:\n",
    "        answer= 'Odd'\n",
    "    return answer"
   ]
  },
  {
   "cell_type": "code",
   "execution_count": 64,
   "id": "cd28c20e",
   "metadata": {},
   "outputs": [
    {
     "name": "stdout",
     "output_type": "stream",
     "text": [
      "[0, 1]\n"
     ]
    }
   ],
   "source": [
    "# 자연수 뒤집어 배열로 만들기\n",
    "\n",
    "def solution(n):\n",
    "    answer = list(str(n))\n",
    "    return list(map(int,answer[::-1]))\n",
    "\n",
    "print(solution(10))"
   ]
  },
  {
   "cell_type": "code",
   "execution_count": null,
   "id": "831aa916",
   "metadata": {},
   "outputs": [],
   "source": [
    "# 문자열 내 p와 y의 개수\n",
    "def solution(s):\n",
    "    s = s.lower()\n",
    "    if s.count('p') == s.count('y'):\n",
    "        return True\n",
    "    else:\n",
    "        return False"
   ]
  },
  {
   "cell_type": "code",
   "execution_count": null,
   "id": "c407503c",
   "metadata": {},
   "outputs": [],
   "source": [
    "# 정수 제곱근 판별\n",
    "def solution(n):\n",
    "    for i in range(1,n+1):\n",
    "        if i**2 == n:\n",
    "            return (i+1)**2\n",
    "        \n",
    "        if i**2 > n:\n",
    "            return -1"
   ]
  },
  {
   "cell_type": "code",
   "execution_count": null,
   "id": "15ac0eac",
   "metadata": {},
   "outputs": [],
   "source": [
    "# 문자열을 정수로 바꾸기\n",
    "\n",
    "def solution(s):\n",
    "    return int(s)"
   ]
  }
 ],
 "metadata": {
  "kernelspec": {
   "display_name": "Python 3 (ipykernel)",
   "language": "python",
   "name": "python3"
  },
  "language_info": {
   "codemirror_mode": {
    "name": "ipython",
    "version": 3
   },
   "file_extension": ".py",
   "mimetype": "text/x-python",
   "name": "python",
   "nbconvert_exporter": "python",
   "pygments_lexer": "ipython3",
   "version": "3.9.13"
  },
  "toc": {
   "base_numbering": 1,
   "nav_menu": {},
   "number_sections": true,
   "sideBar": true,
   "skip_h1_title": false,
   "title_cell": "Table of Contents",
   "title_sidebar": "Contents",
   "toc_cell": false,
   "toc_position": {},
   "toc_section_display": true,
   "toc_window_display": false
  }
 },
 "nbformat": 4,
 "nbformat_minor": 5
}
