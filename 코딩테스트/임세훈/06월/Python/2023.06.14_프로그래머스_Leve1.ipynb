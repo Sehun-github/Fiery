{
 "cells": [
  {
   "cell_type": "code",
   "execution_count": 1,
   "id": "84ff68f3",
   "metadata": {},
   "outputs": [],
   "source": [
    "# 가운데 글자 가져오기\n",
    "\n",
    "def solution(s):\n",
    "    answer = ''\n",
    "    if len(s) % 2 == 0:\n",
    "        start = int(len(s)/2)-1\n",
    "        end = int(len(s)/2)+1\n",
    "        answer = s[start:end]\n",
    "    else:\n",
    "        answer = s[len(s) // 2]\n",
    "    return answer"
   ]
  },
  {
   "cell_type": "code",
   "execution_count": 2,
   "id": "f77ad405",
   "metadata": {},
   "outputs": [],
   "source": [
    "# 수박수박수박수박수박수?\n",
    "\n",
    "def solution(n):\n",
    "    answer = ''\n",
    "    for i in range(n):\n",
    "        if i % 2 == 0:\n",
    "            answer += '수'\n",
    "        else:\n",
    "            answer += '박'\n",
    "    return answer"
   ]
  },
  {
   "cell_type": "code",
   "execution_count": 3,
   "id": "fc812b27",
   "metadata": {},
   "outputs": [],
   "source": [
    "# 내적\n",
    "\n",
    "def solution(a, b):\n",
    "    answer = 0\n",
    "    for a,b in zip(a,b):\n",
    "        answer += a*b\n",
    "    return answer"
   ]
  },
  {
   "cell_type": "code",
   "execution_count": 4,
   "id": "62ad8bae",
   "metadata": {},
   "outputs": [],
   "source": [
    "# 약수의 개수와 덧셈\n",
    "\n",
    "def solution(left, right):\n",
    "    answer = 0\n",
    "    for num in range(left,right+1):\n",
    "        cnt = 0\n",
    "        for j in range(1,num+1):\n",
    "            if num % j == 0:\n",
    "                cnt += 1\n",
    "        if cnt % 2 == 0:\n",
    "            answer+=num\n",
    "        else:\n",
    "            answer-=num\n",
    "    return answer"
   ]
  },
  {
   "cell_type": "code",
   "execution_count": 14,
   "id": "ee3feeec",
   "metadata": {},
   "outputs": [
    {
     "name": "stdout",
     "output_type": "stream",
     "text": [
      "gfedcbZ\n"
     ]
    }
   ],
   "source": [
    "# 문자열 내림차순으로 배치하기\n",
    "\n",
    "def solution(s):\n",
    "    s = list(s)\n",
    "    s.sort(reverse = True)\n",
    "    return \"\".join(s)\n",
    "\n",
    "aa = \"Zbcdefg\"\n",
    "print(solution(aa))"
   ]
  }
 ],
 "metadata": {
  "kernelspec": {
   "display_name": "Python 3 (ipykernel)",
   "language": "python",
   "name": "python3"
  },
  "language_info": {
   "codemirror_mode": {
    "name": "ipython",
    "version": 3
   },
   "file_extension": ".py",
   "mimetype": "text/x-python",
   "name": "python",
   "nbconvert_exporter": "python",
   "pygments_lexer": "ipython3",
   "version": "3.9.13"
  },
  "toc": {
   "base_numbering": 1,
   "nav_menu": {},
   "number_sections": true,
   "sideBar": true,
   "skip_h1_title": false,
   "title_cell": "Table of Contents",
   "title_sidebar": "Contents",
   "toc_cell": false,
   "toc_position": {},
   "toc_section_display": true,
   "toc_window_display": false
  }
 },
 "nbformat": 4,
 "nbformat_minor": 5
}
