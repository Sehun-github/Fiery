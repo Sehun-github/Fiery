{
 "cells": [
  {
   "cell_type": "code",
   "execution_count": 2,
   "id": "964456b7",
   "metadata": {},
   "outputs": [],
   "source": [
    "# 정수 내림차순으로 배치하기\n",
    "\n",
    "def solution(n):\n",
    "    answer = list(str(n))\n",
    "    answer.sort(reverse=True)\n",
    "    return int(\"\".join(answer))"
   ]
  },
  {
   "cell_type": "code",
   "execution_count": 3,
   "id": "95842891",
   "metadata": {},
   "outputs": [],
   "source": [
    "# 하샤드 수\n",
    "\n",
    "def solution(x):\n",
    "    n = 0\n",
    "    for i in str(x):\n",
    "        n += int(i)\n",
    "    \n",
    "    if x % n == 0:\n",
    "        answer = True\n",
    "    else:\n",
    "        answer = False\n",
    "    return answer"
   ]
  },
  {
   "cell_type": "code",
   "execution_count": 5,
   "id": "5921ae50",
   "metadata": {},
   "outputs": [],
   "source": [
    "# 두 정수 사이의 합\n",
    "\n",
    "def solution(a, b):\n",
    "    answer = 0\n",
    "    if a>b:\n",
    "        a,b = b,a\n",
    "    \n",
    "    for i in range(a,b+1):\n",
    "        answer += i\n",
    "    return answer"
   ]
  },
  {
   "cell_type": "code",
   "execution_count": 6,
   "id": "ae5abd40",
   "metadata": {},
   "outputs": [],
   "source": [
    "# 콜라츠 추측 - 93.8점\n",
    "\n",
    "def solution(num):\n",
    "    if num == 0: return 0 \n",
    "    \n",
    "    cnt = 0\n",
    "    while cnt < 500:\n",
    "        if num == 1:\n",
    "            return cnt\n",
    "        if num % 2 == 0:\n",
    "            num /= 2\n",
    "        else:\n",
    "            num = num*3+1\n",
    "        cnt += 1\n",
    "    return -1"
   ]
  },
  {
   "cell_type": "code",
   "execution_count": 7,
   "id": "f75bbc5b",
   "metadata": {},
   "outputs": [],
   "source": [
    "# 서울에서 김서방 찾기\n",
    "\n",
    "def solution(seoul):\n",
    "    for i in range(len(seoul)):\n",
    "        if seoul[i] == 'Kim':\n",
    "            return f'김서방은 {i}에 있다'"
   ]
  }
 ],
 "metadata": {
  "kernelspec": {
   "display_name": "Python 3 (ipykernel)",
   "language": "python",
   "name": "python3"
  },
  "language_info": {
   "codemirror_mode": {
    "name": "ipython",
    "version": 3
   },
   "file_extension": ".py",
   "mimetype": "text/x-python",
   "name": "python",
   "nbconvert_exporter": "python",
   "pygments_lexer": "ipython3",
   "version": "3.9.13"
  },
  "toc": {
   "base_numbering": 1,
   "nav_menu": {},
   "number_sections": true,
   "sideBar": true,
   "skip_h1_title": false,
   "title_cell": "Table of Contents",
   "title_sidebar": "Contents",
   "toc_cell": false,
   "toc_position": {},
   "toc_section_display": true,
   "toc_window_display": false
  }
 },
 "nbformat": 4,
 "nbformat_minor": 5
}
