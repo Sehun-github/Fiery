{
 "cells": [
  {
   "cell_type": "code",
   "execution_count": 8,
   "id": "ab99a00e",
   "metadata": {},
   "outputs": [
    {
     "name": "stdout",
     "output_type": "stream",
     "text": [
      "[5, 10]\n"
     ]
    }
   ],
   "source": [
    "# 나누어 떨어지는 숫자 배열\n",
    "\n",
    "def solution(arr, divisor):\n",
    "    answer = []\n",
    "    for i in arr:\n",
    "        if i % divisor == 0:\n",
    "            answer.append(i)\n",
    "            \n",
    "    answer.sort()\n",
    "    if answer:\n",
    "        return answer\n",
    "    else:\n",
    "        return [-1]\n",
    "        \n",
    "print(solution([5, 9, 7, 10],5))"
   ]
  },
  {
   "cell_type": "code",
   "execution_count": 13,
   "id": "63e63654",
   "metadata": {},
   "outputs": [],
   "source": [
    "# 핸드폰 번호 가리기\n",
    "\n",
    "def solution(phone_number):\n",
    "    answer = '*' * (len(phone_number)-4)\n",
    "    for i in range(len(phone_number)-4,len(phone_number)):\n",
    "        answer += phone_number[i]\n",
    "    return answer"
   ]
  },
  {
   "cell_type": "code",
   "execution_count": 14,
   "id": "d2871b0a",
   "metadata": {},
   "outputs": [],
   "source": [
    "# 음양 더하기\n",
    "\n",
    "def solution(absolutes, signs):\n",
    "    answer = 0\n",
    "    \n",
    "    for i in range(len(absolutes)):\n",
    "        if signs[i] == False:\n",
    "            answer += absolutes[i]*-1\n",
    "        else:\n",
    "            answer += absolutes[i]\n",
    "    return answer"
   ]
  },
  {
   "cell_type": "code",
   "execution_count": 15,
   "id": "7b160445",
   "metadata": {},
   "outputs": [],
   "source": [
    "# 없는 숫자 더하기\n",
    "\n",
    "def solution(numbers):\n",
    "    answer = -1\n",
    "    a = [0,1,2,3,4,5,6,7,8,9]\n",
    "    \n",
    "    for i in numbers:\n",
    "        del a[a.index(i)]\n",
    "    return sum(a)"
   ]
  },
  {
   "cell_type": "code",
   "execution_count": 17,
   "id": "ff9c7d43",
   "metadata": {},
   "outputs": [
    {
     "name": "stdout",
     "output_type": "stream",
     "text": [
      "[-1]\n"
     ]
    }
   ],
   "source": [
    "# 제일 작은 수 제거하기\n",
    "\n",
    "def solution(arr):\n",
    "\n",
    "    if len(arr) == 1:\n",
    "        return [-1]\n",
    "    else:\n",
    "        del arr[arr.index(min(arr))]\n",
    "        return arr"
   ]
  }
 ],
 "metadata": {
  "kernelspec": {
   "display_name": "Python 3 (ipykernel)",
   "language": "python",
   "name": "python3"
  },
  "language_info": {
   "codemirror_mode": {
    "name": "ipython",
    "version": 3
   },
   "file_extension": ".py",
   "mimetype": "text/x-python",
   "name": "python",
   "nbconvert_exporter": "python",
   "pygments_lexer": "ipython3",
   "version": "3.9.13"
  },
  "toc": {
   "base_numbering": 1,
   "nav_menu": {},
   "number_sections": true,
   "sideBar": true,
   "skip_h1_title": false,
   "title_cell": "Table of Contents",
   "title_sidebar": "Contents",
   "toc_cell": false,
   "toc_position": {},
   "toc_section_display": true,
   "toc_window_display": false
  }
 },
 "nbformat": 4,
 "nbformat_minor": 5
}
