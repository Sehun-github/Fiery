{
 "cells": [
  {
   "cell_type": "code",
   "execution_count": 52,
   "id": "a87da793",
   "metadata": {},
   "outputs": [
    {
     "name": "stdout",
     "output_type": "stream",
     "text": [
      "28\n"
     ]
    }
   ],
   "source": [
    "# 약수의 합\n",
    "def solution(n):\n",
    "    answer = 0\n",
    "    for i in range(1,n+1):\n",
    "        if n % i == 0:\n",
    "            answer += i\n",
    "    return answer\n",
    "\n",
    "print(solution(12))"
   ]
  },
  {
   "cell_type": "code",
   "execution_count": 55,
   "id": "ff8d9277",
   "metadata": {},
   "outputs": [
    {
     "name": "stdout",
     "output_type": "stream",
     "text": [
      "3\n"
     ]
    }
   ],
   "source": [
    "# 나머지가 1이 되는 수 찾기\n",
    "\n",
    "def solution(n):\n",
    "    for i in range(1,n):\n",
    "        if n % i == 1:    \n",
    "            return i\n",
    "        \n",
    "print(solution(10))"
   ]
  },
  {
   "cell_type": "code",
   "execution_count": 57,
   "id": "bba1b9c1",
   "metadata": {},
   "outputs": [],
   "source": [
    "# 평균 구하기\n",
    "\n",
    "def solution(arr):\n",
    "    sum = 0\n",
    "    for i in arr:\n",
    "        sum += i\n",
    "    return sum/len(arr)"
   ]
  },
  {
   "cell_type": "code",
   "execution_count": 56,
   "id": "7bdb4320",
   "metadata": {},
   "outputs": [],
   "source": [
    "# 자릿수 더하기\n",
    "\n",
    "def solution(n):\n",
    "    answer = 0\n",
    "    for i in str(n):\n",
    "        answer += int(i)\n",
    "    return answer"
   ]
  },
  {
   "cell_type": "code",
   "execution_count": 58,
   "id": "5ede88a9",
   "metadata": {},
   "outputs": [],
   "source": [
    "# x만큼 간격이 있는 n개의 숫자\n",
    "\n",
    "def solution(x, n):\n",
    "    answer = []\n",
    "    for i in range(1,n+1):\n",
    "        num = i*x\n",
    "        answer.append(num)\n",
    "    return answer"
   ]
  }
 ],
 "metadata": {
  "kernelspec": {
   "display_name": "Python 3 (ipykernel)",
   "language": "python",
   "name": "python3"
  },
  "language_info": {
   "codemirror_mode": {
    "name": "ipython",
    "version": 3
   },
   "file_extension": ".py",
   "mimetype": "text/x-python",
   "name": "python",
   "nbconvert_exporter": "python",
   "pygments_lexer": "ipython3",
   "version": "3.9.13"
  },
  "toc": {
   "base_numbering": 1,
   "nav_menu": {},
   "number_sections": true,
   "sideBar": true,
   "skip_h1_title": false,
   "title_cell": "Table of Contents",
   "title_sidebar": "Contents",
   "toc_cell": false,
   "toc_position": {},
   "toc_section_display": true,
   "toc_window_display": false
  }
 },
 "nbformat": 4,
 "nbformat_minor": 5
}
