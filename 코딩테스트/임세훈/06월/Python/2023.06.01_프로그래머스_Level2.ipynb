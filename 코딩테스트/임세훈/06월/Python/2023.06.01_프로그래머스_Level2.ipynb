{
 "cells": [
  {
   "cell_type": "code",
   "execution_count": 417,
   "id": "4d3c2b10",
   "metadata": {},
   "outputs": [
    {
     "name": "stdout",
     "output_type": "stream",
     "text": [
      "[1, 2, 9, 3, 10, 8, 4, 5, 6, 7]\n"
     ]
    }
   ],
   "source": [
    "# 삼각 달팽이 - % 3 으로 방향 조절\n",
    "\n",
    "def solution(n):\n",
    "    answer = [[0 for j in range(1, i+1)] for i in range(1, n+1)] # 삼각형 구조 만들기\n",
    "   \n",
    "    x,y,num = -1,0,1\n",
    "    for i in range(n):\n",
    "        for j in range(i,n):\n",
    "            if i % 3 == 0:\n",
    "                x += 1\n",
    "            elif i % 3 == 1:\n",
    "                y += 1\n",
    "            else:\n",
    "                x-=1\n",
    "                y-=1\n",
    "            answer[x][y] = num\n",
    "            num +=1\n",
    "    \n",
    "    answer = sum(answer,[])\n",
    "    return answer\n",
    "\n",
    "print(solution(4))"
   ]
  },
  {
   "cell_type": "code",
   "execution_count": 448,
   "id": "a5f341c6",
   "metadata": {},
   "outputs": [
    {
     "name": "stdout",
     "output_type": "stream",
     "text": [
      "21\n"
     ]
    }
   ],
   "source": [
    "# 124 나라의 숫자\n",
    "\n",
    "def solution(n):\n",
    "    answer = ''\n",
    "    \n",
    "    while n:\n",
    "        \n",
    "        if n % 3 > 0:\n",
    "            answer += str(n % 3)\n",
    "            n //= 3\n",
    "        else:\n",
    "            answer += \"4\"\n",
    "            n = n//3 - 1\n",
    "    \n",
    "    return answer[::-1]\n",
    "\n",
    "print(solution(7))"
   ]
  },
  {
   "cell_type": "code",
   "execution_count": 478,
   "id": "e625d8fb",
   "metadata": {},
   "outputs": [
    {
     "name": "stdout",
     "output_type": "stream",
     "text": [
      "2\n"
     ]
    }
   ],
   "source": [
    "# 택배상자\n",
    "\n",
    "def solution(order):\n",
    "    sub = []\n",
    "    cnt = 0\n",
    "    i = 1\n",
    "    while i !=len(order)+1:\n",
    "        sub.append(i)\n",
    "\n",
    "        while sub and sub[-1] == order[cnt]:\n",
    "            cnt +=1\n",
    "            sub.pop()\n",
    "        i += 1\n",
    "    return cnt\n",
    "aa = [4, 3, 1, 2, 5]\n",
    "print(solution(aa))"
   ]
  }
 ],
 "metadata": {
  "kernelspec": {
   "display_name": "Python 3 (ipykernel)",
   "language": "python",
   "name": "python3"
  },
  "language_info": {
   "codemirror_mode": {
    "name": "ipython",
    "version": 3
   },
   "file_extension": ".py",
   "mimetype": "text/x-python",
   "name": "python",
   "nbconvert_exporter": "python",
   "pygments_lexer": "ipython3",
   "version": "3.9.13"
  },
  "toc": {
   "base_numbering": 1,
   "nav_menu": {},
   "number_sections": true,
   "sideBar": true,
   "skip_h1_title": false,
   "title_cell": "Table of Contents",
   "title_sidebar": "Contents",
   "toc_cell": false,
   "toc_position": {},
   "toc_section_display": true,
   "toc_window_display": false
  }
 },
 "nbformat": 4,
 "nbformat_minor": 5
}
