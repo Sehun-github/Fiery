{
 "cells": [
  {
   "cell_type": "code",
   "execution_count": 75,
   "id": "a48d48a8",
   "metadata": {},
   "outputs": [
    {
     "name": "stdout",
     "output_type": "stream",
     "text": [
      "WORLD\n",
      "HELLO\n"
     ]
    }
   ],
   "source": [
    "# [3차] 방금그곡 - 90점\n",
    "def solution(m, musicinfos):\n",
    "    start_time,end_time = 0,0\n",
    "    \n",
    "    m = m.replace('C#','c').replace('D#','d').replace('F#','f').replace('G#','g').replace('A#','a')\n",
    "    \n",
    "    \n",
    "    for music in musicinfos:\n",
    "        start_time = int(music.split(',')[0].split(':')[0])*60 + int(music.split(',')[0].split(':')[1])\n",
    "        end_time = int(music.split(',')[1].split(':')[0])*60 + int(music.split(',')[1].split(':')[1])   \n",
    "        time = end_time - start_time\n",
    "        \n",
    "        muisc_code = music.split(',')[3].replace('C#','c').replace('D#','d').replace('F#','f').replace('G#','g').replace('A#','a')\n",
    "        a = time // len(muisc_code)\n",
    "        b = time % len(muisc_code)\n",
    "        muisc_code = muisc_code*a + muisc_code[:b]\n",
    "        \n",
    "        if m in muisc_code:\n",
    "            return music.split(',')[2]\n",
    "    return '(None)'\n",
    "\n",
    "aa = \"ABC\"\n",
    "bb= [\"12:00,12:14,HELLO,C#DEFGAB\", \"13:00,13:05,WORLD,ABCDEF\"]\n",
    "print(solution(aa,bb))\n",
    "\n",
    "\n",
    "## 음악이 여러개일경우 재생된 시간이 제일 긴 음악 제목을 반환 조건을 안넣었음\n",
    "def solution(m, musicinfos):\n",
    "    start_time,end_time = 0,0\n",
    "    \n",
    "    m = m.replace('C#','c').replace('D#','d').replace('F#','f').replace('G#','g').replace('A#','a')\n",
    "    \n",
    "    music_list = []\n",
    "    for music in musicinfos:\n",
    "        start_time = int(music.split(',')[0].split(':')[0])*60 + int(music.split(',')[0].split(':')[1])\n",
    "        end_time = int(music.split(',')[1].split(':')[0])*60 + int(music.split(',')[1].split(':')[1])   \n",
    "        time = end_time - start_time\n",
    "        \n",
    "        muisc_code = music.split(',')[3].replace('C#','c').replace('D#','d').replace('F#','f').replace('G#','g').replace('A#','a')\n",
    "        a = time // len(muisc_code)\n",
    "        b = time % len(muisc_code)\n",
    "        muisc_code = muisc_code*a + muisc_code[:b]\n",
    "        \n",
    "        if m in muisc_code:\n",
    "            music_list.append([music.split(',')[2],time])\n",
    "    \n",
    "    if len(music_list) == 0:\n",
    "        return '(None)'\n",
    "    else:\n",
    "        music_list.sort(reverse=True,key=lambda x:x[1])\n",
    "        return music_list[0][0]\n",
    "\n",
    "aa = \"ABC\"\n",
    "bb= [\"12:00,12:14,HELLO,CDEFGAB\", \"13:00,13:05,WORLD,ABCDEF\"]\n",
    "print(solution(aa,bb))"
   ]
  },
  {
   "cell_type": "code",
   "execution_count": 41,
   "id": "b3426894",
   "metadata": {},
   "outputs": [
    {
     "name": "stdout",
     "output_type": "stream",
     "text": [
      "[1, 1, 27]\n"
     ]
    }
   ],
   "source": [
    "# 무인도 여행 - 풀이보고 품\n",
    "from collections import deque\n",
    "def solution(maps):\n",
    "    answer = []\n",
    "    x,y  = len(maps), len(maps[0])\n",
    "    direction = [(0,1),(1,0),(-1,0),(0,-1)]\n",
    "    road_list = [[False]*y for _ in range(x)]\n",
    "    for i in range(x):\n",
    "        for j in range(y):\n",
    "            if maps[i][j] == 'X' or road_list[i][j]:\n",
    "                continue\n",
    "                \n",
    "            road_list[i][j] = True\n",
    "            result = 0\n",
    "            q = deque()\n",
    "            q.append((i,j))\n",
    "            \n",
    "\n",
    "            while q:\n",
    "                nx,ny = q.popleft()\n",
    "                result += int(maps[nx][ny])\n",
    "                for a,b in direction:\n",
    "                    if 0 <= nx + a < x and 0 <= ny + b < y and maps[nx+a][ny+b] != 'X' and road_list[nx+a][ny+b] == False:\n",
    "                        q.append((nx+a, ny+b))\n",
    "                        road_list[nx+a][ny+b] = True\n",
    "            if result:\n",
    "                answer.append(result)\n",
    "    \n",
    "    if answer:\n",
    "        answer.sort()\n",
    "        return answer\n",
    "    else:\n",
    "        return [-1]\n",
    "    \n",
    "\n",
    "aa = [\"X591X\",\"X1X5X\",\"X231X\", \"1XXX1\"]\n",
    "print(solution(aa))"
   ]
  }
 ],
 "metadata": {
  "kernelspec": {
   "display_name": "Python 3 (ipykernel)",
   "language": "python",
   "name": "python3"
  },
  "language_info": {
   "codemirror_mode": {
    "name": "ipython",
    "version": 3
   },
   "file_extension": ".py",
   "mimetype": "text/x-python",
   "name": "python",
   "nbconvert_exporter": "python",
   "pygments_lexer": "ipython3",
   "version": "3.9.13"
  },
  "toc": {
   "base_numbering": 1,
   "nav_menu": {},
   "number_sections": true,
   "sideBar": true,
   "skip_h1_title": false,
   "title_cell": "Table of Contents",
   "title_sidebar": "Contents",
   "toc_cell": false,
   "toc_position": {},
   "toc_section_display": true,
   "toc_window_display": false
  }
 },
 "nbformat": 4,
 "nbformat_minor": 5
}
