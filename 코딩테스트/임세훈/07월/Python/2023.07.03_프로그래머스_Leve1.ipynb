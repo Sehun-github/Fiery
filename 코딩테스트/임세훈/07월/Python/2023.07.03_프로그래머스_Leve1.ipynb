{
 "cells": [
  {
   "cell_type": "code",
   "execution_count": 3,
   "id": "b452d3c0",
   "metadata": {},
   "outputs": [
    {
     "name": "stdout",
     "output_type": "stream",
     "text": [
      "4\n"
     ]
    }
   ],
   "source": [
    "# 햄버거 만들기 -- 66.7 // 틀린 이유가 머지\n",
    "\n",
    "def solution(ingredient):\n",
    "    s = ''\n",
    "    for i in ingredient:\n",
    "        s += str(i)\n",
    "    \n",
    "    cnt = 0\n",
    "    while True:\n",
    "        if '1231' in s:\n",
    "            cnt += s.count('1231')\n",
    "            s = s.replace('1231',\"\")\n",
    "        else:\n",
    "            break\n",
    "    return cnt\n",
    "    \n",
    "aa = [1, 1, 1, 2, 3, 1, 2, 3, 1, 2, 3, 1, 2, 3, 1, 2, 3, 1, 2, 3, 1, 2, 3, 1]\n",
    "print(solution(aa))\n",
    "\n",
    "\n",
    "## 두번째 - 프로그래머스에 질문을 올려 이슈 확인 - 전체에서 체크하는게 아닌 하나 넣을때마다 체크하는 형식으로 수정\n",
    "def solution(ingredient):\n",
    "    cnt = 0\n",
    "    stack = []\n",
    "    \n",
    "    for s in ingredient:\n",
    "        stack.append(s)\n",
    "        if stack[-4:] == [1,2,3,1]:\n",
    "            cnt += 1\n",
    "            for _ in range(4):\n",
    "                stack.pop()\n",
    "    return cnt"
   ]
  },
  {
   "cell_type": "code",
   "execution_count": 2,
   "id": "5cf5c0ee",
   "metadata": {},
   "outputs": [
    {
     "name": "stdout",
     "output_type": "stream",
     "text": [
      "5\n"
     ]
    }
   ],
   "source": [
    "# 성격 유형 검사하기\n",
    "\n",
    "def solution(survey, choices):\n",
    "    answer = ''\n",
    "\n",
    "    survey_dict = {1:{'R':0,'T':0},\n",
    "                   2:{'C':0,'F':0},\n",
    "                   3:{'J':0,'M':0},\n",
    "                   4:{'A':0,'N':0}}\n",
    "    \n",
    "    choices_dict = {1:3,2:2,3:1,4:0,5:-1,6:-2,7:-3}\n",
    "    \n",
    "    for i in range(len(survey)):\n",
    "        for j in range(1,5):\n",
    "            if survey[i][0] in survey_dict[j]:\n",
    "                survey_dict[j][survey[i][0]] += choices_dict[choices[i]]\n",
    "    \n",
    "    \n",
    "    for k in range(1,5):\n",
    "        survey_dict[k] = sorted(survey_dict[k].items(),key= lambda x:(-x[1],x[0]))\n",
    "        a,b = survey_dict[k][0]\n",
    "        answer += a\n",
    "    return answer"
   ]
  },
  {
   "cell_type": "code",
   "execution_count": 1,
   "id": "727ebda0",
   "metadata": {},
   "outputs": [],
   "source": [
    "# 바탕화면 정리\n",
    "\n",
    "def solution(wallpaper):\n",
    "    a,b,c,d = 100,100,0,0\n",
    "    for i in range(len(wallpaper)):\n",
    "        for j in range(len(wallpaper[0])):\n",
    "            if wallpaper[i][j] == \"#\":\n",
    "                if a > i:\n",
    "                    a = i\n",
    "                if b > j:\n",
    "                    b = j\n",
    "                if i >= c:\n",
    "                    c = i+1\n",
    "                if j >= d:\n",
    "                    d = j+1\n",
    "    return [a,b,c,d]"
   ]
  },
  {
   "cell_type": "code",
   "execution_count": 15,
   "id": "1dadb0a8",
   "metadata": {},
   "outputs": [
    {
     "name": "stdout",
     "output_type": "stream",
     "text": [
      "[1, 3]\n"
     ]
    }
   ],
   "source": [
    "# 개인정보 수집 유효기간\n",
    "\n",
    "def solution(today, terms, privacies):\n",
    "    answer = []\n",
    "    today_day = int(today[:4])*12*28 + int(today[5:7])*28+int(today[-2:])\n",
    "    \n",
    "    terms_dict = {}\n",
    "    for term in terms:\n",
    "        terms_dict[term[0]] = int(term[2:])*28\n",
    "    \n",
    "    cnt = 1\n",
    "    for privacy in privacies:\n",
    "        day = int(privacy[:4])*12*28+int(privacy[5:7])*28+int(privacy[8:10])+terms_dict[privacy[-1]]\n",
    "        if today_day >= day:\n",
    "            answer.append(cnt)\n",
    "        cnt += 1\n",
    "    return answer\n",
    "\n",
    "aa = \"2022.05.19\"\n",
    "bb = [\"A 6\", \"B 12\", \"C 3\"]\n",
    "cc = [\"2021.05.02 A\", \"2021.07.01 B\", \"2022.02.19 C\", \"2022.02.20 C\"]\n",
    "\n",
    "print(solution(aa,bb,cc))"
   ]
  },
  {
   "cell_type": "code",
   "execution_count": 24,
   "id": "a82f5c04",
   "metadata": {},
   "outputs": [
    {
     "name": "stdout",
     "output_type": "stream",
     "text": [
      "['mumu', 'kai', 'mine', 'soe', 'poe']\n",
      "['mumu', 'kai', 'mine', 'soe', 'poe']\n"
     ]
    }
   ],
   "source": [
    "# 달리기 경주 - 시간초과(68.8점)\n",
    "\n",
    "def solution(players, callings):\n",
    "    answer = []\n",
    "    \n",
    "    for calling in callings:\n",
    "        i = players.index(calling)\n",
    "        players.pop(i)\n",
    "        players.insert(i-1, calling)\n",
    "        \n",
    "    return players\n",
    "\n",
    "aa = [\"mumu\", \"soe\", \"poe\", \"kai\", \"mine\"]\n",
    "bb = [\"kai\", \"kai\", \"mine\", \"mine\"]\n",
    "print(solution(aa,bb))\n",
    "\n",
    "## 해시 사용\n",
    "def solution(players, callings):\n",
    "    answer = []\n",
    "    players_score_dict = {}\n",
    "    cnt = 0\n",
    "    for player in players:\n",
    "        players_score_dict[player] = cnt\n",
    "        cnt += 1\n",
    "    \n",
    "    for calling in callings:\n",
    "        idx = players_score_dict[calling]\n",
    "        players_score_dict[calling] -= 1\n",
    "        players_score_dict[players[idx-1]] += 1\n",
    "        players[idx-1], players[idx] = players[idx], players[idx-1]\n",
    "    \n",
    "    return players\n",
    "\n",
    "aa = [\"mumu\", \"soe\", \"poe\", \"kai\", \"mine\"]\n",
    "bb = [\"kai\", \"kai\", \"mine\", \"mine\"]\n",
    "print(solution(aa,bb))"
   ]
  },
  {
   "cell_type": "code",
   "execution_count": 31,
   "id": "3e4129d8",
   "metadata": {},
   "outputs": [
    {
     "name": "stdout",
     "output_type": "stream",
     "text": [
      "[2, 1]\n"
     ]
    }
   ],
   "source": [
    "# 공원 산책 - 풀이보고 품\n",
    "\n",
    "def solution(park, routes):\n",
    "    x, y = 0, 0\n",
    "    for row in range(len(park)):\n",
    "        for col in range(len(park[row])):\n",
    "            if park[row][col] == 'S':  \n",
    "                x, y = row, col\n",
    "    \n",
    "    op = {'N':(-1, 0), 'S':(1, 0), 'W':(0, -1), 'E':(0, 1)}\n",
    "    \n",
    "    for i in routes:\n",
    "        dx, dy = op[i.split()[0]]\n",
    "        n = int(i.split()[1])\n",
    "        \n",
    "        xx, yy = x, y \n",
    "        canmove = True\n",
    "        \n",
    "        # n번 이동해보기\n",
    "        for _ in range(n):\n",
    "            nx = xx + dx\n",
    "            ny = yy + dy\n",
    "            if 0 <= nx <= len(park)-1 and 0 <= ny <= len(park[0])-1 and park[nx][ny] != 'X':\n",
    "                canmove = True\n",
    "                xx, yy = nx, ny\n",
    "            else:\n",
    "                canmove = False\n",
    "                break\n",
    "                \n",
    "        if canmove: \n",
    "            x, y = nx, ny  \n",
    "        \n",
    "    return [x, y]\n",
    "aa = [\"SOO\",\"OOO\",\"OOO\"]\n",
    "bb = [\"E 2\",\"S 2\",\"W 1\"]\n",
    "print(solution(aa,bb))"
   ]
  },
  {
   "cell_type": "code",
   "execution_count": 41,
   "id": "f15881f4",
   "metadata": {},
   "outputs": [
    {
     "name": "stdout",
     "output_type": "stream",
     "text": [
      "{'frodo': 2, 'neo': 2, 'muzi': 1}\n",
      "[2, 1, 1, 0]\n"
     ]
    }
   ],
   "source": [
    "# 신고 결과 받기\n",
    "\n",
    "def solution(id_list, report, k):\n",
    "    answer = []\n",
    "    \n",
    "    id_01_dict = {} # 신고한 id 딕셔너리\n",
    "    id_02_dict = {} # 신고당한 id 딕셔너리\n",
    "    id_02_list = []\n",
    "    \n",
    "    for s in report:\n",
    "        id_01 = s.split(\" \")[0]\n",
    "        id_02 = s.split(\" \")[1]\n",
    "        \n",
    "        if id_01 in id_01_dict:\n",
    "            if id_02 not in id_01_dict[id_01]:\n",
    "                id_01_dict[id_01] += [id_02]\n",
    "        else:\n",
    "            id_01_dict[id_01] = [id_02]\n",
    "        \n",
    "    \n",
    "    for i in id_01_dict:\n",
    "        for j in id_01_dict[i]:\n",
    "            if j in id_02_dict:\n",
    "                id_02_dict[j] += 1\n",
    "            else:\n",
    "                id_02_dict[j] = 1       \n",
    "    \n",
    "    for x in id_02_dict:\n",
    "        if id_02_dict[x] >= k:\n",
    "            id_02_list.append(x)\n",
    "    \n",
    "    for id in id_list:\n",
    "        cnt = 0\n",
    "        \n",
    "        if id in id_01_dict:\n",
    "            for a in id_01_dict[id]:\n",
    "                if a in id_02_list:\n",
    "                    cnt += 1\n",
    "    \n",
    "        answer.append(cnt)\n",
    "    return answer\n",
    "\n",
    "aa = [\"muzi\", \"frodo\", \"apeach\", \"neo\"]\n",
    "bb= [\"muzi frodo\",\"apeach frodo\",\"frodo neo\",\"muzi neo\",\"apeach muzi\"]\n",
    "print(solution(aa,bb,2))"
   ]
  }
 ],
 "metadata": {
  "kernelspec": {
   "display_name": "Python 3 (ipykernel)",
   "language": "python",
   "name": "python3"
  },
  "language_info": {
   "codemirror_mode": {
    "name": "ipython",
    "version": 3
   },
   "file_extension": ".py",
   "mimetype": "text/x-python",
   "name": "python",
   "nbconvert_exporter": "python",
   "pygments_lexer": "ipython3",
   "version": "3.9.13"
  },
  "toc": {
   "base_numbering": 1,
   "nav_menu": {},
   "number_sections": true,
   "sideBar": true,
   "skip_h1_title": false,
   "title_cell": "Table of Contents",
   "title_sidebar": "Contents",
   "toc_cell": false,
   "toc_position": {},
   "toc_section_display": true,
   "toc_window_display": false
  }
 },
 "nbformat": 4,
 "nbformat_minor": 5
}
