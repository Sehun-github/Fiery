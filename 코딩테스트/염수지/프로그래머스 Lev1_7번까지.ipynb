{
 "cells": [
  {
   "cell_type": "code",
   "execution_count": null,
   "id": "9cae4e60",
   "metadata": {},
   "outputs": [],
   "source": [
    "# 1번문제: 정수 num이 짝수일 경우 \"Even\"을 반환하고 홀수인 경우 \"Odd\"를 반환하는 함수, solution을 완성해주세요.\n",
    "\n",
    "제한 조건\n",
    "num은 int 범위의 정수입니다.\n",
    "0은 짝수입니다."
   ]
  },
  {
   "cell_type": "code",
   "execution_count": 2,
   "id": "21b7641b",
   "metadata": {},
   "outputs": [],
   "source": [
    "def solution(num):\n",
    "    if num == 0:\n",
    "        answer = 'Even'\n",
    "        return answer\n",
    "    elif num % 2 == 0:\n",
    "        answer = 'Even'\n",
    "        return answer\n",
    "    else:\n",
    "        answer = 'Odd'\n",
    "        return answer"
   ]
  },
  {
   "cell_type": "code",
   "execution_count": null,
   "id": "8b10d1b6",
   "metadata": {},
   "outputs": [],
   "source": [
    "-> 나머지 %"
   ]
  },
  {
   "cell_type": "code",
   "execution_count": null,
   "id": "e37e54a1",
   "metadata": {},
   "outputs": [],
   "source": [
    "# 2번문제: 자연수 N이 주어지면, N의 각 자릿수의 합을 구해서 return 하는 solution 함수를 만들어 주세요.\n",
    "           예를들어 N = 123이면 1 + 2 + 3 = 6을 return 하면 됩니다.\n",
    "\n",
    "제한사항\n",
    "N의 범위 : 100,000,000 이하의 자연수"
   ]
  },
  {
   "cell_type": "code",
   "execution_count": null,
   "id": "6a089694",
   "metadata": {},
   "outputs": [],
   "source": [
    "def solution(n):\n",
    "    answer = 0\n",
    "    for i in str(n):        \n",
    "        answer += int(i)    \n",
    "    return answer"
   ]
  },
  {
   "cell_type": "code",
   "execution_count": null,
   "id": "0284c45f",
   "metadata": {},
   "outputs": [],
   "source": [
    "-> 숫자를 str()로 바꾸고 하나씩 빼내기"
   ]
  },
  {
   "cell_type": "code",
   "execution_count": null,
   "id": "e81ecb4d",
   "metadata": {},
   "outputs": [],
   "source": [
    "# 3번문제: 정수를 담고 있는 배열 arr의 평균값을 return하는 함수, solution을 완성해보세요.\n",
    "\n",
    "제한사항\n",
    "arr은 길이 1 이상, 100 이하인 배열입니다.\n",
    "arr의 원소는 -10,000 이상 10,000 이하인 정수입니다."
   ]
  },
  {
   "cell_type": "code",
   "execution_count": null,
   "id": "6b979ffd",
   "metadata": {},
   "outputs": [],
   "source": [
    "def solution(arr):\n",
    "    answer = 0\n",
    "    arr_avg = sum(arr)/len(arr)\n",
    "    return answer"
   ]
  },
  {
   "cell_type": "code",
   "execution_count": null,
   "id": "27acbe7a",
   "metadata": {},
   "outputs": [],
   "source": [
    "-> sum()과 len()"
   ]
  },
  {
   "cell_type": "code",
   "execution_count": null,
   "id": "03dc2144",
   "metadata": {},
   "outputs": [],
   "source": [
    "# 4번문제: 정수 n을 입력받아 n의 약수를 모두 더한 값을 리턴하는 함수, solution을 완성해주세요.\n",
    "\n",
    "제한 사항\n",
    "n은 0 이상 3000이하인 정수입니다."
   ]
  },
  {
   "cell_type": "code",
   "execution_count": null,
   "id": "281d64a1",
   "metadata": {},
   "outputs": [],
   "source": [
    "def solution(n):\n",
    "    answer = 0\n",
    "    for i in range(1, n + 1):\n",
    "        if n % i == 0:\n",
    "            answer += i\n",
    "    return answer"
   ]
  },
  {
   "cell_type": "code",
   "execution_count": null,
   "id": "91bc51fb",
   "metadata": {},
   "outputs": [],
   "source": [
    "-> for구문으로 범위의 값을 나누기"
   ]
  },
  {
   "cell_type": "code",
   "execution_count": null,
   "id": "83e24762",
   "metadata": {},
   "outputs": [],
   "source": [
    "# 5번문제: 자연수 n이 매개변수로 주어집니다.\n",
    "# n을 x로 나눈 나머지가 1이 되도록 하는 가장 작은 자연수 x를 return 하도록 solution 함수를 완성해주세요.\n",
    "# 답이 항상 존재함은 증명될 수 있습니다.\n",
    "\n",
    "제한사항\n",
    "3 ≤ n ≤ 1,000,000"
   ]
  },
  {
   "cell_type": "code",
   "execution_count": null,
   "id": "19919e87",
   "metadata": {},
   "outputs": [],
   "source": [
    "def solution(n):\n",
    "    answer = 2\n",
    "    while n % answer != 1:\n",
    "        answer += 1\n",
    "    return answer"
   ]
  },
  {
   "cell_type": "code",
   "execution_count": null,
   "id": "c8618637",
   "metadata": {},
   "outputs": [],
   "source": [
    "-> while 구문으로 != 면 1씩 더하기"
   ]
  },
  {
   "cell_type": "code",
   "execution_count": null,
   "id": "df4bb28e",
   "metadata": {},
   "outputs": [],
   "source": [
    "# 6번문제: 함수 solution은 정수 x와 자연수 n을 입력 받아, x부터 시작해 x씩 증가하는 숫자를 n개 지니는 리스트를 리턴해야 합니다.\n",
    "# 다음 제한 조건을 보고, 조건을 만족하는 함수, solution을 완성해주세요.\n",
    "\n",
    "제한 조건\n",
    "x는 -10000000 이상, 10000000 이하인 정수입니다.\n",
    "n은 1000 이하인 자연수입니다."
   ]
  },
  {
   "cell_type": "code",
   "execution_count": null,
   "id": "0a15a15c",
   "metadata": {},
   "outputs": [],
   "source": [
    "def solution(x, n):\n",
    "    answer = []\n",
    "    if x > 0:\n",
    "        for i in range (x, x*n+1 , x):\n",
    "            answer.append(i)\n",
    "    else:  \n",
    "        for i in range(x, x*n-1, x):\n",
    "            answer.append(i)\n",
    "    return answer\n",
    "-------------------------------------------------------------> 8번 런타임오류... WHY\n",
    "def solution(x, n):\n",
    "    answer = []\n",
    "    for i in range(1, n + 1):\n",
    "        answer.append(x * i)\n",
    "    return answer"
   ]
  },
  {
   "cell_type": "code",
   "execution_count": null,
   "id": "38d7ef03",
   "metadata": {},
   "outputs": [],
   "source": [
    "-> x씩 증가한다는걸 다르게 해결"
   ]
  },
  {
   "cell_type": "code",
   "execution_count": null,
   "id": "8964e5e9",
   "metadata": {},
   "outputs": [],
   "source": [
    "# 7번문제: 대문자와 소문자가 섞여있는 문자열 s가 주어집니다.\n",
    "# s에 'p'의 개수와 'y'의 개수를 비교해 같으면 True, 다르면 False를 return 하는 solution를 완성하세요. \n",
    "# 'p', 'y' 모두 하나도 없는 경우는 항상 True를 리턴합니다. 단, 개수를 비교할 때 대문자와 소문자는 구별하지 않습니다.\n",
    "   예를 들어 s가 \"pPoooyY\"면 true를 return하고 \"Pyy\"라면 false를 return합니다.\n",
    "\n",
    "제한사항\n",
    "문자열 s의 길이 : 50 이하의 자연수\n",
    "문자열 s는 알파벳으로만 이루어져 있습니다."
   ]
  },
  {
   "cell_type": "code",
   "execution_count": null,
   "id": "a0205bbd",
   "metadata": {},
   "outputs": [],
   "source": [
    "def solution(s):\n",
    "    s = s.lower()\n",
    "    count_p = s.count('p')\n",
    "    count_y = s.count('y')\n",
    "    return count_p == count_y"
   ]
  },
  {
   "cell_type": "code",
   "execution_count": null,
   "id": "c2773467",
   "metadata": {},
   "outputs": [],
   "source": [
    "-> lower()로 모두 통일, count()로 글자 세기"
   ]
  }
 ],
 "metadata": {
  "kernelspec": {
   "display_name": "Python 3 (ipykernel)",
   "language": "python",
   "name": "python3"
  },
  "language_info": {
   "codemirror_mode": {
    "name": "ipython",
    "version": 3
   },
   "file_extension": ".py",
   "mimetype": "text/x-python",
   "name": "python",
   "nbconvert_exporter": "python",
   "pygments_lexer": "ipython3",
   "version": "3.9.13"
  }
 },
 "nbformat": 4,
 "nbformat_minor": 5
}
