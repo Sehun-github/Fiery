{
 "cells": [
  {
   "cell_type": "code",
   "execution_count": null,
   "id": "0c6d7e05",
   "metadata": {},
   "outputs": [],
   "source": [
    "# 50번문제: \"명예의 전당\"이라는 TV 프로그램에서는 매일 1명의 가수가 노래를 부르고, \n",
    "시청자들의 문자 투표수로 가수에게 점수를 부여합니다. \n",
    "매일 출연한 가수의 점수가 지금까지 출연 가수들의 점수 중 상위 k번째 이내이면 \n",
    "해당 가수의 점수를 명예의 전당이라는 목록에 올려 기념합니다. \n",
    "즉 프로그램 시작 이후 초기에 k일까지는 모든 출연 가수의 점수가 명예의 전당에 오르게 됩니다. \n",
    "k일 다음부터는 출연 가수의 점수가 기존의 명예의 전당 목록의 k번째 순위의 가수 점수보다 더 높으면, \n",
    "출연 가수의 점수가 명예의 전당에 오르게 되고 기존의 k번째 순위의 점수는 명예의 전당에서 내려오게 됩니다.\n",
    "\n",
    "이 프로그램에서는 매일 \"명예의 전당\"의 최하위 점수를 발표합니다. \n",
    "예를 들어, k = 3이고, 7일 동안 진행된 가수의 점수가 [10, 100, 20, 150, 1, 100, 200]이라면, \n",
    "명예의 전당에서 발표된 점수는 아래의 그림과 같이 [10, 10, 10, 20, 20, 100, 100]입니다.\n",
    "명예의 전당 목록의 점수의 개수 k, 1일부터 마지막 날까지 출연한 가수들의 점수인 score가 주어졌을 때, \n",
    "매일 발표된 명예의 전당의 최하위 점수를 return하는 solution 함수를 완성해주세요.\n",
    "\n",
    "제한사항\n",
    "3 ≤ k ≤ 100\n",
    "7 ≤ score의 길이 ≤ 1,000\n",
    "0 ≤ score[i] ≤ 2,000"
   ]
  },
  {
   "cell_type": "code",
   "execution_count": null,
   "id": "d46566c7",
   "metadata": {},
   "outputs": [],
   "source": [
    "def solution(k, scores):\n",
    "    answer = []\n",
    "    answer_list = []\n",
    "    \n",
    "    for score in scores:\n",
    "        answer.append(score)\n",
    "        answer = sorted(answer, reverse=True)[:k]\n",
    "        answer_list.append(min(answer))\n",
    "        \n",
    "    return answer_list"
   ]
  },
  {
   "cell_type": "markdown",
   "id": "b713ed3f",
   "metadata": {},
   "source": [
    "#### 내림차순 정렬하고 상위 k개만 남기기 sorted(list, reverse=True)[:k]"
   ]
  },
  {
   "cell_type": "code",
   "execution_count": null,
   "id": "7e6edd57",
   "metadata": {},
   "outputs": [],
   "source": [
    "# 51번문제: 수포자는 수학을 포기한 사람의 준말입니다. 수포자 삼인방은 모의고사에 수학 문제를 전부 찍으려 합니다. \n",
    "수포자는 1번 문제부터 마지막 문제까지 다음과 같이 찍습니다.\n",
    "\n",
    "1번 수포자가 찍는 방식: 1, 2, 3, 4, 5, 1, 2, 3, 4, 5, ...\n",
    "2번 수포자가 찍는 방식: 2, 1, 2, 3, 2, 4, 2, 5, 2, 1, 2, 3, 2, 4, 2, 5, ...\n",
    "3번 수포자가 찍는 방식: 3, 3, 1, 1, 2, 2, 4, 4, 5, 5, 3, 3, 1, 1, 2, 2, 4, 4, 5, 5, ...\n",
    "\n",
    "1번 문제부터 마지막 문제까지의 정답이 순서대로 들은 배열 answers가 주어졌을 때, \n",
    "가장 많은 문제를 맞힌 사람이 누구인지 배열에 담아 return 하도록 solution 함수를 작성해주세요.\n",
    "\n",
    "제한 조건\n",
    "시험은 최대 10,000 문제로 구성되어있습니다.\n",
    "문제의 정답은 1, 2, 3, 4, 5중 하나입니다.\n",
    "가장 높은 점수를 받은 사람이 여럿일 경우, return하는 값을 오름차순 정렬해주세요."
   ]
  },
  {
   "cell_type": "code",
   "execution_count": null,
   "id": "a58998b7",
   "metadata": {},
   "outputs": [],
   "source": [
    "def solution(answers):\n",
    "    answer = []\n",
    "    score = [0,0,0]\n",
    "    \n",
    "    student1 = [1,2,3,4,5]\n",
    "    student2 = [2,1,2,3,2,4,2,5]\n",
    "    student3 = [3,3,1,1,2,2,4,4,5,5]\n",
    "    \n",
    "    for i in range(len(answers)) :\n",
    "        if answers[i] == student1[i%5] :\n",
    "            score[0] += 1\n",
    "        if answers[i] == student2[i%8] :\n",
    "            score[1] += 1\n",
    "        if answers[i] == student3[i%10] :\n",
    "            score[2] += 1\n",
    "        \n",
    "    for idx, num in enumerate(score) :\n",
    "        #인덱스랑 숫자를 가져왔을때 가장 큰값과 일치하면 그 번호를 answer에 추가하기\n",
    "        if num == max(score) :\n",
    "            answer.append(idx +1)\n",
    "    \n",
    "    return answer"
   ]
  },
  {
   "cell_type": "markdown",
   "id": "62f57185",
   "metadata": {},
   "source": [
    "#### enumerate() 함수를 사용해서 인덱스와 스코어값 같이 가지고 오기"
   ]
  },
  {
   "cell_type": "code",
   "execution_count": null,
   "id": "b54b873e",
   "metadata": {},
   "outputs": [],
   "source": [
    "# 52번문제: 주어진 숫자 중 3개의 수를 더했을 때 소수가 되는 경우의 개수를 구하려고 합니다. \n",
    "숫자들이 들어있는 배열 nums가 매개변수로 주어질 때, nums에 있는 숫자들 중 서로 다른 3개를 골라 더했을 때 \n",
    "소수가 되는 경우의 개수를 return 하도록 solution 함수를 완성해주세요.\n",
    "\n",
    "제한사항\n",
    "nums에 들어있는 숫자의 개수는 3개 이상 50개 이하입니다.\n",
    "nums의 각 원소는 1 이상 1,000 이하의 자연수이며, 중복된 숫자가 들어있지 않습니다."
   ]
  },
  {
   "cell_type": "code",
   "execution_count": null,
   "id": "f9f965f0",
   "metadata": {},
   "outputs": [],
   "source": [
    "def solution(nums):\n",
    "    answer = 0\n",
    "\n",
    "    for i in range(len(nums)):\n",
    "        for j in range(i+1, len(nums)):\n",
    "            for k in range(j+1, len(nums)):\n",
    "                number = nums[i] + nums[j] + nums[k]\n",
    "                if len([m for m in range(2, number) if number % m == 0]) == 0:\n",
    "                    answer += 1\n",
    "\n",
    "    return answer\n",
    "------------------------------------------------------------------------------------------------\n",
    "from itertools import combinations\n",
    "\n",
    "def is_prime(num):\n",
    "    if num < 2:\n",
    "        return False\n",
    "    for i in range(2, int(num**0.5) + 1):\n",
    "        if num % i == 0:\n",
    "            return False\n",
    "    return True\n",
    "\n",
    "def solution(nums):\n",
    "    answer = 0\n",
    "\n",
    "    comb = combinations(nums, 3)  # nums에서 3개의 숫자로 가능한 조합 생성\n",
    "\n",
    "    for c in comb:\n",
    "        if is_prime(sum(c)):  # 조합의 합이 소수인지 판별\n",
    "            answer += 1\n",
    "\n",
    "    return answer"
   ]
  },
  {
   "cell_type": "code",
   "execution_count": null,
   "id": "b7ad805f",
   "metadata": {},
   "outputs": [],
   "source": [
    "# 53번문제: 1부터 입력받은 숫자 n 사이에 있는 소수의 개수를 반환하는 함수, solution을 만들어 보세요.\n",
    "\n",
    "소수는 1과 자기 자신으로만 나누어지는 수를 의미합니다.\n",
    "(1은 소수가 아닙니다.)\n",
    "\n",
    "제한 조건\n",
    "n은 2이상 1000000이하의 자연수입니다."
   ]
  },
  {
   "cell_type": "code",
   "execution_count": null,
   "id": "e5f0c892",
   "metadata": {},
   "outputs": [],
   "source": [
    "def solution(n):\n",
    "    num = set(range(2,n+1))\n",
    "    for i in range(2,n+1) :\n",
    "        if i in num :\n",
    "            num -= set(range(2*i, n+1, i))\n",
    "    return len(num)"
   ]
  },
  {
   "cell_type": "markdown",
   "id": "2c92230a",
   "metadata": {},
   "source": [
    "#### 에라토스테네스의 체"
   ]
  },
  {
   "cell_type": "code",
   "execution_count": null,
   "id": "615beb07",
   "metadata": {},
   "outputs": [],
   "source": [
    "# 54번문제: 과일 장수가 사과 상자를 포장하고 있습니다. 사과는 상태에 따라 1점부터 k점까지의 점수로 분류하며, \n",
    "k점이 최상품의 사과이고 1점이 최하품의 사과입니다. 사과 한 상자의 가격은 다음과 같이 결정됩니다.\n",
    "\n",
    "한 상자에 사과를 m개씩 담아 포장합니다.\n",
    "상자에 담긴 사과 중 가장 낮은 점수가 p (1 ≤ p ≤ k)점인 경우, 사과 한 상자의 가격은 p * m 입니다.\n",
    "과일 장수가 가능한 많은 사과를 팔았을 때, 얻을 수 있는 최대 이익을 계산하고자 합니다.\n",
    "(사과는 상자 단위로만 판매하며,남는 사과는 버립니다)\n",
    "\n",
    "예를 들어, k = 3, m = 4, 사과 7개의 점수가 [1, 2, 3, 1, 2, 3, 1]이라면, \n",
    "다음과 같이 [2, 3, 2, 3]으로 구성된 사과 상자 1개를 만들어 판매하여 최대 이익을 얻을 수 있습니다.\n",
    "\n",
    "(최저 사과 점수) x (한 상자에 담긴 사과 개수) x (상자의 개수) = 2 x 4 x 1 = 8\n",
    "사과의 최대 점수 k, 한 상자에 들어가는 사과의 수 m, 사과들의 점수 score가 주어졌을 때, \n",
    "과일 장수가 얻을 수 있는 최대 이익을 return하는 solution 함수를 완성해주세요.\n",
    "\n",
    "제한사항\n",
    "3 ≤ k ≤ 9\n",
    "3 ≤ m ≤ 10\n",
    "7 ≤ score의 길이 ≤ 1,000,000\n",
    "1 ≤ score[i] ≤ k\n",
    "이익이 발생하지 않는 경우에는 0을 return 해주세요."
   ]
  },
  {
   "cell_type": "code",
   "execution_count": null,
   "id": "84c3d555",
   "metadata": {},
   "outputs": [],
   "source": [
    "def solution(k, m, score):\n",
    "    answer = 0 \n",
    "    score = sorted(score, reverse = True)\n",
    "    \n",
    "    for i in range(0, len(score), m):\n",
    "        tmp = score[i:i+m]\n",
    "        \n",
    "        if len(tmp) == m:\n",
    "            answer += min(tmp) * m\n",
    "        \n",
    "        \n",
    "    return answer"
   ]
  },
  {
   "cell_type": "markdown",
   "id": "8b0655dd",
   "metadata": {},
   "source": [
    "####"
   ]
  },
  {
   "cell_type": "code",
   "execution_count": null,
   "id": "7c3096d8",
   "metadata": {},
   "outputs": [],
   "source": [
    "# 55번문제: 슈퍼 게임 개발자 오렐리는 큰 고민에 빠졌다. 그녀가 만든 프랜즈 오천성이 대성공을 거뒀지만, \n",
    "요즘 신규 사용자의 수가 급감한 것이다. 원인은 신규 사용자와 기존 사용자 사이에 스테이지 차이가 너무 큰 것이 문제였다.\n",
    "\n",
    "이 문제를 어떻게 할까 고민 한 그녀는 동적으로 게임 시간을 늘려서 난이도를 조절하기로 했다. \n",
    "역시 슈퍼 개발자라 대부분의 로직은 쉽게 구현했지만, 실패율을 구하는 부분에서 위기에 빠지고 말았다. \n",
    "오렐리를 위해 실패율을 구하는 코드를 완성하라.\n",
    "\n",
    "실패율은 다음과 같이 정의한다.\n",
    "스테이지에 도달했으나 아직 클리어하지 못한 플레이어의 수 / 스테이지에 도달한 플레이어 수\n",
    "전체 스테이지의 개수 N, 게임을 이용하는 사용자가 현재 멈춰있는 스테이지의 번호가 담긴 배열 stages가 매개변수로 주어질 때, \n",
    "실패율이 높은 스테이지부터 내림차순으로 스테이지의 번호가 담겨있는 배열을 return 하도록 solution 함수를 완성하라.\n",
    "\n",
    "제한사항\n",
    "스테이지의 개수 N은 1 이상 500 이하의 자연수이다.\n",
    "stages의 길이는 1 이상 200,000 이하이다.\n",
    "stages에는 1 이상 N + 1 이하의 자연수가 담겨있다.\n",
    "각 자연수는 사용자가 현재 도전 중인 스테이지의 번호를 나타낸다.\n",
    "단, N + 1 은 마지막 스테이지(N 번째 스테이지) 까지 클리어 한 사용자를 나타낸다.\n",
    "만약 실패율이 같은 스테이지가 있다면 작은 번호의 스테이지가 먼저 오도록 하면 된다.\n",
    "스테이지에 도달한 유저가 없는 경우 해당 스테이지의 실패율은 0 으로 정의한다."
   ]
  },
  {
   "cell_type": "code",
   "execution_count": null,
   "id": "984b063a",
   "metadata": {},
   "outputs": [],
   "source": [
    "def solution(N, stages):\n",
    "    answer = []\n",
    "    total_players = len(stages)  # 총 플레이어 수\n",
    "\n",
    "    for stage in range(1, N + 1):\n",
    "        # 해당 스테이지에 도전한 플레이어 수\n",
    "        players_on_stage = stages.count(stage)\n",
    "        \n",
    "        if total_players == 0:  # 도전한 플레이어가 없는 경우 실패율을 0으로 처리\n",
    "            failure_rate = 0\n",
    "        else:\n",
    "            failure_rate = players_on_stage / total_players\n",
    "        \n",
    "        answer.append((stage, failure_rate))  # 스테이지와 실패율을 튜플 형태로 저장\n",
    "        total_players -= players_on_stage  # 이전 스테이지를 클리어한 플레이어 수를 제외\n",
    "\n",
    "    answer.sort(key=lambda x: x[1], reverse=True)  # 실패율을 기준으로 내림차순 정렬\n",
    "    answer = [stage for stage, _ in answer]  # 정렬된 스테이지 번호만 추출\n",
    "\n",
    "    return answer"
   ]
  },
  {
   "cell_type": "markdown",
   "id": "f0a18526",
   "metadata": {},
   "source": [
    "#### answer.sort(key=lambda x: x[1], reverse=True)  # 실패율을 기준으로 내림차순 정렬\n",
    "#### answer = [stage for stage, _ in answer]  # 정렬된 스테이지 번호만 추출"
   ]
  },
  {
   "cell_type": "code",
   "execution_count": null,
   "id": "1c19fb50",
   "metadata": {},
   "outputs": [],
   "source": [
    "# 56번문제: 코니는 영어 단어가 적힌 카드 뭉치 두 개를 선물로 받았습니다. \n",
    "코니는 다음과 같은 규칙으로 카드에 적힌 단어들을 사용해 원하는 순서의 단어 배열을 만들 수 있는지 알고 싶습니다.\n",
    "\n",
    "원하는 카드 뭉치에서 카드를 순서대로 한 장씩 사용합니다.\n",
    "한 번 사용한 카드는 다시 사용할 수 없습니다.\n",
    "카드를 사용하지 않고 다음 카드로 넘어갈 수 없습니다.\n",
    "기존에 주어진 카드 뭉치의 단어 순서는 바꿀 수 없습니다.\n",
    "예를 들어 첫 번째 카드 뭉치에 순서대로 [\"i\", \"drink\", \"water\"], 두 번째 카드 뭉치에 순서대로 [\"want\", \"to\"]가 적혀있을 때 \n",
    "[\"i\", \"want\", \"to\", \"drink\", \"water\"] 순서의 단어 배열을 만들려고 한다면 첫 번째 카드 뭉치에서 \"i\"를 사용한 후 \n",
    "두 번째 카드 뭉치에서 \"want\"와 \"to\"를 사용하고 첫 번째 카드뭉치에 \"drink\"와 \"water\"를 차례대로 사용하면 \n",
    "원하는 순서의 단어 배열을 만들 수 있습니다.\n",
    "\n",
    "문자열로 이루어진 배열 cards1, cards2와 원하는 단어 배열 goal이 매개변수로 주어질 때, cards1과 cards2에 적힌 단어들로 \n",
    "goal를 만들 있다면 \"Yes\"를, 만들 수 없다면 \"No\"를 return하는 solution 함수를 완성해주세요.\n",
    "\n",
    "제한사항\n",
    "1 ≤ cards1의 길이, cards2의 길이 ≤ 10\n",
    "1 ≤ cards1[i]의 길이, cards2[i]의 길이 ≤ 10\n",
    "cards1과 cards2에는 서로 다른 단어만 존재합니다.\n",
    "2 ≤ goal의 길이 ≤ cards1의 길이 + cards2의 길이\n",
    "1 ≤ goal[i]의 길이 ≤ 10\n",
    "goal의 원소는 cards1과 cards2의 원소들로만 이루어져 있습니다.\n",
    "cards1, cards2, goal의 문자열들은 모두 알파벳 소문자로만 이루어져 있습니다."
   ]
  },
  {
   "cell_type": "code",
   "execution_count": null,
   "id": "ab9ed3e9",
   "metadata": {},
   "outputs": [],
   "source": [
    "def solution(cards1, cards2, goal):\n",
    "    def can_form_goal(cards1, cards2, goal, used1, used2, index):\n",
    "        # base case: goal의 끝까지 도달한 경우\n",
    "        if index == len(goal):\n",
    "            return True\n",
    "        \n",
    "        # 첫 번째 카드 뭉치에서 단어 사용 가능한 경우\n",
    "        if used1 < len(cards1) and cards1[used1] == goal[index]:\n",
    "            if can_form_goal(cards1, cards2, goal, used1 + 1, used2, index + 1):\n",
    "                return True\n",
    "        \n",
    "        # 두 번째 카드 뭉치에서 단어 사용 가능한 경우\n",
    "        if used2 < len(cards2) and cards2[used2] == goal[index]:\n",
    "            if can_form_goal(cards1, cards2, goal, used1, used2 + 1, index + 1):\n",
    "                return True\n",
    "        \n",
    "        return False\n",
    "\n",
    "    # 재귀 함수 호출\n",
    "    if can_form_goal(cards1, cards2, goal, 0, 0, 0):\n",
    "        return \"Yes\"\n",
    "    else:\n",
    "        return \"No\""
   ]
  },
  {
   "cell_type": "markdown",
   "id": "e8788a9d",
   "metadata": {},
   "source": [
    "####"
   ]
  }
 ],
 "metadata": {
  "kernelspec": {
   "display_name": "Python 3 (ipykernel)",
   "language": "python",
   "name": "python3"
  },
  "language_info": {
   "codemirror_mode": {
    "name": "ipython",
    "version": 3
   },
   "file_extension": ".py",
   "mimetype": "text/x-python",
   "name": "python",
   "nbconvert_exporter": "python",
   "pygments_lexer": "ipython3",
   "version": "3.9.13"
  }
 },
 "nbformat": 4,
 "nbformat_minor": 5
}
