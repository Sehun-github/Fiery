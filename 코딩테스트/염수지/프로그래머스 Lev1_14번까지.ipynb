{
 "cells": [
  {
   "cell_type": "code",
   "execution_count": null,
   "id": "d799eb98",
   "metadata": {},
   "outputs": [],
   "source": [
    "# 8번문제: 자연수 n을 뒤집어 각 자리 숫자를 원소로 가지는 배열 형태로 리턴해주세요.\n",
    "예를들어 n이 12345이면 [5,4,3,2,1]을 리턴합니다.\n",
    "\n",
    "제한 조건\n",
    "n은 10,000,000,000이하인 자연수입니다."
   ]
  },
  {
   "cell_type": "code",
   "execution_count": null,
   "id": "a0302b0f",
   "metadata": {},
   "outputs": [],
   "source": [
    "def solution(n):\n",
    "    answer = []\n",
    "    while n > 0:\n",
    "        left = n % 10  \n",
    "        answer.append(left)\n",
    "        n //= 10\n",
    "    return answer"
   ]
  },
  {
   "cell_type": "markdown",
   "id": "6c057da9",
   "metadata": {},
   "source": [
    "#### reverse()를 쓰기보단 10으로 나눈 나머지를 더하는게 답이었다. //= 몫"
   ]
  },
  {
   "cell_type": "code",
   "execution_count": null,
   "id": "bf99060b",
   "metadata": {},
   "outputs": [],
   "source": [
    "# 9번문제: 임의의 양의 정수 n에 대해, n이 어떤 양의 정수 x의 제곱인지 아닌지 판단하려 합니다.\n",
    "n이 양의 정수 x의 제곱이라면 x+1의 제곱을 리턴하고, n이 양의 정수 x의 제곱이 아니라면 -1을 리턴하는 함수를 완성하세요.\n",
    "\n",
    "제한 사항\n",
    "n은 1이상, 50000000000000 이하인 양의 정수입니다."
   ]
  },
  {
   "cell_type": "code",
   "execution_count": null,
   "id": "6ceff8a4",
   "metadata": {},
   "outputs": [],
   "source": [
    "import math\n",
    "\n",
    "def solution(n):\n",
    "    if math.isqrt(n)**2 == n:\n",
    "        return (math.isqrt(n) + 1)**2\n",
    "    else:\n",
    "        return -1"
   ]
  },
  {
   "cell_type": "markdown",
   "id": "57598799",
   "metadata": {},
   "source": [
    "#### math 모듈의 isqrt() 함수로 양의 정수의 제곱근 구하기"
   ]
  },
  {
   "cell_type": "code",
   "execution_count": null,
   "id": "7ed927d2",
   "metadata": {},
   "outputs": [],
   "source": [
    "# 10번문제: 문자열 s를 숫자로 변환한 결과를 반환하는 함수, solution을 완성하세요.\n",
    "\n",
    "제한 조건\n",
    "s의 길이는 1 이상 5이하입니다.\n",
    "s의 맨앞에는 부호(+, -)가 올 수 있습니다.\n",
    "s는 부호와 숫자로만 이루어져있습니다.\n",
    "s는 \"0\"으로 시작하지 않습니다."
   ]
  },
  {
   "cell_type": "code",
   "execution_count": null,
   "id": "a9e17c76",
   "metadata": {},
   "outputs": [],
   "source": [
    "def solution(s):\n",
    "    num = int(s)\n",
    "    return num"
   ]
  },
  {
   "cell_type": "code",
   "execution_count": null,
   "id": "127e4e96",
   "metadata": {},
   "outputs": [],
   "source": [
    "# 11번문제: 함수 solution은 정수 n을 매개변수로 입력받습니다. \n",
    "n의 각 자릿수를 큰것부터 작은 순으로 정렬한 새로운 정수를 리턴해주세요. \n",
    "예를들어 n이 118372면 873211을 리턴하면 됩니다.\n",
    "\n",
    "제한 조건\n",
    "n은 1이상 8000000000 이하인 자연수입니다."
   ]
  },
  {
   "cell_type": "code",
   "execution_count": null,
   "id": "2b43bf75",
   "metadata": {},
   "outputs": [],
   "source": [
    "def solution(n):\n",
    "    list = [] \n",
    "    for i in range(str(n)):\n",
    "        list.append(i)\n",
    "    sorted_list = sorted(list, reverse=True)\n",
    "    result = int(''.join(sorted_list))\n",
    "    return result"
   ]
  },
  {
   "cell_type": "markdown",
   "id": "55f468dc",
   "metadata": {},
   "source": [
    "#### join() 메서드를 사용하여 리스트를 하나의 문자열로 결합한 뒤, 정수로 변환하여 결과를 반환"
   ]
  },
  {
   "cell_type": "code",
   "execution_count": null,
   "id": "806a5828",
   "metadata": {},
   "outputs": [],
   "source": [
    "# 12번문제: 양의 정수 x가 하샤드 수이려면 x의 자릿수의 합으로 x가 나누어져야 합니다. \n",
    "예를 들어 18의 자릿수 합은 1+8=9이고, 18은 9로 나누어 떨어지므로 18은 하샤드 수입니다. \n",
    "자연수 x를 입력받아 x가 하샤드 수인지 아닌지 검사하는 함수, solution을 완성해주세요.\n",
    "\n",
    "제한 조건\n",
    "x는 1 이상, 10000 이하인 정수입니다."
   ]
  },
  {
   "cell_type": "code",
   "execution_count": null,
   "id": "69d0953b",
   "metadata": {},
   "outputs": [],
   "source": [
    "def solution(x):\n",
    "    x_sum = 0\n",
    "    for i in str(x):\n",
    "        x_sum += int(i)\n",
    "    if x % x_sum == 0:\n",
    "        return True\n",
    "    else:\n",
    "        return False"
   ]
  },
  {
   "cell_type": "markdown",
   "id": "e0e5fe9a",
   "metadata": {},
   "source": [
    "#### for i in str(x) 많이 써먹음"
   ]
  },
  {
   "cell_type": "code",
   "execution_count": null,
   "id": "43b5d3f4",
   "metadata": {},
   "outputs": [],
   "source": [
    "# 13번문제: 두 정수 a, b가 주어졌을 때 a와 b 사이에 속한 모든 정수의 합을 리턴하는 함수, solution을 완성하세요.\n",
    "예를 들어 a = 3, b = 5인 경우, 3 + 4 + 5 = 12이므로 12를 리턴합니다.\n",
    "\n",
    "제한 조건\n",
    "a와 b가 같은 경우는 둘 중 아무 수나 리턴하세요.\n",
    "a와 b는 -10,000,000 이상 10,000,000 이하인 정수입니다.\n",
    "a와 b의 대소관계는 정해져있지 않습니다."
   ]
  },
  {
   "cell_type": "code",
   "execution_count": null,
   "id": "650b092b",
   "metadata": {},
   "outputs": [],
   "source": [
    "def solution(a, b):\n",
    "    answer = 0\n",
    "    if b >= a:\n",
    "        for i in range(a, b+1):\n",
    "            answer += i\n",
    "    else:\n",
    "        for i in range(b, a+1):\n",
    "            answer += i\n",
    "    return answer"
   ]
  },
  {
   "cell_type": "code",
   "execution_count": null,
   "id": "e4e42fca",
   "metadata": {},
   "outputs": [],
   "source": [
    "# 14번문제: 1937년 Collatz란 사람에 의해 제기된 이 추측은, 주어진 수가 1이 될 때까지 다음 작업을 반복하면, \n",
    "모든 수를 1로 만들 수 있다는 추측입니다. 작업은 다음과 같습니다.\n",
    "\n",
    "1-1. 입력된 수가 짝수라면 2로 나눕니다. \n",
    "1-2. 입력된 수가 홀수라면 3을 곱하고 1을 더합니다. \n",
    "2. 결과로 나온 수에 같은 작업을 1이 될 때까지 반복합니다. \n",
    "예를 들어, 주어진 수가 6이라면 6 → 3 → 10 → 5 → 16 → 8 → 4 → 2 → 1 이 되어 총 8번 만에 1이 됩니다.\n",
    "위 작업을 몇 번이나 반복해야 하는지 반환하는 함수, solution을 완성해 주세요.\n",
    "단, 주어진 수가 1인 경우에는 0을, 작업을 500번 반복할 때까지 1이 되지 않는다면 –1을 반환해 주세요.\n",
    "\n",
    "제한 사항\n",
    "입력된 수, num은 1 이상 8,000,000 미만인 정수입니다."
   ]
  },
  {
   "cell_type": "code",
   "execution_count": null,
   "id": "1dfcee7d",
   "metadata": {},
   "outputs": [],
   "source": [
    "def solution(num):\n",
    "    answer = 0\n",
    "    while num != 1:\n",
    "        if num % 2 == 0:\n",
    "            num = num // 2\n",
    "        else:\n",
    "            num = num * 3 + 1\n",
    "        answer += 1\n",
    "        \n",
    "        if answer == 500:\n",
    "            return -1\n",
    "    return answer"
   ]
  },
  {
   "cell_type": "markdown",
   "id": "00251f7e",
   "metadata": {},
   "source": [
    "#### 조건 꼼꼼하게 반영하기"
   ]
  },
  {
   "cell_type": "code",
   "execution_count": null,
   "id": "f679f727",
   "metadata": {},
   "outputs": [],
   "source": []
  }
 ],
 "metadata": {
  "kernelspec": {
   "display_name": "Python 3 (ipykernel)",
   "language": "python",
   "name": "python3"
  },
  "language_info": {
   "codemirror_mode": {
    "name": "ipython",
    "version": 3
   },
   "file_extension": ".py",
   "mimetype": "text/x-python",
   "name": "python",
   "nbconvert_exporter": "python",
   "pygments_lexer": "ipython3",
   "version": "3.9.13"
  }
 },
 "nbformat": 4,
 "nbformat_minor": 5
}
