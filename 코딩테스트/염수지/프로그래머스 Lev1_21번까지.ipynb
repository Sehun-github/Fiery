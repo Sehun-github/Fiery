{
 "cells": [
  {
   "cell_type": "code",
   "execution_count": null,
   "id": "0174a3c8",
   "metadata": {},
   "outputs": [],
   "source": [
    "# 15번문제: String형 배열 seoul의 element중 \"Kim\"의 위치 x를 찾아, \n",
    "\"김서방은 x에 있다\"는 String을 반환하는 함수, solution을 완성하세요. \n",
    "seoul에 \"Kim\"은 오직 한 번만 나타나며 잘못된 값이 입력되는 경우는 없습니다.\n",
    "\n",
    "제한 사항\n",
    "seoul은 길이 1 이상, 1000 이하인 배열입니다.\n",
    "seoul의 원소는 길이 1 이상, 20 이하인 문자열입니다.\n",
    "\"Kim\"은 반드시 seoul 안에 포함되어 있습니다."
   ]
  },
  {
   "cell_type": "code",
   "execution_count": null,
   "id": "e517f085",
   "metadata": {},
   "outputs": [],
   "source": [
    "def solution(seoul):\n",
    "    x = seoul.index(\"Kim\")\n",
    "    return f\"김서방은 {x}에 있다\""
   ]
  },
  {
   "cell_type": "markdown",
   "id": "bb2e85fa",
   "metadata": {},
   "source": [
    "#### index() 함수로 리스트에 몇번째에 있는지 확인"
   ]
  },
  {
   "cell_type": "code",
   "execution_count": null,
   "id": "ff3c5008",
   "metadata": {},
   "outputs": [],
   "source": [
    "# 16번문제: array의 각 element 중 divisor로 나누어 떨어지는 값을 오름차순으로 정렬한 배열을 반환하는 함수, solution을 작성해주세요.\n",
    "divisor로 나누어 떨어지는 element가 하나도 없다면 배열에 -1을 담아 반환하세요.\n",
    "\n",
    "제한사항\n",
    "arr은 자연수를 담은 배열입니다.\n",
    "정수 i, j에 대해 i ≠ j 이면 arr[i] ≠ arr[j] 입니다.\n",
    "divisor는 자연수입니다.\n",
    "array는 길이 1 이상인 배열입니다."
   ]
  },
  {
   "cell_type": "code",
   "execution_count": null,
   "id": "b771ee0e",
   "metadata": {},
   "outputs": [],
   "source": [
    "def solution(arr, divisor):\n",
    "    answer = []\n",
    "    for i in arr:\n",
    "        if i % divisor == 0:\n",
    "            answer.append(i)\n",
    "    x = sorted(answer)\n",
    "    if len(answer) == 0:\n",
    "        x = [-1]\n",
    "    return x"
   ]
  },
  {
   "cell_type": "markdown",
   "id": "a536126a",
   "metadata": {},
   "source": [
    "#### 리스트가 비어있다면? if len(answer) == 0:"
   ]
  },
  {
   "cell_type": "code",
   "execution_count": null,
   "id": "a47c3c74",
   "metadata": {},
   "outputs": [],
   "source": [
    "# 17번문제: 프로그래머스 모바일은 개인정보 보호를 위해 고지서를 보낼 때 고객들의 전화번호의 일부를 가립니다.\n",
    "전화번호가 문자열 phone_number로 주어졌을 때, 전화번호의 뒷 4자리를 제외한 나머지 숫자를 \n",
    "전부 *으로 가린 문자열을 리턴하는 함수, solution을 완성해주세요.\n",
    "\n",
    "제한 조건\n",
    "phone_number는 길이 4 이상, 20이하인 문자열입니다."
   ]
  },
  {
   "cell_type": "code",
   "execution_count": 7,
   "id": "e19bd144",
   "metadata": {},
   "outputs": [],
   "source": [
    "def solution(phone_number):\n",
    "    answer = \"\"\n",
    "    for i in range(len(phone_number)):\n",
    "        if i < len(phone_number) - 4:\n",
    "            answer += \"*\"\n",
    "        else:\n",
    "            answer += phone_number[i]\n",
    "    return answer"
   ]
  },
  {
   "cell_type": "markdown",
   "id": "3305d3e0",
   "metadata": {},
   "source": [
    "#### 전체 길이에서 남길 숫자 4개를 뺀만큼 *을 추가하고 index로 뽑아서 문자열에 더하기"
   ]
  },
  {
   "cell_type": "code",
   "execution_count": null,
   "id": "6432b813",
   "metadata": {},
   "outputs": [],
   "source": [
    "# 18번문제: 어떤 정수들이 있습니다.\n",
    "이 정수들의 절댓값을 차례대로 담은 정수 배열 absolutes와 \n",
    "이 정수들의 부호를 차례대로 담은 불리언 배열 signs가 매개변수로 주어집니다. \n",
    "실제 정수들의 합을 구하여 return 하도록 solution 함수를 완성해주세요.\n",
    "\n",
    "제한사항\n",
    "absolutes의 길이는 1 이상 1,000 이하입니다.\n",
    "absolutes의 모든 수는 각각 1 이상 1,000 이하입니다.\n",
    "signs의 길이는 absolutes의 길이와 같습니다.\n",
    "signs[i] 가 참이면 absolutes[i] 의 실제 정수가 양수임을, 그렇지 않으면 음수임을 의미합니다."
   ]
  },
  {
   "cell_type": "code",
   "execution_count": null,
   "id": "35abcefc",
   "metadata": {},
   "outputs": [],
   "source": [
    "def solution(absolutes, signs):\n",
    "    answer = 0\n",
    "    for i in range(len(absolutes)):\n",
    "        if signs[i]:\n",
    "            answer += absolutes[i]\n",
    "        else:\n",
    "            answer -= absolutes[i]\n",
    "    return answer"
   ]
  },
  {
   "cell_type": "markdown",
   "id": "075f3aa3",
   "metadata": {},
   "source": [
    "#### 부호를 바꾼 후에 합하는게 아니라 바로바로 합하기"
   ]
  },
  {
   "cell_type": "code",
   "execution_count": null,
   "id": "a7129cb7",
   "metadata": {},
   "outputs": [],
   "source": [
    "# 19번문제: 0부터 9까지의 숫자 중 일부가 들어있는 정수 배열 numbers가 매개변수로 주어집니다. \n",
    "numbers에서 찾을 수 없는 0부터 9까지의 숫자를 모두 찾아 더한 수를 return 하도록 solution 함수를 완성해주세요."
   ]
  },
  {
   "cell_type": "code",
   "execution_count": null,
   "id": "a66b3c00",
   "metadata": {},
   "outputs": [],
   "source": [
    "def solution(numbers):\n",
    "    answer = 0\n",
    "    numbers = list(numbers)\n",
    "    for i in range(10):\n",
    "        if i in numbers:\n",
    "            answer += i\n",
    "    result = 45 - answer\n",
    "    return result"
   ]
  },
  {
   "cell_type": "markdown",
   "id": "eca2e1f1",
   "metadata": {},
   "source": [
    "#### 문자열을 정수형 리스트로 바꾸려면? list()함수 쓰거나 map(int, \"\")"
   ]
  },
  {
   "cell_type": "code",
   "execution_count": null,
   "id": "aa8ba282",
   "metadata": {},
   "outputs": [],
   "source": [
    "# 20번문제: 정수를 저장한 배열, arr 에서 가장 작은 수를 제거한 배열을 리턴하는 함수, solution을 완성해주세요. \n",
    "단, 리턴하려는 배열이 빈 배열인 경우엔 배열에 -1을 채워 리턴하세요. \n",
    "예를들어 arr이 [4,3,2,1]인 경우는 [4,3,2]를 리턴 하고, [10]면 [-1]을 리턴 합니다.\n",
    "\n",
    "제한 조건\n",
    "arr은 길이 1 이상인 배열입니다.\n",
    "인덱스 i, j에 대해 i ≠ j이면 arr[i] ≠ arr[j] 입니다."
   ]
  },
  {
   "cell_type": "code",
   "execution_count": null,
   "id": "27f4ea97",
   "metadata": {},
   "outputs": [],
   "source": [
    "def solution(arr):\n",
    "    if len(arr) == 1:\n",
    "        return [-1]\n",
    "    min_num = min(arr)\n",
    "    arr.remove(min_num)\n",
    "    return arr"
   ]
  },
  {
   "cell_type": "markdown",
   "id": "31557e48",
   "metadata": {},
   "source": [
    "#### 삭제할때 remove(), drop()는 리스트에서 오류남"
   ]
  },
  {
   "cell_type": "code",
   "execution_count": null,
   "id": "4883e042",
   "metadata": {},
   "outputs": [],
   "source": [
    "# 21번문제: 단어 s의 가운데 글자를 반환하는 함수, solution을 만들어 보세요. \n",
    "단어의 길이가 짝수라면 가운데 두글자를 반환하면 됩니다.\n",
    "\n",
    "재한사항\n",
    "s는 길이가 1 이상, 100이하인 스트링입니다."
   ]
  },
  {
   "cell_type": "code",
   "execution_count": null,
   "id": "eff2bfad",
   "metadata": {},
   "outputs": [],
   "source": [
    "def solution(s):\n",
    "    if len(s) % 2 != 0:\n",
    "        x = round(len(s) / 2)\n",
    "        answer = s[x]\n",
    "    else:\n",
    "        x = len(s) // 2\n",
    "        answer = s[x-1]+s[x]\n",
    "    return answer\n",
    "------------------------------------------>테스트 5오류....WHY?\n",
    "def solution(s):\n",
    "    if len(s) % 2 != 0:\n",
    "        return s[len(s) // 2]\n",
    "    else:\n",
    "        return s[len(s) // 2 - 1] + s[len(s) // 2]"
   ]
  },
  {
   "cell_type": "markdown",
   "id": "b0122cee",
   "metadata": {},
   "source": [
    "#### 문자열 더할때 +"
   ]
  }
 ],
 "metadata": {
  "kernelspec": {
   "display_name": "Python 3 (ipykernel)",
   "language": "python",
   "name": "python3"
  },
  "language_info": {
   "codemirror_mode": {
    "name": "ipython",
    "version": 3
   },
   "file_extension": ".py",
   "mimetype": "text/x-python",
   "name": "python",
   "nbconvert_exporter": "python",
   "pygments_lexer": "ipython3",
   "version": "3.9.13"
  }
 },
 "nbformat": 4,
 "nbformat_minor": 5
}
