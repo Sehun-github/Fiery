{
 "cells": [
  {
   "cell_type": "code",
   "execution_count": null,
   "id": "dd554b0a",
   "metadata": {},
   "outputs": [],
   "source": [
    "# 22번문제: 길이가 n이고, \"수박수박수박수....\"와 같은 패턴을 유지하는 문자열을 리턴하는 함수, solution을 완성하세요. \n",
    "예를들어 n이 4이면 \"수박수박\"을 리턴하고 3이라면 \"수박수\"를 리턴하면 됩니다.\n",
    "\n",
    "제한 조건\n",
    "n은 길이 10,000이하인 자연수입니다."
   ]
  },
  {
   "cell_type": "code",
   "execution_count": null,
   "id": "e34d49a7",
   "metadata": {},
   "outputs": [],
   "source": [
    "def solution(n):\n",
    "    answer = \"수박\" * (n // 2)\n",
    "    if n % 2 == 1:\n",
    "        answer += \"수\"\n",
    "    return answer"
   ]
  },
  {
   "cell_type": "code",
   "execution_count": null,
   "id": "3eb93119",
   "metadata": {},
   "outputs": [],
   "source": [
    "# 23번문제: 길이가 같은 두 1차원 정수 배열 a, b가 매개변수로 주어집니다. \n",
    "a와 b의 내적을 return 하도록 solution 함수를 완성해주세요.\n",
    "이때, a와 b의 내적은 a[0]*b[0] + a[1]*b[1] + ... + a[n-1]*b[n-1] 입니다. (n은 a, b의 길이)\n",
    "\n",
    "제한사항\n",
    "a, b의 길이는 1 이상 1,000 이하입니다.\n",
    "a, b의 모든 수는 -1,000 이상 1,000 이하입니다."
   ]
  },
  {
   "cell_type": "code",
   "execution_count": null,
   "id": "37587c82",
   "metadata": {},
   "outputs": [],
   "source": [
    "def solution(a, b):\n",
    "    answer = 0\n",
    "    for i in range(len(a)):\n",
    "        answer += a[i]*b[i]\n",
    "    return answer"
   ]
  },
  {
   "cell_type": "code",
   "execution_count": null,
   "id": "9fa34cc7",
   "metadata": {},
   "outputs": [],
   "source": [
    "# 24번문제: 문자열 s에 나타나는 문자를 큰것부터 작은 순으로 정렬해 새로운 문자열을 리턴하는 함수, solution을 완성해주세요.\n",
    "s는 영문 대소문자로만 구성되어 있으며, 대문자는 소문자보다 작은 것으로 간주합니다.\n",
    "\n",
    "제한 사항\n",
    "str은 길이 1 이상인 문자열입니다."
   ]
  },
  {
   "cell_type": "code",
   "execution_count": null,
   "id": "e85d3efa",
   "metadata": {},
   "outputs": [],
   "source": [
    "def solution(s):\n",
    "    str_list = list(s)  \n",
    "    str_list.sort(reverse = True)  \n",
    "    answer = ''.join(str_list)  \n",
    "    return answer"
   ]
  },
  {
   "cell_type": "markdown",
   "id": "a6e3ee6e",
   "metadata": {},
   "source": [
    "#### 리스트를 문자열로 합칠 때 answer = ''.join(list)"
   ]
  },
  {
   "cell_type": "code",
   "execution_count": null,
   "id": "fa445298",
   "metadata": {},
   "outputs": [],
   "source": [
    "# 25번문제: 두 정수 left와 right가 매개변수로 주어집니다. \n",
    "left부터 right까지의 모든 수들 중에서, 약수의 개수가 짝수인 수는 더하고, \n",
    "약수의 개수가 홀수인 수는 뺀 수를 return 하도록 solution 함수를 완성해주세요.\n",
    "\n",
    "제한사항\n",
    "1 ≤ left ≤ right ≤ 1,000"
   ]
  },
  {
   "cell_type": "code",
   "execution_count": null,
   "id": "c4e81c7a",
   "metadata": {},
   "outputs": [],
   "source": [
    "import math\n",
    "\n",
    "def solution(left, right):\n",
    "    answer = 0\n",
    "    for i in range(left, right+1):\n",
    "        if math.isqrt(i) ** 2 == i:\n",
    "            answer -= i\n",
    "        else:\n",
    "            answer += i\n",
    "    return answer"
   ]
  },
  {
   "cell_type": "markdown",
   "id": "ca2f4e0f",
   "metadata": {},
   "source": [
    "#### 제곱근이 정수이면 약수가 홀수개, import math 하고 math.isqrt()로 제곱근 표현"
   ]
  },
  {
   "cell_type": "code",
   "execution_count": null,
   "id": "ef30a5b8",
   "metadata": {},
   "outputs": [],
   "source": [
    "# 26번문제: 새로 생긴 놀이기구는 인기가 매우 많아 줄이 끊이질 않습니다. \n",
    "이 놀이기구의 원래 이용료는 price원 인데, 놀이기구를 N 번 째 이용한다면 원래 이용료의 N배를 받기로 하였습니다. \n",
    "즉, 처음 이용료가 100이었다면 2번째에는 200, 3번째에는 300으로 요금이 인상됩니다.\n",
    "놀이기구를 count번 타게 되면 현재 자신이 가지고 있는 금액에서 얼마가 모자라는지를 return 하도록 solution 함수를 완성하세요.\n",
    "단, 금액이 부족하지 않으면 0을 return 하세요.\n",
    "\n",
    "제한사항\n",
    "놀이기구의 이용료 price : 1 ≤ price ≤ 2,500, price는 자연수\n",
    "처음 가지고 있던 금액 money : 1 ≤ money ≤ 1,000,000,000, money는 자연수\n",
    "놀이기구의 이용 횟수 count : 1 ≤ count ≤ 2,500, count는 자연수"
   ]
  },
  {
   "cell_type": "code",
   "execution_count": null,
   "id": "455d9825",
   "metadata": {},
   "outputs": [],
   "source": [
    "def solution(price, money, count):\n",
    "    total_cost = price * (count * (count + 1) // 2)\n",
    "    return max(0, total_cost - money)"
   ]
  },
  {
   "cell_type": "markdown",
   "id": "85bc7a3a",
   "metadata": {},
   "source": [
    "#### 연속된 수의 합 a*(a+1)//2"
   ]
  },
  {
   "cell_type": "code",
   "execution_count": null,
   "id": "099db963",
   "metadata": {},
   "outputs": [],
   "source": [
    "# 27번문제: 문자열 s의 길이가 4 혹은 6이고, 숫자로만 구성돼있는지 확인해주는 함수, solution을 완성하세요. \n",
    "예를 들어 s가 \"a234\"이면 False를 리턴하고 \"1234\"라면 True를 리턴하면 됩니다.\n",
    "\n",
    "제한 사항\n",
    "s는 길이 1 이상, 길이 8 이하인 문자열입니다.\n",
    "s는 영문 알파벳 대소문자 또는 0부터 9까지 숫자로 이루어져 있습니다."
   ]
  },
  {
   "cell_type": "code",
   "execution_count": null,
   "id": "fc977025",
   "metadata": {},
   "outputs": [],
   "source": [
    "def solution(s):\n",
    "    if len(s) == 4 or len(s) == 6:\n",
    "        return s.isdigit()\n",
    "    return False"
   ]
  },
  {
   "cell_type": "markdown",
   "id": "cc71ee8e",
   "metadata": {},
   "source": [
    "#### 숫자로 구성되어있으면 True 값을 내는 s.isdigit()"
   ]
  },
  {
   "cell_type": "code",
   "execution_count": null,
   "id": "20e0588a",
   "metadata": {},
   "outputs": [],
   "source": [
    "# 28번문제: 행렬의 덧셈은 행과 열의 크기가 같은 두 행렬의 같은 행, 같은 열의 값을 서로 더한 결과가 됩니다. \n",
    "2개의 행렬 arr1과 arr2를 입력받아, 행렬 덧셈의 결과를 반환하는 함수, solution을 완성해주세요.\n",
    "\n",
    "제한 조건\n",
    "행렬 arr1, arr2의 행과 열의 길이는 500을 넘지 않습니다."
   ]
  },
  {
   "cell_type": "code",
   "execution_count": null,
   "id": "991e3632",
   "metadata": {},
   "outputs": [],
   "source": [
    "def solution(arr1, arr2):\n",
    "    arr_count = len(arr1)\n",
    "    arr_arrcount = len(arr1[0])\n",
    "    answer = [[0] * arr_arrcount for _ in range(arr_count)]\n",
    "    \n",
    "    for i in range(arr_count):\n",
    "        for j in range(arr_arrcount):\n",
    "            answer[i][j] = arr1[i][j] + arr2[i][j]\n",
    "    \n",
    "    return answer"
   ]
  },
  {
   "cell_type": "markdown",
   "id": "18734a78",
   "metadata": {},
   "source": [
    "#### _는 더미 변수로, 반복 횟수에는 영향을 주지 않고 반복만 수행하는 용도, for _ in range()"
   ]
  }
 ],
 "metadata": {
  "kernelspec": {
   "display_name": "Python 3 (ipykernel)",
   "language": "python",
   "name": "python3"
  },
  "language_info": {
   "codemirror_mode": {
    "name": "ipython",
    "version": 3
   },
   "file_extension": ".py",
   "mimetype": "text/x-python",
   "name": "python",
   "nbconvert_exporter": "python",
   "pygments_lexer": "ipython3",
   "version": "3.9.13"
  }
 },
 "nbformat": 4,
 "nbformat_minor": 5
}
