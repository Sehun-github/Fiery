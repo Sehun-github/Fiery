{
 "cells": [
  {
   "cell_type": "code",
   "execution_count": null,
   "id": "51e41847",
   "metadata": {},
   "outputs": [],
   "source": [
    "# 36번문제: 한국중학교에 다니는 학생들은 각자 정수 번호를 갖고 있습니다. \n",
    "이 학교 학생 3명의 정수 번호를 더했을 때 0이 되면 3명의 학생은 삼총사라고 합니다. \n",
    "예를 들어, 5명의 학생이 있고, 각각의 정수 번호가 순서대로 -2, 3, 0, 2, -5일 때, \n",
    "첫 번째, 세 번째, 네 번째 학생의 정수 번호를 더하면 0이므로 세 학생은 삼총사입니다. \n",
    "또한, 두 번째, 네 번째, 다섯 번째 학생의 정수 번호를 더해도 0이므로 세 학생도 삼총사입니다. \n",
    "따라서 이 경우 한국중학교에서는 두 가지 방법으로 삼총사를 만들 수 있습니다.\n",
    "\n",
    "한국중학교 학생들의 번호를 나타내는 정수 배열 number가 매개변수로 주어질 때, \n",
    "학생들 중 삼총사를 만들 수 있는 방법의 수를 return 하도록 solution 함수를 완성하세요.\n",
    "\n",
    "제한사항\n",
    "3 ≤ number의 길이 ≤ 13\n",
    "-1,000 ≤ number의 각 원소 ≤ 1,000\n",
    "서로 다른 학생의 정수 번호가 같을 수 있습니다."
   ]
  },
  {
   "cell_type": "code",
   "execution_count": null,
   "id": "2e68035e",
   "metadata": {},
   "outputs": [],
   "source": [
    "from itertools import combinations\n",
    "\n",
    "def solution(number):\n",
    "    count = 0\n",
    "    for comb in combinations(number, 3):\n",
    "        if sum(comb) == 0:\n",
    "            count += 1\n",
    "    return count\n",
    "-----------------------------------------------------\n",
    "def solution(number):\n",
    "    answer = 0\n",
    "    l = len(number)\n",
    "    for i in range(l-2):\n",
    "        for j in range(i+1, l-1):\n",
    "            for k in range(j+1, l):\n",
    "                if number[i]+number[j]+number[k] == 0:\n",
    "                    answer += 1           \n",
    "    return answer"
   ]
  },
  {
   "cell_type": "code",
   "execution_count": null,
   "id": "2813e856",
   "metadata": {},
   "outputs": [],
   "source": [
    "# 37번문제: 명함 지갑을 만드는 회사에서 지갑의 크기를 정하려고 합니다. \n",
    "다양한 모양과 크기의 명함들을 모두 수납할 수 있으면서, 작아서 들고 다니기 편한 지갑을 만들어야 합니다. \n",
    "이러한 요건을 만족하는 지갑을 만들기 위해 디자인팀은 모든 명함의 가로 길이와 세로 길이를 조사했습니다.\n",
    "아래 표는 4가지 명함의 가로 길이와 세로 길이를 나타냅니다.\n",
    "\n",
    "명함 번호\t가로 길이\t세로 길이\n",
    "1\t60\t50\n",
    "2\t30\t70\n",
    "3\t60\t30\n",
    "4\t80\t40\n",
    "가장 긴 가로 길이와 세로 길이가 각각 80, 70이기 때문에 80(가로) x 70(세로) 크기의 지갑을 만들면 모든 명함들을 수납할 수 있습니다. \n",
    "하지만 2번 명함을 가로로 눕혀 수납한다면 80(가로) x 50(세로) 크기의 지갑으로 모든 명함들을 수납할 수 있습니다. \n",
    "이때의 지갑 크기는 4000(=80 x 50)입니다.\n",
    "\n",
    "모든 명함의 가로 길이와 세로 길이를 나타내는 2차원 배열 sizes가 매개변수로 주어집니다. \n",
    "모든 명함을 수납할 수 있는 가장 작은 지갑을 만들 때, 지갑의 크기를 return 하도록 solution 함수를 완성해주세요.\n",
    "\n",
    "제한사항\n",
    "sizes의 길이는 1 이상 10,000 이하입니다.\n",
    "sizes의 원소는 [w, h] 형식입니다.\n",
    "w는 명함의 가로 길이를 나타냅니다.\n",
    "h는 명함의 세로 길이를 나타냅니다.\n",
    "w와 h는 1 이상 1,000 이하인 자연수입니다."
   ]
  },
  {
   "cell_type": "code",
   "execution_count": null,
   "id": "73d58e57",
   "metadata": {},
   "outputs": [],
   "source": [
    "def solution(sizes):\n",
    "    max_width = 0\n",
    "    max_height = 0\n",
    "    \n",
    "    for card in sizes:\n",
    "        width, height = card\n",
    "        \n",
    "        if width < height:\n",
    "            width, height = height, width\n",
    "        \n",
    "        max_width = max(max_width, width)\n",
    "        max_height = max(max_height, height)\n",
    "    \n",
    "    return max_width * max_height"
   ]
  },
  {
   "cell_type": "code",
   "execution_count": null,
   "id": "3fc94134",
   "metadata": {},
   "outputs": [],
   "source": [
    "# 38번문제: 네오는 평소 프로도가 비상금을 숨겨놓는 장소를 알려줄 비밀지도를 손에 넣었다. \n",
    "그런데 이 비밀지도는 숫자로 암호화되어 있어 위치를 확인하기 위해서는 암호를 해독해야 한다. \n",
    "다행히 지도 암호를 해독할 방법을 적어놓은 메모도 함께 발견했다.\n",
    "\n",
    "지도는 한 변의 길이가 n인 정사각형 배열 형태로, 각 칸은 \"공백\"(\" \") 또는 \"벽\"(\"#\") 두 종류로 이루어져 있다.\n",
    "전체 지도는 두 장의 지도를 겹쳐서 얻을 수 있다. 각각 \"지도 1\"과 \"지도 2\"라고 하자. \n",
    "지도 1 또는 지도 2 중 어느 하나라도 벽인 부분은 전체 지도에서도 벽이다. \n",
    "지도 1과 지도 2에서 모두 공백인 부분은 전체 지도에서도 공백이다.\n",
    "\"지도 1\"과 \"지도 2\"는 각각 정수 배열로 암호화되어 있다.\n",
    "암호화된 배열은 지도의 각 가로줄에서 벽 부분을 1, 공백 부분을 0으로 부호화했을 때 얻어지는 이진수에 해당하는 값의 배열이다.\n",
    "\n",
    "네오가 프로도의 비상금을 손에 넣을 수 있도록, 비밀지도의 암호를 해독하는 작업을 도와줄 프로그램을 작성하라.\n",
    "\n",
    "입력 형식\n",
    "입력으로 지도의 한 변 크기 n 과 2개의 정수 배열 arr1, arr2가 들어온다.\n",
    "1 ≦ n ≦ 16\n",
    "arr1, arr2는 길이 n인 정수 배열로 주어진다.\n",
    "정수 배열의 각 원소 x를 이진수로 변환했을 때의 길이는 n 이하이다. 즉, 0 ≦ x ≦ 2n - 1을 만족한다.\n",
    "\n",
    "출력 형식\n",
    "원래의 비밀지도를 해독하여 '#', 공백으로 구성된 문자열 배열로 출력하라."
   ]
  },
  {
   "cell_type": "code",
   "execution_count": null,
   "id": "e9748af7",
   "metadata": {},
   "outputs": [],
   "source": [
    "def solution(n, arr1, arr2):\n",
    "    answer = []\n",
    "\n",
    "    for i in range(n):\n",
    "        \n",
    "        row = bin(arr1[i] | arr2[i])[2:]\n",
    "       \n",
    "        row = row.zfill(n)\n",
    "        \n",
    "        row = row.replace('1', '#')\n",
    "        row = row.replace('0', ' ')\n",
    "        answer.append(row)\n",
    "\n",
    "    return answer"
   ]
  },
  {
   "cell_type": "markdown",
   "id": "96ef2412",
   "metadata": {},
   "source": [
    "#### arr1[i] = 9의 이진수 표현: 1001\n",
    "#### arr2[i] = 30의 이진수 표현: 11110\n",
    "#### OR 연산한 결과: 11111\n",
    "#### bin(arr1[i] | arr2[i]) = '0b11111'\n",
    "#### [2:]를 적용한 결과: '11111'\n",
    "\n",
    "bin() 함수는 정수를 이진수로 변환한 문자열을 반환\n",
    "row.zfill(n) 기존 숫자에 길이가 n이 되게 왼쪽에 0 추가\n",
    "row.rjust(n, '0') 기존 숫자에 길이가 n이 되게 오른쪽에 0 추가"
   ]
  },
  {
   "cell_type": "code",
   "execution_count": null,
   "id": "27c54c4a",
   "metadata": {},
   "outputs": [],
   "source": [
    "# 39번문제: 숫자로 이루어진 문자열 t와 p가 주어질 때, t에서 p와 길이가 같은 부분문자열 중에서, \n",
    "이 부분문자열이 나타내는 수가 p가 나타내는 수보다 작거나 같은 것이 나오는 횟수를 return하는 함수 solution을 완성하세요.\n",
    "\n",
    "예를 들어, t=\"3141592\"이고 p=\"271\" 인 경우, t의 길이가 3인 부분 문자열은 314, 141, 415, 159, 592입니다. \n",
    "이 문자열이 나타내는 수 중 271보다 작거나 같은 수는 141, 159 2개 입니다.\n",
    "\n",
    "제한사항\n",
    "1 ≤ p의 길이 ≤ 18\n",
    "p의 길이 ≤ t의 길이 ≤ 10,000\n",
    "t와 p는 숫자로만 이루어진 문자열이며, 0으로 시작하지 않습니다."
   ]
  },
  {
   "cell_type": "code",
   "execution_count": null,
   "id": "3d289424",
   "metadata": {},
   "outputs": [],
   "source": [
    "def solution(t, p):\n",
    "    count = 0\n",
    "\n",
    "    for i in range(len(t) - len(p) + 1):\n",
    "        substring = t[i:i+len(p)]\n",
    "        if int(substring) <= int(p):\n",
    "            count += 1\n",
    "\n",
    "    return count"
   ]
  },
  {
   "cell_type": "markdown",
   "id": "8ccd8b40",
   "metadata": {},
   "source": [
    "#### 범위 정할 때 대입해서 생각해보기"
   ]
  },
  {
   "cell_type": "code",
   "execution_count": null,
   "id": "bec629d1",
   "metadata": {},
   "outputs": [],
   "source": [
    "# 40번문제: 네오와 프로도가 숫자놀이를 하고 있습니다. \n",
    "네오가 프로도에게 숫자를 건넬 때 일부 자릿수를 영단어로 바꾼 카드를 건네주면 프로도는 원래 숫자를 찾는 게임입니다.\n",
    "다음은 숫자의 일부 자릿수를 영단어로 바꾸는 예시입니다.\n",
    "\n",
    "1478 → \"one4seveneight\"\n",
    "234567 → \"23four5six7\"\n",
    "10203 → \"1zerotwozero3\"\n",
    "이렇게 숫자의 일부 자릿수가 영단어로 바뀌어졌거나, 혹은 바뀌지 않고 그대로인 문자열 s가 매개변수로 주어집니다. \n",
    "s가 의미하는 원래 숫자를 return 하도록 solution 함수를 완성해주세요."
   ]
  },
  {
   "cell_type": "code",
   "execution_count": null,
   "id": "1d79634e",
   "metadata": {},
   "outputs": [],
   "source": [
    "def solution(s):\n",
    "    num_dict = {\n",
    "        \"zero\": \"0\",\n",
    "        \"one\": \"1\",\n",
    "        \"two\": \"2\",\n",
    "        \"three\": \"3\",\n",
    "        \"four\": \"4\",\n",
    "        \"five\": \"5\",\n",
    "        \"six\": \"6\",\n",
    "        \"seven\": \"7\",\n",
    "        \"eight\": \"8\",\n",
    "        \"nine\": \"9\"\n",
    "    }\n",
    "\n",
    "    answer = \"\"\n",
    "    current_num = \"\"\n",
    "\n",
    "    for i in s:\n",
    "        if i.isdigit():\n",
    "            answer += i\n",
    "        else:\n",
    "            current_num += i\n",
    "            if current_num in num_dict:\n",
    "                answer += num_dict[current_num]\n",
    "                current_num = \"\"\n",
    "\n",
    "    return int(answer)"
   ]
  },
  {
   "cell_type": "markdown",
   "id": "8170a0f4",
   "metadata": {},
   "source": [
    "#### 딕셔너리로 영어사전 만들기 느낌, isdigit()는 숫자로 구성되어있을때 True값을 가짐, current_num 값 초기화 잊지말기"
   ]
  },
  {
   "cell_type": "code",
   "execution_count": null,
   "id": "54765133",
   "metadata": {},
   "outputs": [],
   "source": [
    "# 41번문제: 문자열로 구성된 리스트 strings와, 정수 n이 주어졌을 때, \n",
    "각 문자열의 인덱스 n번째 글자를 기준으로 오름차순 정렬하려 합니다. \n",
    "예를 들어 strings가 [\"sun\", \"bed\", \"car\"]이고 n이 1이면 각 단어의 인덱스 1의 문자 \"u\", \"e\", \"a\"로 strings를 정렬합니다.\n",
    "\n",
    "제한 조건\n",
    "strings는 길이 1 이상, 50이하인 배열입니다.\n",
    "strings의 원소는 소문자 알파벳으로 이루어져 있습니다.\n",
    "strings의 원소는 길이 1 이상, 100이하인 문자열입니다.\n",
    "모든 strings의 원소의 길이는 n보다 큽니다.\n",
    "인덱스 1의 문자가 같은 문자열이 여럿 일 경우, 사전순으로 앞선 문자열이 앞쪽에 위치합니다."
   ]
  },
  {
   "cell_type": "code",
   "execution_count": null,
   "id": "a8bf5604",
   "metadata": {},
   "outputs": [],
   "source": [
    "def solution(strings, n):\n",
    "    return sorted(strings, key=lambda x: (x[n], x))"
   ]
  },
  {
   "cell_type": "markdown",
   "id": "bf85ada5",
   "metadata": {},
   "source": [
    "#### lambda\n",
    "x가 \"sun\"인 경우, x[n]은 \"u\"이므로 (x[n], x)는 (\"u\", \"sun\")\n",
    "x가 \"bed\"인 경우, x[n]은 \"e\"이므로 (x[n], x)는 (\"e\", \"bed\")\n",
    "x가 \"car\"인 경우, x[n]은 \"a\"이므로 (x[n], x)는 (\"a\", \"car\")\n",
    "(\"a\", \"car\") → (\"e\", \"bed\") → (\"u\", \"sun\"). 최종적으로 정렬된 리스트 [\"car\", \"bed\", \"sun\"]"
   ]
  },
  {
   "cell_type": "code",
   "execution_count": null,
   "id": "0311177c",
   "metadata": {},
   "outputs": [],
   "source": [
    "# 42번문제: 배열 array의 i번째 숫자부터 j번째 숫자까지 자르고 정렬했을 때, k번째에 있는 수를 구하려 합니다.\n",
    "\n",
    "예를 들어 array가 [1, 5, 2, 6, 3, 7, 4], i = 2, j = 5, k = 3이라면\n",
    "\n",
    "array의 2번째부터 5번째까지 자르면 [5, 2, 6, 3]입니다.\n",
    "1에서 나온 배열을 정렬하면 [2, 3, 5, 6]입니다.\n",
    "2에서 나온 배열의 3번째 숫자는 5입니다.\n",
    "배열 array, [i, j, k]를 원소로 가진 2차원 배열 commands가 매개변수로 주어질 때, \n",
    "commands의 모든 원소에 대해 앞서 설명한 연산을 적용했을 때 나온 결과를 배열에 담아 return 하도록 solution 함수를 작성해주세요.\n",
    "\n",
    "제한사항\n",
    "array의 길이는 1 이상 100 이하입니다.\n",
    "array의 각 원소는 1 이상 100 이하입니다.\n",
    "commands의 길이는 1 이상 50 이하입니다.\n",
    "commands의 각 원소는 길이가 3입니다."
   ]
  },
  {
   "cell_type": "code",
   "execution_count": null,
   "id": "d21954c2",
   "metadata": {},
   "outputs": [],
   "source": [
    "def solution(array, commands):\n",
    "    answer = []\n",
    "    for command in commands:\n",
    "        i, j, k = command\n",
    "        sub_array = sorted(array[i-1:j])\n",
    "        answer.append(sub_array[k-1])\n",
    "    return answer"
   ]
  },
  {
   "cell_type": "markdown",
   "id": "c5b42b06",
   "metadata": {},
   "source": [
    "#### for command in commands:\n",
    "####        i, j, k = command"
   ]
  }
 ],
 "metadata": {
  "kernelspec": {
   "display_name": "Python 3 (ipykernel)",
   "language": "python",
   "name": "python3"
  },
  "language_info": {
   "codemirror_mode": {
    "name": "ipython",
    "version": 3
   },
   "file_extension": ".py",
   "mimetype": "text/x-python",
   "name": "python",
   "nbconvert_exporter": "python",
   "pygments_lexer": "ipython3",
   "version": "3.9.13"
  }
 },
 "nbformat": 4,
 "nbformat_minor": 5
}
