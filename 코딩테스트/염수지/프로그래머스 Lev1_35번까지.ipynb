{
 "cells": [
  {
   "cell_type": "code",
   "execution_count": null,
   "id": "b1d55692",
   "metadata": {},
   "outputs": [],
   "source": [
    "# 29번문제: 이 문제에는 표준 입력으로 두 개의 정수 n과 m이 주어집니다.\n",
    "별(*) 문자를 이용해 가로의 길이가 n, 세로의 길이가 m인 직사각형 형태를 출력해보세요.\n",
    "\n",
    "제한 조건\n",
    "n과 m은 각각 1000 이하인 자연수입니다."
   ]
  },
  {
   "cell_type": "code",
   "execution_count": null,
   "id": "6537c50a",
   "metadata": {},
   "outputs": [],
   "source": [
    "a, b = map(int, input().strip().split(' '))\n",
    "for i in range(b):\n",
    "        print(\"*\"*a)"
   ]
  },
  {
   "cell_type": "code",
   "execution_count": null,
   "id": "cb5ba138",
   "metadata": {},
   "outputs": [],
   "source": [
    "# 30번문제: 두 수를 입력받아 두 수의 최대공약수와 최소공배수를 반환하는 함수, solution을 완성해 보세요. \n",
    "배열의 맨 앞에 최대공약수, 그다음 최소공배수를 넣어 반환하면 됩니다. \n",
    "예를 들어 두 수 3, 12의 최대공약수는 3, 최소공배수는 12이므로 solution(3, 12)는 [3, 12]를 반환해야 합니다.\n",
    "\n",
    "제한 사항\n",
    "두 수는 1이상 1000000이하의 자연수입니다."
   ]
  },
  {
   "cell_type": "code",
   "execution_count": null,
   "id": "8feb5e4c",
   "metadata": {},
   "outputs": [],
   "source": [
    "def solution(n, m):\n",
    "    answer = []\n",
    "    for i in range(1, n + 1):\n",
    "        if n % i == 0 and m%i == 0:\n",
    "            answer.append(i)\n",
    "    result1 = max(answer)\n",
    "\n",
    "    if m % n == 0:\n",
    "        result2 = m\n",
    "    else:\n",
    "        result2 = m * n\n",
    "\n",
    "    result = [result1, result2]\n",
    "    return result\n",
    "-----------------------------------------------------> 답은 나왔는데 틀림..WHY?\n",
    "def solution(n, m):\n",
    "    \n",
    "    def gcd(a, b):\n",
    "        while b != 0:\n",
    "            a, b = b, a % b\n",
    "        return a\n",
    "\n",
    "    def lcm(a, b):\n",
    "        return (a * b) // gcd(a, b)\n",
    "\n",
    "    gcd_value = gcd(n, m)\n",
    "    lcm_value = lcm(n, m)\n",
    "\n",
    "    answer = [gcd_value, lcm_value]\n",
    "    return answer"
   ]
  },
  {
   "cell_type": "markdown",
   "id": "1beba944",
   "metadata": {},
   "source": [
    "#### gcd 함수: a와 b를 인자로 받아서 반복문을 통해 나머지를 구하고 업데이트하는 과정을 나머지가 0이 될 때까지 반복한 후, a가 최대공약수\n",
    "#### lcm 함수: 두 수의 곱을 최대공약수로 나누어 주면 최소공배수"
   ]
  },
  {
   "cell_type": "code",
   "execution_count": null,
   "id": "260d1e09",
   "metadata": {},
   "outputs": [],
   "source": [
    "# 31번문제: 배열 arr가 주어집니다. 배열 arr의 각 원소는 숫자 0부터 9까지로 이루어져 있습니다. \n",
    "이때, 배열 arr에서 연속적으로 나타나는 숫자는 하나만 남기고 전부 제거하려고 합니다. \n",
    "단, 제거된 후 남은 수들을 반환할 때는 배열 arr의 원소들의 순서를 유지해야 합니다. 예를 들면,\n",
    "\n",
    "arr = [1, 1, 3, 3, 0, 1, 1] 이면 [1, 3, 0, 1] 을 return 합니다.\n",
    "arr = [4, 4, 4, 3, 3] 이면 [4, 3] 을 return 합니다.\n",
    "배열 arr에서 연속적으로 나타나는 숫자는 제거하고 남은 수들을 return 하는 solution 함수를 완성해 주세요.\n",
    "\n",
    "제한사항\n",
    "배열 arr의 크기 : 1,000,000 이하의 자연수\n",
    "배열 arr의 원소의 크기 : 0보다 크거나 같고 9보다 작거나 같은 정수"
   ]
  },
  {
   "cell_type": "code",
   "execution_count": null,
   "id": "5caf5f95",
   "metadata": {},
   "outputs": [],
   "source": [
    "def solution(arr):\n",
    "    answer = []\n",
    "    for i in arr:\n",
    "        if not answer or i != answer[-1]:\n",
    "            answer.append(i)\n",
    "    return answer"
   ]
  },
  {
   "cell_type": "markdown",
   "id": "5cdb4b1e",
   "metadata": {},
   "source": [
    "#### 리스트 비어있을 땐 not list, 맨뒤 숫자는 list[-1]"
   ]
  },
  {
   "cell_type": "code",
   "execution_count": null,
   "id": "7324d4ed",
   "metadata": {},
   "outputs": [],
   "source": [
    "# 32번문제: 자연수 n이 매개변수로 주어집니다. \n",
    "n을 3진법 상에서 앞뒤로 뒤집은 후, 이를 다시 10진법으로 표현한 수를 return 하도록 solution 함수를 완성해주세요.\n",
    "\n",
    "제한사항\n",
    "n은 1 이상 100,000,000 이하인 자연수입니다."
   ]
  },
  {
   "cell_type": "code",
   "execution_count": null,
   "id": "08427fa4",
   "metadata": {},
   "outputs": [],
   "source": [
    "def solution(n):\n",
    "    reversed_num = \"\"\n",
    "    \n",
    "    while n > 0:\n",
    "        n, a = divmod(n, 3)\n",
    "        reversed_num += str(a)\n",
    "    \n",
    "    answer = int(reversed_num, 3)\n",
    "    \n",
    "    return answer"
   ]
  },
  {
   "cell_type": "markdown",
   "id": "1f34955c",
   "metadata": {},
   "source": [
    "#### divmod(a, b)는 a를 b로 나눈 몫과 나머지"
   ]
  },
  {
   "cell_type": "code",
   "execution_count": null,
   "id": "c796457d",
   "metadata": {},
   "outputs": [],
   "source": [
    "# 33번문제: 문자열 s는 한 개 이상의 단어로 구성되어 있습니다. \n",
    "각 단어는 하나 이상의 공백문자로 구분되어 있습니다. \n",
    "각 단어의 짝수번째 알파벳은 대문자로, 홀수번째 알파벳은 소문자로 바꾼 문자열을 리턴하는 함수, solution을 완성하세요.\n",
    "\n",
    "제한 사항\n",
    "문자열 전체의 짝/홀수 인덱스가 아니라, 단어(공백을 기준)별로 짝/홀수 인덱스를 판단해야합니다.\n",
    "첫 번째 글자는 0번째 인덱스로 보아 짝수번째 알파벳으로 처리해야 합니다."
   ]
  },
  {
   "cell_type": "code",
   "execution_count": null,
   "id": "13abea93",
   "metadata": {},
   "outputs": [],
   "source": [
    "def solution(s):\n",
    "    length = len(s)\n",
    "    result = \"\"\n",
    "    for i in range(length):\n",
    "        if i % 2 != 0:\n",
    "            result += s[i].lower()\n",
    "        else:\n",
    "            result += s[i].upper()\n",
    "    return result\n",
    "---------------------------------------------> 답은 나오는데 틀림..WHY?\n",
    "def solution(s):\n",
    "    answer = ''\n",
    "    count = 0 \n",
    "    \n",
    "    for i in s:\n",
    "        if i != ' ':  \n",
    "            if count % 2 == 0:\n",
    "                answer += i.upper() \n",
    "            else:\n",
    "                answer +=i.lower() \n",
    "            count += 1\n",
    "        else:\n",
    "            answer += ' '\n",
    "            count = 0 \n",
    "    \n",
    "    return answer"
   ]
  },
  {
   "cell_type": "markdown",
   "id": "bfcea582",
   "metadata": {},
   "source": [
    "#### 문제 제대로 읽기~"
   ]
  },
  {
   "cell_type": "code",
   "execution_count": null,
   "id": "66e410f2",
   "metadata": {},
   "outputs": [],
   "source": [
    "# 34번문제: S사에서는 각 부서에 필요한 물품을 지원해 주기 위해 부서별로 물품을 구매하는데 필요한 금액을 조사했습니다. \n",
    "그러나, 전체 예산이 정해져 있기 때문에 모든 부서의 물품을 구매해 줄 수는 없습니다. \n",
    "그래서 최대한 많은 부서의 물품을 구매해 줄 수 있도록 하려고 합니다.\n",
    "\n",
    "물품을 구매해 줄 때는 각 부서가 신청한 금액만큼을 모두 지원해 줘야 합니다. \n",
    "예를 들어 1,000원을 신청한 부서에는 정확히 1,000원을 지원해야 하며, 1,000원보다 적은 금액을 지원해 줄 수는 없습니다.\n",
    "\n",
    "부서별로 신청한 금액이 들어있는 배열 d와 예산 budget이 매개변수로 주어질 때, \n",
    "최대 몇 개의 부서에 물품을 지원할 수 있는지 return 하도록 solution 함수를 완성해주세요.\n",
    "\n",
    "제한사항\n",
    "d는 부서별로 신청한 금액이 들어있는 배열이며, 길이(전체 부서의 개수)는 1 이상 100 이하입니다.\n",
    "d의 각 원소는 부서별로 신청한 금액을 나타내며, 부서별 신청 금액은 1 이상 100,000 이하의 자연수입니다.\n",
    "budget은 예산을 나타내며, 1 이상 10,000,000 이하의 자연수입니다."
   ]
  },
  {
   "cell_type": "code",
   "execution_count": null,
   "id": "da0cd9cf",
   "metadata": {},
   "outputs": [],
   "source": [
    "def solution(d, budget):\n",
    "    d.sort()\n",
    "    answer = 0  \n",
    "    total = 0\n",
    "    \n",
    "    for cost in d:\n",
    "        total += cost\n",
    "        if total <= budget:\n",
    "            answer += 1\n",
    "        else:\n",
    "            break\n",
    "    \n",
    "    return answer"
   ]
  },
  {
   "cell_type": "markdown",
   "id": "2cf23604",
   "metadata": {},
   "source": [
    "#### 오름차순으로 정렬하구 차례로 예산과 비교해나가기"
   ]
  },
  {
   "cell_type": "code",
   "execution_count": null,
   "id": "547ba5f8",
   "metadata": {},
   "outputs": [],
   "source": [
    "# 35번문제: 어떤 문장의 각 알파벳을 일정한 거리만큼 밀어서 다른 알파벳으로 바꾸는 암호화 방식을 시저 암호라고 합니다. \n",
    "예를 들어 \"AB\"는 1만큼 밀면 \"BC\"가 되고, 3만큼 밀면 \"DE\"가 됩니다. \"z\"는 1만큼 밀면 \"a\"가 됩니다. \n",
    "문자열 s와 거리 n을 입력받아 s를 n만큼 민 암호문을 만드는 함수, solution을 완성해 보세요.\n",
    "\n",
    "제한 조건\n",
    "공백은 아무리 밀어도 공백입니다.\n",
    "s는 알파벳 소문자, 대문자, 공백으로만 이루어져 있습니다.\n",
    "s의 길이는 8000이하입니다.\n",
    "n은 1 이상, 25이하인 자연수입니다."
   ]
  },
  {
   "cell_type": "code",
   "execution_count": null,
   "id": "4a2b2617",
   "metadata": {},
   "outputs": [],
   "source": [
    "def solution(s, n):\n",
    "    answer = ''\n",
    "    for i in s:\n",
    "        if i.isalpha():\n",
    "            if i.isupper():\n",
    "                new = chr((ord(i) - ord('A') + n) % 26 + ord('A'))\n",
    "            else:\n",
    "                new = chr((ord(i) - ord('a') + n) % 26 + ord('a'))\n",
    "        else:\n",
    "            new = i\n",
    "        answer += new\n",
    "    return answer"
   ]
  },
  {
   "cell_type": "markdown",
   "id": "e241222a",
   "metadata": {},
   "source": [
    "#### chr() 함수는  유니코드(ASCII) 값을 해당하는 문자로 변환, chr(65)은 정수 65에 해당하는 ASCII 코드값을 가지는 문자 'A'를 반환\n",
    "#### ord() 함수는 주어진 문자의 유니코드(ASCII) 값을 반환, ord('A')는 문자 'A'에 해당하는 ASCII 코드값인 65를 반환"
   ]
  }
 ],
 "metadata": {
  "kernelspec": {
   "display_name": "Python 3 (ipykernel)",
   "language": "python",
   "name": "python3"
  },
  "language_info": {
   "codemirror_mode": {
    "name": "ipython",
    "version": 3
   },
   "file_extension": ".py",
   "mimetype": "text/x-python",
   "name": "python",
   "nbconvert_exporter": "python",
   "pygments_lexer": "ipython3",
   "version": "3.9.13"
  }
 },
 "nbformat": 4,
 "nbformat_minor": 5
}
