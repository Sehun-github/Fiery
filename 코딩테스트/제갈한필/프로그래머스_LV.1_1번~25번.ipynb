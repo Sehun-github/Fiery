{
 "cells": [
  {
   "cell_type": "markdown",
   "id": "0abd5f4a",
   "metadata": {},
   "source": [
    "## 프로그래머스 파이썬 LV1 1번 ~ 25번"
   ]
  },
  {
   "cell_type": "markdown",
   "id": "666733a8",
   "metadata": {},
   "source": [
    "### 01. 짝수와 홀수 \n",
    "문제: 정수 num이 짝수일 경우 \"Even\"을 반환하고 홀수인 경우 \"Odd\"를 반환하는 함수, solution을 완성해주세요\n",
    "\n",
    "#### 제한조건\n",
    "- num은 int 범위의 정수\n",
    "- 0은 짝수"
   ]
  },
  {
   "cell_type": "code",
   "execution_count": 8,
   "id": "523c41a5",
   "metadata": {},
   "outputs": [
    {
     "data": {
      "text/plain": [
       "'Even'"
      ]
     },
     "execution_count": 8,
     "metadata": {},
     "output_type": "execute_result"
    }
   ],
   "source": [
    "def solution(num):\n",
    "    return \"Odd\" if num % 2 else \"Even\"\n",
    "solution(2)"
   ]
  },
  {
   "cell_type": "markdown",
   "id": "871b59bd",
   "metadata": {},
   "source": [
    "### 02. 평균구하기\n",
    "문제: 정수를 담고 있는 배열 arr의 평균값을 return하는 함수, solution을 완성해보세요.\n",
    "\n",
    "#### 제한사항\n",
    "- arr은 길이 1 이상, 100 이하인 배열입니다.\n",
    "- arr의 원소는 -10,000 이상 10,000 이하인 정수입니다."
   ]
  },
  {
   "cell_type": "code",
   "execution_count": 9,
   "id": "2631461a",
   "metadata": {},
   "outputs": [],
   "source": [
    "def solution(arr):\n",
    "    return sum(arr)/ len(arr)"
   ]
  },
  {
   "cell_type": "markdown",
   "id": "0d718fd7",
   "metadata": {},
   "source": [
    "### 03. 자릿수 더하기\n",
    "문제: 자연수 N이 주어지면, N의 각 자릿수의 합을 구해서 return 하는 solution 함수를 만들어 주세요.  \n",
    "예를들어 N = 123이면 1 + 2 + 3 = 6을 return 하면 됩니다.\n",
    "\n",
    "#### 제한사항\n",
    "- N의 범위 : 100,000,000 이하의 자연수"
   ]
  },
  {
   "cell_type": "code",
   "execution_count": 10,
   "id": "fb5c82c3",
   "metadata": {},
   "outputs": [],
   "source": [
    "def solution(n):\n",
    "    answer = 0\n",
    "    str_n = str(n)\n",
    "    for i in range(len(str_n)):\n",
    "        answer += int(str_n[i])\n",
    "    return answer"
   ]
  },
  {
   "cell_type": "markdown",
   "id": "f9180af2",
   "metadata": {},
   "source": [
    "### 04. 약수의 합\n",
    "문제: 정수 n을 입력받아 n의 약수를 모두 더한 값을 리턴하는 함수, solution을 완성해주세요.\n",
    "\n",
    "#### 제한 사항\n",
    "- n은 0 이상 3000이하인 정수입니다."
   ]
  },
  {
   "cell_type": "code",
   "execution_count": 11,
   "id": "047fa54a",
   "metadata": {},
   "outputs": [],
   "source": [
    "def solution(n):\n",
    "    answer = 0\n",
    "    \n",
    "    for i in range(1, n+1):\n",
    "        if n % i == 0:\n",
    "            answer += i\n",
    "    \n",
    "    return answer"
   ]
  },
  {
   "cell_type": "code",
   "execution_count": null,
   "id": "15f4cde1",
   "metadata": {},
   "outputs": [],
   "source": []
  },
  {
   "cell_type": "markdown",
   "id": "fcc41fba",
   "metadata": {},
   "source": [
    "### 05. 나머지가 1이 되는 수 찾기\n",
    "\n",
    "문제:  \n",
    "자연수 n이 매개변수로 주어집니다.  \n",
    "n을 x로 나눈 나머지가 1이 되도록 하는 가장 작은 자연수 x를 return 하도록 solution 함수를 완성해주세요. 답이 항상 존재함은 증명될 수 있습니다.\n",
    "\n",
    "#### 제한사항\n",
    "3 ≤ n ≤ 1,000,000"
   ]
  },
  {
   "cell_type": "code",
   "execution_count": 13,
   "id": "84a8eb12",
   "metadata": {},
   "outputs": [],
   "source": [
    "def solution(n):\n",
    "    for i in range(2, n):\n",
    "        if n%i == 1:\n",
    "            return i"
   ]
  },
  {
   "cell_type": "markdown",
   "id": "33c6fc54",
   "metadata": {},
   "source": [
    "### 06. x만큼 간격이 있는 n개의 숫자\n",
    "\n",
    "문제: 함수 solution은 정수 x와 자연수 n을 입력 받아, x부터 시작해 x씩 증가하는 숫자를 n개 지니는 리스트를 리턴해야 합니다.  \n",
    "다음 제한 조건을 보고, 조건을 만족하는 함수, solution을 완성해주세요.\n",
    "\n",
    "#### 제한 조건\n",
    "- x는 -10000000 이상, 10000000 이하인 정수입니다.\n",
    "- n은 1000 이하인 자연수입니다."
   ]
  },
  {
   "cell_type": "code",
   "execution_count": 12,
   "id": "d896704a",
   "metadata": {},
   "outputs": [],
   "source": [
    "def solution(x, n):\n",
    "    answer = []\n",
    "    \n",
    "    for i in range(n):\n",
    "        answer.append(x*(i+1))\n",
    "    \n",
    "    return answer"
   ]
  },
  {
   "cell_type": "markdown",
   "id": "b2089ee8",
   "metadata": {},
   "source": [
    "### 07. 문자열 내 p와 y의 개수\n",
    "문제 설명:\n",
    "대문자와 소문자가 섞여있는 문자열 s가 주어집니다. s에 'p'의 개수와 'y'의 개수를 비교해 같으면 True, 다르면 False를 return 하는 solution를 완성하세요. 'p', 'y' 모두 하나도 없는 경우는 항상 True를 리턴합니다.  \n",
    "단, 개수를 비교할 때 대문자와 소문자는 구별하지 않습니다.\n",
    "\n",
    "예를 들어 s가 \"pPoooyY\"면 true를 return하고 \"Pyy\"라면 false를 return합니다.\n",
    "\n",
    "#### 제한사항\n",
    "- 문자열 s의 길이 : 50 이하의 자연수\n",
    "- 문자열 s는 알파벳으로만 이루어져 있습니다."
   ]
  },
  {
   "cell_type": "code",
   "execution_count": 25,
   "id": "7eb2f70a",
   "metadata": {},
   "outputs": [
    {
     "data": {
      "text/plain": [
       "True"
      ]
     },
     "execution_count": 25,
     "metadata": {},
     "output_type": "execute_result"
    }
   ],
   "source": [
    "def solution(s):\n",
    "    answer = False\n",
    "    \n",
    "    if s.count('p') + s.count('P') == s.count('y') + s.count('Y'):\n",
    "        answer = True\n",
    "    \n",
    "    return answer\n",
    "solution('yyoooopp')"
   ]
  },
  {
   "cell_type": "markdown",
   "id": "6eb9ef81",
   "metadata": {},
   "source": [
    "### 08. 자연수 뒤집어 배열로 만들기\n",
    "문제 설명: 자연수 n을 뒤집어 각 자리 숫자를 원소로 가지는 배열 형태로 리턴해주세요. 예를들어 n이 12345이면 [5,4,3,2,1]을 리턴합니다.\n",
    "\n",
    "### 제한 조건\n",
    "- n은 10,000,000,000이하인 자연수입니다."
   ]
  },
  {
   "cell_type": "code",
   "execution_count": null,
   "id": "3f431e35",
   "metadata": {},
   "outputs": [],
   "source": [
    "def solution(n):\n",
    "    n = str(n)[::-1]\n",
    "    answer = list(map(int, n))\n",
    "    return answer"
   ]
  },
  {
   "cell_type": "markdown",
   "id": "3ea421f4",
   "metadata": {},
   "source": [
    "### 09. 정수 제곱근 판별\n",
    "문제 설명: 임의의 양의 정수 n에 대해, n이 어떤 양의 정수 x의 제곱인지 아닌지 판단하려 합니다.\n",
    "n이 양의 정수 x의 제곱이라면 x+1의 제곱을 리턴하고, n이 양의 정수 x의 제곱이 아니라면 -1을 리턴하는 함수를 완성하세요.\n",
    "\n",
    "### 제한 사항\n",
    "- n은 1이상, 50000000000000 이하인 양의 정수입니다."
   ]
  },
  {
   "cell_type": "code",
   "execution_count": null,
   "id": "83ce6521",
   "metadata": {},
   "outputs": [],
   "source": [
    "def solution(n):\n",
    "    return (n**0.5+1)**2 if (n**0.5)%1 ==0 else -1"
   ]
  },
  {
   "cell_type": "markdown",
   "id": "85467802",
   "metadata": {},
   "source": [
    "### 10. 문자열을 정수로 바꾸기\n",
    "문제 설명: 문자열 s를 숫자로 변환한 결과를 반환하는 함수, solution을 완성하세요.\n",
    "\n",
    "### 제한 조건\n",
    "- s의 길이는 1 이상 5이하입니다.\n",
    "- s의 맨앞에는 부호(+, -)가 올 수 있습니다.\n",
    "- s는 부호와 숫자로만 이루어져있습니다.\n",
    "- s는 \"0\"으로 시작하지 않습니다."
   ]
  },
  {
   "cell_type": "code",
   "execution_count": 32,
   "id": "4bd6438a",
   "metadata": {},
   "outputs": [
    {
     "data": {
      "text/plain": [
       "-232"
      ]
     },
     "execution_count": 32,
     "metadata": {},
     "output_type": "execute_result"
    }
   ],
   "source": [
    "def solution(s):\n",
    "    if s[0] == '+':\n",
    "        answer = int(s[1:])\n",
    "    elif s[0] == '-':\n",
    "        answer = -int(s[1:])\n",
    "    else:\n",
    "        answer = int(s)\n",
    "    return answer\n",
    "\n",
    "solution('-232')"
   ]
  },
  {
   "cell_type": "markdown",
   "id": "b57f48c5",
   "metadata": {},
   "source": [
    "### 11.정수 내림차순으로 배치하기\n",
    "문제 설명:  \n",
    "함수 solution은 정수 n을 매개변수로 입력받습니다. n의 각 자릿수를 큰것부터 작은 순으로 정렬한 새로운 정수를 리턴해주세요. 예를들어 n이 118372면 873211을 리턴하면 됩니다.\n",
    "\n",
    "##### 제한 조건\n",
    "- n은 1이상 8000000000 이하인 자연수입니다."
   ]
  },
  {
   "cell_type": "code",
   "execution_count": null,
   "id": "628c6f73",
   "metadata": {},
   "outputs": [],
   "source": [
    "def solution(n):\n",
    "    ls = list(str(n))\n",
    "    ls.sort(reverse = True) \n",
    "    return int(\"\".join(ls))"
   ]
  },
  {
   "cell_type": "markdown",
   "id": "ebb09965",
   "metadata": {},
   "source": [
    "### 12. 하샤드 수\n",
    "문제 설명:  \n",
    "양의 정수 x가 하샤드 수이려면 x의 자릿수의 합으로 x가 나누어져야 합니다. 예를 들어 18의 자릿수 합은 1+8=9이고, 18은 9로 나누어 떨어지므로 18은 하샤드 수입니다. 자연수 x를 입력받아 x가 하샤드 수인지 아닌지 검사하는 함수, solution을 완성해주세요.\n",
    "\n",
    "### 제한 조건\n",
    "- x는 1 이상, 10000 이하인 정수입니다."
   ]
  },
  {
   "cell_type": "code",
   "execution_count": null,
   "id": "fa021a30",
   "metadata": {},
   "outputs": [],
   "source": [
    "def solution(x):\n",
    "    X = list(map(int, str(x)))\n",
    "    Sum = sum(X)\n",
    "    \n",
    "    if x % Sum == 0 :\n",
    "        return True\n",
    "    else :\n",
    "        return False"
   ]
  },
  {
   "cell_type": "markdown",
   "id": "939f6db5",
   "metadata": {},
   "source": [
    "### 13. 두 정수 사이의 합\n",
    "문제 설명:  \n",
    "두 정수 a, b가 주어졌을 때 a와 b 사이에 속한 모든 정수의 합을 리턴하는 함수, solution을 완성하세요.\n",
    "예를 들어 a = 3, b = 5인 경우, 3 + 4 + 5 = 12이므로 12를 리턴합니다.\n",
    "\n",
    "#### 제한 조건\n",
    "- a와 b가 같은 경우는 둘 중 아무 수나 리턴하세요.\n",
    "- a와 b는 -10,000,000 이상 10,000,000 이하인 정수입니다.\n",
    "- a와 b의 대소관계는 정해져있지 않습니다."
   ]
  },
  {
   "cell_type": "code",
   "execution_count": 1,
   "id": "40e28e7a",
   "metadata": {},
   "outputs": [],
   "source": [
    "def solution(a, b):\n",
    "    if a < b:\n",
    "        answer = sum(range(a,b+1))\n",
    "    else:\n",
    "        answer = sum(range(b,a+1))\n",
    "    return answer"
   ]
  },
  {
   "cell_type": "markdown",
   "id": "141cdbc9",
   "metadata": {},
   "source": [
    "### 14. 콜라츠 추측\n",
    "문제 설명:  \n",
    "1937년 Collatz란 사람에 의해 제기된 이 추측은, 주어진 수가 1이 될 때까지 다음 작업을 반복하면, 모든 수를 1로 만들 수 있다는 추측입니다. 작업은 다음과 같습니다.\n",
    "\n",
    "1-1. 입력된 수가 짝수라면 2로 나눕니다.   \n",
    "1-2. 입력된 수가 홀수라면 3을 곱하고 1을 더합니다.   \n",
    "2. 결과로 나온 수에 같은 작업을 1이 될 때까지 반복합니다.   \n",
    "\n",
    "예를 들어, 주어진 수가 6이라면 6 → 3 → 10 → 5 → 16 → 8 → 4 → 2 → 1 이 되어 총 8번 만에 1이 됩니다. 위 작업을 몇 번이나 반복해야 하는지 반환하는 함수, solution을 완성해 주세요. 단, 주어진 수가 1인 경우에는 0을, 작업을 500번 반복할 때까지 1이 되지 않는다면 –1을 반환해 주세요.\n",
    "\n",
    "#### 제한 사항\n",
    "- 입력된 수, num은 1 이상 8,000,000 미만인 정수입니다."
   ]
  },
  {
   "cell_type": "code",
   "execution_count": null,
   "id": "bcea02e9",
   "metadata": {},
   "outputs": [],
   "source": [
    "def solution(num):\n",
    "    cnt = 0\n",
    "    \n",
    "    while True:\n",
    "        if num == 1:\n",
    "            break\n",
    "        if cnt == 500:\n",
    "            break\n",
    "        if num %2 == 0:\n",
    "            num //= 2\n",
    "            cnt += 1\n",
    "        else:\n",
    "            num = num * 3 + 1\n",
    "            cnt += 1\n",
    "            \n",
    "    return cnt if cnt != 500 else -1"
   ]
  },
  {
   "cell_type": "markdown",
   "id": "2505050e",
   "metadata": {},
   "source": [
    "### 15. 서울에서 김서방 찾기\n",
    "문제 설명:  \n",
    "String형 배열 seoul의 element중 \"Kim\"의 위치 x를 찾아, \"김서방은 x에 있다\"는 String을 반환하는 함수, solution을 완성하세요. seoul에 \"Kim\"은 오직 한 번만 나타나며 잘못된 값이 입력되는 경우는 없습니다.\n",
    "\n",
    "#### 제한 사항\n",
    "- seoul은 길이 1 이상, 1000 이하인 배열입니다.\n",
    "- seoul의 원소는 길이 1 이상, 20 이하인 문자열입니다.\n",
    "- \"Kim\"은 반드시 seoul 안에 포함되어 있습니다."
   ]
  },
  {
   "cell_type": "code",
   "execution_count": null,
   "id": "04c9d5d8",
   "metadata": {},
   "outputs": [],
   "source": [
    "def solution(seoul):\n",
    "    answer = ''\n",
    "    index = seoul.index('Kim')\n",
    "    answer = \"김서방은 {}에 있다\".format(index)\n",
    "    return answer"
   ]
  },
  {
   "cell_type": "markdown",
   "id": "877bca24",
   "metadata": {},
   "source": [
    "### 16. 나누어 떨어지는 숫자 배열\n",
    "문제 설명:  \n",
    "array의 각 element 중 divisor로 나누어 떨어지는 값을 오름차순으로 정렬한 배열을 반환하는 함수, solution을 작성해주세요.  \n",
    "divisor로 나누어 떨어지는 element가 하나도 없다면 배열에 -1을 담아 반환하세요.\n",
    "\n",
    "### 제한사항\n",
    "- arr은 자연수를 담은 배열입니다.\n",
    "- 정수 i, j에 대해 i ≠ j 이면 arr[i] ≠ arr[j] 입니다.\n",
    "- divisor는 자연수입니다.\n",
    "- array는 길이 1 이상인 배열입니다."
   ]
  },
  {
   "cell_type": "code",
   "execution_count": null,
   "id": "4d64e5c0",
   "metadata": {},
   "outputs": [],
   "source": [
    "def solution(arr, divisor):\n",
    "    answer = sorted([i for i in arr if i%divisor == 0])\n",
    "    \n",
    "    if len(answer) == 0:\n",
    "        answer = [-1]\n",
    "        \n",
    "    return answer"
   ]
  },
  {
   "cell_type": "markdown",
   "id": "8d15dd5f",
   "metadata": {},
   "source": [
    "### 17. 핸드폰 번호 가리기\n",
    "문제 설명:   \n",
    "프로그래머스 모바일은 개인정보 보호를 위해 고지서를 보낼 때 고객들의 전화번호의 일부를 가립니다.  \n",
    "전화번호가 문자열 phone_number로 주어졌을 때, 전화번호의 뒷 4자리를 제외한 나머지 숫자를 전부 *으로 가린 문자열을 리턴하는 함수, solution을 완성해주세요.\n",
    "\n",
    "#### 제한 조건\n",
    "- phone_number는 길이 4 이상, 20이하인 문자열입니다."
   ]
  },
  {
   "cell_type": "code",
   "execution_count": 6,
   "id": "fa3c0114",
   "metadata": {},
   "outputs": [],
   "source": [
    "def solution(phone_number):\n",
    "    answer = '*' * len(phone_number[:-4]) + phone_number[-4:]\n",
    "    return answer"
   ]
  },
  {
   "cell_type": "markdown",
   "id": "0b5da7c3",
   "metadata": {},
   "source": [
    "### 18. 음양 더하기\n",
    "문제 설명:  \n",
    "어떤 정수들이 있습니다. 이 정수들의 절댓값을 차례대로 담은 정수 배열 absolutes와 이 정수들의 부호를 차례대로 담은 불리언 배열 signs가 매개변수로 주어집니다. 실제 정수들의 합을 구하여 return 하도록 solution 함수를 완성해주세요.\n",
    "\n",
    "#### 제한사항\n",
    "- absolutes의 길이는 1 이상 1,000 이하입니다.\n",
    "- absolutes의 모든 수는 각각 1 이상 1,000 이하입니다.\n",
    "- signs의 길이는 absolutes의 길이와 같습니다.\n",
    "- signs[i] 가 참이면 absolutes[i] 의 실제 정수가 양수임을, 그렇지 않으면 음수임을 의미합니다.\n"
   ]
  },
  {
   "cell_type": "code",
   "execution_count": null,
   "id": "83a578c7",
   "metadata": {},
   "outputs": [],
   "source": [
    "def solution(absolutes, signs):\n",
    "    answer = 0\n",
    "    for i in range(len(absolutes)):\n",
    "        if signs[i]:\n",
    "            answer += absolutes[i]\n",
    "        else:\n",
    "            answer -= absolutes[i]\n",
    "    return answer"
   ]
  },
  {
   "cell_type": "markdown",
   "id": "1952bb9b",
   "metadata": {},
   "source": [
    "### 19. 없는 숫자 더하기\n",
    "문제 설명:  \n",
    "0부터 9까지의 숫자 중 일부가 들어있는 정수 배열 numbers가 매개변수로 주어집니다. numbers에서 찾을 수 없는 0부터 9까지의 숫자를 모두 찾아 더한 수를 return 하도록 solution 함수를 완성해주세요.\n",
    "\n",
    "#### 제한사항\n",
    "- 1 ≤ numbers의 길이 ≤ 9\n",
    "- 0 ≤ numbers의 모든 원소 ≤ 9\n",
    "- numbers의 모든 원소는 서로 다릅니다."
   ]
  },
  {
   "cell_type": "code",
   "execution_count": null,
   "id": "a7981d3b",
   "metadata": {},
   "outputs": [],
   "source": [
    "def solution(numbers):\n",
    "    otoz = list(map(int, range(0, 10)))\n",
    "    for i in numbers:\n",
    "        otoz.remove(i)\n",
    "    answer = sum(otoz)\n",
    "    return answer"
   ]
  },
  {
   "cell_type": "markdown",
   "id": "51becfc0",
   "metadata": {},
   "source": [
    "### 20. 제일 작은 수 제거하기\n",
    "문제 설명:  \n",
    "정수를 저장한 배열, arr 에서 가장 작은 수를 제거한 배열을 리턴하는 함수, solution을 완성해주세요. 단, 리턴하려는 배열이 빈 배열인 경우엔 배열에 -1을 채워 리턴하세요. 예를들어 arr이 [4,3,2,1]인 경우는 [4,3,2]를 리턴 하고, [10]면 [-1]을 리턴 합니다.\n",
    "\n",
    "#### 제한 조건\n",
    "- arr은 길이 1 이상인 배열입니다.\n",
    "- 인덱스 i, j에 대해 i ≠ j이면 arr[i] ≠ arr[j] 입니다."
   ]
  },
  {
   "cell_type": "code",
   "execution_count": null,
   "id": "04a90c2e",
   "metadata": {},
   "outputs": [],
   "source": [
    "def solution(arr):\n",
    "    arr.remove(min(arr))\n",
    "    return arr if len(arr) > 0 else [-1]"
   ]
  },
  {
   "cell_type": "markdown",
   "id": "8c3bc5ef",
   "metadata": {},
   "source": [
    "### 21. 가운데 글자 가져오기\n",
    "문제 설명:  \n",
    "단어 s의 가운데 글자를 반환하는 함수, solution을 만들어 보세요. 단어의 길이가 짝수라면 가운데 두글자를 반환하면 됩니다.\n",
    "\n",
    "#### 제한사항\n",
    "- s는 길이가 1 이상, 100이하인 스트링입니다."
   ]
  },
  {
   "cell_type": "code",
   "execution_count": null,
   "id": "2ce5aa53",
   "metadata": {},
   "outputs": [],
   "source": [
    "def solution(s):\n",
    "    return s[(len(s)-1)//2:len(s)//2+1]"
   ]
  },
  {
   "cell_type": "markdown",
   "id": "18820a3e",
   "metadata": {},
   "source": [
    "### 22. 수박수박수박수박수박수?\n",
    "문제 설명:  \n",
    "길이가 n이고, \"수박수박수박수....\"와 같은 패턴을 유지하는 문자열을 리턴하는 함수, solution을 완성하세요. 예를들어 n이 4이면 \"수박수박\"을 리턴하고 3이라면 \"수박수\"를 리턴하면 됩니다.\n",
    "\n",
    "#### 제한 조건\n",
    "- n은 길이 10,000이하인 자연수입니다."
   ]
  },
  {
   "cell_type": "code",
   "execution_count": null,
   "id": "2d9cb81d",
   "metadata": {},
   "outputs": [],
   "source": [
    "def solution(n):\n",
    "    answer = '수'*n\n",
    "    answer = answer.replace('수수','수박')\n",
    "    return answer"
   ]
  },
  {
   "cell_type": "markdown",
   "id": "5891ba95",
   "metadata": {},
   "source": [
    "### 23. 내적\n",
    "문제 설명:  \n",
    "길이가 같은 두 1차원 정수 배열 a, b가 매개변수로 주어집니다. a와 b의 내적을 return 하도록 solution 함수를 완성해주세요.  \n",
    "이때, a와 b의 내적은 a[0]*b[0] + a[1]*b[1] + ... + a[n-1]*b[n-1] 입니다. (n은 a, b의 길이)\n",
    "\n",
    "#### 제한사항\n",
    "- a, b의 길이는 1 이상 1,000 이하입니다.\n",
    "- a, b의 모든 수는 -1,000 이상 1,000 이하입니다."
   ]
  },
  {
   "cell_type": "code",
   "execution_count": null,
   "id": "a6725909",
   "metadata": {},
   "outputs": [],
   "source": [
    "def solution(a, b):\n",
    "    return sum([a[i]*b[i] for i in range(len(a))])"
   ]
  },
  {
   "cell_type": "markdown",
   "id": "ffa2cc37",
   "metadata": {},
   "source": [
    "### 24. 문자열 내림차순으로 배치하기\n",
    "문제 설명:  \n",
    "문자열 s에 나타나는 문자를 큰것부터 작은 순으로 정렬해 새로운 문자열을 리턴하는 함수, solution을 완성해주세요.\n",
    "s는 영문 대소문자로만 구성되어 있으며, 대문자는 소문자보다 작은 것으로 간주합니다.\n",
    "\n",
    "#### 제한 사항\n",
    "- str은 길이 1 이상인 문자열입니다."
   ]
  },
  {
   "cell_type": "code",
   "execution_count": null,
   "id": "ecb090f3",
   "metadata": {},
   "outputs": [],
   "source": [
    "def solution(s):\n",
    "    return \"\".join(sorted(s, reverse=True))"
   ]
  },
  {
   "cell_type": "markdown",
   "id": "f97a7e4b",
   "metadata": {},
   "source": [
    "### 25. 약수의 개수와 덧셈\n",
    "문제 설명: \n",
    "두 정수 left와 right가 매개변수로 주어집니다. left부터 right까지의 모든 수들 중에서, 약수의 개수가 짝수인 수는 더하고, 약수의 개수가 홀수인 수는 뺀 수를 return 하도록 solution 함수를 완성해주세요.\n",
    "\n",
    "#### 제한사항\n",
    "- 1 ≤ left ≤ right ≤ 1,000"
   ]
  },
  {
   "cell_type": "code",
   "execution_count": null,
   "id": "7bfff0a7",
   "metadata": {},
   "outputs": [],
   "source": [
    "def solution(left, right):\n",
    "    answer = 0\n",
    "    for i in range(left, right+1):\n",
    "        count = 0\n",
    "        for j in range(1, i+1):\n",
    "            if i%j == 0:\n",
    "                count += 1\n",
    "        if count%2 == 0:\n",
    "            answer += i\n",
    "        else:\n",
    "            answer -= i\n",
    "    return answer"
   ]
  }
 ],
 "metadata": {
  "kernelspec": {
   "display_name": "Python 3 (ipykernel)",
   "language": "python",
   "name": "python3"
  },
  "language_info": {
   "codemirror_mode": {
    "name": "ipython",
    "version": 3
   },
   "file_extension": ".py",
   "mimetype": "text/x-python",
   "name": "python",
   "nbconvert_exporter": "python",
   "pygments_lexer": "ipython3",
   "version": "3.10.9"
  }
 },
 "nbformat": 4,
 "nbformat_minor": 5
}
