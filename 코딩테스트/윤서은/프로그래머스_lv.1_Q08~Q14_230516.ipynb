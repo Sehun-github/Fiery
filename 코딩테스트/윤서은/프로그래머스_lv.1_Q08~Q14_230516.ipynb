{
 "cells": [
  {
   "cell_type": "markdown",
   "id": "1c95bf0c",
   "metadata": {},
   "source": [
    "## (Q8) 자연수 뒤집어 배열로 만들기"
   ]
  },
  {
   "cell_type": "markdown",
   "id": "dc30446f",
   "metadata": {},
   "source": [
    "자연수 n을 뒤집어 각 자리 숫자를 원소로 가지는 배열 형태로 리턴해주세요. 예를들어 n이 12345이면 [5,4,3,2,1]을 리턴합니다."
   ]
  },
  {
   "cell_type": "code",
   "execution_count": 7,
   "id": "de8aecd9",
   "metadata": {},
   "outputs": [],
   "source": [
    "def solution(n):\n",
    "    n = list(str(n))\n",
    "    n.reverse()\n",
    "    answer = list(map(int,n))\n",
    "\n",
    "    return answer"
   ]
  },
  {
   "cell_type": "code",
   "execution_count": 8,
   "id": "46a17cdc",
   "metadata": {},
   "outputs": [],
   "source": [
    "#정답\n",
    "def solution(n):\n",
    "    n_str = str(n)\n",
    "    answer = [int(n_str[i]) for i in range(len(n_str)-1,-1,-1)]\n",
    "    return answer"
   ]
  },
  {
   "cell_type": "markdown",
   "id": "2da7d4b7",
   "metadata": {},
   "source": [
    "## (Q9) 정수 제곱근 판별"
   ]
  },
  {
   "cell_type": "markdown",
   "id": "d66b09f1",
   "metadata": {},
   "source": [
    "임의의 양의 정수 n에 대해, n이 어떤 양의 정수 x의 제곱인지 아닌지 판단하려 합니다. n이 양의 정수 x의 제곱이라면 x+1의 제곱을 리턴하고, n이 양의 정수 x의 제곱이 아니라면 -1을 리턴하는 함수를 완성하세요."
   ]
  },
  {
   "cell_type": "code",
   "execution_count": 9,
   "id": "c2aa26e4",
   "metadata": {},
   "outputs": [],
   "source": [
    "def solution(n):\n",
    "    sqrt = n ** (1/2)\n",
    "    if sqrt % 1 == 0:\n",
    "        answer = (sqrt + 1) ** 2\n",
    "    else :\n",
    "        answer = -1\n",
    "    return answer"
   ]
  },
  {
   "cell_type": "markdown",
   "id": "906c923e",
   "metadata": {},
   "source": [
    "## (Q10) 문자열을 정수로 바꾸기"
   ]
  },
  {
   "cell_type": "markdown",
   "id": "cfef788a",
   "metadata": {},
   "source": [
    "문자열 s를 숫자로 변환한 결과를 반환하는 함수, solution을 완성하세요."
   ]
  },
  {
   "cell_type": "code",
   "execution_count": 10,
   "id": "79371b79",
   "metadata": {},
   "outputs": [],
   "source": [
    "def solution(s):\n",
    "    answer = int(s)\n",
    "    return answer"
   ]
  },
  {
   "cell_type": "markdown",
   "id": "83191e7a",
   "metadata": {},
   "source": [
    "## (Q11) 정수 내림차순으로 배치하기"
   ]
  },
  {
   "cell_type": "markdown",
   "id": "01cedcde",
   "metadata": {},
   "source": [
    "함수 solution은 정수 n을 매개변수로 입력받습니다. n의 각 자릿수를 큰것부터 작은 순으로 정렬한 새로운 정수를 리턴해주세요. 예를들어 n이 118372면 873211을 리턴하면 됩니다."
   ]
  },
  {
   "cell_type": "code",
   "execution_count": 11,
   "id": "b5e8f664",
   "metadata": {},
   "outputs": [],
   "source": [
    "def solution(n):\n",
    "    n = [str(n)]\n",
    "    n = n.sort()\n",
    "    answer = int(n)\n",
    "    return answer"
   ]
  },
  {
   "cell_type": "markdown",
   "id": "9693fe52",
   "metadata": {},
   "source": [
    "## (Q11) 정수 내림차순으로 배치하기"
   ]
  },
  {
   "cell_type": "markdown",
   "id": "ab3d5a11",
   "metadata": {},
   "source": [
    "함수 solution은 정수 n을 매개변수로 입력받습니다. n의 각 자릿수를 큰것부터 작은 순으로 정렬한 새로운 정수를 리턴해주세요. 예를들어 n이 118372면 873211을 리턴하면 됩니다."
   ]
  },
  {
   "cell_type": "code",
   "execution_count": 12,
   "id": "fab4e411",
   "metadata": {},
   "outputs": [],
   "source": [
    "def solution(n):\n",
    "    n = [str(n)]\n",
    "    n = n.sort()\n",
    "    answer = int(n)\n",
    "    return answer"
   ]
  },
  {
   "cell_type": "code",
   "execution_count": 13,
   "id": "871a654b",
   "metadata": {},
   "outputs": [],
   "source": [
    "#정답\n",
    "def solution(n):\n",
    "    revlist = sorted(str(n), reverse = True)\n",
    "    answer = int(''.join(revlist))\n",
    "    return answer"
   ]
  },
  {
   "cell_type": "markdown",
   "id": "85f9aaee",
   "metadata": {},
   "source": [
    "## (Q12) 하샤드 수"
   ]
  },
  {
   "cell_type": "markdown",
   "id": "016bee81",
   "metadata": {},
   "source": [
    "양의 정수 x가 하샤드 수이려면 x의 자릿수의 합으로 x가 나누어져야 합니다. 예를 들어 18의 자릿수 합은 1+8=9이고, 18은 9로 나누어 떨어지므로 18은 하샤드 수입니다. 자연수 x를 입력받아 x가 하샤드 수인지 아닌지 검사하는 함수, solution을 완성해주세요."
   ]
  },
  {
   "cell_type": "code",
   "execution_count": 22,
   "id": "a26b5e64",
   "metadata": {},
   "outputs": [],
   "source": [
    "#정답\n",
    "def solution(x):\n",
    "    n = sum([int(i) for i in str(X)])\n",
    "    answer = True if x%n == 0 else false\n",
    "    return answer"
   ]
  },
  {
   "cell_type": "markdown",
   "id": "99625914",
   "metadata": {},
   "source": [
    "## (Q13) 두 정수사이의 합"
   ]
  },
  {
   "cell_type": "markdown",
   "id": "3169f8a2",
   "metadata": {},
   "source": [
    "두 정수 a, b가 주어졌을 때 a와 b 사이에 속한 모든 정수의 합을 리턴하는 함수, solution을 완성하세요. 예를 들어 a = 3, b = 5인 경우, 3 + 4 + 5 = 12이므로 12를 리턴합니다."
   ]
  },
  {
   "cell_type": "code",
   "execution_count": 14,
   "id": "4099490a",
   "metadata": {},
   "outputs": [],
   "source": [
    "def solution(a, b):\n",
    "    answer = 0\n",
    "    if a < b : \n",
    "        for i in range(a,b+1,1):\n",
    "            answer += i\n",
    "    else :\n",
    "        for i in range(b, a+1,1):\n",
    "            answer += i\n",
    "    return answer"
   ]
  },
  {
   "cell_type": "markdown",
   "id": "63074cb5",
   "metadata": {},
   "source": [
    "## (Q14) 콜라츠 추측"
   ]
  },
  {
   "cell_type": "markdown",
   "id": "8555c5fa",
   "metadata": {},
   "source": [
    "1937년 Collatz란 사람에 의해 제기된 이 추측은, 주어진 수가 1이 될 때까지 다음 작업을 반복하면, 모든 수를 1로 만들 수 있다는 추측입니다. 작업은 다음과 같습니다.\n",
    "\n",
    "1-1. 입력된 수가 짝수라면 2로 나눕니다. \n",
    "1-2. 입력된 수가 홀수라면 3을 곱하고 1을 더합니다. \n",
    "\n",
    "2. 결과로 나온 수에 같은 작업을 1이 될 때까지 반복합니다. \n",
    "예를 들어, 주어진 수가 6이라면 6 → 3 → 10 → 5 → 16 → 8 → 4 → 2 → 1 이 되어 총 8번 만에 1이 됩니다. 위 작업을 몇 번이나 반복해야 하는지 반환하는 함수, solution을 완성해 주세요. 단, 주어진 수가 1인 경우에는 0을, 작업을 500번 반복할 때까지 1이 되지 않는다면 –1을 반환해 주세요."
   ]
  },
  {
   "cell_type": "code",
   "execution_count": 24,
   "id": "fd8546e7",
   "metadata": {},
   "outputs": [],
   "source": [
    "def solution(num):\n",
    "    cnt = 0\n",
    "    for i in range(500):\n",
    "        while True :\n",
    "            if num%2==0 : \n",
    "                num = num/2\n",
    "                cnt+=1\n",
    "            else :\n",
    "                num = num*3+1\n",
    "                cnt+=1\n",
    "        if num == 1 :\n",
    "            break\n",
    "    if cnt==500 :\n",
    "        answer = -1\n",
    "    else :\n",
    "        answer = cnt\n",
    "    return answer"
   ]
  },
  {
   "cell_type": "code",
   "execution_count": 23,
   "id": "f0cc9249",
   "metadata": {},
   "outputs": [],
   "source": [
    "#정답\n",
    "def solution(num):\n",
    "    answer = 0\n",
    "    while num != 1:\n",
    "        if num % 2 == 0 :\n",
    "            num //= 2\n",
    "        else :\n",
    "            num = (num * 3) + 1\n",
    "        answer += 1\n",
    "        if answer >= 500 :\n",
    "            answer = -1\n",
    "            break\n",
    "    return answer"
   ]
  },
  {
   "cell_type": "code",
   "execution_count": null,
   "id": "838ce3a9",
   "metadata": {},
   "outputs": [],
   "source": []
  }
 ],
 "metadata": {
  "kernelspec": {
   "display_name": "Python 3 (ipykernel)",
   "language": "python",
   "name": "python3"
  },
  "language_info": {
   "codemirror_mode": {
    "name": "ipython",
    "version": 3
   },
   "file_extension": ".py",
   "mimetype": "text/x-python",
   "name": "python",
   "nbconvert_exporter": "python",
   "pygments_lexer": "ipython3",
   "version": "3.10.9"
  }
 },
 "nbformat": 4,
 "nbformat_minor": 5
}
