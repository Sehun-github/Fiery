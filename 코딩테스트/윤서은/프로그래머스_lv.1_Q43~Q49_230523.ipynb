{
 "cells": [
  {
   "cell_type": "markdown",
   "id": "b9a94af3",
   "metadata": {},
   "source": [
    "## (Q43) 두개 뽑아서 더하기"
   ]
  },
  {
   "cell_type": "markdown",
   "id": "206df733",
   "metadata": {},
   "source": [
    "정수 배열 numbers가 주어집니다. numbers에서 서로 다른 인덱스에 있는 두 개의 수를 뽑아 더해서 만들 수 있는 모든 수를 배열에 오름차순으로 담아 return 하도록 solution 함수를 완성해주세요."
   ]
  },
  {
   "cell_type": "code",
   "execution_count": 1,
   "id": "820bf415",
   "metadata": {},
   "outputs": [],
   "source": [
    "def solution(n):\n",
    "    l=[]\n",
    "    for i in range(len(n)):\n",
    "        for j in range(i+1, len(n)):\n",
    "            l.append(n[i] + n[j])\n",
    "    return sorted(set(l))"
   ]
  },
  {
   "cell_type": "markdown",
   "id": "7119a377",
   "metadata": {},
   "source": [
    "## (Q44) 푸드 파이트 대회"
   ]
  },
  {
   "cell_type": "markdown",
   "id": "cf8dac22",
   "metadata": {},
   "source": [
    "수웅이는 매달 주어진 음식을 빨리 먹는 푸드 파이트 대회를 개최합니다. 이 대회에서 선수들은 1대 1로 대결하며, 매 대결마다 음식의 종류와 양이 바뀝니다. 대결은 준비된 음식들을 일렬로 배치한 뒤, 한 선수는 제일 왼쪽에 있는 음식부터 오른쪽으로, 다른 선수는 제일 오른쪽에 있는 음식부터 왼쪽으로 순서대로 먹는 방식으로 진행됩니다. 중앙에는 물을 배치하고, 물을 먼저 먹는 선수가 승리하게 됩니다.\n",
    "\n",
    "이때, 대회의 공정성을 위해 두 선수가 먹는 음식의 종류와 양이 같아야 하며, 음식을 먹는 순서도 같아야 합니다. 또한, 이번 대회부터는 칼로리가 낮은 음식을 먼저 먹을 수 있게 배치하여 선수들이 음식을 더 잘 먹을 수 있게 하려고 합니다. 이번 대회를 위해 수웅이는 음식을 주문했는데, 대회의 조건을 고려하지 않고 음식을 주문하여 몇 개의 음식은 대회에 사용하지 못하게 되었습니다.\n",
    "\n",
    "예를 들어, 3가지의 음식이 준비되어 있으며, 칼로리가 적은 순서대로 1번 음식을 3개, 2번 음식을 4개, 3번 음식을 6개 준비했으며, 물을 편의상 0번 음식이라고 칭한다면, 두 선수는 1번 음식 1개, 2번 음식 2개, 3번 음식 3개씩을 먹게 되므로 음식의 배치는 \"1223330333221\"이 됩니다. 따라서 1번 음식 1개는 대회에 사용하지 못합니다.\n",
    "\n",
    "수웅이가 준비한 음식의 양을 칼로리가 적은 순서대로 나타내는 정수 배열 food가 주어졌을 때, 대회를 위한 음식의 배치를 나타내는 문자열을 return 하는 solution 함수를 완성해주세요"
   ]
  },
  {
   "cell_type": "code",
   "execution_count": 3,
   "id": "cc5256c7",
   "metadata": {},
   "outputs": [],
   "source": [
    "def solution(food):\n",
    "    s = ''\n",
    "    for i, j in enumerate(food[1:], 1):\n",
    "        s += str(i) * (j // 2)\n",
    "    return s + \"0\" + s[::-1]"
   ]
  },
  {
   "cell_type": "markdown",
   "id": "e56b072b",
   "metadata": {},
   "source": [
    "## (Q45) 콜라문제"
   ]
  },
  {
   "cell_type": "markdown",
   "id": "b8aec115",
   "metadata": {},
   "source": [
    "문제를 풀던 상빈이는 콜라 문제의 완벽한 해답을 찾았습니다. 상빈이가 푼 방법은 아래 그림과 같습니다. 우선 콜라 빈 병 20병을 가져가서 10병을 받습니다. 받은 10병을 모두 마신 뒤, 가져가서 5병을 받습니다. 5병 중 4병을 모두 마신 뒤 가져가서 2병을 받고, 또 2병을 모두 마신 뒤 가져가서 1병을 받습니다. 받은 1병과 5병을 받았을 때 남은 1병을 모두 마신 뒤 가져가면 1병을 또 받을 수 있습니다. 이 경우 상빈이는 총 10 + 5 + 2 + 1 + 1 = 19병의 콜라를 받을 수 있습니다.\n",
    "\n",
    "문제를 열심히 풀던 상빈이는 일반화된 콜라 문제를 생각했습니다. 이 문제는 빈 병 a개를 가져다주면 콜라 b병을 주는 마트가 있을 때, 빈 병 n개를 가져다주면 몇 병을 받을 수 있는지 계산하는 문제입니다. 기존 콜라 문제와 마찬가지로, 보유 중인 빈 병이 a개 미만이면, 추가적으로 빈 병을 받을 순 없습니다. 상빈이는 열심히 고심했지만, 일반화된 콜라 문제의 답을 찾을 수 없었습니다. 상빈이를 도와, 일반화된 콜라 문제를 해결하는 프로그램을 만들어 주세요.\n",
    "\n",
    "콜라를 받기 위해 마트에 주어야 하는 병 수 a, 빈 병 a개를 가져다 주면 마트가 주는 콜라 병 수 b, 상빈이가 가지고 있는 빈 병의 개수 n이 매개변수로 주어집니다. 상빈이가 받을 수 있는 콜라의 병 수를 return 하도록 solution 함수를 작성해주세요."
   ]
  },
  {
   "cell_type": "code",
   "execution_count": 2,
   "id": "cd78205c",
   "metadata": {},
   "outputs": [],
   "source": [
    "def solution(a, b, n):\n",
    "    cnt = 0\n",
    "    while n >= a:\n",
    "        amount = (n // a) * b\n",
    "        empty = n % a\n",
    "        cnt += amount\n",
    "        n = amount + empty\n",
    "    return cnt"
   ]
  },
  {
   "cell_type": "code",
   "execution_count": 3,
   "id": "b194262d",
   "metadata": {},
   "outputs": [],
   "source": [
    "#정답\n",
    "solution = lambda a, b, n: max(n - b, 0) // (a - b) * b"
   ]
  },
  {
   "cell_type": "markdown",
   "id": "bd9963a4",
   "metadata": {},
   "source": [
    "## (Q46) 가장 가까운 같은 글자"
   ]
  },
  {
   "cell_type": "markdown",
   "id": "db2b5a46",
   "metadata": {},
   "source": [
    "문자열 s가 주어졌을 때, s의 각 위치마다 자신보다 앞에 나왔으면서, 자신과 가장 가까운 곳에 있는 같은 글자가 어디 있는지 알고 싶습니다. 예를 들어, s=\"banana\"라고 할 때, 각 글자들을 왼쪽부터 오른쪽으로 읽어 나가면서 다음과 같이 진행할 수 있습니다.\n",
    "\n",
    "b는 처음 나왔기 때문에 자신의 앞에 같은 글자가 없습니다. 이는 -1로 표현합니다.\n",
    "\n",
    "a는 처음 나왔기 때문에 자신의 앞에 같은 글자가 없습니다. 이는 -1로 표현합니다.\n",
    "\n",
    "n은 처음 나왔기 때문에 자신의 앞에 같은 글자가 없습니다. 이는 -1로 표현합니다.\n",
    "\n",
    "a는 자신보다 두 칸 앞에 a가 있습니다. 이는 2로 표현합니다.\n",
    "\n",
    "n도 자신보다 두 칸 앞에 n이 있습니다. 이는 2로 표현합니다.\n",
    "\n",
    "a는 자신보다 두 칸, 네 칸 앞에 a가 있습니다. 이 중 가까운 것은 두 칸 앞이고, 이는 2로 표현합니다.\n",
    "\n",
    "따라서 최종 결과물은 [-1, -1, -1, 2, 2, 2]가 됩니다.\n",
    "\n",
    "문자열 s이 주어질 때, 위와 같이 정의된 연산을 수행하는 함수 solution을 완성해주세요."
   ]
  },
  {
   "cell_type": "code",
   "execution_count": 4,
   "id": "9bc31366",
   "metadata": {},
   "outputs": [],
   "source": [
    "#정답\n",
    "def solution(s):\n",
    "    answer = []\n",
    "    for i in range((len(s))):\n",
    "        t = s[:i]\n",
    "        idx = t.rfind(s[i])\n",
    "        if idx == -1:\n",
    "            answer.append(-1)\n",
    "        else:\n",
    "            answer.append(i - idx)\n",
    "    return answer"
   ]
  },
  {
   "cell_type": "markdown",
   "id": "abf80aa4",
   "metadata": {},
   "source": [
    "## (Q47) 추억점수"
   ]
  },
  {
   "cell_type": "markdown",
   "id": "fbf9cbc1",
   "metadata": {},
   "source": [
    "사진들을 보며 추억에 젖어 있던 루는 사진별로 추억 점수를 매길려고 합니다. 사진 속에 나오는 인물의 그리움 점수를 모두 합산한 값이 해당 사진의 추억 점수가 됩니다. 예를 들어 사진 속 인물의 이름이 [\"may\", \"kein\", \"kain\"]이고 각 인물의 그리움 점수가 [5점, 10점, 1점]일 때 해당 사진의 추억 점수는 16(5 + 10 + 1)점이 됩니다. 다른 사진 속 인물의 이름이 [\"kali\", \"mari\", \"don\", \"tony\"]이고 [\"kali\", \"mari\", \"don\"]의 그리움 점수가 각각 [11점, 1점, 55점]]이고, \"tony\"는 그리움 점수가 없을 때, 이 사진의 추억 점수는 3명의 그리움 점수를 합한 67(11 + 1 + 55)점입니다.\n",
    "\n",
    "그리워하는 사람의 이름을 담은 문자열 배열 name, 각 사람별 그리움 점수를 담은 정수 배열 yearning, 각 사진에 찍힌 인물의 이름을 담은 이차원 문자열 배열 photo가 매개변수로 주어질 때, 사진들의 추억 점수를 photo에 주어진 순서대로 배열에 담아 return하는 solution 함수를 완성해주세요."
   ]
  },
  {
   "cell_type": "code",
   "execution_count": 5,
   "id": "b8a849bf",
   "metadata": {},
   "outputs": [],
   "source": [
    "def solution(name, yearning, photo):\n",
    "    answer = []\n",
    "    for i in photo:\n",
    "        num1 = 0\n",
    "        for j in i:\n",
    "            if j in name:\n",
    "                num1 += yearning[name.index(j)]\n",
    "        answer.append(num1)\n",
    "    return answer"
   ]
  },
  {
   "cell_type": "code",
   "execution_count": 6,
   "id": "37f67dc1",
   "metadata": {},
   "outputs": [],
   "source": [
    "#정답\n",
    "def solution(이름, 점수, 사진):\n",
    "    return [sum(점수[이름.index(j)] for j in i if j in 이름) for i in 사진]"
   ]
  },
  {
   "cell_type": "markdown",
   "id": "cdfc0acd",
   "metadata": {},
   "source": [
    "## (Q48) 2016년"
   ]
  },
  {
   "cell_type": "markdown",
   "id": "c01ebabf",
   "metadata": {},
   "source": [
    "2016년 1월 1일은 금요일입니다. 2016년 a월 b일은 무슨 요일일까요? 두 수 a ,b를 입력받아 2016년 a월 b일이 무슨 요일인지 리턴하는 함수, solution을 완성하세요. 요일의 이름은 일요일부터 토요일까지 각각 SUN,MON,TUE,WED,THU,FRI,SAT\n",
    "\n",
    "입니다. 예를 들어 a=5, b=24라면 5월 24일은 화요일이므로 문자열 \"TUE\"를 반환하세요."
   ]
  },
  {
   "cell_type": "code",
   "execution_count": 7,
   "id": "f4619a4e",
   "metadata": {},
   "outputs": [],
   "source": [
    "def solution(a, b):\n",
    "    dayOfMonth = [0, 31, 29, 31, 30, 31, 30, 31, 31, 30, 31, 30, 31]\n",
    "    days = ['THU', 'FRI', 'SAT', 'SUN', 'MON', 'TUE', 'WED'] # 1월 1일 : 금요일\n",
    "\n",
    "    over = sum(dayOfMonth[:a]) + b\n",
    "    return days[over % 7]"
   ]
  },
  {
   "cell_type": "markdown",
   "id": "985ce797",
   "metadata": {},
   "source": [
    "## (Q49) 폰켓몬"
   ]
  },
  {
   "cell_type": "markdown",
   "id": "c3a3f7d6",
   "metadata": {},
   "source": [
    "당신은 폰켓몬을 잡기 위한 오랜 여행 끝에, 홍 박사님의 연구실에 도착했습니다. 홍 박사님은 당신에게 자신의 연구실에 있는 총 N 마리의 폰켓몬 중에서 N/2마리를 가져가도 좋다고 했습니다. 홍 박사님 연구실의 폰켓몬은 종류에 따라 번호를 붙여 구분합니다. 따라서 같은 종류의 폰켓몬은 같은 번호를 가지고 있습니다. 예를 들어 연구실에 총 4마리의 폰켓몬이 있고, 각 폰켓몬의 종류 번호가 [3번, 1번, 2번, 3번]이라면 이는 3번 폰켓몬 두 마리, 1번 폰켓몬 한 마리, 2번 폰켓몬 한 마리가 있음을 나타냅니다. 이때, 4마리의 폰켓몬 중 2마리를 고르는 방법은 다음과 같이 6가지가 있습니다.\n",
    "\n",
    "첫 번째(3번), 두 번째(1번) 폰켓몬을 선택\n",
    "첫 번째(3번), 세 번째(2번) 폰켓몬을 선택\n",
    "첫 번째(3번), 네 번째(3번) 폰켓몬을 선택\n",
    "두 번째(1번), 세 번째(2번) 폰켓몬을 선택\n",
    "두 번째(1번), 네 번째(3번) 폰켓몬을 선택\n",
    "세 번째(2번), 네 번째(3번) 폰켓몬을 선택\n",
    "이때, 첫 번째(3번) 폰켓몬과 네 번째(3번) 폰켓몬을 선택하는 방법은 한 종류(3번 폰켓몬 두 마리)의 폰켓몬만 가질 수 있지만, 다른 방법들은 모두 두 종류의 폰켓몬을 가질 수 있습니다. 따라서 위 예시에서 가질 수 있는 폰켓몬 종류 수의 최댓값은 2가 됩니다. 당신은 최대한 다양한 종류의 폰켓몬을 가지길 원하기 때문에, 최대한 많은 종류의 폰켓몬을 포함해서 N/2마리를 선택하려 합니다. N마리 폰켓몬의 종류 번호가 담긴 배열 nums가 매개변수로 주어질 때, N/2마리의 폰켓몬을 선택하는 방법 중, 가장 많은 종류의 폰켓몬을 선택하는 방법을 찾아, 그때의 폰켓몬 종류 번호의 개수를 return 하도록 solution 함수를 완성해주세요."
   ]
  },
  {
   "cell_type": "code",
   "execution_count": 8,
   "id": "15899c0f",
   "metadata": {},
   "outputs": [],
   "source": [
    "def solution(n):\n",
    "    choice = len(n) // 2\n",
    "    if choice <= len(set(n)):\n",
    "        return choice\n",
    "    else:\n",
    "        return len(set(n))"
   ]
  },
  {
   "cell_type": "code",
   "execution_count": null,
   "id": "84aff03d",
   "metadata": {},
   "outputs": [],
   "source": []
  }
 ],
 "metadata": {
  "kernelspec": {
   "display_name": "Python 3 (ipykernel)",
   "language": "python",
   "name": "python3"
  },
  "language_info": {
   "codemirror_mode": {
    "name": "ipython",
    "version": 3
   },
   "file_extension": ".py",
   "mimetype": "text/x-python",
   "name": "python",
   "nbconvert_exporter": "python",
   "pygments_lexer": "ipython3",
   "version": "3.10.9"
  }
 },
 "nbformat": 4,
 "nbformat_minor": 5
}
