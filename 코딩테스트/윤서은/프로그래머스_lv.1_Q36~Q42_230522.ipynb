{
 "cells": [
  {
   "cell_type": "markdown",
   "id": "b9a94af3",
   "metadata": {},
   "source": [
    "## (Q36) 삼총사"
   ]
  },
  {
   "cell_type": "markdown",
   "id": "206df733",
   "metadata": {},
   "source": [
    "한국중학교에 다니는 학생들은 각자 정수 번호를 갖고 있습니다. 이 학교 학생 3명의 정수 번호를 더했을 때 0이 되면 3명의 학생은 삼총사라고 합니다. 예를 들어, 5명의 학생이 있고, 각각의 정수 번호가 순서대로 -2, 3, 0, 2, -5일 때, 첫 번째, 세 번째, 네 번째 학생의 정수 번호를 더하면 0이므로 세 학생은 삼총사입니다. 또한, 두 번째, 네 번째, 다섯 번째 학생의 정수 번호를 더해도 0이므로 세 학생도 삼총사입니다. 따라서 이 경우 한국중학교에서는 두 가지 방법으로 삼총사를 만들 수 있습니다.\n",
    "\n",
    "한국중학교 학생들의 번호를 나타내는 정수 배열 number가 매개변수로 주어질 때, 학생들 중 삼총사를 만들 수 있는 방법의 수를 return 하도록 solution 함수를 완성하세요."
   ]
  },
  {
   "cell_type": "code",
   "execution_count": 1,
   "id": "820bf415",
   "metadata": {},
   "outputs": [],
   "source": [
    "def solution(number):\n",
    "    answer = 0\n",
    "    for i in range(len(number)-2):\n",
    "        for j in range(i+1, len(number)-1):\n",
    "            for k in range(j+1, len(number)):\n",
    "                sum = number[i]+number[j]+number[k]\n",
    "                if sum == 0:\n",
    "                    answer += 1\n",
    "    return answer"
   ]
  },
  {
   "cell_type": "code",
   "execution_count": 2,
   "id": "dd3436ed",
   "metadata": {},
   "outputs": [],
   "source": [
    "#정답\n",
    "def solution(number):    \n",
    "    result = [sum(c) for c in list(combinations(number, 3)) if sum(c) == 0]\n",
    "    \n",
    "    return len(result)"
   ]
  },
  {
   "cell_type": "markdown",
   "id": "7119a377",
   "metadata": {},
   "source": [
    "## (Q37) 최소 직사각형"
   ]
  },
  {
   "cell_type": "markdown",
   "id": "cf8dac22",
   "metadata": {},
   "source": [
    "명함 지갑을 만드는 회사에서 지갑의 크기를 정하려고 합니다. 다양한 모양과 크기의 명함들을 모두 수납할 수 있으면서, 작아서 들고 다니기 편한 지갑을 만들어야 합니다. 이러한 요건을 만족하는 지갑을 만들기 위해 디자인팀은 모든 명함의 가로 길이와 세로 길이를 조사했습니다.\n",
    "\n",
    "아래 표는 4가지 명함의 가로 길이와 세로 길이를 나타냅니다.\n",
    "\n",
    "명함 번호 가로 길이 세로 길이\n",
    "\n",
    "1 60 50\n",
    "\n",
    "2 30 70\n",
    "\n",
    "3 60 30\n",
    "\n",
    "4 80 40\n",
    "\n",
    "가장 긴 가로 길이와 세로 길이가 각각 80, 70이기 때문에 80(가로) x 70(세로) 크기의 지갑을 만들면 모든 명함들을 수납할 수 있습니다. 하지만 2번 명함을 가로로 눕혀 수납한다면 80(가로) x 50(세로) 크기의 지갑으로 모든 명함들을 수납할 수 있습니다. 이때의 지갑 크기는 4000(=80 x 50)입니다.\n",
    "\n",
    "모든 명함의 가로 길이와 세로 길이를 나타내는 2차원 배열 sizes가 매개변수로 주어집니다. 모든 명함을 수납할 수 있는 가장 작은 지갑을 만들 때, 지갑의 크기를 return 하도록 solution 함수를 완성해주세요."
   ]
  },
  {
   "cell_type": "code",
   "execution_count": 3,
   "id": "cc5256c7",
   "metadata": {},
   "outputs": [],
   "source": [
    "def solution(sizes):\n",
    "    for i in sizes:\n",
    "        if i[0] < i[1]:\n",
    "            i[0], i[1] = i[1], i[0]\n",
    "    sizes= sorted(sizes, reverse=True)\n",
    "    max = 0\n",
    "    for j in sizes:\n",
    "        if j[1] > max:\n",
    "            max = j[1]\n",
    "    return sizes[0][0] * max"
   ]
  },
  {
   "cell_type": "code",
   "execution_count": 5,
   "id": "83e0fcbd",
   "metadata": {},
   "outputs": [],
   "source": [
    "#정답\n",
    "def solution(sizes):\n",
    "    return max(max(size) for size in sizes) * max(min(size) for size in sizes)"
   ]
  },
  {
   "cell_type": "markdown",
   "id": "e56b072b",
   "metadata": {},
   "source": [
    "## (Q38) 비밀지도"
   ]
  },
  {
   "cell_type": "markdown",
   "id": "b8aec115",
   "metadata": {},
   "source": [
    "네오는 평소 프로도가 비상금을 숨겨놓는 장소를 알려줄 비밀지도를 손에 넣었다. 그런데 이 비밀지도는 숫자로 암호화되어 있어 위치를 확인하기 위해서는 암호를 해독해야 한다. 다행히 지도 암호를 해독할 방법을 적어놓은 메모도 함께 발견했다.\n",
    "\n",
    "지도는 한 변의 길이가 n인 정사각형 배열 형태로, 각 칸은 \"공백\"(\" \") 또는 \"벽\"(\"#\") 두 종류로 이루어져 있다.\n",
    "전체 지도는 두 장의 지도를 겹쳐서 얻을 수 있다. 각각 \"지도 1\"과 \"지도 2\"라고 하자. 지도 1 또는 지도 2 중 어느 하나라도 벽인 부분은전체 지도에서도 벽이다. 지도 1과 지도 2에서 모두 공백인 부분은 전체 지도에서도 공백이다.\n",
    "\"지도 1\"과 \"지도 2\"는 각각 정수 배열로 암호화되어 있다.\n",
    "암호화된 배열은 지도의 각 가로줄에서 벽 부분을 1, 공백 부분을 0으로 부호화했을 때 얻어지는 이진수에 해당하는 값의 배열이다."
   ]
  },
  {
   "cell_type": "code",
   "execution_count": 6,
   "id": "cd78205c",
   "metadata": {},
   "outputs": [],
   "source": [
    "#정답\n",
    "def solution(n, arr1, arr2):\n",
    "    answer = []\n",
    "    for i,j in zip(arr1,arr2):\n",
    "        a12 = str(bin(i|j)[2:])\n",
    "        a12=a12.rjust(n,'0')\n",
    "        a12=a12.replace('1','#')\n",
    "        a12=a12.replace('0',' ')\n",
    "        answer.append(a12)\n",
    "    return answer"
   ]
  },
  {
   "cell_type": "markdown",
   "id": "bd9963a4",
   "metadata": {},
   "source": [
    "## (Q39) 크기가 작은 문자열"
   ]
  },
  {
   "cell_type": "markdown",
   "id": "db2b5a46",
   "metadata": {},
   "source": [
    "숫자로 이루어진 문자열 t와 p가 주어질 때, t에서 p와 길이가 같은 부분문자열 중에서, 이 부분문자열이 나타내는 수가 p가 나타내는 수보다 작거나 같은 것이 나오는 횟수를 return하는 함수 solution을 완성하세요.\n",
    "\n",
    "예를 들어, t=\"3141592\"이고 p=\"271\" 인 경우, t의 길이가 3인 부분 문자열은 314, 141, 415, 159, 592입니다. 이 문자열이 나타내는 수 중 271보다 작거나 같은 수는 141, 159 2개 입니다."
   ]
  },
  {
   "cell_type": "code",
   "execution_count": 7,
   "id": "9bc31366",
   "metadata": {},
   "outputs": [],
   "source": [
    "def solution(t, p):\n",
    "    answer = 0\n",
    "    size= len(p)\n",
    "    for i in range(len(t)-len(p)+1):\n",
    "        num = t[i:i+len(p)]\n",
    "        if int(num) <= int(p):\n",
    "            answer+=1  \n",
    "    return answer"
   ]
  },
  {
   "cell_type": "markdown",
   "id": "abf80aa4",
   "metadata": {},
   "source": [
    "## (Q40) 숫자 문자열과 영단어"
   ]
  },
  {
   "cell_type": "markdown",
   "id": "fbf9cbc1",
   "metadata": {},
   "source": [
    "네오와 프로도가 숫자놀이를 하고 있습니다. 네오가 프로도에게 숫자를 건넬 때 일부 자릿수를 영단어로 바꾼 카드를 건네주면 프로도는 원래 숫자를 찾는 게임입니다.\n",
    "\n",
    "다음은 숫자의 일부 자릿수를 영단어로 바꾸는 예시입니다.\n",
    "\n",
    "1478 → \"one4seveneight\"\n",
    "\n",
    "234567 → \"23four5six7\"\n",
    "\n",
    "10203 → \"1zerotwozero3\"\n",
    "\n",
    "이렇게 숫자의 일부 자릿수가 영단어로 바뀌어졌거나, 혹은 바뀌지 않고 그대로인 문자열 s가 매개변수로 주어집니다. s가 의미하는 원래 숫자를 return 하도록 solution 함수를 완성해주세요."
   ]
  },
  {
   "cell_type": "code",
   "execution_count": 8,
   "id": "b8a849bf",
   "metadata": {},
   "outputs": [],
   "source": [
    "def solution(s):\n",
    "    l = [['zero','0'], ['one','1'], ['two','2'], ['three','3'], ['four','4'],\n",
    "         ['five','5'], ['six','6'],['seven','7'],['eight','8'], ['nine','9']]\n",
    "    for i in l:\n",
    "        s = s.replace(i[0], i[1])\n",
    "    return int(s)"
   ]
  },
  {
   "cell_type": "markdown",
   "id": "cdfc0acd",
   "metadata": {},
   "source": [
    "## (Q41) 문자열 내 마음대로 정렬하기"
   ]
  },
  {
   "cell_type": "markdown",
   "id": "c01ebabf",
   "metadata": {},
   "source": [
    "문자열로 구성된 리스트 strings와, 정수 n이 주어졌을 때, 각 문자열의 인덱스 n번째 글자를 기준으로 오름차순 정렬하려 합니다. 예를 들어 strings가 [\"sun\", \"bed\", \"car\"]이고 n이 1이면 각 단어의 인덱스 1의 문자 \"u\", \"e\", \"a\"로 strings를 정렬합니다."
   ]
  },
  {
   "cell_type": "code",
   "execution_count": 9,
   "id": "f4619a4e",
   "metadata": {},
   "outputs": [],
   "source": [
    "def solution(string, n): \n",
    "    string.sort()\n",
    "    string.sort(key = lambda x : x[n])   \n",
    "    return string"
   ]
  },
  {
   "cell_type": "markdown",
   "id": "985ce797",
   "metadata": {},
   "source": [
    "## (Q42) K번째 수"
   ]
  },
  {
   "cell_type": "markdown",
   "id": "c3a3f7d6",
   "metadata": {},
   "source": [
    "배열 array의 i번째 숫자부터 j번째 숫자까지 자르고 정렬했을 때, k번째에 있는 수를 구하려 합니다.\n",
    "\n",
    "예를 들어 array가 [1, 5, 2, 6, 3, 7, 4], i = 2, j = 5, k = 3이라면\n",
    "\n",
    "array의 2번째부터 5번째까지 자르면 [5, 2, 6, 3]입니다.\n",
    "\n",
    "1에서 나온 배열을 정렬하면 [2, 3, 5, 6]입니다.\n",
    "\n",
    "2에서 나온 배열의 3번째 숫자는 5입니다.\n",
    "\n",
    "배열 array, [i, j, k]를 원소로 가진 2차원 배열 commands가 매개변수로 주어질 때, commands의 모든 원소에 대해 앞서 설명한 연산을 적용했을 때 나온 결과를 배열에 담아 return 하도록 solution 함수를 작성해주세요."
   ]
  },
  {
   "cell_type": "code",
   "execution_count": null,
   "id": "15899c0f",
   "metadata": {},
   "outputs": [],
   "source": [
    "#정답\n",
    "def solution(array, commands):\n",
    "    answer=[]\n",
    "    for i in commands :\n",
    "        cut = array[i[0]-1:i[1]]\n",
    "        answer.append(sorted(cut)[i[2]-1])\n",
    "    return answer"
   ]
  },
  {
   "cell_type": "code",
   "execution_count": null,
   "id": "84aff03d",
   "metadata": {},
   "outputs": [],
   "source": []
  }
 ],
 "metadata": {
  "kernelspec": {
   "display_name": "Python 3 (ipykernel)",
   "language": "python",
   "name": "python3"
  },
  "language_info": {
   "codemirror_mode": {
    "name": "ipython",
    "version": 3
   },
   "file_extension": ".py",
   "mimetype": "text/x-python",
   "name": "python",
   "nbconvert_exporter": "python",
   "pygments_lexer": "ipython3",
   "version": "3.10.9"
  }
 },
 "nbformat": 4,
 "nbformat_minor": 5
}
