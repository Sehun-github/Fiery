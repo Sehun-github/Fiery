{
 "cells": [
  {
   "cell_type": "markdown",
   "id": "1c95bf0c",
   "metadata": {},
   "source": [
    "## (Q15) 서울에서 김서방 찾기"
   ]
  },
  {
   "cell_type": "markdown",
   "id": "dc30446f",
   "metadata": {},
   "source": [
    "String형 배열 seoul의 element중 \"Kim\"의 위치 x를 찾아, \"김서방은 x에 있다\"는 String을 반환하는 함수, solution을 완성하세요. seoul에 \"Kim\"은 오직 한 번만 나타나며 잘못된 값이 입력되는 경우는 없습니다."
   ]
  },
  {
   "cell_type": "code",
   "execution_count": 5,
   "id": "de8aecd9",
   "metadata": {},
   "outputs": [],
   "source": [
    "def solution(seoul):\n",
    "    s = seoul.index(\"Kim\")\n",
    "    answer = print(f'김서방은 '+s+'에 있다')\n",
    "    return answer"
   ]
  },
  {
   "cell_type": "markdown",
   "id": "2da7d4b7",
   "metadata": {},
   "source": [
    "## (Q16) 나누어 떨어지는 숫자 배열"
   ]
  },
  {
   "cell_type": "markdown",
   "id": "d66b09f1",
   "metadata": {},
   "source": [
    "array의 각 element 중 divisor로 나누어 떨어지는 값을 오름차순으로 정렬한 배열을 반환하는 함수, solution을 작성해주세요.\n",
    "divisor로 나누어 떨어지는 element가 하나도 없다면 배열에 -1을 담아 반환하세요."
   ]
  },
  {
   "cell_type": "code",
   "execution_count": 6,
   "id": "c2aa26e4",
   "metadata": {},
   "outputs": [],
   "source": [
    "def solution(arr, divisor):\n",
    "    answer = []\n",
    "    for num in arr:\n",
    "        if num % divisor == 0:\n",
    "            answer.append(num)\n",
    "    if len(answer) == 0:\n",
    "        answer = [-1]\n",
    "    return list(sorted(answer))"
   ]
  },
  {
   "cell_type": "markdown",
   "id": "906c923e",
   "metadata": {},
   "source": [
    "## (Q17) 핸드폰 번호 가리기"
   ]
  },
  {
   "cell_type": "markdown",
   "id": "cfef788a",
   "metadata": {},
   "source": [
    "프로그래머스 모바일은 개인정보 보호를 위해 고지서를 보낼 때 고객들의 전화번호의 일부를 가립니다.\n",
    "전화번호가 문자열 phone_number로 주어졌을 때, 전화번호의 뒷 4자리를 제외한 나머지 숫자를 전부 *으로 가린 문자열을 리턴하는 함수, solution을 완성해주세요."
   ]
  },
  {
   "cell_type": "code",
   "execution_count": 7,
   "id": "79371b79",
   "metadata": {},
   "outputs": [],
   "source": [
    "def solution(phone_number):\n",
    "    answer = \"*\"*len(phone_number[:-4])+phone_number[-4:]\n",
    "    return answer"
   ]
  },
  {
   "cell_type": "markdown",
   "id": "83191e7a",
   "metadata": {},
   "source": [
    "## (Q18) 음양 더하기"
   ]
  },
  {
   "cell_type": "markdown",
   "id": "01cedcde",
   "metadata": {},
   "source": [
    "어떤 정수들이 있습니다. 이 정수들의 절댓값을 차례대로 담은 정수 배열 absolutes와 이 정수들의 부호를 차례대로 담은 불리언 배열 signs가 매개변수로 주어집니다. 실제 정수들의 합을 구하여 return 하도록 solution 함수를 완성해주세요."
   ]
  },
  {
   "cell_type": "code",
   "execution_count": 15,
   "id": "b5e8f664",
   "metadata": {},
   "outputs": [],
   "source": [
    "def solution(absolutes, signs):\n",
    "    answer = 0    \n",
    "    for i in range(len(absolutes)):\n",
    "        if (signs[i] == True):\n",
    "            answer += absolutes[i]\n",
    "        else:\n",
    "            answer -= absolutes[i]\n",
    "    return answer"
   ]
  },
  {
   "cell_type": "markdown",
   "id": "9693fe52",
   "metadata": {},
   "source": [
    "## (Q19) 없는 숫자 더하기"
   ]
  },
  {
   "cell_type": "markdown",
   "id": "ab3d5a11",
   "metadata": {},
   "source": [
    "0부터 9까지의 숫자 중 일부가 들어있는 정수 배열 numbers가 매개변수로 주어집니다. numbers에서 찾을 수 없는 0부터 9까지의 숫자를 모두 찾아 더한 수를 return 하도록 solution 함수를 완성해주세요."
   ]
  },
  {
   "cell_type": "code",
   "execution_count": 9,
   "id": "fab4e411",
   "metadata": {},
   "outputs": [],
   "source": [
    "def solution(numbers):\n",
    "    sum = 0\n",
    "    for i in range(1,10):\n",
    "        if i not in numbers:\n",
    "            sum += i\n",
    "    answer = sum\n",
    "    return answer"
   ]
  },
  {
   "cell_type": "markdown",
   "id": "85f9aaee",
   "metadata": {},
   "source": [
    "## (Q20) 제일 작은 수 제거하기"
   ]
  },
  {
   "cell_type": "markdown",
   "id": "016bee81",
   "metadata": {},
   "source": [
    "정수를 저장한 배열, arr 에서 가장 작은 수를 제거한 배열을 리턴하는 함수, solution을 완성해주세요. 단, 리턴하려는 배열이 빈 배열인 경우엔 배열에 -1을 채워 리턴하세요. 예를들어 arr이 [4,3,2,1]인 경우는 [4,3,2]를 리턴 하고, [10]면 [-1]을 리턴 합니다."
   ]
  },
  {
   "cell_type": "code",
   "execution_count": 13,
   "id": "b58ccc00",
   "metadata": {},
   "outputs": [],
   "source": [
    "def solution(arr):\n",
    "    answer = []\n",
    "    if len(arr)==1:\n",
    "        answer = [-1]\n",
    "    else:\n",
    "        answer = arr.remove(min(arr))\n",
    "    return answer"
   ]
  },
  {
   "cell_type": "code",
   "execution_count": 14,
   "id": "947b00ad",
   "metadata": {},
   "outputs": [],
   "source": [
    "#정답\n",
    "def solution(arr):\n",
    "    arr.remove(min(arr))\n",
    "    if len(arr)==0:\n",
    "        return [-1]\n",
    "    return arr"
   ]
  },
  {
   "cell_type": "markdown",
   "id": "99625914",
   "metadata": {},
   "source": [
    "## (Q21) 가운데 글자 가져오기"
   ]
  },
  {
   "cell_type": "markdown",
   "id": "3169f8a2",
   "metadata": {},
   "source": [
    "단어 s의 가운데 글자를 반환하는 함수, solution을 만들어 보세요. 단어의 길이가 짝수라면 가운데 두글자를 반환하면 됩니다."
   ]
  },
  {
   "cell_type": "code",
   "execution_count": 10,
   "id": "4099490a",
   "metadata": {},
   "outputs": [],
   "source": [
    "def solution(s):\n",
    "    if len(s)%2==0 :\n",
    "        m =len(s)//2\n",
    "        answer = s[m:m+2]\n",
    "    else :\n",
    "        m = round(len(s)//2+1,0)\n",
    "        answer = s[m]\n",
    "    return answer"
   ]
  },
  {
   "cell_type": "code",
   "execution_count": 16,
   "id": "c0452ba9",
   "metadata": {},
   "outputs": [],
   "source": [
    "#정답\n",
    "def solution(s):\n",
    "    if len(s)%2==1 :\n",
    "        a =len(s)//2\n",
    "        answer = s[int(a)]\n",
    "    else :\n",
    "        a = lend(s) /2\n",
    "        answer = s[int(a-1)]+s[int(a)]\n",
    "    return answer"
   ]
  },
  {
   "cell_type": "code",
   "execution_count": null,
   "id": "e59b5f17",
   "metadata": {},
   "outputs": [],
   "source": []
  }
 ],
 "metadata": {
  "kernelspec": {
   "display_name": "Python 3 (ipykernel)",
   "language": "python",
   "name": "python3"
  },
  "language_info": {
   "codemirror_mode": {
    "name": "ipython",
    "version": 3
   },
   "file_extension": ".py",
   "mimetype": "text/x-python",
   "name": "python",
   "nbconvert_exporter": "python",
   "pygments_lexer": "ipython3",
   "version": "3.10.9"
  }
 },
 "nbformat": 4,
 "nbformat_minor": 5
}
