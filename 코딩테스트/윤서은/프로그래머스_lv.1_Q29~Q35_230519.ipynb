{
 "cells": [
  {
   "cell_type": "markdown",
   "id": "1c95bf0c",
   "metadata": {},
   "source": [
    "## (Q29) 직사각형 별찍기"
   ]
  },
  {
   "cell_type": "markdown",
   "id": "dc30446f",
   "metadata": {},
   "source": [
    "이 문제에는 표준 입력으로 두 개의 정수 n과 m이 주어집니다.\n",
    "별(*) 문자를 이용해 가로의 길이가 n, 세로의 길이가 m인 직사각형 형태를 출력해보세요."
   ]
  },
  {
   "cell_type": "code",
   "execution_count": 2,
   "id": "de8aecd9",
   "metadata": {},
   "outputs": [
    {
     "name": "stdout",
     "output_type": "stream",
     "text": [
      "10 10\n",
      "**********\n",
      "**********\n",
      "**********\n",
      "**********\n",
      "**********\n",
      "**********\n",
      "**********\n",
      "**********\n",
      "**********\n",
      "**********\n"
     ]
    }
   ],
   "source": [
    "a, b = map(int, input().strip().split(' '))\n",
    "for i in range(1,b+1):\n",
    "    print('*' * a)"
   ]
  },
  {
   "cell_type": "code",
   "execution_count": null,
   "id": "e61f2410",
   "metadata": {},
   "outputs": [],
   "source": [
    "#정답\n",
    "a,b = map(int, input().strip().split(''))\n",
    "print(('*'*a+'\\n')*b)"
   ]
  },
  {
   "cell_type": "markdown",
   "id": "2da7d4b7",
   "metadata": {},
   "source": [
    "## (Q30) 최대공약수와 최소공배수"
   ]
  },
  {
   "cell_type": "markdown",
   "id": "d66b09f1",
   "metadata": {},
   "source": [
    "두 수를 입력받아 두 수의 최대공약수와 최소공배수를 반환하는 함수, solution을 완성해 보세요. 배열의 맨 앞에 최대공약수, 그다음 최소공배수를 넣어 반환하면 됩니다. 예를 들어 두 수 3, 12의 최대공약수는 3, 최소공배수는 12이므로 solution(3, 12)는 [3, 12]를 반환해야 합니다."
   ]
  },
  {
   "cell_type": "code",
   "execution_count": null,
   "id": "c2aa26e4",
   "metadata": {},
   "outputs": [],
   "source": [
    "def solution(n, m):\n",
    "    gcd_num = gcd(n, m)\n",
    "    lcm_num = n*m // gcd(n,m)\n",
    "    answer = [gcd_num, lcm_num]\n",
    "    return answer"
   ]
  },
  {
   "cell_type": "markdown",
   "id": "906c923e",
   "metadata": {},
   "source": [
    "## (Q31) 같은 숫자는 싫어"
   ]
  },
  {
   "cell_type": "markdown",
   "id": "cfef788a",
   "metadata": {},
   "source": [
    "배열 arr가 주어집니다. 배열 arr의 각 원소는 숫자 0부터 9까지로 이루어져 있습니다. 이때, 배열 arr에서 연속적으로 나타나는 숫자는 하나만 남기고 전부 제거하려고 합니다. 단, 제거된 후 남은 수들을 반환할 때는 배열 arr의 원소들의 순서를 유지해야 합니다. 예를 들면,\n",
    "\n",
    "arr = [1, 1, 3, 3, 0, 1, 1] 이면 [1, 3, 0, 1] 을 return 합니다.\n",
    "arr = [4, 4, 4, 3, 3] 이면 [4, 3] 을 return 합니다.\n",
    "배열 arr에서 연속적으로 나타나는 숫자는 제거하고 남은 수들을 return 하는 solution 함수를 완성해 주세요."
   ]
  },
  {
   "cell_type": "code",
   "execution_count": null,
   "id": "79371b79",
   "metadata": {},
   "outputs": [],
   "source": [
    "def solution(arr):\n",
    "    answer = []\n",
    "    for i in range(len(arr)):\n",
    "        if i == 0:\n",
    "            answer.append(arr[i])\n",
    "        else :\n",
    "            answer.append(arr[i])\n",
    "    return answer"
   ]
  },
  {
   "cell_type": "markdown",
   "id": "83191e7a",
   "metadata": {},
   "source": [
    "## (Q32) 3진법 뒤집기"
   ]
  },
  {
   "cell_type": "markdown",
   "id": "01cedcde",
   "metadata": {},
   "source": [
    "자연수 n이 매개변수로 주어집니다. n을 3진법 상에서 앞뒤로 뒤집은 후, 이를 다시 10진법으로 표현한 수를 return 하도록 solution 함수를 완성해주세요."
   ]
  },
  {
   "cell_type": "code",
   "execution_count": null,
   "id": "b5e8f664",
   "metadata": {},
   "outputs": [],
   "source": [
    "def solution(n):\n",
    "    temp = ''\n",
    "    while n:\n",
    "        temp += str(n % 3)\n",
    "        n = n//3\n",
    "    return int(temp, 3)"
   ]
  },
  {
   "cell_type": "code",
   "execution_count": null,
   "id": "cce09497",
   "metadata": {},
   "outputs": [],
   "source": [
    "#정답\n",
    "def solution(n):\n",
    "    answer = ''\n",
    "    while n > 0:\n",
    "        n, m = divmod(n, 3)\n",
    "        answer += str(m)\n",
    "    return int(answer, 3)"
   ]
  },
  {
   "cell_type": "markdown",
   "id": "9693fe52",
   "metadata": {},
   "source": [
    "## (Q33) 이상한 문자 만들기"
   ]
  },
  {
   "cell_type": "markdown",
   "id": "ab3d5a11",
   "metadata": {},
   "source": [
    "문자열 s는 한 개 이상의 단어로 구성되어 있습니다. 각 단어는 하나 이상의 공백문자로 구분되어 있습니다. 각 단어의 짝수번째 알파벳은 대문자로, 홀수번째 알파벳은 소문자로 바꾼 문자열을 리턴하는 함수, solution을 완성하세요."
   ]
  },
  {
   "cell_type": "code",
   "execution_count": null,
   "id": "fab4e411",
   "metadata": {},
   "outputs": [],
   "source": [
    "def solution(s):\n",
    "    answer = []\n",
    "    ss = s.split(\" \")\n",
    "    for w in ss:\n",
    "        ww =\"\"\n",
    "    for i range(len(ss)):\n",
    "        if i % 2 :\n",
    "            ww += ss[i].lower()\n",
    "        else:\n",
    "            ww += world[i].upper()\n",
    "    return ''.join(answer)"
   ]
  },
  {
   "cell_type": "markdown",
   "id": "85f9aaee",
   "metadata": {},
   "source": [
    "## (Q34) 예산"
   ]
  },
  {
   "cell_type": "markdown",
   "id": "016bee81",
   "metadata": {},
   "source": [
    "S사에서는 각 부서에 필요한 물품을 지원해 주기 위해 부서별로 물품을 구매하는데 필요한 금액을 조사했습니다. 그러나, 전체 예산이 정해져 있기 때문에 모든 부서의 물품을 구매해 줄 수는 없습니다. 그래서 최대한 많은 부서의 물품을 구매해 줄 수 있도록 하려고 합니다.\n",
    "\n",
    "물품을 구매해 줄 때는 각 부서가 신청한 금액만큼을 모두 지원해 줘야 합니다. 예를 들어 1,000원을 신청한 부서에는 정확히 1,000원을 지원해야 하며, 1,000원보다 적은 금액을 지원해 줄 수는 없습니다.\n",
    "\n",
    "부서별로 신청한 금액이 들어있는 배열 d와 예산 budget이 매개변수로 주어질 때, 최대 몇 개의 부서에 물품을 지원할 수 있는지 return 하도록 solution 함수를 완성해주세요."
   ]
  },
  {
   "cell_type": "code",
   "execution_count": null,
   "id": "b58ccc00",
   "metadata": {},
   "outputs": [],
   "source": [
    "def solution(d, budget):\n",
    "    anwer = 0\n",
    "    d.sort()\n",
    "    for i in range(len(d)):\n",
    "        if d[i] <= budget:\n",
    "            answer += 1\n",
    "            budget -= d[i]\n",
    "        else :\n",
    "            break\n",
    "    return answer"
   ]
  },
  {
   "cell_type": "code",
   "execution_count": null,
   "id": "7d085f5e",
   "metadata": {},
   "outputs": [],
   "source": [
    "#정답\n",
    "def solution(d, budget):\n",
    "    d.sort()\n",
    "    while budget < sum(d):\n",
    "        d.pop()\n",
    "    return len(d)"
   ]
  },
  {
   "cell_type": "markdown",
   "id": "99625914",
   "metadata": {},
   "source": [
    "## (Q35) 시저암호"
   ]
  },
  {
   "cell_type": "markdown",
   "id": "3169f8a2",
   "metadata": {},
   "source": [
    "어떤 문장의 각 알파벳을 일정한 거리만큼 밀어서 다른 알파벳으로 바꾸는 암호화 방식을 시저 암호라고 합니다. 예를 들어 \"AB\"는 1만큼 밀면 \"BC\"가 되고, 3만큼 밀면 \"DE\"가 됩니다. \"z\"는 1만큼 밀면 \"a\"가 됩니다. 문자열 s와 거리 n을 입력받아 s를 n만큼 민 암호문을 만드는 함수, solution을 완성해 보세요."
   ]
  },
  {
   "cell_type": "code",
   "execution_count": null,
   "id": "4099490a",
   "metadata": {},
   "outputs": [],
   "source": [
    "#정답\n",
    "def solution(s, n):\n",
    "    answer = ''\n",
    "    for c in list(s):\n",
    "        if c == \" \":\n",
    "            answer += \" \"\n",
    "        else:\n",
    "            if c.isupper():\n",
    "                answer += chr((ord(c) - ord(\"A\") + n) % 26 + ord(\"A\"))\n",
    "            elif c.islower():\n",
    "                answer += chr((ord(c) - ord(\"a\") + n) % 26 + ord(\"a\"))\n",
    "                \n",
    "    return answer"
   ]
  }
 ],
 "metadata": {
  "kernelspec": {
   "display_name": "Python 3 (ipykernel)",
   "language": "python",
   "name": "python3"
  },
  "language_info": {
   "codemirror_mode": {
    "name": "ipython",
    "version": 3
   },
   "file_extension": ".py",
   "mimetype": "text/x-python",
   "name": "python",
   "nbconvert_exporter": "python",
   "pygments_lexer": "ipython3",
   "version": "3.10.9"
  }
 },
 "nbformat": 4,
 "nbformat_minor": 5
}
