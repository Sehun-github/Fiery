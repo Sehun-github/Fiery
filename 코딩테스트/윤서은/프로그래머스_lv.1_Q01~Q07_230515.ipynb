{
 "cells": [
  {
   "cell_type": "markdown",
   "id": "b9a94af3",
   "metadata": {},
   "source": [
    "## (Q1) 자릿수 더하기"
   ]
  },
  {
   "cell_type": "markdown",
   "id": "206df733",
   "metadata": {},
   "source": [
    "자연수 N이 주어지면, N의 각 자릿수의 합을 구해서 return 하는 solution 함수를 만들어 주세요.\n",
    "예를들어 N = 123이면 1 + 2 + 3 = 6을 return 하면 됩니다."
   ]
  },
  {
   "cell_type": "code",
   "execution_count": 2,
   "id": "820bf415",
   "metadata": {},
   "outputs": [],
   "source": [
    "def solution(n):\n",
    "    answer = sum(map(int,list(str(n))))\n",
    "    return answer"
   ]
  },
  {
   "cell_type": "markdown",
   "id": "7119a377",
   "metadata": {},
   "source": [
    "## (Q2) 짝수와 홀수"
   ]
  },
  {
   "cell_type": "markdown",
   "id": "cf8dac22",
   "metadata": {},
   "source": [
    "정수 num이 짝수일 경우 \"Even\"을 반환하고 홀수인 경우 \"Odd\"를 반환하는 함수, solution을 완성해주세요."
   ]
  },
  {
   "cell_type": "code",
   "execution_count": 3,
   "id": "cc5256c7",
   "metadata": {},
   "outputs": [],
   "source": [
    "def solution(num):\n",
    "    if num%2==0 :\n",
    "        answer = \"Even\"\n",
    "    else :\n",
    "        answer = \"Odd\"\n",
    "    return answer"
   ]
  },
  {
   "cell_type": "markdown",
   "id": "e56b072b",
   "metadata": {},
   "source": [
    "## (Q3) 약수의 합"
   ]
  },
  {
   "cell_type": "markdown",
   "id": "b8aec115",
   "metadata": {},
   "source": [
    "정수 n을 입력받아 n의 약수를 모두 더한 값을 리턴하는 함수, solution을 완성해주세요."
   ]
  },
  {
   "cell_type": "code",
   "execution_count": null,
   "id": "cd78205c",
   "metadata": {},
   "outputs": [],
   "source": [
    "def solution(n):\n",
    "    for i in (i,i+1) :\n",
    "        if n%1 == 0 :\n",
    "            answer = sum(i)\n",
    "    return answer"
   ]
  },
  {
   "cell_type": "code",
   "execution_count": null,
   "id": "b194262d",
   "metadata": {},
   "outputs": [],
   "source": [
    "#정답\n",
    "def solution(n):\n",
    "    return sum([i for i in range(1,n) if n%i ==0])"
   ]
  },
  {
   "cell_type": "markdown",
   "id": "bd9963a4",
   "metadata": {},
   "source": [
    "## (Q4) 평균구하기"
   ]
  },
  {
   "cell_type": "markdown",
   "id": "db2b5a46",
   "metadata": {},
   "source": [
    "정수를 담고 있는 배열 arr의 평균값을 return하는 함수, solution을 완성해보세요."
   ]
  },
  {
   "cell_type": "code",
   "execution_count": 4,
   "id": "9bc31366",
   "metadata": {},
   "outputs": [],
   "source": [
    "def solution(arr):\n",
    "    answer = sum(arr)/len(arr)\n",
    "    return answer"
   ]
  },
  {
   "cell_type": "markdown",
   "id": "abf80aa4",
   "metadata": {},
   "source": [
    "## (Q5) 나머지 1이 되는 수 찾기"
   ]
  },
  {
   "cell_type": "markdown",
   "id": "fbf9cbc1",
   "metadata": {},
   "source": [
    "자연수 n이 매개변수로 주어집니다. n을 x로 나눈 나머지가 1이 되도록 하는 가장 작은 자연수 x를 return 하도록 solution 함수를 완성해주세요. 답이 항상 존재함은 증명될 수 있습니다."
   ]
  },
  {
   "cell_type": "code",
   "execution_count": null,
   "id": "b8a849bf",
   "metadata": {},
   "outputs": [],
   "source": [
    "def solution(n):\n",
    "    for i in range(1,n+1) :\n",
    "        if n%i==1 :\n",
    "            answer = i\n",
    "    return answer"
   ]
  },
  {
   "cell_type": "markdown",
   "id": "cdfc0acd",
   "metadata": {},
   "source": [
    "## (Q6) x만큼 간격이 있는 n개의 숫자"
   ]
  },
  {
   "cell_type": "markdown",
   "id": "c01ebabf",
   "metadata": {},
   "source": [
    "함수 solution은 정수 x와 자연수 n을 입력 받아, x부터 시작해 x씩 증가하는 숫자를 n개 지니는 리스트를 리턴해야 합니다. 다음 제한 조건을 보고, 조건을 만족하는 함수, solution을 완성해주세요."
   ]
  },
  {
   "cell_type": "code",
   "execution_count": null,
   "id": "f4619a4e",
   "metadata": {},
   "outputs": [],
   "source": [
    "def solution(x, n):\n",
    "    answer = []\n",
    "    for i in range(1,n+1):\n",
    "        answer.append(x*i)\n",
    "    return answer"
   ]
  },
  {
   "cell_type": "markdown",
   "id": "985ce797",
   "metadata": {},
   "source": [
    "## (Q7) 문자열 내 p와 y의 개수"
   ]
  },
  {
   "cell_type": "markdown",
   "id": "c3a3f7d6",
   "metadata": {},
   "source": [
    "대문자와 소문자가 섞여있는 문자열 s가 주어집니다. s에 'p'의 개수와 'y'의 개수를 비교해 같으면 True, 다르면 False를 return 하는 solution를 완성하세요. 'p', 'y' 모두 하나도 없는 경우는 항상 True를 리턴합니다. 단, 개수를 비교할 때 대문자와 소문자는 구별하지 않습니다.\n",
    "\n",
    "예를 들어 s가 \"pPoooyY\"면 true를 return하고 \"Pyy\"라면 false를 return합니다."
   ]
  },
  {
   "cell_type": "code",
   "execution_count": null,
   "id": "15899c0f",
   "metadata": {},
   "outputs": [],
   "source": [
    "def solution(s):\n",
    "    s = s.lower()\n",
    "    if s.count('p')==s.count('y'):\n",
    "        answer = True\n",
    "    else :\n",
    "        answer = False\n",
    "    return True"
   ]
  },
  {
   "cell_type": "code",
   "execution_count": null,
   "id": "84aff03d",
   "metadata": {},
   "outputs": [],
   "source": [
    "#정답\n",
    "def solution(s):\n",
    "    s = s.lower()\n",
    "    return s.count(\"p\") == s.count(\"y\")"
   ]
  }
 ],
 "metadata": {
  "kernelspec": {
   "display_name": "Python 3 (ipykernel)",
   "language": "python",
   "name": "python3"
  },
  "language_info": {
   "codemirror_mode": {
    "name": "ipython",
    "version": 3
   },
   "file_extension": ".py",
   "mimetype": "text/x-python",
   "name": "python",
   "nbconvert_exporter": "python",
   "pygments_lexer": "ipython3",
   "version": "3.10.9"
  }
 },
 "nbformat": 4,
 "nbformat_minor": 5
}
