{
 "cells": [
  {
   "cell_type": "markdown",
   "id": "b9a94af3",
   "metadata": {},
   "source": [
    "## (Q64) 완주하지 못한 선수"
   ]
  },
  {
   "cell_type": "markdown",
   "id": "206df733",
   "metadata": {},
   "source": [
    "수많은 마라톤 선수들이 마라톤에 참여하였습니다. 단 한 명의 선수를 제외하고는 모든 선수가 마라톤을 완주하였습니다.\n",
    "\n",
    "마라톤에 참여한 선수들의 이름이 담긴 배열 participant와 완주한 선수들의 이름이 담긴 배열 completion이 주어질 때, 완주하지 못한 선수의 이름을 return 하도록 solution 함수를 작성해주세요."
   ]
  },
  {
   "cell_type": "code",
   "execution_count": 1,
   "id": "820bf415",
   "metadata": {},
   "outputs": [],
   "source": [
    "def solution(participant, completion):\n",
    "    dict_ = {}\n",
    "    for x in participant :\n",
    "        dict_[x] = dict_.get(x,0) + 1\n",
    "    for x in completion :\n",
    "        dict_[x] -= 1\n",
    "    \n",
    "    for x in participant :\n",
    "        if dict_.get(x) == 1 :\n",
    "            return x"
   ]
  },
  {
   "cell_type": "markdown",
   "id": "7119a377",
   "metadata": {},
   "source": [
    "## (Q65) 문자열 나누기"
   ]
  },
  {
   "cell_type": "markdown",
   "id": "cf8dac22",
   "metadata": {},
   "source": [
    "문자열 s가 입력되었을 때 다음 규칙을 따라서 이 문자열을 여러 문자열로 분해하려고 합니다.\n",
    "\n",
    "먼저 첫 글자를 읽습니다. 이 글자를 x라고 합시다.\n",
    "이제 이 문자열을 왼쪽에서 오른쪽으로 읽어나가면서, x와 x가 아닌 다른 글자들이 나온 횟수를 각각 셉니다. 처음으로 두 횟수가 같아지는 순간 멈추고, 지금까지 읽은 문자열을 분리합니다.\n",
    "s에서 분리한 문자열을 빼고 남은 부분에 대해서 이 과정을 반복합니다. 남은 부분이 없다면 종료합니다.\n",
    "만약 두 횟수가 다른 상태에서 더 이상 읽을 글자가 없다면, 역시 지금까지 읽은 문자열을 분리하고, 종료합니다.\n",
    "문자열 s가 매개변수로 주어질 때, 위 과정과 같이 문자열들로 분해하고, 분해한 문자열의 개수를 return 하는 함수 solution을 완성하세요."
   ]
  },
  {
   "cell_type": "code",
   "execution_count": 2,
   "id": "cc5256c7",
   "metadata": {},
   "outputs": [],
   "source": [
    "def solution(s):\n",
    "    answer = 0\n",
    "    a,b =0,0\n",
    "    c = s[0]\n",
    "    for n,i in enumerate(s) :\n",
    "        if c == i :\n",
    "            a +=1\n",
    "        else :\n",
    "            b+=1\n",
    "        \n",
    "        if n==len(s)-1:\n",
    "            answer+=1        \n",
    "        elif a==b  :\n",
    "            a,b=0,0\n",
    "            c= s[n+1]\n",
    "            answer+=1\n",
    "    return answer"
   ]
  },
  {
   "cell_type": "markdown",
   "id": "e56b072b",
   "metadata": {},
   "source": [
    "## (Q66) 크레인 인형뽑기 게임"
   ]
  },
  {
   "cell_type": "markdown",
   "id": "b8aec115",
   "metadata": {},
   "source": [
    "게임 화면은 \"1 x 1\" 크기의 칸들로 이루어진 \"N x N\" 크기의 정사각 격자이며 위쪽에는 크레인이 있고 오른쪽에는 바구니가 있습니다. (위 그림은 \"5 x 5\" 크기의 예시입니다). 각 격자 칸에는 다양한 인형이 들어 있으며 인형이 없는 칸은 빈칸입니다. 모든 인형은 \"1 x 1\" 크기의 격자 한 칸을 차지하며 격자의 가장 아래 칸부터 차곡차곡 쌓여 있습니다. 게임 사용자는 크레인을 좌우로 움직여서 멈춘 위치에서 가장 위에 있는 인형을 집어 올릴 수 있습니다. 집어 올린 인형은 바구니에 쌓이게 되는 데, 이때 바구니의 가장 아래 칸부터 인형이 순서대로 쌓이게 됩니다. 다음 그림은 [1번, 5번, 3번] 위치에서 순서대로 인형을 집어 올려 바구니에 담은 모습입니다.\n",
    "\n",
    "크레인 작동 시 인형이 집어지지 않는 경우는 없으나 만약 인형이 없는 곳에서 크레인을 작동시키는 경우에는 아무런 일도 일어나지 않습니다. 또한 바구니는 모든 인형이 들어갈 수 있을 만큼 충분히 크다고 가정합니다. (그림에서는 화면표시 제약으로 5칸만으로 표현하였음)\n",
    "\n",
    "게임 화면의 격자의 상태가 담긴 2차원 배열 board와 인형을 집기 위해 크레인을 작동시킨 위치가 담긴 배열 moves가 매개변수로 주어질 때, 크레인을 모두 작동시킨 후 터트려져 사라진 인형의 개수를 return 하도록 solution 함수를 완성해주세요."
   ]
  },
  {
   "cell_type": "code",
   "execution_count": 3,
   "id": "cd78205c",
   "metadata": {},
   "outputs": [],
   "source": [
    "board = [[0,0,0,0,0],\n",
    "         [0,0,1,0,3],\n",
    "         [0,2,5,0,1],\n",
    "         [4,2,4,4,2],\n",
    "         [3,5,1,3,1]]\n",
    "\n",
    "moves = [1,5,3,5,1,2,1,4]"
   ]
  },
  {
   "cell_type": "markdown",
   "id": "bd9963a4",
   "metadata": {},
   "source": [
    "## (Q67) 키패드 누르기"
   ]
  },
  {
   "cell_type": "markdown",
   "id": "db2b5a46",
   "metadata": {},
   "source": [
    "이 전화 키패드에서 왼손과 오른손의 엄지손가락만을 이용해서 숫자만을 입력하려고 합니다. 맨 처음 왼손 엄지손가락은 * 키패드에 오른손 엄지손가락은 # 키패드 위치에서 시작하며, 엄지손가락을 사용하는 규칙은 다음과 같습니다.\n",
    "\n",
    "엄지손가락은 상하좌우 4가지 방향으로만 이동할 수 있으며 키패드 이동 한 칸은 거리로 1에 해당합니다.\n",
    "왼쪽 열의 3개의 숫자 1, 4, 7을 입력할 때는 왼손 엄지손가락을 사용합니다.\n",
    "오른쪽 열의 3개의 숫자 3, 6, 9를 입력할 때는 오른손 엄지손가락을 사용합니다.\n",
    "가운데 열의 4개의 숫자 2, 5, 8, 0을 입력할 때는 두 엄지손가락의 현재 키패드의 위치에서 더 가까운 엄지손가락을 사용합니다.\n",
    "4-1. 만약 두 엄지손가락의 거리가 같다면, 오른손잡이는 오른손 엄지손가락, 왼손잡이는 왼손 엄지손가락을 사용합니다.\n",
    "\n",
    "순서대로 누를 번호가 담긴 배열 numbers, 왼손잡이인지 오른손잡이인 지를 나타내는 문자열 hand가 매개변수로 주어질 때, 각 번호를 누른 엄지손가락이 왼손인 지 오른손인 지를 나타내는 연속된 문자열 형태로 return 하도록 solution 함수를 완성해주세요."
   ]
  },
  {
   "cell_type": "code",
   "execution_count": 5,
   "id": "9bc31366",
   "metadata": {},
   "outputs": [],
   "source": [
    "#정답\n",
    "def get_dist(start, end):\n",
    "    return abs((start - 1) % 3 - (end - 1) % 3) + abs((start - 1) // 3 - (end - 1) // 3)\n",
    "\n",
    "def solution(numbers, hand):\n",
    "    left = [1, 4, 7]\n",
    "    right = [3, 6, 9]\n",
    "    l_idx = 10;r_idx = 12;\n",
    "    answer = ''\n",
    "    for n in numbers:\n",
    "        if n in left:\n",
    "            answer += \"L\"\n",
    "            l_idx = n\n",
    "        elif n in right:\n",
    "            answer += \"R\"\n",
    "            r_idx = n\n",
    "        else:\n",
    "            if n == 0:\n",
    "                n = 11\n",
    "            if(get_dist(l_idx, n) < get_dist(r_idx, n)):\n",
    "                answer += \"L\"\n",
    "                l_idx = n\n",
    "            elif(get_dist(l_idx, n) > get_dist(r_idx, n)):\n",
    "                answer += \"R\"\n",
    "                r_idx = n\n",
    "            else:\n",
    "                if(hand[0] == \"l\"):\n",
    "                    answer += \"L\"\n",
    "                    l_idx = n\n",
    "                else:\n",
    "                    answer += \"R\"\n",
    "                    r_idx = n\n",
    "    return answer"
   ]
  },
  {
   "cell_type": "markdown",
   "id": "abf80aa4",
   "metadata": {},
   "source": [
    "## (Q68) 신규 아이디 추천"
   ]
  },
  {
   "cell_type": "markdown",
   "id": "fbf9cbc1",
   "metadata": {},
   "source": [
    "카카오에 입사한 신입 개발자 네오는 \"카카오계정개발팀\"에 배치되어, 카카오 서비스에 가입하는 유저들의 아이디를 생성하는 업무를 담당하게 되었습니다. \"네오\"에게 주어진 첫 업무는 새로 가입하는 유저들이 카카오 아이디 규칙에 맞지 않는 아이디를 입력했을 때, 입력된 아이디와 유사하면서 규칙에 맞는 아이디를 추천해주는 프로그램을 개발하는 것입니다."
   ]
  },
  {
   "cell_type": "code",
   "execution_count": 6,
   "id": "b8a849bf",
   "metadata": {},
   "outputs": [],
   "source": [
    "#정답\n",
    "def solution(new_id):\n",
    "    txt = re.sub(r'[^0-9|a-z|\\-|_|.]', '', new_id.lower())\n",
    "    txt = re.sub(r'\\.{2,}', '.', txt)\n",
    "    txt = re.sub(r\"^\\.\", '', txt)\n",
    "    if not txt: txt = \"a\"\n",
    "    txt = txt[:15]\n",
    "    txt = re.sub(r\"\\.$\", '', txt)\n",
    "    if len(txt) <= 2:\n",
    "        while len(txt) != 3:\n",
    "            txt += txt[-1]\n",
    "    \n",
    "    return txt"
   ]
  },
  {
   "cell_type": "markdown",
   "id": "cdfc0acd",
   "metadata": {},
   "source": [
    "## (Q69) 대충 만든 자판"
   ]
  },
  {
   "cell_type": "markdown",
   "id": "c01ebabf",
   "metadata": {},
   "source": [
    "휴대폰의 자판은 컴퓨터 키보드 자판과는 다르게 하나의 키에 여러 개의 문자가 할당될 수 있습니다. 키 하나에 여러 문자가 할당된 경우, 동일한 키를 연속해서 빠르게 누르면 할당된 순서대로 문자가 바뀝니다.\n",
    "\n",
    "예를 들어, 1번 키에 \"A\", \"B\", \"C\" 순서대로 문자가 할당되어 있다면 1번 키를 한 번 누르면 \"A\", 두 번 누르면 \"B\", 세 번 누르면 \"C\"가 되는 식입니다.\n",
    "\n",
    "같은 규칙을 적용해 아무렇게나 만든 휴대폰 자판이 있습니다. 이 휴대폰 자판은 키의 개수가 1개부터 최대 100개까지 있을 수 있으며, 특정 키를 눌렀을 때 입력되는 문자들도 무작위로 배열되어 있습니다. 또, 같은 문자가 자판 전체에 여러 번 할당된 경우도 있고, 키 하나에 같은 문자가 여러 번 할당된 경우도 있습니다. 심지어 아예 할당되지 않은 경우도 있습니다. 따라서 몇몇 문자열은 작성할 수 없을 수도 있습니다.\n",
    "\n",
    "이 휴대폰 자판을 이용해 특정 문자열을 작성할 때, 키를 최소 몇 번 눌러야 그 문자열을 작성할 수 있는지 알아보고자 합니다.\n",
    "\n",
    "1번 키부터 차례대로 할당된 문자들이 순서대로 담긴 문자열배열 keymap과 입력하려는 문자열들이 담긴 문자열 배열 targets가 주어질 때, 각 문자열을 작성하기 위해 키를 최소 몇 번씩 눌러야 하는지 순서대로 배열에 담아 return 하는 solution 함수를 완성해 주세요.\n",
    "\n",
    "단, 목표 문자열을 작성할 수 없을 때는 -1을 저장합니다."
   ]
  },
  {
   "cell_type": "code",
   "execution_count": 7,
   "id": "f4619a4e",
   "metadata": {},
   "outputs": [],
   "source": [
    "def solution(keymap, targets):\n",
    "    str_keymap = ''.join(i for i in keymap)\n",
    "    str_list = set(str_keymap)\n",
    "    answer = []\n",
    "    for i in targets :\n",
    "        num = 0\n",
    "        for j in i:\n",
    "            if j in str_list:\n",
    "                num+= min([keypad.find(j) for keypad in keymap if keypad.find(j)!= -1])+1\n",
    "            else:\n",
    "                num = 0\n",
    "                answer.append(-1)\n",
    "                break   \n",
    "        if num != 0:        \n",
    "            answer.append(num)\n",
    "            \n",
    "    return answer"
   ]
  },
  {
   "cell_type": "markdown",
   "id": "985ce797",
   "metadata": {},
   "source": [
    "## (Q70) 둘만의 암호"
   ]
  },
  {
   "cell_type": "markdown",
   "id": "c3a3f7d6",
   "metadata": {},
   "source": [
    "두 문자열 s와 skip, 그리고 자연수 index가 주어질 때, 다음 규칙에 따라 문자열을 만들려 합니다. 암호의 규칙은 다음과 같습니다.\n",
    "\n",
    "문자열 s의 각 알파벳을 index만큼 뒤의 알파벳으로 바꿔줍니다.\n",
    "index만큼의 뒤의 알파벳이 z를 넘어갈 경우 다시 a로 돌아갑니다.\n",
    "skip에 있는 알파벳은 제외하고 건너뜁니다.\n",
    "예를 들어 s = \"aukks\", skip = \"wbqd\", index = 5일 때, a에서 5만큼 뒤에 있는 알파벳은 f지만 [b, c, d, e, f]에서 'b'와 'd'는 skip에 포함되므로 세지 않습니다. 따라서 'b', 'd'를 제외하고 'a'에서 5만큼 뒤에 있는 알파벳은 [c, e, f, g, h] 순서에 의해 'h'가 됩니다. 나머지 \"ukks\" 또한 위 규칙대로 바꾸면 \"appy\"가 되며 결과는 \"happy\"가 됩니다.\n",
    "\n",
    "두 문자열 s와 skip, 그리고 자연수 index가 매개변수로 주어질 때 위 규칙대로 s를 변환한 결과를 return하도록 solution 함수를 완성해주세요."
   ]
  },
  {
   "cell_type": "code",
   "execution_count": null,
   "id": "15899c0f",
   "metadata": {},
   "outputs": [],
   "source": []
  },
  {
   "cell_type": "code",
   "execution_count": null,
   "id": "84aff03d",
   "metadata": {},
   "outputs": [],
   "source": []
  }
 ],
 "metadata": {
  "kernelspec": {
   "display_name": "Python 3 (ipykernel)",
   "language": "python",
   "name": "python3"
  },
  "language_info": {
   "codemirror_mode": {
    "name": "ipython",
    "version": 3
   },
   "file_extension": ".py",
   "mimetype": "text/x-python",
   "name": "python",
   "nbconvert_exporter": "python",
   "pygments_lexer": "ipython3",
   "version": "3.10.9"
  }
 },
 "nbformat": 4,
 "nbformat_minor": 5
}
