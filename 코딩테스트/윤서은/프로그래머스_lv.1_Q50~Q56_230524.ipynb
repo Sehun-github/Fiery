{
 "cells": [
  {
   "cell_type": "markdown",
   "id": "b9a94af3",
   "metadata": {},
   "source": [
    "## (Q50) 명예의 전당"
   ]
  },
  {
   "cell_type": "markdown",
   "id": "206df733",
   "metadata": {},
   "source": [
    "\"명예의 전당\"이라는 TV 프로그램에서는 매일 1명의 가수가 노래를 부르고, 시청자들의 문자 투표수로 가수에게 점수를 부여합니다. 매일 출연한 가수의 점수가 지금까지 출연 가수들의 점수 중 상위 k번째 이내이면 해당 가수의 점수를 명예의 전당이라는 목록에 올려 기념합니다. 즉 프로그램 시작 이후 초기에 k일까지는 모든 출연 가수의 점수가 명예의 전당에 오르게 됩니다. k일 다음부터는 출연 가수의 점수가 기존의 명예의 전당 목록의 k번째 순위의 가수 점수보다 더 높으면, 출연 가수의 점수가 명예의 전당에 오르게 되고 기존의 k번째 순위의 점수는 명예의 전당에서 내려오게 됩니다.\n",
    "\n",
    "이 프로그램에서는 매일 \"명예의 전당\"의 최하위 점수를 발표합니다. 예를 들어, k = 3이고, 7일 동안 진행된 가수의 점수가 [10, 100, 20, 150, 1, 100, 200]이라면, 명예의 전당에서 발표된 점수는 아래의 그림과 같이 [10, 10, 10, 20, 20, 100, 100]입니다.\n",
    "\n",
    "명예의 전당 목록의 점수의 개수 k, 1일부터 마지막 날까지 출연한 가수들의 점수인 score가 주어졌을 때, 매일 발표된 명예의 전당의 최하위 점수를 return하는 solution 함수를 완성해주세요."
   ]
  },
  {
   "cell_type": "code",
   "execution_count": 2,
   "id": "820bf415",
   "metadata": {},
   "outputs": [],
   "source": [
    "def solution(k, score):\n",
    "    q = []\n",
    "    answer = []\n",
    "    for s in score:\n",
    "        q.append(s)\n",
    "        if (len(q) > k):\n",
    "            q.remove(min(q))\n",
    "        answer.append(min(q))\n",
    "    return answer"
   ]
  },
  {
   "cell_type": "markdown",
   "id": "7119a377",
   "metadata": {},
   "source": [
    "## (Q51) 모의고사"
   ]
  },
  {
   "cell_type": "markdown",
   "id": "cf8dac22",
   "metadata": {},
   "source": [
    "수포자는 수학을 포기한 사람의 준말입니다. 수포자 삼인방은 모의고사에 수학 문제를 전부 찍으려 합니다. 수포자는 1번 문제부터 마지막 문제까지 다음과 같이 찍습니다.\n",
    "\n",
    "1번 수포자가 찍는 방식: 1, 2, 3, 4, 5, 1, 2, 3, 4, 5, ... 2번 수포자가 찍는 방식: 2, 1, 2, 3, 2, 4, 2, 5, 2, 1, 2, 3, 2, 4, 2, 5, ... 3번 수포자가 찍는 방식: 3, 3, 1, 1, 2, 2, 4, 4, 5, 5, 3, 3, 1, 1, 2, 2, 4, 4, 5, 5, ...\n",
    "\n",
    "1번 문제부터 마지막 문제까지의 정답이 순서대로 들은 배열 answers가 주어졌을 때, 가장 많은 문제를 맞힌 사람이 누구인지 배열에 담아 return 하도록 solution 함수를 작성해주세요"
   ]
  },
  {
   "cell_type": "code",
   "execution_count": 3,
   "id": "cc5256c7",
   "metadata": {},
   "outputs": [],
   "source": [
    "def solution(a):\n",
    "    n1 = [1,2,3,4,5]\n",
    "    n2 = [2,1,2,3,2,4,2,5]\n",
    "    n3 = [3,3,1,1,2,2,4,4,5,5]\n",
    "    c = [0, 0, 0]\n",
    "    r = []\n",
    "    for i, j in enumerate(a):\n",
    "        if j == n1[i % len(n1)]:\n",
    "            c[0] += 1\n",
    "        if j == n2[i % len(n2)]:\n",
    "            c[1] += 1\n",
    "        if j == n3[i % len(n3)]:\n",
    "            c[2] += 1\n",
    "    for x, y in enumerate(c, 1):\n",
    "        if y == max(c):\n",
    "            r.append(x)\n",
    "    return r"
   ]
  },
  {
   "cell_type": "markdown",
   "id": "e56b072b",
   "metadata": {},
   "source": [
    "## (Q52) 소수만들기"
   ]
  },
  {
   "cell_type": "markdown",
   "id": "b8aec115",
   "metadata": {},
   "source": [
    "주어진 숫자 중 3개의 수를 더했을 때 소수가 되는 경우의 개수를 구하려고 합니다. 숫자들이 들어있는 배열 nums가 매개변수로 주어질 때, nums에 있는 숫자들 중 서로 다른 3개를 골라 더했을 때 소수가 되는 경우의 개수를 return 하도록 solution 함수를 완성해주세요."
   ]
  },
  {
   "cell_type": "code",
   "execution_count": 4,
   "id": "cd78205c",
   "metadata": {},
   "outputs": [],
   "source": [
    "def solution(nums):\n",
    "    answer = 0\n",
    "    for i in range(len(nums)):\n",
    "        for j in range(i+1, len(nums)):\n",
    "            for k in range(j+1, len(nums)):\n",
    "                number = nums[i] + nums[j] + nums[k]\n",
    "                if len([m for m in range(2, number) if number % m == 0]) == 0:\n",
    "                    answer += 1\n",
    "    return answer"
   ]
  },
  {
   "cell_type": "markdown",
   "id": "bd9963a4",
   "metadata": {},
   "source": [
    "## (Q53) 소수찾기"
   ]
  },
  {
   "cell_type": "markdown",
   "id": "db2b5a46",
   "metadata": {},
   "source": [
    "1부터 입력받은 숫자 n 사이에 있는 소수의 개수를 반환하는 함수, solution을 만들어 보세요.\n",
    "\n",
    "소수는 1과 자기 자신으로만 나누어지는 수를 의미합니다. (1은 소수가 아닙니다.)"
   ]
  },
  {
   "cell_type": "code",
   "execution_count": 5,
   "id": "9bc31366",
   "metadata": {},
   "outputs": [],
   "source": [
    "def solution(n):\n",
    "    answer = 0   \n",
    "    for i in range(2, n+1):\n",
    "        mod = 0\n",
    "        for j in range(2, n):\n",
    "            if i % j == 0: \n",
    "                mod += 1                \n",
    "                break\n",
    "        if mod == 0: \n",
    "            answer += 1\n",
    "    return answer"
   ]
  },
  {
   "cell_type": "code",
   "execution_count": 6,
   "id": "8f54f644",
   "metadata": {},
   "outputs": [],
   "source": [
    "#정답\n",
    "def solution(n):\n",
    "    arr = set(range(2, n+1))\n",
    "    for i in range(2, n+1):\n",
    "        if i in arr: # 남은 수 중 가장 작은 i\n",
    "            arr -= set(range(2*i, n+1, i))\n",
    "    return len(arr)"
   ]
  },
  {
   "cell_type": "markdown",
   "id": "abf80aa4",
   "metadata": {},
   "source": [
    "## (Q54) 과일 장수"
   ]
  },
  {
   "cell_type": "markdown",
   "id": "fbf9cbc1",
   "metadata": {},
   "source": [
    "과일 장수가 사과 상자를 포장하고 있습니다. 사과는 상태에 따라 1점부터 k점까지의 점수로 분류하며, k점이 최상품의 사과이고 1점이 최하품의 사과입니다. 사과 한 상자의 가격은 다음과 같이 결정됩니다.\n",
    "\n",
    "한 상자에 사과를 m개씩 담아 포장합니다.\n",
    "상자에 담긴 사과 중 가장 낮은 점수가 p (1 ≤ p ≤ k)점인 경우, 사과 한 상자의 가격은 p * m 입니다.\n",
    "과일 장수가 가능한 많은 사과를 팔았을 때, 얻을 수 있는 최대 이익을 계산하고자 합니다.(사과는 상자 단위로만 판매하며, 남는 사과는 버립니다)\n",
    "\n",
    "예를 들어, k = 3, m = 4, 사과 7개의 점수가 [1, 2, 3, 1, 2, 3, 1]이라면, 다음과 같이 [2, 3, 2, 3]으로 구성된 사과 상자 1개를 만들어 판매하여 최대 이익을 얻을 수 있습니다.\n",
    "\n",
    "(최저 사과 점수) x (한 상자에 담긴 사과 개수) x (상자의 개수) = 2 x 4 x 1 = 8\n",
    "\n",
    "사과의 최대 점수 k, 한 상자에 들어가는 사과의 수 m, 사과들의 점수 score가 주어졌을 때, 과일 장수가 얻을 수 있는 최대 이익을 return하는 solution 함수를 완성해주세요."
   ]
  },
  {
   "cell_type": "code",
   "execution_count": 7,
   "id": "b8a849bf",
   "metadata": {},
   "outputs": [],
   "source": [
    "def solution(k, m, score):\n",
    "    from collections import Counter\n",
    "    d=dict(Counter(score))\n",
    "    price = 0 \n",
    "    for i in range(k, 0, -1):\n",
    "        if i in d:\n",
    "            if d[i] // m > 0:\n",
    "                price += i * (d[i] // m) * m\n",
    "                d[i] -= (d[i] // m) * m\n",
    "                if d[i] > 0:\n",
    "                    cnt = i\n",
    "                    while cnt > 0:\n",
    "                        if cnt-1 in d:\n",
    "                            d[cnt-1] += d[i]\n",
    "                            d[i] -= d[i]\n",
    "                            break\n",
    "                        cnt -= 1\n",
    "            elif d[i] % m != 0:\n",
    "                cnt2 = i\n",
    "                while cnt2 > 0:\n",
    "                    if cnt2-1 in d:\n",
    "                        d[cnt2-1] += d[i]\n",
    "                        break\n",
    "                    cnt2 -= 1\n",
    "    return price"
   ]
  },
  {
   "cell_type": "code",
   "execution_count": 8,
   "id": "51b21cea",
   "metadata": {},
   "outputs": [],
   "source": [
    "def solution(k, m, score):\n",
    "    return sum(sorted(score)[len(score) % m::m]) * m"
   ]
  },
  {
   "cell_type": "markdown",
   "id": "cdfc0acd",
   "metadata": {},
   "source": [
    "## (Q55) 실패율"
   ]
  },
  {
   "cell_type": "markdown",
   "id": "c01ebabf",
   "metadata": {},
   "source": [
    "슈퍼 게임 개발자 오렐리는 큰 고민에 빠졌다. 그녀가 만든 프랜즈 오천성이 대성공을 거뒀지만, 요즘 신규 사용자의 수가 급감한 것이다. 원인은 신규 사용자와 기존 사용자 사이에 스테이지 차이가 너무 큰 것이 문제였다.\n",
    "\n",
    "이 문제를 어떻게 할까 고민 한 그녀는 동적으로 게임 시간을 늘려서 난이도를 조절하기로 했다. 역시 슈퍼 개발자라 대부분의 로직은 쉽게 구현했지만, 실패율을 구하는 부분에서 위기에 빠지고 말았다. 오렐리를 위해 실패율을 구하는 코드를 완성하라.\n",
    "\n",
    "실패율은 다음과 같이 정의한다. 스테이지에 도달했으나 아직 클리어하지 못한 플레이어의 수 / 스테이지에 도달한 플레이어 수 전체 스테이지의 개수 N, 게임을 이용하는 사용자가 현재 멈춰있는 스테이지의 번호가 담긴 배열 stages가 매개변수로 주어질 때, 실패율이 높은 스테이지부터 내림차순으로 스테이지의 번호가 담겨있는 배열을 return 하도록 solution 함수를 완성하라."
   ]
  },
  {
   "cell_type": "code",
   "execution_count": 9,
   "id": "f4619a4e",
   "metadata": {},
   "outputs": [],
   "source": [
    "#정답\n",
    "def solution(n, s):\n",
    "    d = {}\n",
    "    bun_mo = len(s)\n",
    "    for stg in range(1, n + 1):\n",
    "        if bun_mo != 0:\n",
    "            bun_ja = s.count(stg)\n",
    "            d[stg] = bun_ja / bun_mo\n",
    "            bun_mo -= bun_ja\n",
    "        else:\n",
    "            d[stg] = 0\n",
    "    return sorted(d, key = lambda x : d[x], reverse=True)"
   ]
  },
  {
   "cell_type": "markdown",
   "id": "985ce797",
   "metadata": {},
   "source": [
    "## (Q56) 카드 뭉치"
   ]
  },
  {
   "cell_type": "markdown",
   "id": "c3a3f7d6",
   "metadata": {},
   "source": [
    "코니는 영어 단어가 적힌 카드 뭉치 두 개를 선물로 받았습니다. 코니는 다음과 같은 규칙으로 카드에 적힌 단어들을 사용해 원하는 순서의 단어 배열을 만들 수 있는지 알고 싶습니다.\n",
    "\n",
    "원하는 카드 뭉치에서 카드를 순서대로 한 장씩 사용합니다. 한 번 사용한 카드는 다시 사용할 수 없습니다. 카드를 사용하지 않고 다음 카드로 넘어갈 수 없습니다. 기존에 주어진 카드 뭉치의 단어 순서는 바꿀 수 없습니다. 예를 들어 첫 번째 카드 뭉치에 순서대로 [\"i\", \"drink\", \"water\"], 두 번째 카드 뭉치에 순서대로 [\"want\", \"to\"]가 적혀있을 때 [\"i\", \"want\", \"to\", \"drink\", \"water\"] 순서의 단어 배열을 만들려고 한다면 첫 번째 카드 뭉치에서 \"i\"를 사용한 후 두 번째 카드 뭉치에서 \"want\"와 \"to\"를 사용하고 첫 번째 카드뭉치에 \"drink\"와 \"water\"를 차례대로 사용하면 원하는 순서의 단어 배열을 만들 수 있습니다.\n",
    "\n",
    "문자열로 이루어진 배열 cards1, cards2와 원하는 단어 배열 goal이 매개변수로 주어질 때, cards1과 cards2에 적힌 단어들로 goal를 만들 있다면 \"Yes\"를, 만들 수 없다면 \"No\"를 return하는 solution 함수를 완성해주세요."
   ]
  },
  {
   "cell_type": "code",
   "execution_count": 10,
   "id": "15899c0f",
   "metadata": {},
   "outputs": [],
   "source": [
    "def solution(cards1, cards2, goal):\n",
    "    for x in goal:\n",
    "        if len(cards1) and (x == cards1):\n",
    "            cards1.pop(0)\n",
    "        elif len(cards2) and (x == cards2):\n",
    "            cards2.pop(0)\n",
    "        else:\n",
    "            return \"No\"\n",
    "    return \"Yes\""
   ]
  },
  {
   "cell_type": "code",
   "execution_count": null,
   "id": "84aff03d",
   "metadata": {},
   "outputs": [],
   "source": []
  }
 ],
 "metadata": {
  "kernelspec": {
   "display_name": "Python 3 (ipykernel)",
   "language": "python",
   "name": "python3"
  },
  "language_info": {
   "codemirror_mode": {
    "name": "ipython",
    "version": 3
   },
   "file_extension": ".py",
   "mimetype": "text/x-python",
   "name": "python",
   "nbconvert_exporter": "python",
   "pygments_lexer": "ipython3",
   "version": "3.10.9"
  }
 },
 "nbformat": 4,
 "nbformat_minor": 5
}
