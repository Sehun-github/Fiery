{
 "cells": [
  {
   "cell_type": "code",
   "execution_count": 13,
   "id": "6a7bc5cd",
   "metadata": {},
   "outputs": [
    {
     "data": {
      "text/plain": [
       "-1"
      ]
     },
     "execution_count": 13,
     "metadata": {},
     "output_type": "execute_result"
    }
   ],
   "source": [
    "import cv2\n",
    "import numpy as np\n",
    "\n",
    "# Function to calculate the number of pixels in the drawn rectangle\n",
    "def calculate_pixels(event, x, y, flags, params):\n",
    "    global image, drawing, start_x, start_y, end_x, end_y\n",
    "\n",
    "    # If the left mouse button is pressed, record the starting point of the rectangle\n",
    "    if event == cv2.EVENT_LBUTTONDOWN:\n",
    "        drawing = True\n",
    "        start_x, start_y = x, y\n",
    "\n",
    "    # If the mouse is moved while the left button is pressed, update the ending point of the rectangle\n",
    "    elif event == cv2.EVENT_MOUSEMOVE:\n",
    "        if drawing:\n",
    "            end_x, end_y = x, y\n",
    "\n",
    "    # If the left mouse button is released, calculate the number of pixels in the drawn rectangle\n",
    "    elif event == cv2.EVENT_LBUTTONUP:\n",
    "        drawing = False\n",
    "        cv2.rectangle(image, (start_x, start_y), (end_x, end_y), (0, 255, 0), 2)\n",
    "        cv2.imshow('Image', image)\n",
    "        # Calculate the number of pixels in the drawn rectangle\n",
    "        num_pixels = (end_x - start_x) * (end_y - start_y)\n",
    "        cv2.putText(image, f'Pixels: {num_pixels}', (start_x, start_y - 10), cv2.FONT_HERSHEY_SIMPLEX, 0.5, (0, 255, 0), 1, cv2.LINE_AA)\n",
    "        cv2.imshow('Image', image)\n",
    "\n",
    "# Load the image\n",
    "image_path = r\"C:\\Users\\admin\\Desktop\\공모전\\2024 한국정책학회 사회문제 해커톤\\초등학교사진\\서울덕수초등학교.png\"\n",
    "\n",
    "# 한글 경로를 할 경우 깨지는 것을 방지\n",
    "ff = np.fromfile(image_path, np.uint8)\n",
    "image = cv2.imdecode(ff, cv2.IMREAD_UNCHANGED) # img = array\n",
    "\n",
    "# Create a window to display the image\n",
    "cv2.namedWindow('Image')\n",
    "cv2.imshow('Image', image)\n",
    "\n",
    "# Set up mouse event callback function\n",
    "cv2.setMouseCallback('Image', calculate_pixels)\n",
    "\n",
    "# Initialize variables\n",
    "drawing = False\n",
    "start_x, start_y = -1, -1\n",
    "end_x, end_y = -1, -1\n",
    "\n",
    "# Wait for the user to draw a rectangle and press any key to exit\n",
    "cv2.waitKey(0)"
   ]
  },
  {
   "cell_type": "code",
   "execution_count": null,
   "id": "cea70c70",
   "metadata": {},
   "outputs": [],
   "source": []
  }
 ],
 "metadata": {
  "kernelspec": {
   "display_name": "Python 3 (ipykernel)",
   "language": "python",
   "name": "python3"
  },
  "language_info": {
   "codemirror_mode": {
    "name": "ipython",
    "version": 3
   },
   "file_extension": ".py",
   "mimetype": "text/x-python",
   "name": "python",
   "nbconvert_exporter": "python",
   "pygments_lexer": "ipython3",
   "version": "3.9.13"
  },
  "toc": {
   "base_numbering": 1,
   "nav_menu": {},
   "number_sections": true,
   "sideBar": true,
   "skip_h1_title": false,
   "title_cell": "Table of Contents",
   "title_sidebar": "Contents",
   "toc_cell": false,
   "toc_position": {},
   "toc_section_display": true,
   "toc_window_display": false
  }
 },
 "nbformat": 4,
 "nbformat_minor": 5
}
